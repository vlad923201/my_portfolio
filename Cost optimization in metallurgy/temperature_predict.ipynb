{
 "cells": [
  {
   "cell_type": "markdown",
   "id": "74280e67",
   "metadata": {},
   "source": [
    "# Проект в области промышленности\n",
    "\n",
    "Чтобы оптимизировать производственные расходы, металлургический комбинат ООО «Так закаляем сталь» решил уменьшить потребление электроэнергии на этапе обработки стали. Предстоит построить модель, которая предскажет температуру стали.  \n",
    "Предсказание температуры стали сможет улутшить энергоэфективность предприятия и тем самым избежать перерасходов на электричество. Температура необходимая для плавления стали 1450 градусов цельсия, все показатели которые выше уже перерасход энергии.\n"
   ]
  },
  {
   "cell_type": "markdown",
   "id": "37dc3ad9",
   "metadata": {},
   "source": [
    "# План проекта\n",
    "### Часть 1: первичный анализ данных  \n",
    "    - План работ по всему проекту.\n",
    "    - Изучить данные и обнаружить особенности в данных (выбросы/пропуски/нормальность распределения/)  \n",
    "    - Составить графический анализ данных\n",
    "    - Использование методов заполнения пропусков выявленных в данных  \n",
    "    - Объединение данных в один фрейм  \n",
    "    - Определение таргета и факторов  \n",
    "### Часть 2: построение самой модели.  \n",
    "    - Поиск лучшей модели для данной задачи  \n",
    "    - Использование подбора гиперпараметров  \n",
    "    - Анализ важности факторов модели\n",
    "    - Проверка на мультиколлиниарность\n",
    "### Часть 3: отчёт о проделанной работе."
   ]
  },
  {
   "cell_type": "markdown",
   "id": "fcb68862",
   "metadata": {},
   "source": [
    "# Импортируем библиотеки"
   ]
  },
  {
   "cell_type": "code",
   "execution_count": 1,
   "id": "4cfb955e",
   "metadata": {},
   "outputs": [],
   "source": [
    "import itertools\n",
    "import os\n",
    "import time\n",
    "\n",
    "import matplotlib.pyplot as plt\n",
    "import numpy as np\n",
    "import pandas as pd\n",
    "import seaborn as sns\n",
    "from catboost import CatBoostRegressor, Pool\n",
    "from lightgbm import LGBMRegressor, plot_importance\n",
    "from sklearn.dummy import DummyRegressor\n",
    "from sklearn.ensemble import RandomForestRegressor\n",
    "from sklearn.linear_model import LinearRegression\n",
    "from sklearn.metrics import mean_absolute_error\n",
    "from sklearn.model_selection import (RandomizedSearchCV, cross_val_score,\n",
    "                                     train_test_split)\n",
    "from sklearn.preprocessing import OneHotEncoder, StandardScaler\n",
    "from tqdm import tqdm"
   ]
  },
  {
   "cell_type": "markdown",
   "id": "b368dab7",
   "metadata": {},
   "source": [
    "# Подготовка данных"
   ]
  },
  {
   "cell_type": "code",
   "execution_count": 2,
   "id": "e0b49b39",
   "metadata": {},
   "outputs": [],
   "source": [
    "# Функция загрузки данных, использующая словарь путей\n",
    "def load_data(file_keys):\n",
    "    primary_path, backup_path = data_paths[file_keys]\n",
    "    try:\n",
    "        df = pd.read_csv(primary_path, na_values=' ')\n",
    "    except FileNotFoundError:\n",
    "        try:\n",
    "            df = pd.read_csv(backup_path, na_values=' ')\n",
    "        except FileNotFoundError:\n",
    "            raise FileNotFoundError(f'Файлы {file_keys} не найдены по обоим путям.')\n",
    "    return df"
   ]
  },
  {
   "cell_type": "code",
   "execution_count": 3,
   "id": "86789015",
   "metadata": {},
   "outputs": [],
   "source": [
    "# Определение путей к файлам в виде словаря\n",
    "data_paths = {\n",
    "    'arc': ('data_arc_new.csv', '/datasets/data_arc_new.csv'),\n",
    "    'bulk': ('data_bulk_new.csv', '/datasets/data_bulk_new.csv'),\n",
    "    'bulk_time': ('data_bulk_time_new.csv', '/datasets/data_bulk_time_new.csv'),\n",
    "    'gas': ('data_gas_new.csv', '/datasets/data_gas_new.csv'),\n",
    "    'temp': ('data_temp_new.csv', '/datasets/data_temp_new.csv'),\n",
    "    'wire': ('data_wire_new.csv', '/datasets/data_wire_new.csv'),\n",
    "    'wire_time': ('data_wire_time_new.csv', '/datasets/data_wire_time_new.csv'),\n",
    "}"
   ]
  },
  {
   "cell_type": "code",
   "execution_count": 4,
   "id": "87e88657",
   "metadata": {},
   "outputs": [],
   "source": [
    "# Загружаем файлы в переменные с помощью функции\n",
    "df_a = load_data('arc')\n",
    "df_b = load_data('bulk')\n",
    "df_bt = load_data('bulk_time')\n",
    "df_g = load_data('gas')\n",
    "df_t = load_data('temp')\n",
    "df_w = load_data('wire')\n",
    "df_wt = load_data('wire_time')"
   ]
  },
  {
   "cell_type": "code",
   "execution_count": 5,
   "id": "6bce1d44",
   "metadata": {},
   "outputs": [
    {
     "name": "stdout",
     "output_type": "stream",
     "text": [
      "<class 'pandas.core.frame.DataFrame'>\n",
      "RangeIndex: 14876 entries, 0 to 14875\n",
      "Data columns (total 5 columns):\n",
      " #   Column                Non-Null Count  Dtype  \n",
      "---  ------                --------------  -----  \n",
      " 0   key                   14876 non-null  int64  \n",
      " 1   Начало нагрева дугой  14876 non-null  object \n",
      " 2   Конец нагрева дугой   14876 non-null  object \n",
      " 3   Активная мощность     14876 non-null  float64\n",
      " 4   Реактивная мощность   14876 non-null  float64\n",
      "dtypes: float64(2), int64(1), object(2)\n",
      "memory usage: 581.2+ KB\n"
     ]
    },
    {
     "data": {
      "text/html": [
       "<div>\n",
       "<style scoped>\n",
       "    .dataframe tbody tr th:only-of-type {\n",
       "        vertical-align: middle;\n",
       "    }\n",
       "\n",
       "    .dataframe tbody tr th {\n",
       "        vertical-align: top;\n",
       "    }\n",
       "\n",
       "    .dataframe thead th {\n",
       "        text-align: right;\n",
       "    }\n",
       "</style>\n",
       "<table border=\"1\" class=\"dataframe\">\n",
       "  <thead>\n",
       "    <tr style=\"text-align: right;\">\n",
       "      <th></th>\n",
       "      <th>key</th>\n",
       "      <th>Начало нагрева дугой</th>\n",
       "      <th>Конец нагрева дугой</th>\n",
       "      <th>Активная мощность</th>\n",
       "      <th>Реактивная мощность</th>\n",
       "    </tr>\n",
       "  </thead>\n",
       "  <tbody>\n",
       "    <tr>\n",
       "      <th>0</th>\n",
       "      <td>1</td>\n",
       "      <td>2019-05-03 11:02:14</td>\n",
       "      <td>2019-05-03 11:06:02</td>\n",
       "      <td>0.305130</td>\n",
       "      <td>0.211253</td>\n",
       "    </tr>\n",
       "    <tr>\n",
       "      <th>1</th>\n",
       "      <td>1</td>\n",
       "      <td>2019-05-03 11:07:28</td>\n",
       "      <td>2019-05-03 11:10:33</td>\n",
       "      <td>0.765658</td>\n",
       "      <td>0.477438</td>\n",
       "    </tr>\n",
       "    <tr>\n",
       "      <th>2</th>\n",
       "      <td>1</td>\n",
       "      <td>2019-05-03 11:11:44</td>\n",
       "      <td>2019-05-03 11:14:36</td>\n",
       "      <td>0.580313</td>\n",
       "      <td>0.430460</td>\n",
       "    </tr>\n",
       "    <tr>\n",
       "      <th>3</th>\n",
       "      <td>1</td>\n",
       "      <td>2019-05-03 11:18:14</td>\n",
       "      <td>2019-05-03 11:24:19</td>\n",
       "      <td>0.518496</td>\n",
       "      <td>0.379979</td>\n",
       "    </tr>\n",
       "    <tr>\n",
       "      <th>4</th>\n",
       "      <td>1</td>\n",
       "      <td>2019-05-03 11:26:09</td>\n",
       "      <td>2019-05-03 11:28:37</td>\n",
       "      <td>0.867133</td>\n",
       "      <td>0.643691</td>\n",
       "    </tr>\n",
       "  </tbody>\n",
       "</table>\n",
       "</div>"
      ],
      "text/plain": [
       "   key Начало нагрева дугой  Конец нагрева дугой  Активная мощность  \\\n",
       "0    1  2019-05-03 11:02:14  2019-05-03 11:06:02           0.305130   \n",
       "1    1  2019-05-03 11:07:28  2019-05-03 11:10:33           0.765658   \n",
       "2    1  2019-05-03 11:11:44  2019-05-03 11:14:36           0.580313   \n",
       "3    1  2019-05-03 11:18:14  2019-05-03 11:24:19           0.518496   \n",
       "4    1  2019-05-03 11:26:09  2019-05-03 11:28:37           0.867133   \n",
       "\n",
       "   Реактивная мощность  \n",
       "0             0.211253  \n",
       "1             0.477438  \n",
       "2             0.430460  \n",
       "3             0.379979  \n",
       "4             0.643691  "
      ]
     },
     "execution_count": 5,
     "metadata": {},
     "output_type": "execute_result"
    }
   ],
   "source": [
    "# анализируем типы данных, наличие пропусков и колличество строк \n",
    "df_a.info()\n",
    "\n",
    "# смотрим содержание дата сета на примере первых 5 строк\n",
    "df_a.head(5)"
   ]
  },
  {
   "cell_type": "code",
   "execution_count": 6,
   "id": "ff808841",
   "metadata": {},
   "outputs": [],
   "source": [
    "# переименовываем колоннки согласно PIP 8\n",
    "df_a = df_a.rename(columns={'Начало нагрева дугой': 'start_heating',\n",
    "                            'Конец нагрева дугой': 'end_heating',\n",
    "                            'Активная мощность': 'p_power',\n",
    "                            'Реактивная мощность': 'q_power'})\n",
    "\n",
    "# Меняем тип данных на дату\n",
    "df_a['start_heating'] = pd.to_datetime(df_a['start_heating'])\n",
    "df_a['end_heating'] = pd.to_datetime(df_a['end_heating'])"
   ]
  },
  {
   "cell_type": "code",
   "execution_count": 7,
   "id": "216e3b24",
   "metadata": {},
   "outputs": [
    {
     "data": {
      "text/html": [
       "<div>\n",
       "<style scoped>\n",
       "    .dataframe tbody tr th:only-of-type {\n",
       "        vertical-align: middle;\n",
       "    }\n",
       "\n",
       "    .dataframe tbody tr th {\n",
       "        vertical-align: top;\n",
       "    }\n",
       "\n",
       "    .dataframe thead th {\n",
       "        text-align: right;\n",
       "    }\n",
       "</style>\n",
       "<table border=\"1\" class=\"dataframe\">\n",
       "  <thead>\n",
       "    <tr style=\"text-align: right;\">\n",
       "      <th></th>\n",
       "      <th>key</th>\n",
       "      <th>p_power</th>\n",
       "      <th>q_power</th>\n",
       "    </tr>\n",
       "  </thead>\n",
       "  <tbody>\n",
       "    <tr>\n",
       "      <th>count</th>\n",
       "      <td>14876.000000</td>\n",
       "      <td>14876.000000</td>\n",
       "      <td>14876.000000</td>\n",
       "    </tr>\n",
       "    <tr>\n",
       "      <th>mean</th>\n",
       "      <td>1615.220422</td>\n",
       "      <td>0.662752</td>\n",
       "      <td>0.438986</td>\n",
       "    </tr>\n",
       "    <tr>\n",
       "      <th>std</th>\n",
       "      <td>934.571502</td>\n",
       "      <td>0.258885</td>\n",
       "      <td>5.873485</td>\n",
       "    </tr>\n",
       "    <tr>\n",
       "      <th>min</th>\n",
       "      <td>1.000000</td>\n",
       "      <td>0.223120</td>\n",
       "      <td>-715.479924</td>\n",
       "    </tr>\n",
       "    <tr>\n",
       "      <th>25%</th>\n",
       "      <td>806.000000</td>\n",
       "      <td>0.467115</td>\n",
       "      <td>0.337175</td>\n",
       "    </tr>\n",
       "    <tr>\n",
       "      <th>50%</th>\n",
       "      <td>1617.000000</td>\n",
       "      <td>0.599587</td>\n",
       "      <td>0.441639</td>\n",
       "    </tr>\n",
       "    <tr>\n",
       "      <th>75%</th>\n",
       "      <td>2429.000000</td>\n",
       "      <td>0.830070</td>\n",
       "      <td>0.608201</td>\n",
       "    </tr>\n",
       "    <tr>\n",
       "      <th>max</th>\n",
       "      <td>3241.000000</td>\n",
       "      <td>1.463773</td>\n",
       "      <td>1.270284</td>\n",
       "    </tr>\n",
       "  </tbody>\n",
       "</table>\n",
       "</div>"
      ],
      "text/plain": [
       "                key       p_power       q_power\n",
       "count  14876.000000  14876.000000  14876.000000\n",
       "mean    1615.220422      0.662752      0.438986\n",
       "std      934.571502      0.258885      5.873485\n",
       "min        1.000000      0.223120   -715.479924\n",
       "25%      806.000000      0.467115      0.337175\n",
       "50%     1617.000000      0.599587      0.441639\n",
       "75%     2429.000000      0.830070      0.608201\n",
       "max     3241.000000      1.463773      1.270284"
      ]
     },
     "execution_count": 7,
     "metadata": {},
     "output_type": "execute_result"
    }
   ],
   "source": [
    "# смотрим статистические данные выборки\n",
    "df_a.describe()"
   ]
  },
  {
   "cell_type": "markdown",
   "id": "7fbd5c7a",
   "metadata": {},
   "source": [
    "#### Вывод: \n",
    "- В данных есть тайм линия начала и конца нагревателя, эти данные можно преобразовать в время работы нагревателя. \n",
    "- Так же в данных присутсвтвуют значения мощности активной и реактивной которую можно объеденить в одну величину общую мощность по формуле. \n",
    "- Исходя из выше перечисленных особеносстей данных можно создать отдельную фактор(фичу) - Мощность измеряемую в кВт* час.  - Для этого общую мощность делим на 3600 и умножаем на сек работы нагревателя. Тем самым в данных останутся потребляемая мощность и время работы. \n",
    "- Так же сгрупируем данные по партиям (key)."
   ]
  },
  {
   "cell_type": "code",
   "execution_count": 8,
   "id": "432b34b9",
   "metadata": {},
   "outputs": [
    {
     "name": "stdout",
     "output_type": "stream",
     "text": [
      "<class 'pandas.core.frame.DataFrame'>\n",
      "RangeIndex: 18092 entries, 0 to 18091\n",
      "Data columns (total 3 columns):\n",
      " #   Column        Non-Null Count  Dtype  \n",
      "---  ------        --------------  -----  \n",
      " 0   key           18092 non-null  int64  \n",
      " 1   Время замера  18092 non-null  object \n",
      " 2   Температура   14665 non-null  float64\n",
      "dtypes: float64(1), int64(1), object(1)\n",
      "memory usage: 424.2+ KB\n"
     ]
    },
    {
     "data": {
      "text/html": [
       "<div>\n",
       "<style scoped>\n",
       "    .dataframe tbody tr th:only-of-type {\n",
       "        vertical-align: middle;\n",
       "    }\n",
       "\n",
       "    .dataframe tbody tr th {\n",
       "        vertical-align: top;\n",
       "    }\n",
       "\n",
       "    .dataframe thead th {\n",
       "        text-align: right;\n",
       "    }\n",
       "</style>\n",
       "<table border=\"1\" class=\"dataframe\">\n",
       "  <thead>\n",
       "    <tr style=\"text-align: right;\">\n",
       "      <th></th>\n",
       "      <th>key</th>\n",
       "      <th>Время замера</th>\n",
       "      <th>Температура</th>\n",
       "    </tr>\n",
       "  </thead>\n",
       "  <tbody>\n",
       "    <tr>\n",
       "      <th>0</th>\n",
       "      <td>1</td>\n",
       "      <td>2019-05-03 11:02:04</td>\n",
       "      <td>1571.0</td>\n",
       "    </tr>\n",
       "    <tr>\n",
       "      <th>1</th>\n",
       "      <td>1</td>\n",
       "      <td>2019-05-03 11:07:18</td>\n",
       "      <td>1604.0</td>\n",
       "    </tr>\n",
       "    <tr>\n",
       "      <th>2</th>\n",
       "      <td>1</td>\n",
       "      <td>2019-05-03 11:11:34</td>\n",
       "      <td>1618.0</td>\n",
       "    </tr>\n",
       "    <tr>\n",
       "      <th>3</th>\n",
       "      <td>1</td>\n",
       "      <td>2019-05-03 11:18:04</td>\n",
       "      <td>1601.0</td>\n",
       "    </tr>\n",
       "    <tr>\n",
       "      <th>4</th>\n",
       "      <td>1</td>\n",
       "      <td>2019-05-03 11:25:59</td>\n",
       "      <td>1606.0</td>\n",
       "    </tr>\n",
       "  </tbody>\n",
       "</table>\n",
       "</div>"
      ],
      "text/plain": [
       "   key         Время замера  Температура\n",
       "0    1  2019-05-03 11:02:04       1571.0\n",
       "1    1  2019-05-03 11:07:18       1604.0\n",
       "2    1  2019-05-03 11:11:34       1618.0\n",
       "3    1  2019-05-03 11:18:04       1601.0\n",
       "4    1  2019-05-03 11:25:59       1606.0"
      ]
     },
     "execution_count": 8,
     "metadata": {},
     "output_type": "execute_result"
    }
   ],
   "source": [
    "# анализируем типы данных, наличие пропусков и колличество строк \n",
    "df_t.info()\n",
    "\n",
    "# смотрим содержание дата сета на примере первых 5 строк\n",
    "df_t.head()"
   ]
  },
  {
   "cell_type": "code",
   "execution_count": 9,
   "id": "3e771d80",
   "metadata": {
    "scrolled": true
   },
   "outputs": [],
   "source": [
    "# переименовываем колоннки согласно PIP 8\n",
    "df_t = df_t.rename(columns={'Температура': 'temp'})\n",
    "\n",
    "# удаляем не информативные данные\n",
    "df_t = df_t.drop(['Время замера'], axis = 1)"
   ]
  },
  {
   "cell_type": "code",
   "execution_count": 10,
   "id": "30f48f74",
   "metadata": {},
   "outputs": [
    {
     "data": {
      "text/html": [
       "<div>\n",
       "<style scoped>\n",
       "    .dataframe tbody tr th:only-of-type {\n",
       "        vertical-align: middle;\n",
       "    }\n",
       "\n",
       "    .dataframe tbody tr th {\n",
       "        vertical-align: top;\n",
       "    }\n",
       "\n",
       "    .dataframe thead th {\n",
       "        text-align: right;\n",
       "    }\n",
       "</style>\n",
       "<table border=\"1\" class=\"dataframe\">\n",
       "  <thead>\n",
       "    <tr style=\"text-align: right;\">\n",
       "      <th></th>\n",
       "      <th>key</th>\n",
       "      <th>temp</th>\n",
       "    </tr>\n",
       "  </thead>\n",
       "  <tbody>\n",
       "    <tr>\n",
       "      <th>count</th>\n",
       "      <td>18092.000000</td>\n",
       "      <td>14665.000000</td>\n",
       "    </tr>\n",
       "    <tr>\n",
       "      <th>mean</th>\n",
       "      <td>1616.460977</td>\n",
       "      <td>1590.722741</td>\n",
       "    </tr>\n",
       "    <tr>\n",
       "      <th>std</th>\n",
       "      <td>934.641385</td>\n",
       "      <td>20.394381</td>\n",
       "    </tr>\n",
       "    <tr>\n",
       "      <th>min</th>\n",
       "      <td>1.000000</td>\n",
       "      <td>1191.000000</td>\n",
       "    </tr>\n",
       "    <tr>\n",
       "      <th>25%</th>\n",
       "      <td>807.750000</td>\n",
       "      <td>1580.000000</td>\n",
       "    </tr>\n",
       "    <tr>\n",
       "      <th>50%</th>\n",
       "      <td>1618.000000</td>\n",
       "      <td>1590.000000</td>\n",
       "    </tr>\n",
       "    <tr>\n",
       "      <th>75%</th>\n",
       "      <td>2429.000000</td>\n",
       "      <td>1599.000000</td>\n",
       "    </tr>\n",
       "    <tr>\n",
       "      <th>max</th>\n",
       "      <td>3241.000000</td>\n",
       "      <td>1705.000000</td>\n",
       "    </tr>\n",
       "  </tbody>\n",
       "</table>\n",
       "</div>"
      ],
      "text/plain": [
       "                key          temp\n",
       "count  18092.000000  14665.000000\n",
       "mean    1616.460977   1590.722741\n",
       "std      934.641385     20.394381\n",
       "min        1.000000   1191.000000\n",
       "25%      807.750000   1580.000000\n",
       "50%     1618.000000   1590.000000\n",
       "75%     2429.000000   1599.000000\n",
       "max     3241.000000   1705.000000"
      ]
     },
     "execution_count": 10,
     "metadata": {},
     "output_type": "execute_result"
    }
   ],
   "source": [
    "# смотрим статистические данные выборки\n",
    "df_t.describe()"
   ]
  },
  {
   "cell_type": "markdown",
   "id": "52a08041",
   "metadata": {},
   "source": [
    "#### Вывод: \n",
    "- В данных по температеру есть пропуски\n",
    "- Партии(кеу) в который нет измерений целиком можно удалить\n",
    "- Так же необходимо обьеденить все данные по партиям оставить лишь начальную температуру и конечную\n",
    "- Таргетом как раз будет конечная температура для каждой партии\n",
    "- Все остальные фреймы будем присоединять к этому, что бы избезать потерь таргета."
   ]
  },
  {
   "cell_type": "code",
   "execution_count": 11,
   "id": "495fd6f3",
   "metadata": {},
   "outputs": [
    {
     "name": "stdout",
     "output_type": "stream",
     "text": [
      "<class 'pandas.core.frame.DataFrame'>\n",
      "RangeIndex: 3129 entries, 0 to 3128\n",
      "Data columns (total 16 columns):\n",
      " #   Column   Non-Null Count  Dtype  \n",
      "---  ------   --------------  -----  \n",
      " 0   key      3129 non-null   int64  \n",
      " 1   Bulk 1   252 non-null    float64\n",
      " 2   Bulk 2   22 non-null     float64\n",
      " 3   Bulk 3   1298 non-null   float64\n",
      " 4   Bulk 4   1014 non-null   float64\n",
      " 5   Bulk 5   77 non-null     float64\n",
      " 6   Bulk 6   576 non-null    float64\n",
      " 7   Bulk 7   25 non-null     float64\n",
      " 8   Bulk 8   1 non-null      float64\n",
      " 9   Bulk 9   19 non-null     float64\n",
      " 10  Bulk 10  176 non-null    float64\n",
      " 11  Bulk 11  177 non-null    float64\n",
      " 12  Bulk 12  2450 non-null   float64\n",
      " 13  Bulk 13  18 non-null     float64\n",
      " 14  Bulk 14  2806 non-null   float64\n",
      " 15  Bulk 15  2248 non-null   float64\n",
      "dtypes: float64(15), int64(1)\n",
      "memory usage: 391.2 KB\n"
     ]
    },
    {
     "data": {
      "text/html": [
       "<div>\n",
       "<style scoped>\n",
       "    .dataframe tbody tr th:only-of-type {\n",
       "        vertical-align: middle;\n",
       "    }\n",
       "\n",
       "    .dataframe tbody tr th {\n",
       "        vertical-align: top;\n",
       "    }\n",
       "\n",
       "    .dataframe thead th {\n",
       "        text-align: right;\n",
       "    }\n",
       "</style>\n",
       "<table border=\"1\" class=\"dataframe\">\n",
       "  <thead>\n",
       "    <tr style=\"text-align: right;\">\n",
       "      <th></th>\n",
       "      <th>key</th>\n",
       "      <th>Bulk 1</th>\n",
       "      <th>Bulk 2</th>\n",
       "      <th>Bulk 3</th>\n",
       "      <th>Bulk 4</th>\n",
       "      <th>Bulk 5</th>\n",
       "      <th>Bulk 6</th>\n",
       "      <th>Bulk 7</th>\n",
       "      <th>Bulk 8</th>\n",
       "      <th>Bulk 9</th>\n",
       "      <th>Bulk 10</th>\n",
       "      <th>Bulk 11</th>\n",
       "      <th>Bulk 12</th>\n",
       "      <th>Bulk 13</th>\n",
       "      <th>Bulk 14</th>\n",
       "      <th>Bulk 15</th>\n",
       "    </tr>\n",
       "  </thead>\n",
       "  <tbody>\n",
       "    <tr>\n",
       "      <th>0</th>\n",
       "      <td>1</td>\n",
       "      <td>NaN</td>\n",
       "      <td>NaN</td>\n",
       "      <td>NaN</td>\n",
       "      <td>43.0</td>\n",
       "      <td>NaN</td>\n",
       "      <td>NaN</td>\n",
       "      <td>NaN</td>\n",
       "      <td>NaN</td>\n",
       "      <td>NaN</td>\n",
       "      <td>NaN</td>\n",
       "      <td>NaN</td>\n",
       "      <td>206.0</td>\n",
       "      <td>NaN</td>\n",
       "      <td>150.0</td>\n",
       "      <td>154.0</td>\n",
       "    </tr>\n",
       "  </tbody>\n",
       "</table>\n",
       "</div>"
      ],
      "text/plain": [
       "   key  Bulk 1  Bulk 2  Bulk 3  Bulk 4  Bulk 5  Bulk 6  Bulk 7  Bulk 8  \\\n",
       "0    1     NaN     NaN     NaN    43.0     NaN     NaN     NaN     NaN   \n",
       "\n",
       "   Bulk 9  Bulk 10  Bulk 11  Bulk 12  Bulk 13  Bulk 14  Bulk 15  \n",
       "0     NaN      NaN      NaN    206.0      NaN    150.0    154.0  "
      ]
     },
     "execution_count": 11,
     "metadata": {},
     "output_type": "execute_result"
    }
   ],
   "source": [
    "# анализируем типы данных, наличие пропусков и колличество строк \n",
    "df_b.info()\n",
    "\n",
    "# смотрим содержание дата сета на примере первой строки\n",
    "df_b.head(1)"
   ]
  },
  {
   "cell_type": "code",
   "execution_count": 12,
   "id": "fd3bcb73",
   "metadata": {},
   "outputs": [
    {
     "data": {
      "text/html": [
       "<div>\n",
       "<style scoped>\n",
       "    .dataframe tbody tr th:only-of-type {\n",
       "        vertical-align: middle;\n",
       "    }\n",
       "\n",
       "    .dataframe tbody tr th {\n",
       "        vertical-align: top;\n",
       "    }\n",
       "\n",
       "    .dataframe thead th {\n",
       "        text-align: right;\n",
       "    }\n",
       "</style>\n",
       "<table border=\"1\" class=\"dataframe\">\n",
       "  <thead>\n",
       "    <tr style=\"text-align: right;\">\n",
       "      <th></th>\n",
       "      <th>key</th>\n",
       "      <th>Bulk 1</th>\n",
       "      <th>Bulk 2</th>\n",
       "      <th>Bulk 3</th>\n",
       "      <th>Bulk 4</th>\n",
       "      <th>Bulk 5</th>\n",
       "      <th>Bulk 6</th>\n",
       "      <th>Bulk 7</th>\n",
       "      <th>Bulk 8</th>\n",
       "      <th>Bulk 9</th>\n",
       "      <th>Bulk 10</th>\n",
       "      <th>Bulk 11</th>\n",
       "      <th>Bulk 12</th>\n",
       "      <th>Bulk 13</th>\n",
       "      <th>Bulk 14</th>\n",
       "      <th>Bulk 15</th>\n",
       "    </tr>\n",
       "  </thead>\n",
       "  <tbody>\n",
       "    <tr>\n",
       "      <th>count</th>\n",
       "      <td>3129.000000</td>\n",
       "      <td>252.000000</td>\n",
       "      <td>22.000000</td>\n",
       "      <td>1298.000000</td>\n",
       "      <td>1014.000000</td>\n",
       "      <td>77.000000</td>\n",
       "      <td>576.000000</td>\n",
       "      <td>25.000000</td>\n",
       "      <td>1.0</td>\n",
       "      <td>19.000000</td>\n",
       "      <td>176.000000</td>\n",
       "      <td>177.000000</td>\n",
       "      <td>2450.000000</td>\n",
       "      <td>18.000000</td>\n",
       "      <td>2806.000000</td>\n",
       "      <td>2248.000000</td>\n",
       "    </tr>\n",
       "    <tr>\n",
       "      <th>mean</th>\n",
       "      <td>1624.383509</td>\n",
       "      <td>39.242063</td>\n",
       "      <td>253.045455</td>\n",
       "      <td>113.879045</td>\n",
       "      <td>104.394477</td>\n",
       "      <td>107.025974</td>\n",
       "      <td>118.925347</td>\n",
       "      <td>305.600000</td>\n",
       "      <td>49.0</td>\n",
       "      <td>76.315789</td>\n",
       "      <td>83.284091</td>\n",
       "      <td>76.819209</td>\n",
       "      <td>260.471020</td>\n",
       "      <td>181.111111</td>\n",
       "      <td>170.284747</td>\n",
       "      <td>160.513345</td>\n",
       "    </tr>\n",
       "    <tr>\n",
       "      <th>std</th>\n",
       "      <td>933.337642</td>\n",
       "      <td>18.277654</td>\n",
       "      <td>21.180578</td>\n",
       "      <td>75.483494</td>\n",
       "      <td>48.184126</td>\n",
       "      <td>81.790646</td>\n",
       "      <td>72.057776</td>\n",
       "      <td>191.022904</td>\n",
       "      <td>NaN</td>\n",
       "      <td>21.720581</td>\n",
       "      <td>26.060347</td>\n",
       "      <td>59.655365</td>\n",
       "      <td>120.649269</td>\n",
       "      <td>46.088009</td>\n",
       "      <td>65.868652</td>\n",
       "      <td>51.765319</td>\n",
       "    </tr>\n",
       "    <tr>\n",
       "      <th>min</th>\n",
       "      <td>1.000000</td>\n",
       "      <td>10.000000</td>\n",
       "      <td>228.000000</td>\n",
       "      <td>6.000000</td>\n",
       "      <td>12.000000</td>\n",
       "      <td>11.000000</td>\n",
       "      <td>17.000000</td>\n",
       "      <td>47.000000</td>\n",
       "      <td>49.0</td>\n",
       "      <td>63.000000</td>\n",
       "      <td>24.000000</td>\n",
       "      <td>8.000000</td>\n",
       "      <td>53.000000</td>\n",
       "      <td>151.000000</td>\n",
       "      <td>16.000000</td>\n",
       "      <td>1.000000</td>\n",
       "    </tr>\n",
       "    <tr>\n",
       "      <th>25%</th>\n",
       "      <td>816.000000</td>\n",
       "      <td>27.000000</td>\n",
       "      <td>242.000000</td>\n",
       "      <td>58.000000</td>\n",
       "      <td>72.000000</td>\n",
       "      <td>70.000000</td>\n",
       "      <td>69.750000</td>\n",
       "      <td>155.000000</td>\n",
       "      <td>49.0</td>\n",
       "      <td>66.000000</td>\n",
       "      <td>64.000000</td>\n",
       "      <td>25.000000</td>\n",
       "      <td>204.000000</td>\n",
       "      <td>153.250000</td>\n",
       "      <td>119.000000</td>\n",
       "      <td>105.000000</td>\n",
       "    </tr>\n",
       "    <tr>\n",
       "      <th>50%</th>\n",
       "      <td>1622.000000</td>\n",
       "      <td>31.000000</td>\n",
       "      <td>251.500000</td>\n",
       "      <td>97.500000</td>\n",
       "      <td>102.000000</td>\n",
       "      <td>86.000000</td>\n",
       "      <td>100.000000</td>\n",
       "      <td>298.000000</td>\n",
       "      <td>49.0</td>\n",
       "      <td>68.000000</td>\n",
       "      <td>86.500000</td>\n",
       "      <td>64.000000</td>\n",
       "      <td>208.000000</td>\n",
       "      <td>155.500000</td>\n",
       "      <td>151.000000</td>\n",
       "      <td>160.000000</td>\n",
       "    </tr>\n",
       "    <tr>\n",
       "      <th>75%</th>\n",
       "      <td>2431.000000</td>\n",
       "      <td>46.000000</td>\n",
       "      <td>257.750000</td>\n",
       "      <td>152.000000</td>\n",
       "      <td>133.000000</td>\n",
       "      <td>132.000000</td>\n",
       "      <td>157.000000</td>\n",
       "      <td>406.000000</td>\n",
       "      <td>49.0</td>\n",
       "      <td>70.500000</td>\n",
       "      <td>102.000000</td>\n",
       "      <td>106.000000</td>\n",
       "      <td>316.000000</td>\n",
       "      <td>203.500000</td>\n",
       "      <td>205.750000</td>\n",
       "      <td>205.000000</td>\n",
       "    </tr>\n",
       "    <tr>\n",
       "      <th>max</th>\n",
       "      <td>3241.000000</td>\n",
       "      <td>185.000000</td>\n",
       "      <td>325.000000</td>\n",
       "      <td>454.000000</td>\n",
       "      <td>281.000000</td>\n",
       "      <td>603.000000</td>\n",
       "      <td>503.000000</td>\n",
       "      <td>772.000000</td>\n",
       "      <td>49.0</td>\n",
       "      <td>147.000000</td>\n",
       "      <td>159.000000</td>\n",
       "      <td>313.000000</td>\n",
       "      <td>1849.000000</td>\n",
       "      <td>305.000000</td>\n",
       "      <td>636.000000</td>\n",
       "      <td>405.000000</td>\n",
       "    </tr>\n",
       "  </tbody>\n",
       "</table>\n",
       "</div>"
      ],
      "text/plain": [
       "               key      Bulk 1      Bulk 2       Bulk 3       Bulk 4  \\\n",
       "count  3129.000000  252.000000   22.000000  1298.000000  1014.000000   \n",
       "mean   1624.383509   39.242063  253.045455   113.879045   104.394477   \n",
       "std     933.337642   18.277654   21.180578    75.483494    48.184126   \n",
       "min       1.000000   10.000000  228.000000     6.000000    12.000000   \n",
       "25%     816.000000   27.000000  242.000000    58.000000    72.000000   \n",
       "50%    1622.000000   31.000000  251.500000    97.500000   102.000000   \n",
       "75%    2431.000000   46.000000  257.750000   152.000000   133.000000   \n",
       "max    3241.000000  185.000000  325.000000   454.000000   281.000000   \n",
       "\n",
       "           Bulk 5      Bulk 6      Bulk 7  Bulk 8      Bulk 9     Bulk 10  \\\n",
       "count   77.000000  576.000000   25.000000     1.0   19.000000  176.000000   \n",
       "mean   107.025974  118.925347  305.600000    49.0   76.315789   83.284091   \n",
       "std     81.790646   72.057776  191.022904     NaN   21.720581   26.060347   \n",
       "min     11.000000   17.000000   47.000000    49.0   63.000000   24.000000   \n",
       "25%     70.000000   69.750000  155.000000    49.0   66.000000   64.000000   \n",
       "50%     86.000000  100.000000  298.000000    49.0   68.000000   86.500000   \n",
       "75%    132.000000  157.000000  406.000000    49.0   70.500000  102.000000   \n",
       "max    603.000000  503.000000  772.000000    49.0  147.000000  159.000000   \n",
       "\n",
       "          Bulk 11      Bulk 12     Bulk 13      Bulk 14      Bulk 15  \n",
       "count  177.000000  2450.000000   18.000000  2806.000000  2248.000000  \n",
       "mean    76.819209   260.471020  181.111111   170.284747   160.513345  \n",
       "std     59.655365   120.649269   46.088009    65.868652    51.765319  \n",
       "min      8.000000    53.000000  151.000000    16.000000     1.000000  \n",
       "25%     25.000000   204.000000  153.250000   119.000000   105.000000  \n",
       "50%     64.000000   208.000000  155.500000   151.000000   160.000000  \n",
       "75%    106.000000   316.000000  203.500000   205.750000   205.000000  \n",
       "max    313.000000  1849.000000  305.000000   636.000000   405.000000  "
      ]
     },
     "execution_count": 12,
     "metadata": {},
     "output_type": "execute_result"
    }
   ],
   "source": [
    "# смотрим статистические данные выборки\n",
    "df_b.describe()"
   ]
  },
  {
   "cell_type": "markdown",
   "id": "187f7ee6",
   "metadata": {},
   "source": [
    "#### Вывод:\n",
    "- В этих данных можно обнаружить разные пресадки использовавшиеся в разнх партиях. Есть идея, что их можно объеденить по кол-ву использования, те что используются реже обеденить в одну пресадку, тем самым получим 6 видов пресадок вместо 15, и должны пропасть полностью пропуски поле этого преобразования."
   ]
  },
  {
   "cell_type": "code",
   "execution_count": 13,
   "id": "5e739778",
   "metadata": {},
   "outputs": [
    {
     "name": "stdout",
     "output_type": "stream",
     "text": [
      "<class 'pandas.core.frame.DataFrame'>\n",
      "RangeIndex: 3129 entries, 0 to 3128\n",
      "Data columns (total 16 columns):\n",
      " #   Column   Non-Null Count  Dtype \n",
      "---  ------   --------------  ----- \n",
      " 0   key      3129 non-null   int64 \n",
      " 1   Bulk 1   252 non-null    object\n",
      " 2   Bulk 2   22 non-null     object\n",
      " 3   Bulk 3   1298 non-null   object\n",
      " 4   Bulk 4   1014 non-null   object\n",
      " 5   Bulk 5   77 non-null     object\n",
      " 6   Bulk 6   576 non-null    object\n",
      " 7   Bulk 7   25 non-null     object\n",
      " 8   Bulk 8   1 non-null      object\n",
      " 9   Bulk 9   19 non-null     object\n",
      " 10  Bulk 10  176 non-null    object\n",
      " 11  Bulk 11  177 non-null    object\n",
      " 12  Bulk 12  2450 non-null   object\n",
      " 13  Bulk 13  18 non-null     object\n",
      " 14  Bulk 14  2806 non-null   object\n",
      " 15  Bulk 15  2248 non-null   object\n",
      "dtypes: int64(1), object(15)\n",
      "memory usage: 391.2+ KB\n"
     ]
    },
    {
     "data": {
      "text/html": [
       "<div>\n",
       "<style scoped>\n",
       "    .dataframe tbody tr th:only-of-type {\n",
       "        vertical-align: middle;\n",
       "    }\n",
       "\n",
       "    .dataframe tbody tr th {\n",
       "        vertical-align: top;\n",
       "    }\n",
       "\n",
       "    .dataframe thead th {\n",
       "        text-align: right;\n",
       "    }\n",
       "</style>\n",
       "<table border=\"1\" class=\"dataframe\">\n",
       "  <thead>\n",
       "    <tr style=\"text-align: right;\">\n",
       "      <th></th>\n",
       "      <th>key</th>\n",
       "      <th>Bulk 1</th>\n",
       "      <th>Bulk 2</th>\n",
       "      <th>Bulk 3</th>\n",
       "      <th>Bulk 4</th>\n",
       "      <th>Bulk 5</th>\n",
       "      <th>Bulk 6</th>\n",
       "      <th>Bulk 7</th>\n",
       "      <th>Bulk 8</th>\n",
       "      <th>Bulk 9</th>\n",
       "      <th>Bulk 10</th>\n",
       "      <th>Bulk 11</th>\n",
       "      <th>Bulk 12</th>\n",
       "      <th>Bulk 13</th>\n",
       "      <th>Bulk 14</th>\n",
       "      <th>Bulk 15</th>\n",
       "    </tr>\n",
       "  </thead>\n",
       "  <tbody>\n",
       "    <tr>\n",
       "      <th>0</th>\n",
       "      <td>1</td>\n",
       "      <td>NaN</td>\n",
       "      <td>NaN</td>\n",
       "      <td>NaN</td>\n",
       "      <td>2019-05-03 11:28:48</td>\n",
       "      <td>NaN</td>\n",
       "      <td>NaN</td>\n",
       "      <td>NaN</td>\n",
       "      <td>NaN</td>\n",
       "      <td>NaN</td>\n",
       "      <td>NaN</td>\n",
       "      <td>NaN</td>\n",
       "      <td>2019-05-03 11:24:31</td>\n",
       "      <td>NaN</td>\n",
       "      <td>2019-05-03 11:14:50</td>\n",
       "      <td>2019-05-03 11:10:43</td>\n",
       "    </tr>\n",
       "  </tbody>\n",
       "</table>\n",
       "</div>"
      ],
      "text/plain": [
       "   key Bulk 1 Bulk 2 Bulk 3               Bulk 4 Bulk 5 Bulk 6 Bulk 7 Bulk 8  \\\n",
       "0    1    NaN    NaN    NaN  2019-05-03 11:28:48    NaN    NaN    NaN    NaN   \n",
       "\n",
       "  Bulk 9 Bulk 10 Bulk 11              Bulk 12 Bulk 13              Bulk 14  \\\n",
       "0    NaN     NaN     NaN  2019-05-03 11:24:31     NaN  2019-05-03 11:14:50   \n",
       "\n",
       "               Bulk 15  \n",
       "0  2019-05-03 11:10:43  "
      ]
     },
     "execution_count": 13,
     "metadata": {},
     "output_type": "execute_result"
    }
   ],
   "source": [
    "# анализируем типы данных, наличие пропусков и колличество строк \n",
    "df_bt.info()\n",
    "\n",
    "# смотрим содержание дата сета на примере первой строки\n",
    "df_bt.head(1)"
   ]
  },
  {
   "cell_type": "markdown",
   "id": "48790f12",
   "metadata": {},
   "source": [
    "#### Вывод: \n",
    "- Эти данные не имеют важность и информативность для нашей задачи, и будут удалены."
   ]
  },
  {
   "cell_type": "code",
   "execution_count": 14,
   "id": "4a192624",
   "metadata": {},
   "outputs": [],
   "source": [
    "# удаляем не информативный дата сет\n",
    "del df_bt"
   ]
  },
  {
   "cell_type": "code",
   "execution_count": 15,
   "id": "87f838f9",
   "metadata": {},
   "outputs": [
    {
     "name": "stdout",
     "output_type": "stream",
     "text": [
      "<class 'pandas.core.frame.DataFrame'>\n",
      "RangeIndex: 3239 entries, 0 to 3238\n",
      "Data columns (total 2 columns):\n",
      " #   Column  Non-Null Count  Dtype  \n",
      "---  ------  --------------  -----  \n",
      " 0   key     3239 non-null   int64  \n",
      " 1   Газ 1   3239 non-null   float64\n",
      "dtypes: float64(1), int64(1)\n",
      "memory usage: 50.7 KB\n"
     ]
    },
    {
     "data": {
      "text/html": [
       "<div>\n",
       "<style scoped>\n",
       "    .dataframe tbody tr th:only-of-type {\n",
       "        vertical-align: middle;\n",
       "    }\n",
       "\n",
       "    .dataframe tbody tr th {\n",
       "        vertical-align: top;\n",
       "    }\n",
       "\n",
       "    .dataframe thead th {\n",
       "        text-align: right;\n",
       "    }\n",
       "</style>\n",
       "<table border=\"1\" class=\"dataframe\">\n",
       "  <thead>\n",
       "    <tr style=\"text-align: right;\">\n",
       "      <th></th>\n",
       "      <th>key</th>\n",
       "      <th>Газ 1</th>\n",
       "    </tr>\n",
       "  </thead>\n",
       "  <tbody>\n",
       "    <tr>\n",
       "      <th>0</th>\n",
       "      <td>1</td>\n",
       "      <td>29.749986</td>\n",
       "    </tr>\n",
       "    <tr>\n",
       "      <th>1</th>\n",
       "      <td>2</td>\n",
       "      <td>12.555561</td>\n",
       "    </tr>\n",
       "    <tr>\n",
       "      <th>2</th>\n",
       "      <td>3</td>\n",
       "      <td>28.554793</td>\n",
       "    </tr>\n",
       "    <tr>\n",
       "      <th>3</th>\n",
       "      <td>4</td>\n",
       "      <td>18.841219</td>\n",
       "    </tr>\n",
       "    <tr>\n",
       "      <th>4</th>\n",
       "      <td>5</td>\n",
       "      <td>5.413692</td>\n",
       "    </tr>\n",
       "  </tbody>\n",
       "</table>\n",
       "</div>"
      ],
      "text/plain": [
       "   key      Газ 1\n",
       "0    1  29.749986\n",
       "1    2  12.555561\n",
       "2    3  28.554793\n",
       "3    4  18.841219\n",
       "4    5   5.413692"
      ]
     },
     "execution_count": 15,
     "metadata": {},
     "output_type": "execute_result"
    }
   ],
   "source": [
    "# анализируем типы данных, наличие пропусков и колличество строк \n",
    "df_g.info()\n",
    "\n",
    "# смотрим содержание дата сета на примере первых 5 строк\n",
    "df_g.head()"
   ]
  },
  {
   "cell_type": "code",
   "execution_count": 16,
   "id": "6cafe957",
   "metadata": {},
   "outputs": [],
   "source": [
    "# переименовываем колоннки согласно PIP 8\n",
    "df_g = df_g.rename(columns={'Газ 1': 'gas'})"
   ]
  },
  {
   "cell_type": "code",
   "execution_count": 17,
   "id": "a406c72a",
   "metadata": {},
   "outputs": [
    {
     "data": {
      "text/html": [
       "<div>\n",
       "<style scoped>\n",
       "    .dataframe tbody tr th:only-of-type {\n",
       "        vertical-align: middle;\n",
       "    }\n",
       "\n",
       "    .dataframe tbody tr th {\n",
       "        vertical-align: top;\n",
       "    }\n",
       "\n",
       "    .dataframe thead th {\n",
       "        text-align: right;\n",
       "    }\n",
       "</style>\n",
       "<table border=\"1\" class=\"dataframe\">\n",
       "  <thead>\n",
       "    <tr style=\"text-align: right;\">\n",
       "      <th></th>\n",
       "      <th>key</th>\n",
       "      <th>gas</th>\n",
       "    </tr>\n",
       "  </thead>\n",
       "  <tbody>\n",
       "    <tr>\n",
       "      <th>count</th>\n",
       "      <td>3239.000000</td>\n",
       "      <td>3239.000000</td>\n",
       "    </tr>\n",
       "    <tr>\n",
       "      <th>mean</th>\n",
       "      <td>1621.861377</td>\n",
       "      <td>11.002062</td>\n",
       "    </tr>\n",
       "    <tr>\n",
       "      <th>std</th>\n",
       "      <td>935.386334</td>\n",
       "      <td>6.220327</td>\n",
       "    </tr>\n",
       "    <tr>\n",
       "      <th>min</th>\n",
       "      <td>1.000000</td>\n",
       "      <td>0.008399</td>\n",
       "    </tr>\n",
       "    <tr>\n",
       "      <th>25%</th>\n",
       "      <td>812.500000</td>\n",
       "      <td>7.043089</td>\n",
       "    </tr>\n",
       "    <tr>\n",
       "      <th>50%</th>\n",
       "      <td>1622.000000</td>\n",
       "      <td>9.836267</td>\n",
       "    </tr>\n",
       "    <tr>\n",
       "      <th>75%</th>\n",
       "      <td>2431.500000</td>\n",
       "      <td>13.769915</td>\n",
       "    </tr>\n",
       "    <tr>\n",
       "      <th>max</th>\n",
       "      <td>3241.000000</td>\n",
       "      <td>77.995040</td>\n",
       "    </tr>\n",
       "  </tbody>\n",
       "</table>\n",
       "</div>"
      ],
      "text/plain": [
       "               key          gas\n",
       "count  3239.000000  3239.000000\n",
       "mean   1621.861377    11.002062\n",
       "std     935.386334     6.220327\n",
       "min       1.000000     0.008399\n",
       "25%     812.500000     7.043089\n",
       "50%    1622.000000     9.836267\n",
       "75%    2431.500000    13.769915\n",
       "max    3241.000000    77.995040"
      ]
     },
     "execution_count": 17,
     "metadata": {},
     "output_type": "execute_result"
    }
   ],
   "source": [
    "# смотрим статистические данные выборки\n",
    "df_g.describe()"
   ]
  },
  {
   "cell_type": "markdown",
   "id": "006fb2a2",
   "metadata": {},
   "source": [
    "#### Вывод:\n",
    "- Этот дата сет содержит данные о газе, пропусков в нем нет. Аномалий не обнаруженно. Без труда будет возможно присоеденить к основному дата сету."
   ]
  },
  {
   "cell_type": "code",
   "execution_count": 18,
   "id": "be34dfce",
   "metadata": {},
   "outputs": [
    {
     "name": "stdout",
     "output_type": "stream",
     "text": [
      "<class 'pandas.core.frame.DataFrame'>\n",
      "RangeIndex: 3081 entries, 0 to 3080\n",
      "Data columns (total 10 columns):\n",
      " #   Column  Non-Null Count  Dtype  \n",
      "---  ------  --------------  -----  \n",
      " 0   key     3081 non-null   int64  \n",
      " 1   Wire 1  3055 non-null   float64\n",
      " 2   Wire 2  1079 non-null   float64\n",
      " 3   Wire 3  63 non-null     float64\n",
      " 4   Wire 4  14 non-null     float64\n",
      " 5   Wire 5  1 non-null      float64\n",
      " 6   Wire 6  73 non-null     float64\n",
      " 7   Wire 7  11 non-null     float64\n",
      " 8   Wire 8  19 non-null     float64\n",
      " 9   Wire 9  29 non-null     float64\n",
      "dtypes: float64(9), int64(1)\n",
      "memory usage: 240.8 KB\n"
     ]
    },
    {
     "data": {
      "text/html": [
       "<div>\n",
       "<style scoped>\n",
       "    .dataframe tbody tr th:only-of-type {\n",
       "        vertical-align: middle;\n",
       "    }\n",
       "\n",
       "    .dataframe tbody tr th {\n",
       "        vertical-align: top;\n",
       "    }\n",
       "\n",
       "    .dataframe thead th {\n",
       "        text-align: right;\n",
       "    }\n",
       "</style>\n",
       "<table border=\"1\" class=\"dataframe\">\n",
       "  <thead>\n",
       "    <tr style=\"text-align: right;\">\n",
       "      <th></th>\n",
       "      <th>key</th>\n",
       "      <th>Wire 1</th>\n",
       "      <th>Wire 2</th>\n",
       "      <th>Wire 3</th>\n",
       "      <th>Wire 4</th>\n",
       "      <th>Wire 5</th>\n",
       "      <th>Wire 6</th>\n",
       "      <th>Wire 7</th>\n",
       "      <th>Wire 8</th>\n",
       "      <th>Wire 9</th>\n",
       "    </tr>\n",
       "  </thead>\n",
       "  <tbody>\n",
       "    <tr>\n",
       "      <th>0</th>\n",
       "      <td>1</td>\n",
       "      <td>60.059998</td>\n",
       "      <td>NaN</td>\n",
       "      <td>NaN</td>\n",
       "      <td>NaN</td>\n",
       "      <td>NaN</td>\n",
       "      <td>NaN</td>\n",
       "      <td>NaN</td>\n",
       "      <td>NaN</td>\n",
       "      <td>NaN</td>\n",
       "    </tr>\n",
       "    <tr>\n",
       "      <th>1</th>\n",
       "      <td>2</td>\n",
       "      <td>96.052315</td>\n",
       "      <td>NaN</td>\n",
       "      <td>NaN</td>\n",
       "      <td>NaN</td>\n",
       "      <td>NaN</td>\n",
       "      <td>NaN</td>\n",
       "      <td>NaN</td>\n",
       "      <td>NaN</td>\n",
       "      <td>NaN</td>\n",
       "    </tr>\n",
       "    <tr>\n",
       "      <th>2</th>\n",
       "      <td>3</td>\n",
       "      <td>91.160157</td>\n",
       "      <td>NaN</td>\n",
       "      <td>NaN</td>\n",
       "      <td>NaN</td>\n",
       "      <td>NaN</td>\n",
       "      <td>NaN</td>\n",
       "      <td>NaN</td>\n",
       "      <td>NaN</td>\n",
       "      <td>NaN</td>\n",
       "    </tr>\n",
       "    <tr>\n",
       "      <th>3</th>\n",
       "      <td>4</td>\n",
       "      <td>89.063515</td>\n",
       "      <td>NaN</td>\n",
       "      <td>NaN</td>\n",
       "      <td>NaN</td>\n",
       "      <td>NaN</td>\n",
       "      <td>NaN</td>\n",
       "      <td>NaN</td>\n",
       "      <td>NaN</td>\n",
       "      <td>NaN</td>\n",
       "    </tr>\n",
       "    <tr>\n",
       "      <th>4</th>\n",
       "      <td>5</td>\n",
       "      <td>89.238236</td>\n",
       "      <td>9.11456</td>\n",
       "      <td>NaN</td>\n",
       "      <td>NaN</td>\n",
       "      <td>NaN</td>\n",
       "      <td>NaN</td>\n",
       "      <td>NaN</td>\n",
       "      <td>NaN</td>\n",
       "      <td>NaN</td>\n",
       "    </tr>\n",
       "  </tbody>\n",
       "</table>\n",
       "</div>"
      ],
      "text/plain": [
       "   key     Wire 1   Wire 2  Wire 3  Wire 4  Wire 5  Wire 6  Wire 7  Wire 8  \\\n",
       "0    1  60.059998      NaN     NaN     NaN     NaN     NaN     NaN     NaN   \n",
       "1    2  96.052315      NaN     NaN     NaN     NaN     NaN     NaN     NaN   \n",
       "2    3  91.160157      NaN     NaN     NaN     NaN     NaN     NaN     NaN   \n",
       "3    4  89.063515      NaN     NaN     NaN     NaN     NaN     NaN     NaN   \n",
       "4    5  89.238236  9.11456     NaN     NaN     NaN     NaN     NaN     NaN   \n",
       "\n",
       "   Wire 9  \n",
       "0     NaN  \n",
       "1     NaN  \n",
       "2     NaN  \n",
       "3     NaN  \n",
       "4     NaN  "
      ]
     },
     "execution_count": 18,
     "metadata": {},
     "output_type": "execute_result"
    }
   ],
   "source": [
    "# анализируем типы данных, наличие пропусков и колличество строк \n",
    "df_w.info()\n",
    "\n",
    "# смотрим содержание дата сета на примере первых 5 строк\n",
    "df_w.head()"
   ]
  },
  {
   "cell_type": "code",
   "execution_count": 19,
   "id": "5f36f969",
   "metadata": {},
   "outputs": [
    {
     "data": {
      "text/html": [
       "<div>\n",
       "<style scoped>\n",
       "    .dataframe tbody tr th:only-of-type {\n",
       "        vertical-align: middle;\n",
       "    }\n",
       "\n",
       "    .dataframe tbody tr th {\n",
       "        vertical-align: top;\n",
       "    }\n",
       "\n",
       "    .dataframe thead th {\n",
       "        text-align: right;\n",
       "    }\n",
       "</style>\n",
       "<table border=\"1\" class=\"dataframe\">\n",
       "  <thead>\n",
       "    <tr style=\"text-align: right;\">\n",
       "      <th></th>\n",
       "      <th>key</th>\n",
       "      <th>Wire 1</th>\n",
       "      <th>Wire 2</th>\n",
       "      <th>Wire 3</th>\n",
       "      <th>Wire 4</th>\n",
       "      <th>Wire 5</th>\n",
       "      <th>Wire 6</th>\n",
       "      <th>Wire 7</th>\n",
       "      <th>Wire 8</th>\n",
       "      <th>Wire 9</th>\n",
       "    </tr>\n",
       "  </thead>\n",
       "  <tbody>\n",
       "    <tr>\n",
       "      <th>count</th>\n",
       "      <td>3081.000000</td>\n",
       "      <td>3055.000000</td>\n",
       "      <td>1079.000000</td>\n",
       "      <td>63.000000</td>\n",
       "      <td>14.000000</td>\n",
       "      <td>1.000</td>\n",
       "      <td>73.000000</td>\n",
       "      <td>11.000000</td>\n",
       "      <td>19.000000</td>\n",
       "      <td>29.000000</td>\n",
       "    </tr>\n",
       "    <tr>\n",
       "      <th>mean</th>\n",
       "      <td>1623.426485</td>\n",
       "      <td>100.895853</td>\n",
       "      <td>50.577323</td>\n",
       "      <td>189.482681</td>\n",
       "      <td>57.442841</td>\n",
       "      <td>15.132</td>\n",
       "      <td>48.016974</td>\n",
       "      <td>10.039007</td>\n",
       "      <td>53.625193</td>\n",
       "      <td>34.155752</td>\n",
       "    </tr>\n",
       "    <tr>\n",
       "      <th>std</th>\n",
       "      <td>932.996726</td>\n",
       "      <td>42.012518</td>\n",
       "      <td>39.320216</td>\n",
       "      <td>99.513444</td>\n",
       "      <td>28.824667</td>\n",
       "      <td>NaN</td>\n",
       "      <td>33.919845</td>\n",
       "      <td>8.610584</td>\n",
       "      <td>16.881728</td>\n",
       "      <td>19.931616</td>\n",
       "    </tr>\n",
       "    <tr>\n",
       "      <th>min</th>\n",
       "      <td>1.000000</td>\n",
       "      <td>1.918800</td>\n",
       "      <td>0.030160</td>\n",
       "      <td>0.144144</td>\n",
       "      <td>24.148801</td>\n",
       "      <td>15.132</td>\n",
       "      <td>0.034320</td>\n",
       "      <td>0.234208</td>\n",
       "      <td>45.076721</td>\n",
       "      <td>4.622800</td>\n",
       "    </tr>\n",
       "    <tr>\n",
       "      <th>25%</th>\n",
       "      <td>823.000000</td>\n",
       "      <td>72.115684</td>\n",
       "      <td>20.193680</td>\n",
       "      <td>95.135044</td>\n",
       "      <td>40.807002</td>\n",
       "      <td>15.132</td>\n",
       "      <td>25.053600</td>\n",
       "      <td>6.762756</td>\n",
       "      <td>46.094879</td>\n",
       "      <td>22.058401</td>\n",
       "    </tr>\n",
       "    <tr>\n",
       "      <th>50%</th>\n",
       "      <td>1619.000000</td>\n",
       "      <td>100.158234</td>\n",
       "      <td>40.142956</td>\n",
       "      <td>235.194977</td>\n",
       "      <td>45.234282</td>\n",
       "      <td>15.132</td>\n",
       "      <td>42.076324</td>\n",
       "      <td>9.017009</td>\n",
       "      <td>46.279999</td>\n",
       "      <td>30.066399</td>\n",
       "    </tr>\n",
       "    <tr>\n",
       "      <th>75%</th>\n",
       "      <td>2434.000000</td>\n",
       "      <td>126.060483</td>\n",
       "      <td>70.227558</td>\n",
       "      <td>276.252014</td>\n",
       "      <td>76.124619</td>\n",
       "      <td>15.132</td>\n",
       "      <td>64.212723</td>\n",
       "      <td>11.886057</td>\n",
       "      <td>48.089603</td>\n",
       "      <td>43.862003</td>\n",
       "    </tr>\n",
       "    <tr>\n",
       "      <th>max</th>\n",
       "      <td>3241.000000</td>\n",
       "      <td>330.314424</td>\n",
       "      <td>282.780152</td>\n",
       "      <td>385.008668</td>\n",
       "      <td>113.231044</td>\n",
       "      <td>15.132</td>\n",
       "      <td>180.454575</td>\n",
       "      <td>32.847674</td>\n",
       "      <td>102.762401</td>\n",
       "      <td>90.053604</td>\n",
       "    </tr>\n",
       "  </tbody>\n",
       "</table>\n",
       "</div>"
      ],
      "text/plain": [
       "               key       Wire 1       Wire 2      Wire 3      Wire 4  Wire 5  \\\n",
       "count  3081.000000  3055.000000  1079.000000   63.000000   14.000000   1.000   \n",
       "mean   1623.426485   100.895853    50.577323  189.482681   57.442841  15.132   \n",
       "std     932.996726    42.012518    39.320216   99.513444   28.824667     NaN   \n",
       "min       1.000000     1.918800     0.030160    0.144144   24.148801  15.132   \n",
       "25%     823.000000    72.115684    20.193680   95.135044   40.807002  15.132   \n",
       "50%    1619.000000   100.158234    40.142956  235.194977   45.234282  15.132   \n",
       "75%    2434.000000   126.060483    70.227558  276.252014   76.124619  15.132   \n",
       "max    3241.000000   330.314424   282.780152  385.008668  113.231044  15.132   \n",
       "\n",
       "           Wire 6     Wire 7      Wire 8     Wire 9  \n",
       "count   73.000000  11.000000   19.000000  29.000000  \n",
       "mean    48.016974  10.039007   53.625193  34.155752  \n",
       "std     33.919845   8.610584   16.881728  19.931616  \n",
       "min      0.034320   0.234208   45.076721   4.622800  \n",
       "25%     25.053600   6.762756   46.094879  22.058401  \n",
       "50%     42.076324   9.017009   46.279999  30.066399  \n",
       "75%     64.212723  11.886057   48.089603  43.862003  \n",
       "max    180.454575  32.847674  102.762401  90.053604  "
      ]
     },
     "execution_count": 19,
     "metadata": {},
     "output_type": "execute_result"
    }
   ],
   "source": [
    "# смотрим статистические данные выборки\n",
    "df_w.describe()"
   ]
  },
  {
   "cell_type": "markdown",
   "id": "ab848582",
   "metadata": {},
   "source": [
    "#### Вывод: \n",
    "- Данный дата сет аналогичен bulk, так как тут так же данные о присадке другого типа. Алгоримт действий такой же, объединяем столбцы с меньшим процентом добавления в партии. "
   ]
  },
  {
   "cell_type": "code",
   "execution_count": 20,
   "id": "ad54047c",
   "metadata": {},
   "outputs": [
    {
     "name": "stdout",
     "output_type": "stream",
     "text": [
      "<class 'pandas.core.frame.DataFrame'>\n",
      "RangeIndex: 3081 entries, 0 to 3080\n",
      "Data columns (total 10 columns):\n",
      " #   Column  Non-Null Count  Dtype \n",
      "---  ------  --------------  ----- \n",
      " 0   key     3081 non-null   int64 \n",
      " 1   Wire 1  3055 non-null   object\n",
      " 2   Wire 2  1079 non-null   object\n",
      " 3   Wire 3  63 non-null     object\n",
      " 4   Wire 4  14 non-null     object\n",
      " 5   Wire 5  1 non-null      object\n",
      " 6   Wire 6  73 non-null     object\n",
      " 7   Wire 7  11 non-null     object\n",
      " 8   Wire 8  19 non-null     object\n",
      " 9   Wire 9  29 non-null     object\n",
      "dtypes: int64(1), object(9)\n",
      "memory usage: 240.8+ KB\n"
     ]
    },
    {
     "data": {
      "text/html": [
       "<div>\n",
       "<style scoped>\n",
       "    .dataframe tbody tr th:only-of-type {\n",
       "        vertical-align: middle;\n",
       "    }\n",
       "\n",
       "    .dataframe tbody tr th {\n",
       "        vertical-align: top;\n",
       "    }\n",
       "\n",
       "    .dataframe thead th {\n",
       "        text-align: right;\n",
       "    }\n",
       "</style>\n",
       "<table border=\"1\" class=\"dataframe\">\n",
       "  <thead>\n",
       "    <tr style=\"text-align: right;\">\n",
       "      <th></th>\n",
       "      <th>key</th>\n",
       "      <th>Wire 1</th>\n",
       "      <th>Wire 2</th>\n",
       "      <th>Wire 3</th>\n",
       "      <th>Wire 4</th>\n",
       "      <th>Wire 5</th>\n",
       "      <th>Wire 6</th>\n",
       "      <th>Wire 7</th>\n",
       "      <th>Wire 8</th>\n",
       "      <th>Wire 9</th>\n",
       "    </tr>\n",
       "  </thead>\n",
       "  <tbody>\n",
       "    <tr>\n",
       "      <th>0</th>\n",
       "      <td>1</td>\n",
       "      <td>2019-05-03 11:06:19</td>\n",
       "      <td>NaN</td>\n",
       "      <td>NaN</td>\n",
       "      <td>NaN</td>\n",
       "      <td>NaN</td>\n",
       "      <td>NaN</td>\n",
       "      <td>NaN</td>\n",
       "      <td>NaN</td>\n",
       "      <td>NaN</td>\n",
       "    </tr>\n",
       "  </tbody>\n",
       "</table>\n",
       "</div>"
      ],
      "text/plain": [
       "   key               Wire 1 Wire 2 Wire 3 Wire 4 Wire 5 Wire 6 Wire 7 Wire 8  \\\n",
       "0    1  2019-05-03 11:06:19    NaN    NaN    NaN    NaN    NaN    NaN    NaN   \n",
       "\n",
       "  Wire 9  \n",
       "0    NaN  "
      ]
     },
     "execution_count": 20,
     "metadata": {},
     "output_type": "execute_result"
    }
   ],
   "source": [
    "# анализируем типы данных, наличие пропусков и колличество строк \n",
    "df_wt.info()\n",
    "\n",
    "# смотрим содержание дата сета на примере первых 5 строк\n",
    "df_wt.head(1)"
   ]
  },
  {
   "cell_type": "markdown",
   "id": "f2c52d6a",
   "metadata": {},
   "source": [
    "#### Вывод: \n",
    "- Эти данные не имеют важность и информативность для нашей задачи, и будут удалены."
   ]
  },
  {
   "cell_type": "code",
   "execution_count": 21,
   "id": "475557c0",
   "metadata": {},
   "outputs": [],
   "source": [
    "# удаляем дата сет\n",
    "del df_wt"
   ]
  },
  {
   "cell_type": "markdown",
   "id": "f39b9b63",
   "metadata": {},
   "source": [
    "# Графический анализ данных"
   ]
  },
  {
   "cell_type": "code",
   "execution_count": 22,
   "id": "d975fe44",
   "metadata": {},
   "outputs": [
    {
     "data": {
      "image/png": "[encoded data removed]",
      "text/plain": [
       "<Figure size 720x432 with 2 Axes>"
      ]
     },
     "metadata": {
      "needs_background": "light"
     },
     "output_type": "display_data"
    }
   ],
   "source": [
    "# Создание фигуры с двумя графиками\n",
    "fig, axes = plt.subplots(nrows=1, ncols=2, figsize=[10, 6])\n",
    "\n",
    "# Создание диаграмм размаха для активной мощности\n",
    "sns.boxplot(data=df_a['p_power'], ax=axes[0])\n",
    "axes[0].set_title('Диаграма размаха Активной мощьности')\n",
    "axes[0].set_ylim(0, 1.5)\n",
    "\n",
    "# Создание диаграмм размаха для реактивной мощности\n",
    "sns.boxplot(data=df_a['q_power'], ax=axes[1])\n",
    "axes[1].set_title('Диаграма размаха Реактивной мощьности')\n",
    "axes[1].set_ylim(0, 1.5)\n",
    "\n",
    "plt.show()"
   ]
  },
  {
   "cell_type": "markdown",
   "id": "d0d879be",
   "metadata": {},
   "source": [
    "#### Вывод: на графике видно, что есть некоторые выбросы."
   ]
  },
  {
   "cell_type": "code",
   "execution_count": 23,
   "id": "3100baec",
   "metadata": {},
   "outputs": [
    {
     "data": {
      "text/plain": [
       "(1500.0, 1700.0)"
      ]
     },
     "execution_count": 23,
     "metadata": {},
     "output_type": "execute_result"
    },
    {
     "data": {
      "image/png": "[encoded data removed]",
      "text/plain": [
       "<Figure size 1152x576 with 1 Axes>"
      ]
     },
     "metadata": {
      "needs_background": "light"
     },
     "output_type": "display_data"
    }
   ],
   "source": [
    "# Создание гистограммы распределения температуры\n",
    "g = sns.displot(df_t['temp'], bins=500, height=8, aspect=2)\n",
    "g.fig.suptitle(\"Распределение температуры\", va='baseline')\n",
    "plt.xlim(1500, 1700)"
   ]
  },
  {
   "cell_type": "code",
   "execution_count": 24,
   "id": "4752e1fb",
   "metadata": {},
   "outputs": [
    {
     "data": {
      "image/png": "[encoded data removed]",
      "text/plain": [
       "<Figure size 288x576 with 1 Axes>"
      ]
     },
     "metadata": {
      "needs_background": "light"
     },
     "output_type": "display_data"
    }
   ],
   "source": [
    "# Создание фигуры с размерами\n",
    "plt.figure(figsize=[4, 8])\n",
    "\n",
    "# Создание диаграммы размаха для температуры\n",
    "sns.boxplot(data=df_t['temp'])\n",
    "plt.title(\"Диаграмма размаха Температуры\")\n",
    "plt.show()"
   ]
  },
  {
   "cell_type": "markdown",
   "id": "988beb24",
   "metadata": {},
   "source": [
    " #### Вывод: На графике целевой показатель, сейчас медиана находится около 1590 С. Задача бизнеса сместить медиану и среднее значение до 1450 С (температуры достаточной для плавления металла). В данных присутствуют вбросы."
   ]
  },
  {
   "cell_type": "code",
   "execution_count": 25,
   "id": "5160bd64",
   "metadata": {},
   "outputs": [
    {
     "data": {
      "image/png": "[encoded data removed]",
      "text/plain": [
       "<Figure size 1080x432 with 1 Axes>"
      ]
     },
     "metadata": {
      "needs_background": "light"
     },
     "output_type": "display_data"
    }
   ],
   "source": [
    "# Создание фигуры с размерами\n",
    "plt.figure(figsize=[15, 6])\n",
    "\n",
    "# Создание диаграмм размаха для расхода присадок\n",
    "sns.boxplot(data=df_b.drop('key', axis = 1))\n",
    "plt.title(\"Диаграмма размаха расхода присадок\")\n",
    "plt.show()"
   ]
  },
  {
   "cell_type": "markdown",
   "id": "cbe34632",
   "metadata": {},
   "source": [
    "#### Вывод: На графике расход присадки, монжно наблюдать не равномерное распределение присадки по колличству. Вместо удаления совсем редких позиций, объединим их в одну большую. Тем самым не потеряем их важность."
   ]
  },
  {
   "cell_type": "code",
   "execution_count": 26,
   "id": "eba85344",
   "metadata": {},
   "outputs": [
    {
     "data": {
      "text/plain": [
       "(-3.89093352756, 81.89437171896)"
      ]
     },
     "execution_count": 26,
     "metadata": {},
     "output_type": "execute_result"
    },
    {
     "data": {
      "image/png": "[encoded data removed]",
      "text/plain": [
       "<Figure size 1152x576 with 1 Axes>"
      ]
     },
     "metadata": {
      "needs_background": "light"
     },
     "output_type": "display_data"
    }
   ],
   "source": [
    "# Создание гистограммы распределения газа\n",
    "sns.displot(df_g['gas'], bins = 1000, height=8, aspect=2)\n",
    "plt.title(\"Респределение газа\")\n",
    "plt.xlim()"
   ]
  },
  {
   "cell_type": "markdown",
   "id": "9ccf066e",
   "metadata": {},
   "source": [
    "#### Вывод: На графике видим распределение расхода газа, распределение равномерное."
   ]
  },
  {
   "cell_type": "code",
   "execution_count": 27,
   "id": "97102492",
   "metadata": {
    "scrolled": false
   },
   "outputs": [
    {
     "data": {
      "image/png": "[encoded data removed]",
      "text/plain": [
       "<Figure size 1080x432 with 1 Axes>"
      ]
     },
     "metadata": {
      "needs_background": "light"
     },
     "output_type": "display_data"
    }
   ],
   "source": [
    "# Создание фигуры с размерами\n",
    "plt.figure(figsize=[15, 6])\n",
    "\n",
    "# Создание диаграмм размаха для расхода присадок\n",
    "sns.boxplot(data=df_w.drop('key', axis = 1))\n",
    "plt.title(\"Диаграмма размаха расхода присадок\")\n",
    "plt.ylim()\n",
    "plt.show()"
   ]
  },
  {
   "cell_type": "markdown",
   "id": "eae1cda8",
   "metadata": {},
   "source": [
    " #### Вывод: \n",
    " - На графике расход проволочной присадки. Распределение похоже на друугие присадки, тем самым используем метод обработки такой же."
   ]
  },
  {
   "cell_type": "markdown",
   "id": "8f95aef4",
   "metadata": {},
   "source": [
    "### Вывод: \n",
    "- Изучив данные можно создать новые факторы (Общая мощность, Время работы), так же необходими объеденить редкие факторы в присадках в один фактор, не меняя тип присадки. Так как задача на регрессию временые метки нам совсем не нужны."
   ]
  },
  {
   "cell_type": "markdown",
   "id": "65cfdf56",
   "metadata": {},
   "source": [
    "# Предварительная обработка данных"
   ]
  },
  {
   "cell_type": "markdown",
   "id": "8fd63213",
   "metadata": {},
   "source": [
    "### Обрадотка данных в датафрейме с мощностью нагревателей"
   ]
  },
  {
   "cell_type": "code",
   "execution_count": 28,
   "id": "69d21e52",
   "metadata": {},
   "outputs": [
    {
     "name": "stdout",
     "output_type": "stream",
     "text": [
      "<class 'pandas.core.frame.DataFrame'>\n",
      "Int64Index: 3214 entries, 1 to 3241\n",
      "Data columns (total 2 columns):\n",
      " #   Column   Non-Null Count  Dtype  \n",
      "---  ------   --------------  -----  \n",
      " 0   s_power  3214 non-null   float64\n",
      " 1   time_h   3214 non-null   float64\n",
      "dtypes: float64(2)\n",
      "memory usage: 75.3 KB\n"
     ]
    },
    {
     "data": {
      "text/html": [
       "<div>\n",
       "<style scoped>\n",
       "    .dataframe tbody tr th:only-of-type {\n",
       "        vertical-align: middle;\n",
       "    }\n",
       "\n",
       "    .dataframe tbody tr th {\n",
       "        vertical-align: top;\n",
       "    }\n",
       "\n",
       "    .dataframe thead th {\n",
       "        text-align: right;\n",
       "    }\n",
       "</style>\n",
       "<table border=\"1\" class=\"dataframe\">\n",
       "  <thead>\n",
       "    <tr style=\"text-align: right;\">\n",
       "      <th></th>\n",
       "      <th>s_power</th>\n",
       "      <th>time_h</th>\n",
       "    </tr>\n",
       "    <tr>\n",
       "      <th>key</th>\n",
       "      <th></th>\n",
       "      <th></th>\n",
       "    </tr>\n",
       "  </thead>\n",
       "  <tbody>\n",
       "    <tr>\n",
       "      <th>1</th>\n",
       "      <td>3.718736</td>\n",
       "      <td>0.305000</td>\n",
       "    </tr>\n",
       "    <tr>\n",
       "      <th>2</th>\n",
       "      <td>2.588349</td>\n",
       "      <td>0.225278</td>\n",
       "    </tr>\n",
       "    <tr>\n",
       "      <th>3</th>\n",
       "      <td>5.019223</td>\n",
       "      <td>0.181944</td>\n",
       "    </tr>\n",
       "    <tr>\n",
       "      <th>4</th>\n",
       "      <td>3.400038</td>\n",
       "      <td>0.205833</td>\n",
       "    </tr>\n",
       "    <tr>\n",
       "      <th>5</th>\n",
       "      <td>2.816980</td>\n",
       "      <td>0.241389</td>\n",
       "    </tr>\n",
       "  </tbody>\n",
       "</table>\n",
       "</div>"
      ],
      "text/plain": [
       "      s_power    time_h\n",
       "key                    \n",
       "1    3.718736  0.305000\n",
       "2    2.588349  0.225278\n",
       "3    5.019223  0.181944\n",
       "4    3.400038  0.205833\n",
       "5    2.816980  0.241389"
      ]
     },
     "execution_count": 28,
     "metadata": {},
     "output_type": "execute_result"
    }
   ],
   "source": [
    "# Фильтруем датафрейм оставляя только строки\n",
    "# где значение столбца q_power больше 0, и перенумеровываем индексы\n",
    "df_a = df_a[df_a['q_power'] > 0].reset_index(drop=True)\n",
    "\n",
    "# Добавляем столбец s_power(Общая мощность) \n",
    "# вычисляя по формуле\n",
    "df_a['s_power'] = np.sqrt(df_a['p_power']**2 + df_a['q_power']**2)\n",
    "\n",
    "# Добавляем столбец time_h\n",
    "# вычисляя разницу между end и start heating в секундах\n",
    "df_a['time_h'] = df_a['end_heating'] - df_a['start_heating']\n",
    "\n",
    "# Переводим секунды в часы\n",
    "df_a['time_h'] = df_a['time_h'].astype('timedelta64[s]') / 3600\n",
    "\n",
    "# Удаляем более не нужные столбцы\n",
    "df_a = df_a.drop(['p_power', 'q_power', 'start_heating',\n",
    "                  'end_heating'], axis=1)\n",
    "\n",
    "# Группируем данные по столбцу key и суммируем значения\n",
    "df_a = df_a.groupby('key').sum()\n",
    "\n",
    "df_a.info()\n",
    "df_a.head()"
   ]
  },
  {
   "cell_type": "markdown",
   "id": "75d9be47",
   "metadata": {},
   "source": [
    "### Обрадотка данных в датафрейме с температурой таргетом"
   ]
  },
  {
   "cell_type": "code",
   "execution_count": 29,
   "id": "831864af",
   "metadata": {},
   "outputs": [
    {
     "name": "stdout",
     "output_type": "stream",
     "text": [
      "<class 'pandas.core.frame.DataFrame'>\n",
      "Int64Index: 2475 entries, 1 to 2499\n",
      "Data columns (total 2 columns):\n",
      " #   Column      Non-Null Count  Dtype  \n",
      "---  ------      --------------  -----  \n",
      " 0   temp_first  2475 non-null   float64\n",
      " 1   temp_last   2475 non-null   float64\n",
      "dtypes: float64(2)\n",
      "memory usage: 58.0 KB\n"
     ]
    },
    {
     "data": {
      "text/html": [
       "<div>\n",
       "<style scoped>\n",
       "    .dataframe tbody tr th:only-of-type {\n",
       "        vertical-align: middle;\n",
       "    }\n",
       "\n",
       "    .dataframe tbody tr th {\n",
       "        vertical-align: top;\n",
       "    }\n",
       "\n",
       "    .dataframe thead th {\n",
       "        text-align: right;\n",
       "    }\n",
       "</style>\n",
       "<table border=\"1\" class=\"dataframe\">\n",
       "  <thead>\n",
       "    <tr style=\"text-align: right;\">\n",
       "      <th></th>\n",
       "      <th>temp_first</th>\n",
       "      <th>temp_last</th>\n",
       "    </tr>\n",
       "    <tr>\n",
       "      <th>key</th>\n",
       "      <th></th>\n",
       "      <th></th>\n",
       "    </tr>\n",
       "  </thead>\n",
       "  <tbody>\n",
       "    <tr>\n",
       "      <th>1</th>\n",
       "      <td>1571.0</td>\n",
       "      <td>1613.0</td>\n",
       "    </tr>\n",
       "    <tr>\n",
       "      <th>2</th>\n",
       "      <td>1581.0</td>\n",
       "      <td>1602.0</td>\n",
       "    </tr>\n",
       "    <tr>\n",
       "      <th>3</th>\n",
       "      <td>1596.0</td>\n",
       "      <td>1599.0</td>\n",
       "    </tr>\n",
       "    <tr>\n",
       "      <th>4</th>\n",
       "      <td>1601.0</td>\n",
       "      <td>1625.0</td>\n",
       "    </tr>\n",
       "    <tr>\n",
       "      <th>5</th>\n",
       "      <td>1576.0</td>\n",
       "      <td>1602.0</td>\n",
       "    </tr>\n",
       "  </tbody>\n",
       "</table>\n",
       "</div>"
      ],
      "text/plain": [
       "     temp_first  temp_last\n",
       "key                       \n",
       "1        1571.0     1613.0\n",
       "2        1581.0     1602.0\n",
       "3        1596.0     1599.0\n",
       "4        1601.0     1625.0\n",
       "5        1576.0     1602.0"
      ]
     },
     "execution_count": 29,
     "metadata": {},
     "output_type": "execute_result"
    }
   ],
   "source": [
    "# Удаление строк с пропущенными значениями\n",
    "df_t = df_t.dropna()\n",
    "\n",
    "# Удаление измерений с температурой менее 1400 градусов и переиндексация\n",
    "df_t = df_t[df_t.temp >= 1400].reset_index(drop=True)\n",
    "\n",
    "# Оставляем только те ключи, где измерений температуры больше двух\n",
    "df_t = df_t.groupby('key').filter(lambda x: len(x) >= 2)\n",
    "\n",
    "# Агрегация данных по ключу, взятие первой и последней температуры\n",
    "df_t = df_t.groupby('key').agg(['first', 'last']).reset_index()\n",
    "\n",
    "# Смена имён столбцов\n",
    "df_t.columns = ['key', 'temp_first', 'temp_last']\n",
    "\n",
    "# Установка индексации по ключам\n",
    "df_t = df_t.set_index(['key'])\n",
    "\n",
    "# Проверяем полученные изменения\n",
    "df_t.info()\n",
    "df_t.head()"
   ]
  },
  {
   "cell_type": "markdown",
   "id": "dc6db22d",
   "metadata": {},
   "source": [
    "### Обрадотка данных в датафрейме с присадками булк"
   ]
  },
  {
   "cell_type": "code",
   "execution_count": 30,
   "id": "4cc707a0",
   "metadata": {},
   "outputs": [
    {
     "name": "stdout",
     "output_type": "stream",
     "text": [
      "<class 'pandas.core.frame.DataFrame'>\n",
      "Int64Index: 3129 entries, 1 to 3241\n",
      "Data columns (total 6 columns):\n",
      " #   Column   Non-Null Count  Dtype  \n",
      "---  ------   --------------  -----  \n",
      " 0   bulk_3   3129 non-null   float64\n",
      " 1   bulk_4   3129 non-null   float64\n",
      " 2   bulk_12  3129 non-null   float64\n",
      " 3   bulk_14  3129 non-null   float64\n",
      " 4   bulk_15  3129 non-null   float64\n",
      " 5   bulk_16  3129 non-null   float64\n",
      "dtypes: float64(6)\n",
      "memory usage: 171.1 KB\n"
     ]
    }
   ],
   "source": [
    "# Приведение имен столбцов к нижнему регистру\n",
    "df_b.columns = df_b.columns.str.lower()\n",
    "\n",
    "# Заполнение пропущенных значений 0\n",
    "df_b = df_b.fillna(0)\n",
    "\n",
    "# Объединение редко используемых присадок в один столбец\n",
    "df_b['bulk_16'] = df_b.iloc[:, [1, 2, 5, 6, 7, 8, 9, 10, 11, 13]].sum(axis=1)\n",
    "\n",
    "# Замена названий столбцов \n",
    "df_b = df_b.rename(columns={f'bulk {i}': f'bulk_{i}' for i in range(0, 16)})\n",
    "\n",
    "# Оставление только нужных столбцов\n",
    "df_b = df_b.iloc[:, [0, 3, 4, 12, 14, 15, 16]]\n",
    "\n",
    "# Установка кей в качестве индекса\n",
    "df_b = df_b.set_index(['key'])\n",
    "\n",
    "df_b.info()"
   ]
  },
  {
   "cell_type": "markdown",
   "id": "247d004e",
   "metadata": {},
   "source": [
    "### Обрадотка данных в датафрейме с газом"
   ]
  },
  {
   "cell_type": "code",
   "execution_count": 31,
   "id": "2cddfb86",
   "metadata": {},
   "outputs": [],
   "source": [
    "# Установка кей в качестве индекса\n",
    "df_g = df_g.set_index(['key'])"
   ]
  },
  {
   "cell_type": "markdown",
   "id": "098340e9",
   "metadata": {},
   "source": [
    "### Обрадотка данных в датафрейме с присадками типа проволка"
   ]
  },
  {
   "cell_type": "code",
   "execution_count": 32,
   "id": "bb55765f",
   "metadata": {},
   "outputs": [
    {
     "name": "stdout",
     "output_type": "stream",
     "text": [
      "<class 'pandas.core.frame.DataFrame'>\n",
      "Int64Index: 3081 entries, 1 to 3241\n",
      "Data columns (total 3 columns):\n",
      " #   Column   Non-Null Count  Dtype  \n",
      "---  ------   --------------  -----  \n",
      " 0   wire_1   3081 non-null   float64\n",
      " 1   wire_2   3081 non-null   float64\n",
      " 2   wire_10  3081 non-null   float64\n",
      "dtypes: float64(3)\n",
      "memory usage: 96.3 KB\n"
     ]
    }
   ],
   "source": [
    "# Приводим названия столбцов к нижнему регистру\n",
    "df_w.columns = df_w.columns.str.lower()\n",
    "\n",
    "# Заполняем пропущенные значения нулями\n",
    "df_w = df_w.fillna(0)\n",
    "\n",
    "# Объединение редко используемых присадок в один столбец\n",
    "df_w['wire_10'] = df_w.iloc[:, [3, 4, 5, 6, 7, 8, 9,]].sum(axis=1)\n",
    "\n",
    "# Замена названий столбцов \n",
    "df_w = df_w.rename(columns={f'wire {i}': f'wire_{i}' for i in range(0, 10)})\n",
    "\n",
    "# Оставление только нужных столбцов\n",
    "df_w = df_w.iloc[:, [0, 1, 2, 10]]\n",
    "\n",
    "# Установка кей в качестве индекса\n",
    "df_w = df_w.set_index(['key'])\n",
    "\n",
    "\n",
    "df_w.info()"
   ]
  },
  {
   "cell_type": "markdown",
   "id": "1c78ad7b",
   "metadata": {},
   "source": [
    "# Объединение в один датафрейм"
   ]
  },
  {
   "cell_type": "code",
   "execution_count": 33,
   "id": "7be45c41",
   "metadata": {},
   "outputs": [
    {
     "name": "stdout",
     "output_type": "stream",
     "text": [
      "<class 'pandas.core.frame.DataFrame'>\n",
      "Int64Index: 2329 entries, 1 to 2499\n",
      "Data columns (total 14 columns):\n",
      " #   Column      Non-Null Count  Dtype  \n",
      "---  ------      --------------  -----  \n",
      " 0   temp_first  2329 non-null   float64\n",
      " 1   temp_last   2329 non-null   float64\n",
      " 2   bulk_3      2329 non-null   float64\n",
      " 3   bulk_4      2329 non-null   float64\n",
      " 4   bulk_12     2329 non-null   float64\n",
      " 5   bulk_14     2329 non-null   float64\n",
      " 6   bulk_15     2329 non-null   float64\n",
      " 7   bulk_16     2329 non-null   float64\n",
      " 8   wire_1      2329 non-null   float64\n",
      " 9   wire_2      2329 non-null   float64\n",
      " 10  wire_10     2329 non-null   float64\n",
      " 11  gas         2329 non-null   float64\n",
      " 12  s_power     2329 non-null   float64\n",
      " 13  time_h      2329 non-null   float64\n",
      "dtypes: float64(14)\n",
      "memory usage: 272.9 KB\n"
     ]
    }
   ],
   "source": [
    "# Записываем имена фреймов в переменную\n",
    "dfs = [df_t, df_b, df_w, df_g, df_a]\n",
    "\n",
    "# Объединяем датафреймы по индексам\n",
    "df = pd.concat(dfs, axis=1)\n",
    "\n",
    "# Удаляем исходные датафреймы, чтобы освободить память\n",
    "del df_t, df_b, df_w, df_g, df_a\n",
    "\n",
    "# Оставляем только те ключи, что были во всех датафреймах\n",
    "df=df.dropna()\n",
    "\n",
    "df.info()"
   ]
  },
  {
   "cell_type": "markdown",
   "id": "b097f42f",
   "metadata": {},
   "source": [
    "# Исследование объединённого датафрейма"
   ]
  },
  {
   "cell_type": "code",
   "execution_count": 34,
   "id": "3929acb8",
   "metadata": {},
   "outputs": [
    {
     "data": {
      "image/png": "[encoded data removed]",
      "text/plain": [
       "<Figure size 1440x1080 with 2 Axes>"
      ]
     },
     "metadata": {
      "needs_background": "light"
     },
     "output_type": "display_data"
    }
   ],
   "source": [
    "# Создание графика тепловой карты для визуализации корреляции между признаками\n",
    "plt.figure(figsize=(20, 15))\n",
    "plt.title('Корреляция признаков')\n",
    "sns.heatmap(df.corr(method='spearman'), annot = True, cmap=\"coolwarm\")\n",
    "plt.show()"
   ]
  },
  {
   "cell_type": "markdown",
   "id": "b93cde09",
   "metadata": {},
   "source": [
    "### Вывод: Явных зависимойстей более 0,7 в данных не наблюдется, там самым можно сказать, что это не должно повлиять на результаты. Однока если результаты будут не удовлетворительными, можно будет удалить два признака Булк 12 и Время работы."
   ]
  },
  {
   "cell_type": "code",
   "execution_count": 35,
   "id": "7461b5e0",
   "metadata": {},
   "outputs": [
    {
     "data": {
      "text/html": [
       "<div>\n",
       "<style scoped>\n",
       "    .dataframe tbody tr th:only-of-type {\n",
       "        vertical-align: middle;\n",
       "    }\n",
       "\n",
       "    .dataframe tbody tr th {\n",
       "        vertical-align: top;\n",
       "    }\n",
       "\n",
       "    .dataframe thead th {\n",
       "        text-align: right;\n",
       "    }\n",
       "</style>\n",
       "<table border=\"1\" class=\"dataframe\">\n",
       "  <thead>\n",
       "    <tr style=\"text-align: right;\">\n",
       "      <th></th>\n",
       "      <th>temp_first</th>\n",
       "      <th>temp_last</th>\n",
       "      <th>bulk_3</th>\n",
       "      <th>bulk_4</th>\n",
       "      <th>bulk_12</th>\n",
       "      <th>bulk_14</th>\n",
       "      <th>bulk_15</th>\n",
       "      <th>bulk_16</th>\n",
       "      <th>wire_1</th>\n",
       "      <th>wire_2</th>\n",
       "      <th>wire_10</th>\n",
       "      <th>gas</th>\n",
       "      <th>s_power</th>\n",
       "      <th>time_h</th>\n",
       "    </tr>\n",
       "    <tr>\n",
       "      <th>key</th>\n",
       "      <th></th>\n",
       "      <th></th>\n",
       "      <th></th>\n",
       "      <th></th>\n",
       "      <th></th>\n",
       "      <th></th>\n",
       "      <th></th>\n",
       "      <th></th>\n",
       "      <th></th>\n",
       "      <th></th>\n",
       "      <th></th>\n",
       "      <th></th>\n",
       "      <th></th>\n",
       "      <th></th>\n",
       "    </tr>\n",
       "  </thead>\n",
       "  <tbody>\n",
       "    <tr>\n",
       "      <th>1</th>\n",
       "      <td>1571.0</td>\n",
       "      <td>1613.0</td>\n",
       "      <td>0.0</td>\n",
       "      <td>43.0</td>\n",
       "      <td>206.0</td>\n",
       "      <td>150.0</td>\n",
       "      <td>154.0</td>\n",
       "      <td>0.0</td>\n",
       "      <td>60.059998</td>\n",
       "      <td>0.00000</td>\n",
       "      <td>0.0</td>\n",
       "      <td>29.749986</td>\n",
       "      <td>3.718736</td>\n",
       "      <td>0.305000</td>\n",
       "    </tr>\n",
       "    <tr>\n",
       "      <th>2</th>\n",
       "      <td>1581.0</td>\n",
       "      <td>1602.0</td>\n",
       "      <td>0.0</td>\n",
       "      <td>73.0</td>\n",
       "      <td>206.0</td>\n",
       "      <td>149.0</td>\n",
       "      <td>154.0</td>\n",
       "      <td>0.0</td>\n",
       "      <td>96.052315</td>\n",
       "      <td>0.00000</td>\n",
       "      <td>0.0</td>\n",
       "      <td>12.555561</td>\n",
       "      <td>2.588349</td>\n",
       "      <td>0.225278</td>\n",
       "    </tr>\n",
       "    <tr>\n",
       "      <th>3</th>\n",
       "      <td>1596.0</td>\n",
       "      <td>1599.0</td>\n",
       "      <td>0.0</td>\n",
       "      <td>34.0</td>\n",
       "      <td>205.0</td>\n",
       "      <td>152.0</td>\n",
       "      <td>153.0</td>\n",
       "      <td>0.0</td>\n",
       "      <td>91.160157</td>\n",
       "      <td>0.00000</td>\n",
       "      <td>0.0</td>\n",
       "      <td>28.554793</td>\n",
       "      <td>5.019223</td>\n",
       "      <td>0.181944</td>\n",
       "    </tr>\n",
       "    <tr>\n",
       "      <th>4</th>\n",
       "      <td>1601.0</td>\n",
       "      <td>1625.0</td>\n",
       "      <td>0.0</td>\n",
       "      <td>81.0</td>\n",
       "      <td>207.0</td>\n",
       "      <td>153.0</td>\n",
       "      <td>154.0</td>\n",
       "      <td>0.0</td>\n",
       "      <td>89.063515</td>\n",
       "      <td>0.00000</td>\n",
       "      <td>0.0</td>\n",
       "      <td>18.841219</td>\n",
       "      <td>3.400038</td>\n",
       "      <td>0.205833</td>\n",
       "    </tr>\n",
       "    <tr>\n",
       "      <th>5</th>\n",
       "      <td>1576.0</td>\n",
       "      <td>1602.0</td>\n",
       "      <td>0.0</td>\n",
       "      <td>78.0</td>\n",
       "      <td>203.0</td>\n",
       "      <td>151.0</td>\n",
       "      <td>152.0</td>\n",
       "      <td>0.0</td>\n",
       "      <td>89.238236</td>\n",
       "      <td>9.11456</td>\n",
       "      <td>0.0</td>\n",
       "      <td>5.413692</td>\n",
       "      <td>2.816980</td>\n",
       "      <td>0.241389</td>\n",
       "    </tr>\n",
       "    <tr>\n",
       "      <th>...</th>\n",
       "      <td>...</td>\n",
       "      <td>...</td>\n",
       "      <td>...</td>\n",
       "      <td>...</td>\n",
       "      <td>...</td>\n",
       "      <td>...</td>\n",
       "      <td>...</td>\n",
       "      <td>...</td>\n",
       "      <td>...</td>\n",
       "      <td>...</td>\n",
       "      <td>...</td>\n",
       "      <td>...</td>\n",
       "      <td>...</td>\n",
       "      <td>...</td>\n",
       "    </tr>\n",
       "    <tr>\n",
       "      <th>2495</th>\n",
       "      <td>1570.0</td>\n",
       "      <td>1591.0</td>\n",
       "      <td>21.0</td>\n",
       "      <td>0.0</td>\n",
       "      <td>256.0</td>\n",
       "      <td>129.0</td>\n",
       "      <td>223.0</td>\n",
       "      <td>90.0</td>\n",
       "      <td>89.150879</td>\n",
       "      <td>0.00000</td>\n",
       "      <td>0.0</td>\n",
       "      <td>7.125735</td>\n",
       "      <td>3.868721</td>\n",
       "      <td>0.200833</td>\n",
       "    </tr>\n",
       "    <tr>\n",
       "      <th>2496</th>\n",
       "      <td>1554.0</td>\n",
       "      <td>1591.0</td>\n",
       "      <td>0.0</td>\n",
       "      <td>63.0</td>\n",
       "      <td>256.0</td>\n",
       "      <td>129.0</td>\n",
       "      <td>226.0</td>\n",
       "      <td>122.0</td>\n",
       "      <td>114.179527</td>\n",
       "      <td>0.00000</td>\n",
       "      <td>0.0</td>\n",
       "      <td>9.412616</td>\n",
       "      <td>5.070316</td>\n",
       "      <td>0.261111</td>\n",
       "    </tr>\n",
       "    <tr>\n",
       "      <th>2497</th>\n",
       "      <td>1571.0</td>\n",
       "      <td>1589.0</td>\n",
       "      <td>0.0</td>\n",
       "      <td>85.0</td>\n",
       "      <td>230.0</td>\n",
       "      <td>124.0</td>\n",
       "      <td>226.0</td>\n",
       "      <td>0.0</td>\n",
       "      <td>94.086723</td>\n",
       "      <td>9.04800</td>\n",
       "      <td>0.0</td>\n",
       "      <td>6.271699</td>\n",
       "      <td>4.360918</td>\n",
       "      <td>0.158056</td>\n",
       "    </tr>\n",
       "    <tr>\n",
       "      <th>2498</th>\n",
       "      <td>1591.0</td>\n",
       "      <td>1594.0</td>\n",
       "      <td>90.0</td>\n",
       "      <td>0.0</td>\n",
       "      <td>206.0</td>\n",
       "      <td>129.0</td>\n",
       "      <td>207.0</td>\n",
       "      <td>101.0</td>\n",
       "      <td>118.110717</td>\n",
       "      <td>0.00000</td>\n",
       "      <td>0.0</td>\n",
       "      <td>14.953657</td>\n",
       "      <td>3.909917</td>\n",
       "      <td>0.208333</td>\n",
       "    </tr>\n",
       "    <tr>\n",
       "      <th>2499</th>\n",
       "      <td>1569.0</td>\n",
       "      <td>1603.0</td>\n",
       "      <td>47.0</td>\n",
       "      <td>0.0</td>\n",
       "      <td>233.0</td>\n",
       "      <td>126.0</td>\n",
       "      <td>227.0</td>\n",
       "      <td>0.0</td>\n",
       "      <td>110.160958</td>\n",
       "      <td>50.00528</td>\n",
       "      <td>0.0</td>\n",
       "      <td>11.336151</td>\n",
       "      <td>2.169252</td>\n",
       "      <td>0.245278</td>\n",
       "    </tr>\n",
       "  </tbody>\n",
       "</table>\n",
       "<p>2329 rows × 14 columns</p>\n",
       "</div>"
      ],
      "text/plain": [
       "      temp_first  temp_last  bulk_3  bulk_4  bulk_12  bulk_14  bulk_15  \\\n",
       "key                                                                      \n",
       "1         1571.0     1613.0     0.0    43.0    206.0    150.0    154.0   \n",
       "2         1581.0     1602.0     0.0    73.0    206.0    149.0    154.0   \n",
       "3         1596.0     1599.0     0.0    34.0    205.0    152.0    153.0   \n",
       "4         1601.0     1625.0     0.0    81.0    207.0    153.0    154.0   \n",
       "5         1576.0     1602.0     0.0    78.0    203.0    151.0    152.0   \n",
       "...          ...        ...     ...     ...      ...      ...      ...   \n",
       "2495      1570.0     1591.0    21.0     0.0    256.0    129.0    223.0   \n",
       "2496      1554.0     1591.0     0.0    63.0    256.0    129.0    226.0   \n",
       "2497      1571.0     1589.0     0.0    85.0    230.0    124.0    226.0   \n",
       "2498      1591.0     1594.0    90.0     0.0    206.0    129.0    207.0   \n",
       "2499      1569.0     1603.0    47.0     0.0    233.0    126.0    227.0   \n",
       "\n",
       "      bulk_16      wire_1    wire_2  wire_10        gas   s_power    time_h  \n",
       "key                                                                          \n",
       "1         0.0   60.059998   0.00000      0.0  29.749986  3.718736  0.305000  \n",
       "2         0.0   96.052315   0.00000      0.0  12.555561  2.588349  0.225278  \n",
       "3         0.0   91.160157   0.00000      0.0  28.554793  5.019223  0.181944  \n",
       "4         0.0   89.063515   0.00000      0.0  18.841219  3.400038  0.205833  \n",
       "5         0.0   89.238236   9.11456      0.0   5.413692  2.816980  0.241389  \n",
       "...       ...         ...       ...      ...        ...       ...       ...  \n",
       "2495     90.0   89.150879   0.00000      0.0   7.125735  3.868721  0.200833  \n",
       "2496    122.0  114.179527   0.00000      0.0   9.412616  5.070316  0.261111  \n",
       "2497      0.0   94.086723   9.04800      0.0   6.271699  4.360918  0.158056  \n",
       "2498    101.0  118.110717   0.00000      0.0  14.953657  3.909917  0.208333  \n",
       "2499      0.0  110.160958  50.00528      0.0  11.336151  2.169252  0.245278  \n",
       "\n",
       "[2329 rows x 14 columns]"
      ]
     },
     "execution_count": 35,
     "metadata": {},
     "output_type": "execute_result"
    }
   ],
   "source": [
    "df"
   ]
  },
  {
   "cell_type": "markdown",
   "id": "41f2a1ce",
   "metadata": {},
   "source": [
    "# Предобработка для моделей"
   ]
  },
  {
   "cell_type": "markdown",
   "id": "e5561588",
   "metadata": {},
   "source": [
    "<font size=\"3\"><b>Определяем признаки и таргет в переменные.</b></font>"
   ]
  },
  {
   "cell_type": "code",
   "execution_count": 35,
   "id": "0e3804cc",
   "metadata": {},
   "outputs": [],
   "source": [
    "# Объявлеяем таргет \n",
    "y = df.temp_last\n",
    "\n",
    "# Объявляем признаки \n",
    "X = df.drop(['temp_last'], axis = 1)"
   ]
  },
  {
   "cell_type": "markdown",
   "id": "ad9f3882",
   "metadata": {},
   "source": [
    "<font size=\"3\"><b>Делим данные на выборки 75/25 %</b></font>"
   ]
  },
  {
   "cell_type": "code",
   "execution_count": 36,
   "id": "70909e19",
   "metadata": {},
   "outputs": [],
   "source": [
    "y_train, y_test, X_train, X_test = train_test_split(y, X, test_size=0.25, \n",
    "                                                    random_state=12345)"
   ]
  },
  {
   "cell_type": "markdown",
   "id": "e9856a8d",
   "metadata": {},
   "source": [
    "<font size=\"3\"><b>Проверяем средний таргет после деления на выборки.</b></font>"
   ]
  },
  {
   "cell_type": "code",
   "execution_count": 37,
   "id": "b8fe1c6c",
   "metadata": {},
   "outputs": [
    {
     "data": {
      "text/plain": [
       "(1593.49, 1593.0, 1593.37)"
      ]
     },
     "execution_count": 37,
     "metadata": {},
     "output_type": "execute_result"
    }
   ],
   "source": [
    "round(y_train.mean(),2), round(y_test.mean(), 2), round(y.mean(), 2)"
   ]
  },
  {
   "cell_type": "markdown",
   "id": "c4983b65",
   "metadata": {},
   "source": [
    "<font size=\"3\"><b>Стандартизируем признаки моделью StandardScaler</b></font>"
   ]
  },
  {
   "cell_type": "code",
   "execution_count": 38,
   "id": "913705e2",
   "metadata": {},
   "outputs": [
    {
     "data": {
      "text/plain": [
       "array([[ 0.70549014, -0.61741725, -0.63630533, ..., -0.90121768,\n",
       "        -1.69354501, -1.34583441],\n",
       "       [-0.52379468, -0.61741725, -0.63630533, ..., -0.40527116,\n",
       "         0.31184103, -0.12518179],\n",
       "       [-0.65096208, -0.61741725, -0.63630533, ..., -0.29785683,\n",
       "         0.43490684, -0.07223782],\n",
       "       ...,\n",
       "       [ 0.02726403, -0.61741725,  0.96062683, ..., -0.63213174,\n",
       "        -0.08339252, -0.58108819],\n",
       "       [ 1.55327277,  0.90473986, -0.63630533, ..., -0.08484139,\n",
       "         0.97503732, -0.32225101],\n",
       "       [-0.8205186 , -0.61741725, -0.63630533, ...,  0.69986432,\n",
       "        -0.59629311,  0.31013528]])"
      ]
     },
     "execution_count": 38,
     "metadata": {},
     "output_type": "execute_result"
    }
   ],
   "source": [
    "# отключает предупреждения Pandas\n",
    "pd.options.mode.chained_assignment = None\n",
    "\n",
    "# создает объект класса StandardScaler\n",
    "scaler = StandardScaler()\n",
    "\n",
    "# применяем метод fit к набору данных X_train\n",
    "# чтобы вычислить параметры среднего и стандартного отклонения\n",
    "scaler.fit(X_train)\n",
    "\n",
    "# стандартизируем признаки\n",
    "X_test = scaler.transform(X_test)\n",
    "X_train = scaler.transform(X_train)\n",
    "\n",
    "\n",
    "X_train"
   ]
  },
  {
   "cell_type": "markdown",
   "id": "e140f9fa",
   "metadata": {},
   "source": [
    "# Обучение моделей"
   ]
  },
  {
   "cell_type": "markdown",
   "id": "a817d556",
   "metadata": {},
   "source": [
    "<font size=\"3\"><b>Модель LinearRegression с базовыми параметрами.</b></font>"
   ]
  },
  {
   "cell_type": "code",
   "execution_count": 39,
   "id": "b97f3c84",
   "metadata": {},
   "outputs": [
    {
     "name": "stdout",
     "output_type": "stream",
     "text": [
      "CPU times: total: 0 ns\n",
      "Wall time: 62.9 ms\n"
     ]
    },
    {
     "data": {
      "text/plain": [
       "(6.375222060838563, 6.3664167257221935)"
      ]
     },
     "execution_count": 39,
     "metadata": {},
     "output_type": "execute_result"
    }
   ],
   "source": [
    "%%time\n",
    "\n",
    "# Создаем объект модели линейной регрессии\n",
    "lr = LinearRegression()\n",
    "\n",
    "# Оценка качества модели с помощью кросс-валидации\n",
    "scores = cross_val_score(lr, X_train, y_train, scoring = 'neg_mean_absolute_error', cv=5)*-1\n",
    "\n",
    "# Обучение модели на тренировочных данных\n",
    "lr.fit(X_train, y_train)\n",
    "\n",
    "# Прогнозирование целевой переменной на тестовых данных\n",
    "y_pred = lr.predict(X_test)\n",
    "\n",
    "# Оценка качества модели на тестовых данных\n",
    "mae_lr_0 = mean_absolute_error(y_test, y_pred)\n",
    "\n",
    "# Расчет среднего значения MAE на кросс-валидации\n",
    "mae_lr = scores.mean()\n",
    "\n",
    "# Выводим результаты оценки\n",
    "print(f\"Среднее значение MAE на кросс-валидации: {mae_lr}\")\n",
    "print(f\"MAE на тестовых данных: {mae_lr_0}\")"
   ]
  },
  {
   "cell_type": "markdown",
   "id": "49367c5e",
   "metadata": {},
   "source": [
    "<font size=\"3\"><b>Модель RandomForestRegressor с базовыми параметрами.</b></font>"
   ]
  },
  {
   "cell_type": "code",
   "execution_count": 40,
   "id": "1c8c24e1",
   "metadata": {},
   "outputs": [
    {
     "name": "stdout",
     "output_type": "stream",
     "text": [
      "CPU times: total: 14.6 s\n",
      "Wall time: 15.6 s\n"
     ]
    },
    {
     "data": {
      "text/plain": [
       "(6.316375554645927, 6.552813036020583)"
      ]
     },
     "execution_count": 40,
     "metadata": {},
     "output_type": "execute_result"
    }
   ],
   "source": [
    "%%time\n",
    "\n",
    "# Создаем объект случайного леса\n",
    "rfr = RandomForestRegressor(random_state = 240423)\n",
    "\n",
    "# Оценка качества модели с помощью кросс-валидации\n",
    "scores = cross_val_score(rfr, X_train, y_train, scoring = 'neg_mean_absolute_error', cv=5)*-1\n",
    "\n",
    "# Обучаем модель случайного леса на тренировочном наборе данных\n",
    "rfr.fit(X_train, y_train)\n",
    "\n",
    "# Прогнозирование целевой переменной на тестовых данных\n",
    "y_pred = rfr.predict(X_test)\n",
    "\n",
    "# Оценка качества модели на тестовых данных\n",
    "mae_rfr_0 = mean_absolute_error(y_test, y_pred)\n",
    "\n",
    "# Рассчитываем среднюю абсолютную ошибку с помощью кросс-валидации\n",
    "mae_rfr = scores.mean()\n",
    "\n",
    "# Выводим результаты оценки\n",
    "print(f\"Среднее значение MAE на кросс-валидации: {mae_rfr}\")\n",
    "print(f\"MAE на тестовых данных: {mae_rfr_0}\")"
   ]
  },
  {
   "cell_type": "markdown",
   "id": "c7c0823c",
   "metadata": {},
   "source": [
    "<font size=\"3\"><b>Поиск лучших параметров для модели RandomForestRegressor, методом случайного подбора параметров.</b></font>"
   ]
  },
  {
   "cell_type": "code",
   "execution_count": 53,
   "id": "123c5bf7",
   "metadata": {
    "scrolled": true
   },
   "outputs": [
    {
     "name": "stdout",
     "output_type": "stream",
     "text": [
      "Fitting 5 folds for each of 30 candidates, totalling 150 fits\n",
      "CPU times: total: 938 ms\n",
      "Wall time: 33.4 s\n"
     ]
    },
    {
     "data": {
      "text/plain": [
       "(6.278489462859661, 6.626598016351513)"
      ]
     },
     "execution_count": 53,
     "metadata": {},
     "output_type": "execute_result"
    }
   ],
   "source": [
    "%%time\n",
    "\n",
    "# Создаем объект модели случайного леса\n",
    "rfr = RandomForestRegressor(random_state=240423, n_jobs=-1)\n",
    "\n",
    "# Определяем диапазоны значений гиперпараметров для случайного поиска\n",
    "n_estimators = [int(x) for x in np.linspace(start = 50, stop = 150, num = 100)]\n",
    "max_depth = [int(x) for x in np.linspace(start = 5, stop = 20, num = 15)]\n",
    "min_samples_leaf = [int(x) for x in np.linspace(start = 5, stop = 20, num = 15)]\n",
    "\n",
    "# Определяем набор возможных значений гиперпараметров для случайного поиска\n",
    "param_dist = {'max_depth': max_depth,\n",
    "              'n_estimators': n_estimators,\n",
    "              'min_samples_leaf': min_samples_leaf}\n",
    "\n",
    "# Применяем случайный поиск\n",
    "rs = RandomizedSearchCV(rfr, \n",
    "                        param_dist, \n",
    "                        n_iter = 30, \n",
    "                        cv = 5, \n",
    "                        verbose = 10, \n",
    "                        n_jobs=-1,\n",
    "                        scoring = 'neg_mean_absolute_error',\n",
    "                        random_state=240423)\n",
    "\n",
    "# Обучаем модель случайного леса на тренировочном наборе данных\n",
    "rs.fit(X_train, y_train)\n",
    "\n",
    "# Предсказываем результаты на тренировочном датасете с помощью лучших найденных гиперпараметров\n",
    "y_pred = rs.predict(X_test)\n",
    "\n",
    "# Оценка качества модели на тестовых данных\n",
    "mae_rs_0 = mean_absolute_error(y_test, y_pred)\n",
    "\n",
    "# лучшее значение метрики случайным поиском\n",
    "ran_for_rs = rs.best_score_*-1\n",
    "\n",
    "# Выводим результаты оценки\n",
    "print(f\"Лучшее значение MAE случайным поиском: {ran_for_rs}\")\n",
    "print(f\"MAE на тестовых данных: {mae_rs_0}\")"
   ]
  },
  {
   "cell_type": "markdown",
   "id": "f8dbb87f",
   "metadata": {},
   "source": [
    "<font size=\"3\"><b>Модель CatBoostRegressor с базовыми настройками.</b> </font>"
   ]
  },
  {
   "cell_type": "code",
   "execution_count": 42,
   "id": "5df16b12",
   "metadata": {},
   "outputs": [
    {
     "name": "stdout",
     "output_type": "stream",
     "text": [
      "CPU times: total: 1.39 s\n",
      "Wall time: 2.15 s\n"
     ]
    },
    {
     "data": {
      "text/plain": [
       "(6.214805309171057, 6.605917758370775)"
      ]
     },
     "execution_count": 42,
     "metadata": {},
     "output_type": "execute_result"
    }
   ],
   "source": [
    "%%time\n",
    "# Создание объекта CatBoostRegressor\n",
    "cat_reg = CatBoostRegressor(iterations=100, depth=5, verbose = False)\n",
    "\n",
    "# Оценка качества модели с помощью кросс-валидации\n",
    "scores = cross_val_score(cat_reg, X_train, y_train, scoring = 'neg_mean_absolute_error', cv=5)*-1\n",
    "\n",
    "# Создание обучающей выборки для CatBoostRegressor\n",
    "train_pool = Pool(X_train, y_train)\n",
    "\n",
    "# Обучение модели на обучающей выборке\n",
    "cat_reg.fit(train_pool)\n",
    "\n",
    "# Получение предсказаний на тестовой выборке\n",
    "y_pred = cat_reg.predict(X_test)\n",
    "\n",
    "# Оценка качества модели на тестовых данных\n",
    "mae_cat_0 = mean_absolute_error(y_test, y_pred)\n",
    "\n",
    "# Вычисление средней оценки MAE\n",
    "mae_cat = scores.mean()\n",
    "\n",
    "# Выводим результаты оценки\n",
    "print(f\"Лучшее значение MAE на кросс-валидации: {mae_cat}\")\n",
    "print(f\"MAE на тестовых данных: {mae_cat_0}\")"
   ]
  },
  {
   "cell_type": "markdown",
   "id": "f01c1906",
   "metadata": {},
   "source": [
    "<font size=\"3\"><b>Проверяем базовые параметры модели LGBMRegressor.</b></font>"
   ]
  },
  {
   "cell_type": "code",
   "execution_count": 43,
   "id": "8c37927d",
   "metadata": {
    "scrolled": true
   },
   "outputs": [
    {
     "name": "stdout",
     "output_type": "stream",
     "text": [
      "[1]\tvalid_0's l1: 8.13813\n",
      "[2]\tvalid_0's l1: 7.94534\n",
      "[3]\tvalid_0's l1: 7.76754\n",
      "[4]\tvalid_0's l1: 7.63189\n",
      "[5]\tvalid_0's l1: 7.50697\n",
      "[6]\tvalid_0's l1: 7.39645\n",
      "[7]\tvalid_0's l1: 7.29322\n",
      "[8]\tvalid_0's l1: 7.19729\n",
      "[9]\tvalid_0's l1: 7.0959\n",
      "[10]\tvalid_0's l1: 7.02939\n",
      "[11]\tvalid_0's l1: 6.98325\n",
      "[12]\tvalid_0's l1: 6.94187\n",
      "[13]\tvalid_0's l1: 6.89999\n",
      "[14]\tvalid_0's l1: 6.85259\n",
      "[15]\tvalid_0's l1: 6.83361\n",
      "[16]\tvalid_0's l1: 6.79839\n",
      "[17]\tvalid_0's l1: 6.78822\n",
      "[18]\tvalid_0's l1: 6.75341\n",
      "[19]\tvalid_0's l1: 6.72833\n",
      "[20]\tvalid_0's l1: 6.71759\n",
      "[21]\tvalid_0's l1: 6.70766\n",
      "[22]\tvalid_0's l1: 6.6781\n",
      "[23]\tvalid_0's l1: 6.66774\n",
      "[24]\tvalid_0's l1: 6.65646\n",
      "[25]\tvalid_0's l1: 6.64776\n",
      "[26]\tvalid_0's l1: 6.63958\n",
      "[27]\tvalid_0's l1: 6.63101\n",
      "[28]\tvalid_0's l1: 6.61684\n",
      "[29]\tvalid_0's l1: 6.61354\n",
      "[30]\tvalid_0's l1: 6.6027\n",
      "[31]\tvalid_0's l1: 6.60954\n",
      "[32]\tvalid_0's l1: 6.60216\n",
      "[33]\tvalid_0's l1: 6.60004\n",
      "[34]\tvalid_0's l1: 6.60135\n",
      "[35]\tvalid_0's l1: 6.59487\n",
      "[36]\tvalid_0's l1: 6.59309\n",
      "[37]\tvalid_0's l1: 6.5937\n",
      "[38]\tvalid_0's l1: 6.58765\n",
      "[39]\tvalid_0's l1: 6.58639\n",
      "[40]\tvalid_0's l1: 6.58479\n",
      "[41]\tvalid_0's l1: 6.58995\n",
      "[42]\tvalid_0's l1: 6.59347\n",
      "[43]\tvalid_0's l1: 6.59363\n",
      "[44]\tvalid_0's l1: 6.59265\n",
      "[45]\tvalid_0's l1: 6.60067\n",
      "[46]\tvalid_0's l1: 6.60442\n",
      "[47]\tvalid_0's l1: 6.60228\n",
      "[48]\tvalid_0's l1: 6.59911\n",
      "[49]\tvalid_0's l1: 6.59744\n",
      "[50]\tvalid_0's l1: 6.6058\n",
      "[51]\tvalid_0's l1: 6.60508\n",
      "[52]\tvalid_0's l1: 6.60893\n",
      "[53]\tvalid_0's l1: 6.61341\n",
      "[54]\tvalid_0's l1: 6.61348\n",
      "[55]\tvalid_0's l1: 6.62191\n",
      "[56]\tvalid_0's l1: 6.62377\n",
      "[57]\tvalid_0's l1: 6.6281\n",
      "[58]\tvalid_0's l1: 6.63169\n",
      "[59]\tvalid_0's l1: 6.63486\n",
      "[60]\tvalid_0's l1: 6.63157\n",
      "[61]\tvalid_0's l1: 6.63847\n",
      "[62]\tvalid_0's l1: 6.64368\n",
      "[63]\tvalid_0's l1: 6.64257\n",
      "[64]\tvalid_0's l1: 6.64656\n",
      "[65]\tvalid_0's l1: 6.65015\n",
      "[66]\tvalid_0's l1: 6.64955\n",
      "[67]\tvalid_0's l1: 6.65336\n",
      "[68]\tvalid_0's l1: 6.65124\n",
      "[69]\tvalid_0's l1: 6.65442\n",
      "[70]\tvalid_0's l1: 6.65047\n",
      "[71]\tvalid_0's l1: 6.65007\n",
      "[72]\tvalid_0's l1: 6.65952\n",
      "[73]\tvalid_0's l1: 6.66068\n",
      "[74]\tvalid_0's l1: 6.65908\n",
      "[75]\tvalid_0's l1: 6.65992\n",
      "[76]\tvalid_0's l1: 6.6572\n",
      "[77]\tvalid_0's l1: 6.65649\n",
      "[78]\tvalid_0's l1: 6.65878\n",
      "[79]\tvalid_0's l1: 6.65937\n",
      "[80]\tvalid_0's l1: 6.66249\n",
      "[81]\tvalid_0's l1: 6.66978\n",
      "[82]\tvalid_0's l1: 6.66241\n",
      "[83]\tvalid_0's l1: 6.66638\n",
      "[84]\tvalid_0's l1: 6.67311\n",
      "[85]\tvalid_0's l1: 6.67122\n",
      "[86]\tvalid_0's l1: 6.67128\n",
      "[87]\tvalid_0's l1: 6.67867\n",
      "[88]\tvalid_0's l1: 6.67458\n",
      "[89]\tvalid_0's l1: 6.67696\n",
      "[90]\tvalid_0's l1: 6.67788\n",
      "CPU times: total: 7.92 s\n",
      "Wall time: 1.33 s\n"
     ]
    },
    {
     "name": "stderr",
     "output_type": "stream",
     "text": [
      "C:\\Users\\Мария\\AppData\\Local\\Programs\\Python\\Python310\\lib\\site-packages\\lightgbm\\sklearn.py:726: UserWarning: 'early_stopping_rounds' argument is deprecated and will be removed in a future release of LightGBM. Pass 'early_stopping()' callback via 'callbacks' argument instead.\n",
      "  _log_warning(\"'early_stopping_rounds' argument is deprecated and will be removed in a future release of LightGBM. \"\n"
     ]
    },
    {
     "data": {
      "text/plain": [
       "(6.4050353670499005, 6.584791884728227)"
      ]
     },
     "execution_count": 43,
     "metadata": {},
     "output_type": "execute_result"
    }
   ],
   "source": [
    "%%time\n",
    "# Создание экземпляра LGBMRegressor\n",
    "lgb = LGBMRegressor(objective='regression', metric = 'mae', random_state=240423)\n",
    "\n",
    "# Оценка качества модели с помощью кросс-валидации\n",
    "scores = cross_val_score(lgb, X_train, y_train, scoring = 'neg_mean_absolute_error', cv=5)*-1\n",
    "\n",
    "# Обучение модели LGBMRegressor\n",
    "lgb.fit(X_train, y_train, eval_set=[(X_test, y_test)],\n",
    "        early_stopping_rounds=50,  eval_metric='mae')\n",
    "\n",
    "# Предсказание на тестовом датасете\n",
    "y_pred = lgb.predict(X_test)\n",
    "\n",
    "# Оценка качества модели на тестовых данных\n",
    "mae_lgb_0 = mean_absolute_error(y_test, y_pred)\n",
    "\n",
    "# Рассчитываем среднюю абсолютную ошибку с помощью кросс-валидации\n",
    "mae_lgb = scores.mean()\n",
    "\n",
    "# Выводим результаты оценки\n",
    "print(f\"Лучшее значение MAE на кросс-валидации: {mae_lgb}\")\n",
    "print(f\"MAE на тестовых данных: {mae_lgb_0}\")"
   ]
  },
  {
   "cell_type": "markdown",
   "id": "b3ce0151",
   "metadata": {},
   "source": [
    "<font size=\"3\"><b>Сетка выбора параметров для модели LGBMRegressor.</b></font>"
   ]
  },
  {
   "cell_type": "code",
   "execution_count": 52,
   "id": "6c523516",
   "metadata": {},
   "outputs": [
    {
     "name": "stdout",
     "output_type": "stream",
     "text": [
      "Fitting 3 folds for each of 20 candidates, totalling 60 fits\n",
      "CPU times: total: 2.58 s\n",
      "Wall time: 5 s\n"
     ]
    },
    {
     "data": {
      "text/plain": [
       "(6.329570939728253, 6.6062764017347835)"
      ]
     },
     "execution_count": 52,
     "metadata": {},
     "output_type": "execute_result"
    }
   ],
   "source": [
    "%%time\n",
    "\n",
    "# Определяем диапазоны значений гиперпараметров для случайного поиска\n",
    "parameters = {\n",
    "    'max_depth': [-1, 3, 5, 6, 7, 9, 12, 15, 20, 25, 30, 35],\n",
    "    'learning_rate': [0.01, 0.015, 0.025, 0.05, 0.1],\n",
    "    'min_split_gain':[0, 0.05, 0.1, 0.3, 0.5, 0.7, 0.9, 1],\n",
    "    'subsample': [0.6, 0.7, 0.8, 0.9, 1],\n",
    "    'colsample_bytree':[0.6, 0.7, 0.8, 0.9, 1],\n",
    "    'n_estimators': [100, 300, 500],\n",
    "    'reg_alpha': [0, 0.001, 0.01, 1],\n",
    "    'reg_lambda': [0, 0.01, 0.05, 1]}\n",
    "\n",
    "# Создание экземпляра LGBMRegressor\n",
    "lgb = LGBMRegressor(objective='regression', random_state=240423)\n",
    "\n",
    "# Применяем случайный поиск\n",
    "lgb_random = RandomizedSearchCV(lgb,\n",
    "                                parameters, \n",
    "                                n_iter = 20, \n",
    "                                cv = 3, \n",
    "                                verbose = 10, \n",
    "                                n_jobs=-1,\n",
    "                                scoring = 'neg_mean_absolute_error',\n",
    "                                random_state=240423)\n",
    "\n",
    "# Обучение модели\n",
    "lgb_random.fit(X_train, y_train)\n",
    "\n",
    "# Предсказание на тестовом датасете\n",
    "y_pred = lgb_random.predict(X_test)\n",
    "\n",
    "# Оценка качества модели на тестовых данных\n",
    "mae_lgb_1 = mean_absolute_error(y_test, y_pred)\n",
    "\n",
    "# лучшее значение метрики случайным поиском\n",
    "lgbm_score = lgb_random.best_score_*-1\n",
    "\n",
    "# Выводим результаты оценки\n",
    "print(f\"Лучшее значение MAE случайным поиском: {lgbm_score}\")\n",
    "print(f\"MAE на тестовых данных: {mae_lgb_1}\")"
   ]
  },
  {
   "cell_type": "markdown",
   "id": "a9899e41",
   "metadata": {},
   "source": [
    "## Анализ моделей"
   ]
  },
  {
   "cell_type": "code",
   "execution_count": 45,
   "id": "784b787f",
   "metadata": {},
   "outputs": [
    {
     "data": {
      "text/plain": [
       "(7.995414162169403, 8.396983843492315)"
      ]
     },
     "execution_count": 45,
     "metadata": {},
     "output_type": "execute_result"
    }
   ],
   "source": [
    "# Создание экземпляра констаннстной модели\n",
    "const = DummyRegressor(strategy=\"mean\")\n",
    "\n",
    "# Обучение модели\n",
    "const.fit(X_train, y_train)\n",
    "\n",
    "# Предсказание на тренировочном датасете\n",
    "pred_const = const.predict(X_train)\n",
    "\n",
    "# Предсказание на тестовых датасете\n",
    "pred_const_1 = const.predict(X_test)\n",
    "\n",
    "# Оценка качества модели на тренировочных данных\n",
    "mae_const = mean_absolute_error(y_train, pred_const)\n",
    "\n",
    "# Оценка качества модели на тестовых данных\n",
    "mae_const_1 = mean_absolute_error(y_test, pred_const_1)\n",
    "\n",
    "# Выводим результаты оценки\n",
    "print(f\"Значение MAE констаннстной модели: {mae_const}\")\n",
    "print(f\"MAE на тестовых данных констаннстной модели: {mae_const_1}\")"
   ]
  },
  {
   "cell_type": "markdown",
   "id": "dac414e9",
   "metadata": {},
   "source": [
    "<font size=\"3\"><b>Объединяем полученные результаты в одну таблицу для нагялдности</b></font>"
   ]
  },
  {
   "cell_type": "code",
   "execution_count": 54,
   "id": "f93249f0",
   "metadata": {},
   "outputs": [
    {
     "data": {
      "text/html": [
       "<div>\n",
       "<style scoped>\n",
       "    .dataframe tbody tr th:only-of-type {\n",
       "        vertical-align: middle;\n",
       "    }\n",
       "\n",
       "    .dataframe tbody tr th {\n",
       "        vertical-align: top;\n",
       "    }\n",
       "\n",
       "    .dataframe thead th {\n",
       "        text-align: right;\n",
       "    }\n",
       "</style>\n",
       "<table border=\"1\" class=\"dataframe\">\n",
       "  <thead>\n",
       "    <tr style=\"text-align: right;\">\n",
       "      <th></th>\n",
       "      <th>mae_train</th>\n",
       "    </tr>\n",
       "  </thead>\n",
       "  <tbody>\n",
       "    <tr>\n",
       "      <th>CatBoostRegressor</th>\n",
       "      <td>6.21</td>\n",
       "    </tr>\n",
       "    <tr>\n",
       "      <th>RFR_RandomizedSearchCV</th>\n",
       "      <td>6.28</td>\n",
       "    </tr>\n",
       "    <tr>\n",
       "      <th>RandomForestRegressor_default</th>\n",
       "      <td>6.32</td>\n",
       "    </tr>\n",
       "    <tr>\n",
       "      <th>LGBMRegressor</th>\n",
       "      <td>6.33</td>\n",
       "    </tr>\n",
       "    <tr>\n",
       "      <th>LinearRegression</th>\n",
       "      <td>6.38</td>\n",
       "    </tr>\n",
       "    <tr>\n",
       "      <th>LGBMRegressor_default</th>\n",
       "      <td>6.41</td>\n",
       "    </tr>\n",
       "    <tr>\n",
       "      <th>DummyRegressor</th>\n",
       "      <td>8.00</td>\n",
       "    </tr>\n",
       "  </tbody>\n",
       "</table>\n",
       "</div>"
      ],
      "text/plain": [
       "                               mae_train\n",
       "CatBoostRegressor                   6.21\n",
       "RFR_RandomizedSearchCV              6.28\n",
       "RandomForestRegressor_default       6.32\n",
       "LGBMRegressor                       6.33\n",
       "LinearRegression                    6.38\n",
       "LGBMRegressor_default               6.41\n",
       "DummyRegressor                      8.00"
      ]
     },
     "execution_count": 54,
     "metadata": {},
     "output_type": "execute_result"
    }
   ],
   "source": [
    "mae_train = [round(mae_lr, 2),\n",
    "             round(mae_rfr, 2),\n",
    "             round(ran_for_rs, 2),\n",
    "             round(mae_cat, 2),\n",
    "             round(mae_lgb, 2),\n",
    "             round(lgbm_score, 2), \n",
    "             round(mae_const, 2)]\n",
    "\n",
    "data = {'mae_train' : mae_train}\n",
    "        \n",
    "\n",
    "total = pd.DataFrame(data, index=[\n",
    "    'LinearRegression',\n",
    "    'RandomForestRegressor_default',\n",
    "    'RFR_RandomizedSearchCV',\n",
    "    'CatBoostRegressor',\n",
    "    'LGBMRegressor_default',\n",
    "    'LGBMRegressor',\n",
    "    'DummyRegressor'\n",
    "])\n",
    "\n",
    "total.sort_values('mae_train')"
   ]
  },
  {
   "cell_type": "markdown",
   "id": "f8c1ebd2",
   "metadata": {},
   "source": [
    "## Тестирование лучшей модели"
   ]
  },
  {
   "cell_type": "code",
   "execution_count": 57,
   "id": "a069e45c",
   "metadata": {},
   "outputs": [
    {
     "name": "stdout",
     "output_type": "stream",
     "text": [
      "Предварительный результат МАЕ на тестовой выборке:  6.606\n"
     ]
    }
   ],
   "source": [
    "print('Предварительный результат МАЕ на тестовой выборке: ',mae_cat_0.round(3))"
   ]
  },
  {
   "cell_type": "markdown",
   "id": "d3a59080",
   "metadata": {},
   "source": [
    "### Вывод: исходя из данных полученных метрик, выбираем модель CatBoostRegressor."
   ]
  },
  {
   "cell_type": "markdown",
   "id": "46ba5be4",
   "metadata": {},
   "source": [
    "### Определяем важность признаков в выборке"
   ]
  },
  {
   "cell_type": "code",
   "execution_count": 65,
   "id": "792453b8",
   "metadata": {},
   "outputs": [
    {
     "data": {
      "image/png": "[encoded data removed]",
      "text/plain": [
       "<Figure size 432x288 with 1 Axes>"
      ]
     },
     "metadata": {
      "needs_background": "light"
     },
     "output_type": "display_data"
    }
   ],
   "source": [
    "# Извлекаем важжность при знаков из обученной модели\n",
    "importances = cat_reg.feature_importances_\n",
    "\n",
    "# Создаем датафрейм с важностью признаков\n",
    "X_results = pd.DataFrame({'feature': list(X.columns),\n",
    "                          'importance': importances}).sort_values('importance')\n",
    "\n",
    "# Устанавливаем заголовок\n",
    "plt.title('Важность признаков')\n",
    "\n",
    "# Строим горизонтальную столбчатую диаграмму\n",
    "plt.barh(X_results['feature'], X_results['importance'])\n",
    "\n",
    "# Отображаем график\n",
    "plt.show()"
   ]
  },
  {
   "cell_type": "code",
   "execution_count": 66,
   "id": "41ca82c5",
   "metadata": {},
   "outputs": [
    {
     "name": "stdout",
     "output_type": "stream",
     "text": [
      "Итоговое значение метрики МАЕ:  6.217\n"
     ]
    }
   ],
   "source": [
    "# Удаляем менее значимые признаки\n",
    "X_test_t = np.delete(X_test, [9, 2, 1], axis=1)\n",
    "X_train_t = np.delete(X_train, [9, 2, 1], axis=1)\n",
    "\n",
    "# Обучение модели\n",
    "cat_reg.fit(X_train_t, y_train)\n",
    "\n",
    "# Предсказание на тестовом датасете\n",
    "X_pred = cat_reg.predict(X_test_t)\n",
    "\n",
    "# Оценка качества модели на тестовых данных\n",
    "best_mae = mean_absolute_error(y_test, X_pred)\n",
    "\n",
    "print('Итоговое значение метрики МАЕ: ',best_mae.round(3))"
   ]
  },
  {
   "cell_type": "code",
   "execution_count": 71,
   "id": "2870e7fc",
   "metadata": {},
   "outputs": [
    {
     "data": {
      "image/png": "[encoded data removed]",
      "text/plain": [
       "<Figure size 432x288 with 1 Axes>"
      ]
     },
     "metadata": {
      "needs_background": "light"
     },
     "output_type": "display_data"
    }
   ],
   "source": [
    "# Извлекаем важжность признаков из обученной модели\n",
    "importances = cat_reg.feature_importances_\n",
    "\n",
    "# Создаем датафрейм с важностью признаков\n",
    "X_results = pd.DataFrame({'feature': list(X.columns.drop(X.iloc[:,[9,2,1]])),\n",
    "                          'importance': importances}).sort_values('importance')\n",
    "\n",
    "# Устанавливаем заголовок\n",
    "plt.title('Важность признаков')\n",
    "\n",
    "# Строим горизонтальную столбчатую диаграмму\n",
    "plt.barh(X_results['feature'], X_results['importance'])\n",
    "\n",
    "# Отображаем график\n",
    "plt.show()"
   ]
  },
  {
   "cell_type": "markdown",
   "id": "4cc85257",
   "metadata": {},
   "source": [
    "### Вывод: Смогли незначительно улучшить качество модели на 0,4. Методом удаления менее значимых признаков."
   ]
  },
  {
   "cell_type": "markdown",
   "id": "ec188309",
   "metadata": {},
   "source": [
    "# Отчет"
   ]
  },
  {
   "cell_type": "markdown",
   "id": "fa7515f1",
   "metadata": {},
   "source": [
    "#### Выполненые пункты.\n",
    "###### Часть 1: первичный анализ данных. Все пункты в разделе выполнены\n",
    "- [x]  План работ по всему проекту.\n",
    "- [x]  Изучить данные и обнаружить особенности в данных (выбросы/пропуски/нормальность распределения/)  \n",
    "- [x]  Составить графический анализ данных\n",
    "- [x]  Использование методов заполнения пропусков выявленных в данных  \n",
    "- [x]  Объединение данных в один фрейм  \n",
    "- [x]  Определение таргета и факторов  \n",
    "###### Часть 2: построение самой модели. Все пункты в разделе выполнены \n",
    "- [x]  Поиск лучшей модели для данной задачи  \n",
    "- [x]  Использование подбора гиперпараметров  \n",
    "- [x]  Поиск важных факторов для таргета улучшение модели\n",
    "\n",
    "### Сложности и решения :  \n",
    "- В работе над проектом, возникали вопросы на тему определения таргета и его фильтрации. Этот вопрос был поднят на встречи с тим лидом, и подробно изучен. Выснили что самим таргетом является температура, а точнее послежнее ее вхождение.  \n",
    "\n",
    "### Ключевые шаги:  \n",
    "- В данном пректе важным и ключевым шагом была предобработка данных, а точнее создание новых факторов которые сильно повлияли на кацество предсказаний модели (изходя из данных о важности факторов).  \n",
    "\n",
    "### Итоговая модель:  \n",
    "- CatBoostRegressor Итоговое МАЕ = 6.217  \n",
    "\n",
    "### Список признаков:  \n",
    "- Время работы нагревателей\n",
    "- Общая мощность\n",
    "- Расход газа\n",
    "- Сыпучая присадка 6 шт\n",
    "- Проволочная присадка 3 шт\n",
    "- Температура первый замер  \n",
    "### Предобработка признаков: \n",
    "- Ключ: в данных по температуре, времени работы, присадки,ключи были разделены на итерации, и итераций всегда было разное количество, так как у нас была задача регрессии мы суммировали, а где то объеденили данные по ключам, в следствии ключи стали индексами в итоговой выборке.\n",
    "- Время работы нагревателей: в данных были известны точная дата и время начала и конца нагрева, разница этих показателей стала одним параметром Временем работы.  \n",
    "- Общая мощность: в днных были значения Активной и Реактивной мощьности, по формуле проебразовал их в однин параметр, так же в данных были вбросы слишком большие значения, которые мы убрали. \n",
    "- Расход газа: в данных небыло проблем они были с вбросами которые скорее всего реальные данные.  \n",
    "- Сыпучая присадка: в данных было 15 видов присадки, не все из них часто использовались и были редкими их значения, что бы не терять это данные как параметр объеденили редко использованные присадки в одну группу, тем самым получили новый фактор в котором меньше шума и больше информативности.  \n",
    "- Проволочная присадка: произведена работа аналогично сыпучей присадке, проблематика была та же.  \n",
    "- Температура первый замер: в данных по температуре было много промежуточных замеров, при каждой итерации, добавления присадки либо размешивания, так же были ключи в которых был всего один замер температуры их мы исключили как не информативные. И тоговой выборке остались только те ключи, где замеров температуры было больше или равно двум. Тем самым первый замер стал признаком, второй таргетом.  \n",
    "### Гипер параметры модели: CatBoostRegressor  \n",
    "- iterations=100\n",
    "- verbose = False\n",
    "- max_depth=5\n",
    "- random_state=240423\n",
    "### Рекомендаций к улучшению модели:  \n",
    "- Для улучшения модели можно попрбовать увеличить выборку и перемешать ее. Возможно метрика может еще улучшится."
   ]
  }
 ],
 "metadata": {
  "ExecuteTimeLog": [
   {
    "duration": 1176,
    "start_time": "2023-04-25T23:27:19.205Z"
   },
   {
    "duration": 3,
    "start_time": "2023-04-25T23:27:20.383Z"
   },
   {
    "duration": 4,
    "start_time": "2023-04-25T23:27:20.977Z"
   },
   {
    "duration": 714,
    "start_time": "2023-04-25T23:27:22.792Z"
   },
   {
    "duration": 25,
    "start_time": "2023-04-25T23:27:47.717Z"
   },
   {
    "duration": 20,
    "start_time": "2023-04-25T23:27:48.276Z"
   },
   {
    "duration": 15,
    "start_time": "2023-04-25T23:28:14.552Z"
   },
   {
    "duration": 15,
    "start_time": "2023-04-25T23:28:15.004Z"
   },
   {
    "duration": 21,
    "start_time": "2023-04-25T23:28:42.968Z"
   },
   {
    "duration": 48,
    "start_time": "2023-04-25T23:28:43.482Z"
   },
   {
    "duration": 25,
    "start_time": "2023-04-25T23:28:44.794Z"
   },
   {
    "duration": 14,
    "start_time": "2023-04-25T23:28:46.031Z"
   },
   {
    "duration": 15,
    "start_time": "2023-04-25T23:28:46.204Z"
   },
   {
    "duration": 18,
    "start_time": "2023-04-25T23:28:46.511Z"
   },
   {
    "duration": 34,
    "start_time": "2023-04-25T23:28:46.666Z"
   },
   {
    "duration": 17,
    "start_time": "2023-04-25T23:28:47.006Z"
   },
   {
    "duration": 6800,
    "start_time": "2023-04-25T23:28:47.498Z"
   },
   {
    "duration": 104,
    "start_time": "2023-04-25T23:28:54.300Z"
   },
   {
    "duration": 1,
    "start_time": "2023-04-25T23:28:54.405Z"
   },
   {
    "duration": 0,
    "start_time": "2023-04-25T23:28:54.406Z"
   },
   {
    "duration": 0,
    "start_time": "2023-04-25T23:28:54.407Z"
   },
   {
    "duration": 1,
    "start_time": "2023-04-25T23:28:54.408Z"
   },
   {
    "duration": 1687,
    "start_time": "2023-04-25T23:31:07.988Z"
   },
   {
    "duration": 5,
    "start_time": "2023-04-30T05:14:23.325Z"
   },
   {
    "duration": 2377,
    "start_time": "2023-05-03T09:24:55.017Z"
   },
   {
    "duration": 4,
    "start_time": "2023-05-03T09:24:57.395Z"
   },
   {
    "duration": 8,
    "start_time": "2023-05-03T09:24:57.400Z"
   },
   {
    "duration": 497,
    "start_time": "2023-05-03T09:24:57.410Z"
   },
   {
    "duration": 23,
    "start_time": "2023-05-03T09:24:57.909Z"
   },
   {
    "duration": 11,
    "start_time": "2023-05-03T09:24:57.933Z"
   },
   {
    "duration": 19,
    "start_time": "2023-05-03T09:24:57.945Z"
   },
   {
    "duration": 29,
    "start_time": "2023-05-03T09:24:57.966Z"
   },
   {
    "duration": 5,
    "start_time": "2023-05-03T09:24:57.996Z"
   },
   {
    "duration": 15,
    "start_time": "2023-05-03T09:24:58.002Z"
   },
   {
    "duration": 20,
    "start_time": "2023-05-03T09:24:58.101Z"
   },
   {
    "duration": 50,
    "start_time": "2023-05-03T09:24:58.305Z"
   },
   {
    "duration": 21,
    "start_time": "2023-05-03T09:25:03.675Z"
   },
   {
    "duration": 3,
    "start_time": "2023-05-03T09:25:04.055Z"
   },
   {
    "duration": 14,
    "start_time": "2023-05-03T09:25:04.820Z"
   },
   {
    "duration": 3,
    "start_time": "2023-05-03T09:25:05.214Z"
   },
   {
    "duration": 13,
    "start_time": "2023-05-03T09:25:05.382Z"
   },
   {
    "duration": 18,
    "start_time": "2023-05-03T09:25:06.116Z"
   },
   {
    "duration": 33,
    "start_time": "2023-05-03T09:25:06.288Z"
   },
   {
    "duration": 17,
    "start_time": "2023-05-03T09:25:06.655Z"
   },
   {
    "duration": 3,
    "start_time": "2023-05-03T09:25:07.206Z"
   },
   {
    "duration": 174,
    "start_time": "2023-05-03T09:25:07.537Z"
   },
   {
    "duration": 1265,
    "start_time": "2023-05-03T09:25:08.404Z"
   },
   {
    "duration": 97,
    "start_time": "2023-05-03T09:25:09.671Z"
   },
   {
    "duration": 299,
    "start_time": "2023-05-03T09:25:09.770Z"
   },
   {
    "duration": 2165,
    "start_time": "2023-05-03T09:25:10.071Z"
   },
   {
    "duration": 226,
    "start_time": "2023-05-03T09:25:12.239Z"
   },
   {
    "duration": 30,
    "start_time": "2023-05-03T09:25:12.467Z"
   },
   {
    "duration": 92,
    "start_time": "2023-05-03T09:25:12.514Z"
   },
   {
    "duration": 14,
    "start_time": "2023-05-03T09:25:13.509Z"
   },
   {
    "duration": 4,
    "start_time": "2023-05-03T09:25:14.254Z"
   },
   {
    "duration": 14,
    "start_time": "2023-05-03T09:25:15.207Z"
   },
   {
    "duration": 15,
    "start_time": "2023-05-03T09:25:16.002Z"
   },
   {
    "duration": 1568,
    "start_time": "2023-05-03T09:25:23.307Z"
   },
   {
    "duration": 4,
    "start_time": "2023-05-03T09:25:27.128Z"
   },
   {
    "duration": 4,
    "start_time": "2023-05-03T09:25:27.897Z"
   },
   {
    "duration": 10,
    "start_time": "2023-05-03T09:25:28.700Z"
   },
   {
    "duration": 11,
    "start_time": "2023-05-03T09:25:30.376Z"
   },
   {
    "duration": 19,
    "start_time": "2023-05-03T09:25:33.339Z"
   },
   {
    "duration": 4310,
    "start_time": "2023-05-03T09:25:36.886Z"
   },
   {
    "duration": 97210,
    "start_time": "2023-05-03T09:25:41.199Z"
   },
   {
    "duration": 1604,
    "start_time": "2023-05-03T10:15:17.661Z"
   },
   {
    "duration": 4,
    "start_time": "2023-05-03T10:15:19.267Z"
   },
   {
    "duration": 15,
    "start_time": "2023-05-03T10:15:19.272Z"
   },
   {
    "duration": 630,
    "start_time": "2023-05-03T10:15:19.289Z"
   },
   {
    "duration": 24,
    "start_time": "2023-05-03T10:15:19.921Z"
   },
   {
    "duration": 12,
    "start_time": "2023-05-03T10:15:19.947Z"
   },
   {
    "duration": 18,
    "start_time": "2023-05-03T10:15:19.961Z"
   },
   {
    "duration": 20,
    "start_time": "2023-05-03T10:15:19.981Z"
   },
   {
    "duration": 10,
    "start_time": "2023-05-03T10:15:20.002Z"
   },
   {
    "duration": 40,
    "start_time": "2023-05-03T10:15:20.016Z"
   },
   {
    "duration": 85,
    "start_time": "2023-05-03T10:15:20.058Z"
   },
   {
    "duration": 61,
    "start_time": "2023-05-03T10:15:20.144Z"
   },
   {
    "duration": 22,
    "start_time": "2023-05-03T10:15:20.206Z"
   },
   {
    "duration": 26,
    "start_time": "2023-05-03T10:15:20.230Z"
   },
   {
    "duration": 76,
    "start_time": "2023-05-03T10:15:20.257Z"
   },
   {
    "duration": 16,
    "start_time": "2023-05-03T10:15:20.334Z"
   },
   {
    "duration": 36,
    "start_time": "2023-05-03T10:15:20.352Z"
   },
   {
    "duration": 35,
    "start_time": "2023-05-03T10:15:20.390Z"
   },
   {
    "duration": 34,
    "start_time": "2023-05-03T10:15:20.427Z"
   },
   {
    "duration": 19,
    "start_time": "2023-05-03T10:15:20.463Z"
   },
   {
    "duration": 2,
    "start_time": "2023-05-03T10:15:20.485Z"
   },
   {
    "duration": 220,
    "start_time": "2023-05-03T10:15:20.489Z"
   },
   {
    "duration": 1481,
    "start_time": "2023-05-03T10:15:20.711Z"
   },
   {
    "duration": 110,
    "start_time": "2023-05-03T10:15:22.193Z"
   },
   {
    "duration": 329,
    "start_time": "2023-05-03T10:15:22.305Z"
   },
   {
    "duration": 2397,
    "start_time": "2023-05-03T10:15:22.636Z"
   },
   {
    "duration": 235,
    "start_time": "2023-05-03T10:15:25.035Z"
   },
   {
    "duration": 159,
    "start_time": "2023-05-03T10:15:25.274Z"
   },
   {
    "duration": 113,
    "start_time": "2023-05-03T10:15:25.434Z"
   },
   {
    "duration": 23,
    "start_time": "2023-05-03T10:15:25.548Z"
   },
   {
    "duration": 3,
    "start_time": "2023-05-03T10:15:25.573Z"
   },
   {
    "duration": 18,
    "start_time": "2023-05-03T10:15:25.578Z"
   },
   {
    "duration": 15,
    "start_time": "2023-05-03T10:15:25.598Z"
   },
   {
    "duration": 1526,
    "start_time": "2023-05-03T10:15:25.615Z"
   },
   {
    "duration": 4,
    "start_time": "2023-05-03T10:15:27.143Z"
   },
   {
    "duration": 12,
    "start_time": "2023-05-03T10:15:27.148Z"
   },
   {
    "duration": 7,
    "start_time": "2023-05-03T10:15:27.162Z"
   },
   {
    "duration": 14,
    "start_time": "2023-05-03T10:15:27.171Z"
   },
   {
    "duration": 30,
    "start_time": "2023-05-03T10:15:27.187Z"
   },
   {
    "duration": 5209,
    "start_time": "2023-05-03T10:15:27.259Z"
   },
   {
    "duration": 118774,
    "start_time": "2023-05-03T10:15:32.470Z"
   },
   {
    "duration": 17586,
    "start_time": "2023-05-03T10:17:31.246Z"
   },
   {
    "duration": 6235,
    "start_time": "2023-05-03T10:17:48.834Z"
   },
   {
    "duration": 638903,
    "start_time": "2023-05-03T10:17:55.070Z"
   },
   {
    "duration": 92,
    "start_time": "2023-05-03T10:28:33.975Z"
   },
   {
    "duration": 12,
    "start_time": "2023-05-03T10:28:34.069Z"
   },
   {
    "duration": 178,
    "start_time": "2023-05-03T10:28:34.083Z"
   },
   {
    "duration": 795798,
    "start_time": "2023-05-03T10:28:34.263Z"
   },
   {
    "duration": 174,
    "start_time": "2023-05-03T10:41:50.063Z"
   },
   {
    "duration": 8,
    "start_time": "2023-05-03T10:41:50.240Z"
   },
   {
    "duration": 6,
    "start_time": "2023-05-03T13:56:14.029Z"
   },
   {
    "duration": 4,
    "start_time": "2023-05-03T13:56:14.714Z"
   },
   {
    "duration": 4,
    "start_time": "2023-05-03T13:56:15.579Z"
   },
   {
    "duration": 873,
    "start_time": "2023-05-03T13:56:16.245Z"
   },
   {
    "duration": 19,
    "start_time": "2023-05-03T13:56:17.422Z"
   },
   {
    "duration": 12,
    "start_time": "2023-05-03T13:56:17.925Z"
   },
   {
    "duration": 26,
    "start_time": "2023-05-03T13:56:18.184Z"
   },
   {
    "duration": 20,
    "start_time": "2023-05-03T13:56:18.716Z"
   },
   {
    "duration": 6,
    "start_time": "2023-05-03T13:56:18.907Z"
   },
   {
    "duration": 42,
    "start_time": "2023-05-03T13:56:19.153Z"
   },
   {
    "duration": 28,
    "start_time": "2023-05-03T13:56:19.803Z"
   },
   {
    "duration": 105,
    "start_time": "2023-05-03T13:56:20.001Z"
   },
   {
    "duration": 22,
    "start_time": "2023-05-03T13:56:20.619Z"
   },
   {
    "duration": 2,
    "start_time": "2023-05-03T13:56:20.962Z"
   },
   {
    "duration": 15,
    "start_time": "2023-05-03T13:56:21.312Z"
   },
   {
    "duration": 4,
    "start_time": "2023-05-03T13:56:21.612Z"
   },
   {
    "duration": 39,
    "start_time": "2023-05-03T13:56:21.957Z"
   },
   {
    "duration": 18,
    "start_time": "2023-05-03T13:56:23.025Z"
   },
   {
    "duration": 78,
    "start_time": "2023-05-03T13:56:23.216Z"
   },
   {
    "duration": 20,
    "start_time": "2023-05-03T13:56:23.614Z"
   },
   {
    "duration": 3,
    "start_time": "2023-05-03T13:56:24.001Z"
   },
   {
    "duration": 385,
    "start_time": "2023-05-03T13:56:25.050Z"
   },
   {
    "duration": 2441,
    "start_time": "2023-05-03T13:56:27.498Z"
   },
   {
    "duration": 764,
    "start_time": "2023-05-03T13:56:29.942Z"
   },
   {
    "duration": 619,
    "start_time": "2023-05-03T13:56:30.708Z"
   },
   {
    "duration": 4583,
    "start_time": "2023-05-03T13:56:31.330Z"
   },
   {
    "duration": 480,
    "start_time": "2023-05-03T13:56:35.916Z"
   },
   {
    "duration": 23,
    "start_time": "2023-05-03T13:56:36.398Z"
   },
   {
    "duration": 203,
    "start_time": "2023-05-03T13:56:36.423Z"
   },
   {
    "duration": 66,
    "start_time": "2023-05-03T13:56:36.628Z"
   },
   {
    "duration": 3,
    "start_time": "2023-05-03T13:56:40.525Z"
   },
   {
    "duration": 29,
    "start_time": "2023-05-03T13:56:42.073Z"
   },
   {
    "duration": 14,
    "start_time": "2023-05-03T13:56:43.798Z"
   },
   {
    "duration": 4,
    "start_time": "2023-05-03T13:56:57.817Z"
   },
   {
    "duration": 5,
    "start_time": "2023-05-03T13:56:59.252Z"
   },
   {
    "duration": 5,
    "start_time": "2023-05-03T13:57:00.195Z"
   },
   {
    "duration": 10,
    "start_time": "2023-05-03T13:57:11.100Z"
   },
   {
    "duration": 100,
    "start_time": "2023-05-03T13:57:12.995Z"
   },
   {
    "duration": 3450,
    "start_time": "2023-05-04T08:51:23.848Z"
   },
   {
    "duration": 5,
    "start_time": "2023-05-04T08:51:27.300Z"
   },
   {
    "duration": 27,
    "start_time": "2023-05-04T08:51:27.307Z"
   },
   {
    "duration": 666,
    "start_time": "2023-05-04T08:51:27.337Z"
   },
   {
    "duration": 27,
    "start_time": "2023-05-04T08:51:28.006Z"
   },
   {
    "duration": 20,
    "start_time": "2023-05-04T08:51:28.036Z"
   },
   {
    "duration": 45,
    "start_time": "2023-05-04T08:51:28.059Z"
   },
   {
    "duration": 18,
    "start_time": "2023-05-04T08:51:28.106Z"
   },
   {
    "duration": 5,
    "start_time": "2023-05-04T08:51:28.126Z"
   },
   {
    "duration": 20,
    "start_time": "2023-05-04T08:51:28.133Z"
   },
   {
    "duration": 24,
    "start_time": "2023-05-04T08:51:28.344Z"
   },
   {
    "duration": 52,
    "start_time": "2023-05-04T08:51:28.509Z"
   },
   {
    "duration": 25,
    "start_time": "2023-05-04T08:51:29.117Z"
   },
   {
    "duration": 2,
    "start_time": "2023-05-04T08:51:29.457Z"
   },
   {
    "duration": 16,
    "start_time": "2023-05-04T08:51:29.752Z"
   },
   {
    "duration": 4,
    "start_time": "2023-05-04T08:51:29.934Z"
   },
   {
    "duration": 15,
    "start_time": "2023-05-04T08:51:30.054Z"
   },
   {
    "duration": 20,
    "start_time": "2023-05-04T08:51:30.820Z"
   },
   {
    "duration": 40,
    "start_time": "2023-05-04T08:51:30.979Z"
   },
   {
    "duration": 23,
    "start_time": "2023-05-04T08:51:31.284Z"
   },
   {
    "duration": 2,
    "start_time": "2023-05-04T08:51:31.578Z"
   },
   {
    "duration": 232,
    "start_time": "2023-05-04T08:51:31.874Z"
   },
   {
    "duration": 1524,
    "start_time": "2023-05-04T08:51:32.340Z"
   },
   {
    "duration": 122,
    "start_time": "2023-05-04T08:51:33.866Z"
   },
   {
    "duration": 375,
    "start_time": "2023-05-04T08:51:33.992Z"
   },
   {
    "duration": 2593,
    "start_time": "2023-05-04T08:51:34.369Z"
   },
   {
    "duration": 270,
    "start_time": "2023-05-04T08:51:36.964Z"
   },
   {
    "duration": 194,
    "start_time": "2023-05-04T08:51:37.237Z"
   },
   {
    "duration": 259,
    "start_time": "2023-05-04T08:51:37.433Z"
   },
   {
    "duration": 33,
    "start_time": "2023-05-04T08:51:37.695Z"
   },
   {
    "duration": 4,
    "start_time": "2023-05-04T08:51:37.731Z"
   },
   {
    "duration": 21,
    "start_time": "2023-05-04T08:51:37.798Z"
   },
   {
    "duration": 17,
    "start_time": "2023-05-04T08:51:38.317Z"
   },
   {
    "duration": 1507,
    "start_time": "2023-05-04T08:51:41.072Z"
   },
   {
    "duration": 34,
    "start_time": "2023-05-04T08:51:56.673Z"
   }
  ],
  "kernelspec": {
   "display_name": "Python 3 (ipykernel)",
   "language": "python",
   "name": "python3"
  },
  "language_info": {
   "codemirror_mode": {
    "name": "ipython",
    "version": 3
   },
   "file_extension": ".py",
   "mimetype": "text/x-python",
   "name": "python",
   "nbconvert_exporter": "python",
   "pygments_lexer": "ipython3",
   "version": "3.10.2"
  },
  "toc": {
   "base_numbering": 1,
   "nav_menu": {},
   "number_sections": true,
   "sideBar": true,
   "skip_h1_title": true,
   "title_cell": "Table of Contents",
   "title_sidebar": "Contents",
   "toc_cell": false,
   "toc_position": {
    "height": "calc(100% - 180px)",
    "left": "10px",
    "top": "150px",
    "width": "165px"
   },
   "toc_section_display": true,
   "toc_window_display": false
  }
 },
 "nbformat": 4,
 "nbformat_minor": 5
}
