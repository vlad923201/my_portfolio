{
 "cells": [
  {
   "cell_type": "markdown",
   "metadata": {},
   "source": [
    "# Название проекта:\n",
    "Автоматизация модерации комментариев в интернет-магазине с использованием модели BERT"
   ]
  },
  {
   "cell_type": "markdown",
   "metadata": {},
   "source": [
    "# Описание проекта:\n",
    "Интернет-магазин запускает новый сервис, позволяющий пользователям редактировать и дополнять описания товаров в стиле вики-сообществ. В рамках этого сервиса клиенты могут предлагать правки и комментировать изменения других пользователей. Важной задачей является создание инструмента для поиска токсичных комментариев и отправки их на модерацию."
   ]
  },
  {
   "cell_type": "markdown",
   "metadata": {},
   "source": [
    "# Цель проекта:\n",
    "Разработать модель машинного обучения на основе технологии BERT для классификации комментариев на позитивные и негативные, достигая метрики качества F1 не меньше 0.73."
   ]
  },
  {
   "cell_type": "markdown",
   "metadata": {},
   "source": [
    "# Задачи проекта:\n",
    "1. Загрузка и подготовка данных:\n",
    " - Изучение и анализ предоставленного набора данных.\n",
    " - Предобработка текстовых данных для машинного обучения.\n",
    "2. Обучение моделей:\n",
    "- Реализация модели BERT для анализа текста.\n",
    "- Сравнение производительности BERT с другими моделями машинного обучения.\n",
    "3. Оценка эффективности моделей:\n",
    "- Оценка моделей на основе метрики F1.\n",
    "- Анализ ошибок и точности моделей."
   ]
  },
  {
   "cell_type": "markdown",
   "metadata": {},
   "source": [
    "# Технологии и инструменты:\n",
    "1. Язык программирования: Python\n",
    "2. Библиотеки для обработки данных:\n",
    "    - pandas\n",
    "    - NumPy\n",
    "3. Библиотеки для визуализации данных:\n",
    "    - Matplotlib\n",
    "    - seaborn\n",
    "4. Машинное обучение и моделирование:\n",
    "    - scikit-learn (включая функции для разбиения данных, валидации модели и преобразования признаков)\n",
    "    - lightgbm (LGBMClassifier)\n",
    "    - catboost (CatBoostClassifier)\n",
    "    - transformers (для работы с предобученными моделями BERT и токенизации)\n",
    "5. Библиотеки для работы с текстом:\n",
    "    - nltk (для лемматизации, работы со стоп-словами и теггирования)\n",
    "    - re (для регулярных выражений)\n",
    "6. Инструменты для управления итерациями и временем:\n",
    "    - tqdm (для отслеживания прогресса обучения моделей)\n",
    "    - time (для измерения времени выполнения кода)\n",
    "    - os (для работы с файловой системой операционной системы)\n",
    "7. Платформы для работы с моделями глубокого обучения:\n",
    "    - PyTorch (включая AutoModel и AutoTokenizer для работы с моделями из transformers)"
   ]
  },
  {
   "cell_type": "markdown",
   "metadata": {},
   "source": [
    "## План проекта\n",
    "1. Подготовка данных\n",
    "- Загрузка данных: Импортировать данные из источника и ознакомиться с их структурой.\n",
    "- Предварительная обработка и анализ данных: Проверить на наличие пропусков и аномалий. Применить необходимые методы очистки и предобработки данных. Визуальный анализ.\n",
    "- Лематизация: Очищяем текст от лишних символов, проставляем метки в тексте, леметизируем текст и удаляем не информативные лова и предлоги.\n",
    "2. Подготовка признаков\n",
    "- Токенизируем очищенный текст.\n",
    "- Уменишаем колличество данных для успешного эмбендинга.\n",
    "- Поиск веса классов преобразованием в эмбендинг, моделью Берт\n",
    "- Объявляем признаки и таргет в переменные.\n",
    "- Делим данные на выборки 40/30/30 %\n",
    "- Увеличение классов в выборке\n",
    "3. Построение и оценка моделей\n",
    "- Выбор моделей: Определить набор моделей машинного обучения для экспериментов.\n",
    "- Тюнинг гиперпараметров: Использовать методы поиска гиперпараметров (например, GridSearchCV, RandomizedSearchCV) для нахождения оптимальных настроек моделей.\n",
    "- Кросс-валидация: Применить кросс-валидацию для оценки качества моделей на различных наборах данных.\n",
    "4. Анализ моделей\n",
    "- Сравнение с константной моделью.\n",
    "- Анализ результатов: Сравнить результаты различных моделей и выбрать наиболее подходящую\n",
    "- Оценка на тестовой выборке: Проверить финальную модель на тестовой выборке для оценки её способности к обобщению.\n",
    "- Метрики качества: Использовать F1 для оценки точности предсказаний модели.\n",
    "5. Выводы\n",
    "- Рекомендации: Предложить рекомендации для дальнейшего улучшения модели и возможных путей применения результатов проекта."
   ]
  },
  {
   "cell_type": "markdown",
   "metadata": {},
   "source": [
    "<h1>Содержание<span class=\"tocSkip\"></span></h1>\n",
    "<div class=\"toc\"><ul class=\"toc-item\">\n",
    "    <li><span><a href=\"#Подготовка-данных\" data-toc-modified-id=\"Подготовка-данных-1\"><span class=\"toc-item-num\">1&nbsp;&nbsp;</span>Подготовка данных</a></span></li>\n",
    "    <li><span><a href=\"#Подготовка-признаков\" data-toc-modified-id=\"Подготовка-признаков-2\"><span class=\"toc-item-num\">2&nbsp;&nbsp;</span>Подготовка признаков</a></span></li>\n",
    "    <li><span><a href=\"#Построение-и-оценка-моделей\" data-toc-modified-id=\"Построение-и-оценка-моделей-3\"><span class=\"toc-item-num\">3&nbsp;&nbsp;</span>Построение и оценка моделей</a></span></li>\n",
    "    <li><span><a href=\"#Анализ-моделей\" data-toc-modified-id=\"Анализ-моделей-4\"><span class=\"toc-item-num\">4&nbsp;&nbsp;</span>Анализ моделей</a></span></li>\n",
    "    <li><span><a href=\"#Выводы\" data-toc-modified-id=\"Выводы-5\"><span class=\"toc-item-num\">5&nbsp;&nbsp;</span>Выводы</a></span></li></ul></div>"
   ]
  },
  {
   "cell_type": "markdown",
   "metadata": {},
   "source": [
    "## Подготовка данных"
   ]
  },
  {
   "cell_type": "code",
   "execution_count": 1,
   "metadata": {},
   "outputs": [
    {
     "name": "stderr",
     "output_type": "stream",
     "text": [
      "[nltk_data] Downloading package punkt to\n",
      "[nltk_data]     C:\\Users\\Мария\\AppData\\Roaming\\nltk_data...\n",
      "[nltk_data]   Package punkt is already up-to-date!\n",
      "[nltk_data] Downloading package wordnet to\n",
      "[nltk_data]     C:\\Users\\Мария\\AppData\\Roaming\\nltk_data...\n",
      "[nltk_data]   Package wordnet is already up-to-date!\n",
      "[nltk_data] Downloading package averaged_perceptron_tagger to\n",
      "[nltk_data]     C:\\Users\\Мария\\AppData\\Roaming\\nltk_data...\n",
      "[nltk_data]   Package averaged_perceptron_tagger is already up-to-\n",
      "[nltk_data]       date!\n"
     ]
    },
    {
     "data": {
      "text/plain": [
       "True"
      ]
     },
     "execution_count": 1,
     "metadata": {},
     "output_type": "execute_result"
    }
   ],
   "source": [
    "import pandas as pd\n",
    "import matplotlib.pyplot as plt\n",
    "import seaborn as sns\n",
    "import numpy as np\n",
    "import transformers as ppb\n",
    "import lightgbm as lgb\n",
    "import catboost as cb\n",
    "\n",
    "import itertools\n",
    "import time\n",
    "import os\n",
    "import torch\n",
    "import re\n",
    "import nltk\n",
    "\n",
    "from nltk.corpus import wordnet\n",
    "from nltk.stem import WordNetLemmatizer\n",
    "from nltk.corpus import stopwords as nltk_stopwords\n",
    "\n",
    "from tqdm import tqdm, notebook\n",
    "\n",
    "from sklearn.model_selection import train_test_split, cross_val_score, GridSearchCV, RepeatedStratifiedKFold\n",
    "\n",
    "from transformers import AutoModel, AutoTokenizer\n",
    "\n",
    "from lightgbm import LGBMClassifier\n",
    "from sklearn.preprocessing import StandardScaler\n",
    "from sklearn.linear_model import LogisticRegression\n",
    "from sklearn.utils import shuffle\n",
    "from sklearn.metrics import f1_score\n",
    "from sklearn.ensemble import RandomForestClassifier\n",
    "from sklearn.dummy import DummyClassifier"
   ]
  },
  {
   "cell_type": "markdown",
   "metadata": {},
   "source": [
    "<font size=\"3\"><b>Загружаем пакеты ресурсов из библиотеки NLTK</b></font>"
   ]
  },
  {
   "cell_type": "code",
   "execution_count": null,
   "metadata": {},
   "outputs": [],
   "source": [
    "# пакет для разделения текста на предложения и слова\n",
    "nltk.download('punkt')\n",
    "\n",
    "# пакет для установления симантических связей и лемматизации\n",
    "nltk.download('wordnet')\n",
    "\n",
    "# пакет для морфологической разметки по определению и контексту\n",
    "nltk.download('averaged_perceptron_tagger')"
   ]
  },
  {
   "cell_type": "markdown",
   "metadata": {},
   "source": [
    "<font size=\"3\"><b>Сохраняем дата сет в переменную</b></font>"
   ]
  },
  {
   "cell_type": "code",
   "execution_count": 2,
   "metadata": {},
   "outputs": [],
   "source": [
    "pth1 = 'toxic_comments.csv'\n",
    "        \n",
    "pth2 = '/datasets/toxic_comments.csv'\n",
    "\n",
    "if os.path.exists(pth1):\n",
    "        \n",
    "    df = pd.read_csv(pth1)\n",
    "        \n",
    "elif os.path.exists(pth2):\n",
    "        \n",
    "    df = pd.read_csv(pth2)\n",
    "        \n",
    "else:\n",
    "        \n",
    "    print('Что то сломалось')"
   ]
  },
  {
   "cell_type": "markdown",
   "metadata": {},
   "source": [
    "<font size=\"3\"><b>Cмотрим на колличество пропусков в данных и тип данных в столбцах</b></font>"
   ]
  },
  {
   "cell_type": "code",
   "execution_count": 3,
   "metadata": {},
   "outputs": [
    {
     "name": "stdout",
     "output_type": "stream",
     "text": [
      "<class 'pandas.core.frame.DataFrame'>\n",
      "RangeIndex: 159292 entries, 0 to 159291\n",
      "Data columns (total 3 columns):\n",
      " #   Column      Non-Null Count   Dtype \n",
      "---  ------      --------------   ----- \n",
      " 0   Unnamed: 0  159292 non-null  int64 \n",
      " 1   text        159292 non-null  object\n",
      " 2   toxic       159292 non-null  int64 \n",
      "dtypes: int64(2), object(1)\n",
      "memory usage: 3.6+ MB\n"
     ]
    }
   ],
   "source": [
    "df.info()"
   ]
  },
  {
   "cell_type": "markdown",
   "metadata": {},
   "source": [
    "<b>Обзор данных</b>"
   ]
  },
  {
   "cell_type": "code",
   "execution_count": 4,
   "metadata": {},
   "outputs": [
    {
     "data": {
      "text/html": [
       "<div>\n",
       "<style scoped>\n",
       "    .dataframe tbody tr th:only-of-type {\n",
       "        vertical-align: middle;\n",
       "    }\n",
       "\n",
       "    .dataframe tbody tr th {\n",
       "        vertical-align: top;\n",
       "    }\n",
       "\n",
       "    .dataframe thead th {\n",
       "        text-align: right;\n",
       "    }\n",
       "</style>\n",
       "<table border=\"1\" class=\"dataframe\">\n",
       "  <thead>\n",
       "    <tr style=\"text-align: right;\">\n",
       "      <th></th>\n",
       "      <th>Unnamed: 0</th>\n",
       "      <th>text</th>\n",
       "      <th>toxic</th>\n",
       "    </tr>\n",
       "  </thead>\n",
       "  <tbody>\n",
       "    <tr>\n",
       "      <th>0</th>\n",
       "      <td>0</td>\n",
       "      <td>Explanation\\nWhy the edits made under my usern...</td>\n",
       "      <td>0</td>\n",
       "    </tr>\n",
       "    <tr>\n",
       "      <th>1</th>\n",
       "      <td>1</td>\n",
       "      <td>D'aww! He matches this background colour I'm s...</td>\n",
       "      <td>0</td>\n",
       "    </tr>\n",
       "    <tr>\n",
       "      <th>2</th>\n",
       "      <td>2</td>\n",
       "      <td>Hey man, I'm really not trying to edit war. It...</td>\n",
       "      <td>0</td>\n",
       "    </tr>\n",
       "    <tr>\n",
       "      <th>3</th>\n",
       "      <td>3</td>\n",
       "      <td>\"\\nMore\\nI can't make any real suggestions on ...</td>\n",
       "      <td>0</td>\n",
       "    </tr>\n",
       "    <tr>\n",
       "      <th>4</th>\n",
       "      <td>4</td>\n",
       "      <td>You, sir, are my hero. Any chance you remember...</td>\n",
       "      <td>0</td>\n",
       "    </tr>\n",
       "  </tbody>\n",
       "</table>\n",
       "</div>"
      ],
      "text/plain": [
       "   Unnamed: 0                                               text  toxic\n",
       "0           0  Explanation\\nWhy the edits made under my usern...      0\n",
       "1           1  D'aww! He matches this background colour I'm s...      0\n",
       "2           2  Hey man, I'm really not trying to edit war. It...      0\n",
       "3           3  \"\\nMore\\nI can't make any real suggestions on ...      0\n",
       "4           4  You, sir, are my hero. Any chance you remember...      0"
      ]
     },
     "execution_count": 4,
     "metadata": {},
     "output_type": "execute_result"
    }
   ],
   "source": [
    "df.head()"
   ]
  },
  {
   "cell_type": "markdown",
   "metadata": {},
   "source": [
    "### Предварительная обработка"
   ]
  },
  {
   "cell_type": "markdown",
   "metadata": {},
   "source": [
    "<b>Удаляем не информативные данные</b>"
   ]
  },
  {
   "cell_type": "code",
   "execution_count": 5,
   "metadata": {},
   "outputs": [
    {
     "data": {
      "text/plain": [
       "Index(['text', 'toxic'], dtype='object')"
      ]
     },
     "execution_count": 5,
     "metadata": {},
     "output_type": "execute_result"
    }
   ],
   "source": [
    "df = df.drop(['Unnamed: 0'], axis =1)\n",
    "df.columns"
   ]
  },
  {
   "cell_type": "markdown",
   "metadata": {},
   "source": [
    "<b>Считаем длину комментариев</b>"
   ]
  },
  {
   "cell_type": "code",
   "execution_count": 6,
   "metadata": {},
   "outputs": [],
   "source": [
    "g = []\n",
    "for i in df['text']:\n",
    "    g.append(len(i))"
   ]
  },
  {
   "cell_type": "markdown",
   "metadata": {},
   "source": [
    "<b>Распределение колличества символов в коментариях</b>"
   ]
  },
  {
   "cell_type": "code",
   "execution_count": 7,
   "metadata": {},
   "outputs": [
    {
     "data": {
      "text/plain": [
       "Text(0.5, 1.0, 'Распределение колличества символов в коментариях')"
      ]
     },
     "execution_count": 7,
     "metadata": {},
     "output_type": "execute_result"
    },
    {
     "data": {
      "image/png": "[encoded data removed]",
      "text/plain": [
       "<Figure size 1440x504 with 1 Axes>"
      ]
     },
     "metadata": {
      "needs_background": "light"
     },
     "output_type": "display_data"
    }
   ],
   "source": [
    "plt.figure(figsize=(20, 7))\n",
    "sns.histplot(g, bins = 1000)\n",
    "plt.title(\"Распределение колличества символов в коментариях\")"
   ]
  },
  {
   "cell_type": "markdown",
   "metadata": {},
   "source": [
    "<b>Удаляем спамные коментарии более 200 символов.</b>"
   ]
  },
  {
   "cell_type": "code",
   "execution_count": 8,
   "metadata": {},
   "outputs": [
    {
     "data": {
      "text/plain": [
       "(35000, 2)"
      ]
     },
     "execution_count": 8,
     "metadata": {},
     "output_type": "execute_result"
    }
   ],
   "source": [
    "g = pd.Series(g)\n",
    "df = df.drop(df[g > 200].index).reset_index(drop=True)\n",
    "\n",
    "del g\n",
    "\n",
    "# оставляем для обучения модели на маломошьной машине 35000 коментариев\n",
    "df = df[:35000]\n",
    "df.shape"
   ]
  },
  {
   "cell_type": "markdown",
   "metadata": {},
   "source": [
    "<b>Проверяем колличесво пропусков в каждом столбце</b>"
   ]
  },
  {
   "cell_type": "code",
   "execution_count": 9,
   "metadata": {},
   "outputs": [
    {
     "data": {
      "text/html": [
       "<style type=\"text/css\">\n",
       "#T_c1e85_row0_col0, #T_c1e85_row1_col0 {\n",
       "  background-color: #3b4cc0;\n",
       "  color: #f1f1f1;\n",
       "}\n",
       "</style>\n",
       "<table id=\"T_c1e85\">\n",
       "  <thead>\n",
       "    <tr>\n",
       "      <th class=\"blank level0\" >&nbsp;</th>\n",
       "      <th id=\"T_c1e85_level0_col0\" class=\"col_heading level0 col0\" >0</th>\n",
       "    </tr>\n",
       "  </thead>\n",
       "  <tbody>\n",
       "    <tr>\n",
       "      <th id=\"T_c1e85_level0_row0\" class=\"row_heading level0 row0\" >text</th>\n",
       "      <td id=\"T_c1e85_row0_col0\" class=\"data row0 col0\" >0.000000</td>\n",
       "    </tr>\n",
       "    <tr>\n",
       "      <th id=\"T_c1e85_level0_row1\" class=\"row_heading level0 row1\" >toxic</th>\n",
       "      <td id=\"T_c1e85_row1_col0\" class=\"data row1 col0\" >0.000000</td>\n",
       "    </tr>\n",
       "  </tbody>\n",
       "</table>\n"
      ],
      "text/plain": [
       "<pandas.io.formats.style.Styler at 0x23f89a56560>"
      ]
     },
     "execution_count": 9,
     "metadata": {},
     "output_type": "execute_result"
    }
   ],
   "source": [
    "pd.DataFrame(round(df.isna().mean()*100,)).style.background_gradient('coolwarm')"
   ]
  },
  {
   "cell_type": "markdown",
   "metadata": {},
   "source": [
    "<font size=\"3\"><b>Проверяем наличие явных дубликатов.</b></font>"
   ]
  },
  {
   "cell_type": "code",
   "execution_count": 10,
   "metadata": {},
   "outputs": [
    {
     "data": {
      "text/plain": [
       "0"
      ]
     },
     "execution_count": 10,
     "metadata": {},
     "output_type": "execute_result"
    }
   ],
   "source": [
    "df.duplicated().sum()"
   ]
  },
  {
   "cell_type": "markdown",
   "metadata": {},
   "source": [
    "<font size=\"3\"><b>Проверяем соотношение классов.</b></font>"
   ]
  },
  {
   "cell_type": "code",
   "execution_count": 11,
   "metadata": {},
   "outputs": [
    {
     "data": {
      "text/plain": [
       "0    0.864486\n",
       "1    0.135514\n",
       "Name: toxic, dtype: float64"
      ]
     },
     "execution_count": 11,
     "metadata": {},
     "output_type": "execute_result"
    }
   ],
   "source": [
    "df.toxic.value_counts(normalize = True)"
   ]
  },
  {
   "cell_type": "markdown",
   "metadata": {},
   "source": [
    "### Лематизация текста"
   ]
  },
  {
   "cell_type": "markdown",
   "metadata": {},
   "source": [
    "<b>Объевляем переменную Corpus для преобразования текста</b>"
   ]
  },
  {
   "cell_type": "code",
   "execution_count": 12,
   "metadata": {},
   "outputs": [],
   "source": [
    "corpus = list(df['text'])"
   ]
  },
  {
   "cell_type": "markdown",
   "metadata": {},
   "source": [
    "<b>Программя для отчистки текста от лишних символов</b>"
   ]
  },
  {
   "cell_type": "code",
   "execution_count": 13,
   "metadata": {},
   "outputs": [],
   "source": [
    "def clear_text(text):\n",
    "    # Заменяем все, что не является английскими буквами, на пробелы\n",
    "    te = re.sub(r'[^a-zA-Z]', ' ', text)\n",
    "    # Удаляем лишние пробелы, соединяя слова через один пробел\n",
    "    text = ' '.join(te.split())\n",
    "    return text"
   ]
  },
  {
   "cell_type": "markdown",
   "metadata": {},
   "source": [
    "<b>Программа для проставки меток в тексте</b>"
   ]
  },
  {
   "cell_type": "code",
   "execution_count": 14,
   "metadata": {},
   "outputs": [],
   "source": [
    "def get_wordnet_pos(text):\n",
    "    # Преобразуем слово в его часть речи и берем первую букву\n",
    "    tag = nltk.pos_tag([text])[0][1][0].upper()\n",
    "    # Словарь соответствия частей речи их меткам в WordNet\n",
    "    tag_dict = {\"J\": wordnet.ADJ,\n",
    "                \"N\": wordnet.NOUN,\n",
    "                \"V\": wordnet.VERB,\n",
    "                \"R\": wordnet.ADV}\n",
    "    # Возвращаеv соответствующую метку части речи\n",
    "    # или существительное по умолчанию\n",
    "    return tag_dict.get(tag, wordnet.NOUN)"
   ]
  },
  {
   "cell_type": "markdown",
   "metadata": {},
   "source": [
    "<b>Программа для лематизации текста и удаления не информативных слов и предлогов</b>"
   ]
  },
  {
   "cell_type": "code",
   "execution_count": 15,
   "metadata": {},
   "outputs": [],
   "source": [
    "# Инициализируем лемматизатор\n",
    "wnl = WordNetLemmatizer()\n",
    "def lemmatize(text):\n",
    "    # сначала текст разбивает на отдельные слова nltk.word_tokenize()\n",
    "    # длее применяем метод lemmetize к самому слову и результату\n",
    "    # функции get_wordent_pos, к части речи слова\n",
    "    lemm_list = [wnl.lemmatize(w, get_wordnet_pos(w)) for w in nltk.word_tokenize(text)]\n",
    "    # соединяем лемматизированный текст\n",
    "    lemm_text = \" \".join(lemm_list)\n",
    "    return lemm_text"
   ]
  },
  {
   "cell_type": "markdown",
   "metadata": {},
   "source": [
    "<b>Лематизация текста</b>"
   ]
  },
  {
   "cell_type": "code",
   "execution_count": 16,
   "metadata": {},
   "outputs": [
    {
     "name": "stderr",
     "output_type": "stream",
     "text": [
      "100%|████████████████████████████████████████████████████████████████████████████| 35000/35000 [07:22<00:00, 79.09it/s]"
     ]
    },
    {
     "name": "stdout",
     "output_type": "stream",
     "text": [
      "CPU times: total: 7min 21s\n",
      "Wall time: 7min 22s\n"
     ]
    },
    {
     "name": "stderr",
     "output_type": "stream",
     "text": [
      "\n"
     ]
    }
   ],
   "source": [
    "%%time\n",
    "lemm=[]\n",
    "for i in tqdm(range(len(corpus))):\n",
    "    lemm.append(lemmatize(clear_text(corpus[i])))\n",
    "del corpus"
   ]
  },
  {
   "cell_type": "markdown",
   "metadata": {},
   "source": [
    "<b>Сохранение полученного результата</b>"
   ]
  },
  {
   "cell_type": "code",
   "execution_count": 17,
   "metadata": {},
   "outputs": [],
   "source": [
    "df['lemm_text'] = pd.Series(lemm)\n",
    "\n",
    "del lemm"
   ]
  },
  {
   "cell_type": "markdown",
   "metadata": {},
   "source": [
    "# Подготовка признаков"
   ]
  },
  {
   "cell_type": "markdown",
   "metadata": {},
   "source": [
    "<b>Объевляем переменную с токенизатором Берт</b>"
   ]
  },
  {
   "cell_type": "code",
   "execution_count": 18,
   "metadata": {},
   "outputs": [],
   "source": [
    "tokenizer = AutoTokenizer.from_pretrained('bert-base-uncased')"
   ]
  },
  {
   "cell_type": "markdown",
   "metadata": {},
   "source": [
    "<b>Токенизируем очишенный текст</b>"
   ]
  },
  {
   "cell_type": "code",
   "execution_count": 19,
   "metadata": {},
   "outputs": [
    {
     "name": "stdout",
     "output_type": "stream",
     "text": [
      "CPU times: total: 6.98 s\n",
      "Wall time: 7.03 s\n"
     ]
    },
    {
     "data": {
      "text/plain": [
       "(35000,)"
      ]
     },
     "execution_count": 19,
     "metadata": {},
     "output_type": "execute_result"
    }
   ],
   "source": [
    "%%time\n",
    "vector = df['lemm_text'].apply(\n",
    "  lambda x: tokenizer.encode(x, add_special_tokens=True))\n",
    "vector.shape"
   ]
  },
  {
   "cell_type": "markdown",
   "metadata": {},
   "source": [
    "<b>Подгоняем токенизированые данные под одну длину и создаем маску для модели</b>"
   ]
  },
  {
   "cell_type": "code",
   "execution_count": 20,
   "metadata": {},
   "outputs": [
    {
     "name": "stdout",
     "output_type": "stream",
     "text": [
      "CPU times: total: 609 ms\n",
      "Wall time: 611 ms\n"
     ]
    },
    {
     "data": {
      "text/plain": [
       "((35000, 77), (35000, 77))"
      ]
     },
     "execution_count": 20,
     "metadata": {},
     "output_type": "execute_result"
    }
   ],
   "source": [
    "%%time\n",
    "n = len(max(vector, key=len))\n",
    "\n",
    "padded = np.array([i + [0]*(n - len(i)) for i in vector.values])\n",
    "\n",
    "attention_mask = np.where(padded != 0, 1, 0)\n",
    "\n",
    "del vector\n",
    "\n",
    "padded.shape, attention_mask.shape"
   ]
  },
  {
   "cell_type": "markdown",
   "metadata": {},
   "source": [
    "<b>Объевляем переменную с моделью Берт</b>"
   ]
  },
  {
   "cell_type": "code",
   "execution_count": 21,
   "metadata": {},
   "outputs": [
    {
     "name": "stderr",
     "output_type": "stream",
     "text": [
      "Some weights of the model checkpoint at bert-base-uncased were not used when initializing BertModel: ['cls.seq_relationship.weight', 'cls.predictions.bias', 'cls.seq_relationship.bias', 'cls.predictions.transform.LayerNorm.weight', 'cls.predictions.decoder.weight', 'cls.predictions.transform.dense.bias', 'cls.predictions.transform.LayerNorm.bias', 'cls.predictions.transform.dense.weight']\n",
      "- This IS expected if you are initializing BertModel from the checkpoint of a model trained on another task or with another architecture (e.g. initializing a BertForSequenceClassification model from a BertForPreTraining model).\n",
      "- This IS NOT expected if you are initializing BertModel from the checkpoint of a model that you expect to be exactly identical (initializing a BertForSequenceClassification model from a BertForSequenceClassification model).\n"
     ]
    }
   ],
   "source": [
    "model = AutoModel.from_pretrained(\"bert-base-uncased\")"
   ]
  },
  {
   "cell_type": "markdown",
   "metadata": {},
   "source": [
    "<b>Ищем веса классов преобразованием в эмбендинг, моделью Берт</b>"
   ]
  },
  {
   "cell_type": "code",
   "execution_count": 22,
   "metadata": {},
   "outputs": [
    {
     "data": {
      "application/vnd.jupyter.widget-view+json": {
       "model_id": "a97fd3d9f6c2429bbbd292624fdae910",
       "version_major": 2,
       "version_minor": 0
      },
      "text/plain": [
       "  0%|          | 0/1458 [00:00<?, ?it/s]"
      ]
     },
     "metadata": {},
     "output_type": "display_data"
    },
    {
     "name": "stdout",
     "output_type": "stream",
     "text": [
      "CPU times: total: 15min 22s\n",
      "Wall time: 15min 28s\n"
     ]
    }
   ],
   "source": [
    "%%time\n",
    "\n",
    "batch_size = 24 \n",
    "embeddings = [] \n",
    "for i in notebook.tqdm(range(padded.shape[0] // batch_size)):\n",
    "        batch = torch.LongTensor(padded[batch_size*i:batch_size*(i+1)]).cuda()\n",
    "        attention_mask_batch = torch.LongTensor(attention_mask[batch_size*i:batch_size*(i+1)]).cuda()\n",
    "\n",
    "        with torch.no_grad():\n",
    "            model.cuda()\n",
    "            batch_embeddings = model(batch, attention_mask=attention_mask_batch)\n",
    "\n",
    "        embeddings.append(batch_embeddings[0][:,0,:].cpu().numpy()) \n",
    "        del batch\n",
    "        del attention_mask_batch\n",
    "        del batch_embeddings"
   ]
  },
  {
   "cell_type": "code",
   "execution_count": null,
   "metadata": {},
   "outputs": [],
   "source": [
    "del attention_mask\n",
    "del padded"
   ]
  },
  {
   "cell_type": "markdown",
   "metadata": {},
   "source": [
    "<font size=\"3\"><b>Определяем признаки и таргет в переменные.</b></font>"
   ]
  },
  {
   "cell_type": "code",
   "execution_count": 23,
   "metadata": {},
   "outputs": [
    {
     "data": {
      "text/plain": [
       "((34992, 768), (34992,))"
      ]
     },
     "execution_count": 23,
     "metadata": {},
     "output_type": "execute_result"
    }
   ],
   "source": [
    "X = np.concatenate(embeddings)\n",
    "y = df['toxic']\n",
    "y = y[:X.shape[0]]\n",
    "\n",
    "del embeddings\n",
    "del df\n",
    "\n",
    "X.shape, y.shape"
   ]
  },
  {
   "cell_type": "markdown",
   "metadata": {},
   "source": [
    "<font size=\"3\"><b>Делим данные на выборки 40/30/30 %</b></font>"
   ]
  },
  {
   "cell_type": "code",
   "execution_count": null,
   "metadata": {},
   "outputs": [],
   "source": [
    "y_train, y_test, X_train, X_test = train_test_split(y, X, test_size=0.6, \n",
    "                                                    random_state=12345)\n",
    "y_valid, y_test, X_valid, X_test = train_test_split(y_test, X_test, test_size=0.5, \n",
    "                                                    random_state=12345)\n",
    "\n",
    "y_train.shape, y_valid.shape, y_test.shape, X_train.shape, X_valid.shape, X_test.shape"
   ]
  },
  {
   "cell_type": "markdown",
   "metadata": {},
   "source": [
    "<font size=\"3\"><b>Увеличение классов в выборке </b></font>"
   ]
  },
  {
   "cell_type": "code",
   "execution_count": 25,
   "metadata": {},
   "outputs": [
    {
     "name": "stdout",
     "output_type": "stream",
     "text": [
      "CPU times: total: 391 ms\n",
      "Wall time: 389 ms\n"
     ]
    },
    {
     "data": {
      "text/plain": [
       "(1    0.526728\n",
       " 0    0.473272\n",
       " Name: toxic, dtype: float64,\n",
       " (25516, 768))"
      ]
     },
     "execution_count": 25,
     "metadata": {},
     "output_type": "execute_result"
    }
   ],
   "source": [
    "%%time\n",
    "# создаем функцию которая увеличиавет классы и перемешивает их в новый дата сет\n",
    "def upsample(features, target, repeat):\n",
    "    features = pd.DataFrame(features).reset_index(drop=True)\n",
    "    target = pd.Series(target).reset_index(drop=True)\n",
    "    features_zeros = features[target == 0]\n",
    "    features_ones = features[target == 1]\n",
    "    target_zeros = target[target == 0]\n",
    "    target_ones = target[target == 1]\n",
    "    features_upsampled = pd.concat([features_zeros] + [features_ones] * repeat)\n",
    "    target_upsampled = pd.concat([target_zeros] + [target_ones] * repeat)\n",
    "    features_upsampled, target_upsampled = shuffle(\n",
    "        features_upsampled, target_upsampled, random_state=12345)\n",
    "    \n",
    "    return features_upsampled, target_upsampled\n",
    "\n",
    "X_train, y_train = upsample(X_train, y_train, 7)\n",
    "\n",
    "# проверяем баланс классов\n",
    "y_train.value_counts(normalize= True), X_train.shape"
   ]
  },
  {
   "cell_type": "markdown",
   "metadata": {},
   "source": [
    "<font size=\"3\"><b>Проверяем средний таргет после деления на выборки.</b></font>"
   ]
  },
  {
   "cell_type": "code",
   "execution_count": 26,
   "metadata": {},
   "outputs": [
    {
     "data": {
      "text/plain": [
       "(1    0.526728\n",
       " 0    0.473272\n",
       " Name: toxic, dtype: float64,\n",
       " 0    0.869023\n",
       " 1    0.130977\n",
       " Name: toxic, dtype: float64,\n",
       " 0    0.862069\n",
       " 1    0.137931\n",
       " Name: toxic, dtype: float64)"
      ]
     },
     "execution_count": 26,
     "metadata": {},
     "output_type": "execute_result"
    }
   ],
   "source": [
    "y_train.value_counts(normalize = True), y_test.value_counts(normalize = True), y_valid.value_counts(normalize = True)"
   ]
  },
  {
   "cell_type": "markdown",
   "metadata": {},
   "source": [
    "## Построение и оценка моделей"
   ]
  },
  {
   "cell_type": "markdown",
   "metadata": {},
   "source": [
    "<font size=\"3\"><b>Модель LogisticRegression взвешивание классов.</b></font>"
   ]
  },
  {
   "cell_type": "code",
   "execution_count": null,
   "metadata": {},
   "outputs": [],
   "source": [
    "%%time\n",
    "weight = sum(y_train == 0) / sum(y_train == 1)\n",
    "lr = LogisticRegression(random_state=12345, \n",
    "                        max_iter=100, \n",
    "                        solver='lbfgs', \n",
    "                        class_weight= {0 : 1, 1 : weight})\n",
    "\n",
    "scores_weight = cross_val_score(lr, X_train, y_train, \n",
    "                         scoring = 'f1', \n",
    "                         cv=8, n_jobs = -1)\n",
    "scores_weight.mean()"
   ]
  },
  {
   "cell_type": "raw",
   "metadata": {},
   "source": [
    "CPU times: total: 281 ms\n",
    "Wall time: 40.3 s\n",
    "0.9205389537446385"
   ]
  },
  {
   "cell_type": "markdown",
   "metadata": {},
   "source": [
    "<font size=\"3\"><b>Модель LogisticRegression с базовыми параметрами.</b></font>"
   ]
  },
  {
   "cell_type": "code",
   "execution_count": 28,
   "metadata": {},
   "outputs": [
    {
     "name": "stdout",
     "output_type": "stream",
     "text": [
      "CPU times: total: 234 ms\n",
      "Wall time: 28.5 s\n"
     ]
    },
    {
     "data": {
      "text/plain": [
       "0.9230782885698907"
      ]
     },
     "execution_count": 28,
     "metadata": {},
     "output_type": "execute_result"
    }
   ],
   "source": [
    "%%time\n",
    "lr = LogisticRegression(random_state=12345, \n",
    "                        max_iter=100, \n",
    "                        solver='lbfgs')\n",
    "\n",
    "scores = cross_val_score(lr, X_train, y_train, \n",
    "                         scoring = 'f1', \n",
    "                         cv=8, n_jobs = -1)\n",
    "scores.mean()"
   ]
  },
  {
   "cell_type": "markdown",
   "metadata": {},
   "source": [
    "<font size=\"3\"><b>Сетка подбора параметров для модели LogisticRegression.</b></font>"
   ]
  },
  {
   "cell_type": "code",
   "execution_count": 42,
   "metadata": {},
   "outputs": [
    {
     "name": "stdout",
     "output_type": "stream",
     "text": [
      "CPU times: total: 23.3 s\n",
      "Wall time: 31.3 s\n"
     ]
    },
    {
     "name": "stderr",
     "output_type": "stream",
     "text": [
      "C:\\Users\\Мария\\AppData\\Local\\Programs\\Python\\Python310\\lib\\site-packages\\sklearn\\linear_model\\_logistic.py:458: ConvergenceWarning: lbfgs failed to converge (status=1):\n",
      "STOP: TOTAL NO. of ITERATIONS REACHED LIMIT.\n",
      "\n",
      "Increase the number of iterations (max_iter) or scale the data as shown in:\n",
      "    https://scikit-learn.org/stable/modules/preprocessing.html\n",
      "Please also refer to the documentation for alternative solver options:\n",
      "    https://scikit-learn.org/stable/modules/linear_model.html#logistic-regression\n",
      "  n_iter_i = _check_optimize_result(\n"
     ]
    },
    {
     "data": {
      "text/plain": [
       "(LogisticRegression(C=75.000025, random_state=12345),\n",
       " 0.9212317452812236,\n",
       " 0.6873949579831933)"
      ]
     },
     "execution_count": 42,
     "metadata": {},
     "output_type": "execute_result"
    }
   ],
   "source": [
    "%%time\n",
    "parameters = {'C': np.linspace(0.0001, 100, 5)}\n",
    "\n",
    "grid_search = GridSearchCV(lr, parameters, scoring = 'f1', cv = 3, n_jobs = -1)\n",
    "grid_search.fit(X_train, y_train)\n",
    "\n",
    "y_pred_lr = grid_search.predict(X_valid)\n",
    "f1_lr = f1_score(y_valid, y_pred_lr)\n",
    "\n",
    "gri = grid_search.best_score_\n",
    "\n",
    "grid_search.best_estimator_, grid_search.best_score_, f1_lr"
   ]
  },
  {
   "cell_type": "markdown",
   "metadata": {},
   "source": [
    "<font size=\"3\"><b>Модель RandomForestClassifier с базовыми параметрами.</b></font>"
   ]
  },
  {
   "cell_type": "code",
   "execution_count": 30,
   "metadata": {},
   "outputs": [
    {
     "name": "stdout",
     "output_type": "stream",
     "text": [
      "CPU times: total: 297 ms\n",
      "Wall time: 11min 47s\n"
     ]
    },
    {
     "data": {
      "text/plain": [
       "0.9939876192205924"
      ]
     },
     "execution_count": 30,
     "metadata": {},
     "output_type": "execute_result"
    }
   ],
   "source": [
    "%%time\n",
    "rfr = RandomForestClassifier(random_state=12345, n_jobs=-1)\n",
    "\n",
    "cv = RepeatedStratifiedKFold(n_splits=10, n_repeats=3, random_state=12345)\n",
    "\n",
    "scores_rfr = cross_val_score(rfr, X_train, y_train, \n",
    "                         scoring = 'f1', \n",
    "                         cv=cv, n_jobs = -1)\n",
    "\n",
    "\n",
    "scores_rfr.mean()"
   ]
  },
  {
   "cell_type": "markdown",
   "metadata": {},
   "source": [
    "<font size=\"3\">\n",
    "    <b>Проверяем базовые параметры модели LGBMClassifier.</b>\n",
    "</font>"
   ]
  },
  {
   "cell_type": "code",
   "execution_count": 31,
   "metadata": {},
   "outputs": [
    {
     "name": "stdout",
     "output_type": "stream",
     "text": [
      "CPU times: total: 406 ms\n",
      "Wall time: 4min 54s\n"
     ]
    },
    {
     "data": {
      "text/plain": [
       "0.9762560917216817"
      ]
     },
     "execution_count": 31,
     "metadata": {},
     "output_type": "execute_result"
    }
   ],
   "source": [
    "%%time\n",
    "lgbm = LGBMClassifier(random_state=12345)\n",
    "\n",
    "cv = RepeatedStratifiedKFold(n_splits=10, n_repeats=3, random_state=12345)\n",
    "scores_lgbm = cross_val_score(lgbm, X_train, y_train, scoring='f1', cv=cv, n_jobs=-1)\n",
    "\n",
    "scores_lgbm.mean()"
   ]
  },
  {
   "cell_type": "raw",
   "metadata": {},
   "source": [
    "CPU times: total: 406 ms\n",
    "Wall time: 4min 54s\n",
    "0.9762560917216817"
   ]
  },
  {
   "cell_type": "markdown",
   "metadata": {},
   "source": [
    "<font size=\"3\"><b>Сетка выбора параметров для модели LGBMClassifier.</b></font>"
   ]
  },
  {
   "cell_type": "code",
   "execution_count": 32,
   "metadata": {},
   "outputs": [
    {
     "name": "stdout",
     "output_type": "stream",
     "text": [
      "CPU times: total: 453 ms\n",
      "Wall time: 19min 2s\n"
     ]
    },
    {
     "data": {
      "text/plain": [
       "0.9886296733201622"
      ]
     },
     "execution_count": 32,
     "metadata": {},
     "output_type": "execute_result"
    }
   ],
   "source": [
    "%%time\n",
    "weight = sum(y_train == 0) / sum(y_train == 1)\n",
    "model = LGBMClassifier(objective='binary',\n",
    "                      n_estimators = 500,\n",
    "                      max_depth = 10,\n",
    "                      learning_rate = 0.1,\n",
    "                      boosting_type = 'gbdt',\n",
    "                      class_weight = {0 : 1, 1 : weight},\n",
    "                      random_state=12345)\n",
    "\n",
    "\n",
    "cv = RepeatedStratifiedKFold(n_splits=10, n_repeats=3, random_state=12345)\n",
    "n_scores = cross_val_score(model, X_train, y_train, scoring='f1', cv=cv, n_jobs=-1)\n",
    "\n",
    "\n",
    "n_scores.mean()"
   ]
  },
  {
   "cell_type": "markdown",
   "metadata": {},
   "source": [
    "<font size=\"3\">\n",
    "    <b>Модель CatBoostClassifier с базовыми настройками.</b>\n",
    "</font>"
   ]
  },
  {
   "cell_type": "code",
   "execution_count": 33,
   "metadata": {
    "scrolled": true
   },
   "outputs": [
    {
     "name": "stdout",
     "output_type": "stream",
     "text": [
      "0:\tlearn: 0.7879248\ttest: 0.7879248\tbest: 0.7879248 (0)\ttotal: 403ms\tremaining: 19.7s\n",
      "1:\tlearn: 0.8210808\ttest: 0.8210808\tbest: 0.8210808 (1)\ttotal: 590ms\tremaining: 14.2s\n",
      "2:\tlearn: 0.8258383\ttest: 0.8258383\tbest: 0.8258383 (2)\ttotal: 790ms\tremaining: 12.4s\n",
      "3:\tlearn: 0.8314961\ttest: 0.8314961\tbest: 0.8314961 (3)\ttotal: 972ms\tremaining: 11.2s\n",
      "4:\tlearn: 0.8447828\ttest: 0.8447828\tbest: 0.8447828 (4)\ttotal: 1.17s\tremaining: 10.5s\n",
      "5:\tlearn: 0.8426748\ttest: 0.8426748\tbest: 0.8447828 (4)\ttotal: 1.34s\tremaining: 9.85s\n",
      "6:\tlearn: 0.8531957\ttest: 0.8531957\tbest: 0.8531957 (6)\ttotal: 1.52s\tremaining: 9.34s\n",
      "7:\tlearn: 0.8530298\ttest: 0.8530298\tbest: 0.8531957 (6)\ttotal: 1.69s\tremaining: 8.88s\n",
      "8:\tlearn: 0.8583411\ttest: 0.8583411\tbest: 0.8583411 (8)\ttotal: 1.88s\tremaining: 8.56s\n",
      "9:\tlearn: 0.8641783\ttest: 0.8641783\tbest: 0.8641783 (9)\ttotal: 2.06s\tremaining: 8.22s\n",
      "10:\tlearn: 0.8648829\ttest: 0.8648829\tbest: 0.8648829 (10)\ttotal: 2.25s\tremaining: 7.97s\n",
      "11:\tlearn: 0.8666543\ttest: 0.8666543\tbest: 0.8666543 (11)\ttotal: 2.42s\tremaining: 7.67s\n",
      "12:\tlearn: 0.8696490\ttest: 0.8696490\tbest: 0.8696490 (12)\ttotal: 2.61s\tremaining: 7.43s\n",
      "13:\tlearn: 0.8699482\ttest: 0.8699482\tbest: 0.8699482 (13)\ttotal: 2.78s\tremaining: 7.14s\n",
      "14:\tlearn: 0.8720207\ttest: 0.8720207\tbest: 0.8720207 (14)\ttotal: 2.96s\tremaining: 6.91s\n",
      "15:\tlearn: 0.8720154\ttest: 0.8720154\tbest: 0.8720207 (14)\ttotal: 3.14s\tremaining: 6.67s\n",
      "16:\tlearn: 0.8764902\ttest: 0.8764902\tbest: 0.8764902 (16)\ttotal: 3.33s\tremaining: 6.47s\n",
      "17:\tlearn: 0.8810394\ttest: 0.8810394\tbest: 0.8810394 (17)\ttotal: 3.51s\tremaining: 6.24s\n",
      "18:\tlearn: 0.8813798\ttest: 0.8813798\tbest: 0.8813798 (18)\ttotal: 3.7s\tremaining: 6.04s\n",
      "19:\tlearn: 0.8834700\ttest: 0.8834700\tbest: 0.8834700 (19)\ttotal: 3.86s\tremaining: 5.8s\n",
      "20:\tlearn: 0.8851139\ttest: 0.8851139\tbest: 0.8851139 (20)\ttotal: 4.06s\tremaining: 5.6s\n",
      "21:\tlearn: 0.8867632\ttest: 0.8867632\tbest: 0.8867632 (21)\ttotal: 4.24s\tremaining: 5.39s\n",
      "22:\tlearn: 0.8882816\ttest: 0.8882816\tbest: 0.8882816 (22)\ttotal: 4.42s\tremaining: 5.19s\n",
      "23:\tlearn: 0.8896113\ttest: 0.8896113\tbest: 0.8896113 (23)\ttotal: 4.61s\tremaining: 4.99s\n",
      "24:\tlearn: 0.8902272\ttest: 0.8902272\tbest: 0.8902272 (24)\ttotal: 4.79s\tremaining: 4.79s\n",
      "25:\tlearn: 0.8929350\ttest: 0.8929350\tbest: 0.8929350 (25)\ttotal: 4.96s\tremaining: 4.58s\n",
      "26:\tlearn: 0.8934299\ttest: 0.8934299\tbest: 0.8934299 (26)\ttotal: 5.13s\tremaining: 4.38s\n",
      "27:\tlearn: 0.8951142\ttest: 0.8951142\tbest: 0.8951142 (27)\ttotal: 5.31s\tremaining: 4.17s\n",
      "28:\tlearn: 0.8970382\ttest: 0.8970382\tbest: 0.8970382 (28)\ttotal: 5.49s\tremaining: 3.98s\n",
      "29:\tlearn: 0.8961741\ttest: 0.8961741\tbest: 0.8970382 (28)\ttotal: 5.66s\tremaining: 3.77s\n",
      "30:\tlearn: 0.8967584\ttest: 0.8967584\tbest: 0.8970382 (28)\ttotal: 5.83s\tremaining: 3.58s\n",
      "31:\tlearn: 0.8983985\ttest: 0.8983985\tbest: 0.8983985 (31)\ttotal: 6.01s\tremaining: 3.38s\n",
      "32:\tlearn: 0.8993532\ttest: 0.8993532\tbest: 0.8993532 (32)\ttotal: 6.19s\tremaining: 3.19s\n",
      "33:\tlearn: 0.9014116\ttest: 0.9014116\tbest: 0.9014116 (33)\ttotal: 6.37s\tremaining: 3s\n",
      "34:\tlearn: 0.9012942\ttest: 0.9012942\tbest: 0.9014116 (33)\ttotal: 6.54s\tremaining: 2.8s\n",
      "35:\tlearn: 0.9021270\ttest: 0.9021270\tbest: 0.9021270 (35)\ttotal: 6.71s\tremaining: 2.61s\n",
      "36:\tlearn: 0.9051702\ttest: 0.9051702\tbest: 0.9051702 (36)\ttotal: 6.88s\tremaining: 2.42s\n",
      "37:\tlearn: 0.9055367\ttest: 0.9055367\tbest: 0.9055367 (37)\ttotal: 7.05s\tremaining: 2.23s\n",
      "38:\tlearn: 0.9061522\ttest: 0.9061522\tbest: 0.9061522 (38)\ttotal: 7.23s\tremaining: 2.04s\n",
      "39:\tlearn: 0.9092179\ttest: 0.9092179\tbest: 0.9092179 (39)\ttotal: 7.4s\tremaining: 1.85s\n",
      "40:\tlearn: 0.9102804\ttest: 0.9102804\tbest: 0.9102804 (40)\ttotal: 7.57s\tremaining: 1.66s\n",
      "41:\tlearn: 0.9106946\ttest: 0.9106946\tbest: 0.9106946 (41)\ttotal: 7.73s\tremaining: 1.47s\n",
      "42:\tlearn: 0.9113338\ttest: 0.9113338\tbest: 0.9113338 (42)\ttotal: 7.91s\tremaining: 1.29s\n",
      "43:\tlearn: 0.9116016\ttest: 0.9116016\tbest: 0.9116016 (43)\ttotal: 8.08s\tremaining: 1.1s\n",
      "44:\tlearn: 0.9139481\ttest: 0.9139481\tbest: 0.9139481 (44)\ttotal: 8.26s\tremaining: 918ms\n",
      "45:\tlearn: 0.9147742\ttest: 0.9147742\tbest: 0.9147742 (45)\ttotal: 8.42s\tremaining: 732ms\n",
      "46:\tlearn: 0.9157678\ttest: 0.9157678\tbest: 0.9157678 (46)\ttotal: 8.59s\tremaining: 548ms\n",
      "47:\tlearn: 0.9166606\ttest: 0.9166606\tbest: 0.9166606 (47)\ttotal: 8.75s\tremaining: 365ms\n",
      "48:\tlearn: 0.9160272\ttest: 0.9160272\tbest: 0.9166606 (47)\ttotal: 8.93s\tremaining: 182ms\n",
      "49:\tlearn: 0.9177972\ttest: 0.9177972\tbest: 0.9177972 (49)\ttotal: 9.09s\tremaining: 0us\n",
      "\n",
      "bestTest = 0.9177971695\n",
      "bestIteration = 49\n",
      "\n",
      "CPU times: total: 1min 15s\n",
      "Wall time: 11 s\n"
     ]
    },
    {
     "data": {
      "text/plain": [
       "0.9177971694654251"
      ]
     },
     "execution_count": 33,
     "metadata": {},
     "output_type": "execute_result"
    }
   ],
   "source": [
    "%%time\n",
    "ctbf = cb.CatBoostClassifier(loss_function='Logloss',\n",
    "                             eval_metric='F1',\n",
    "                             iterations=50,\n",
    "                             learning_rate=0.1\n",
    "                           )\n",
    "ctbf.fit(X_train, y_train, eval_set=(X_train, y_train))\n",
    "\n",
    "y_pred = ctbf.predict(X_train)\n",
    "f1_ctbf = f1_score(y_train, y_pred)\n",
    "f1_ctbf"
   ]
  },
  {
   "cell_type": "markdown",
   "metadata": {},
   "source": [
    "<font size=\"3\">\n",
    "    <b>Сетка подбора параметров модель CatBoostClassifier.</b>\n",
    "</font>"
   ]
  },
  {
   "cell_type": "code",
   "execution_count": 34,
   "metadata": {
    "scrolled": true
   },
   "outputs": [
    {
     "name": "stdout",
     "output_type": "stream",
     "text": [
      "0:\tlearn: 0.7644410\ttest: 0.7548375\tbest: 0.7548375 (0)\ttotal: 81.3ms\tremaining: 8.05s\n",
      "1:\tlearn: 0.7877485\ttest: 0.7816782\tbest: 0.7816782 (1)\ttotal: 158ms\tremaining: 7.75s\n",
      "2:\tlearn: 0.7862305\ttest: 0.7813499\tbest: 0.7816782 (1)\ttotal: 231ms\tremaining: 7.47s\n",
      "3:\tlearn: 0.7823468\ttest: 0.7829195\tbest: 0.7829195 (3)\ttotal: 310ms\tremaining: 7.45s\n",
      "4:\tlearn: 0.7929895\ttest: 0.7916353\tbest: 0.7916353 (4)\ttotal: 383ms\tremaining: 7.27s\n",
      "5:\tlearn: 0.7953613\ttest: 0.7969248\tbest: 0.7969248 (5)\ttotal: 460ms\tremaining: 7.21s\n",
      "6:\tlearn: 0.7990826\ttest: 0.8013493\tbest: 0.8013493 (6)\ttotal: 540ms\tremaining: 7.18s\n",
      "7:\tlearn: 0.8036848\ttest: 0.8090433\tbest: 0.8090433 (7)\ttotal: 620ms\tremaining: 7.13s\n",
      "8:\tlearn: 0.8069824\ttest: 0.8128262\tbest: 0.8128262 (8)\ttotal: 692ms\tremaining: 7s\n",
      "9:\tlearn: 0.8037796\ttest: 0.8087022\tbest: 0.8128262 (8)\ttotal: 765ms\tremaining: 6.88s\n",
      "10:\tlearn: 0.8054064\ttest: 0.8099700\tbest: 0.8128262 (8)\ttotal: 842ms\tremaining: 6.82s\n",
      "11:\tlearn: 0.8067823\ttest: 0.8111444\tbest: 0.8128262 (8)\ttotal: 913ms\tremaining: 6.7s\n",
      "12:\tlearn: 0.8095374\ttest: 0.8131294\tbest: 0.8131294 (12)\ttotal: 985ms\tremaining: 6.59s\n",
      "13:\tlearn: 0.8131073\ttest: 0.8159612\tbest: 0.8159612 (13)\ttotal: 1.06s\tremaining: 6.52s\n",
      "14:\tlearn: 0.8210626\ttest: 0.8261834\tbest: 0.8261834 (14)\ttotal: 1.13s\tremaining: 6.43s\n",
      "15:\tlearn: 0.8205104\ttest: 0.8243993\tbest: 0.8261834 (14)\ttotal: 1.21s\tremaining: 6.35s\n",
      "16:\tlearn: 0.8234851\ttest: 0.8270400\tbest: 0.8270400 (16)\ttotal: 1.28s\tremaining: 6.26s\n",
      "17:\tlearn: 0.8253864\ttest: 0.8283871\tbest: 0.8283871 (17)\ttotal: 1.35s\tremaining: 6.16s\n",
      "18:\tlearn: 0.8266591\ttest: 0.8278024\tbest: 0.8283871 (17)\ttotal: 1.44s\tremaining: 6.13s\n",
      "19:\tlearn: 0.8284252\ttest: 0.8317964\tbest: 0.8317964 (19)\ttotal: 1.52s\tremaining: 6.08s\n",
      "20:\tlearn: 0.8351176\ttest: 0.8372776\tbest: 0.8372776 (20)\ttotal: 1.59s\tremaining: 6s\n",
      "21:\tlearn: 0.8356465\ttest: 0.8374656\tbest: 0.8374656 (21)\ttotal: 1.67s\tremaining: 5.92s\n",
      "22:\tlearn: 0.8361714\ttest: 0.8397059\tbest: 0.8397059 (22)\ttotal: 1.77s\tremaining: 5.92s\n",
      "23:\tlearn: 0.8365964\ttest: 0.8393382\tbest: 0.8397059 (22)\ttotal: 1.86s\tremaining: 5.9s\n",
      "24:\tlearn: 0.8392666\ttest: 0.8408298\tbest: 0.8408298 (24)\ttotal: 1.94s\tremaining: 5.81s\n",
      "25:\tlearn: 0.8413246\ttest: 0.8422406\tbest: 0.8422406 (25)\ttotal: 2.02s\tremaining: 5.75s\n",
      "26:\tlearn: 0.8427825\ttest: 0.8435324\tbest: 0.8435324 (26)\ttotal: 2.1s\tremaining: 5.67s\n",
      "27:\tlearn: 0.8432836\ttest: 0.8449669\tbest: 0.8449669 (27)\ttotal: 2.18s\tremaining: 5.6s\n",
      "28:\tlearn: 0.8441892\ttest: 0.8458992\tbest: 0.8458992 (28)\ttotal: 2.25s\tremaining: 5.51s\n",
      "29:\tlearn: 0.8439398\ttest: 0.8443709\tbest: 0.8458992 (28)\ttotal: 2.33s\tremaining: 5.43s\n",
      "30:\tlearn: 0.8447124\ttest: 0.8459270\tbest: 0.8459270 (30)\ttotal: 2.4s\tremaining: 5.36s\n",
      "31:\tlearn: 0.8461718\ttest: 0.8474576\tbest: 0.8474576 (31)\ttotal: 2.49s\tremaining: 5.3s\n",
      "32:\tlearn: 0.8466275\ttest: 0.8497238\tbest: 0.8497238 (32)\ttotal: 2.57s\tremaining: 5.21s\n",
      "33:\tlearn: 0.8470742\ttest: 0.8509385\tbest: 0.8509385 (33)\ttotal: 2.64s\tremaining: 5.13s\n",
      "34:\tlearn: 0.8482646\ttest: 0.8498990\tbest: 0.8509385 (33)\ttotal: 2.71s\tremaining: 5.04s\n",
      "35:\tlearn: 0.8488638\ttest: 0.8507353\tbest: 0.8509385 (33)\ttotal: 2.78s\tremaining: 4.95s\n",
      "36:\tlearn: 0.8502519\ttest: 0.8518927\tbest: 0.8518927 (36)\ttotal: 2.85s\tremaining: 4.85s\n",
      "37:\tlearn: 0.8503217\ttest: 0.8532549\tbest: 0.8532549 (37)\ttotal: 2.94s\tremaining: 4.79s\n",
      "38:\tlearn: 0.8513948\ttest: 0.8526761\tbest: 0.8532549 (37)\ttotal: 3.01s\tremaining: 4.7s\n",
      "39:\tlearn: 0.8513570\ttest: 0.8539904\tbest: 0.8539904 (39)\ttotal: 3.08s\tremaining: 4.63s\n",
      "40:\tlearn: 0.8511927\ttest: 0.8532499\tbest: 0.8539904 (39)\ttotal: 3.16s\tremaining: 4.55s\n",
      "41:\tlearn: 0.8532080\ttest: 0.8546223\tbest: 0.8546223 (41)\ttotal: 3.23s\tremaining: 4.46s\n",
      "42:\tlearn: 0.8530686\ttest: 0.8538830\tbest: 0.8546223 (41)\ttotal: 3.31s\tremaining: 4.38s\n",
      "43:\tlearn: 0.8538813\ttest: 0.8553552\tbest: 0.8553552 (43)\ttotal: 3.38s\tremaining: 4.31s\n",
      "44:\tlearn: 0.8567178\ttest: 0.8568801\tbest: 0.8568801 (44)\ttotal: 3.46s\tremaining: 4.23s\n",
      "45:\tlearn: 0.8568106\ttest: 0.8561442\tbest: 0.8568801 (44)\ttotal: 3.55s\tremaining: 4.17s\n",
      "46:\tlearn: 0.8564382\ttest: 0.8559868\tbest: 0.8568801 (44)\ttotal: 3.62s\tremaining: 4.09s\n",
      "47:\tlearn: 0.8560518\ttest: 0.8551978\tbest: 0.8568801 (44)\ttotal: 3.69s\tremaining: 4s\n",
      "48:\tlearn: 0.8570498\ttest: 0.8563017\tbest: 0.8568801 (44)\ttotal: 3.77s\tremaining: 3.92s\n",
      "49:\tlearn: 0.8561851\ttest: 0.8564046\tbest: 0.8568801 (44)\ttotal: 3.84s\tremaining: 3.84s\n",
      "50:\tlearn: 0.8578080\ttest: 0.8593548\tbest: 0.8593548 (50)\ttotal: 3.92s\tremaining: 3.76s\n",
      "51:\tlearn: 0.8583667\ttest: 0.8594067\tbest: 0.8594067 (51)\ttotal: 4s\tremaining: 3.7s\n",
      "52:\tlearn: 0.8590579\ttest: 0.8597718\tbest: 0.8597718 (52)\ttotal: 4.08s\tremaining: 3.61s\n",
      "53:\tlearn: 0.8596809\ttest: 0.8607222\tbest: 0.8607222 (53)\ttotal: 4.15s\tremaining: 3.53s\n",
      "54:\tlearn: 0.8601981\ttest: 0.8619293\tbest: 0.8619293 (54)\ttotal: 4.22s\tremaining: 3.45s\n",
      "55:\tlearn: 0.8595642\ttest: 0.8610957\tbest: 0.8619293 (54)\ttotal: 4.3s\tremaining: 3.38s\n",
      "56:\tlearn: 0.8608951\ttest: 0.8613058\tbest: 0.8619293 (54)\ttotal: 4.37s\tremaining: 3.3s\n",
      "57:\tlearn: 0.8611331\ttest: 0.8611982\tbest: 0.8619293 (54)\ttotal: 4.44s\tremaining: 3.21s\n",
      "58:\tlearn: 0.8625151\ttest: 0.8617198\tbest: 0.8619293 (54)\ttotal: 4.52s\tremaining: 3.14s\n",
      "59:\tlearn: 0.8619372\ttest: 0.8634182\tbest: 0.8634182 (59)\ttotal: 4.59s\tremaining: 3.06s\n",
      "60:\tlearn: 0.8633885\ttest: 0.8631579\tbest: 0.8634182 (59)\ttotal: 4.67s\tremaining: 2.99s\n",
      "61:\tlearn: 0.8629096\ttest: 0.8626292\tbest: 0.8634182 (59)\ttotal: 4.74s\tremaining: 2.9s\n",
      "62:\tlearn: 0.8635897\ttest: 0.8628392\tbest: 0.8634182 (59)\ttotal: 4.8s\tremaining: 2.82s\n",
      "63:\tlearn: 0.8636533\ttest: 0.8634182\tbest: 0.8634182 (59)\ttotal: 4.87s\tremaining: 2.74s\n",
      "64:\tlearn: 0.8630852\ttest: 0.8630491\tbest: 0.8634182 (59)\ttotal: 4.95s\tremaining: 2.67s\n",
      "65:\tlearn: 0.8641492\ttest: 0.8628898\tbest: 0.8634182 (59)\ttotal: 5.02s\tremaining: 2.59s\n",
      "66:\tlearn: 0.8645979\ttest: 0.8643661\tbest: 0.8643661 (66)\ttotal: 5.09s\tremaining: 2.51s\n",
      "67:\tlearn: 0.8636809\ttest: 0.8637874\tbest: 0.8643661 (66)\ttotal: 5.17s\tremaining: 2.43s\n",
      "68:\tlearn: 0.8641365\ttest: 0.8634182\tbest: 0.8643661 (66)\ttotal: 5.24s\tremaining: 2.35s\n",
      "69:\tlearn: 0.8643380\ttest: 0.8642158\tbest: 0.8643661 (66)\ttotal: 5.31s\tremaining: 2.27s\n",
      "70:\tlearn: 0.8643254\ttest: 0.8647450\tbest: 0.8647450 (70)\ttotal: 5.39s\tremaining: 2.2s\n",
      "71:\tlearn: 0.8637700\ttest: 0.8646450\tbest: 0.8647450 (70)\ttotal: 5.46s\tremaining: 2.12s\n",
      "72:\tlearn: 0.8644060\ttest: 0.8645853\tbest: 0.8647450 (70)\ttotal: 5.54s\tremaining: 2.05s\n",
      "73:\tlearn: 0.8656285\ttest: 0.8659032\tbest: 0.8659032 (73)\ttotal: 5.62s\tremaining: 1.97s\n",
      "74:\tlearn: 0.8662628\ttest: 0.8668021\tbest: 0.8668021 (74)\ttotal: 5.69s\tremaining: 1.9s\n",
      "75:\tlearn: 0.8672072\ttest: 0.8664699\tbest: 0.8668021 (74)\ttotal: 5.76s\tremaining: 1.82s\n",
      "76:\tlearn: 0.8690836\ttest: 0.8677854\tbest: 0.8677854 (76)\ttotal: 5.83s\tremaining: 1.74s\n",
      "77:\tlearn: 0.8690432\ttest: 0.8677854\tbest: 0.8677854 (76)\ttotal: 5.91s\tremaining: 1.67s\n",
      "78:\tlearn: 0.8688364\ttest: 0.8674654\tbest: 0.8677854 (76)\ttotal: 5.98s\tremaining: 1.59s\n",
      "79:\tlearn: 0.8700749\ttest: 0.8698378\tbest: 0.8698378 (79)\ttotal: 6.05s\tremaining: 1.51s\n",
      "80:\tlearn: 0.8689418\ttest: 0.8693088\tbest: 0.8698378 (79)\ttotal: 6.13s\tremaining: 1.44s\n",
      "81:\tlearn: 0.8690676\ttest: 0.8696294\tbest: 0.8698378 (79)\ttotal: 6.2s\tremaining: 1.36s\n",
      "82:\tlearn: 0.8691806\ttest: 0.8691641\tbest: 0.8698378 (79)\ttotal: 6.27s\tremaining: 1.28s\n",
      "83:\tlearn: 0.8693830\ttest: 0.8691641\tbest: 0.8698378 (79)\ttotal: 6.34s\tremaining: 1.21s\n",
      "84:\tlearn: 0.8691280\ttest: 0.8698542\tbest: 0.8698542 (84)\ttotal: 6.41s\tremaining: 1.13s\n",
      "85:\tlearn: 0.8700591\ttest: 0.8706881\tbest: 0.8706881 (85)\ttotal: 6.48s\tremaining: 1.05s\n",
      "86:\tlearn: 0.8704195\ttest: 0.8703840\tbest: 0.8706881 (85)\ttotal: 6.57s\tremaining: 982ms\n",
      "87:\tlearn: 0.8710383\ttest: 0.8713310\tbest: 0.8713310 (87)\ttotal: 6.64s\tremaining: 905ms\n",
      "88:\tlearn: 0.8714538\ttest: 0.8719557\tbest: 0.8719557 (88)\ttotal: 6.71s\tremaining: 829ms\n",
      "89:\tlearn: 0.8714585\ttest: 0.8725798\tbest: 0.8725798 (89)\ttotal: 6.79s\tremaining: 754ms\n",
      "90:\tlearn: 0.8727154\ttest: 0.8730890\tbest: 0.8730890 (90)\ttotal: 6.86s\tremaining: 678ms\n",
      "91:\tlearn: 0.8732002\ttest: 0.8727876\tbest: 0.8730890 (90)\ttotal: 6.93s\tremaining: 603ms\n",
      "92:\tlearn: 0.8736935\ttest: 0.8735717\tbest: 0.8735717 (92)\ttotal: 7.01s\tremaining: 528ms\n",
      "93:\tlearn: 0.8741931\ttest: 0.8735251\tbest: 0.8735717 (92)\ttotal: 7.08s\tremaining: 452ms\n",
      "94:\tlearn: 0.8746691\ttest: 0.8751841\tbest: 0.8751841 (94)\ttotal: 7.15s\tremaining: 376ms\n",
      "95:\tlearn: 0.8748200\ttest: 0.8753911\tbest: 0.8753911 (95)\ttotal: 7.22s\tremaining: 301ms\n",
      "96:\tlearn: 0.8748433\ttest: 0.8752993\tbest: 0.8753911 (95)\ttotal: 7.29s\tremaining: 226ms\n",
      "97:\tlearn: 0.8768281\ttest: 0.8762887\tbest: 0.8762887 (97)\ttotal: 7.37s\tremaining: 150ms\n",
      "98:\tlearn: 0.8765851\ttest: 0.8762887\tbest: 0.8762887 (97)\ttotal: 7.44s\tremaining: 75.2ms\n",
      "99:\tlearn: 0.8760922\ttest: 0.8758290\tbest: 0.8762887 (97)\ttotal: 7.52s\tremaining: 0us\n",
      "\n",
      "bestTest = 0.8762886598\n",
      "bestIteration = 97\n",
      "\n",
      "0:\tloss: 0.8762887\tbest: 0.8762887 (0)\ttotal: 8.39s\tremaining: 58.7s\n",
      "0:\tlearn: 0.7644410\ttest: 0.7548375\tbest: 0.7548375 (0)\ttotal: 92.2ms\tremaining: 9.13s\n",
      "1:\tlearn: 0.7930478\ttest: 0.7923335\tbest: 0.7923335 (1)\ttotal: 171ms\tremaining: 8.39s\n",
      "2:\tlearn: 0.7957081\ttest: 0.8005235\tbest: 0.8005235 (2)\ttotal: 238ms\tremaining: 7.7s\n",
      "3:\tlearn: 0.8064470\ttest: 0.8098710\tbest: 0.8098710 (3)\ttotal: 314ms\tremaining: 7.53s\n",
      "4:\tlearn: 0.8187653\ttest: 0.8274205\tbest: 0.8274205 (4)\ttotal: 389ms\tremaining: 7.38s\n",
      "5:\tlearn: 0.8180704\ttest: 0.8233117\tbest: 0.8274205 (4)\ttotal: 461ms\tremaining: 7.23s\n",
      "6:\tlearn: 0.8240311\ttest: 0.8274719\tbest: 0.8274719 (6)\ttotal: 535ms\tremaining: 7.11s\n",
      "7:\tlearn: 0.8307764\ttest: 0.8373461\tbest: 0.8373461 (7)\ttotal: 611ms\tremaining: 7.03s\n",
      "8:\tlearn: 0.8326413\ttest: 0.8419124\tbest: 0.8419124 (8)\ttotal: 682ms\tremaining: 6.89s\n",
      "9:\tlearn: 0.8394453\ttest: 0.8471536\tbest: 0.8471536 (9)\ttotal: 757ms\tremaining: 6.81s\n",
      "10:\tlearn: 0.8430214\ttest: 0.8486963\tbest: 0.8486963 (10)\ttotal: 830ms\tremaining: 6.71s\n",
      "11:\tlearn: 0.8444506\ttest: 0.8504690\tbest: 0.8504690 (11)\ttotal: 903ms\tremaining: 6.62s\n",
      "12:\tlearn: 0.8458027\ttest: 0.8504140\tbest: 0.8504690 (11)\ttotal: 985ms\tremaining: 6.59s\n",
      "13:\tlearn: 0.8488345\ttest: 0.8542011\tbest: 0.8542011 (13)\ttotal: 1.06s\tremaining: 6.52s\n",
      "14:\tlearn: 0.8520501\ttest: 0.8575629\tbest: 0.8575629 (14)\ttotal: 1.13s\tremaining: 6.4s\n",
      "15:\tlearn: 0.8536972\ttest: 0.8580882\tbest: 0.8580882 (15)\ttotal: 1.2s\tremaining: 6.32s\n",
      "16:\tlearn: 0.8543173\ttest: 0.8572480\tbest: 0.8580882 (15)\ttotal: 1.27s\tremaining: 6.22s\n",
      "17:\tlearn: 0.8569165\ttest: 0.8599301\tbest: 0.8599301 (17)\ttotal: 1.35s\tremaining: 6.13s\n",
      "18:\tlearn: 0.8568364\ttest: 0.8609882\tbest: 0.8609882 (18)\ttotal: 1.42s\tremaining: 6.05s\n",
      "19:\tlearn: 0.8581554\ttest: 0.8609783\tbest: 0.8609882 (18)\ttotal: 1.49s\tremaining: 5.97s\n",
      "20:\tlearn: 0.8603394\ttest: 0.8644473\tbest: 0.8644473 (20)\ttotal: 1.56s\tremaining: 5.88s\n",
      "21:\tlearn: 0.8605823\ttest: 0.8635693\tbest: 0.8644473 (20)\ttotal: 1.64s\tremaining: 5.81s\n",
      "22:\tlearn: 0.8622185\ttest: 0.8665071\tbest: 0.8665071 (22)\ttotal: 1.71s\tremaining: 5.71s\n",
      "23:\tlearn: 0.8649681\ttest: 0.8680914\tbest: 0.8680914 (23)\ttotal: 1.77s\tremaining: 5.62s\n",
      "24:\tlearn: 0.8667070\ttest: 0.8687017\tbest: 0.8687017 (24)\ttotal: 1.84s\tremaining: 5.53s\n",
      "25:\tlearn: 0.8672476\ttest: 0.8692294\tbest: 0.8692294 (25)\ttotal: 1.92s\tremaining: 5.46s\n",
      "26:\tlearn: 0.8675271\ttest: 0.8708609\tbest: 0.8708609 (26)\ttotal: 2s\tremaining: 5.39s\n",
      "27:\tlearn: 0.8684701\ttest: 0.8695171\tbest: 0.8708609 (26)\ttotal: 2.07s\tremaining: 5.32s\n",
      "28:\tlearn: 0.8694679\ttest: 0.8710570\tbest: 0.8710570 (28)\ttotal: 2.14s\tremaining: 5.24s\n",
      "29:\tlearn: 0.8701171\ttest: 0.8712177\tbest: 0.8712177 (29)\ttotal: 2.21s\tremaining: 5.15s\n",
      "30:\tlearn: 0.8712613\ttest: 0.8736395\tbest: 0.8736395 (30)\ttotal: 2.28s\tremaining: 5.07s\n",
      "31:\tlearn: 0.8729529\ttest: 0.8745387\tbest: 0.8745387 (31)\ttotal: 2.35s\tremaining: 4.99s\n",
      "32:\tlearn: 0.8729225\ttest: 0.8741673\tbest: 0.8745387 (31)\ttotal: 2.42s\tremaining: 4.91s\n",
      "33:\tlearn: 0.8739511\ttest: 0.8765706\tbest: 0.8765706 (33)\ttotal: 2.49s\tremaining: 4.83s\n",
      "34:\tlearn: 0.8742018\ttest: 0.8776792\tbest: 0.8776792 (34)\ttotal: 2.55s\tremaining: 4.74s\n",
      "35:\tlearn: 0.8745456\ttest: 0.8766414\tbest: 0.8776792 (34)\ttotal: 2.62s\tremaining: 4.65s\n",
      "36:\tlearn: 0.8762224\ttest: 0.8782288\tbest: 0.8782288 (36)\ttotal: 2.68s\tremaining: 4.57s\n",
      "37:\tlearn: 0.8772077\ttest: 0.8786873\tbest: 0.8786873 (37)\ttotal: 2.75s\tremaining: 4.49s\n",
      "38:\tlearn: 0.8764495\ttest: 0.8794248\tbest: 0.8794248 (38)\ttotal: 2.82s\tremaining: 4.41s\n",
      "39:\tlearn: 0.8779557\ttest: 0.8799115\tbest: 0.8799115 (39)\ttotal: 2.89s\tremaining: 4.33s\n",
      "40:\tlearn: 0.8791107\ttest: 0.8803245\tbest: 0.8803245 (40)\ttotal: 2.96s\tremaining: 4.25s\n",
      "41:\tlearn: 0.8802045\ttest: 0.8803245\tbest: 0.8803245 (40)\ttotal: 3.04s\tremaining: 4.2s\n",
      "42:\tlearn: 0.8789684\ttest: 0.8805750\tbest: 0.8805750 (42)\ttotal: 3.11s\tremaining: 4.12s\n",
      "43:\tlearn: 0.8796089\ttest: 0.8809436\tbest: 0.8809436 (43)\ttotal: 3.19s\tremaining: 4.05s\n",
      "44:\tlearn: 0.8810200\ttest: 0.8814747\tbest: 0.8814747 (44)\ttotal: 3.26s\tremaining: 3.98s\n",
      "45:\tlearn: 0.8827631\ttest: 0.8832413\tbest: 0.8832413 (45)\ttotal: 3.32s\tremaining: 3.9s\n",
      "46:\tlearn: 0.8831157\ttest: 0.8839352\tbest: 0.8839352 (46)\ttotal: 3.39s\tremaining: 3.82s\n",
      "47:\tlearn: 0.8840728\ttest: 0.8855721\tbest: 0.8855721 (47)\ttotal: 3.46s\tremaining: 3.75s\n",
      "48:\tlearn: 0.8833728\ttest: 0.8848708\tbest: 0.8855721 (47)\ttotal: 3.53s\tremaining: 3.68s\n",
      "49:\tlearn: 0.8856479\ttest: 0.8849982\tbest: 0.8855721 (47)\ttotal: 3.6s\tremaining: 3.6s\n",
      "50:\tlearn: 0.8865166\ttest: 0.8863511\tbest: 0.8863511 (50)\ttotal: 3.67s\tremaining: 3.53s\n",
      "51:\tlearn: 0.8875789\ttest: 0.8877833\tbest: 0.8877833 (51)\ttotal: 3.74s\tremaining: 3.45s\n",
      "52:\tlearn: 0.8887342\ttest: 0.8883165\tbest: 0.8883165 (52)\ttotal: 3.81s\tremaining: 3.38s\n",
      "53:\tlearn: 0.8871140\ttest: 0.8877025\tbest: 0.8883165 (52)\ttotal: 3.88s\tremaining: 3.3s\n",
      "54:\tlearn: 0.8883630\ttest: 0.8878660\tbest: 0.8883165 (52)\ttotal: 3.94s\tremaining: 3.23s\n",
      "55:\tlearn: 0.8888373\ttest: 0.8881119\tbest: 0.8883165 (52)\ttotal: 4.02s\tremaining: 3.16s\n",
      "56:\tlearn: 0.8887856\ttest: 0.8896666\tbest: 0.8896666 (56)\ttotal: 4.1s\tremaining: 3.09s\n",
      "57:\tlearn: 0.8907454\ttest: 0.8892160\tbest: 0.8896666 (56)\ttotal: 4.17s\tremaining: 3.02s\n",
      "58:\tlearn: 0.8915596\ttest: 0.8901564\tbest: 0.8901564 (58)\ttotal: 4.24s\tremaining: 2.94s\n",
      "59:\tlearn: 0.8931436\ttest: 0.8908924\tbest: 0.8908924 (59)\ttotal: 4.3s\tremaining: 2.87s\n",
      "60:\tlearn: 0.8929598\ttest: 0.8906883\tbest: 0.8908924 (59)\ttotal: 4.37s\tremaining: 2.8s\n",
      "61:\tlearn: 0.8929400\ttest: 0.8912603\tbest: 0.8912603 (61)\ttotal: 4.44s\tremaining: 2.72s\n",
      "62:\tlearn: 0.8941951\ttest: 0.8918720\tbest: 0.8918720 (62)\ttotal: 4.51s\tremaining: 2.65s\n",
      "63:\tlearn: 0.8948417\ttest: 0.8924830\tbest: 0.8924830 (63)\ttotal: 4.58s\tremaining: 2.58s\n",
      "64:\tlearn: 0.8956123\ttest: 0.8935857\tbest: 0.8935857 (64)\ttotal: 4.64s\tremaining: 2.5s\n",
      "65:\tlearn: 0.8965166\ttest: 0.8943209\tbest: 0.8943209 (65)\ttotal: 4.71s\tremaining: 2.43s\n",
      "66:\tlearn: 0.8964622\ttest: 0.8950946\tbest: 0.8950946 (66)\ttotal: 4.78s\tremaining: 2.35s\n",
      "67:\tlearn: 0.8964622\ttest: 0.8952591\tbest: 0.8952591 (67)\ttotal: 4.85s\tremaining: 2.28s\n",
      "68:\tlearn: 0.8968460\ttest: 0.8939617\tbest: 0.8952591 (67)\ttotal: 4.92s\tremaining: 2.21s\n",
      "69:\tlearn: 0.8974704\ttest: 0.8942910\tbest: 0.8952591 (67)\ttotal: 4.99s\tremaining: 2.14s\n",
      "70:\tlearn: 0.8987201\ttest: 0.8960059\tbest: 0.8960059 (70)\ttotal: 5.07s\tremaining: 2.07s\n",
      "71:\tlearn: 0.8991515\ttest: 0.8963740\tbest: 0.8963740 (71)\ttotal: 5.14s\tremaining: 2s\n",
      "72:\tlearn: 0.8992255\ttest: 0.8969072\tbest: 0.8969072 (72)\ttotal: 5.21s\tremaining: 1.93s\n",
      "73:\tlearn: 0.9010185\ttest: 0.8979592\tbest: 0.8979592 (73)\ttotal: 5.27s\tremaining: 1.85s\n",
      "74:\tlearn: 0.9011579\ttest: 0.8973132\tbest: 0.8979592 (73)\ttotal: 5.34s\tremaining: 1.78s\n",
      "75:\tlearn: 0.9005376\ttest: 0.8969452\tbest: 0.8979592 (73)\ttotal: 5.41s\tremaining: 1.71s\n",
      "76:\tlearn: 0.9016067\ttest: 0.8983643\tbest: 0.8983643 (76)\ttotal: 5.48s\tremaining: 1.64s\n",
      "77:\tlearn: 0.9030586\ttest: 0.8995777\tbest: 0.8995777 (77)\ttotal: 5.55s\tremaining: 1.56s\n",
      "78:\tlearn: 0.9022459\ttest: 0.8984016\tbest: 0.8995777 (77)\ttotal: 5.62s\tremaining: 1.49s\n",
      "79:\tlearn: 0.9029571\ttest: 0.8996514\tbest: 0.8996514 (79)\ttotal: 5.68s\tremaining: 1.42s\n",
      "80:\tlearn: 0.9037394\ttest: 0.8996146\tbest: 0.8996514 (79)\ttotal: 5.75s\tremaining: 1.35s\n",
      "81:\tlearn: 0.9054510\ttest: 0.8997797\tbest: 0.8997797 (81)\ttotal: 5.81s\tremaining: 1.27s\n",
      "82:\tlearn: 0.9056517\ttest: 0.8996514\tbest: 0.8997797 (81)\ttotal: 5.89s\tremaining: 1.21s\n",
      "83:\tlearn: 0.9060477\ttest: 0.8996514\tbest: 0.8997797 (81)\ttotal: 5.96s\tremaining: 1.14s\n",
      "84:\tlearn: 0.9066778\ttest: 0.9002201\tbest: 0.9002201 (84)\ttotal: 6.04s\tremaining: 1.06s\n",
      "85:\tlearn: 0.9077798\ttest: 0.9017235\tbest: 0.9017235 (85)\ttotal: 6.11s\tremaining: 995ms\n",
      "86:\tlearn: 0.9076944\ttest: 0.9023273\tbest: 0.9023273 (86)\ttotal: 6.18s\tremaining: 923ms\n",
      "87:\tlearn: 0.9070887\ttest: 0.9021620\tbest: 0.9023273 (86)\ttotal: 6.24s\tremaining: 851ms\n",
      "88:\tlearn: 0.9084855\ttest: 0.9035682\tbest: 0.9035682 (88)\ttotal: 6.32s\tremaining: 781ms\n",
      "89:\tlearn: 0.9093513\ttest: 0.9040044\tbest: 0.9040044 (89)\ttotal: 6.39s\tremaining: 710ms\n",
      "90:\tlearn: 0.9104505\ttest: 0.9038391\tbest: 0.9040044 (89)\ttotal: 6.45s\tremaining: 638ms\n",
      "91:\tlearn: 0.9108033\ttest: 0.9037688\tbest: 0.9040044 (89)\ttotal: 6.52s\tremaining: 567ms\n",
      "92:\tlearn: 0.9108947\ttest: 0.9043001\tbest: 0.9043001 (92)\ttotal: 6.59s\tremaining: 496ms\n",
      "93:\tlearn: 0.9122516\ttest: 0.9055017\tbest: 0.9055017 (93)\ttotal: 6.66s\tremaining: 425ms\n",
      "94:\tlearn: 0.9114905\ttest: 0.9048316\tbest: 0.9055017 (93)\ttotal: 6.72s\tremaining: 354ms\n",
      "95:\tlearn: 0.9116073\ttest: 0.9038638\tbest: 0.9055017 (93)\ttotal: 6.79s\tremaining: 283ms\n",
      "96:\tlearn: 0.9129633\ttest: 0.9066326\tbest: 0.9066326 (96)\ttotal: 6.86s\tremaining: 212ms\n",
      "97:\tlearn: 0.9134004\ttest: 0.9062329\tbest: 0.9066326 (96)\ttotal: 6.92s\tremaining: 141ms\n",
      "98:\tlearn: 0.9135085\ttest: 0.9068663\tbest: 0.9068663 (98)\ttotal: 7s\tremaining: 70.7ms\n",
      "99:\tlearn: 0.9142094\ttest: 0.9082619\tbest: 0.9082619 (99)\ttotal: 7.07s\tremaining: 0us\n",
      "\n",
      "bestTest = 0.9082619004\n",
      "bestIteration = 99\n",
      "\n",
      "1:\tloss: 0.9082619\tbest: 0.9082619 (1)\ttotal: 15.5s\tremaining: 46.5s\n",
      "0:\tlearn: 0.7644410\ttest: 0.7548375\tbest: 0.7548375 (0)\ttotal: 80.6ms\tremaining: 7.98s\n",
      "1:\tlearn: 0.7769647\ttest: 0.7783399\tbest: 0.7783399 (1)\ttotal: 155ms\tremaining: 7.57s\n",
      "2:\tlearn: 0.7905267\ttest: 0.7917448\tbest: 0.7917448 (2)\ttotal: 226ms\tremaining: 7.31s\n",
      "3:\tlearn: 0.7951359\ttest: 0.8007477\tbest: 0.8007477 (3)\ttotal: 297ms\tremaining: 7.12s\n",
      "4:\tlearn: 0.7985221\ttest: 0.7981894\tbest: 0.8007477 (3)\ttotal: 372ms\tremaining: 7.07s\n",
      "5:\tlearn: 0.8031685\ttest: 0.8066817\tbest: 0.8066817 (5)\ttotal: 452ms\tremaining: 7.08s\n",
      "6:\tlearn: 0.8015945\ttest: 0.8075188\tbest: 0.8075188 (6)\ttotal: 527ms\tremaining: 7s\n",
      "7:\tlearn: 0.8020353\ttest: 0.8037700\tbest: 0.8075188 (6)\ttotal: 601ms\tremaining: 6.91s\n",
      "8:\tlearn: 0.8077622\ttest: 0.8117139\tbest: 0.8117139 (8)\ttotal: 679ms\tremaining: 6.87s\n",
      "9:\tlearn: 0.8069823\ttest: 0.8132033\tbest: 0.8132033 (9)\ttotal: 755ms\tremaining: 6.8s\n",
      "10:\tlearn: 0.8098756\ttest: 0.8152154\tbest: 0.8152154 (10)\ttotal: 827ms\tremaining: 6.69s\n",
      "11:\tlearn: 0.8110116\ttest: 0.8163341\tbest: 0.8163341 (11)\ttotal: 901ms\tremaining: 6.61s\n",
      "12:\tlearn: 0.8146533\ttest: 0.8208457\tbest: 0.8208457 (12)\ttotal: 985ms\tremaining: 6.59s\n",
      "13:\tlearn: 0.8153591\ttest: 0.8225028\tbest: 0.8225028 (13)\ttotal: 1.05s\tremaining: 6.49s\n",
      "14:\tlearn: 0.8237125\ttest: 0.8298187\tbest: 0.8298187 (14)\ttotal: 1.13s\tremaining: 6.42s\n",
      "15:\tlearn: 0.8274499\ttest: 0.8342857\tbest: 0.8342857 (15)\ttotal: 1.21s\tremaining: 6.36s\n",
      "16:\tlearn: 0.8279201\ttest: 0.8342226\tbest: 0.8342857 (15)\ttotal: 1.28s\tremaining: 6.27s\n",
      "17:\tlearn: 0.8294544\ttest: 0.8354244\tbest: 0.8354244 (17)\ttotal: 1.36s\tremaining: 6.2s\n",
      "18:\tlearn: 0.8312800\ttest: 0.8376384\tbest: 0.8376384 (18)\ttotal: 1.44s\tremaining: 6.13s\n",
      "19:\tlearn: 0.8347084\ttest: 0.8398014\tbest: 0.8398014 (19)\ttotal: 1.51s\tremaining: 6.04s\n",
      "20:\tlearn: 0.8375205\ttest: 0.8417173\tbest: 0.8417173 (20)\ttotal: 1.59s\tremaining: 5.98s\n",
      "21:\tlearn: 0.8372899\ttest: 0.8437558\tbest: 0.8437558 (21)\ttotal: 1.66s\tremaining: 5.89s\n",
      "22:\tlearn: 0.8374033\ttest: 0.8424153\tbest: 0.8437558 (21)\ttotal: 1.73s\tremaining: 5.79s\n",
      "23:\tlearn: 0.8396654\ttest: 0.8449669\tbest: 0.8449669 (23)\ttotal: 1.8s\tremaining: 5.71s\n",
      "24:\tlearn: 0.8378606\ttest: 0.8433069\tbest: 0.8449669 (23)\ttotal: 1.88s\tremaining: 5.63s\n",
      "25:\tlearn: 0.8394356\ttest: 0.8434046\tbest: 0.8449669 (23)\ttotal: 1.95s\tremaining: 5.55s\n",
      "26:\tlearn: 0.8410996\ttest: 0.8447959\tbest: 0.8449669 (23)\ttotal: 2.04s\tremaining: 5.5s\n",
      "27:\tlearn: 0.8415040\ttest: 0.8446083\tbest: 0.8449669 (23)\ttotal: 2.11s\tremaining: 5.42s\n",
      "28:\tlearn: 0.8411092\ttest: 0.8449770\tbest: 0.8449770 (28)\ttotal: 2.18s\tremaining: 5.33s\n",
      "29:\tlearn: 0.8422234\ttest: 0.8455733\tbest: 0.8455733 (29)\ttotal: 2.26s\tremaining: 5.27s\n",
      "30:\tlearn: 0.8428585\ttest: 0.8467341\tbest: 0.8467341 (30)\ttotal: 2.33s\tremaining: 5.19s\n",
      "31:\tlearn: 0.8446625\ttest: 0.8484737\tbest: 0.8484737 (31)\ttotal: 2.4s\tremaining: 5.11s\n",
      "32:\tlearn: 0.8455824\ttest: 0.8496876\tbest: 0.8496876 (32)\ttotal: 2.48s\tremaining: 5.03s\n",
      "33:\tlearn: 0.8467535\ttest: 0.8495315\tbest: 0.8496876 (32)\ttotal: 2.55s\tremaining: 4.95s\n",
      "34:\tlearn: 0.8473201\ttest: 0.8518994\tbest: 0.8518994 (34)\ttotal: 2.62s\tremaining: 4.86s\n",
      "35:\tlearn: 0.8476284\ttest: 0.8517837\tbest: 0.8518994 (34)\ttotal: 2.69s\tremaining: 4.79s\n",
      "36:\tlearn: 0.8494644\ttest: 0.8531084\tbest: 0.8531084 (36)\ttotal: 2.76s\tremaining: 4.71s\n",
      "37:\tlearn: 0.8487281\ttest: 0.8517362\tbest: 0.8531084 (36)\ttotal: 2.84s\tremaining: 4.63s\n",
      "38:\tlearn: 0.8498787\ttest: 0.8521101\tbest: 0.8531084 (36)\ttotal: 2.91s\tremaining: 4.55s\n",
      "39:\tlearn: 0.8513614\ttest: 0.8542087\tbest: 0.8542087 (39)\ttotal: 2.99s\tremaining: 4.49s\n",
      "40:\tlearn: 0.8507741\ttest: 0.8558310\tbest: 0.8558310 (40)\ttotal: 3.07s\tremaining: 4.42s\n",
      "41:\tlearn: 0.8533656\ttest: 0.8571953\tbest: 0.8571953 (41)\ttotal: 3.15s\tremaining: 4.35s\n",
      "42:\tlearn: 0.8541754\ttest: 0.8569853\tbest: 0.8571953 (41)\ttotal: 3.22s\tremaining: 4.27s\n",
      "43:\tlearn: 0.8543228\ttest: 0.8577206\tbest: 0.8577206 (43)\ttotal: 3.29s\tremaining: 4.19s\n",
      "44:\tlearn: 0.8537199\ttest: 0.8562477\tbest: 0.8577206 (43)\ttotal: 3.37s\tremaining: 4.12s\n",
      "45:\tlearn: 0.8543364\ttest: 0.8582996\tbest: 0.8582996 (45)\ttotal: 3.44s\tremaining: 4.03s\n",
      "46:\tlearn: 0.8543074\ttest: 0.8565642\tbest: 0.8582996 (45)\ttotal: 3.5s\tremaining: 3.95s\n",
      "47:\tlearn: 0.8568374\ttest: 0.8602941\tbest: 0.8602941 (47)\ttotal: 3.58s\tremaining: 3.88s\n",
      "48:\tlearn: 0.8555468\ttest: 0.8586676\tbest: 0.8602941 (47)\ttotal: 3.65s\tremaining: 3.8s\n",
      "49:\tlearn: 0.8573687\ttest: 0.8597684\tbest: 0.8602941 (47)\ttotal: 3.72s\tremaining: 3.72s\n",
      "50:\tlearn: 0.8585920\ttest: 0.8592429\tbest: 0.8602941 (47)\ttotal: 3.79s\tremaining: 3.64s\n",
      "51:\tlearn: 0.8591497\ttest: 0.8592974\tbest: 0.8602941 (47)\ttotal: 3.86s\tremaining: 3.56s\n",
      "52:\tlearn: 0.8597853\ttest: 0.8607130\tbest: 0.8607130 (52)\ttotal: 3.93s\tremaining: 3.49s\n",
      "53:\tlearn: 0.8611795\ttest: 0.8601874\tbest: 0.8607130 (52)\ttotal: 4.02s\tremaining: 3.42s\n",
      "54:\tlearn: 0.8613397\ttest: 0.8605036\tbest: 0.8607130 (52)\ttotal: 4.09s\tremaining: 3.35s\n",
      "55:\tlearn: 0.8612365\ttest: 0.8610294\tbest: 0.8610294 (55)\ttotal: 4.16s\tremaining: 3.27s\n",
      "56:\tlearn: 0.8601610\ttest: 0.8615554\tbest: 0.8615554 (56)\ttotal: 4.24s\tremaining: 3.2s\n",
      "57:\tlearn: 0.8614926\ttest: 0.8612440\tbest: 0.8615554 (56)\ttotal: 4.32s\tremaining: 3.13s\n",
      "58:\tlearn: 0.8618219\ttest: 0.8620816\tbest: 0.8620816 (58)\ttotal: 4.39s\tremaining: 3.05s\n",
      "59:\tlearn: 0.8620625\ttest: 0.8630339\tbest: 0.8630339 (59)\ttotal: 4.46s\tremaining: 2.98s\n",
      "60:\tlearn: 0.8621348\ttest: 0.8626728\tbest: 0.8630339 (59)\ttotal: 4.54s\tremaining: 2.9s\n",
      "61:\tlearn: 0.8618939\ttest: 0.8636615\tbest: 0.8636615 (61)\ttotal: 4.61s\tremaining: 2.82s\n",
      "62:\tlearn: 0.8636321\ttest: 0.8661765\tbest: 0.8661765 (62)\ttotal: 4.68s\tremaining: 2.75s\n",
      "63:\tlearn: 0.8641401\ttest: 0.8657595\tbest: 0.8661765 (62)\ttotal: 4.76s\tremaining: 2.68s\n",
      "64:\tlearn: 0.8647064\ttest: 0.8659680\tbest: 0.8661765 (62)\ttotal: 4.83s\tremaining: 2.6s\n",
      "65:\tlearn: 0.8652852\ttest: 0.8670223\tbest: 0.8670223 (65)\ttotal: 4.9s\tremaining: 2.52s\n",
      "66:\tlearn: 0.8646382\ttest: 0.8666544\tbest: 0.8670223 (65)\ttotal: 4.97s\tremaining: 2.45s\n",
      "67:\tlearn: 0.8648070\ttest: 0.8668138\tbest: 0.8670223 (65)\ttotal: 5.05s\tremaining: 2.38s\n",
      "68:\tlearn: 0.8642677\ttest: 0.8669733\tbest: 0.8670223 (65)\ttotal: 5.12s\tremaining: 2.3s\n",
      "69:\tlearn: 0.8647742\ttest: 0.8670712\tbest: 0.8670712 (69)\ttotal: 5.2s\tremaining: 2.23s\n",
      "70:\tlearn: 0.8655020\ttest: 0.8666175\tbest: 0.8670712 (69)\ttotal: 5.26s\tremaining: 2.15s\n",
      "71:\tlearn: 0.8650413\ttest: 0.8661504\tbest: 0.8670712 (69)\ttotal: 5.33s\tremaining: 2.07s\n",
      "72:\tlearn: 0.8664586\ttest: 0.8671947\tbest: 0.8671947 (72)\ttotal: 5.41s\tremaining: 2s\n",
      "73:\tlearn: 0.8672006\ttest: 0.8676606\tbest: 0.8676606 (73)\ttotal: 5.48s\tremaining: 1.93s\n",
      "74:\tlearn: 0.8665704\ttest: 0.8664087\tbest: 0.8676606 (73)\ttotal: 5.55s\tremaining: 1.85s\n",
      "75:\tlearn: 0.8673655\ttest: 0.8671458\tbest: 0.8676606 (73)\ttotal: 5.62s\tremaining: 1.77s\n",
      "76:\tlearn: 0.8678279\ttest: 0.8687166\tbest: 0.8687166 (76)\ttotal: 5.7s\tremaining: 1.7s\n",
      "77:\tlearn: 0.8682936\ttest: 0.8692931\tbest: 0.8692931 (77)\ttotal: 5.77s\tremaining: 1.63s\n",
      "78:\tlearn: 0.8690471\ttest: 0.8689097\tbest: 0.8692931 (77)\ttotal: 5.85s\tremaining: 1.55s\n",
      "79:\tlearn: 0.8691441\ttest: 0.8696452\tbest: 0.8696452 (79)\ttotal: 5.91s\tremaining: 1.48s\n",
      "80:\tlearn: 0.8689495\ttest: 0.8695972\tbest: 0.8696452 (79)\ttotal: 5.99s\tremaining: 1.4s\n",
      "81:\tlearn: 0.8693992\ttest: 0.8700773\tbest: 0.8700773 (81)\ttotal: 6.07s\tremaining: 1.33s\n",
      "82:\tlearn: 0.8695895\ttest: 0.8710866\tbest: 0.8710866 (82)\ttotal: 6.14s\tremaining: 1.26s\n",
      "83:\tlearn: 0.8702582\ttest: 0.8723051\tbest: 0.8723051 (83)\ttotal: 6.21s\tremaining: 1.18s\n",
      "84:\tlearn: 0.8702340\ttest: 0.8727206\tbest: 0.8727206 (84)\ttotal: 6.29s\tremaining: 1.11s\n",
      "85:\tlearn: 0.8712502\ttest: 0.8733898\tbest: 0.8733898 (85)\ttotal: 6.37s\tremaining: 1.04s\n",
      "86:\tlearn: 0.8705542\ttest: 0.8725798\tbest: 0.8733898 (85)\ttotal: 6.43s\tremaining: 962ms\n",
      "87:\tlearn: 0.8712456\ttest: 0.8726068\tbest: 0.8733898 (85)\ttotal: 6.51s\tremaining: 888ms\n",
      "88:\tlearn: 0.8714199\ttest: 0.8728814\tbest: 0.8733898 (85)\ttotal: 6.58s\tremaining: 814ms\n",
      "89:\tlearn: 0.8721889\ttest: 0.8732291\tbest: 0.8733898 (85)\ttotal: 6.65s\tremaining: 739ms\n",
      "90:\tlearn: 0.8723632\ttest: 0.8733432\tbest: 0.8733898 (85)\ttotal: 6.72s\tremaining: 665ms\n",
      "91:\tlearn: 0.8725664\ttest: 0.8739867\tbest: 0.8739867 (91)\ttotal: 6.79s\tremaining: 591ms\n",
      "92:\tlearn: 0.8721987\ttest: 0.8733432\tbest: 0.8739867 (91)\ttotal: 6.85s\tremaining: 516ms\n",
      "93:\tlearn: 0.8719955\ttest: 0.8736648\tbest: 0.8739867 (91)\ttotal: 6.92s\tremaining: 442ms\n",
      "94:\tlearn: 0.8719549\ttest: 0.8739867\tbest: 0.8739867 (91)\ttotal: 7s\tremaining: 368ms\n",
      "95:\tlearn: 0.8726426\ttest: 0.8749770\tbest: 0.8749770 (95)\ttotal: 7.08s\tremaining: 295ms\n",
      "96:\tlearn: 0.8715177\ttest: 0.8742625\tbest: 0.8749770 (95)\ttotal: 7.15s\tremaining: 221ms\n",
      "97:\tlearn: 0.8715631\ttest: 0.8750461\tbest: 0.8750461 (97)\ttotal: 7.22s\tremaining: 147ms\n",
      "98:\tlearn: 0.8724088\ttest: 0.8752534\tbest: 0.8752534 (98)\ttotal: 7.29s\tremaining: 73.6ms\n",
      "99:\tlearn: 0.8728865\ttest: 0.8761062\tbest: 0.8761062 (99)\ttotal: 7.37s\tremaining: 0us\n",
      "\n",
      "bestTest = 0.8761061947\n",
      "bestIteration = 99\n",
      "\n",
      "2:\tloss: 0.8761062\tbest: 0.9082619 (1)\ttotal: 22.9s\tremaining: 38.1s\n",
      "0:\tlearn: 0.7644410\ttest: 0.7548375\tbest: 0.7548375 (0)\ttotal: 81.1ms\tremaining: 8.03s\n",
      "1:\tlearn: 0.7894862\ttest: 0.7937278\tbest: 0.7937278 (1)\ttotal: 154ms\tremaining: 7.53s\n",
      "2:\tlearn: 0.7977852\ttest: 0.8042876\tbest: 0.8042876 (2)\ttotal: 232ms\tremaining: 7.51s\n",
      "3:\tlearn: 0.8030855\ttest: 0.8091631\tbest: 0.8091631 (3)\ttotal: 307ms\tremaining: 7.36s\n",
      "4:\tlearn: 0.8084624\ttest: 0.8136600\tbest: 0.8136600 (4)\ttotal: 376ms\tremaining: 7.14s\n",
      "5:\tlearn: 0.8216706\ttest: 0.8264463\tbest: 0.8264463 (5)\ttotal: 451ms\tremaining: 7.07s\n",
      "6:\tlearn: 0.8327878\ttest: 0.8346486\tbest: 0.8346486 (6)\ttotal: 526ms\tremaining: 6.99s\n",
      "7:\tlearn: 0.8389506\ttest: 0.8386268\tbest: 0.8386268 (7)\ttotal: 594ms\tremaining: 6.83s\n",
      "8:\tlearn: 0.8447089\ttest: 0.8441677\tbest: 0.8441677 (8)\ttotal: 680ms\tremaining: 6.88s\n",
      "9:\tlearn: 0.8415791\ttest: 0.8436752\tbest: 0.8441677 (8)\ttotal: 757ms\tremaining: 6.82s\n",
      "10:\tlearn: 0.8429528\ttest: 0.8431336\tbest: 0.8441677 (8)\ttotal: 830ms\tremaining: 6.71s\n",
      "11:\tlearn: 0.8461861\ttest: 0.8489631\tbest: 0.8489631 (11)\ttotal: 908ms\tremaining: 6.66s\n",
      "12:\tlearn: 0.8484368\ttest: 0.8518586\tbest: 0.8518586 (12)\ttotal: 984ms\tremaining: 6.58s\n",
      "13:\tlearn: 0.8523493\ttest: 0.8525969\tbest: 0.8525969 (13)\ttotal: 1.06s\tremaining: 6.49s\n",
      "14:\tlearn: 0.8534587\ttest: 0.8546320\tbest: 0.8546320 (14)\ttotal: 1.13s\tremaining: 6.38s\n",
      "15:\tlearn: 0.8561997\ttest: 0.8580326\tbest: 0.8580326 (15)\ttotal: 1.2s\tremaining: 6.29s\n",
      "16:\tlearn: 0.8568371\ttest: 0.8583471\tbest: 0.8583471 (16)\ttotal: 1.27s\tremaining: 6.18s\n",
      "17:\tlearn: 0.8575150\ttest: 0.8577206\tbest: 0.8583471 (16)\ttotal: 1.33s\tremaining: 6.08s\n",
      "18:\tlearn: 0.8596973\ttest: 0.8599779\tbest: 0.8599779 (18)\ttotal: 1.41s\tremaining: 5.99s\n",
      "19:\tlearn: 0.8606794\ttest: 0.8625575\tbest: 0.8625575 (19)\ttotal: 1.48s\tremaining: 5.91s\n",
      "20:\tlearn: 0.8639554\ttest: 0.8657866\tbest: 0.8657866 (20)\ttotal: 1.55s\tremaining: 5.85s\n",
      "21:\tlearn: 0.8665242\ttest: 0.8678761\tbest: 0.8678761 (21)\ttotal: 1.63s\tremaining: 5.76s\n",
      "22:\tlearn: 0.8671686\ttest: 0.8694856\tbest: 0.8694856 (22)\ttotal: 1.71s\tremaining: 5.71s\n",
      "23:\tlearn: 0.8685226\ttest: 0.8705537\tbest: 0.8705537 (23)\ttotal: 1.78s\tremaining: 5.65s\n",
      "24:\tlearn: 0.8693066\ttest: 0.8703466\tbest: 0.8705537 (23)\ttotal: 1.85s\tremaining: 5.56s\n",
      "25:\tlearn: 0.8689912\ttest: 0.8717383\tbest: 0.8717383 (25)\ttotal: 1.92s\tremaining: 5.47s\n",
      "26:\tlearn: 0.8696502\ttest: 0.8724931\tbest: 0.8724931 (26)\ttotal: 2s\tremaining: 5.4s\n",
      "27:\tlearn: 0.8718855\ttest: 0.8718704\tbest: 0.8724931 (26)\ttotal: 2.06s\tremaining: 5.31s\n",
      "28:\tlearn: 0.8719810\ttest: 0.8737364\tbest: 0.8737364 (28)\ttotal: 2.14s\tremaining: 5.23s\n",
      "29:\tlearn: 0.8730233\ttest: 0.8739650\tbest: 0.8739650 (29)\ttotal: 2.21s\tremaining: 5.15s\n",
      "30:\tlearn: 0.8735825\ttest: 0.8748159\tbest: 0.8748159 (30)\ttotal: 2.28s\tremaining: 5.07s\n",
      "31:\tlearn: 0.8751508\ttest: 0.8755286\tbest: 0.8755286 (31)\ttotal: 2.35s\tremaining: 4.98s\n",
      "32:\tlearn: 0.8754356\ttest: 0.8761730\tbest: 0.8761730 (32)\ttotal: 2.42s\tremaining: 4.91s\n",
      "33:\tlearn: 0.8772972\ttest: 0.8784429\tbest: 0.8784429 (33)\ttotal: 2.49s\tremaining: 4.83s\n",
      "34:\tlearn: 0.8792575\ttest: 0.8803231\tbest: 0.8803231 (34)\ttotal: 2.56s\tremaining: 4.76s\n",
      "35:\tlearn: 0.8807305\ttest: 0.8808956\tbest: 0.8808956 (35)\ttotal: 2.63s\tremaining: 4.68s\n",
      "36:\tlearn: 0.8813685\ttest: 0.8812626\tbest: 0.8812626 (36)\ttotal: 2.71s\tremaining: 4.61s\n",
      "37:\tlearn: 0.8807271\ttest: 0.8802791\tbest: 0.8812626 (36)\ttotal: 2.78s\tremaining: 4.54s\n",
      "38:\tlearn: 0.8819109\ttest: 0.8815427\tbest: 0.8815427 (38)\ttotal: 2.86s\tremaining: 4.47s\n",
      "39:\tlearn: 0.8823993\ttest: 0.8818349\tbest: 0.8818349 (39)\ttotal: 2.94s\tremaining: 4.4s\n",
      "40:\tlearn: 0.8828553\ttest: 0.8815114\tbest: 0.8818349 (39)\ttotal: 3s\tremaining: 4.32s\n",
      "41:\tlearn: 0.8834532\ttest: 0.8822018\tbest: 0.8822018 (41)\ttotal: 3.08s\tremaining: 4.25s\n",
      "42:\tlearn: 0.8846653\ttest: 0.8821697\tbest: 0.8822018 (41)\ttotal: 3.15s\tremaining: 4.17s\n",
      "43:\tlearn: 0.8834208\ttest: 0.8820287\tbest: 0.8822018 (41)\ttotal: 3.21s\tremaining: 4.09s\n",
      "44:\tlearn: 0.8839348\ttest: 0.8838662\tbest: 0.8838662 (44)\ttotal: 3.28s\tremaining: 4s\n",
      "45:\tlearn: 0.8841274\ttest: 0.8844037\tbest: 0.8844037 (45)\ttotal: 3.35s\tremaining: 3.94s\n",
      "46:\tlearn: 0.8870316\ttest: 0.8865261\tbest: 0.8865261 (46)\ttotal: 3.42s\tremaining: 3.85s\n",
      "47:\tlearn: 0.8864196\ttest: 0.8869310\tbest: 0.8869310 (47)\ttotal: 3.49s\tremaining: 3.78s\n",
      "48:\tlearn: 0.8879186\ttest: 0.8889703\tbest: 0.8889703 (48)\ttotal: 3.56s\tremaining: 3.7s\n",
      "49:\tlearn: 0.8883935\ttest: 0.8899890\tbest: 0.8899890 (49)\ttotal: 3.63s\tremaining: 3.63s\n",
      "50:\tlearn: 0.8887136\ttest: 0.8907625\tbest: 0.8907625 (50)\ttotal: 3.7s\tremaining: 3.56s\n",
      "51:\tlearn: 0.8892293\ttest: 0.8900293\tbest: 0.8907625 (50)\ttotal: 3.78s\tremaining: 3.49s\n",
      "52:\tlearn: 0.8886204\ttest: 0.8884813\tbest: 0.8907625 (50)\ttotal: 3.85s\tremaining: 3.41s\n",
      "53:\tlearn: 0.8900747\ttest: 0.8903557\tbest: 0.8907625 (50)\ttotal: 3.92s\tremaining: 3.34s\n",
      "54:\tlearn: 0.8910625\ttest: 0.8923077\tbest: 0.8923077 (54)\ttotal: 3.99s\tremaining: 3.27s\n",
      "55:\tlearn: 0.8924148\ttest: 0.8932893\tbest: 0.8932893 (55)\ttotal: 4.06s\tremaining: 3.19s\n",
      "56:\tlearn: 0.8916512\ttest: 0.8930864\tbest: 0.8932893 (55)\ttotal: 4.13s\tremaining: 3.11s\n",
      "57:\tlearn: 0.8935046\ttest: 0.8930795\tbest: 0.8932893 (55)\ttotal: 4.2s\tremaining: 3.04s\n",
      "58:\tlearn: 0.8936683\ttest: 0.8940143\tbest: 0.8940143 (58)\ttotal: 4.27s\tremaining: 2.97s\n",
      "59:\tlearn: 0.8940533\ttest: 0.8941867\tbest: 0.8941867 (59)\ttotal: 4.34s\tremaining: 2.89s\n",
      "60:\tlearn: 0.8944341\ttest: 0.8945921\tbest: 0.8945921 (60)\ttotal: 4.41s\tremaining: 2.82s\n",
      "61:\tlearn: 0.8950517\ttest: 0.8959707\tbest: 0.8959707 (61)\ttotal: 4.48s\tremaining: 2.74s\n",
      "62:\tlearn: 0.8953812\ttest: 0.8951613\tbest: 0.8959707 (61)\ttotal: 4.55s\tremaining: 2.67s\n",
      "63:\tlearn: 0.8961936\ttest: 0.8959326\tbest: 0.8959707 (61)\ttotal: 4.62s\tremaining: 2.6s\n",
      "64:\tlearn: 0.8972673\ttest: 0.8959326\tbest: 0.8959707 (61)\ttotal: 4.7s\tremaining: 2.53s\n",
      "65:\tlearn: 0.8976662\ttest: 0.8964253\tbest: 0.8964253 (65)\ttotal: 4.77s\tremaining: 2.46s\n",
      "66:\tlearn: 0.8975072\ttest: 0.8966276\tbest: 0.8966276 (66)\ttotal: 4.84s\tremaining: 2.39s\n",
      "67:\tlearn: 0.8989305\ttest: 0.8978022\tbest: 0.8978022 (67)\ttotal: 4.91s\tremaining: 2.31s\n",
      "68:\tlearn: 0.8998936\ttest: 0.8978022\tbest: 0.8978022 (67)\ttotal: 4.98s\tremaining: 2.24s\n",
      "69:\tlearn: 0.8997270\ttest: 0.8981312\tbest: 0.8981312 (69)\ttotal: 5.05s\tremaining: 2.17s\n",
      "70:\tlearn: 0.8998472\ttest: 0.8973983\tbest: 0.8981312 (69)\ttotal: 5.12s\tremaining: 2.09s\n",
      "71:\tlearn: 0.9003611\ttest: 0.8984232\tbest: 0.8984232 (71)\ttotal: 5.19s\tremaining: 2.02s\n",
      "72:\tlearn: 0.9009443\ttest: 0.8978544\tbest: 0.8984232 (71)\ttotal: 5.26s\tremaining: 1.95s\n",
      "73:\tlearn: 0.9008058\ttest: 0.8976522\tbest: 0.8984232 (71)\ttotal: 5.33s\tremaining: 1.87s\n",
      "74:\tlearn: 0.9019844\ttest: 0.9002014\tbest: 0.9002014 (74)\ttotal: 5.39s\tremaining: 1.8s\n",
      "75:\tlearn: 0.9009351\ttest: 0.8983859\tbest: 0.9002014 (74)\ttotal: 5.46s\tremaining: 1.73s\n",
      "76:\tlearn: 0.9019372\ttest: 0.9000550\tbest: 0.9002014 (74)\ttotal: 5.54s\tremaining: 1.65s\n",
      "77:\tlearn: 0.9020352\ttest: 0.8990826\tbest: 0.9002014 (74)\ttotal: 5.61s\tremaining: 1.58s\n",
      "78:\tlearn: 0.9027007\ttest: 0.9002567\tbest: 0.9002567 (78)\ttotal: 5.68s\tremaining: 1.51s\n",
      "79:\tlearn: 0.9034853\ttest: 0.9015373\tbest: 0.9015373 (79)\ttotal: 5.76s\tremaining: 1.44s\n",
      "80:\tlearn: 0.9025665\ttest: 0.8999634\tbest: 0.9015373 (79)\ttotal: 5.83s\tremaining: 1.37s\n",
      "81:\tlearn: 0.9023871\ttest: 0.9013363\tbest: 0.9015373 (79)\ttotal: 5.89s\tremaining: 1.29s\n",
      "82:\tlearn: 0.9029813\ttest: 0.8992305\tbest: 0.9015373 (79)\ttotal: 5.96s\tremaining: 1.22s\n",
      "83:\tlearn: 0.9037866\ttest: 0.8991027\tbest: 0.9015373 (79)\ttotal: 6.03s\tremaining: 1.15s\n",
      "84:\tlearn: 0.9041894\ttest: 0.9002380\tbest: 0.9015373 (79)\ttotal: 6.09s\tremaining: 1.07s\n",
      "85:\tlearn: 0.9038942\ttest: 0.9004948\tbest: 0.9015373 (79)\ttotal: 6.16s\tremaining: 1s\n",
      "86:\tlearn: 0.9044515\ttest: 0.9030015\tbest: 0.9030015 (86)\ttotal: 6.24s\tremaining: 932ms\n",
      "87:\tlearn: 0.9048280\ttest: 0.9034975\tbest: 0.9034975 (87)\ttotal: 6.31s\tremaining: 860ms\n",
      "88:\tlearn: 0.9062081\ttest: 0.9040644\tbest: 0.9040644 (88)\ttotal: 6.37s\tremaining: 788ms\n",
      "89:\tlearn: 0.9070670\ttest: 0.9042048\tbest: 0.9042048 (89)\ttotal: 6.44s\tremaining: 716ms\n",
      "90:\tlearn: 0.9071936\ttest: 0.9051015\tbest: 0.9051015 (90)\ttotal: 6.51s\tremaining: 644ms\n",
      "91:\tlearn: 0.9072517\ttest: 0.9046312\tbest: 0.9051015 (90)\ttotal: 6.58s\tremaining: 572ms\n",
      "92:\tlearn: 0.9084949\ttest: 0.9053980\tbest: 0.9053980 (92)\ttotal: 6.65s\tremaining: 501ms\n",
      "93:\tlearn: 0.9092252\ttest: 0.9059641\tbest: 0.9059641 (93)\ttotal: 6.73s\tremaining: 429ms\n",
      "94:\tlearn: 0.9099631\ttest: 0.9058329\tbest: 0.9059641 (93)\ttotal: 6.79s\tremaining: 357ms\n",
      "95:\tlearn: 0.9113784\ttest: 0.9076276\tbest: 0.9076276 (95)\ttotal: 6.86s\tremaining: 286ms\n",
      "96:\tlearn: 0.9118555\ttest: 0.9071298\tbest: 0.9076276 (95)\ttotal: 6.92s\tremaining: 214ms\n",
      "97:\tlearn: 0.9134540\ttest: 0.9088584\tbest: 0.9088584 (97)\ttotal: 6.99s\tremaining: 143ms\n",
      "98:\tlearn: 0.9135802\ttest: 0.9091906\tbest: 0.9091906 (98)\ttotal: 7.05s\tremaining: 71.2ms\n",
      "99:\tlearn: 0.9140251\ttest: 0.9085923\tbest: 0.9091906 (98)\ttotal: 7.12s\tremaining: 0us\n",
      "\n",
      "bestTest = 0.9091905719\n",
      "bestIteration = 98\n",
      "\n",
      "3:\tloss: 0.9091906\tbest: 0.9091906 (3)\ttotal: 30s\tremaining: 30s\n",
      "0:\tlearn: 0.8401583\ttest: 0.8196422\tbest: 0.8196422 (0)\ttotal: 2.77s\tremaining: 4m 34s\n",
      "1:\tlearn: 0.8703602\ttest: 0.8545093\tbest: 0.8545093 (1)\ttotal: 5.48s\tremaining: 4m 28s\n",
      "2:\tlearn: 0.8892925\ttest: 0.8779070\tbest: 0.8779070 (2)\ttotal: 8.21s\tremaining: 4m 25s\n",
      "3:\tlearn: 0.8991150\ttest: 0.8868613\tbest: 0.8868613 (3)\ttotal: 11.1s\tremaining: 4m 25s\n",
      "4:\tlearn: 0.9110967\ttest: 0.8993631\tbest: 0.8993631 (4)\ttotal: 13.9s\tremaining: 4m 23s\n",
      "5:\tlearn: 0.9173776\ttest: 0.9052133\tbest: 0.9052133 (5)\ttotal: 16.6s\tremaining: 4m 20s\n",
      "6:\tlearn: 0.9223216\ttest: 0.9110424\tbest: 0.9110424 (6)\ttotal: 19.4s\tremaining: 4m 17s\n",
      "7:\tlearn: 0.9267146\ttest: 0.9148357\tbest: 0.9148357 (7)\ttotal: 22.1s\tremaining: 4m 14s\n",
      "8:\tlearn: 0.9306273\ttest: 0.9181276\tbest: 0.9181276 (8)\ttotal: 25s\tremaining: 4m 12s\n",
      "9:\tlearn: 0.9357595\ttest: 0.9230215\tbest: 0.9230215 (9)\ttotal: 27.9s\tremaining: 4m 10s\n",
      "10:\tlearn: 0.9365520\ttest: 0.9221037\tbest: 0.9230215 (9)\ttotal: 30.7s\tremaining: 4m 8s\n",
      "11:\tlearn: 0.9380114\ttest: 0.9239681\tbest: 0.9239681 (11)\ttotal: 33.6s\tremaining: 4m 6s\n",
      "12:\tlearn: 0.9404218\ttest: 0.9281708\tbest: 0.9281708 (12)\ttotal: 36.5s\tremaining: 4m 4s\n",
      "13:\tlearn: 0.9428044\ttest: 0.9296182\tbest: 0.9296182 (13)\ttotal: 39.5s\tremaining: 4m 2s\n",
      "14:\tlearn: 0.9458065\ttest: 0.9299548\tbest: 0.9299548 (14)\ttotal: 42.3s\tremaining: 3m 59s\n",
      "15:\tlearn: 0.9479364\ttest: 0.9297356\tbest: 0.9299548 (14)\ttotal: 45.1s\tremaining: 3m 56s\n",
      "16:\tlearn: 0.9488020\ttest: 0.9294395\tbest: 0.9299548 (14)\ttotal: 47.9s\tremaining: 3m 53s\n",
      "17:\tlearn: 0.9500853\ttest: 0.9314027\tbest: 0.9314027 (17)\ttotal: 50.7s\tremaining: 3m 51s\n",
      "18:\tlearn: 0.9502121\ttest: 0.9324398\tbest: 0.9324398 (18)\ttotal: 53.6s\tremaining: 3m 48s\n",
      "19:\tlearn: 0.9521485\ttest: 0.9350696\tbest: 0.9350696 (19)\ttotal: 56.4s\tremaining: 3m 45s\n",
      "20:\tlearn: 0.9541732\ttest: 0.9380083\tbest: 0.9380083 (20)\ttotal: 59.1s\tremaining: 3m 42s\n",
      "21:\tlearn: 0.9551058\ttest: 0.9378613\tbest: 0.9380083 (20)\ttotal: 1m 1s\tremaining: 3m 38s\n",
      "22:\tlearn: 0.9567058\ttest: 0.9388567\tbest: 0.9388567 (22)\ttotal: 1m 4s\tremaining: 3m 35s\n",
      "23:\tlearn: 0.9581207\ttest: 0.9411340\tbest: 0.9411340 (23)\ttotal: 1m 7s\tremaining: 3m 33s\n",
      "24:\tlearn: 0.9597097\ttest: 0.9415584\tbest: 0.9415584 (24)\ttotal: 1m 10s\tremaining: 3m 30s\n",
      "25:\tlearn: 0.9602941\ttest: 0.9419820\tbest: 0.9419820 (25)\ttotal: 1m 12s\tremaining: 3m 27s\n",
      "26:\tlearn: 0.9624765\ttest: 0.9449756\tbest: 0.9449756 (26)\ttotal: 1m 15s\tremaining: 3m 24s\n",
      "27:\tlearn: 0.9646282\ttest: 0.9484870\tbest: 0.9484870 (27)\ttotal: 1m 18s\tremaining: 3m 21s\n",
      "28:\tlearn: 0.9650901\ttest: 0.9493602\tbest: 0.9493602 (28)\ttotal: 1m 21s\tremaining: 3m 18s\n",
      "29:\tlearn: 0.9650266\ttest: 0.9488288\tbest: 0.9493602 (28)\ttotal: 1m 23s\tremaining: 3m 15s\n",
      "30:\tlearn: 0.9658935\ttest: 0.9504772\tbest: 0.9504772 (30)\ttotal: 1m 26s\tremaining: 3m 12s\n",
      "31:\tlearn: 0.9676355\ttest: 0.9525180\tbest: 0.9525180 (31)\ttotal: 1m 29s\tremaining: 3m 10s\n",
      "32:\tlearn: 0.9688661\ttest: 0.9539403\tbest: 0.9539403 (32)\ttotal: 1m 32s\tremaining: 3m 7s\n",
      "33:\tlearn: 0.9691109\ttest: 0.9550683\tbest: 0.9550683 (33)\ttotal: 1m 35s\tremaining: 3m 4s\n",
      "34:\tlearn: 0.9702526\ttest: 0.9558031\tbest: 0.9558031 (34)\ttotal: 1m 37s\tremaining: 3m 1s\n",
      "35:\tlearn: 0.9717504\ttest: 0.9576302\tbest: 0.9576302 (35)\ttotal: 1m 40s\tremaining: 2m 58s\n",
      "36:\tlearn: 0.9720174\ttest: 0.9578021\tbest: 0.9578021 (36)\ttotal: 1m 43s\tremaining: 2m 55s\n",
      "37:\tlearn: 0.9728764\ttest: 0.9578324\tbest: 0.9578324 (37)\ttotal: 1m 45s\tremaining: 2m 52s\n",
      "38:\tlearn: 0.9730695\ttest: 0.9581913\tbest: 0.9581913 (38)\ttotal: 1m 48s\tremaining: 2m 50s\n",
      "39:\tlearn: 0.9730572\ttest: 0.9576454\tbest: 0.9581913 (38)\ttotal: 1m 51s\tremaining: 2m 47s\n",
      "40:\tlearn: 0.9731018\ttest: 0.9578173\tbest: 0.9581913 (38)\ttotal: 1m 54s\tremaining: 2m 44s\n",
      "41:\tlearn: 0.9735925\ttest: 0.9581612\tbest: 0.9581913 (38)\ttotal: 1m 57s\tremaining: 2m 42s\n",
      "42:\tlearn: 0.9751650\ttest: 0.9599569\tbest: 0.9599569 (42)\ttotal: 2m\tremaining: 2m 39s\n",
      "43:\tlearn: 0.9758467\ttest: 0.9603303\tbest: 0.9603303 (43)\ttotal: 2m 3s\tremaining: 2m 36s\n",
      "44:\tlearn: 0.9766760\ttest: 0.9614073\tbest: 0.9614073 (44)\ttotal: 2m 5s\tremaining: 2m 33s\n",
      "45:\tlearn: 0.9766184\ttest: 0.9617388\tbest: 0.9617388 (45)\ttotal: 2m 8s\tremaining: 2m 30s\n",
      "46:\tlearn: 0.9769767\ttest: 0.9622574\tbest: 0.9622574 (46)\ttotal: 2m 11s\tremaining: 2m 27s\n",
      "47:\tlearn: 0.9777044\ttest: 0.9624573\tbest: 0.9624573 (47)\ttotal: 2m 13s\tremaining: 2m 25s\n",
      "48:\tlearn: 0.9785301\ttest: 0.9637343\tbest: 0.9637343 (48)\ttotal: 2m 16s\tremaining: 2m 22s\n",
      "49:\tlearn: 0.9786199\ttest: 0.9635613\tbest: 0.9637343 (48)\ttotal: 2m 19s\tremaining: 2m 19s\n",
      "50:\tlearn: 0.9792603\ttest: 0.9634015\tbest: 0.9637343 (48)\ttotal: 2m 22s\tremaining: 2m 16s\n",
      "51:\tlearn: 0.9793502\ttest: 0.9637473\tbest: 0.9637473 (51)\ttotal: 2m 24s\tremaining: 2m 13s\n",
      "52:\tlearn: 0.9798615\ttest: 0.9650224\tbest: 0.9650224 (52)\ttotal: 2m 27s\tremaining: 2m 10s\n",
      "53:\tlearn: 0.9800413\ttest: 0.9651956\tbest: 0.9651956 (53)\ttotal: 2m 30s\tremaining: 2m 8s\n",
      "54:\tlearn: 0.9808619\ttest: 0.9652080\tbest: 0.9652080 (54)\ttotal: 2m 33s\tremaining: 2m 5s\n",
      "55:\tlearn: 0.9813573\ttest: 0.9652080\tbest: 0.9652080 (54)\ttotal: 2m 36s\tremaining: 2m 3s\n",
      "56:\tlearn: 0.9814925\ttest: 0.9652080\tbest: 0.9652080 (54)\ttotal: 2m 39s\tremaining: 2m\n",
      "57:\tlearn: 0.9815827\ttest: 0.9655544\tbest: 0.9655544 (57)\ttotal: 2m 42s\tremaining: 1m 57s\n",
      "58:\tlearn: 0.9821789\ttest: 0.9655667\tbest: 0.9655667 (58)\ttotal: 2m 45s\tremaining: 1m 54s\n",
      "59:\tlearn: 0.9821338\ttest: 0.9660865\tbest: 0.9660865 (59)\ttotal: 2m 48s\tremaining: 1m 52s\n",
      "60:\tlearn: 0.9825851\ttest: 0.9659132\tbest: 0.9660865 (59)\ttotal: 2m 50s\tremaining: 1m 49s\n",
      "61:\tlearn: 0.9831350\ttest: 0.9661108\tbest: 0.9661108 (61)\ttotal: 2m 53s\tremaining: 1m 46s\n",
      "62:\tlearn: 0.9831350\ttest: 0.9661108\tbest: 0.9661108 (61)\ttotal: 2m 56s\tremaining: 1m 43s\n",
      "63:\tlearn: 0.9835417\ttest: 0.9668042\tbest: 0.9668042 (63)\ttotal: 2m 59s\tremaining: 1m 40s\n",
      "64:\tlearn: 0.9839489\ttest: 0.9674987\tbest: 0.9674987 (64)\ttotal: 3m 2s\tremaining: 1m 38s\n",
      "65:\tlearn: 0.9839036\ttest: 0.9676724\tbest: 0.9676724 (65)\ttotal: 3m 4s\tremaining: 1m 35s\n",
      "66:\tlearn: 0.9844526\ttest: 0.9684022\tbest: 0.9684022 (66)\ttotal: 3m 7s\tremaining: 1m 32s\n",
      "67:\tlearn: 0.9846791\ttest: 0.9684022\tbest: 0.9684022 (66)\ttotal: 3m 10s\tremaining: 1m 29s\n",
      "68:\tlearn: 0.9849963\ttest: 0.9687500\tbest: 0.9687500 (68)\ttotal: 3m 13s\tremaining: 1m 26s\n",
      "69:\tlearn: 0.9852230\ttest: 0.9689240\tbest: 0.9689240 (69)\ttotal: 3m 16s\tremaining: 1m 24s\n",
      "70:\tlearn: 0.9854045\ttest: 0.9684022\tbest: 0.9689240 (69)\ttotal: 3m 18s\tremaining: 1m 21s\n",
      "71:\tlearn: 0.9854045\ttest: 0.9687500\tbest: 0.9689240 (69)\ttotal: 3m 21s\tremaining: 1m 18s\n",
      "72:\tlearn: 0.9856314\ttest: 0.9696207\tbest: 0.9696207 (72)\ttotal: 3m 24s\tremaining: 1m 15s\n",
      "73:\tlearn: 0.9860491\ttest: 0.9712644\tbest: 0.9712644 (73)\ttotal: 3m 27s\tremaining: 1m 12s\n",
      "74:\tlearn: 0.9865033\ttest: 0.9710900\tbest: 0.9712644 (73)\ttotal: 3m 29s\tremaining: 1m 9s\n",
      "75:\tlearn: 0.9868670\ttest: 0.9712644\tbest: 0.9712644 (73)\ttotal: 3m 32s\tremaining: 1m 7s\n",
      "76:\tlearn: 0.9869124\ttest: 0.9712644\tbest: 0.9712644 (73)\ttotal: 3m 35s\tremaining: 1m 4s\n",
      "77:\tlearn: 0.9873254\ttest: 0.9725265\tbest: 0.9725265 (77)\ttotal: 3m 38s\tremaining: 1m 1s\n",
      "78:\tlearn: 0.9874165\ttest: 0.9728759\tbest: 0.9728759 (78)\ttotal: 3m 40s\tremaining: 58.7s\n",
      "79:\tlearn: 0.9876896\ttest: 0.9728759\tbest: 0.9728759 (78)\ttotal: 3m 43s\tremaining: 55.9s\n",
      "80:\tlearn: 0.9879174\ttest: 0.9730507\tbest: 0.9730507 (80)\ttotal: 3m 46s\tremaining: 53.1s\n",
      "81:\tlearn: 0.9880085\ttest: 0.9730507\tbest: 0.9730507 (80)\ttotal: 3m 49s\tremaining: 50.3s\n",
      "82:\tlearn: 0.9880996\ttest: 0.9730507\tbest: 0.9730507 (80)\ttotal: 3m 51s\tremaining: 47.5s\n",
      "83:\tlearn: 0.9884209\ttest: 0.9736228\tbest: 0.9736228 (83)\ttotal: 3m 54s\tremaining: 44.7s\n",
      "84:\tlearn: 0.9885577\ttest: 0.9739724\tbest: 0.9739724 (84)\ttotal: 3m 57s\tremaining: 41.9s\n",
      "85:\tlearn: 0.9885577\ttest: 0.9739724\tbest: 0.9739724 (84)\ttotal: 4m\tremaining: 39.1s\n",
      "86:\tlearn: 0.9889227\ttest: 0.9739724\tbest: 0.9739724 (84)\ttotal: 4m 3s\tremaining: 36.3s\n",
      "87:\tlearn: 0.9890597\ttest: 0.9741472\tbest: 0.9741472 (87)\ttotal: 4m 5s\tremaining: 33.5s\n",
      "88:\tlearn: 0.9893337\ttest: 0.9741472\tbest: 0.9741472 (87)\ttotal: 4m 8s\tremaining: 30.7s\n",
      "89:\tlearn: 0.9895622\ttest: 0.9743221\tbest: 0.9743221 (89)\ttotal: 4m 11s\tremaining: 27.9s\n",
      "90:\tlearn: 0.9896536\ttest: 0.9744971\tbest: 0.9744971 (90)\ttotal: 4m 14s\tremaining: 25.1s\n",
      "91:\tlearn: 0.9899737\ttest: 0.9743221\tbest: 0.9744971 (90)\ttotal: 4m 16s\tremaining: 22.3s\n",
      "92:\tlearn: 0.9902482\ttest: 0.9744971\tbest: 0.9744971 (90)\ttotal: 4m 19s\tremaining: 19.6s\n",
      "93:\tlearn: 0.9902024\ttest: 0.9743221\tbest: 0.9744971 (90)\ttotal: 4m 22s\tremaining: 16.8s\n",
      "94:\tlearn: 0.9903855\ttest: 0.9746722\tbest: 0.9746722 (94)\ttotal: 4m 25s\tremaining: 14s\n",
      "95:\tlearn: 0.9902940\ttest: 0.9746722\tbest: 0.9746722 (94)\ttotal: 4m 28s\tremaining: 11.2s\n",
      "96:\tlearn: 0.9903855\ttest: 0.9748473\tbest: 0.9748473 (96)\ttotal: 4m 30s\tremaining: 8.38s\n",
      "97:\tlearn: 0.9906603\ttest: 0.9750225\tbest: 0.9750225 (97)\ttotal: 4m 33s\tremaining: 5.58s\n",
      "98:\tlearn: 0.9909377\ttest: 0.9757587\tbest: 0.9757587 (98)\ttotal: 4m 36s\tremaining: 2.79s\n",
      "99:\tlearn: 0.9908919\ttest: 0.9759339\tbest: 0.9759339 (99)\ttotal: 4m 39s\tremaining: 0us\n",
      "\n",
      "bestTest = 0.975933908\n",
      "bestIteration = 99\n",
      "\n",
      "4:\tloss: 0.9759339\tbest: 0.9759339 (4)\ttotal: 5m 9s\tremaining: 3m 5s\n",
      "0:\tlearn: 0.8401583\ttest: 0.8196422\tbest: 0.8196422 (0)\ttotal: 2.85s\tremaining: 4m 41s\n",
      "1:\tlearn: 0.8944876\ttest: 0.8812943\tbest: 0.8812943 (1)\ttotal: 5.52s\tremaining: 4m 30s\n",
      "2:\tlearn: 0.9124300\ttest: 0.8983236\tbest: 0.8983236 (2)\ttotal: 8.39s\tremaining: 4m 31s\n",
      "3:\tlearn: 0.9231053\ttest: 0.9091567\tbest: 0.9091567 (3)\ttotal: 11.1s\tremaining: 4m 27s\n",
      "4:\tlearn: 0.9359732\ttest: 0.9172227\tbest: 0.9172227 (4)\ttotal: 13.9s\tremaining: 4m 24s\n",
      "5:\tlearn: 0.9437174\ttest: 0.9271095\tbest: 0.9271095 (5)\ttotal: 16.7s\tremaining: 4m 22s\n",
      "6:\tlearn: 0.9519927\ttest: 0.9334290\tbest: 0.9334290 (6)\ttotal: 19.5s\tremaining: 4m 19s\n",
      "7:\tlearn: 0.9569873\ttest: 0.9377132\tbest: 0.9377132 (7)\ttotal: 22.3s\tremaining: 4m 16s\n",
      "8:\tlearn: 0.9599634\ttest: 0.9422558\tbest: 0.9422558 (8)\ttotal: 25.1s\tremaining: 4m 13s\n",
      "9:\tlearn: 0.9647684\ttest: 0.9472547\tbest: 0.9472547 (9)\ttotal: 27.7s\tremaining: 4m 9s\n",
      "10:\tlearn: 0.9684499\ttest: 0.9539344\tbest: 0.9539344 (10)\ttotal: 30.6s\tremaining: 4m 7s\n",
      "11:\tlearn: 0.9701070\ttest: 0.9550582\tbest: 0.9550582 (11)\ttotal: 33.5s\tremaining: 4m 5s\n",
      "12:\tlearn: 0.9710185\ttest: 0.9571915\tbest: 0.9571915 (12)\ttotal: 36.3s\tremaining: 4m 2s\n",
      "13:\tlearn: 0.9739274\ttest: 0.9595707\tbest: 0.9595707 (13)\ttotal: 39.2s\tremaining: 4m\n",
      "14:\tlearn: 0.9750274\ttest: 0.9601002\tbest: 0.9601002 (14)\ttotal: 42.1s\tremaining: 3m 58s\n",
      "15:\tlearn: 0.9766036\ttest: 0.9612431\tbest: 0.9612431 (15)\ttotal: 44.9s\tremaining: 3m 55s\n",
      "16:\tlearn: 0.9776516\ttest: 0.9625134\tbest: 0.9625134 (16)\ttotal: 47.7s\tremaining: 3m 52s\n",
      "17:\tlearn: 0.9788794\ttest: 0.9641264\tbest: 0.9641264 (17)\ttotal: 50.6s\tremaining: 3m 50s\n",
      "18:\tlearn: 0.9795076\ttest: 0.9646429\tbest: 0.9646429 (18)\ttotal: 53.3s\tremaining: 3m 47s\n",
      "19:\tlearn: 0.9814611\ttest: 0.9667501\tbest: 0.9667501 (19)\ttotal: 56s\tremaining: 3m 43s\n",
      "20:\tlearn: 0.9824626\ttest: 0.9683193\tbest: 0.9683193 (20)\ttotal: 58.8s\tremaining: 3m 41s\n",
      "21:\tlearn: 0.9836819\ttest: 0.9684927\tbest: 0.9684927 (21)\ttotal: 1m 1s\tremaining: 3m 38s\n",
      "22:\tlearn: 0.9848192\ttest: 0.9693932\tbest: 0.9693932 (22)\ttotal: 1m 4s\tremaining: 3m 35s\n",
      "23:\tlearn: 0.9857261\ttest: 0.9697404\tbest: 0.9697404 (23)\ttotal: 1m 7s\tremaining: 3m 32s\n",
      "24:\tlearn: 0.9870034\ttest: 0.9702935\tbest: 0.9702935 (24)\ttotal: 1m 9s\tremaining: 3m 29s\n",
      "25:\tlearn: 0.9879196\ttest: 0.9703147\tbest: 0.9703147 (25)\ttotal: 1m 12s\tremaining: 3m 26s\n",
      "26:\tlearn: 0.9879651\ttest: 0.9703147\tbest: 0.9703147 (25)\ttotal: 1m 15s\tremaining: 3m 23s\n",
      "27:\tlearn: 0.9882385\ttest: 0.9708356\tbest: 0.9708356 (27)\ttotal: 1m 18s\tremaining: 3m 20s\n",
      "28:\tlearn: 0.9884665\ttest: 0.9706619\tbest: 0.9708356 (27)\ttotal: 1m 20s\tremaining: 3m 17s\n",
      "29:\tlearn: 0.9889684\ttest: 0.9713570\tbest: 0.9713570 (29)\ttotal: 1m 23s\tremaining: 3m 14s\n",
      "30:\tlearn: 0.9895165\ttest: 0.9717049\tbest: 0.9717049 (30)\ttotal: 1m 26s\tremaining: 3m 11s\n",
      "31:\tlearn: 0.9897907\ttest: 0.9711831\tbest: 0.9717049 (30)\ttotal: 1m 28s\tremaining: 3m 8s\n",
      "32:\tlearn: 0.9907519\ttest: 0.9720530\tbest: 0.9720530 (32)\ttotal: 1m 31s\tremaining: 3m 6s\n",
      "33:\tlearn: 0.9913478\ttest: 0.9727501\tbest: 0.9727501 (33)\ttotal: 1m 34s\tremaining: 3m 3s\n",
      "34:\tlearn: 0.9918985\ttest: 0.9730990\tbest: 0.9730990 (34)\ttotal: 1m 37s\tremaining: 3m\n",
      "35:\tlearn: 0.9922201\ttest: 0.9725757\tbest: 0.9730990 (34)\ttotal: 1m 40s\tremaining: 2m 58s\n",
      "36:\tlearn: 0.9927258\ttest: 0.9730990\tbest: 0.9730990 (34)\ttotal: 1m 43s\tremaining: 2m 55s\n",
      "37:\tlearn: 0.9939248\ttest: 0.9745337\tbest: 0.9745337 (37)\ttotal: 1m 45s\tremaining: 2m 52s\n",
      "38:\tlearn: 0.9941553\ttest: 0.9745337\tbest: 0.9745337 (37)\ttotal: 1m 48s\tremaining: 2m 49s\n",
      "39:\tlearn: 0.9942475\ttest: 0.9750583\tbest: 0.9750583 (39)\ttotal: 1m 51s\tremaining: 2m 46s\n",
      "40:\tlearn: 0.9945244\ttest: 0.9766355\tbest: 0.9766355 (40)\ttotal: 1m 53s\tremaining: 2m 44s\n",
      "41:\tlearn: 0.9949399\ttest: 0.9764600\tbest: 0.9766355 (40)\ttotal: 1m 56s\tremaining: 2m 41s\n",
      "42:\tlearn: 0.9956794\ttest: 0.9764600\tbest: 0.9766355 (40)\ttotal: 1m 59s\tremaining: 2m 38s\n",
      "43:\tlearn: 0.9960496\ttest: 0.9773381\tbest: 0.9773381 (43)\ttotal: 2m 2s\tremaining: 2m 35s\n",
      "44:\tlearn: 0.9962811\ttest: 0.9771624\tbest: 0.9773381 (43)\ttotal: 2m 4s\tremaining: 2m 32s\n",
      "45:\tlearn: 0.9965591\ttest: 0.9780418\tbest: 0.9780418 (45)\ttotal: 2m 7s\tremaining: 2m 29s\n",
      "46:\tlearn: 0.9966518\ttest: 0.9789227\tbest: 0.9789227 (46)\ttotal: 2m 10s\tremaining: 2m 26s\n",
      "47:\tlearn: 0.9969769\ttest: 0.9801945\tbest: 0.9801945 (47)\ttotal: 2m 13s\tremaining: 2m 24s\n",
      "48:\tlearn: 0.9972552\ttest: 0.9793128\tbest: 0.9801945 (47)\ttotal: 2m 15s\tremaining: 2m 21s\n",
      "49:\tlearn: 0.9975800\ttest: 0.9793128\tbest: 0.9801945 (47)\ttotal: 2m 18s\tremaining: 2m 18s\n",
      "50:\tlearn: 0.9977193\ttest: 0.9798416\tbest: 0.9801945 (47)\ttotal: 2m 21s\tremaining: 2m 15s\n",
      "51:\tlearn: 0.9979516\ttest: 0.9800180\tbest: 0.9801945 (47)\ttotal: 2m 24s\tremaining: 2m 12s\n",
      "52:\tlearn: 0.9980445\ttest: 0.9796653\tbest: 0.9801945 (47)\ttotal: 2m 26s\tremaining: 2m 10s\n",
      "53:\tlearn: 0.9983234\ttest: 0.9791367\tbest: 0.9801945 (47)\ttotal: 2m 29s\tremaining: 2m 7s\n",
      "54:\tlearn: 0.9986024\ttest: 0.9794890\tbest: 0.9801945 (47)\ttotal: 2m 32s\tremaining: 2m 4s\n",
      "55:\tlearn: 0.9986024\ttest: 0.9794890\tbest: 0.9801945 (47)\ttotal: 2m 35s\tremaining: 2m 1s\n",
      "56:\tlearn: 0.9986955\ttest: 0.9798416\tbest: 0.9801945 (47)\ttotal: 2m 37s\tremaining: 1m 58s\n",
      "57:\tlearn: 0.9988351\ttest: 0.9796653\tbest: 0.9801945 (47)\ttotal: 2m 40s\tremaining: 1m 56s\n",
      "58:\tlearn: 0.9989747\ttest: 0.9798416\tbest: 0.9801945 (47)\ttotal: 2m 43s\tremaining: 1m 53s\n",
      "59:\tlearn: 0.9990213\ttest: 0.9805476\tbest: 0.9805476 (59)\ttotal: 2m 45s\tremaining: 1m 50s\n",
      "60:\tlearn: 0.9991144\ttest: 0.9801945\tbest: 0.9805476 (59)\ttotal: 2m 48s\tremaining: 1m 47s\n",
      "61:\tlearn: 0.9993939\ttest: 0.9800180\tbest: 0.9805476 (59)\ttotal: 2m 51s\tremaining: 1m 45s\n",
      "62:\tlearn: 0.9993939\ttest: 0.9803710\tbest: 0.9805476 (59)\ttotal: 2m 54s\tremaining: 1m 42s\n",
      "63:\tlearn: 0.9994405\ttest: 0.9798416\tbest: 0.9805476 (59)\ttotal: 2m 56s\tremaining: 1m 39s\n",
      "64:\tlearn: 0.9995337\ttest: 0.9794890\tbest: 0.9805476 (59)\ttotal: 2m 59s\tremaining: 1m 36s\n",
      "65:\tlearn: 0.9996269\ttest: 0.9798416\tbest: 0.9805476 (59)\ttotal: 3m 2s\tremaining: 1m 33s\n",
      "66:\tlearn: 0.9995803\ttest: 0.9801945\tbest: 0.9805476 (59)\ttotal: 3m 4s\tremaining: 1m 31s\n",
      "67:\tlearn: 0.9996269\ttest: 0.9803710\tbest: 0.9805476 (59)\ttotal: 3m 7s\tremaining: 1m 28s\n",
      "68:\tlearn: 0.9996736\ttest: 0.9805476\tbest: 0.9805476 (59)\ttotal: 3m 10s\tremaining: 1m 25s\n",
      "69:\tlearn: 0.9998134\ttest: 0.9805476\tbest: 0.9805476 (59)\ttotal: 3m 13s\tremaining: 1m 22s\n",
      "70:\tlearn: 0.9998601\ttest: 0.9807242\tbest: 0.9807242 (70)\ttotal: 3m 15s\tremaining: 1m 20s\n",
      "71:\tlearn: 0.9998134\ttest: 0.9805476\tbest: 0.9807242 (70)\ttotal: 3m 18s\tremaining: 1m 17s\n",
      "72:\tlearn: 0.9998134\ttest: 0.9807242\tbest: 0.9807242 (70)\ttotal: 3m 21s\tremaining: 1m 14s\n",
      "73:\tlearn: 0.9998134\ttest: 0.9812545\tbest: 0.9812545 (73)\ttotal: 3m 24s\tremaining: 1m 11s\n",
      "74:\tlearn: 0.9998134\ttest: 0.9812545\tbest: 0.9812545 (73)\ttotal: 3m 26s\tremaining: 1m 8s\n",
      "75:\tlearn: 0.9999067\ttest: 0.9809009\tbest: 0.9812545 (73)\ttotal: 3m 29s\tremaining: 1m 6s\n",
      "76:\tlearn: 0.9999067\ttest: 0.9814314\tbest: 0.9814314 (76)\ttotal: 3m 32s\tremaining: 1m 3s\n",
      "77:\tlearn: 0.9999534\ttest: 0.9814314\tbest: 0.9814314 (76)\ttotal: 3m 35s\tremaining: 1m\n",
      "78:\tlearn: 0.9999534\ttest: 0.9816084\tbest: 0.9816084 (78)\ttotal: 3m 38s\tremaining: 57.9s\n",
      "79:\tlearn: 0.9999534\ttest: 0.9814314\tbest: 0.9816084 (78)\ttotal: 3m 40s\tremaining: 55.2s\n",
      "80:\tlearn: 0.9999534\ttest: 0.9814314\tbest: 0.9816084 (78)\ttotal: 3m 43s\tremaining: 52.4s\n",
      "81:\tlearn: 0.9999534\ttest: 0.9814314\tbest: 0.9816084 (78)\ttotal: 3m 46s\tremaining: 49.6s\n",
      "82:\tlearn: 0.9999534\ttest: 0.9821396\tbest: 0.9821396 (82)\ttotal: 3m 48s\tremaining: 46.9s\n",
      "83:\tlearn: 0.9999534\ttest: 0.9823169\tbest: 0.9823169 (83)\ttotal: 3m 51s\tremaining: 44.1s\n",
      "84:\tlearn: 0.9999534\ttest: 0.9824941\tbest: 0.9824941 (84)\ttotal: 3m 54s\tremaining: 41.3s\n",
      "85:\tlearn: 0.9999534\ttest: 0.9826715\tbest: 0.9826715 (85)\ttotal: 3m 56s\tremaining: 38.5s\n",
      "86:\tlearn: 0.9999534\ttest: 0.9824941\tbest: 0.9826715 (85)\ttotal: 3m 59s\tremaining: 35.8s\n",
      "87:\tlearn: 0.9999534\ttest: 0.9826715\tbest: 0.9826715 (85)\ttotal: 4m 2s\tremaining: 33s\n",
      "88:\tlearn: 0.9999534\ttest: 0.9833815\tbest: 0.9833815 (88)\ttotal: 4m 5s\tremaining: 30.3s\n",
      "89:\tlearn: 0.9999534\ttest: 0.9830264\tbest: 0.9833815 (88)\ttotal: 4m 7s\tremaining: 27.5s\n",
      "90:\tlearn: 0.9999534\ttest: 0.9835592\tbest: 0.9835592 (90)\ttotal: 4m 10s\tremaining: 24.8s\n",
      "91:\tlearn: 0.9999534\ttest: 0.9832039\tbest: 0.9835592 (90)\ttotal: 4m 13s\tremaining: 22s\n",
      "92:\tlearn: 0.9999534\ttest: 0.9833815\tbest: 0.9835592 (90)\ttotal: 4m 15s\tremaining: 19.3s\n",
      "93:\tlearn: 1.0000000\ttest: 0.9833815\tbest: 0.9835592 (90)\ttotal: 4m 18s\tremaining: 16.5s\n",
      "94:\tlearn: 1.0000000\ttest: 0.9832039\tbest: 0.9835592 (90)\ttotal: 4m 21s\tremaining: 13.8s\n",
      "95:\tlearn: 1.0000000\ttest: 0.9833815\tbest: 0.9835592 (90)\ttotal: 4m 24s\tremaining: 11s\n",
      "96:\tlearn: 1.0000000\ttest: 0.9835592\tbest: 0.9835592 (90)\ttotal: 4m 26s\tremaining: 8.25s\n",
      "97:\tlearn: 1.0000000\ttest: 0.9835592\tbest: 0.9835592 (90)\ttotal: 4m 29s\tremaining: 5.5s\n",
      "98:\tlearn: 1.0000000\ttest: 0.9832039\tbest: 0.9835592 (90)\ttotal: 4m 32s\tremaining: 2.75s\n",
      "99:\tlearn: 1.0000000\ttest: 0.9828489\tbest: 0.9835592 (90)\ttotal: 4m 34s\tremaining: 0us\n",
      "\n",
      "bestTest = 0.9835591689\n",
      "bestIteration = 90\n",
      "\n",
      "5:\tloss: 0.9835592\tbest: 0.9835592 (5)\ttotal: 9m 44s\tremaining: 3m 14s\n",
      "0:\tlearn: 0.8401583\ttest: 0.8196422\tbest: 0.8196422 (0)\ttotal: 2.76s\tremaining: 4m 33s\n",
      "1:\tlearn: 0.8673727\ttest: 0.8515315\tbest: 0.8515315 (1)\ttotal: 5.6s\tremaining: 4m 34s\n",
      "2:\tlearn: 0.8827095\ttest: 0.8716094\tbest: 0.8716094 (2)\ttotal: 8.55s\tremaining: 4m 36s\n",
      "3:\tlearn: 0.8924369\ttest: 0.8810255\tbest: 0.8810255 (3)\ttotal: 11.5s\tremaining: 4m 35s\n",
      "4:\tlearn: 0.8995237\ttest: 0.8870354\tbest: 0.8870354 (4)\ttotal: 14.3s\tremaining: 4m 31s\n",
      "5:\tlearn: 0.9057804\ttest: 0.8903811\tbest: 0.8903811 (5)\ttotal: 17.1s\tremaining: 4m 27s\n",
      "6:\tlearn: 0.9073090\ttest: 0.8912727\tbest: 0.8912727 (6)\ttotal: 19.9s\tremaining: 4m 24s\n",
      "7:\tlearn: 0.9103238\ttest: 0.8967017\tbest: 0.8967017 (7)\ttotal: 22.6s\tremaining: 4m 20s\n",
      "8:\tlearn: 0.9121366\ttest: 0.8967894\tbest: 0.8967894 (8)\ttotal: 25.5s\tremaining: 4m 17s\n",
      "9:\tlearn: 0.9155793\ttest: 0.9018895\tbest: 0.9018895 (9)\ttotal: 28.3s\tremaining: 4m 14s\n",
      "10:\tlearn: 0.9170970\ttest: 0.9044424\tbest: 0.9044424 (10)\ttotal: 31.1s\tremaining: 4m 11s\n",
      "11:\tlearn: 0.9213038\ttest: 0.9070484\tbest: 0.9070484 (11)\ttotal: 33.9s\tremaining: 4m 8s\n",
      "12:\tlearn: 0.9224963\ttest: 0.9100778\tbest: 0.9100778 (12)\ttotal: 36.7s\tremaining: 4m 5s\n",
      "13:\tlearn: 0.9218152\ttest: 0.9077731\tbest: 0.9100778 (12)\ttotal: 39.6s\tremaining: 4m 3s\n",
      "14:\tlearn: 0.9241881\ttest: 0.9118871\tbest: 0.9118871 (14)\ttotal: 42.4s\tremaining: 4m\n",
      "15:\tlearn: 0.9261165\ttest: 0.9131064\tbest: 0.9131064 (15)\ttotal: 45.3s\tremaining: 3m 57s\n",
      "16:\tlearn: 0.9277241\ttest: 0.9158506\tbest: 0.9158506 (16)\ttotal: 48.2s\tremaining: 3m 55s\n",
      "17:\tlearn: 0.9314063\ttest: 0.9179496\tbest: 0.9179496 (17)\ttotal: 51.1s\tremaining: 3m 52s\n",
      "18:\tlearn: 0.9326477\ttest: 0.9189873\tbest: 0.9189873 (18)\ttotal: 53.7s\tremaining: 3m 49s\n",
      "19:\tlearn: 0.9350781\ttest: 0.9200434\tbest: 0.9200434 (19)\ttotal: 56.6s\tremaining: 3m 46s\n",
      "20:\tlearn: 0.9358480\ttest: 0.9224091\tbest: 0.9224091 (20)\ttotal: 59.4s\tremaining: 3m 43s\n",
      "21:\tlearn: 0.9382592\ttest: 0.9243576\tbest: 0.9243576 (21)\ttotal: 1m 2s\tremaining: 3m 41s\n",
      "22:\tlearn: 0.9405628\ttest: 0.9257122\tbest: 0.9257122 (22)\ttotal: 1m 5s\tremaining: 3m 38s\n",
      "23:\tlearn: 0.9413862\ttest: 0.9278239\tbest: 0.9278239 (23)\ttotal: 1m 7s\tremaining: 3m 35s\n",
      "24:\tlearn: 0.9408051\ttest: 0.9282746\tbest: 0.9282746 (24)\ttotal: 1m 10s\tremaining: 3m 32s\n",
      "25:\tlearn: 0.9431221\ttest: 0.9307109\tbest: 0.9307109 (25)\ttotal: 1m 13s\tremaining: 3m 29s\n",
      "26:\tlearn: 0.9447567\ttest: 0.9318428\tbest: 0.9318428 (26)\ttotal: 1m 16s\tremaining: 3m 26s\n",
      "27:\tlearn: 0.9450359\ttest: 0.9329246\tbest: 0.9329246 (27)\ttotal: 1m 18s\tremaining: 3m 23s\n",
      "28:\tlearn: 0.9474165\ttest: 0.9340778\tbest: 0.9340778 (28)\ttotal: 1m 21s\tremaining: 3m 20s\n",
      "29:\tlearn: 0.9477479\ttest: 0.9349432\tbest: 0.9349432 (29)\ttotal: 1m 24s\tremaining: 3m 17s\n",
      "30:\tlearn: 0.9483294\ttest: 0.9358559\tbest: 0.9358559 (30)\ttotal: 1m 27s\tremaining: 3m 14s\n",
      "31:\tlearn: 0.9497992\ttest: 0.9391210\tbest: 0.9391210 (31)\ttotal: 1m 30s\tremaining: 3m 11s\n",
      "32:\tlearn: 0.9528457\ttest: 0.9404783\tbest: 0.9404783 (32)\ttotal: 1m 32s\tremaining: 3m 8s\n",
      "33:\tlearn: 0.9528237\ttest: 0.9410284\tbest: 0.9410284 (33)\ttotal: 1m 35s\tremaining: 3m 5s\n",
      "34:\tlearn: 0.9530630\ttest: 0.9399712\tbest: 0.9410284 (33)\ttotal: 1m 38s\tremaining: 3m 2s\n",
      "35:\tlearn: 0.9552688\ttest: 0.9423181\tbest: 0.9423181 (35)\ttotal: 1m 41s\tremaining: 3m\n",
      "36:\tlearn: 0.9559433\ttest: 0.9434369\tbest: 0.9434369 (36)\ttotal: 1m 44s\tremaining: 2m 57s\n",
      "37:\tlearn: 0.9566208\ttest: 0.9439655\tbest: 0.9439655 (37)\ttotal: 1m 46s\tremaining: 2m 54s\n",
      "38:\tlearn: 0.9582802\ttest: 0.9455917\tbest: 0.9455917 (38)\ttotal: 1m 49s\tremaining: 2m 51s\n",
      "39:\tlearn: 0.9590451\ttest: 0.9459508\tbest: 0.9459508 (39)\ttotal: 1m 52s\tremaining: 2m 48s\n",
      "40:\tlearn: 0.9597520\ttest: 0.9474062\tbest: 0.9474062 (40)\ttotal: 1m 55s\tremaining: 2m 46s\n",
      "41:\tlearn: 0.9609112\ttest: 0.9481428\tbest: 0.9481428 (41)\ttotal: 1m 58s\tremaining: 2m 43s\n",
      "42:\tlearn: 0.9609987\ttest: 0.9486535\tbest: 0.9486535 (42)\ttotal: 2m 1s\tremaining: 2m 40s\n",
      "43:\tlearn: 0.9620276\ttest: 0.9488422\tbest: 0.9488422 (43)\ttotal: 2m 3s\tremaining: 2m 37s\n",
      "44:\tlearn: 0.9622504\ttest: 0.9489943\tbest: 0.9489943 (44)\ttotal: 2m 6s\tremaining: 2m 35s\n",
      "45:\tlearn: 0.9631048\ttest: 0.9495240\tbest: 0.9495240 (45)\ttotal: 2m 9s\tremaining: 2m 32s\n",
      "46:\tlearn: 0.9634697\ttest: 0.9502604\tbest: 0.9502604 (46)\ttotal: 2m 12s\tremaining: 2m 29s\n",
      "47:\tlearn: 0.9644485\ttest: 0.9511845\tbest: 0.9511845 (47)\ttotal: 2m 15s\tremaining: 2m 26s\n",
      "48:\tlearn: 0.9649954\ttest: 0.9517142\tbest: 0.9517142 (48)\ttotal: 2m 18s\tremaining: 2m 23s\n",
      "49:\tlearn: 0.9657750\ttest: 0.9522956\tbest: 0.9522956 (49)\ttotal: 2m 21s\tremaining: 2m 21s\n",
      "50:\tlearn: 0.9657562\ttest: 0.9522784\tbest: 0.9522956 (49)\ttotal: 2m 23s\tremaining: 2m 18s\n",
      "51:\tlearn: 0.9660986\ttest: 0.9528420\tbest: 0.9528420 (51)\ttotal: 2m 26s\tremaining: 2m 15s\n",
      "52:\tlearn: 0.9667897\ttest: 0.9539344\tbest: 0.9539344 (52)\ttotal: 2m 29s\tremaining: 2m 12s\n",
      "53:\tlearn: 0.9675097\ttest: 0.9544803\tbest: 0.9544803 (53)\ttotal: 2m 32s\tremaining: 2m 9s\n",
      "54:\tlearn: 0.9685678\ttest: 0.9552613\tbest: 0.9552613 (54)\ttotal: 2m 35s\tremaining: 2m 7s\n",
      "55:\tlearn: 0.9691586\ttest: 0.9559613\tbest: 0.9559613 (55)\ttotal: 2m 38s\tremaining: 2m 4s\n",
      "56:\tlearn: 0.9691586\ttest: 0.9563037\tbest: 0.9563037 (56)\ttotal: 2m 41s\tremaining: 2m 1s\n",
      "57:\tlearn: 0.9695064\ttest: 0.9565062\tbest: 0.9565062 (57)\ttotal: 2m 44s\tremaining: 1m 58s\n",
      "58:\tlearn: 0.9706995\ttest: 0.9567548\tbest: 0.9567548 (58)\ttotal: 2m 46s\tremaining: 1m 56s\n",
      "59:\tlearn: 0.9713765\ttest: 0.9574696\tbest: 0.9574696 (59)\ttotal: 2m 49s\tremaining: 1m 53s\n",
      "60:\tlearn: 0.9723399\ttest: 0.9578270\tbest: 0.9578270 (60)\ttotal: 2m 52s\tremaining: 1m 50s\n",
      "61:\tlearn: 0.9724286\ttest: 0.9579982\tbest: 0.9579982 (61)\ttotal: 2m 55s\tremaining: 1m 47s\n",
      "62:\tlearn: 0.9729606\ttest: 0.9583408\tbest: 0.9583408 (62)\ttotal: 2m 58s\tremaining: 1m 44s\n",
      "63:\tlearn: 0.9730938\ttest: 0.9581695\tbest: 0.9583408 (62)\ttotal: 3m 1s\tremaining: 1m 41s\n",
      "64:\tlearn: 0.9734659\ttest: 0.9585122\tbest: 0.9585122 (64)\ttotal: 3m 4s\tremaining: 1m 39s\n",
      "65:\tlearn: 0.9739099\ttest: 0.9590267\tbest: 0.9590267 (65)\ttotal: 3m 6s\tremaining: 1m 36s\n",
      "66:\tlearn: 0.9744549\ttest: 0.9593990\tbest: 0.9593990 (66)\ttotal: 3m 9s\tremaining: 1m 33s\n",
      "67:\tlearn: 0.9743216\ttest: 0.9593990\tbest: 0.9593990 (66)\ttotal: 3m 12s\tremaining: 1m 30s\n",
      "68:\tlearn: 0.9748620\ttest: 0.9604863\tbest: 0.9604863 (68)\ttotal: 3m 15s\tremaining: 1m 27s\n",
      "69:\tlearn: 0.9755363\ttest: 0.9615728\tbest: 0.9615728 (69)\ttotal: 3m 18s\tremaining: 1m 24s\n",
      "70:\tlearn: 0.9757590\ttest: 0.9619167\tbest: 0.9619167 (70)\ttotal: 3m 21s\tremaining: 1m 22s\n",
      "71:\tlearn: 0.9758481\ttest: 0.9614010\tbest: 0.9619167 (70)\ttotal: 3m 23s\tremaining: 1m 19s\n",
      "72:\tlearn: 0.9759306\ttest: 0.9604863\tbest: 0.9619167 (70)\ttotal: 3m 26s\tremaining: 1m 16s\n",
      "73:\tlearn: 0.9763830\ttest: 0.9614010\tbest: 0.9619167 (70)\ttotal: 3m 29s\tremaining: 1m 13s\n",
      "74:\tlearn: 0.9765168\ttest: 0.9612292\tbest: 0.9619167 (70)\ttotal: 3m 32s\tremaining: 1m 10s\n",
      "75:\tlearn: 0.9765168\ttest: 0.9619167\tbest: 0.9619167 (70)\ttotal: 3m 35s\tremaining: 1m 7s\n",
      "76:\tlearn: 0.9766060\ttest: 0.9622608\tbest: 0.9622608 (76)\ttotal: 3m 37s\tremaining: 1m 5s\n",
      "77:\tlearn: 0.9767399\ttest: 0.9624329\tbest: 0.9624329 (77)\ttotal: 3m 40s\tremaining: 1m 2s\n",
      "78:\tlearn: 0.9768292\ttest: 0.9619167\tbest: 0.9624329 (77)\ttotal: 3m 43s\tremaining: 59.4s\n",
      "79:\tlearn: 0.9769632\ttest: 0.9624329\tbest: 0.9624329 (77)\ttotal: 3m 46s\tremaining: 56.6s\n",
      "80:\tlearn: 0.9770525\ttest: 0.9622608\tbest: 0.9624329 (77)\ttotal: 3m 49s\tremaining: 53.7s\n",
      "81:\tlearn: 0.9776924\ttest: 0.9633863\tbest: 0.9633863 (81)\ttotal: 3m 51s\tremaining: 50.9s\n",
      "82:\tlearn: 0.9782390\ttest: 0.9637565\tbest: 0.9637565 (82)\ttotal: 3m 54s\tremaining: 48s\n",
      "83:\tlearn: 0.9782837\ttest: 0.9646176\tbest: 0.9646176 (83)\ttotal: 3m 57s\tremaining: 45.2s\n",
      "84:\tlearn: 0.9784179\ttest: 0.9649625\tbest: 0.9649625 (84)\ttotal: 4m\tremaining: 42.4s\n",
      "85:\tlearn: 0.9788655\ttest: 0.9653076\tbest: 0.9653076 (85)\ttotal: 4m 2s\tremaining: 39.5s\n",
      "86:\tlearn: 0.9788655\ttest: 0.9653076\tbest: 0.9653076 (85)\ttotal: 4m 5s\tremaining: 36.7s\n",
      "87:\tlearn: 0.9789999\ttest: 0.9658257\tbest: 0.9658257 (87)\ttotal: 4m 8s\tremaining: 33.9s\n",
      "88:\tlearn: 0.9795003\ttest: 0.9665534\tbest: 0.9665534 (88)\ttotal: 4m 11s\tremaining: 31.1s\n",
      "89:\tlearn: 0.9798234\ttest: 0.9665773\tbest: 0.9665773 (89)\ttotal: 4m 14s\tremaining: 28.2s\n",
      "90:\tlearn: 0.9799579\ttest: 0.9669229\tbest: 0.9669229 (90)\ttotal: 4m 16s\tremaining: 25.4s\n",
      "91:\tlearn: 0.9803616\ttest: 0.9672688\tbest: 0.9672688 (91)\ttotal: 4m 19s\tremaining: 22.6s\n",
      "92:\tlearn: 0.9806310\ttest: 0.9670959\tbest: 0.9672688 (91)\ttotal: 4m 22s\tremaining: 19.8s\n",
      "93:\tlearn: 0.9806239\ttest: 0.9667144\tbest: 0.9672688 (91)\ttotal: 4m 25s\tremaining: 16.9s\n",
      "94:\tlearn: 0.9808935\ttest: 0.9668874\tbest: 0.9672688 (91)\ttotal: 4m 28s\tremaining: 14.1s\n",
      "95:\tlearn: 0.9812151\ttest: 0.9672688\tbest: 0.9672688 (91)\ttotal: 4m 30s\tremaining: 11.3s\n",
      "96:\tlearn: 0.9814849\ttest: 0.9677881\tbest: 0.9677881 (96)\ttotal: 4m 33s\tremaining: 8.46s\n",
      "97:\tlearn: 0.9814849\ttest: 0.9677881\tbest: 0.9677881 (96)\ttotal: 4m 36s\tremaining: 5.64s\n",
      "98:\tlearn: 0.9821601\ttest: 0.9681346\tbest: 0.9681346 (98)\ttotal: 4m 39s\tremaining: 2.82s\n",
      "99:\tlearn: 0.9822952\ttest: 0.9676150\tbest: 0.9681346 (98)\ttotal: 4m 41s\tremaining: 0us\n",
      "\n",
      "bestTest = 0.9681346223\n",
      "bestIteration = 98\n",
      "\n",
      "6:\tloss: 0.9681346\tbest: 0.9835592 (5)\ttotal: 14m 25s\tremaining: 2m 3s\n",
      "0:\tlearn: 0.8401583\ttest: 0.8196422\tbest: 0.8196422 (0)\ttotal: 2.88s\tremaining: 4m 45s\n",
      "1:\tlearn: 0.8883186\ttest: 0.8722865\tbest: 0.8722865 (1)\ttotal: 5.81s\tremaining: 4m 44s\n",
      "2:\tlearn: 0.9000415\ttest: 0.8877996\tbest: 0.8877996 (2)\ttotal: 8.71s\tremaining: 4m 41s\n",
      "3:\tlearn: 0.9101005\ttest: 0.8968998\tbest: 0.8968998 (3)\ttotal: 11.5s\tremaining: 4m 36s\n",
      "4:\tlearn: 0.9204733\ttest: 0.9058506\tbest: 0.9058506 (4)\ttotal: 14.4s\tremaining: 4m 34s\n",
      "5:\tlearn: 0.9289377\ttest: 0.9106597\tbest: 0.9106597 (5)\ttotal: 17.3s\tremaining: 4m 30s\n",
      "6:\tlearn: 0.9337107\ttest: 0.9138954\tbest: 0.9138954 (6)\ttotal: 20.1s\tremaining: 4m 26s\n",
      "7:\tlearn: 0.9382604\ttest: 0.9226351\tbest: 0.9226351 (7)\ttotal: 22.9s\tremaining: 4m 23s\n",
      "8:\tlearn: 0.9418748\ttest: 0.9230216\tbest: 0.9230216 (8)\ttotal: 25.8s\tremaining: 4m 21s\n",
      "9:\tlearn: 0.9479252\ttest: 0.9315118\tbest: 0.9315118 (9)\ttotal: 28.7s\tremaining: 4m 18s\n",
      "10:\tlearn: 0.9511273\ttest: 0.9354144\tbest: 0.9354144 (10)\ttotal: 31.7s\tremaining: 4m 16s\n",
      "11:\tlearn: 0.9560035\ttest: 0.9387097\tbest: 0.9387097 (11)\ttotal: 34.6s\tremaining: 4m 13s\n",
      "12:\tlearn: 0.9595881\ttest: 0.9434232\tbest: 0.9434232 (12)\ttotal: 37.4s\tremaining: 4m 10s\n",
      "13:\tlearn: 0.9611739\ttest: 0.9442459\tbest: 0.9442459 (13)\ttotal: 40.3s\tremaining: 4m 7s\n",
      "14:\tlearn: 0.9635395\ttest: 0.9489832\tbest: 0.9489832 (14)\ttotal: 43s\tremaining: 4m 3s\n",
      "15:\tlearn: 0.9657746\ttest: 0.9523640\tbest: 0.9523640 (15)\ttotal: 45.8s\tremaining: 4m\n",
      "16:\tlearn: 0.9671631\ttest: 0.9521770\tbest: 0.9523640 (15)\ttotal: 48.7s\tremaining: 3m 57s\n",
      "17:\tlearn: 0.9685294\ttest: 0.9532977\tbest: 0.9532977 (17)\ttotal: 51.5s\tremaining: 3m 54s\n",
      "18:\tlearn: 0.9701914\ttest: 0.9545536\tbest: 0.9545536 (18)\ttotal: 54.2s\tremaining: 3m 51s\n",
      "19:\tlearn: 0.9712384\ttest: 0.9551122\tbest: 0.9551122 (19)\ttotal: 57s\tremaining: 3m 48s\n",
      "20:\tlearn: 0.9726502\ttest: 0.9567385\tbest: 0.9567385 (20)\ttotal: 59.8s\tremaining: 3m 45s\n",
      "21:\tlearn: 0.9736458\ttest: 0.9581925\tbest: 0.9581925 (21)\ttotal: 1m 2s\tremaining: 3m 42s\n",
      "22:\tlearn: 0.9756409\ttest: 0.9592744\tbest: 0.9592744 (22)\ttotal: 1m 5s\tremaining: 3m 39s\n",
      "23:\tlearn: 0.9762960\ttest: 0.9611408\tbest: 0.9611408 (23)\ttotal: 1m 8s\tremaining: 3m 36s\n",
      "24:\tlearn: 0.9783752\ttest: 0.9603132\tbest: 0.9611408 (23)\ttotal: 1m 11s\tremaining: 3m 33s\n",
      "25:\tlearn: 0.9789122\ttest: 0.9623685\tbest: 0.9623685 (25)\ttotal: 1m 13s\tremaining: 3m 30s\n",
      "26:\tlearn: 0.9795844\ttest: 0.9630555\tbest: 0.9630555 (26)\ttotal: 1m 16s\tremaining: 3m 27s\n",
      "27:\tlearn: 0.9804820\ttest: 0.9632274\tbest: 0.9632274 (27)\ttotal: 1m 19s\tremaining: 3m 24s\n",
      "28:\tlearn: 0.9805269\ttest: 0.9630555\tbest: 0.9632274 (27)\ttotal: 1m 22s\tremaining: 3m 21s\n",
      "29:\tlearn: 0.9810663\ttest: 0.9635714\tbest: 0.9635714 (29)\ttotal: 1m 24s\tremaining: 3m 18s\n",
      "30:\tlearn: 0.9817865\ttest: 0.9637435\tbest: 0.9637435 (30)\ttotal: 1m 27s\tremaining: 3m 15s\n",
      "31:\tlearn: 0.9820117\ttest: 0.9646049\tbest: 0.9646049 (31)\ttotal: 1m 30s\tremaining: 3m 11s\n",
      "32:\tlearn: 0.9831894\ttest: 0.9662078\tbest: 0.9662078 (32)\ttotal: 1m 33s\tremaining: 3m 8s\n",
      "33:\tlearn: 0.9836412\ttest: 0.9663805\tbest: 0.9663805 (33)\ttotal: 1m 35s\tremaining: 3m 5s\n",
      "34:\tlearn: 0.9843649\ttest: 0.9662078\tbest: 0.9663805 (33)\ttotal: 1m 38s\tremaining: 3m 2s\n",
      "35:\tlearn: 0.9853618\ttest: 0.9668993\tbest: 0.9668993 (35)\ttotal: 1m 41s\tremaining: 3m\n",
      "36:\tlearn: 0.9862345\ttest: 0.9680071\tbest: 0.9680071 (36)\ttotal: 1m 44s\tremaining: 2m 57s\n",
      "37:\tlearn: 0.9866433\ttest: 0.9680071\tbest: 0.9680071 (36)\ttotal: 1m 47s\tremaining: 2m 54s\n",
      "38:\tlearn: 0.9874620\ttest: 0.9680071\tbest: 0.9680071 (36)\ttotal: 1m 49s\tremaining: 2m 51s\n",
      "39:\tlearn: 0.9878262\ttest: 0.9685265\tbest: 0.9685265 (39)\ttotal: 1m 52s\tremaining: 2m 48s\n",
      "40:\tlearn: 0.9882364\ttest: 0.9690463\tbest: 0.9690463 (40)\ttotal: 1m 55s\tremaining: 2m 45s\n",
      "41:\tlearn: 0.9890120\ttest: 0.9690463\tbest: 0.9690463 (40)\ttotal: 1m 58s\tremaining: 2m 43s\n",
      "42:\tlearn: 0.9896974\ttest: 0.9699140\tbest: 0.9699140 (42)\ttotal: 2m\tremaining: 2m 40s\n",
      "43:\tlearn: 0.9900633\ttest: 0.9697404\tbest: 0.9699140 (42)\ttotal: 2m 3s\tremaining: 2m 37s\n",
      "44:\tlearn: 0.9899261\ttest: 0.9700878\tbest: 0.9700878 (44)\ttotal: 2m 6s\tremaining: 2m 34s\n",
      "45:\tlearn: 0.9908418\ttest: 0.9704354\tbest: 0.9704354 (45)\ttotal: 2m 9s\tremaining: 2m 31s\n",
      "46:\tlearn: 0.9916239\ttest: 0.9715207\tbest: 0.9715207 (46)\ttotal: 2m 12s\tremaining: 2m 28s\n",
      "47:\tlearn: 0.9920830\ttest: 0.9718688\tbest: 0.9718688 (47)\ttotal: 2m 14s\tremaining: 2m 26s\n",
      "48:\tlearn: 0.9922208\ttest: 0.9718688\tbest: 0.9718688 (47)\ttotal: 2m 17s\tremaining: 2m 23s\n",
      "49:\tlearn: 0.9927724\ttest: 0.9718688\tbest: 0.9718688 (47)\ttotal: 2m 20s\tremaining: 2m 20s\n",
      "50:\tlearn: 0.9928644\ttest: 0.9727403\tbest: 0.9727403 (50)\ttotal: 2m 23s\tremaining: 2m 17s\n",
      "51:\tlearn: 0.9930025\ttest: 0.9730893\tbest: 0.9730893 (51)\ttotal: 2m 26s\tremaining: 2m 15s\n",
      "52:\tlearn: 0.9936010\ttest: 0.9727403\tbest: 0.9730893 (51)\ttotal: 2m 28s\tremaining: 2m 12s\n",
      "53:\tlearn: 0.9938315\ttest: 0.9729148\tbest: 0.9730893 (51)\ttotal: 2m 31s\tremaining: 2m 9s\n",
      "54:\tlearn: 0.9942465\ttest: 0.9730893\tbest: 0.9730893 (51)\ttotal: 2m 34s\tremaining: 2m 6s\n",
      "55:\tlearn: 0.9944310\ttest: 0.9730893\tbest: 0.9730893 (51)\ttotal: 2m 37s\tremaining: 2m 3s\n",
      "56:\tlearn: 0.9946618\ttest: 0.9736134\tbest: 0.9736134 (56)\ttotal: 2m 39s\tremaining: 2m\n",
      "57:\tlearn: 0.9948004\ttest: 0.9736134\tbest: 0.9736134 (56)\ttotal: 2m 42s\tremaining: 1m 57s\n",
      "58:\tlearn: 0.9952162\ttest: 0.9732640\tbest: 0.9736134 (56)\ttotal: 2m 45s\tremaining: 1m 54s\n",
      "59:\tlearn: 0.9953087\ttest: 0.9732640\tbest: 0.9736134 (56)\ttotal: 2m 48s\tremaining: 1m 52s\n",
      "60:\tlearn: 0.9958175\ttest: 0.9737882\tbest: 0.9737882 (60)\ttotal: 2m 50s\tremaining: 1m 49s\n",
      "61:\tlearn: 0.9959571\ttest: 0.9750583\tbest: 0.9750583 (61)\ttotal: 2m 53s\tremaining: 1m 46s\n",
      "62:\tlearn: 0.9962811\ttest: 0.9752333\tbest: 0.9752333 (62)\ttotal: 2m 56s\tremaining: 1m 43s\n",
      "63:\tlearn: 0.9966054\ttest: 0.9754084\tbest: 0.9754084 (63)\ttotal: 2m 59s\tremaining: 1m 40s\n",
      "64:\tlearn: 0.9966054\ttest: 0.9752333\tbest: 0.9754084 (63)\ttotal: 3m 2s\tremaining: 1m 38s\n",
      "65:\tlearn: 0.9968836\ttest: 0.9757587\tbest: 0.9757587 (65)\ttotal: 3m 4s\tremaining: 1m 35s\n",
      "66:\tlearn: 0.9968372\ttest: 0.9761092\tbest: 0.9761092 (66)\ttotal: 3m 7s\tremaining: 1m 32s\n",
      "67:\tlearn: 0.9969763\ttest: 0.9762846\tbest: 0.9762846 (67)\ttotal: 3m 10s\tremaining: 1m 29s\n",
      "68:\tlearn: 0.9970227\ttest: 0.9766355\tbest: 0.9766355 (68)\ttotal: 3m 12s\tremaining: 1m 26s\n",
      "69:\tlearn: 0.9972083\ttest: 0.9768111\tbest: 0.9768111 (69)\ttotal: 3m 15s\tremaining: 1m 23s\n",
      "70:\tlearn: 0.9974867\ttest: 0.9768111\tbest: 0.9768111 (69)\ttotal: 3m 18s\tremaining: 1m 21s\n",
      "71:\tlearn: 0.9975332\ttest: 0.9771624\tbest: 0.9771624 (71)\ttotal: 3m 21s\tremaining: 1m 18s\n",
      "72:\tlearn: 0.9976260\ttest: 0.9775139\tbest: 0.9775139 (72)\ttotal: 3m 24s\tremaining: 1m 15s\n",
      "73:\tlearn: 0.9978583\ttest: 0.9773381\tbest: 0.9775139 (72)\ttotal: 3m 26s\tremaining: 1m 12s\n",
      "74:\tlearn: 0.9979051\ttest: 0.9780812\tbest: 0.9780812 (74)\ttotal: 3m 29s\tremaining: 1m 9s\n",
      "75:\tlearn: 0.9982304\ttest: 0.9779055\tbest: 0.9780812 (74)\ttotal: 3m 32s\tremaining: 1m 7s\n",
      "76:\tlearn: 0.9983699\ttest: 0.9780812\tbest: 0.9780812 (74)\ttotal: 3m 35s\tremaining: 1m 4s\n",
      "77:\tlearn: 0.9984164\ttest: 0.9780812\tbest: 0.9780812 (74)\ttotal: 3m 38s\tremaining: 1m 1s\n",
      "78:\tlearn: 0.9984629\ttest: 0.9786087\tbest: 0.9786087 (78)\ttotal: 3m 40s\tremaining: 58.7s\n",
      "79:\tlearn: 0.9985094\ttest: 0.9786087\tbest: 0.9786087 (78)\ttotal: 3m 43s\tremaining: 55.9s\n",
      "80:\tlearn: 0.9986024\ttest: 0.9787846\tbest: 0.9787846 (80)\ttotal: 3m 46s\tremaining: 53.1s\n",
      "81:\tlearn: 0.9987886\ttest: 0.9791367\tbest: 0.9791367 (81)\ttotal: 3m 49s\tremaining: 50.3s\n",
      "82:\tlearn: 0.9988816\ttest: 0.9789606\tbest: 0.9791367 (81)\ttotal: 3m 52s\tremaining: 47.6s\n",
      "83:\tlearn: 0.9990213\ttest: 0.9791367\tbest: 0.9791367 (81)\ttotal: 3m 55s\tremaining: 44.8s\n",
      "84:\tlearn: 0.9990679\ttest: 0.9791367\tbest: 0.9791367 (81)\ttotal: 3m 57s\tremaining: 42s\n",
      "85:\tlearn: 0.9991610\ttest: 0.9791367\tbest: 0.9791367 (81)\ttotal: 4m\tremaining: 39.1s\n",
      "86:\tlearn: 0.9991610\ttest: 0.9793128\tbest: 0.9793128 (86)\ttotal: 4m 3s\tremaining: 36.4s\n",
      "87:\tlearn: 0.9992076\ttest: 0.9793128\tbest: 0.9793128 (86)\ttotal: 4m 6s\tremaining: 33.6s\n",
      "88:\tlearn: 0.9992076\ttest: 0.9789606\tbest: 0.9793128 (86)\ttotal: 4m 8s\tremaining: 30.8s\n",
      "89:\tlearn: 0.9992541\ttest: 0.9793128\tbest: 0.9793128 (86)\ttotal: 4m 11s\tremaining: 28s\n",
      "90:\tlearn: 0.9992541\ttest: 0.9793128\tbest: 0.9793128 (86)\ttotal: 4m 14s\tremaining: 25.1s\n",
      "91:\tlearn: 0.9993939\ttest: 0.9796653\tbest: 0.9796653 (91)\ttotal: 4m 17s\tremaining: 22.4s\n",
      "92:\tlearn: 0.9993939\ttest: 0.9798416\tbest: 0.9798416 (92)\ttotal: 4m 19s\tremaining: 19.6s\n",
      "93:\tlearn: 0.9993473\ttest: 0.9796653\tbest: 0.9798416 (92)\ttotal: 4m 22s\tremaining: 16.8s\n",
      "94:\tlearn: 0.9993473\ttest: 0.9796653\tbest: 0.9798416 (92)\ttotal: 4m 25s\tremaining: 14s\n",
      "95:\tlearn: 0.9994405\ttest: 0.9796653\tbest: 0.9798416 (92)\ttotal: 4m 28s\tremaining: 11.2s\n",
      "96:\tlearn: 0.9994405\ttest: 0.9800180\tbest: 0.9800180 (96)\ttotal: 4m 31s\tremaining: 8.39s\n",
      "97:\tlearn: 0.9994405\ttest: 0.9801945\tbest: 0.9801945 (97)\ttotal: 4m 34s\tremaining: 5.59s\n",
      "98:\tlearn: 0.9994871\ttest: 0.9801945\tbest: 0.9801945 (97)\ttotal: 4m 36s\tremaining: 2.8s\n",
      "99:\tlearn: 0.9995337\ttest: 0.9800180\tbest: 0.9801945 (97)\ttotal: 4m 39s\tremaining: 0us\n",
      "\n",
      "bestTest = 0.9801944544\n",
      "bestIteration = 97\n",
      "\n",
      "7:\tloss: 0.9801945\tbest: 0.9835592 (5)\ttotal: 19m 5s\tremaining: 0us\n",
      "Estimating final quality...\n",
      "Training on fold [0/30]\n",
      "0:\tlearn: 0.8469921\ttest: 0.8416024\tbest: 0.8416024 (0)\ttotal: 2.88s\tremaining: 4m 45s\n",
      "1:\tlearn: 0.8888979\ttest: 0.8875000\tbest: 0.8875000 (1)\ttotal: 5.77s\tremaining: 4m 42s\n",
      "2:\tlearn: 0.9072804\ttest: 0.8967049\tbest: 0.8967049 (2)\ttotal: 8.62s\tremaining: 4m 38s\n",
      "3:\tlearn: 0.9167174\ttest: 0.9056047\tbest: 0.9056047 (3)\ttotal: 11.6s\tremaining: 4m 37s\n",
      "4:\tlearn: 0.9284436\ttest: 0.9167894\tbest: 0.9167894 (4)\ttotal: 14.5s\tremaining: 4m 35s\n",
      "5:\tlearn: 0.9413908\ttest: 0.9247076\tbest: 0.9247076 (5)\ttotal: 17.3s\tremaining: 4m 31s\n",
      "6:\tlearn: 0.9485419\ttest: 0.9328467\tbest: 0.9328467 (6)\ttotal: 20.3s\tremaining: 4m 29s\n",
      "7:\tlearn: 0.9549927\ttest: 0.9396364\tbest: 0.9396364 (7)\ttotal: 23.3s\tremaining: 4m 27s\n",
      "8:\tlearn: 0.9593561\ttest: 0.9448876\tbest: 0.9448876 (8)\ttotal: 26.2s\tremaining: 4m 24s\n",
      "9:\tlearn: 0.9615261\ttest: 0.9455338\tbest: 0.9455338 (9)\ttotal: 29.1s\tremaining: 4m 21s\n",
      "10:\tlearn: 0.9641129\ttest: 0.9496194\tbest: 0.9496194 (10)\ttotal: 31.9s\tremaining: 4m 18s\n",
      "11:\tlearn: 0.9667715\ttest: 0.9547920\tbest: 0.9547920 (11)\ttotal: 34.8s\tremaining: 4m 15s\n",
      "12:\tlearn: 0.9687172\ttest: 0.9547920\tbest: 0.9547920 (11)\ttotal: 37.6s\tremaining: 4m 11s\n",
      "13:\tlearn: 0.9713917\ttest: 0.9567100\tbest: 0.9567100 (13)\ttotal: 40.6s\tremaining: 4m 9s\n",
      "14:\tlearn: 0.9733285\ttest: 0.9592499\tbest: 0.9592499 (14)\ttotal: 43.3s\tremaining: 4m 5s\n",
      "15:\tlearn: 0.9751465\ttest: 0.9614136\tbest: 0.9614136 (15)\ttotal: 46.3s\tremaining: 4m 3s\n",
      "16:\tlearn: 0.9761269\ttest: 0.9635774\tbest: 0.9635774 (16)\ttotal: 49.2s\tremaining: 4m\n",
      "17:\tlearn: 0.9763639\ttest: 0.9642728\tbest: 0.9642728 (17)\ttotal: 52s\tremaining: 3m 56s\n",
      "18:\tlearn: 0.9777724\ttest: 0.9649946\tbest: 0.9649946 (18)\ttotal: 54.9s\tremaining: 3m 53s\n",
      "19:\tlearn: 0.9791202\ttest: 0.9632565\tbest: 0.9649946 (18)\ttotal: 57.8s\tremaining: 3m 51s\n",
      "20:\tlearn: 0.9799943\ttest: 0.9649946\tbest: 0.9649946 (18)\ttotal: 1m\tremaining: 3m 48s\n",
      "21:\tlearn: 0.9810371\ttest: 0.9667870\tbest: 0.9667870 (21)\ttotal: 1m 3s\tremaining: 3m 45s\n",
      "22:\tlearn: 0.9820413\ttest: 0.9685807\tbest: 0.9685807 (22)\ttotal: 1m 6s\tremaining: 3m 42s\n",
      "23:\tlearn: 0.9836879\ttest: 0.9696532\tbest: 0.9696532 (23)\ttotal: 1m 9s\tremaining: 3m 39s\n",
      "24:\tlearn: 0.9848886\ttest: 0.9693252\tbest: 0.9696532 (23)\ttotal: 1m 12s\tremaining: 3m 36s\n",
      "25:\tlearn: 0.9852570\ttest: 0.9710983\tbest: 0.9710983 (25)\ttotal: 1m 15s\tremaining: 3m 33s\n",
      "26:\tlearn: 0.9858994\ttest: 0.9703971\tbest: 0.9710983 (25)\ttotal: 1m 17s\tremaining: 3m 30s\n",
      "27:\tlearn: 0.9868244\ttest: 0.9714492\tbest: 0.9714492 (27)\ttotal: 1m 20s\tremaining: 3m 27s\n",
      "28:\tlearn: 0.9869452\ttest: 0.9707476\tbest: 0.9714492 (27)\ttotal: 1m 23s\tremaining: 3m 24s\n",
      "29:\tlearn: 0.9876704\ttest: 0.9710983\tbest: 0.9714492 (27)\ttotal: 1m 26s\tremaining: 3m 21s\n",
      "30:\tlearn: 0.9883968\ttest: 0.9710983\tbest: 0.9714492 (27)\ttotal: 1m 29s\tremaining: 3m 18s\n",
      "31:\tlearn: 0.9888008\ttest: 0.9718004\tbest: 0.9718004 (31)\ttotal: 1m 32s\tremaining: 3m 15s\n",
      "32:\tlearn: 0.9897312\ttest: 0.9728556\tbest: 0.9728556 (32)\ttotal: 1m 35s\tremaining: 3m 13s\n",
      "33:\tlearn: 0.9900147\ttest: 0.9732078\tbest: 0.9732078 (33)\ttotal: 1m 37s\tremaining: 3m 10s\n",
      "34:\tlearn: 0.9906228\ttest: 0.9735603\tbest: 0.9735603 (34)\ttotal: 1m 40s\tremaining: 3m 7s\n",
      "35:\tlearn: 0.9908257\ttest: 0.9725036\tbest: 0.9735603 (34)\ttotal: 1m 43s\tremaining: 3m 4s\n",
      "36:\tlearn: 0.9909880\ttest: 0.9725036\tbest: 0.9735603 (34)\ttotal: 1m 46s\tremaining: 3m 1s\n",
      "37:\tlearn: 0.9918413\ttest: 0.9742660\tbest: 0.9742660 (37)\ttotal: 1m 49s\tremaining: 2m 58s\n",
      "38:\tlearn: 0.9920446\ttest: 0.9739130\tbest: 0.9742660 (37)\ttotal: 1m 52s\tremaining: 2m 55s\n",
      "39:\tlearn: 0.9924923\ttest: 0.9732078\tbest: 0.9742660 (37)\ttotal: 1m 55s\tremaining: 2m 52s\n",
      "40:\tlearn: 0.9927367\ttest: 0.9746193\tbest: 0.9746193 (40)\ttotal: 1m 57s\tremaining: 2m 49s\n",
      "41:\tlearn: 0.9931034\ttest: 0.9756806\tbest: 0.9756806 (41)\ttotal: 2m\tremaining: 2m 46s\n",
      "42:\tlearn: 0.9935113\ttest: 0.9770992\tbest: 0.9770992 (42)\ttotal: 2m 3s\tremaining: 2m 43s\n",
      "43:\tlearn: 0.9940420\ttest: 0.9763894\tbest: 0.9770992 (42)\ttotal: 2m 6s\tremaining: 2m 40s\n",
      "44:\tlearn: 0.9945324\ttest: 0.9760349\tbest: 0.9770992 (42)\ttotal: 2m 9s\tremaining: 2m 37s\n",
      "45:\tlearn: 0.9946550\ttest: 0.9763894\tbest: 0.9770992 (42)\ttotal: 2m 12s\tremaining: 2m 35s\n",
      "46:\tlearn: 0.9953098\ttest: 0.9781659\tbest: 0.9781659 (46)\ttotal: 2m 14s\tremaining: 2m 32s\n",
      "47:\tlearn: 0.9958014\ttest: 0.9778101\tbest: 0.9781659 (46)\ttotal: 2m 17s\tremaining: 2m 29s\n",
      "48:\tlearn: 0.9960884\ttest: 0.9795918\tbest: 0.9795918 (48)\ttotal: 2m 20s\tremaining: 2m 26s\n",
      "49:\tlearn: 0.9967040\ttest: 0.9799490\tbest: 0.9799490 (49)\ttotal: 2m 23s\tremaining: 2m 23s\n",
      "50:\tlearn: 0.9967040\ttest: 0.9792350\tbest: 0.9799490 (49)\ttotal: 2m 26s\tremaining: 2m 20s\n",
      "51:\tlearn: 0.9969094\ttest: 0.9795918\tbest: 0.9799490 (49)\ttotal: 2m 29s\tremaining: 2m 17s\n",
      "52:\tlearn: 0.9972381\ttest: 0.9792350\tbest: 0.9799490 (49)\ttotal: 2m 32s\tremaining: 2m 14s\n",
      "53:\tlearn: 0.9972792\ttest: 0.9799490\tbest: 0.9799490 (49)\ttotal: 2m 35s\tremaining: 2m 12s\n",
      "54:\tlearn: 0.9975260\ttest: 0.9803063\tbest: 0.9803063 (54)\ttotal: 2m 37s\tremaining: 2m 9s\n",
      "55:\tlearn: 0.9976905\ttest: 0.9795918\tbest: 0.9803063 (54)\ttotal: 2m 40s\tremaining: 2m 6s\n",
      "56:\tlearn: 0.9980198\ttest: 0.9795918\tbest: 0.9803063 (54)\ttotal: 2m 43s\tremaining: 2m 3s\n",
      "57:\tlearn: 0.9980198\ttest: 0.9792350\tbest: 0.9803063 (54)\ttotal: 2m 46s\tremaining: 2m\n",
      "58:\tlearn: 0.9981433\ttest: 0.9792350\tbest: 0.9803063 (54)\ttotal: 2m 48s\tremaining: 1m 57s\n",
      "59:\tlearn: 0.9983493\ttest: 0.9795918\tbest: 0.9803063 (54)\ttotal: 2m 51s\tremaining: 1m 54s\n",
      "60:\tlearn: 0.9985141\ttest: 0.9792350\tbest: 0.9803063 (54)\ttotal: 2m 54s\tremaining: 1m 51s\n",
      "61:\tlearn: 0.9984729\ttest: 0.9788784\tbest: 0.9803063 (54)\ttotal: 2m 57s\tremaining: 1m 48s\n",
      "62:\tlearn: 0.9986790\ttest: 0.9785220\tbest: 0.9803063 (54)\ttotal: 3m\tremaining: 1m 45s\n",
      "63:\tlearn: 0.9988027\ttest: 0.9799490\tbest: 0.9803063 (54)\ttotal: 3m 2s\tremaining: 1m 42s\n",
      "64:\tlearn: 0.9989677\ttest: 0.9799490\tbest: 0.9803063 (54)\ttotal: 3m 5s\tremaining: 1m 40s\n",
      "65:\tlearn: 0.9990914\ttest: 0.9799490\tbest: 0.9803063 (54)\ttotal: 3m 8s\tremaining: 1m 37s\n",
      "66:\tlearn: 0.9991740\ttest: 0.9795918\tbest: 0.9803063 (54)\ttotal: 3m 11s\tremaining: 1m 34s\n",
      "67:\tlearn: 0.9993803\ttest: 0.9803063\tbest: 0.9803063 (54)\ttotal: 3m 14s\tremaining: 1m 31s\n",
      "68:\tlearn: 0.9993803\ttest: 0.9792350\tbest: 0.9803063 (54)\ttotal: 3m 17s\tremaining: 1m 28s\n",
      "69:\tlearn: 0.9995042\ttest: 0.9799490\tbest: 0.9803063 (54)\ttotal: 3m 20s\tremaining: 1m 25s\n",
      "70:\tlearn: 0.9996694\ttest: 0.9803063\tbest: 0.9803063 (54)\ttotal: 3m 22s\tremaining: 1m 22s\n",
      "71:\tlearn: 0.9996694\ttest: 0.9806640\tbest: 0.9806640 (71)\ttotal: 3m 25s\tremaining: 1m 20s\n",
      "72:\tlearn: 0.9997520\ttest: 0.9806640\tbest: 0.9806640 (71)\ttotal: 3m 28s\tremaining: 1m 17s\n",
      "73:\tlearn: 0.9997934\ttest: 0.9806640\tbest: 0.9806640 (71)\ttotal: 3m 31s\tremaining: 1m 14s\n",
      "74:\tlearn: 0.9998347\ttest: 0.9803063\tbest: 0.9806640 (71)\ttotal: 3m 34s\tremaining: 1m 11s\n",
      "75:\tlearn: 0.9997934\ttest: 0.9799490\tbest: 0.9806640 (71)\ttotal: 3m 36s\tremaining: 1m 8s\n",
      "76:\tlearn: 0.9998347\ttest: 0.9803063\tbest: 0.9806640 (71)\ttotal: 3m 39s\tremaining: 1m 5s\n",
      "77:\tlearn: 0.9999173\ttest: 0.9817385\tbest: 0.9817385 (77)\ttotal: 3m 42s\tremaining: 1m 2s\n",
      "78:\tlearn: 0.9999173\ttest: 0.9817385\tbest: 0.9817385 (77)\ttotal: 3m 45s\tremaining: 59.9s\n",
      "79:\tlearn: 0.9999173\ttest: 0.9813801\tbest: 0.9817385 (77)\ttotal: 3m 48s\tremaining: 57.1s\n",
      "80:\tlearn: 0.9999173\ttest: 0.9820972\tbest: 0.9820972 (80)\ttotal: 3m 51s\tremaining: 54.2s\n",
      "81:\tlearn: 0.9999587\ttest: 0.9828154\tbest: 0.9828154 (81)\ttotal: 3m 54s\tremaining: 51.4s\n",
      "82:\tlearn: 0.9999587\ttest: 0.9828154\tbest: 0.9828154 (81)\ttotal: 3m 56s\tremaining: 48.5s\n",
      "83:\tlearn: 1.0000000\ttest: 0.9831748\tbest: 0.9831748 (83)\ttotal: 3m 59s\tremaining: 45.6s\n",
      "84:\tlearn: 1.0000000\ttest: 0.9831748\tbest: 0.9831748 (83)\ttotal: 4m 2s\tremaining: 42.8s\n",
      "85:\tlearn: 1.0000000\ttest: 0.9831748\tbest: 0.9831748 (83)\ttotal: 4m 5s\tremaining: 39.9s\n",
      "86:\tlearn: 1.0000000\ttest: 0.9831748\tbest: 0.9831748 (83)\ttotal: 4m 7s\tremaining: 37s\n",
      "87:\tlearn: 1.0000000\ttest: 0.9835346\tbest: 0.9835346 (87)\ttotal: 4m 10s\tremaining: 34.2s\n",
      "88:\tlearn: 1.0000000\ttest: 0.9835346\tbest: 0.9835346 (87)\ttotal: 4m 13s\tremaining: 31.3s\n",
      "89:\tlearn: 1.0000000\ttest: 0.9835346\tbest: 0.9835346 (87)\ttotal: 4m 16s\tremaining: 28.5s\n",
      "90:\tlearn: 1.0000000\ttest: 0.9835346\tbest: 0.9835346 (87)\ttotal: 4m 19s\tremaining: 25.6s\n",
      "91:\tlearn: 1.0000000\ttest: 0.9835346\tbest: 0.9835346 (87)\ttotal: 4m 21s\tremaining: 22.8s\n",
      "92:\tlearn: 1.0000000\ttest: 0.9835346\tbest: 0.9835346 (87)\ttotal: 4m 24s\tremaining: 19.9s\n",
      "93:\tlearn: 1.0000000\ttest: 0.9838946\tbest: 0.9838946 (93)\ttotal: 4m 27s\tremaining: 17.1s\n",
      "94:\tlearn: 1.0000000\ttest: 0.9838946\tbest: 0.9838946 (93)\ttotal: 4m 30s\tremaining: 14.2s\n",
      "95:\tlearn: 1.0000000\ttest: 0.9838946\tbest: 0.9838946 (93)\ttotal: 4m 33s\tremaining: 11.4s\n",
      "96:\tlearn: 1.0000000\ttest: 0.9842549\tbest: 0.9842549 (96)\ttotal: 4m 36s\tremaining: 8.54s\n",
      "97:\tlearn: 1.0000000\ttest: 0.9842549\tbest: 0.9842549 (96)\ttotal: 4m 38s\tremaining: 5.69s\n",
      "98:\tlearn: 1.0000000\ttest: 0.9849762\tbest: 0.9849762 (98)\ttotal: 4m 41s\tremaining: 2.84s\n",
      "99:\tlearn: 1.0000000\ttest: 0.9853372\tbest: 0.9853372 (99)\ttotal: 4m 44s\tremaining: 0us\n",
      "\n",
      "bestTest = 0.9853372434\n",
      "bestIteration = 99\n",
      "\n",
      "Training on fold [1/30]\n",
      "0:\tlearn: 0.8461814\ttest: 0.8336949\tbest: 0.8336949 (0)\ttotal: 2.91s\tremaining: 4m 48s\n",
      "1:\tlearn: 0.8888347\ttest: 0.8817046\tbest: 0.8817046 (1)\ttotal: 5.88s\tremaining: 4m 48s\n",
      "2:\tlearn: 0.9077800\ttest: 0.8980335\tbest: 0.8980335 (2)\ttotal: 8.73s\tremaining: 4m 42s\n",
      "3:\tlearn: 0.9187118\ttest: 0.9068323\tbest: 0.9068323 (3)\ttotal: 11.7s\tremaining: 4m 39s\n",
      "4:\tlearn: 0.9271724\ttest: 0.9166972\tbest: 0.9166972 (4)\ttotal: 14.5s\tremaining: 4m 35s\n",
      "5:\tlearn: 0.9342030\ttest: 0.9258443\tbest: 0.9258443 (5)\ttotal: 17.3s\tremaining: 4m 31s\n",
      "6:\tlearn: 0.9396587\ttest: 0.9316176\tbest: 0.9316176 (6)\ttotal: 20.2s\tremaining: 4m 29s\n",
      "7:\tlearn: 0.9466108\ttest: 0.9381632\tbest: 0.9381632 (7)\ttotal: 23.2s\tremaining: 4m 27s\n",
      "8:\tlearn: 0.9511274\ttest: 0.9427634\tbest: 0.9427634 (8)\ttotal: 26s\tremaining: 4m 23s\n",
      "9:\tlearn: 0.9544145\ttest: 0.9440994\tbest: 0.9440994 (9)\ttotal: 28.9s\tremaining: 4m 19s\n",
      "10:\tlearn: 0.9608423\ttest: 0.9504012\tbest: 0.9504012 (10)\ttotal: 31.8s\tremaining: 4m 17s\n",
      "11:\tlearn: 0.9639979\ttest: 0.9543629\tbest: 0.9543629 (11)\ttotal: 34.8s\tremaining: 4m 15s\n",
      "12:\tlearn: 0.9647288\ttest: 0.9562363\tbest: 0.9562363 (12)\ttotal: 37.6s\tremaining: 4m 11s\n",
      "13:\tlearn: 0.9671468\ttest: 0.9593023\tbest: 0.9593023 (13)\ttotal: 40.5s\tremaining: 4m 8s\n",
      "14:\tlearn: 0.9693261\ttest: 0.9571532\tbest: 0.9593023 (13)\ttotal: 43.3s\tremaining: 4m 5s\n",
      "15:\tlearn: 0.9718241\ttest: 0.9622367\tbest: 0.9622367 (15)\ttotal: 46.2s\tremaining: 4m 2s\n",
      "16:\tlearn: 0.9734019\ttest: 0.9633394\tbest: 0.9633394 (16)\ttotal: 49.1s\tremaining: 3m 59s\n",
      "17:\tlearn: 0.9742800\ttest: 0.9640914\tbest: 0.9640914 (17)\ttotal: 51.9s\tremaining: 3m 56s\n",
      "18:\tlearn: 0.9747436\ttest: 0.9636892\tbest: 0.9640914 (17)\ttotal: 54.8s\tremaining: 3m 53s\n",
      "19:\tlearn: 0.9764935\ttest: 0.9644670\tbest: 0.9644670 (19)\ttotal: 57.8s\tremaining: 3m 51s\n",
      "20:\tlearn: 0.9790510\ttest: 0.9688631\tbest: 0.9688631 (20)\ttotal: 1m\tremaining: 3m 48s\n",
      "21:\tlearn: 0.9806499\ttest: 0.9699384\tbest: 0.9699384 (21)\ttotal: 1m 3s\tremaining: 3m 45s\n",
      "22:\tlearn: 0.9814860\ttest: 0.9706415\tbest: 0.9706415 (22)\ttotal: 1m 6s\tremaining: 3m 42s\n",
      "23:\tlearn: 0.9826158\ttest: 0.9721519\tbest: 0.9721519 (23)\ttotal: 1m 9s\tremaining: 3m 39s\n",
      "24:\tlearn: 0.9845352\ttest: 0.9739130\tbest: 0.9739130 (24)\ttotal: 1m 12s\tremaining: 3m 36s\n",
      "25:\tlearn: 0.9849762\ttest: 0.9735603\tbest: 0.9739130 (24)\ttotal: 1m 15s\tremaining: 3m 33s\n",
      "26:\tlearn: 0.9857387\ttest: 0.9732078\tbest: 0.9739130 (24)\ttotal: 1m 17s\tremaining: 3m 30s\n",
      "27:\tlearn: 0.9862612\ttest: 0.9735603\tbest: 0.9739130 (24)\ttotal: 1m 20s\tremaining: 3m 27s\n",
      "28:\tlearn: 0.9867841\ttest: 0.9732078\tbest: 0.9739130 (24)\ttotal: 1m 23s\tremaining: 3m 24s\n",
      "29:\tlearn: 0.9873480\ttest: 0.9739130\tbest: 0.9739130 (24)\ttotal: 1m 26s\tremaining: 3m 21s\n",
      "30:\tlearn: 0.9879528\ttest: 0.9732078\tbest: 0.9739130 (24)\ttotal: 1m 29s\tremaining: 3m 18s\n",
      "31:\tlearn: 0.9885180\ttest: 0.9739130\tbest: 0.9739130 (24)\ttotal: 1m 32s\tremaining: 3m 15s\n",
      "32:\tlearn: 0.9892456\ttest: 0.9739130\tbest: 0.9739130 (24)\ttotal: 1m 34s\tremaining: 3m 12s\n",
      "33:\tlearn: 0.9899337\ttest: 0.9742660\tbest: 0.9742660 (33)\ttotal: 1m 37s\tremaining: 3m 9s\n",
      "34:\tlearn: 0.9905011\ttest: 0.9749728\tbest: 0.9749728 (34)\ttotal: 1m 40s\tremaining: 3m 6s\n",
      "35:\tlearn: 0.9911098\ttest: 0.9756806\tbest: 0.9756806 (35)\ttotal: 1m 43s\tremaining: 3m 3s\n",
      "36:\tlearn: 0.9916380\ttest: 0.9756806\tbest: 0.9756806 (35)\ttotal: 1m 46s\tremaining: 3m\n",
      "37:\tlearn: 0.9918819\ttest: 0.9760349\tbest: 0.9760349 (37)\ttotal: 1m 48s\tremaining: 2m 57s\n",
      "38:\tlearn: 0.9924516\ttest: 0.9749728\tbest: 0.9760349 (37)\ttotal: 1m 51s\tremaining: 2m 54s\n",
      "39:\tlearn: 0.9928182\ttest: 0.9760349\tbest: 0.9760349 (37)\ttotal: 1m 54s\tremaining: 2m 51s\n",
      "40:\tlearn: 0.9933073\ttest: 0.9781659\tbest: 0.9781659 (40)\ttotal: 1m 57s\tremaining: 2m 49s\n",
      "41:\tlearn: 0.9941645\ttest: 0.9774545\tbest: 0.9781659 (40)\ttotal: 2m\tremaining: 2m 46s\n",
      "42:\tlearn: 0.9949823\ttest: 0.9770992\tbest: 0.9781659 (40)\ttotal: 2m 3s\tremaining: 2m 43s\n",
      "43:\tlearn: 0.9953917\ttest: 0.9767442\tbest: 0.9781659 (40)\ttotal: 2m 6s\tremaining: 2m 40s\n",
      "44:\tlearn: 0.9957195\ttest: 0.9767442\tbest: 0.9781659 (40)\ttotal: 2m 8s\tremaining: 2m 37s\n",
      "45:\tlearn: 0.9959244\ttest: 0.9767442\tbest: 0.9781659 (40)\ttotal: 2m 11s\tremaining: 2m 34s\n",
      "46:\tlearn: 0.9962115\ttest: 0.9763894\tbest: 0.9781659 (40)\ttotal: 2m 14s\tremaining: 2m 31s\n",
      "47:\tlearn: 0.9963346\ttest: 0.9767442\tbest: 0.9781659 (40)\ttotal: 2m 17s\tremaining: 2m 28s\n",
      "48:\tlearn: 0.9966630\ttest: 0.9774545\tbest: 0.9781659 (40)\ttotal: 2m 20s\tremaining: 2m 25s\n",
      "49:\tlearn: 0.9968683\ttest: 0.9770992\tbest: 0.9781659 (40)\ttotal: 2m 22s\tremaining: 2m 22s\n",
      "50:\tlearn: 0.9970326\ttest: 0.9778101\tbest: 0.9781659 (40)\ttotal: 2m 25s\tremaining: 2m 20s\n",
      "51:\tlearn: 0.9972381\ttest: 0.9785220\tbest: 0.9785220 (51)\ttotal: 2m 28s\tremaining: 2m 17s\n",
      "52:\tlearn: 0.9975260\ttest: 0.9785220\tbest: 0.9785220 (51)\ttotal: 2m 31s\tremaining: 2m 14s\n",
      "53:\tlearn: 0.9975260\ttest: 0.9778101\tbest: 0.9785220 (51)\ttotal: 2m 34s\tremaining: 2m 11s\n",
      "54:\tlearn: 0.9979786\ttest: 0.9778101\tbest: 0.9785220 (51)\ttotal: 2m 37s\tremaining: 2m 8s\n",
      "55:\tlearn: 0.9979786\ttest: 0.9774545\tbest: 0.9785220 (51)\ttotal: 2m 40s\tremaining: 2m 5s\n",
      "56:\tlearn: 0.9981433\ttest: 0.9781659\tbest: 0.9785220 (51)\ttotal: 2m 42s\tremaining: 2m 2s\n",
      "57:\tlearn: 0.9983081\ttest: 0.9788784\tbest: 0.9788784 (57)\ttotal: 2m 45s\tremaining: 1m 59s\n",
      "58:\tlearn: 0.9982257\ttest: 0.9785220\tbest: 0.9788784 (57)\ttotal: 2m 48s\tremaining: 1m 56s\n",
      "59:\tlearn: 0.9983493\ttest: 0.9788784\tbest: 0.9788784 (57)\ttotal: 2m 51s\tremaining: 1m 54s\n",
      "60:\tlearn: 0.9986378\ttest: 0.9788784\tbest: 0.9788784 (57)\ttotal: 2m 54s\tremaining: 1m 51s\n",
      "61:\tlearn: 0.9986790\ttest: 0.9792350\tbest: 0.9792350 (61)\ttotal: 2m 57s\tremaining: 1m 48s\n",
      "62:\tlearn: 0.9987202\ttest: 0.9792350\tbest: 0.9792350 (61)\ttotal: 2m 59s\tremaining: 1m 45s\n",
      "63:\tlearn: 0.9988027\ttest: 0.9781659\tbest: 0.9792350 (61)\ttotal: 3m 2s\tremaining: 1m 42s\n",
      "64:\tlearn: 0.9989264\ttest: 0.9785220\tbest: 0.9792350 (61)\ttotal: 3m 5s\tremaining: 1m 39s\n",
      "65:\tlearn: 0.9990089\ttest: 0.9792350\tbest: 0.9792350 (61)\ttotal: 3m 8s\tremaining: 1m 37s\n",
      "66:\tlearn: 0.9990914\ttest: 0.9799490\tbest: 0.9799490 (66)\ttotal: 3m 11s\tremaining: 1m 34s\n",
      "67:\tlearn: 0.9992152\ttest: 0.9806640\tbest: 0.9806640 (67)\ttotal: 3m 14s\tremaining: 1m 31s\n",
      "68:\tlearn: 0.9992565\ttest: 0.9810219\tbest: 0.9810219 (68)\ttotal: 3m 16s\tremaining: 1m 28s\n",
      "69:\tlearn: 0.9992978\ttest: 0.9806640\tbest: 0.9810219 (68)\ttotal: 3m 19s\tremaining: 1m 25s\n",
      "70:\tlearn: 0.9992978\ttest: 0.9803063\tbest: 0.9810219 (68)\ttotal: 3m 22s\tremaining: 1m 22s\n",
      "71:\tlearn: 0.9994216\ttest: 0.9817385\tbest: 0.9817385 (71)\ttotal: 3m 25s\tremaining: 1m 19s\n",
      "72:\tlearn: 0.9994629\ttest: 0.9820972\tbest: 0.9820972 (72)\ttotal: 3m 27s\tremaining: 1m 16s\n",
      "73:\tlearn: 0.9994629\ttest: 0.9820972\tbest: 0.9820972 (72)\ttotal: 3m 30s\tremaining: 1m 14s\n",
      "74:\tlearn: 0.9994629\ttest: 0.9824561\tbest: 0.9824561 (74)\ttotal: 3m 33s\tremaining: 1m 11s\n",
      "75:\tlearn: 0.9994629\ttest: 0.9831748\tbest: 0.9831748 (75)\ttotal: 3m 36s\tremaining: 1m 8s\n",
      "76:\tlearn: 0.9995868\ttest: 0.9828154\tbest: 0.9831748 (75)\ttotal: 3m 38s\tremaining: 1m 5s\n",
      "77:\tlearn: 0.9996281\ttest: 0.9824561\tbest: 0.9831748 (75)\ttotal: 3m 41s\tremaining: 1m 2s\n",
      "78:\tlearn: 0.9997520\ttest: 0.9813801\tbest: 0.9831748 (75)\ttotal: 3m 44s\tremaining: 59.7s\n",
      "79:\tlearn: 0.9997934\ttest: 0.9824561\tbest: 0.9831748 (75)\ttotal: 3m 47s\tremaining: 56.8s\n",
      "80:\tlearn: 0.9997934\ttest: 0.9820972\tbest: 0.9831748 (75)\ttotal: 3m 50s\tremaining: 54s\n",
      "81:\tlearn: 0.9997934\ttest: 0.9813801\tbest: 0.9831748 (75)\ttotal: 3m 52s\tremaining: 51.1s\n",
      "82:\tlearn: 0.9998347\ttest: 0.9813801\tbest: 0.9831748 (75)\ttotal: 3m 55s\tremaining: 48.2s\n",
      "83:\tlearn: 0.9998347\ttest: 0.9813801\tbest: 0.9831748 (75)\ttotal: 3m 58s\tremaining: 45.4s\n",
      "84:\tlearn: 0.9998760\ttest: 0.9810219\tbest: 0.9831748 (75)\ttotal: 4m\tremaining: 42.5s\n",
      "85:\tlearn: 0.9998760\ttest: 0.9813801\tbest: 0.9831748 (75)\ttotal: 4m 3s\tremaining: 39.7s\n",
      "86:\tlearn: 0.9998760\ttest: 0.9820972\tbest: 0.9831748 (75)\ttotal: 4m 6s\tremaining: 36.8s\n",
      "87:\tlearn: 0.9999587\ttest: 0.9824561\tbest: 0.9831748 (75)\ttotal: 4m 9s\tremaining: 34s\n",
      "88:\tlearn: 0.9999173\ttest: 0.9813801\tbest: 0.9831748 (75)\ttotal: 4m 12s\tremaining: 31.2s\n",
      "89:\tlearn: 0.9999173\ttest: 0.9820972\tbest: 0.9831748 (75)\ttotal: 4m 14s\tremaining: 28.3s\n",
      "90:\tlearn: 0.9999587\ttest: 0.9820972\tbest: 0.9831748 (75)\ttotal: 4m 17s\tremaining: 25.5s\n",
      "91:\tlearn: 0.9999587\ttest: 0.9820972\tbest: 0.9831748 (75)\ttotal: 4m 20s\tremaining: 22.6s\n",
      "92:\tlearn: 0.9999587\ttest: 0.9820972\tbest: 0.9831748 (75)\ttotal: 4m 23s\tremaining: 19.8s\n",
      "93:\tlearn: 1.0000000\ttest: 0.9817385\tbest: 0.9831748 (75)\ttotal: 4m 26s\tremaining: 17s\n",
      "94:\tlearn: 1.0000000\ttest: 0.9824561\tbest: 0.9831748 (75)\ttotal: 4m 28s\tremaining: 14.2s\n",
      "95:\tlearn: 1.0000000\ttest: 0.9820972\tbest: 0.9831748 (75)\ttotal: 4m 31s\tremaining: 11.3s\n",
      "96:\tlearn: 1.0000000\ttest: 0.9820972\tbest: 0.9831748 (75)\ttotal: 4m 34s\tremaining: 8.5s\n",
      "97:\tlearn: 1.0000000\ttest: 0.9817385\tbest: 0.9831748 (75)\ttotal: 4m 37s\tremaining: 5.67s\n",
      "98:\tlearn: 1.0000000\ttest: 0.9824561\tbest: 0.9831748 (75)\ttotal: 4m 40s\tremaining: 2.83s\n",
      "99:\tlearn: 1.0000000\ttest: 0.9828154\tbest: 0.9831748 (75)\ttotal: 4m 43s\tremaining: 0us\n",
      "\n",
      "bestTest = 0.9831748354\n",
      "bestIteration = 75\n",
      "\n",
      "Training on fold [2/30]\n",
      "0:\tlearn: 0.8501622\ttest: 0.8367568\tbest: 0.8367568 (0)\ttotal: 2.87s\tremaining: 4m 44s\n",
      "1:\tlearn: 0.8860914\ttest: 0.8637363\tbest: 0.8637363 (1)\ttotal: 5.89s\tremaining: 4m 48s\n",
      "2:\tlearn: 0.9094386\ttest: 0.8876692\tbest: 0.8876692 (2)\ttotal: 8.9s\tremaining: 4m 47s\n",
      "3:\tlearn: 0.9212570\ttest: 0.9017172\tbest: 0.9017172 (3)\ttotal: 11.8s\tremaining: 4m 42s\n",
      "4:\tlearn: 0.9310961\ttest: 0.9094891\tbest: 0.9094891 (4)\ttotal: 14.8s\tremaining: 4m 40s\n",
      "5:\tlearn: 0.9404810\ttest: 0.9200581\tbest: 0.9200581 (5)\ttotal: 17.6s\tremaining: 4m 35s\n",
      "6:\tlearn: 0.9477567\ttest: 0.9288308\tbest: 0.9288308 (6)\ttotal: 20.4s\tremaining: 4m 31s\n",
      "7:\tlearn: 0.9528698\ttest: 0.9323689\tbest: 0.9323689 (7)\ttotal: 23.3s\tremaining: 4m 27s\n",
      "8:\tlearn: 0.9580049\ttest: 0.9377263\tbest: 0.9377263 (8)\ttotal: 26.2s\tremaining: 4m 25s\n",
      "9:\tlearn: 0.9601198\ttest: 0.9408348\tbest: 0.9408348 (9)\ttotal: 29.2s\tremaining: 4m 22s\n",
      "10:\tlearn: 0.9646383\ttest: 0.9407514\tbest: 0.9408348 (9)\ttotal: 32.2s\tremaining: 4m 20s\n",
      "11:\tlearn: 0.9667625\ttest: 0.9435601\tbest: 0.9435601 (11)\ttotal: 35.2s\tremaining: 4m 17s\n",
      "12:\tlearn: 0.9698832\ttest: 0.9441844\tbest: 0.9441844 (12)\ttotal: 38s\tremaining: 4m 14s\n",
      "13:\tlearn: 0.9727872\ttest: 0.9489576\tbest: 0.9489576 (13)\ttotal: 40.9s\tremaining: 4m 11s\n",
      "14:\tlearn: 0.9739792\ttest: 0.9510791\tbest: 0.9510791 (14)\ttotal: 43.8s\tremaining: 4m 8s\n",
      "15:\tlearn: 0.9758012\ttest: 0.9529623\tbest: 0.9529623 (15)\ttotal: 46.6s\tremaining: 4m 4s\n",
      "16:\tlearn: 0.9769380\ttest: 0.9544966\tbest: 0.9544966 (16)\ttotal: 49.6s\tremaining: 4m 2s\n",
      "17:\tlearn: 0.9776195\ttest: 0.9555874\tbest: 0.9555874 (17)\ttotal: 52.3s\tremaining: 3m 58s\n",
      "18:\tlearn: 0.9788285\ttest: 0.9583931\tbest: 0.9583931 (18)\ttotal: 55.2s\tremaining: 3m 55s\n",
      "19:\tlearn: 0.9796613\ttest: 0.9583931\tbest: 0.9583931 (18)\ttotal: 58s\tremaining: 3m 51s\n",
      "20:\tlearn: 0.9807341\ttest: 0.9594255\tbest: 0.9594255 (20)\ttotal: 1m\tremaining: 3m 48s\n",
      "21:\tlearn: 0.9812515\ttest: 0.9608055\tbest: 0.9608055 (21)\ttotal: 1m 3s\tremaining: 3m 45s\n",
      "22:\tlearn: 0.9822879\ttest: 0.9614969\tbest: 0.9614969 (22)\ttotal: 1m 6s\tremaining: 3m 42s\n",
      "23:\tlearn: 0.9827670\ttest: 0.9628829\tbest: 0.9628829 (23)\ttotal: 1m 9s\tremaining: 3m 40s\n",
      "24:\tlearn: 0.9838867\ttest: 0.9632300\tbest: 0.9632300 (24)\ttotal: 1m 12s\tremaining: 3m 37s\n",
      "25:\tlearn: 0.9852923\ttest: 0.9675325\tbest: 0.9675325 (25)\ttotal: 1m 15s\tremaining: 3m 34s\n",
      "26:\tlearn: 0.9867396\ttest: 0.9678816\tbest: 0.9678816 (26)\ttotal: 1m 18s\tremaining: 3m 31s\n",
      "27:\tlearn: 0.9873035\ttest: 0.9689306\tbest: 0.9689306 (27)\ttotal: 1m 21s\tremaining: 3m 28s\n",
      "28:\tlearn: 0.9880296\ttest: 0.9696312\tbest: 0.9696312 (28)\ttotal: 1m 23s\tremaining: 3m 25s\n",
      "29:\tlearn: 0.9884738\ttest: 0.9692808\tbest: 0.9696312 (28)\ttotal: 1m 26s\tremaining: 3m 22s\n",
      "30:\tlearn: 0.9890802\ttest: 0.9685807\tbest: 0.9696312 (28)\ttotal: 1m 30s\tremaining: 3m 22s\n",
      "31:\tlearn: 0.9893634\ttest: 0.9703329\tbest: 0.9703329 (31)\ttotal: 1m 34s\tremaining: 3m 19s\n",
      "32:\tlearn: 0.9901331\ttest: 0.9696312\tbest: 0.9703329 (31)\ttotal: 1m 37s\tremaining: 3m 17s\n",
      "33:\tlearn: 0.9911475\ttest: 0.9699819\tbest: 0.9703329 (31)\ttotal: 1m 40s\tremaining: 3m 14s\n",
      "34:\tlearn: 0.9913913\ttest: 0.9696312\tbest: 0.9703329 (31)\ttotal: 1m 43s\tremaining: 3m 11s\n",
      "35:\tlearn: 0.9920420\ttest: 0.9706840\tbest: 0.9706840 (35)\ttotal: 1m 46s\tremaining: 3m 9s\n",
      "36:\tlearn: 0.9923702\ttest: 0.9725036\tbest: 0.9725036 (36)\ttotal: 1m 49s\tremaining: 3m 6s\n",
      "37:\tlearn: 0.9930627\ttest: 0.9714492\tbest: 0.9725036 (36)\ttotal: 1m 52s\tremaining: 3m 3s\n",
      "38:\tlearn: 0.9935521\ttest: 0.9721519\tbest: 0.9725036 (36)\ttotal: 1m 55s\tremaining: 3m\n",
      "39:\tlearn: 0.9938786\ttest: 0.9732078\tbest: 0.9732078 (39)\ttotal: 1m 58s\tremaining: 2m 57s\n",
      "40:\tlearn: 0.9941237\ttest: 0.9732078\tbest: 0.9732078 (39)\ttotal: 2m 1s\tremaining: 2m 54s\n",
      "41:\tlearn: 0.9948187\ttest: 0.9728556\tbest: 0.9732078 (39)\ttotal: 2m 4s\tremaining: 2m 51s\n",
      "42:\tlearn: 0.9950232\ttest: 0.9728556\tbest: 0.9732078 (39)\ttotal: 2m 6s\tremaining: 2m 48s\n",
      "43:\tlearn: 0.9950642\ttest: 0.9746193\tbest: 0.9746193 (43)\ttotal: 2m 9s\tremaining: 2m 45s\n",
      "44:\tlearn: 0.9954327\ttest: 0.9749728\tbest: 0.9749728 (44)\ttotal: 2m 12s\tremaining: 2m 41s\n",
      "45:\tlearn: 0.9957604\ttest: 0.9756806\tbest: 0.9756806 (45)\ttotal: 2m 15s\tremaining: 2m 38s\n",
      "46:\tlearn: 0.9960884\ttest: 0.9749728\tbest: 0.9756806 (45)\ttotal: 2m 18s\tremaining: 2m 35s\n",
      "47:\tlearn: 0.9966219\ttest: 0.9756806\tbest: 0.9756806 (45)\ttotal: 2m 21s\tremaining: 2m 32s\n",
      "48:\tlearn: 0.9967862\ttest: 0.9760349\tbest: 0.9760349 (48)\ttotal: 2m 24s\tremaining: 2m 30s\n",
      "49:\tlearn: 0.9970326\ttest: 0.9760349\tbest: 0.9760349 (48)\ttotal: 2m 27s\tremaining: 2m 27s\n",
      "50:\tlearn: 0.9971148\ttest: 0.9763894\tbest: 0.9763894 (50)\ttotal: 2m 30s\tremaining: 2m 24s\n",
      "51:\tlearn: 0.9972792\ttest: 0.9770992\tbest: 0.9770992 (51)\ttotal: 2m 32s\tremaining: 2m 21s\n",
      "52:\tlearn: 0.9973615\ttest: 0.9770992\tbest: 0.9770992 (51)\ttotal: 2m 35s\tremaining: 2m 18s\n",
      "53:\tlearn: 0.9974437\ttest: 0.9770992\tbest: 0.9770992 (51)\ttotal: 2m 38s\tremaining: 2m 15s\n",
      "54:\tlearn: 0.9977317\ttest: 0.9774545\tbest: 0.9774545 (54)\ttotal: 2m 41s\tremaining: 2m 12s\n",
      "55:\tlearn: 0.9981845\ttest: 0.9781659\tbest: 0.9781659 (55)\ttotal: 2m 44s\tremaining: 2m 9s\n",
      "56:\tlearn: 0.9983081\ttest: 0.9778101\tbest: 0.9781659 (55)\ttotal: 2m 47s\tremaining: 2m 6s\n",
      "57:\tlearn: 0.9983493\ttest: 0.9778101\tbest: 0.9781659 (55)\ttotal: 2m 49s\tremaining: 2m 3s\n",
      "58:\tlearn: 0.9985553\ttest: 0.9788784\tbest: 0.9788784 (58)\ttotal: 2m 52s\tremaining: 2m\n",
      "59:\tlearn: 0.9986790\ttest: 0.9778101\tbest: 0.9788784 (58)\ttotal: 2m 55s\tremaining: 1m 57s\n",
      "60:\tlearn: 0.9986790\ttest: 0.9781659\tbest: 0.9788784 (58)\ttotal: 2m 58s\tremaining: 1m 54s\n",
      "61:\tlearn: 0.9986378\ttest: 0.9788784\tbest: 0.9788784 (58)\ttotal: 3m 1s\tremaining: 1m 51s\n",
      "62:\tlearn: 0.9988439\ttest: 0.9803063\tbest: 0.9803063 (62)\ttotal: 3m 4s\tremaining: 1m 48s\n",
      "63:\tlearn: 0.9990502\ttest: 0.9799490\tbest: 0.9803063 (62)\ttotal: 3m 7s\tremaining: 1m 45s\n",
      "64:\tlearn: 0.9991327\ttest: 0.9803063\tbest: 0.9803063 (62)\ttotal: 3m 10s\tremaining: 1m 42s\n",
      "65:\tlearn: 0.9991327\ttest: 0.9799490\tbest: 0.9803063 (62)\ttotal: 3m 13s\tremaining: 1m 39s\n",
      "66:\tlearn: 0.9992565\ttest: 0.9795918\tbest: 0.9803063 (62)\ttotal: 3m 16s\tremaining: 1m 36s\n",
      "67:\tlearn: 0.9993391\ttest: 0.9799490\tbest: 0.9803063 (62)\ttotal: 3m 18s\tremaining: 1m 33s\n",
      "68:\tlearn: 0.9993803\ttest: 0.9803063\tbest: 0.9803063 (62)\ttotal: 3m 21s\tremaining: 1m 30s\n",
      "69:\tlearn: 0.9993803\ttest: 0.9806640\tbest: 0.9806640 (69)\ttotal: 3m 24s\tremaining: 1m 27s\n",
      "70:\tlearn: 0.9994216\ttest: 0.9817385\tbest: 0.9817385 (70)\ttotal: 3m 27s\tremaining: 1m 24s\n",
      "71:\tlearn: 0.9995455\ttest: 0.9806640\tbest: 0.9817385 (70)\ttotal: 3m 30s\tremaining: 1m 21s\n",
      "72:\tlearn: 0.9995868\ttest: 0.9806640\tbest: 0.9817385 (70)\ttotal: 3m 33s\tremaining: 1m 18s\n",
      "73:\tlearn: 0.9996694\ttest: 0.9813801\tbest: 0.9817385 (70)\ttotal: 3m 36s\tremaining: 1m 15s\n",
      "74:\tlearn: 0.9997107\ttest: 0.9813801\tbest: 0.9817385 (70)\ttotal: 3m 39s\tremaining: 1m 13s\n",
      "75:\tlearn: 0.9997934\ttest: 0.9817385\tbest: 0.9817385 (70)\ttotal: 3m 41s\tremaining: 1m 10s\n",
      "76:\tlearn: 0.9997934\ttest: 0.9817385\tbest: 0.9817385 (70)\ttotal: 3m 44s\tremaining: 1m 7s\n",
      "77:\tlearn: 0.9997520\ttest: 0.9817385\tbest: 0.9817385 (70)\ttotal: 3m 47s\tremaining: 1m 4s\n",
      "78:\tlearn: 0.9998347\ttest: 0.9817385\tbest: 0.9817385 (70)\ttotal: 3m 50s\tremaining: 1m 1s\n",
      "79:\tlearn: 0.9998347\ttest: 0.9813801\tbest: 0.9817385 (70)\ttotal: 3m 53s\tremaining: 58.4s\n",
      "80:\tlearn: 0.9999173\ttest: 0.9813801\tbest: 0.9817385 (70)\ttotal: 3m 56s\tremaining: 55.4s\n",
      "81:\tlearn: 0.9999173\ttest: 0.9813801\tbest: 0.9817385 (70)\ttotal: 3m 59s\tremaining: 52.5s\n",
      "82:\tlearn: 0.9999173\ttest: 0.9813801\tbest: 0.9817385 (70)\ttotal: 4m 2s\tremaining: 49.6s\n",
      "83:\tlearn: 0.9999173\ttest: 0.9813801\tbest: 0.9817385 (70)\ttotal: 4m 4s\tremaining: 46.6s\n",
      "84:\tlearn: 0.9999173\ttest: 0.9813801\tbest: 0.9817385 (70)\ttotal: 4m 7s\tremaining: 43.7s\n",
      "85:\tlearn: 0.9999587\ttest: 0.9810219\tbest: 0.9817385 (70)\ttotal: 4m 10s\tremaining: 40.8s\n",
      "86:\tlearn: 0.9999587\ttest: 0.9813801\tbest: 0.9817385 (70)\ttotal: 4m 13s\tremaining: 37.9s\n",
      "87:\tlearn: 0.9999587\ttest: 0.9817385\tbest: 0.9817385 (70)\ttotal: 4m 16s\tremaining: 35s\n",
      "88:\tlearn: 0.9999587\ttest: 0.9820972\tbest: 0.9820972 (88)\ttotal: 4m 19s\tremaining: 32s\n",
      "89:\tlearn: 0.9999587\ttest: 0.9820972\tbest: 0.9820972 (88)\ttotal: 4m 22s\tremaining: 29.1s\n",
      "90:\tlearn: 0.9999587\ttest: 0.9820972\tbest: 0.9820972 (88)\ttotal: 4m 24s\tremaining: 26.2s\n",
      "91:\tlearn: 0.9999587\ttest: 0.9820972\tbest: 0.9820972 (88)\ttotal: 4m 27s\tremaining: 23.3s\n",
      "92:\tlearn: 0.9999587\ttest: 0.9820972\tbest: 0.9820972 (88)\ttotal: 4m 30s\tremaining: 20.4s\n",
      "93:\tlearn: 0.9999587\ttest: 0.9824561\tbest: 0.9824561 (93)\ttotal: 4m 33s\tremaining: 17.5s\n",
      "94:\tlearn: 0.9999587\ttest: 0.9820972\tbest: 0.9824561 (93)\ttotal: 4m 36s\tremaining: 14.6s\n",
      "95:\tlearn: 0.9999587\ttest: 0.9824561\tbest: 0.9824561 (93)\ttotal: 4m 39s\tremaining: 11.6s\n",
      "96:\tlearn: 0.9999587\ttest: 0.9820972\tbest: 0.9824561 (93)\ttotal: 4m 42s\tremaining: 8.73s\n",
      "97:\tlearn: 0.9999587\ttest: 0.9824561\tbest: 0.9824561 (93)\ttotal: 4m 45s\tremaining: 5.82s\n",
      "98:\tlearn: 0.9999587\ttest: 0.9824561\tbest: 0.9824561 (93)\ttotal: 4m 47s\tremaining: 2.91s\n",
      "99:\tlearn: 0.9999587\ttest: 0.9824561\tbest: 0.9824561 (93)\ttotal: 4m 50s\tremaining: 0us\n",
      "\n",
      "bestTest = 0.9824561404\n",
      "bestIteration = 93\n",
      "\n",
      "Training on fold [3/30]\n",
      "0:\tlearn: 0.8498572\ttest: 0.8250634\tbest: 0.8250634 (0)\ttotal: 3.03s\tremaining: 5m\n",
      "1:\tlearn: 0.8844842\ttest: 0.8602860\tbest: 0.8602860 (1)\ttotal: 5.99s\tremaining: 4m 53s\n",
      "2:\tlearn: 0.9093060\ttest: 0.8807947\tbest: 0.8807947 (2)\ttotal: 8.96s\tremaining: 4m 49s\n",
      "3:\tlearn: 0.9237033\ttest: 0.9027778\tbest: 0.9027778 (3)\ttotal: 11.9s\tremaining: 4m 46s\n",
      "4:\tlearn: 0.9340052\ttest: 0.9141615\tbest: 0.9141615 (4)\ttotal: 15s\tremaining: 4m 44s\n",
      "5:\tlearn: 0.9427549\ttest: 0.9264759\tbest: 0.9264759 (5)\ttotal: 18s\tremaining: 4m 41s\n",
      "6:\tlearn: 0.9499756\ttest: 0.9336219\tbest: 0.9336219 (6)\ttotal: 20.9s\tremaining: 4m 38s\n",
      "7:\tlearn: 0.9573452\ttest: 0.9415162\tbest: 0.9415162 (7)\ttotal: 24s\tremaining: 4m 35s\n",
      "8:\tlearn: 0.9609287\ttest: 0.9430836\tbest: 0.9430836 (8)\ttotal: 26.9s\tremaining: 4m 31s\n",
      "9:\tlearn: 0.9629839\ttest: 0.9422732\tbest: 0.9430836 (8)\ttotal: 29.8s\tremaining: 4m 28s\n",
      "10:\tlearn: 0.9652581\ttest: 0.9460907\tbest: 0.9460907 (10)\ttotal: 32.8s\tremaining: 4m 25s\n",
      "11:\tlearn: 0.9684559\ttest: 0.9510889\tbest: 0.9510889 (11)\ttotal: 35.7s\tremaining: 4m 22s\n",
      "12:\tlearn: 0.9698880\ttest: 0.9510189\tbest: 0.9510889 (11)\ttotal: 38.6s\tremaining: 4m 18s\n",
      "13:\tlearn: 0.9716387\ttest: 0.9490196\tbest: 0.9510889 (11)\ttotal: 41.5s\tremaining: 4m 15s\n",
      "14:\tlearn: 0.9734363\ttest: 0.9510889\tbest: 0.9510889 (11)\ttotal: 44.5s\tremaining: 4m 12s\n",
      "15:\tlearn: 0.9742739\ttest: 0.9538792\tbest: 0.9538792 (15)\ttotal: 47.4s\tremaining: 4m 9s\n",
      "16:\tlearn: 0.9763206\ttest: 0.9543509\tbest: 0.9543509 (16)\ttotal: 50.4s\tremaining: 4m 5s\n",
      "17:\tlearn: 0.9763767\ttest: 0.9546267\tbest: 0.9546267 (17)\ttotal: 53.3s\tremaining: 4m 2s\n",
      "18:\tlearn: 0.9785905\ttest: 0.9570815\tbest: 0.9570815 (18)\ttotal: 56.3s\tremaining: 3m 59s\n",
      "19:\tlearn: 0.9792258\ttest: 0.9584527\tbest: 0.9584527 (19)\ttotal: 59.2s\tremaining: 3m 56s\n",
      "20:\tlearn: 0.9806279\ttest: 0.9612347\tbest: 0.9612347 (20)\ttotal: 1m 2s\tremaining: 3m 53s\n",
      "21:\tlearn: 0.9811459\ttest: 0.9619253\tbest: 0.9619253 (21)\ttotal: 1m 4s\tremaining: 3m 50s\n",
      "22:\tlearn: 0.9826317\ttest: 0.9626437\tbest: 0.9626437 (22)\ttotal: 1m 7s\tremaining: 3m 47s\n",
      "23:\tlearn: 0.9836319\ttest: 0.9643757\tbest: 0.9643757 (23)\ttotal: 1m 10s\tremaining: 3m 44s\n",
      "24:\tlearn: 0.9841128\ttest: 0.9647228\tbest: 0.9647228 (24)\ttotal: 1m 13s\tremaining: 3m 41s\n",
      "25:\tlearn: 0.9849152\ttest: 0.9640288\tbest: 0.9647228 (24)\ttotal: 1m 16s\tremaining: 3m 38s\n",
      "26:\tlearn: 0.9858454\ttest: 0.9651205\tbest: 0.9651205 (26)\ttotal: 1m 19s\tremaining: 3m 34s\n",
      "27:\tlearn: 0.9866503\ttest: 0.9668588\tbest: 0.9668588 (27)\ttotal: 1m 22s\tremaining: 3m 31s\n",
      "28:\tlearn: 0.9871339\ttest: 0.9668588\tbest: 0.9668588 (27)\ttotal: 1m 25s\tremaining: 3m 29s\n",
      "29:\tlearn: 0.9883564\ttest: 0.9682997\tbest: 0.9682997 (29)\ttotal: 1m 28s\tremaining: 3m 25s\n",
      "30:\tlearn: 0.9890838\ttest: 0.9676026\tbest: 0.9682997 (29)\ttotal: 1m 31s\tremaining: 3m 23s\n",
      "31:\tlearn: 0.9895693\ttest: 0.9686486\tbest: 0.9686486 (31)\ttotal: 1m 34s\tremaining: 3m 20s\n",
      "32:\tlearn: 0.9905011\ttest: 0.9696970\tbest: 0.9696970 (32)\ttotal: 1m 37s\tremaining: 3m 17s\n",
      "33:\tlearn: 0.9906634\ttest: 0.9686486\tbest: 0.9696970 (32)\ttotal: 1m 39s\tremaining: 3m 13s\n",
      "34:\tlearn: 0.9913129\ttest: 0.9700469\tbest: 0.9700469 (34)\ttotal: 1m 42s\tremaining: 3m 11s\n",
      "35:\tlearn: 0.9921260\ttest: 0.9686486\tbest: 0.9700469 (34)\ttotal: 1m 45s\tremaining: 3m 7s\n",
      "36:\tlearn: 0.9924109\ttest: 0.9686486\tbest: 0.9700469 (34)\ttotal: 1m 48s\tremaining: 3m 4s\n",
      "37:\tlearn: 0.9926552\ttest: 0.9710983\tbest: 0.9710983 (37)\ttotal: 1m 51s\tremaining: 3m 1s\n",
      "38:\tlearn: 0.9933889\ttest: 0.9718004\tbest: 0.9718004 (38)\ttotal: 1m 54s\tremaining: 2m 58s\n",
      "39:\tlearn: 0.9935521\ttest: 0.9714492\tbest: 0.9718004 (38)\ttotal: 1m 57s\tremaining: 2m 55s\n",
      "40:\tlearn: 0.9939195\ttest: 0.9718004\tbest: 0.9718004 (38)\ttotal: 2m\tremaining: 2m 52s\n",
      "41:\tlearn: 0.9942871\ttest: 0.9721519\tbest: 0.9721519 (41)\ttotal: 2m 3s\tremaining: 2m 49s\n",
      "42:\tlearn: 0.9947777\ttest: 0.9728556\tbest: 0.9728556 (42)\ttotal: 2m 5s\tremaining: 2m 46s\n",
      "43:\tlearn: 0.9949005\ttest: 0.9728556\tbest: 0.9728556 (42)\ttotal: 2m 8s\tremaining: 2m 43s\n",
      "44:\tlearn: 0.9951460\ttest: 0.9735603\tbest: 0.9735603 (44)\ttotal: 2m 11s\tremaining: 2m 41s\n",
      "45:\tlearn: 0.9953917\ttest: 0.9742660\tbest: 0.9742660 (45)\ttotal: 2m 14s\tremaining: 2m 38s\n",
      "46:\tlearn: 0.9960474\ttest: 0.9746193\tbest: 0.9746193 (46)\ttotal: 2m 17s\tremaining: 2m 35s\n",
      "47:\tlearn: 0.9962525\ttest: 0.9753266\tbest: 0.9753266 (47)\ttotal: 2m 20s\tremaining: 2m 32s\n",
      "48:\tlearn: 0.9964987\ttest: 0.9756806\tbest: 0.9756806 (48)\ttotal: 2m 23s\tremaining: 2m 29s\n",
      "49:\tlearn: 0.9969916\ttest: 0.9760349\tbest: 0.9760349 (49)\ttotal: 2m 26s\tremaining: 2m 26s\n",
      "50:\tlearn: 0.9971559\ttest: 0.9756806\tbest: 0.9760349 (49)\ttotal: 2m 28s\tremaining: 2m 23s\n",
      "51:\tlearn: 0.9972381\ttest: 0.9760349\tbest: 0.9760349 (49)\ttotal: 2m 31s\tremaining: 2m 20s\n",
      "52:\tlearn: 0.9975671\ttest: 0.9753266\tbest: 0.9760349 (49)\ttotal: 2m 34s\tremaining: 2m 17s\n",
      "53:\tlearn: 0.9977317\ttest: 0.9770992\tbest: 0.9770992 (53)\ttotal: 2m 37s\tremaining: 2m 14s\n",
      "54:\tlearn: 0.9977317\ttest: 0.9770992\tbest: 0.9770992 (53)\ttotal: 2m 40s\tremaining: 2m 11s\n",
      "55:\tlearn: 0.9979375\ttest: 0.9778101\tbest: 0.9778101 (55)\ttotal: 2m 43s\tremaining: 2m 8s\n",
      "56:\tlearn: 0.9981433\ttest: 0.9770992\tbest: 0.9778101 (55)\ttotal: 2m 46s\tremaining: 2m 5s\n",
      "57:\tlearn: 0.9983081\ttest: 0.9774545\tbest: 0.9778101 (55)\ttotal: 2m 49s\tremaining: 2m 2s\n",
      "58:\tlearn: 0.9983905\ttest: 0.9788784\tbest: 0.9788784 (58)\ttotal: 2m 51s\tremaining: 1m 59s\n",
      "59:\tlearn: 0.9985553\ttest: 0.9785220\tbest: 0.9788784 (58)\ttotal: 2m 54s\tremaining: 1m 56s\n",
      "60:\tlearn: 0.9987202\ttest: 0.9788784\tbest: 0.9788784 (58)\ttotal: 2m 57s\tremaining: 1m 53s\n",
      "61:\tlearn: 0.9987202\ttest: 0.9788784\tbest: 0.9788784 (58)\ttotal: 3m\tremaining: 1m 50s\n",
      "62:\tlearn: 0.9989677\ttest: 0.9781659\tbest: 0.9788784 (58)\ttotal: 3m 3s\tremaining: 1m 47s\n",
      "63:\tlearn: 0.9991740\ttest: 0.9788784\tbest: 0.9788784 (58)\ttotal: 3m 6s\tremaining: 1m 44s\n",
      "64:\tlearn: 0.9992152\ttest: 0.9792350\tbest: 0.9792350 (64)\ttotal: 3m 9s\tremaining: 1m 41s\n",
      "65:\tlearn: 0.9993391\ttest: 0.9788784\tbest: 0.9792350 (64)\ttotal: 3m 12s\tremaining: 1m 39s\n",
      "66:\tlearn: 0.9993803\ttest: 0.9795918\tbest: 0.9795918 (66)\ttotal: 3m 15s\tremaining: 1m 36s\n",
      "67:\tlearn: 0.9995042\ttest: 0.9803063\tbest: 0.9803063 (67)\ttotal: 3m 17s\tremaining: 1m 33s\n",
      "68:\tlearn: 0.9995868\ttest: 0.9795918\tbest: 0.9803063 (67)\ttotal: 3m 20s\tremaining: 1m 30s\n",
      "69:\tlearn: 0.9996694\ttest: 0.9803063\tbest: 0.9803063 (67)\ttotal: 3m 23s\tremaining: 1m 27s\n",
      "70:\tlearn: 0.9996694\ttest: 0.9803063\tbest: 0.9803063 (67)\ttotal: 3m 26s\tremaining: 1m 24s\n",
      "71:\tlearn: 0.9997520\ttest: 0.9792350\tbest: 0.9803063 (67)\ttotal: 3m 29s\tremaining: 1m 21s\n",
      "72:\tlearn: 0.9997520\ttest: 0.9803063\tbest: 0.9803063 (67)\ttotal: 3m 32s\tremaining: 1m 18s\n",
      "73:\tlearn: 0.9997520\ttest: 0.9799490\tbest: 0.9803063 (67)\ttotal: 3m 35s\tremaining: 1m 15s\n",
      "74:\tlearn: 0.9997934\ttest: 0.9803063\tbest: 0.9803063 (67)\ttotal: 3m 38s\tremaining: 1m 12s\n",
      "75:\tlearn: 0.9998760\ttest: 0.9799490\tbest: 0.9803063 (67)\ttotal: 3m 41s\tremaining: 1m 9s\n",
      "76:\tlearn: 0.9998760\ttest: 0.9810219\tbest: 0.9810219 (76)\ttotal: 3m 44s\tremaining: 1m 6s\n",
      "77:\tlearn: 0.9999173\ttest: 0.9806640\tbest: 0.9810219 (76)\ttotal: 3m 46s\tremaining: 1m 4s\n",
      "78:\tlearn: 0.9999173\ttest: 0.9806640\tbest: 0.9810219 (76)\ttotal: 3m 49s\tremaining: 1m 1s\n",
      "79:\tlearn: 0.9999173\ttest: 0.9813801\tbest: 0.9813801 (79)\ttotal: 3m 52s\tremaining: 58.2s\n",
      "80:\tlearn: 0.9999173\ttest: 0.9813801\tbest: 0.9813801 (79)\ttotal: 3m 55s\tremaining: 55.3s\n",
      "81:\tlearn: 0.9999173\ttest: 0.9810219\tbest: 0.9813801 (79)\ttotal: 3m 58s\tremaining: 52.3s\n",
      "82:\tlearn: 0.9999173\ttest: 0.9810219\tbest: 0.9813801 (79)\ttotal: 4m 1s\tremaining: 49.4s\n",
      "83:\tlearn: 0.9999173\ttest: 0.9813801\tbest: 0.9813801 (79)\ttotal: 4m 4s\tremaining: 46.5s\n",
      "84:\tlearn: 0.9999173\ttest: 0.9817385\tbest: 0.9817385 (84)\ttotal: 4m 7s\tremaining: 43.6s\n",
      "85:\tlearn: 0.9999173\ttest: 0.9820972\tbest: 0.9820972 (85)\ttotal: 4m 9s\tremaining: 40.7s\n",
      "86:\tlearn: 0.9999173\ttest: 0.9820972\tbest: 0.9820972 (85)\ttotal: 4m 12s\tremaining: 37.8s\n",
      "87:\tlearn: 0.9999173\ttest: 0.9817385\tbest: 0.9820972 (85)\ttotal: 4m 15s\tremaining: 34.9s\n",
      "88:\tlearn: 0.9999173\ttest: 0.9820972\tbest: 0.9820972 (85)\ttotal: 4m 18s\tremaining: 31.9s\n",
      "89:\tlearn: 0.9999587\ttest: 0.9817385\tbest: 0.9820972 (85)\ttotal: 4m 21s\tremaining: 29s\n",
      "90:\tlearn: 0.9999587\ttest: 0.9817385\tbest: 0.9820972 (85)\ttotal: 4m 24s\tremaining: 26.1s\n",
      "91:\tlearn: 0.9999587\ttest: 0.9817385\tbest: 0.9820972 (85)\ttotal: 4m 27s\tremaining: 23.2s\n",
      "92:\tlearn: 0.9999587\ttest: 0.9813801\tbest: 0.9820972 (85)\ttotal: 4m 30s\tremaining: 20.3s\n",
      "93:\tlearn: 0.9999587\ttest: 0.9820972\tbest: 0.9820972 (85)\ttotal: 4m 33s\tremaining: 17.4s\n",
      "94:\tlearn: 1.0000000\ttest: 0.9820972\tbest: 0.9820972 (85)\ttotal: 4m 35s\tremaining: 14.5s\n",
      "95:\tlearn: 1.0000000\ttest: 0.9824561\tbest: 0.9824561 (95)\ttotal: 4m 38s\tremaining: 11.6s\n",
      "96:\tlearn: 1.0000000\ttest: 0.9831748\tbest: 0.9831748 (96)\ttotal: 4m 41s\tremaining: 8.71s\n",
      "97:\tlearn: 1.0000000\ttest: 0.9828154\tbest: 0.9831748 (96)\ttotal: 4m 44s\tremaining: 5.81s\n",
      "98:\tlearn: 1.0000000\ttest: 0.9824561\tbest: 0.9831748 (96)\ttotal: 4m 47s\tremaining: 2.9s\n",
      "99:\tlearn: 1.0000000\ttest: 0.9831748\tbest: 0.9831748 (96)\ttotal: 4m 50s\tremaining: 0us\n",
      "\n",
      "bestTest = 0.9831748354\n",
      "bestIteration = 96\n",
      "\n",
      "Training on fold [4/30]\n",
      "0:\tlearn: 0.8461075\ttest: 0.8381021\tbest: 0.8381021 (0)\ttotal: 3s\tremaining: 4m 56s\n",
      "1:\tlearn: 0.8930312\ttest: 0.8697860\tbest: 0.8697860 (1)\ttotal: 5.98s\tremaining: 4m 52s\n",
      "2:\tlearn: 0.9142602\ttest: 0.8976208\tbest: 0.8976208 (2)\ttotal: 8.94s\tremaining: 4m 49s\n",
      "3:\tlearn: 0.9249828\ttest: 0.8999639\tbest: 0.8999639 (3)\ttotal: 11.9s\tremaining: 4m 44s\n",
      "4:\tlearn: 0.9291492\ttest: 0.9097499\tbest: 0.9097499 (4)\ttotal: 14.9s\tremaining: 4m 43s\n",
      "5:\tlearn: 0.9349593\ttest: 0.9151931\tbest: 0.9151931 (5)\ttotal: 18.4s\tremaining: 4m 48s\n",
      "6:\tlearn: 0.9427851\ttest: 0.9229099\tbest: 0.9229099 (6)\ttotal: 22.3s\tremaining: 4m 56s\n",
      "7:\tlearn: 0.9503615\ttest: 0.9279019\tbest: 0.9279019 (7)\ttotal: 25.7s\tremaining: 4m 55s\n",
      "8:\tlearn: 0.9564829\ttest: 0.9378369\tbest: 0.9378369 (8)\ttotal: 28.7s\tremaining: 4m 49s\n",
      "9:\tlearn: 0.9606197\ttest: 0.9451659\tbest: 0.9451659 (9)\ttotal: 31.6s\tremaining: 4m 44s\n",
      "10:\tlearn: 0.9619647\ttest: 0.9424874\tbest: 0.9451659 (9)\ttotal: 34.7s\tremaining: 4m 40s\n",
      "11:\tlearn: 0.9654529\ttest: 0.9468391\tbest: 0.9468391 (11)\ttotal: 37.9s\tremaining: 4m 38s\n",
      "12:\tlearn: 0.9687816\ttest: 0.9483871\tbest: 0.9483871 (12)\ttotal: 40.9s\tremaining: 4m 33s\n",
      "13:\tlearn: 0.9707038\ttest: 0.9497126\tbest: 0.9497126 (13)\ttotal: 43.8s\tremaining: 4m 29s\n",
      "14:\tlearn: 0.9729927\ttest: 0.9502327\tbest: 0.9502327 (14)\ttotal: 46.7s\tremaining: 4m 24s\n",
      "15:\tlearn: 0.9749150\ttest: 0.9537137\tbest: 0.9537137 (15)\ttotal: 50s\tremaining: 4m 22s\n",
      "16:\tlearn: 0.9766331\ttest: 0.9555556\tbest: 0.9555556 (16)\ttotal: 53s\tremaining: 4m 18s\n",
      "17:\tlearn: 0.9777652\ttest: 0.9562724\tbest: 0.9562724 (17)\ttotal: 55.9s\tremaining: 4m 14s\n",
      "18:\tlearn: 0.9786027\ttest: 0.9584527\tbest: 0.9584527 (18)\ttotal: 58.7s\tremaining: 4m 10s\n",
      "19:\tlearn: 0.9801711\ttest: 0.9605735\tbest: 0.9605735 (19)\ttotal: 1m 1s\tremaining: 4m 6s\n",
      "20:\tlearn: 0.9798701\ttest: 0.9609179\tbest: 0.9609179 (20)\ttotal: 1m 4s\tremaining: 4m 2s\n",
      "21:\tlearn: 0.9810754\ttest: 0.9616075\tbest: 0.9616075 (21)\ttotal: 1m 7s\tremaining: 3m 59s\n",
      "22:\tlearn: 0.9824419\ttest: 0.9629896\tbest: 0.9629896 (22)\ttotal: 1m 10s\tremaining: 3m 55s\n",
      "23:\tlearn: 0.9836866\ttest: 0.9647989\tbest: 0.9647989 (23)\ttotal: 1m 13s\tremaining: 3m 52s\n",
      "24:\tlearn: 0.9842872\ttest: 0.9661871\tbest: 0.9661871 (24)\ttotal: 1m 16s\tremaining: 3m 48s\n",
      "25:\tlearn: 0.9850892\ttest: 0.9665347\tbest: 0.9665347 (25)\ttotal: 1m 19s\tremaining: 3m 45s\n",
      "26:\tlearn: 0.9858121\ttest: 0.9661871\tbest: 0.9665347 (25)\ttotal: 1m 21s\tremaining: 3m 41s\n",
      "27:\tlearn: 0.9862142\ttest: 0.9665347\tbest: 0.9665347 (25)\ttotal: 1m 25s\tremaining: 3m 40s\n",
      "28:\tlearn: 0.9872674\ttest: 0.9669065\tbest: 0.9669065 (28)\ttotal: 1m 28s\tremaining: 3m 37s\n",
      "29:\tlearn: 0.9877108\ttest: 0.9658642\tbest: 0.9669065 (28)\ttotal: 1m 32s\tremaining: 3m 34s\n",
      "30:\tlearn: 0.9883160\ttest: 0.9662114\tbest: 0.9669065 (28)\ttotal: 1m 35s\tremaining: 3m 32s\n",
      "31:\tlearn: 0.9885180\ttest: 0.9658642\tbest: 0.9669065 (28)\ttotal: 1m 38s\tremaining: 3m 29s\n",
      "32:\tlearn: 0.9888412\ttest: 0.9665588\tbest: 0.9669065 (28)\ttotal: 1m 41s\tremaining: 3m 26s\n",
      "33:\tlearn: 0.9890838\ttest: 0.9665588\tbest: 0.9669065 (28)\ttotal: 1m 44s\tremaining: 3m 23s\n",
      "34:\tlearn: 0.9899742\ttest: 0.9665588\tbest: 0.9669065 (28)\ttotal: 1m 47s\tremaining: 3m 19s\n",
      "35:\tlearn: 0.9907445\ttest: 0.9669065\tbest: 0.9669065 (28)\ttotal: 1m 50s\tremaining: 3m 16s\n",
      "36:\tlearn: 0.9912723\ttest: 0.9669065\tbest: 0.9669065 (28)\ttotal: 1m 53s\tremaining: 3m 13s\n",
      "37:\tlearn: 0.9919633\ttest: 0.9665588\tbest: 0.9669065 (28)\ttotal: 1m 57s\tremaining: 3m 11s\n",
      "38:\tlearn: 0.9923295\ttest: 0.9676026\tbest: 0.9676026 (38)\ttotal: 2m\tremaining: 3m 8s\n",
      "39:\tlearn: 0.9925330\ttest: 0.9679510\tbest: 0.9679510 (39)\ttotal: 2m 3s\tremaining: 3m 4s\n",
      "40:\tlearn: 0.9928589\ttest: 0.9686486\tbest: 0.9686486 (40)\ttotal: 2m 6s\tremaining: 3m 2s\n",
      "41:\tlearn: 0.9933889\ttest: 0.9689978\tbest: 0.9689978 (41)\ttotal: 2m 9s\tremaining: 2m 59s\n",
      "42:\tlearn: 0.9937153\ttest: 0.9696970\tbest: 0.9696970 (42)\ttotal: 2m 13s\tremaining: 2m 57s\n",
      "43:\tlearn: 0.9939195\ttest: 0.9700469\tbest: 0.9700469 (43)\ttotal: 2m 17s\tremaining: 2m 54s\n",
      "44:\tlearn: 0.9947777\ttest: 0.9696970\tbest: 0.9700469 (43)\ttotal: 2m 21s\tremaining: 2m 52s\n",
      "45:\tlearn: 0.9949823\ttest: 0.9696970\tbest: 0.9700469 (43)\ttotal: 2m 24s\tremaining: 2m 50s\n",
      "46:\tlearn: 0.9954736\ttest: 0.9707476\tbest: 0.9707476 (46)\ttotal: 2m 27s\tremaining: 2m 46s\n",
      "47:\tlearn: 0.9960064\ttest: 0.9707476\tbest: 0.9707476 (46)\ttotal: 2m 30s\tremaining: 2m 43s\n",
      "48:\tlearn: 0.9964167\ttest: 0.9714492\tbest: 0.9714492 (48)\ttotal: 2m 33s\tremaining: 2m 40s\n",
      "49:\tlearn: 0.9967451\ttest: 0.9721519\tbest: 0.9721519 (49)\ttotal: 2m 36s\tremaining: 2m 36s\n",
      "50:\tlearn: 0.9969916\ttest: 0.9725036\tbest: 0.9725036 (50)\ttotal: 2m 39s\tremaining: 2m 33s\n",
      "51:\tlearn: 0.9971559\ttest: 0.9728556\tbest: 0.9728556 (51)\ttotal: 2m 42s\tremaining: 2m 30s\n",
      "52:\tlearn: 0.9976082\ttest: 0.9725036\tbest: 0.9728556 (51)\ttotal: 2m 45s\tremaining: 2m 26s\n",
      "53:\tlearn: 0.9976905\ttest: 0.9725036\tbest: 0.9728556 (51)\ttotal: 2m 48s\tremaining: 2m 23s\n",
      "54:\tlearn: 0.9979786\ttest: 0.9732078\tbest: 0.9732078 (54)\ttotal: 2m 51s\tremaining: 2m 19s\n",
      "55:\tlearn: 0.9983081\ttest: 0.9739130\tbest: 0.9739130 (55)\ttotal: 2m 53s\tremaining: 2m 16s\n",
      "56:\tlearn: 0.9983081\ttest: 0.9732078\tbest: 0.9739130 (55)\ttotal: 2m 56s\tremaining: 2m 13s\n",
      "57:\tlearn: 0.9984729\ttest: 0.9735603\tbest: 0.9739130 (55)\ttotal: 2m 59s\tremaining: 2m 10s\n",
      "58:\tlearn: 0.9985553\ttest: 0.9739130\tbest: 0.9739130 (55)\ttotal: 3m 2s\tremaining: 2m 6s\n",
      "59:\tlearn: 0.9986790\ttest: 0.9732078\tbest: 0.9739130 (55)\ttotal: 3m 5s\tremaining: 2m 3s\n",
      "60:\tlearn: 0.9986790\ttest: 0.9735603\tbest: 0.9739130 (55)\ttotal: 3m 8s\tremaining: 2m\n",
      "61:\tlearn: 0.9988852\ttest: 0.9732078\tbest: 0.9739130 (55)\ttotal: 3m 11s\tremaining: 1m 57s\n",
      "62:\tlearn: 0.9989264\ttest: 0.9735603\tbest: 0.9739130 (55)\ttotal: 3m 14s\tremaining: 1m 54s\n",
      "63:\tlearn: 0.9992152\ttest: 0.9742660\tbest: 0.9742660 (63)\ttotal: 3m 17s\tremaining: 1m 50s\n",
      "64:\tlearn: 0.9991740\ttest: 0.9749728\tbest: 0.9749728 (64)\ttotal: 3m 20s\tremaining: 1m 47s\n",
      "65:\tlearn: 0.9992565\ttest: 0.9749728\tbest: 0.9749728 (64)\ttotal: 3m 23s\tremaining: 1m 44s\n",
      "66:\tlearn: 0.9992978\ttest: 0.9756806\tbest: 0.9756806 (66)\ttotal: 3m 26s\tremaining: 1m 41s\n",
      "67:\tlearn: 0.9993391\ttest: 0.9767442\tbest: 0.9767442 (67)\ttotal: 3m 29s\tremaining: 1m 38s\n",
      "68:\tlearn: 0.9993803\ttest: 0.9770992\tbest: 0.9770992 (68)\ttotal: 3m 32s\tremaining: 1m 35s\n",
      "69:\tlearn: 0.9995042\ttest: 0.9763894\tbest: 0.9770992 (68)\ttotal: 3m 35s\tremaining: 1m 32s\n",
      "70:\tlearn: 0.9995455\ttest: 0.9770992\tbest: 0.9770992 (68)\ttotal: 3m 37s\tremaining: 1m 28s\n",
      "71:\tlearn: 0.9995868\ttest: 0.9770992\tbest: 0.9770992 (68)\ttotal: 3m 40s\tremaining: 1m 25s\n",
      "72:\tlearn: 0.9996281\ttest: 0.9774545\tbest: 0.9774545 (72)\ttotal: 3m 44s\tremaining: 1m 22s\n",
      "73:\tlearn: 0.9996281\ttest: 0.9774545\tbest: 0.9774545 (72)\ttotal: 3m 47s\tremaining: 1m 20s\n",
      "74:\tlearn: 0.9995868\ttest: 0.9778101\tbest: 0.9778101 (74)\ttotal: 3m 50s\tremaining: 1m 16s\n",
      "75:\tlearn: 0.9996694\ttest: 0.9770992\tbest: 0.9778101 (74)\ttotal: 3m 53s\tremaining: 1m 13s\n",
      "76:\tlearn: 0.9996281\ttest: 0.9774545\tbest: 0.9778101 (74)\ttotal: 3m 56s\tremaining: 1m 10s\n",
      "77:\tlearn: 0.9997934\ttest: 0.9778101\tbest: 0.9778101 (74)\ttotal: 3m 59s\tremaining: 1m 7s\n",
      "78:\tlearn: 0.9997520\ttest: 0.9774545\tbest: 0.9778101 (74)\ttotal: 4m 2s\tremaining: 1m 4s\n",
      "79:\tlearn: 0.9997934\ttest: 0.9778101\tbest: 0.9778101 (74)\ttotal: 4m 5s\tremaining: 1m 1s\n",
      "80:\tlearn: 0.9997934\ttest: 0.9774545\tbest: 0.9778101 (74)\ttotal: 4m 8s\tremaining: 58.2s\n",
      "81:\tlearn: 0.9997934\ttest: 0.9778101\tbest: 0.9778101 (74)\ttotal: 4m 11s\tremaining: 55.1s\n",
      "82:\tlearn: 0.9997934\ttest: 0.9774545\tbest: 0.9778101 (74)\ttotal: 4m 13s\tremaining: 52s\n",
      "83:\tlearn: 0.9998347\ttest: 0.9774545\tbest: 0.9778101 (74)\ttotal: 4m 16s\tremaining: 48.9s\n",
      "84:\tlearn: 0.9998760\ttest: 0.9778101\tbest: 0.9778101 (74)\ttotal: 4m 19s\tremaining: 45.8s\n",
      "85:\tlearn: 0.9998760\ttest: 0.9778101\tbest: 0.9778101 (74)\ttotal: 4m 22s\tremaining: 42.7s\n",
      "86:\tlearn: 0.9999173\ttest: 0.9781659\tbest: 0.9781659 (86)\ttotal: 4m 25s\tremaining: 39.7s\n",
      "87:\tlearn: 0.9999173\ttest: 0.9785220\tbest: 0.9785220 (87)\ttotal: 4m 28s\tremaining: 36.6s\n",
      "88:\tlearn: 0.9999173\ttest: 0.9785220\tbest: 0.9785220 (87)\ttotal: 4m 31s\tremaining: 33.5s\n",
      "89:\tlearn: 0.9999173\ttest: 0.9785220\tbest: 0.9785220 (87)\ttotal: 4m 34s\tremaining: 30.5s\n",
      "90:\tlearn: 0.9999173\ttest: 0.9785220\tbest: 0.9785220 (87)\ttotal: 4m 37s\tremaining: 27.4s\n",
      "91:\tlearn: 0.9999173\ttest: 0.9785220\tbest: 0.9785220 (87)\ttotal: 4m 40s\tremaining: 24.3s\n",
      "92:\tlearn: 0.9999173\ttest: 0.9792350\tbest: 0.9792350 (92)\ttotal: 4m 42s\tremaining: 21.3s\n",
      "93:\tlearn: 0.9999173\ttest: 0.9788784\tbest: 0.9792350 (92)\ttotal: 4m 45s\tremaining: 18.3s\n",
      "94:\tlearn: 0.9999173\ttest: 0.9781659\tbest: 0.9792350 (92)\ttotal: 4m 48s\tremaining: 15.2s\n",
      "95:\tlearn: 0.9999173\ttest: 0.9781659\tbest: 0.9792350 (92)\ttotal: 4m 51s\tremaining: 12.2s\n",
      "96:\tlearn: 0.9999587\ttest: 0.9785220\tbest: 0.9792350 (92)\ttotal: 4m 54s\tremaining: 9.12s\n",
      "97:\tlearn: 1.0000000\ttest: 0.9792350\tbest: 0.9792350 (92)\ttotal: 4m 57s\tremaining: 6.07s\n",
      "98:\tlearn: 1.0000000\ttest: 0.9792350\tbest: 0.9792350 (92)\ttotal: 5m\tremaining: 3.04s\n",
      "99:\tlearn: 1.0000000\ttest: 0.9788784\tbest: 0.9792350 (92)\ttotal: 5m 3s\tremaining: 0us\n",
      "\n",
      "bestTest = 0.9792349727\n",
      "bestIteration = 92\n",
      "\n",
      "Training on fold [5/30]\n",
      "0:\tlearn: 0.8452168\ttest: 0.8423717\tbest: 0.8423717 (0)\ttotal: 2.99s\tremaining: 4m 56s\n",
      "1:\tlearn: 0.8854676\ttest: 0.8827839\tbest: 0.8827839 (1)\ttotal: 5.9s\tremaining: 4m 49s\n",
      "2:\tlearn: 0.9068389\ttest: 0.8972653\tbest: 0.8972653 (2)\ttotal: 9.07s\tremaining: 4m 53s\n",
      "3:\tlearn: 0.9228575\ttest: 0.9137995\tbest: 0.9137995 (3)\ttotal: 12.6s\tremaining: 5m 3s\n",
      "4:\tlearn: 0.9326442\ttest: 0.9258029\tbest: 0.9258029 (4)\ttotal: 16.4s\tremaining: 5m 11s\n",
      "5:\tlearn: 0.9417637\ttest: 0.9358880\tbest: 0.9358880 (5)\ttotal: 19.4s\tremaining: 5m 3s\n",
      "6:\tlearn: 0.9465605\ttest: 0.9388357\tbest: 0.9388357 (6)\ttotal: 22.5s\tremaining: 4m 58s\n",
      "7:\tlearn: 0.9520842\ttest: 0.9479090\tbest: 0.9479090 (7)\ttotal: 25.6s\tremaining: 4m 54s\n",
      "8:\tlearn: 0.9559270\ttest: 0.9518205\tbest: 0.9518205 (8)\ttotal: 28.6s\tremaining: 4m 49s\n",
      "9:\tlearn: 0.9610947\ttest: 0.9576333\tbest: 0.9576333 (9)\ttotal: 31.9s\tremaining: 4m 46s\n",
      "10:\tlearn: 0.9645763\ttest: 0.9606127\tbest: 0.9606127 (10)\ttotal: 35.3s\tremaining: 4m 45s\n",
      "11:\tlearn: 0.9658663\ttest: 0.9636099\tbest: 0.9636099 (11)\ttotal: 38.2s\tremaining: 4m 40s\n",
      "12:\tlearn: 0.9699272\ttest: 0.9683291\tbest: 0.9683291 (12)\ttotal: 41.4s\tremaining: 4m 37s\n",
      "13:\tlearn: 0.9709728\ttest: 0.9676010\tbest: 0.9683291 (12)\ttotal: 44.6s\tremaining: 4m 33s\n",
      "14:\tlearn: 0.9742055\ttest: 0.9698730\tbest: 0.9698730 (14)\ttotal: 47.6s\tremaining: 4m 29s\n",
      "15:\tlearn: 0.9753236\ttest: 0.9723435\tbest: 0.9723435 (15)\ttotal: 51s\tremaining: 4m 27s\n",
      "16:\tlearn: 0.9769552\ttest: 0.9723636\tbest: 0.9723636 (16)\ttotal: 54.2s\tremaining: 4m 24s\n",
      "17:\tlearn: 0.9777580\ttest: 0.9734449\tbest: 0.9734449 (17)\ttotal: 57.5s\tremaining: 4m 21s\n",
      "18:\tlearn: 0.9789512\ttest: 0.9730517\tbest: 0.9734449 (17)\ttotal: 1m\tremaining: 4m 18s\n",
      "19:\tlearn: 0.9806803\ttest: 0.9741536\tbest: 0.9741536 (19)\ttotal: 1m 3s\tremaining: 4m 14s\n",
      "20:\tlearn: 0.9814830\ttest: 0.9756275\tbest: 0.9756275 (20)\ttotal: 1m 6s\tremaining: 4m 10s\n",
      "21:\tlearn: 0.9830881\ttest: 0.9777778\tbest: 0.9777778 (21)\ttotal: 1m 9s\tremaining: 4m 6s\n",
      "22:\tlearn: 0.9837746\ttest: 0.9792350\tbest: 0.9792350 (22)\ttotal: 1m 12s\tremaining: 4m 1s\n",
      "23:\tlearn: 0.9846955\ttest: 0.9785220\tbest: 0.9792350 (22)\ttotal: 1m 15s\tremaining: 3m 58s\n",
      "24:\tlearn: 0.9853372\ttest: 0.9799490\tbest: 0.9799490 (24)\ttotal: 1m 18s\tremaining: 3m 54s\n",
      "25:\tlearn: 0.9861808\ttest: 0.9806640\tbest: 0.9806640 (25)\ttotal: 1m 20s\tremaining: 3m 50s\n",
      "26:\tlearn: 0.9873480\ttest: 0.9795918\tbest: 0.9806640 (25)\ttotal: 1m 23s\tremaining: 3m 46s\n",
      "27:\tlearn: 0.9884776\ttest: 0.9803063\tbest: 0.9806640 (25)\ttotal: 1m 26s\tremaining: 3m 43s\n",
      "28:\tlearn: 0.9885584\ttest: 0.9792350\tbest: 0.9806640 (25)\ttotal: 1m 29s\tremaining: 3m 39s\n",
      "29:\tlearn: 0.9891647\ttest: 0.9799490\tbest: 0.9806640 (25)\ttotal: 1m 32s\tremaining: 3m 36s\n",
      "30:\tlearn: 0.9894883\ttest: 0.9803063\tbest: 0.9806640 (25)\ttotal: 1m 35s\tremaining: 3m 32s\n",
      "31:\tlearn: 0.9898527\ttest: 0.9806640\tbest: 0.9806640 (25)\ttotal: 1m 38s\tremaining: 3m 29s\n",
      "32:\tlearn: 0.9909474\ttest: 0.9813801\tbest: 0.9813801 (32)\ttotal: 1m 41s\tremaining: 3m 25s\n",
      "33:\tlearn: 0.9909880\ttest: 0.9813801\tbest: 0.9813801 (32)\ttotal: 1m 44s\tremaining: 3m 21s\n",
      "34:\tlearn: 0.9915160\ttest: 0.9810219\tbest: 0.9813801 (32)\ttotal: 1m 46s\tremaining: 3m 18s\n",
      "35:\tlearn: 0.9918819\ttest: 0.9813801\tbest: 0.9813801 (32)\ttotal: 1m 49s\tremaining: 3m 15s\n",
      "36:\tlearn: 0.9920853\ttest: 0.9817385\tbest: 0.9817385 (36)\ttotal: 1m 52s\tremaining: 3m 11s\n",
      "37:\tlearn: 0.9929404\ttest: 0.9820972\tbest: 0.9820972 (37)\ttotal: 1m 55s\tremaining: 3m 8s\n",
      "38:\tlearn: 0.9932665\ttest: 0.9824561\tbest: 0.9824561 (38)\ttotal: 1m 58s\tremaining: 3m 5s\n",
      "39:\tlearn: 0.9938786\ttest: 0.9828154\tbest: 0.9828154 (39)\ttotal: 2m 1s\tremaining: 3m 2s\n",
      "40:\tlearn: 0.9942871\ttest: 0.9824561\tbest: 0.9828154 (39)\ttotal: 2m 4s\tremaining: 2m 58s\n",
      "41:\tlearn: 0.9944506\ttest: 0.9828154\tbest: 0.9828154 (39)\ttotal: 2m 7s\tremaining: 2m 55s\n",
      "42:\tlearn: 0.9947368\ttest: 0.9828154\tbest: 0.9828154 (39)\ttotal: 2m 9s\tremaining: 2m 52s\n",
      "43:\tlearn: 0.9951870\ttest: 0.9824561\tbest: 0.9828154 (39)\ttotal: 2m 12s\tremaining: 2m 49s\n",
      "44:\tlearn: 0.9955146\ttest: 0.9828154\tbest: 0.9828154 (39)\ttotal: 2m 15s\tremaining: 2m 46s\n",
      "45:\tlearn: 0.9956375\ttest: 0.9835346\tbest: 0.9835346 (45)\ttotal: 2m 18s\tremaining: 2m 42s\n",
      "46:\tlearn: 0.9957604\ttest: 0.9831748\tbest: 0.9835346 (45)\ttotal: 2m 21s\tremaining: 2m 39s\n",
      "47:\tlearn: 0.9961705\ttest: 0.9831748\tbest: 0.9835346 (45)\ttotal: 2m 24s\tremaining: 2m 36s\n",
      "48:\tlearn: 0.9966219\ttest: 0.9835346\tbest: 0.9835346 (45)\ttotal: 2m 27s\tremaining: 2m 33s\n",
      "49:\tlearn: 0.9967451\ttest: 0.9838946\tbest: 0.9838946 (49)\ttotal: 2m 30s\tremaining: 2m 30s\n",
      "50:\tlearn: 0.9970326\ttest: 0.9838946\tbest: 0.9838946 (49)\ttotal: 2m 33s\tremaining: 2m 27s\n",
      "51:\tlearn: 0.9971148\ttest: 0.9838946\tbest: 0.9838946 (49)\ttotal: 2m 35s\tremaining: 2m 23s\n",
      "52:\tlearn: 0.9972792\ttest: 0.9835346\tbest: 0.9838946 (49)\ttotal: 2m 38s\tremaining: 2m 20s\n",
      "53:\tlearn: 0.9974848\ttest: 0.9838946\tbest: 0.9838946 (49)\ttotal: 2m 41s\tremaining: 2m 17s\n",
      "54:\tlearn: 0.9976494\ttest: 0.9846154\tbest: 0.9846154 (54)\ttotal: 2m 44s\tremaining: 2m 14s\n",
      "55:\tlearn: 0.9976905\ttest: 0.9846154\tbest: 0.9846154 (54)\ttotal: 2m 47s\tremaining: 2m 11s\n",
      "56:\tlearn: 0.9977317\ttest: 0.9838946\tbest: 0.9846154 (54)\ttotal: 2m 50s\tremaining: 2m 8s\n",
      "57:\tlearn: 0.9979375\ttest: 0.9835346\tbest: 0.9846154 (54)\ttotal: 2m 53s\tremaining: 2m 5s\n",
      "58:\tlearn: 0.9981845\ttest: 0.9842549\tbest: 0.9846154 (54)\ttotal: 2m 56s\tremaining: 2m 2s\n",
      "59:\tlearn: 0.9985141\ttest: 0.9846154\tbest: 0.9846154 (54)\ttotal: 2m 59s\tremaining: 1m 59s\n",
      "60:\tlearn: 0.9983905\ttest: 0.9842549\tbest: 0.9846154 (54)\ttotal: 3m 1s\tremaining: 1m 56s\n",
      "61:\tlearn: 0.9985965\ttest: 0.9853372\tbest: 0.9853372 (61)\ttotal: 3m 4s\tremaining: 1m 53s\n",
      "62:\tlearn: 0.9986790\ttest: 0.9849762\tbest: 0.9853372 (61)\ttotal: 3m 7s\tremaining: 1m 50s\n",
      "63:\tlearn: 0.9987202\ttest: 0.9849762\tbest: 0.9853372 (61)\ttotal: 3m 10s\tremaining: 1m 47s\n",
      "64:\tlearn: 0.9989264\ttest: 0.9853372\tbest: 0.9853372 (61)\ttotal: 3m 13s\tremaining: 1m 44s\n",
      "65:\tlearn: 0.9990914\ttest: 0.9849762\tbest: 0.9853372 (61)\ttotal: 3m 16s\tremaining: 1m 41s\n",
      "66:\tlearn: 0.9991740\ttest: 0.9846154\tbest: 0.9853372 (61)\ttotal: 3m 19s\tremaining: 1m 38s\n",
      "67:\tlearn: 0.9992152\ttest: 0.9846154\tbest: 0.9853372 (61)\ttotal: 3m 22s\tremaining: 1m 35s\n",
      "68:\tlearn: 0.9992565\ttest: 0.9856986\tbest: 0.9856986 (68)\ttotal: 3m 25s\tremaining: 1m 32s\n",
      "69:\tlearn: 0.9993391\ttest: 0.9853372\tbest: 0.9856986 (68)\ttotal: 3m 27s\tremaining: 1m 29s\n",
      "70:\tlearn: 0.9993803\ttest: 0.9860602\tbest: 0.9860602 (70)\ttotal: 3m 30s\tremaining: 1m 25s\n",
      "71:\tlearn: 0.9994629\ttest: 0.9849762\tbest: 0.9860602 (70)\ttotal: 3m 33s\tremaining: 1m 22s\n",
      "72:\tlearn: 0.9994629\ttest: 0.9853372\tbest: 0.9860602 (70)\ttotal: 3m 36s\tremaining: 1m 19s\n",
      "73:\tlearn: 0.9994629\ttest: 0.9853372\tbest: 0.9860602 (70)\ttotal: 3m 38s\tremaining: 1m 16s\n",
      "74:\tlearn: 0.9995868\ttest: 0.9856986\tbest: 0.9860602 (70)\ttotal: 3m 41s\tremaining: 1m 13s\n",
      "75:\tlearn: 0.9995868\ttest: 0.9846154\tbest: 0.9860602 (70)\ttotal: 3m 45s\tremaining: 1m 11s\n",
      "76:\tlearn: 0.9995868\ttest: 0.9849762\tbest: 0.9860602 (70)\ttotal: 3m 48s\tremaining: 1m 8s\n",
      "77:\tlearn: 0.9996281\ttest: 0.9856986\tbest: 0.9860602 (70)\ttotal: 3m 51s\tremaining: 1m 5s\n",
      "78:\tlearn: 0.9997520\ttest: 0.9849762\tbest: 0.9860602 (70)\ttotal: 3m 55s\tremaining: 1m 2s\n",
      "79:\tlearn: 0.9998347\ttest: 0.9849762\tbest: 0.9860602 (70)\ttotal: 3m 58s\tremaining: 59.6s\n",
      "80:\tlearn: 0.9999587\ttest: 0.9856986\tbest: 0.9860602 (70)\ttotal: 4m 1s\tremaining: 56.7s\n",
      "81:\tlearn: 0.9999587\ttest: 0.9856986\tbest: 0.9860602 (70)\ttotal: 4m 4s\tremaining: 53.8s\n",
      "82:\tlearn: 0.9999587\ttest: 0.9867841\tbest: 0.9867841 (82)\ttotal: 4m 8s\tremaining: 50.9s\n",
      "83:\tlearn: 0.9999587\ttest: 0.9867841\tbest: 0.9867841 (82)\ttotal: 4m 12s\tremaining: 48.1s\n",
      "84:\tlearn: 1.0000000\ttest: 0.9867841\tbest: 0.9867841 (82)\ttotal: 4m 15s\tremaining: 45.1s\n",
      "85:\tlearn: 1.0000000\ttest: 0.9871465\tbest: 0.9871465 (85)\ttotal: 4m 18s\tremaining: 42.2s\n",
      "86:\tlearn: 1.0000000\ttest: 0.9875092\tbest: 0.9875092 (86)\ttotal: 4m 22s\tremaining: 39.2s\n",
      "87:\tlearn: 1.0000000\ttest: 0.9875092\tbest: 0.9875092 (86)\ttotal: 4m 25s\tremaining: 36.2s\n",
      "88:\tlearn: 1.0000000\ttest: 0.9875092\tbest: 0.9875092 (86)\ttotal: 4m 28s\tremaining: 33.2s\n",
      "89:\tlearn: 1.0000000\ttest: 0.9875092\tbest: 0.9875092 (86)\ttotal: 4m 31s\tremaining: 30.2s\n",
      "90:\tlearn: 1.0000000\ttest: 0.9878721\tbest: 0.9878721 (90)\ttotal: 4m 34s\tremaining: 27.2s\n",
      "91:\tlearn: 1.0000000\ttest: 0.9878721\tbest: 0.9878721 (90)\ttotal: 4m 38s\tremaining: 24.2s\n",
      "92:\tlearn: 1.0000000\ttest: 0.9878721\tbest: 0.9878721 (90)\ttotal: 4m 41s\tremaining: 21.2s\n",
      "93:\tlearn: 1.0000000\ttest: 0.9878721\tbest: 0.9878721 (90)\ttotal: 4m 44s\tremaining: 18.1s\n",
      "94:\tlearn: 1.0000000\ttest: 0.9875092\tbest: 0.9878721 (90)\ttotal: 4m 46s\tremaining: 15.1s\n",
      "95:\tlearn: 1.0000000\ttest: 0.9875092\tbest: 0.9878721 (90)\ttotal: 4m 49s\tremaining: 12.1s\n",
      "96:\tlearn: 1.0000000\ttest: 0.9875092\tbest: 0.9878721 (90)\ttotal: 4m 53s\tremaining: 9.07s\n",
      "97:\tlearn: 1.0000000\ttest: 0.9878721\tbest: 0.9878721 (90)\ttotal: 4m 56s\tremaining: 6.05s\n",
      "98:\tlearn: 1.0000000\ttest: 0.9885987\tbest: 0.9885987 (98)\ttotal: 5m\tremaining: 3.03s\n",
      "99:\tlearn: 1.0000000\ttest: 0.9882353\tbest: 0.9885987 (98)\ttotal: 5m 3s\tremaining: 0us\n",
      "\n",
      "bestTest = 0.9885987495\n",
      "bestIteration = 98\n",
      "\n",
      "Training on fold [6/30]\n",
      "0:\tlearn: 0.8437301\ttest: 0.8256151\tbest: 0.8256151 (0)\ttotal: 2.97s\tremaining: 4m 54s\n",
      "1:\tlearn: 0.8888078\ttest: 0.8659567\tbest: 0.8659567 (1)\ttotal: 5.91s\tremaining: 4m 49s\n",
      "2:\tlearn: 0.9111687\ttest: 0.8865300\tbest: 0.8865300 (2)\ttotal: 8.91s\tremaining: 4m 48s\n",
      "3:\tlearn: 0.9204397\ttest: 0.8922398\tbest: 0.8922398 (3)\ttotal: 11.8s\tremaining: 4m 44s\n",
      "4:\tlearn: 0.9321050\ttest: 0.9022777\tbest: 0.9022777 (4)\ttotal: 14.7s\tremaining: 4m 40s\n",
      "5:\tlearn: 0.9375381\ttest: 0.9128843\tbest: 0.9128843 (5)\ttotal: 17.6s\tremaining: 4m 36s\n",
      "6:\tlearn: 0.9433379\ttest: 0.9194139\tbest: 0.9194139 (6)\ttotal: 20.5s\tremaining: 4m 32s\n",
      "7:\tlearn: 0.9498702\ttest: 0.9262235\tbest: 0.9262235 (7)\ttotal: 23.5s\tremaining: 4m 29s\n",
      "8:\tlearn: 0.9525432\ttest: 0.9311475\tbest: 0.9311475 (8)\ttotal: 26.5s\tremaining: 4m 27s\n",
      "9:\tlearn: 0.9596885\ttest: 0.9372961\tbest: 0.9372961 (9)\ttotal: 29.4s\tremaining: 4m 24s\n",
      "10:\tlearn: 0.9628608\ttest: 0.9416878\tbest: 0.9416878 (10)\ttotal: 32.3s\tremaining: 4m 21s\n",
      "11:\tlearn: 0.9654921\ttest: 0.9449275\tbest: 0.9449275 (11)\ttotal: 35.2s\tremaining: 4m 18s\n",
      "12:\tlearn: 0.9675691\ttest: 0.9473302\tbest: 0.9473302 (12)\ttotal: 38.1s\tremaining: 4m 14s\n",
      "13:\tlearn: 0.9706431\ttest: 0.9526221\tbest: 0.9526221 (13)\ttotal: 40.8s\tremaining: 4m 10s\n",
      "14:\tlearn: 0.9716951\ttest: 0.9560202\tbest: 0.9560202 (14)\ttotal: 43.6s\tremaining: 4m 7s\n",
      "15:\tlearn: 0.9738411\ttest: 0.9574928\tbest: 0.9574928 (15)\ttotal: 46.6s\tremaining: 4m 4s\n",
      "16:\tlearn: 0.9745921\ttest: 0.9571480\tbest: 0.9574928 (15)\ttotal: 49.4s\tremaining: 4m 1s\n",
      "17:\tlearn: 0.9764214\ttest: 0.9593379\tbest: 0.9593379 (17)\ttotal: 52.3s\tremaining: 3m 58s\n",
      "18:\tlearn: 0.9769746\ttest: 0.9600576\tbest: 0.9600576 (18)\ttotal: 55.1s\tremaining: 3m 54s\n",
      "19:\tlearn: 0.9788927\ttest: 0.9640288\tbest: 0.9640288 (19)\ttotal: 57.9s\tremaining: 3m 51s\n",
      "20:\tlearn: 0.9800114\ttest: 0.9639510\tbest: 0.9640288 (19)\ttotal: 1m\tremaining: 3m 48s\n",
      "21:\tlearn: 0.9816614\ttest: 0.9644013\tbest: 0.9644013 (21)\ttotal: 1m 3s\tremaining: 3m 45s\n",
      "22:\tlearn: 0.9828288\ttest: 0.9658150\tbest: 0.9658150 (22)\ttotal: 1m 6s\tremaining: 3m 42s\n",
      "23:\tlearn: 0.9839097\ttest: 0.9661627\tbest: 0.9661627 (23)\ttotal: 1m 9s\tremaining: 3m 39s\n",
      "24:\tlearn: 0.9852899\ttest: 0.9675793\tbest: 0.9675793 (24)\ttotal: 1m 12s\tremaining: 3m 37s\n",
      "25:\tlearn: 0.9858121\ttest: 0.9686260\tbest: 0.9686260 (25)\ttotal: 1m 15s\tremaining: 3m 34s\n",
      "26:\tlearn: 0.9866569\ttest: 0.9682769\tbest: 0.9686260 (25)\ttotal: 1m 18s\tremaining: 3m 31s\n",
      "27:\tlearn: 0.9881546\ttest: 0.9682997\tbest: 0.9686260 (25)\ttotal: 1m 20s\tremaining: 3m 28s\n",
      "28:\tlearn: 0.9882757\ttest: 0.9686486\tbest: 0.9686486 (28)\ttotal: 1m 23s\tremaining: 3m 25s\n",
      "29:\tlearn: 0.9883564\ttest: 0.9682997\tbest: 0.9686486 (28)\ttotal: 1m 26s\tremaining: 3m 21s\n",
      "30:\tlearn: 0.9887604\ttest: 0.9686486\tbest: 0.9686486 (28)\ttotal: 1m 29s\tremaining: 3m 18s\n",
      "31:\tlearn: 0.9892051\ttest: 0.9696970\tbest: 0.9696970 (31)\ttotal: 1m 32s\tremaining: 3m 15s\n",
      "32:\tlearn: 0.9898122\ttest: 0.9696970\tbest: 0.9696970 (31)\ttotal: 1m 35s\tremaining: 3m 12s\n",
      "33:\tlearn: 0.9907040\ttest: 0.9700469\tbest: 0.9700469 (33)\ttotal: 1m 37s\tremaining: 3m 9s\n",
      "34:\tlearn: 0.9913129\ttest: 0.9707476\tbest: 0.9707476 (34)\ttotal: 1m 40s\tremaining: 3m 7s\n",
      "35:\tlearn: 0.9918413\ttest: 0.9707476\tbest: 0.9707476 (34)\ttotal: 1m 43s\tremaining: 3m 4s\n",
      "36:\tlearn: 0.9926552\ttest: 0.9714492\tbest: 0.9714492 (36)\ttotal: 1m 46s\tremaining: 3m 1s\n",
      "37:\tlearn: 0.9931850\ttest: 0.9725036\tbest: 0.9725036 (37)\ttotal: 1m 49s\tremaining: 2m 58s\n",
      "38:\tlearn: 0.9933481\ttest: 0.9732078\tbest: 0.9732078 (38)\ttotal: 1m 51s\tremaining: 2m 55s\n",
      "39:\tlearn: 0.9936337\ttest: 0.9732078\tbest: 0.9732078 (38)\ttotal: 1m 54s\tremaining: 2m 52s\n",
      "40:\tlearn: 0.9941645\ttest: 0.9739130\tbest: 0.9739130 (40)\ttotal: 1m 57s\tremaining: 2m 49s\n",
      "41:\tlearn: 0.9947368\ttest: 0.9742660\tbest: 0.9742660 (41)\ttotal: 2m\tremaining: 2m 46s\n",
      "42:\tlearn: 0.9949823\ttest: 0.9749728\tbest: 0.9749728 (42)\ttotal: 2m 3s\tremaining: 2m 43s\n",
      "43:\tlearn: 0.9953508\ttest: 0.9753266\tbest: 0.9753266 (43)\ttotal: 2m 6s\tremaining: 2m 40s\n",
      "44:\tlearn: 0.9955146\ttest: 0.9749728\tbest: 0.9753266 (43)\ttotal: 2m 9s\tremaining: 2m 37s\n",
      "45:\tlearn: 0.9957604\ttest: 0.9735603\tbest: 0.9753266 (43)\ttotal: 2m 11s\tremaining: 2m 34s\n",
      "46:\tlearn: 0.9961295\ttest: 0.9749728\tbest: 0.9753266 (43)\ttotal: 2m 14s\tremaining: 2m 31s\n",
      "47:\tlearn: 0.9962115\ttest: 0.9746193\tbest: 0.9753266 (43)\ttotal: 2m 17s\tremaining: 2m 28s\n",
      "48:\tlearn: 0.9964167\ttest: 0.9756806\tbest: 0.9756806 (48)\ttotal: 2m 20s\tremaining: 2m 26s\n",
      "49:\tlearn: 0.9967040\ttest: 0.9767442\tbest: 0.9767442 (49)\ttotal: 2m 23s\tremaining: 2m 23s\n",
      "50:\tlearn: 0.9968683\ttest: 0.9774545\tbest: 0.9774545 (50)\ttotal: 2m 26s\tremaining: 2m 20s\n",
      "51:\tlearn: 0.9971970\ttest: 0.9763894\tbest: 0.9774545 (50)\ttotal: 2m 28s\tremaining: 2m 17s\n",
      "52:\tlearn: 0.9975260\ttest: 0.9774545\tbest: 0.9774545 (50)\ttotal: 2m 31s\tremaining: 2m 14s\n",
      "53:\tlearn: 0.9976905\ttest: 0.9774545\tbest: 0.9774545 (50)\ttotal: 2m 34s\tremaining: 2m 11s\n",
      "54:\tlearn: 0.9977728\ttest: 0.9774545\tbest: 0.9774545 (50)\ttotal: 2m 37s\tremaining: 2m 8s\n",
      "55:\tlearn: 0.9979375\ttest: 0.9781659\tbest: 0.9781659 (55)\ttotal: 2m 40s\tremaining: 2m 5s\n",
      "56:\tlearn: 0.9979786\ttest: 0.9778101\tbest: 0.9781659 (55)\ttotal: 2m 42s\tremaining: 2m 2s\n",
      "57:\tlearn: 0.9979375\ttest: 0.9778101\tbest: 0.9781659 (55)\ttotal: 2m 45s\tremaining: 2m\n",
      "58:\tlearn: 0.9980610\ttest: 0.9778101\tbest: 0.9781659 (55)\ttotal: 2m 48s\tremaining: 1m 57s\n",
      "59:\tlearn: 0.9983081\ttest: 0.9785220\tbest: 0.9785220 (59)\ttotal: 2m 51s\tremaining: 1m 54s\n",
      "60:\tlearn: 0.9984317\ttest: 0.9792350\tbest: 0.9792350 (60)\ttotal: 2m 54s\tremaining: 1m 51s\n",
      "61:\tlearn: 0.9986790\ttest: 0.9788784\tbest: 0.9792350 (60)\ttotal: 2m 56s\tremaining: 1m 48s\n",
      "62:\tlearn: 0.9987615\ttest: 0.9788784\tbest: 0.9792350 (60)\ttotal: 2m 59s\tremaining: 1m 45s\n",
      "63:\tlearn: 0.9989264\ttest: 0.9792350\tbest: 0.9792350 (60)\ttotal: 3m 2s\tremaining: 1m 42s\n",
      "64:\tlearn: 0.9990502\ttest: 0.9799490\tbest: 0.9799490 (64)\ttotal: 3m 5s\tremaining: 1m 39s\n",
      "65:\tlearn: 0.9990914\ttest: 0.9795918\tbest: 0.9799490 (64)\ttotal: 3m 8s\tremaining: 1m 36s\n",
      "66:\tlearn: 0.9991740\ttest: 0.9806640\tbest: 0.9806640 (66)\ttotal: 3m 11s\tremaining: 1m 34s\n",
      "67:\tlearn: 0.9992565\ttest: 0.9803063\tbest: 0.9806640 (66)\ttotal: 3m 13s\tremaining: 1m 31s\n",
      "68:\tlearn: 0.9993391\ttest: 0.9803063\tbest: 0.9806640 (66)\ttotal: 3m 16s\tremaining: 1m 28s\n",
      "69:\tlearn: 0.9994629\ttest: 0.9806640\tbest: 0.9806640 (66)\ttotal: 3m 19s\tremaining: 1m 25s\n",
      "70:\tlearn: 0.9995042\ttest: 0.9803063\tbest: 0.9806640 (66)\ttotal: 3m 22s\tremaining: 1m 22s\n",
      "71:\tlearn: 0.9995042\ttest: 0.9803063\tbest: 0.9806640 (66)\ttotal: 3m 24s\tremaining: 1m 19s\n",
      "72:\tlearn: 0.9995042\ttest: 0.9799490\tbest: 0.9806640 (66)\ttotal: 3m 27s\tremaining: 1m 16s\n",
      "73:\tlearn: 0.9995455\ttest: 0.9803063\tbest: 0.9806640 (66)\ttotal: 3m 30s\tremaining: 1m 13s\n",
      "74:\tlearn: 0.9995868\ttest: 0.9803063\tbest: 0.9806640 (66)\ttotal: 3m 33s\tremaining: 1m 11s\n",
      "75:\tlearn: 0.9996281\ttest: 0.9810219\tbest: 0.9810219 (75)\ttotal: 3m 35s\tremaining: 1m 8s\n",
      "76:\tlearn: 0.9995868\ttest: 0.9810219\tbest: 0.9810219 (75)\ttotal: 3m 38s\tremaining: 1m 5s\n",
      "77:\tlearn: 0.9996694\ttest: 0.9813801\tbest: 0.9813801 (77)\ttotal: 3m 41s\tremaining: 1m 2s\n",
      "78:\tlearn: 0.9997107\ttest: 0.9810219\tbest: 0.9813801 (77)\ttotal: 3m 44s\tremaining: 59.6s\n",
      "79:\tlearn: 0.9997107\ttest: 0.9813801\tbest: 0.9813801 (77)\ttotal: 3m 46s\tremaining: 56.7s\n",
      "80:\tlearn: 0.9997520\ttest: 0.9817385\tbest: 0.9817385 (80)\ttotal: 3m 49s\tremaining: 53.9s\n",
      "81:\tlearn: 0.9998347\ttest: 0.9820972\tbest: 0.9820972 (81)\ttotal: 3m 52s\tremaining: 51.1s\n",
      "82:\tlearn: 0.9998347\ttest: 0.9820972\tbest: 0.9820972 (81)\ttotal: 3m 55s\tremaining: 48.2s\n",
      "83:\tlearn: 0.9999173\ttest: 0.9817385\tbest: 0.9820972 (81)\ttotal: 3m 58s\tremaining: 45.4s\n",
      "84:\tlearn: 0.9998760\ttest: 0.9813801\tbest: 0.9820972 (81)\ttotal: 4m 1s\tremaining: 42.5s\n",
      "85:\tlearn: 0.9999173\ttest: 0.9820972\tbest: 0.9820972 (81)\ttotal: 4m 3s\tremaining: 39.7s\n",
      "86:\tlearn: 0.9999173\ttest: 0.9824561\tbest: 0.9824561 (86)\ttotal: 4m 6s\tremaining: 36.9s\n",
      "87:\tlearn: 0.9999173\ttest: 0.9817385\tbest: 0.9824561 (86)\ttotal: 4m 9s\tremaining: 34s\n",
      "88:\tlearn: 0.9999173\ttest: 0.9824561\tbest: 0.9824561 (86)\ttotal: 4m 12s\tremaining: 31.2s\n",
      "89:\tlearn: 0.9999173\ttest: 0.9828154\tbest: 0.9828154 (89)\ttotal: 4m 15s\tremaining: 28.4s\n",
      "90:\tlearn: 0.9999587\ttest: 0.9824561\tbest: 0.9828154 (89)\ttotal: 4m 18s\tremaining: 25.5s\n",
      "91:\tlearn: 0.9999587\ttest: 0.9824561\tbest: 0.9828154 (89)\ttotal: 4m 20s\tremaining: 22.7s\n",
      "92:\tlearn: 0.9999587\ttest: 0.9820972\tbest: 0.9828154 (89)\ttotal: 4m 23s\tremaining: 19.8s\n",
      "93:\tlearn: 0.9999587\ttest: 0.9820972\tbest: 0.9828154 (89)\ttotal: 4m 26s\tremaining: 17s\n",
      "94:\tlearn: 0.9999587\ttest: 0.9824561\tbest: 0.9828154 (89)\ttotal: 4m 29s\tremaining: 14.2s\n",
      "95:\tlearn: 0.9999587\ttest: 0.9824561\tbest: 0.9828154 (89)\ttotal: 4m 32s\tremaining: 11.3s\n",
      "96:\tlearn: 1.0000000\ttest: 0.9828154\tbest: 0.9828154 (89)\ttotal: 4m 34s\tremaining: 8.5s\n",
      "97:\tlearn: 1.0000000\ttest: 0.9828154\tbest: 0.9828154 (89)\ttotal: 4m 37s\tremaining: 5.67s\n",
      "98:\tlearn: 1.0000000\ttest: 0.9828154\tbest: 0.9828154 (89)\ttotal: 4m 40s\tremaining: 2.83s\n",
      "99:\tlearn: 1.0000000\ttest: 0.9828154\tbest: 0.9828154 (89)\ttotal: 4m 43s\tremaining: 0us\n",
      "\n",
      "bestTest = 0.9828153565\n",
      "bestIteration = 89\n",
      "\n",
      "Training on fold [7/30]\n",
      "0:\tlearn: 0.8485833\ttest: 0.8263864\tbest: 0.8263864 (0)\ttotal: 2.98s\tremaining: 4m 54s\n",
      "1:\tlearn: 0.8916444\ttest: 0.8732901\tbest: 0.8732901 (1)\ttotal: 5.88s\tremaining: 4m 48s\n",
      "2:\tlearn: 0.9116547\ttest: 0.8890506\tbest: 0.8890506 (2)\ttotal: 8.82s\tremaining: 4m 45s\n",
      "3:\tlearn: 0.9212800\ttest: 0.9029444\tbest: 0.9029444 (3)\ttotal: 11.8s\tremaining: 4m 44s\n",
      "4:\tlearn: 0.9302099\ttest: 0.9148472\tbest: 0.9148472 (4)\ttotal: 14.7s\tremaining: 4m 40s\n",
      "5:\tlearn: 0.9393437\ttest: 0.9221297\tbest: 0.9221297 (5)\ttotal: 17.7s\tremaining: 4m 37s\n",
      "6:\tlearn: 0.9479507\ttest: 0.9269704\tbest: 0.9269704 (6)\ttotal: 20.7s\tremaining: 4m 35s\n",
      "7:\tlearn: 0.9527689\ttest: 0.9349155\tbest: 0.9349155 (7)\ttotal: 23.7s\tremaining: 4m 32s\n",
      "8:\tlearn: 0.9569119\ttest: 0.9373650\tbest: 0.9373650 (8)\ttotal: 26.6s\tremaining: 4m 29s\n",
      "9:\tlearn: 0.9619884\ttest: 0.9415561\tbest: 0.9415561 (9)\ttotal: 29.5s\tremaining: 4m 25s\n",
      "10:\tlearn: 0.9652910\ttest: 0.9442060\tbest: 0.9442060 (10)\ttotal: 32.4s\tremaining: 4m 22s\n",
      "11:\tlearn: 0.9676402\ttest: 0.9507495\tbest: 0.9507495 (11)\ttotal: 35.3s\tremaining: 4m 19s\n",
      "12:\tlearn: 0.9710127\ttest: 0.9524830\tbest: 0.9524830 (12)\ttotal: 38.2s\tremaining: 4m 15s\n",
      "13:\tlearn: 0.9721009\ttest: 0.9492495\tbest: 0.9524830 (12)\ttotal: 41.1s\tremaining: 4m 12s\n",
      "14:\tlearn: 0.9743258\ttest: 0.9539121\tbest: 0.9539121 (14)\ttotal: 43.9s\tremaining: 4m 8s\n",
      "15:\tlearn: 0.9759017\ttest: 0.9560243\tbest: 0.9560243 (15)\ttotal: 46.7s\tremaining: 4m 5s\n",
      "16:\tlearn: 0.9768891\ttest: 0.9556826\tbest: 0.9560243 (15)\ttotal: 49.5s\tremaining: 4m 1s\n",
      "17:\tlearn: 0.9781436\ttest: 0.9577364\tbest: 0.9577364 (17)\ttotal: 52.4s\tremaining: 3m 58s\n",
      "18:\tlearn: 0.9794362\ttest: 0.9587961\tbest: 0.9587961 (18)\ttotal: 55.3s\tremaining: 3m 55s\n",
      "19:\tlearn: 0.9805577\ttest: 0.9616075\tbest: 0.9616075 (19)\ttotal: 58.2s\tremaining: 3m 52s\n",
      "20:\tlearn: 0.9816749\ttest: 0.9622709\tbest: 0.9622709 (20)\ttotal: 1m 1s\tremaining: 3m 50s\n",
      "21:\tlearn: 0.9832479\ttest: 0.9623521\tbest: 0.9623521 (21)\ttotal: 1m 4s\tremaining: 3m 47s\n",
      "22:\tlearn: 0.9838480\ttest: 0.9633884\tbest: 0.9633884 (22)\ttotal: 1m 7s\tremaining: 3m 44s\n",
      "23:\tlearn: 0.9840482\ttest: 0.9637343\tbest: 0.9637343 (23)\ttotal: 1m 9s\tremaining: 3m 41s\n",
      "24:\tlearn: 0.9852510\ttest: 0.9640805\tbest: 0.9640805 (24)\ttotal: 1m 12s\tremaining: 3m 38s\n",
      "25:\tlearn: 0.9863014\ttest: 0.9662114\tbest: 0.9662114 (25)\ttotal: 1m 15s\tremaining: 3m 35s\n",
      "26:\tlearn: 0.9874689\ttest: 0.9665588\tbest: 0.9665588 (26)\ttotal: 1m 18s\tremaining: 3m 32s\n",
      "27:\tlearn: 0.9881546\ttest: 0.9679510\tbest: 0.9679510 (27)\ttotal: 1m 21s\tremaining: 3m 29s\n",
      "28:\tlearn: 0.9886796\ttest: 0.9669065\tbest: 0.9679510 (27)\ttotal: 1m 24s\tremaining: 3m 26s\n",
      "29:\tlearn: 0.9890838\ttest: 0.9662114\tbest: 0.9679510 (27)\ttotal: 1m 26s\tremaining: 3m 22s\n",
      "30:\tlearn: 0.9897717\ttest: 0.9662114\tbest: 0.9679510 (27)\ttotal: 1m 29s\tremaining: 3m 19s\n",
      "31:\tlearn: 0.9903795\ttest: 0.9655172\tbest: 0.9679510 (27)\ttotal: 1m 32s\tremaining: 3m 16s\n",
      "32:\tlearn: 0.9911504\ttest: 0.9669065\tbest: 0.9679510 (27)\ttotal: 1m 35s\tremaining: 3m 13s\n",
      "33:\tlearn: 0.9919226\ttest: 0.9679510\tbest: 0.9679510 (27)\ttotal: 1m 38s\tremaining: 3m 10s\n",
      "34:\tlearn: 0.9921260\ttest: 0.9672544\tbest: 0.9679510 (27)\ttotal: 1m 41s\tremaining: 3m 8s\n",
      "35:\tlearn: 0.9925737\ttest: 0.9679510\tbest: 0.9679510 (27)\ttotal: 1m 44s\tremaining: 3m 5s\n",
      "36:\tlearn: 0.9933073\ttest: 0.9693473\tbest: 0.9693473 (36)\ttotal: 1m 47s\tremaining: 3m 2s\n",
      "37:\tlearn: 0.9933073\ttest: 0.9693473\tbest: 0.9693473 (36)\ttotal: 1m 49s\tremaining: 2m 59s\n",
      "38:\tlearn: 0.9935929\ttest: 0.9700469\tbest: 0.9700469 (38)\ttotal: 1m 52s\tremaining: 2m 56s\n",
      "39:\tlearn: 0.9942871\ttest: 0.9710983\tbest: 0.9710983 (39)\ttotal: 1m 55s\tremaining: 2m 53s\n",
      "40:\tlearn: 0.9945324\ttest: 0.9718004\tbest: 0.9718004 (40)\ttotal: 1m 58s\tremaining: 2m 50s\n",
      "41:\tlearn: 0.9950232\ttest: 0.9732078\tbest: 0.9732078 (41)\ttotal: 2m 1s\tremaining: 2m 47s\n",
      "42:\tlearn: 0.9954736\ttest: 0.9732078\tbest: 0.9732078 (41)\ttotal: 2m 4s\tremaining: 2m 44s\n",
      "43:\tlearn: 0.9955965\ttest: 0.9739130\tbest: 0.9739130 (43)\ttotal: 2m 6s\tremaining: 2m 41s\n",
      "44:\tlearn: 0.9958424\ttest: 0.9739130\tbest: 0.9739130 (43)\ttotal: 2m 9s\tremaining: 2m 38s\n",
      "45:\tlearn: 0.9959654\ttest: 0.9728556\tbest: 0.9739130 (43)\ttotal: 2m 12s\tremaining: 2m 35s\n",
      "46:\tlearn: 0.9962115\ttest: 0.9732078\tbest: 0.9739130 (43)\ttotal: 2m 15s\tremaining: 2m 32s\n",
      "47:\tlearn: 0.9965398\ttest: 0.9739130\tbest: 0.9739130 (43)\ttotal: 2m 17s\tremaining: 2m 29s\n",
      "48:\tlearn: 0.9967040\ttest: 0.9746193\tbest: 0.9746193 (48)\ttotal: 2m 20s\tremaining: 2m 26s\n",
      "49:\tlearn: 0.9970737\ttest: 0.9739130\tbest: 0.9746193 (48)\ttotal: 2m 23s\tremaining: 2m 23s\n",
      "50:\tlearn: 0.9971559\ttest: 0.9739130\tbest: 0.9746193 (48)\ttotal: 2m 26s\tremaining: 2m 20s\n",
      "51:\tlearn: 0.9972381\ttest: 0.9742660\tbest: 0.9746193 (48)\ttotal: 2m 29s\tremaining: 2m 17s\n",
      "52:\tlearn: 0.9977317\ttest: 0.9742660\tbest: 0.9746193 (48)\ttotal: 2m 32s\tremaining: 2m 15s\n",
      "53:\tlearn: 0.9979375\ttest: 0.9739130\tbest: 0.9746193 (48)\ttotal: 2m 35s\tremaining: 2m 12s\n",
      "54:\tlearn: 0.9981022\ttest: 0.9742660\tbest: 0.9746193 (48)\ttotal: 2m 37s\tremaining: 2m 9s\n",
      "55:\tlearn: 0.9983081\ttest: 0.9732078\tbest: 0.9746193 (48)\ttotal: 2m 40s\tremaining: 2m 6s\n",
      "56:\tlearn: 0.9983493\ttest: 0.9746193\tbest: 0.9746193 (48)\ttotal: 2m 43s\tremaining: 2m 3s\n",
      "57:\tlearn: 0.9985141\ttest: 0.9739130\tbest: 0.9746193 (48)\ttotal: 2m 46s\tremaining: 2m\n",
      "58:\tlearn: 0.9985141\ttest: 0.9739130\tbest: 0.9746193 (48)\ttotal: 2m 49s\tremaining: 1m 57s\n",
      "59:\tlearn: 0.9985965\ttest: 0.9749728\tbest: 0.9749728 (59)\ttotal: 2m 51s\tremaining: 1m 54s\n",
      "60:\tlearn: 0.9986378\ttest: 0.9749728\tbest: 0.9749728 (59)\ttotal: 2m 54s\tremaining: 1m 51s\n",
      "61:\tlearn: 0.9988439\ttest: 0.9753266\tbest: 0.9753266 (61)\ttotal: 2m 57s\tremaining: 1m 48s\n",
      "62:\tlearn: 0.9989677\ttest: 0.9756806\tbest: 0.9756806 (62)\ttotal: 3m\tremaining: 1m 45s\n",
      "63:\tlearn: 0.9992152\ttest: 0.9756806\tbest: 0.9756806 (62)\ttotal: 3m 3s\tremaining: 1m 42s\n",
      "64:\tlearn: 0.9992978\ttest: 0.9756806\tbest: 0.9756806 (62)\ttotal: 3m 5s\tremaining: 1m 40s\n",
      "65:\tlearn: 0.9994216\ttest: 0.9760349\tbest: 0.9760349 (65)\ttotal: 3m 8s\tremaining: 1m 37s\n",
      "66:\tlearn: 0.9994216\ttest: 0.9760349\tbest: 0.9760349 (65)\ttotal: 3m 11s\tremaining: 1m 34s\n",
      "67:\tlearn: 0.9995042\ttest: 0.9763894\tbest: 0.9763894 (67)\ttotal: 3m 14s\tremaining: 1m 31s\n",
      "68:\tlearn: 0.9995455\ttest: 0.9763894\tbest: 0.9763894 (67)\ttotal: 3m 16s\tremaining: 1m 28s\n",
      "69:\tlearn: 0.9995455\ttest: 0.9760349\tbest: 0.9763894 (67)\ttotal: 3m 19s\tremaining: 1m 25s\n",
      "70:\tlearn: 0.9995868\ttest: 0.9760349\tbest: 0.9763894 (67)\ttotal: 3m 22s\tremaining: 1m 22s\n",
      "71:\tlearn: 0.9995868\ttest: 0.9760349\tbest: 0.9763894 (67)\ttotal: 3m 25s\tremaining: 1m 19s\n",
      "72:\tlearn: 0.9997107\ttest: 0.9760349\tbest: 0.9763894 (67)\ttotal: 3m 28s\tremaining: 1m 17s\n",
      "73:\tlearn: 0.9997520\ttest: 0.9763894\tbest: 0.9763894 (67)\ttotal: 3m 31s\tremaining: 1m 14s\n",
      "74:\tlearn: 0.9997934\ttest: 0.9767442\tbest: 0.9767442 (74)\ttotal: 3m 33s\tremaining: 1m 11s\n",
      "75:\tlearn: 0.9998760\ttest: 0.9770992\tbest: 0.9770992 (75)\ttotal: 3m 36s\tremaining: 1m 8s\n",
      "76:\tlearn: 0.9998760\ttest: 0.9774545\tbest: 0.9774545 (76)\ttotal: 3m 39s\tremaining: 1m 5s\n",
      "77:\tlearn: 0.9999173\ttest: 0.9778101\tbest: 0.9778101 (77)\ttotal: 3m 42s\tremaining: 1m 2s\n",
      "78:\tlearn: 0.9999587\ttest: 0.9778101\tbest: 0.9778101 (77)\ttotal: 3m 45s\tremaining: 59.9s\n",
      "79:\tlearn: 0.9999587\ttest: 0.9781659\tbest: 0.9781659 (79)\ttotal: 3m 48s\tremaining: 57s\n",
      "80:\tlearn: 0.9999587\ttest: 0.9781659\tbest: 0.9781659 (79)\ttotal: 3m 50s\tremaining: 54.2s\n",
      "81:\tlearn: 1.0000000\ttest: 0.9778101\tbest: 0.9781659 (79)\ttotal: 3m 53s\tremaining: 51.3s\n",
      "82:\tlearn: 1.0000000\ttest: 0.9778101\tbest: 0.9781659 (79)\ttotal: 3m 56s\tremaining: 48.5s\n",
      "83:\tlearn: 1.0000000\ttest: 0.9778101\tbest: 0.9781659 (79)\ttotal: 3m 59s\tremaining: 45.6s\n",
      "84:\tlearn: 1.0000000\ttest: 0.9778101\tbest: 0.9781659 (79)\ttotal: 4m 2s\tremaining: 42.7s\n",
      "85:\tlearn: 1.0000000\ttest: 0.9778101\tbest: 0.9781659 (79)\ttotal: 4m 4s\tremaining: 39.9s\n",
      "86:\tlearn: 1.0000000\ttest: 0.9774545\tbest: 0.9781659 (79)\ttotal: 4m 7s\tremaining: 37s\n",
      "87:\tlearn: 1.0000000\ttest: 0.9774545\tbest: 0.9781659 (79)\ttotal: 4m 10s\tremaining: 34.2s\n",
      "88:\tlearn: 1.0000000\ttest: 0.9778101\tbest: 0.9781659 (79)\ttotal: 4m 13s\tremaining: 31.3s\n",
      "89:\tlearn: 1.0000000\ttest: 0.9778101\tbest: 0.9781659 (79)\ttotal: 4m 16s\tremaining: 28.5s\n",
      "90:\tlearn: 1.0000000\ttest: 0.9778101\tbest: 0.9781659 (79)\ttotal: 4m 18s\tremaining: 25.6s\n",
      "91:\tlearn: 1.0000000\ttest: 0.9774545\tbest: 0.9781659 (79)\ttotal: 4m 21s\tremaining: 22.8s\n",
      "92:\tlearn: 1.0000000\ttest: 0.9774545\tbest: 0.9781659 (79)\ttotal: 4m 24s\tremaining: 19.9s\n",
      "93:\tlearn: 1.0000000\ttest: 0.9778101\tbest: 0.9781659 (79)\ttotal: 4m 27s\tremaining: 17.1s\n",
      "94:\tlearn: 1.0000000\ttest: 0.9792350\tbest: 0.9792350 (94)\ttotal: 4m 30s\tremaining: 14.2s\n",
      "95:\tlearn: 1.0000000\ttest: 0.9788784\tbest: 0.9792350 (94)\ttotal: 4m 33s\tremaining: 11.4s\n",
      "96:\tlearn: 1.0000000\ttest: 0.9785220\tbest: 0.9792350 (94)\ttotal: 4m 35s\tremaining: 8.53s\n",
      "97:\tlearn: 1.0000000\ttest: 0.9788784\tbest: 0.9792350 (94)\ttotal: 4m 38s\tremaining: 5.69s\n",
      "98:\tlearn: 1.0000000\ttest: 0.9792350\tbest: 0.9792350 (94)\ttotal: 4m 41s\tremaining: 2.84s\n",
      "99:\tlearn: 1.0000000\ttest: 0.9792350\tbest: 0.9792350 (94)\ttotal: 4m 44s\tremaining: 0us\n",
      "\n",
      "bestTest = 0.9792349727\n",
      "bestIteration = 94\n",
      "\n",
      "Training on fold [8/30]\n",
      "0:\tlearn: 0.8495220\ttest: 0.8377001\tbest: 0.8377001 (0)\ttotal: 2.96s\tremaining: 4m 52s\n",
      "1:\tlearn: 0.8871760\ttest: 0.8753199\tbest: 0.8753199 (1)\ttotal: 5.82s\tremaining: 4m 45s\n",
      "2:\tlearn: 0.9059927\ttest: 0.8875827\tbest: 0.8875827 (2)\ttotal: 8.81s\tremaining: 4m 44s\n",
      "3:\tlearn: 0.9169359\ttest: 0.9028445\tbest: 0.9028445 (3)\ttotal: 11.6s\tremaining: 4m 39s\n",
      "4:\tlearn: 0.9312921\ttest: 0.9170048\tbest: 0.9170048 (4)\ttotal: 14.5s\tremaining: 4m 35s\n",
      "5:\tlearn: 0.9437637\ttest: 0.9266862\tbest: 0.9266862 (5)\ttotal: 17.4s\tremaining: 4m 31s\n",
      "6:\tlearn: 0.9493199\ttest: 0.9339657\tbest: 0.9339657 (6)\ttotal: 20.3s\tremaining: 4m 29s\n",
      "7:\tlearn: 0.9531326\ttest: 0.9394161\tbest: 0.9394161 (7)\ttotal: 23.3s\tremaining: 4m 27s\n",
      "8:\tlearn: 0.9575949\ttest: 0.9457590\tbest: 0.9457590 (8)\ttotal: 26.1s\tremaining: 4m 24s\n",
      "9:\tlearn: 0.9603567\ttest: 0.9461426\tbest: 0.9461426 (9)\ttotal: 29.1s\tremaining: 4m 22s\n",
      "10:\tlearn: 0.9651959\ttest: 0.9524501\tbest: 0.9524501 (10)\ttotal: 32.1s\tremaining: 4m 19s\n",
      "11:\tlearn: 0.9675354\ttest: 0.9549746\tbest: 0.9549746 (11)\ttotal: 35s\tremaining: 4m 16s\n",
      "12:\tlearn: 0.9705906\ttest: 0.9606987\tbest: 0.9606987 (12)\ttotal: 37.9s\tremaining: 4m 13s\n",
      "13:\tlearn: 0.9730978\ttest: 0.9633127\tbest: 0.9633127 (13)\ttotal: 40.8s\tremaining: 4m 10s\n",
      "14:\tlearn: 0.9745189\ttest: 0.9640653\tbest: 0.9640653 (14)\ttotal: 43.6s\tremaining: 4m 7s\n",
      "15:\tlearn: 0.9763409\ttest: 0.9663166\tbest: 0.9663166 (15)\ttotal: 46.4s\tremaining: 4m 3s\n",
      "16:\tlearn: 0.9786699\ttest: 0.9678119\tbest: 0.9678119 (16)\ttotal: 49.4s\tremaining: 4m 1s\n",
      "17:\tlearn: 0.9802490\ttest: 0.9671836\tbest: 0.9678119 (16)\ttotal: 52.3s\tremaining: 3m 58s\n",
      "18:\tlearn: 0.9808457\ttest: 0.9678816\tbest: 0.9678816 (18)\ttotal: 55.1s\tremaining: 3m 55s\n",
      "19:\tlearn: 0.9817709\ttest: 0.9693030\tbest: 0.9693030 (19)\ttotal: 58s\tremaining: 3m 51s\n",
      "20:\tlearn: 0.9836945\ttest: 0.9710983\tbest: 0.9710983 (20)\ttotal: 1m\tremaining: 3m 48s\n",
      "21:\tlearn: 0.9841748\ttest: 0.9718004\tbest: 0.9718004 (21)\ttotal: 1m 3s\tremaining: 3m 45s\n",
      "22:\tlearn: 0.9849762\ttest: 0.9721519\tbest: 0.9721519 (22)\ttotal: 1m 6s\tremaining: 3m 43s\n",
      "23:\tlearn: 0.9854577\ttest: 0.9732078\tbest: 0.9732078 (23)\ttotal: 1m 9s\tremaining: 3m 40s\n",
      "24:\tlearn: 0.9863014\ttest: 0.9728556\tbest: 0.9732078 (23)\ttotal: 1m 12s\tremaining: 3m 37s\n",
      "25:\tlearn: 0.9865427\ttest: 0.9735603\tbest: 0.9735603 (25)\ttotal: 1m 15s\tremaining: 3m 34s\n",
      "26:\tlearn: 0.9878318\ttest: 0.9735603\tbest: 0.9735603 (25)\ttotal: 1m 18s\tremaining: 3m 31s\n",
      "27:\tlearn: 0.9888008\ttest: 0.9742660\tbest: 0.9742660 (27)\ttotal: 1m 20s\tremaining: 3m 28s\n",
      "28:\tlearn: 0.9892860\ttest: 0.9742660\tbest: 0.9742660 (27)\ttotal: 1m 23s\tremaining: 3m 25s\n",
      "29:\tlearn: 0.9894883\ttest: 0.9753266\tbest: 0.9753266 (29)\ttotal: 1m 26s\tremaining: 3m 22s\n",
      "30:\tlearn: 0.9900147\ttest: 0.9756806\tbest: 0.9756806 (30)\ttotal: 1m 29s\tremaining: 3m 18s\n",
      "31:\tlearn: 0.9907851\ttest: 0.9756806\tbest: 0.9756806 (30)\ttotal: 1m 32s\tremaining: 3m 15s\n",
      "32:\tlearn: 0.9912317\ttest: 0.9774545\tbest: 0.9774545 (32)\ttotal: 1m 35s\tremaining: 3m 12s\n",
      "33:\tlearn: 0.9915567\ttest: 0.9774545\tbest: 0.9774545 (32)\ttotal: 1m 37s\tremaining: 3m 9s\n",
      "34:\tlearn: 0.9921667\ttest: 0.9778101\tbest: 0.9778101 (34)\ttotal: 1m 40s\tremaining: 3m 7s\n",
      "35:\tlearn: 0.9925737\ttest: 0.9785220\tbest: 0.9785220 (35)\ttotal: 1m 43s\tremaining: 3m 4s\n",
      "36:\tlearn: 0.9928182\ttest: 0.9781659\tbest: 0.9785220 (35)\ttotal: 1m 46s\tremaining: 3m 1s\n",
      "37:\tlearn: 0.9931850\ttest: 0.9788784\tbest: 0.9788784 (37)\ttotal: 1m 49s\tremaining: 2m 58s\n",
      "38:\tlearn: 0.9931442\ttest: 0.9788784\tbest: 0.9788784 (37)\ttotal: 1m 52s\tremaining: 2m 55s\n",
      "39:\tlearn: 0.9935929\ttest: 0.9788784\tbest: 0.9788784 (37)\ttotal: 1m 54s\tremaining: 2m 52s\n",
      "40:\tlearn: 0.9937970\ttest: 0.9799490\tbest: 0.9799490 (40)\ttotal: 1m 57s\tremaining: 2m 49s\n",
      "41:\tlearn: 0.9942463\ttest: 0.9792350\tbest: 0.9799490 (40)\ttotal: 2m\tremaining: 2m 46s\n",
      "42:\tlearn: 0.9946142\ttest: 0.9792350\tbest: 0.9799490 (40)\ttotal: 2m 3s\tremaining: 2m 43s\n",
      "43:\tlearn: 0.9953098\ttest: 0.9795918\tbest: 0.9799490 (40)\ttotal: 2m 6s\tremaining: 2m 40s\n",
      "44:\tlearn: 0.9957195\ttest: 0.9792350\tbest: 0.9799490 (40)\ttotal: 2m 9s\tremaining: 2m 37s\n",
      "45:\tlearn: 0.9959244\ttest: 0.9788784\tbest: 0.9799490 (40)\ttotal: 2m 11s\tremaining: 2m 34s\n",
      "46:\tlearn: 0.9959654\ttest: 0.9803063\tbest: 0.9803063 (46)\ttotal: 2m 14s\tremaining: 2m 31s\n",
      "47:\tlearn: 0.9962936\ttest: 0.9803063\tbest: 0.9803063 (46)\ttotal: 2m 17s\tremaining: 2m 28s\n",
      "48:\tlearn: 0.9964577\ttest: 0.9806640\tbest: 0.9806640 (48)\ttotal: 2m 20s\tremaining: 2m 26s\n",
      "49:\tlearn: 0.9967040\ttest: 0.9806640\tbest: 0.9806640 (48)\ttotal: 2m 23s\tremaining: 2m 23s\n",
      "50:\tlearn: 0.9968272\ttest: 0.9806640\tbest: 0.9806640 (48)\ttotal: 2m 25s\tremaining: 2m 20s\n",
      "51:\tlearn: 0.9970326\ttest: 0.9806640\tbest: 0.9806640 (48)\ttotal: 2m 28s\tremaining: 2m 17s\n",
      "52:\tlearn: 0.9973204\ttest: 0.9803063\tbest: 0.9806640 (48)\ttotal: 2m 31s\tremaining: 2m 14s\n",
      "53:\tlearn: 0.9975671\ttest: 0.9803063\tbest: 0.9806640 (48)\ttotal: 2m 34s\tremaining: 2m 11s\n",
      "54:\tlearn: 0.9975671\ttest: 0.9803063\tbest: 0.9806640 (48)\ttotal: 2m 36s\tremaining: 2m 8s\n",
      "55:\tlearn: 0.9976905\ttest: 0.9806640\tbest: 0.9806640 (48)\ttotal: 2m 39s\tremaining: 2m 5s\n",
      "56:\tlearn: 0.9976905\ttest: 0.9810219\tbest: 0.9810219 (56)\ttotal: 2m 42s\tremaining: 2m 2s\n",
      "57:\tlearn: 0.9978551\ttest: 0.9817385\tbest: 0.9817385 (57)\ttotal: 2m 45s\tremaining: 1m 59s\n",
      "58:\tlearn: 0.9979375\ttest: 0.9817385\tbest: 0.9817385 (57)\ttotal: 2m 48s\tremaining: 1m 57s\n",
      "59:\tlearn: 0.9981022\ttest: 0.9817385\tbest: 0.9817385 (57)\ttotal: 2m 51s\tremaining: 1m 54s\n",
      "60:\tlearn: 0.9982257\ttest: 0.9813801\tbest: 0.9817385 (57)\ttotal: 2m 54s\tremaining: 1m 51s\n",
      "61:\tlearn: 0.9985141\ttest: 0.9820972\tbest: 0.9820972 (61)\ttotal: 2m 56s\tremaining: 1m 48s\n",
      "62:\tlearn: 0.9987202\ttest: 0.9817385\tbest: 0.9820972 (61)\ttotal: 2m 59s\tremaining: 1m 45s\n",
      "63:\tlearn: 0.9987202\ttest: 0.9820972\tbest: 0.9820972 (61)\ttotal: 3m 2s\tremaining: 1m 42s\n",
      "64:\tlearn: 0.9988027\ttest: 0.9828154\tbest: 0.9828154 (64)\ttotal: 3m 5s\tremaining: 1m 39s\n",
      "65:\tlearn: 0.9988439\ttest: 0.9828154\tbest: 0.9828154 (64)\ttotal: 3m 8s\tremaining: 1m 36s\n",
      "66:\tlearn: 0.9989264\ttest: 0.9835346\tbest: 0.9835346 (66)\ttotal: 3m 10s\tremaining: 1m 33s\n",
      "67:\tlearn: 0.9990089\ttest: 0.9831748\tbest: 0.9835346 (66)\ttotal: 3m 13s\tremaining: 1m 31s\n",
      "68:\tlearn: 0.9992152\ttest: 0.9828154\tbest: 0.9835346 (66)\ttotal: 3m 16s\tremaining: 1m 28s\n",
      "69:\tlearn: 0.9992565\ttest: 0.9835346\tbest: 0.9835346 (66)\ttotal: 3m 19s\tremaining: 1m 25s\n",
      "70:\tlearn: 0.9992978\ttest: 0.9831748\tbest: 0.9835346 (66)\ttotal: 3m 22s\tremaining: 1m 22s\n",
      "71:\tlearn: 0.9994216\ttest: 0.9828154\tbest: 0.9835346 (66)\ttotal: 3m 25s\tremaining: 1m 19s\n",
      "72:\tlearn: 0.9994629\ttest: 0.9820972\tbest: 0.9835346 (66)\ttotal: 3m 27s\tremaining: 1m 16s\n",
      "73:\tlearn: 0.9995455\ttest: 0.9820972\tbest: 0.9835346 (66)\ttotal: 3m 30s\tremaining: 1m 14s\n",
      "74:\tlearn: 0.9995868\ttest: 0.9824561\tbest: 0.9835346 (66)\ttotal: 3m 33s\tremaining: 1m 11s\n",
      "75:\tlearn: 0.9995868\ttest: 0.9828154\tbest: 0.9835346 (66)\ttotal: 3m 36s\tremaining: 1m 8s\n",
      "76:\tlearn: 0.9997520\ttest: 0.9828154\tbest: 0.9835346 (66)\ttotal: 3m 39s\tremaining: 1m 5s\n",
      "77:\tlearn: 0.9997520\ttest: 0.9828154\tbest: 0.9835346 (66)\ttotal: 3m 42s\tremaining: 1m 2s\n",
      "78:\tlearn: 0.9997934\ttest: 0.9831748\tbest: 0.9835346 (66)\ttotal: 3m 44s\tremaining: 59.8s\n",
      "79:\tlearn: 0.9997934\ttest: 0.9838946\tbest: 0.9838946 (79)\ttotal: 3m 47s\tremaining: 56.9s\n",
      "80:\tlearn: 0.9997934\ttest: 0.9831748\tbest: 0.9838946 (79)\ttotal: 3m 50s\tremaining: 54s\n",
      "81:\tlearn: 0.9998347\ttest: 0.9835346\tbest: 0.9838946 (79)\ttotal: 3m 53s\tremaining: 51.2s\n",
      "82:\tlearn: 0.9998347\ttest: 0.9835346\tbest: 0.9838946 (79)\ttotal: 3m 55s\tremaining: 48.3s\n",
      "83:\tlearn: 0.9998347\ttest: 0.9831748\tbest: 0.9838946 (79)\ttotal: 3m 58s\tremaining: 45.5s\n",
      "84:\tlearn: 0.9998347\ttest: 0.9835346\tbest: 0.9838946 (79)\ttotal: 4m 1s\tremaining: 42.6s\n",
      "85:\tlearn: 0.9998347\ttest: 0.9835346\tbest: 0.9838946 (79)\ttotal: 4m 4s\tremaining: 39.8s\n",
      "86:\tlearn: 0.9998760\ttest: 0.9835346\tbest: 0.9838946 (79)\ttotal: 4m 7s\tremaining: 36.9s\n",
      "87:\tlearn: 0.9998760\ttest: 0.9835346\tbest: 0.9838946 (79)\ttotal: 4m 9s\tremaining: 34.1s\n",
      "88:\tlearn: 0.9999173\ttest: 0.9831748\tbest: 0.9838946 (79)\ttotal: 4m 12s\tremaining: 31.2s\n",
      "89:\tlearn: 0.9999173\ttest: 0.9835346\tbest: 0.9838946 (79)\ttotal: 4m 15s\tremaining: 28.4s\n",
      "90:\tlearn: 0.9999173\ttest: 0.9835346\tbest: 0.9838946 (79)\ttotal: 4m 17s\tremaining: 25.5s\n",
      "91:\tlearn: 0.9999173\ttest: 0.9838946\tbest: 0.9838946 (79)\ttotal: 4m 20s\tremaining: 22.7s\n",
      "92:\tlearn: 0.9999173\ttest: 0.9835346\tbest: 0.9838946 (79)\ttotal: 4m 23s\tremaining: 19.9s\n",
      "93:\tlearn: 0.9999173\ttest: 0.9835346\tbest: 0.9838946 (79)\ttotal: 4m 26s\tremaining: 17s\n",
      "94:\tlearn: 0.9999587\ttest: 0.9842549\tbest: 0.9842549 (94)\ttotal: 4m 29s\tremaining: 14.2s\n",
      "95:\tlearn: 0.9999587\ttest: 0.9842549\tbest: 0.9842549 (94)\ttotal: 4m 32s\tremaining: 11.3s\n",
      "96:\tlearn: 0.9999587\ttest: 0.9846154\tbest: 0.9846154 (96)\ttotal: 4m 34s\tremaining: 8.5s\n",
      "97:\tlearn: 1.0000000\ttest: 0.9838946\tbest: 0.9846154 (96)\ttotal: 4m 37s\tremaining: 5.67s\n",
      "98:\tlearn: 1.0000000\ttest: 0.9835346\tbest: 0.9846154 (96)\ttotal: 4m 40s\tremaining: 2.83s\n",
      "99:\tlearn: 1.0000000\ttest: 0.9835346\tbest: 0.9846154 (96)\ttotal: 4m 43s\tremaining: 0us\n",
      "\n",
      "bestTest = 0.9846153846\n",
      "bestIteration = 96\n",
      "\n",
      "Training on fold [9/30]\n",
      "0:\tlearn: 0.8502562\ttest: 0.8406216\tbest: 0.8406216 (0)\ttotal: 3.02s\tremaining: 4m 59s\n",
      "1:\tlearn: 0.8845840\ttest: 0.8719445\tbest: 0.8719445 (1)\ttotal: 5.82s\tremaining: 4m 45s\n",
      "2:\tlearn: 0.9001721\ttest: 0.8926347\tbest: 0.8926347 (2)\ttotal: 8.71s\tremaining: 4m 41s\n",
      "3:\tlearn: 0.9124694\ttest: 0.9003663\tbest: 0.9003663 (3)\ttotal: 11.6s\tremaining: 4m 37s\n",
      "4:\tlearn: 0.9172846\ttest: 0.9082232\tbest: 0.9082232 (4)\ttotal: 14.4s\tremaining: 4m 33s\n",
      "5:\tlearn: 0.9313554\ttest: 0.9215116\tbest: 0.9215116 (5)\ttotal: 17.3s\tremaining: 4m 31s\n",
      "6:\tlearn: 0.9378274\ttest: 0.9277152\tbest: 0.9277152 (6)\ttotal: 20.1s\tremaining: 4m 27s\n",
      "7:\tlearn: 0.9446384\ttest: 0.9301310\tbest: 0.9301310 (7)\ttotal: 23.1s\tremaining: 4m 25s\n",
      "8:\tlearn: 0.9496840\ttest: 0.9365712\tbest: 0.9365712 (8)\ttotal: 26.1s\tremaining: 4m 23s\n",
      "9:\tlearn: 0.9532968\ttest: 0.9397240\tbest: 0.9397240 (9)\ttotal: 29s\tremaining: 4m 20s\n",
      "10:\tlearn: 0.9585607\ttest: 0.9446254\tbest: 0.9446254 (10)\ttotal: 32s\tremaining: 4m 18s\n",
      "11:\tlearn: 0.9608201\ttest: 0.9452303\tbest: 0.9452303 (11)\ttotal: 35.2s\tremaining: 4m 18s\n",
      "12:\tlearn: 0.9654977\ttest: 0.9525878\tbest: 0.9525878 (12)\ttotal: 38.3s\tremaining: 4m 16s\n",
      "13:\tlearn: 0.9692389\ttest: 0.9549550\tbest: 0.9549550 (13)\ttotal: 41.3s\tremaining: 4m 13s\n",
      "14:\tlearn: 0.9704324\ttest: 0.9563335\tbest: 0.9563335 (14)\ttotal: 44.2s\tremaining: 4m 10s\n",
      "15:\tlearn: 0.9726758\ttest: 0.9599712\tbest: 0.9599712 (15)\ttotal: 47.1s\tremaining: 4m 7s\n",
      "16:\tlearn: 0.9750930\ttest: 0.9631503\tbest: 0.9631503 (16)\ttotal: 50.1s\tremaining: 4m 4s\n",
      "17:\tlearn: 0.9762097\ttest: 0.9635247\tbest: 0.9635247 (17)\ttotal: 52.9s\tremaining: 4m 1s\n",
      "18:\tlearn: 0.9770096\ttest: 0.9646209\tbest: 0.9646209 (18)\ttotal: 55.8s\tremaining: 3m 57s\n",
      "19:\tlearn: 0.9779200\ttest: 0.9656668\tbest: 0.9656668 (19)\ttotal: 58.7s\tremaining: 3m 54s\n",
      "20:\tlearn: 0.9783957\ttest: 0.9681159\tbest: 0.9681159 (20)\ttotal: 1m 1s\tremaining: 3m 51s\n",
      "21:\tlearn: 0.9794396\ttest: 0.9681159\tbest: 0.9681159 (20)\ttotal: 1m 4s\tremaining: 3m 48s\n",
      "22:\tlearn: 0.9803206\ttest: 0.9702899\tbest: 0.9702899 (22)\ttotal: 1m 7s\tremaining: 3m 45s\n",
      "23:\tlearn: 0.9811244\ttest: 0.9724438\tbest: 0.9724438 (23)\ttotal: 1m 10s\tremaining: 3m 42s\n",
      "24:\tlearn: 0.9822096\ttest: 0.9728162\tbest: 0.9728162 (24)\ttotal: 1m 13s\tremaining: 3m 39s\n",
      "25:\tlearn: 0.9831280\ttest: 0.9731690\tbest: 0.9731690 (25)\ttotal: 1m 16s\tremaining: 3m 36s\n",
      "26:\tlearn: 0.9840081\ttest: 0.9738752\tbest: 0.9738752 (26)\ttotal: 1m 18s\tremaining: 3m 33s\n",
      "27:\tlearn: 0.9849299\ttest: 0.9728162\tbest: 0.9738752 (26)\ttotal: 1m 21s\tremaining: 3m 29s\n",
      "28:\tlearn: 0.9855722\ttest: 0.9724638\tbest: 0.9738752 (26)\ttotal: 1m 24s\tremaining: 3m 26s\n",
      "29:\tlearn: 0.9860143\ttest: 0.9728162\tbest: 0.9738752 (26)\ttotal: 1m 27s\tremaining: 3m 23s\n",
      "30:\tlearn: 0.9865775\ttest: 0.9738752\tbest: 0.9738752 (26)\ttotal: 1m 30s\tremaining: 3m 21s\n",
      "31:\tlearn: 0.9868996\ttest: 0.9728162\tbest: 0.9738752 (26)\ttotal: 1m 33s\tremaining: 3m 17s\n",
      "32:\tlearn: 0.9881546\ttest: 0.9749728\tbest: 0.9749728 (32)\ttotal: 1m 35s\tremaining: 3m 14s\n",
      "33:\tlearn: 0.9882353\ttest: 0.9749728\tbest: 0.9749728 (32)\ttotal: 1m 38s\tremaining: 3m 11s\n",
      "34:\tlearn: 0.9890838\ttest: 0.9760349\tbest: 0.9760349 (34)\ttotal: 1m 41s\tremaining: 3m 8s\n",
      "35:\tlearn: 0.9893265\ttest: 0.9760349\tbest: 0.9760349 (34)\ttotal: 1m 44s\tremaining: 3m 5s\n",
      "36:\tlearn: 0.9903390\ttest: 0.9767442\tbest: 0.9767442 (36)\ttotal: 1m 47s\tremaining: 3m 2s\n",
      "37:\tlearn: 0.9911098\ttest: 0.9778101\tbest: 0.9778101 (37)\ttotal: 1m 49s\tremaining: 2m 59s\n",
      "38:\tlearn: 0.9915567\ttest: 0.9778101\tbest: 0.9778101 (37)\ttotal: 1m 52s\tremaining: 2m 56s\n",
      "39:\tlearn: 0.9920853\ttest: 0.9781659\tbest: 0.9781659 (39)\ttotal: 1m 55s\tremaining: 2m 53s\n",
      "40:\tlearn: 0.9924516\ttest: 0.9781659\tbest: 0.9781659 (39)\ttotal: 1m 58s\tremaining: 2m 50s\n",
      "41:\tlearn: 0.9929812\ttest: 0.9770992\tbest: 0.9781659 (39)\ttotal: 2m 1s\tremaining: 2m 47s\n",
      "42:\tlearn: 0.9932258\ttest: 0.9781659\tbest: 0.9781659 (39)\ttotal: 2m 4s\tremaining: 2m 44s\n",
      "43:\tlearn: 0.9935929\ttest: 0.9781659\tbest: 0.9781659 (39)\ttotal: 2m 6s\tremaining: 2m 41s\n",
      "44:\tlearn: 0.9939603\ttest: 0.9785220\tbest: 0.9785220 (44)\ttotal: 2m 9s\tremaining: 2m 38s\n",
      "45:\tlearn: 0.9940828\ttest: 0.9792350\tbest: 0.9792350 (45)\ttotal: 2m 12s\tremaining: 2m 35s\n",
      "46:\tlearn: 0.9945733\ttest: 0.9792350\tbest: 0.9792350 (45)\ttotal: 2m 15s\tremaining: 2m 32s\n",
      "47:\tlearn: 0.9948187\ttest: 0.9792350\tbest: 0.9792350 (45)\ttotal: 2m 18s\tremaining: 2m 29s\n",
      "48:\tlearn: 0.9950642\ttest: 0.9792350\tbest: 0.9792350 (45)\ttotal: 2m 20s\tremaining: 2m 26s\n",
      "49:\tlearn: 0.9954327\ttest: 0.9799490\tbest: 0.9799490 (49)\ttotal: 2m 23s\tremaining: 2m 23s\n",
      "50:\tlearn: 0.9953508\ttest: 0.9799490\tbest: 0.9799490 (49)\ttotal: 2m 26s\tremaining: 2m 20s\n",
      "51:\tlearn: 0.9955965\ttest: 0.9803063\tbest: 0.9803063 (51)\ttotal: 2m 29s\tremaining: 2m 17s\n",
      "52:\tlearn: 0.9958834\ttest: 0.9806640\tbest: 0.9806640 (52)\ttotal: 2m 32s\tremaining: 2m 14s\n",
      "53:\tlearn: 0.9961705\ttest: 0.9806640\tbest: 0.9806640 (52)\ttotal: 2m 34s\tremaining: 2m 11s\n",
      "54:\tlearn: 0.9966219\ttest: 0.9810219\tbest: 0.9810219 (54)\ttotal: 2m 37s\tremaining: 2m 8s\n",
      "55:\tlearn: 0.9967040\ttest: 0.9813801\tbest: 0.9813801 (55)\ttotal: 2m 40s\tremaining: 2m 6s\n",
      "56:\tlearn: 0.9969094\ttest: 0.9817385\tbest: 0.9817385 (56)\ttotal: 2m 43s\tremaining: 2m 3s\n",
      "57:\tlearn: 0.9971148\ttest: 0.9817385\tbest: 0.9817385 (56)\ttotal: 2m 45s\tremaining: 2m\n",
      "58:\tlearn: 0.9975671\ttest: 0.9817385\tbest: 0.9817385 (56)\ttotal: 2m 48s\tremaining: 1m 57s\n",
      "59:\tlearn: 0.9977317\ttest: 0.9813801\tbest: 0.9817385 (56)\ttotal: 2m 51s\tremaining: 1m 54s\n",
      "60:\tlearn: 0.9977317\ttest: 0.9813801\tbest: 0.9817385 (56)\ttotal: 2m 54s\tremaining: 1m 51s\n",
      "61:\tlearn: 0.9978551\ttest: 0.9813801\tbest: 0.9817385 (56)\ttotal: 2m 57s\tremaining: 1m 48s\n",
      "62:\tlearn: 0.9979786\ttest: 0.9817385\tbest: 0.9817385 (56)\ttotal: 2m 59s\tremaining: 1m 45s\n",
      "63:\tlearn: 0.9982257\ttest: 0.9817385\tbest: 0.9817385 (56)\ttotal: 3m 2s\tremaining: 1m 42s\n",
      "64:\tlearn: 0.9984729\ttest: 0.9820972\tbest: 0.9820972 (64)\ttotal: 3m 5s\tremaining: 1m 39s\n",
      "65:\tlearn: 0.9986378\ttest: 0.9831748\tbest: 0.9831748 (65)\ttotal: 3m 8s\tremaining: 1m 36s\n",
      "66:\tlearn: 0.9987615\ttest: 0.9824561\tbest: 0.9831748 (65)\ttotal: 3m 11s\tremaining: 1m 34s\n",
      "67:\tlearn: 0.9987615\ttest: 0.9828154\tbest: 0.9831748 (65)\ttotal: 3m 13s\tremaining: 1m 31s\n",
      "68:\tlearn: 0.9989264\ttest: 0.9828154\tbest: 0.9831748 (65)\ttotal: 3m 16s\tremaining: 1m 28s\n",
      "69:\tlearn: 0.9990089\ttest: 0.9824561\tbest: 0.9831748 (65)\ttotal: 3m 19s\tremaining: 1m 25s\n",
      "70:\tlearn: 0.9991327\ttest: 0.9820972\tbest: 0.9831748 (65)\ttotal: 3m 22s\tremaining: 1m 22s\n",
      "71:\tlearn: 0.9992152\ttest: 0.9824561\tbest: 0.9831748 (65)\ttotal: 3m 25s\tremaining: 1m 19s\n",
      "72:\tlearn: 0.9992152\ttest: 0.9831748\tbest: 0.9831748 (65)\ttotal: 3m 28s\tremaining: 1m 16s\n",
      "73:\tlearn: 0.9992978\ttest: 0.9831748\tbest: 0.9831748 (65)\ttotal: 3m 30s\tremaining: 1m 14s\n",
      "74:\tlearn: 0.9992978\ttest: 0.9842549\tbest: 0.9842549 (74)\ttotal: 3m 33s\tremaining: 1m 11s\n",
      "75:\tlearn: 0.9995455\ttest: 0.9853372\tbest: 0.9853372 (75)\ttotal: 3m 36s\tremaining: 1m 8s\n",
      "76:\tlearn: 0.9995868\ttest: 0.9853372\tbest: 0.9853372 (75)\ttotal: 3m 39s\tremaining: 1m 5s\n",
      "77:\tlearn: 0.9995868\ttest: 0.9856986\tbest: 0.9856986 (77)\ttotal: 3m 41s\tremaining: 1m 2s\n",
      "78:\tlearn: 0.9995455\ttest: 0.9864220\tbest: 0.9864220 (78)\ttotal: 3m 44s\tremaining: 59.7s\n",
      "79:\tlearn: 0.9996281\ttest: 0.9860602\tbest: 0.9864220 (78)\ttotal: 3m 47s\tremaining: 56.9s\n",
      "80:\tlearn: 0.9997107\ttest: 0.9856986\tbest: 0.9864220 (78)\ttotal: 3m 50s\tremaining: 54s\n",
      "81:\tlearn: 0.9996694\ttest: 0.9860602\tbest: 0.9864220 (78)\ttotal: 3m 52s\tremaining: 51.1s\n",
      "82:\tlearn: 0.9997107\ttest: 0.9867841\tbest: 0.9867841 (82)\ttotal: 3m 55s\tremaining: 48.3s\n",
      "83:\tlearn: 0.9998347\ttest: 0.9867841\tbest: 0.9867841 (82)\ttotal: 3m 58s\tremaining: 45.5s\n",
      "84:\tlearn: 0.9999173\ttest: 0.9864220\tbest: 0.9867841 (82)\ttotal: 4m 1s\tremaining: 42.7s\n",
      "85:\tlearn: 0.9999173\ttest: 0.9864220\tbest: 0.9867841 (82)\ttotal: 4m 4s\tremaining: 39.8s\n",
      "86:\tlearn: 0.9999173\ttest: 0.9864220\tbest: 0.9867841 (82)\ttotal: 4m 7s\tremaining: 36.9s\n",
      "87:\tlearn: 0.9998760\ttest: 0.9867841\tbest: 0.9867841 (82)\ttotal: 4m 9s\tremaining: 34.1s\n",
      "88:\tlearn: 0.9999173\ttest: 0.9871465\tbest: 0.9871465 (88)\ttotal: 4m 12s\tremaining: 31.2s\n",
      "89:\tlearn: 0.9999587\ttest: 0.9867841\tbest: 0.9871465 (88)\ttotal: 4m 15s\tremaining: 28.4s\n",
      "90:\tlearn: 0.9999587\ttest: 0.9867841\tbest: 0.9871465 (88)\ttotal: 4m 18s\tremaining: 25.5s\n",
      "91:\tlearn: 0.9999587\ttest: 0.9867841\tbest: 0.9871465 (88)\ttotal: 4m 20s\tremaining: 22.7s\n",
      "92:\tlearn: 1.0000000\ttest: 0.9867841\tbest: 0.9871465 (88)\ttotal: 4m 23s\tremaining: 19.9s\n",
      "93:\tlearn: 1.0000000\ttest: 0.9867841\tbest: 0.9871465 (88)\ttotal: 4m 26s\tremaining: 17s\n",
      "94:\tlearn: 1.0000000\ttest: 0.9864220\tbest: 0.9871465 (88)\ttotal: 4m 29s\tremaining: 14.2s\n",
      "95:\tlearn: 1.0000000\ttest: 0.9860602\tbest: 0.9871465 (88)\ttotal: 4m 32s\tremaining: 11.3s\n",
      "96:\tlearn: 1.0000000\ttest: 0.9860602\tbest: 0.9871465 (88)\ttotal: 4m 35s\tremaining: 8.51s\n",
      "97:\tlearn: 1.0000000\ttest: 0.9860602\tbest: 0.9871465 (88)\ttotal: 4m 37s\tremaining: 5.67s\n",
      "98:\tlearn: 1.0000000\ttest: 0.9867841\tbest: 0.9871465 (88)\ttotal: 4m 40s\tremaining: 2.83s\n",
      "99:\tlearn: 1.0000000\ttest: 0.9867841\tbest: 0.9871465 (88)\ttotal: 4m 43s\tremaining: 0us\n",
      "\n",
      "bestTest = 0.9871465296\n",
      "bestIteration = 88\n",
      "\n",
      "Training on fold [10/30]\n",
      "0:\tlearn: 0.8438955\ttest: 0.8370909\tbest: 0.8370909 (0)\ttotal: 2.99s\tremaining: 4m 56s\n",
      "1:\tlearn: 0.8904611\ttest: 0.8754526\tbest: 0.8754526 (1)\ttotal: 5.88s\tremaining: 4m 48s\n",
      "2:\tlearn: 0.9068505\ttest: 0.8880761\tbest: 0.8880761 (2)\ttotal: 8.82s\tremaining: 4m 45s\n",
      "3:\tlearn: 0.9163060\ttest: 0.9038179\tbest: 0.9038179 (3)\ttotal: 11.5s\tremaining: 4m 37s\n",
      "4:\tlearn: 0.9291351\ttest: 0.9168490\tbest: 0.9168490 (4)\ttotal: 14.5s\tremaining: 4m 34s\n",
      "5:\tlearn: 0.9402236\ttest: 0.9291682\tbest: 0.9291682 (5)\ttotal: 17.4s\tremaining: 4m 32s\n",
      "6:\tlearn: 0.9481613\ttest: 0.9366172\tbest: 0.9366172 (6)\ttotal: 20.2s\tremaining: 4m 28s\n",
      "7:\tlearn: 0.9535326\ttest: 0.9427536\tbest: 0.9427536 (7)\ttotal: 23.1s\tremaining: 4m 25s\n",
      "8:\tlearn: 0.9580742\ttest: 0.9490791\tbest: 0.9490791 (8)\ttotal: 26s\tremaining: 4m 22s\n",
      "9:\tlearn: 0.9618136\ttest: 0.9508315\tbest: 0.9508315 (9)\ttotal: 28.9s\tremaining: 4m 20s\n",
      "10:\tlearn: 0.9630619\ttest: 0.9501085\tbest: 0.9508315 (9)\ttotal: 31.9s\tremaining: 4m 18s\n",
      "11:\tlearn: 0.9671191\ttest: 0.9534800\tbest: 0.9534800 (11)\ttotal: 34.7s\tremaining: 4m 14s\n",
      "12:\tlearn: 0.9686501\ttest: 0.9523810\tbest: 0.9534800 (11)\ttotal: 37.6s\tremaining: 4m 11s\n",
      "13:\tlearn: 0.9707167\ttest: 0.9578074\tbest: 0.9578074 (13)\ttotal: 40.6s\tremaining: 4m 9s\n",
      "14:\tlearn: 0.9722728\ttest: 0.9600000\tbest: 0.9600000 (14)\ttotal: 43.4s\tremaining: 4m 6s\n",
      "15:\tlearn: 0.9736320\ttest: 0.9609827\tbest: 0.9609827 (15)\ttotal: 46.2s\tremaining: 4m 2s\n",
      "16:\tlearn: 0.9750071\ttest: 0.9621622\tbest: 0.9621622 (16)\ttotal: 49s\tremaining: 3m 59s\n",
      "17:\tlearn: 0.9760766\ttest: 0.9621349\tbest: 0.9621622 (16)\ttotal: 51.7s\tremaining: 3m 55s\n",
      "18:\tlearn: 0.9771860\ttest: 0.9635247\tbest: 0.9635247 (18)\ttotal: 54.5s\tremaining: 3m 52s\n",
      "19:\tlearn: 0.9785247\ttest: 0.9638205\tbest: 0.9638205 (19)\ttotal: 57.5s\tremaining: 3m 49s\n",
      "20:\tlearn: 0.9810769\ttest: 0.9685353\tbest: 0.9685353 (20)\ttotal: 1m\tremaining: 3m 47s\n",
      "21:\tlearn: 0.9822735\ttest: 0.9685353\tbest: 0.9685353 (20)\ttotal: 1m 3s\tremaining: 3m 44s\n",
      "22:\tlearn: 0.9836479\ttest: 0.9707052\tbest: 0.9707052 (22)\ttotal: 1m 6s\tremaining: 3m 41s\n",
      "23:\tlearn: 0.9842949\ttest: 0.9714492\tbest: 0.9714492 (23)\ttotal: 1m 9s\tremaining: 3m 39s\n",
      "24:\tlearn: 0.9852570\ttest: 0.9725036\tbest: 0.9725036 (24)\ttotal: 1m 12s\tremaining: 3m 36s\n",
      "25:\tlearn: 0.9857789\ttest: 0.9718004\tbest: 0.9725036 (24)\ttotal: 1m 14s\tremaining: 3m 33s\n",
      "26:\tlearn: 0.9860602\ttest: 0.9725036\tbest: 0.9725036 (24)\ttotal: 1m 17s\tremaining: 3m 30s\n",
      "27:\tlearn: 0.9868646\ttest: 0.9718004\tbest: 0.9725036 (24)\ttotal: 1m 20s\tremaining: 3m 27s\n",
      "28:\tlearn: 0.9873480\ttest: 0.9732078\tbest: 0.9732078 (28)\ttotal: 1m 23s\tremaining: 3m 24s\n",
      "29:\tlearn: 0.9884776\ttest: 0.9735603\tbest: 0.9735603 (29)\ttotal: 1m 26s\tremaining: 3m 21s\n",
      "30:\tlearn: 0.9893265\ttest: 0.9742660\tbest: 0.9742660 (30)\ttotal: 1m 29s\tremaining: 3m 18s\n",
      "31:\tlearn: 0.9897312\ttest: 0.9739130\tbest: 0.9742660 (30)\ttotal: 1m 32s\tremaining: 3m 15s\n",
      "32:\tlearn: 0.9903390\ttest: 0.9749728\tbest: 0.9749728 (32)\ttotal: 1m 35s\tremaining: 3m 12s\n",
      "33:\tlearn: 0.9907851\ttest: 0.9760349\tbest: 0.9760349 (33)\ttotal: 1m 37s\tremaining: 3m 9s\n",
      "34:\tlearn: 0.9912723\ttest: 0.9760349\tbest: 0.9760349 (33)\ttotal: 1m 40s\tremaining: 3m 6s\n",
      "35:\tlearn: 0.9916380\ttest: 0.9760349\tbest: 0.9760349 (33)\ttotal: 1m 43s\tremaining: 3m 3s\n",
      "36:\tlearn: 0.9921667\ttest: 0.9770992\tbest: 0.9770992 (36)\ttotal: 1m 46s\tremaining: 3m\n",
      "37:\tlearn: 0.9925330\ttest: 0.9774545\tbest: 0.9774545 (37)\ttotal: 1m 49s\tremaining: 2m 57s\n",
      "38:\tlearn: 0.9928589\ttest: 0.9778101\tbest: 0.9778101 (38)\ttotal: 1m 51s\tremaining: 2m 54s\n",
      "39:\tlearn: 0.9934705\ttest: 0.9774545\tbest: 0.9778101 (38)\ttotal: 1m 54s\tremaining: 2m 51s\n",
      "40:\tlearn: 0.9938378\ttest: 0.9774545\tbest: 0.9778101 (38)\ttotal: 1m 57s\tremaining: 2m 48s\n",
      "41:\tlearn: 0.9944097\ttest: 0.9774545\tbest: 0.9778101 (38)\ttotal: 2m\tremaining: 2m 45s\n",
      "42:\tlearn: 0.9946550\ttest: 0.9770992\tbest: 0.9778101 (38)\ttotal: 2m 2s\tremaining: 2m 42s\n",
      "43:\tlearn: 0.9948187\ttest: 0.9781659\tbest: 0.9781659 (43)\ttotal: 2m 5s\tremaining: 2m 40s\n",
      "44:\tlearn: 0.9950642\ttest: 0.9781659\tbest: 0.9781659 (43)\ttotal: 2m 8s\tremaining: 2m 37s\n",
      "45:\tlearn: 0.9952279\ttest: 0.9785220\tbest: 0.9785220 (45)\ttotal: 2m 11s\tremaining: 2m 34s\n",
      "46:\tlearn: 0.9957604\ttest: 0.9788784\tbest: 0.9788784 (46)\ttotal: 2m 14s\tremaining: 2m 31s\n",
      "47:\tlearn: 0.9959244\ttest: 0.9785220\tbest: 0.9788784 (46)\ttotal: 2m 17s\tremaining: 2m 28s\n",
      "48:\tlearn: 0.9960474\ttest: 0.9785220\tbest: 0.9788784 (46)\ttotal: 2m 20s\tremaining: 2m 25s\n",
      "49:\tlearn: 0.9964167\ttest: 0.9778101\tbest: 0.9788784 (46)\ttotal: 2m 22s\tremaining: 2m 22s\n",
      "50:\tlearn: 0.9967451\ttest: 0.9785220\tbest: 0.9788784 (46)\ttotal: 2m 25s\tremaining: 2m 19s\n",
      "51:\tlearn: 0.9972792\ttest: 0.9788784\tbest: 0.9788784 (46)\ttotal: 2m 28s\tremaining: 2m 17s\n",
      "52:\tlearn: 0.9973204\ttest: 0.9792350\tbest: 0.9792350 (52)\ttotal: 2m 31s\tremaining: 2m 14s\n",
      "53:\tlearn: 0.9974437\ttest: 0.9799490\tbest: 0.9799490 (53)\ttotal: 2m 34s\tremaining: 2m 11s\n",
      "54:\tlearn: 0.9976905\ttest: 0.9803063\tbest: 0.9803063 (54)\ttotal: 2m 37s\tremaining: 2m 8s\n",
      "55:\tlearn: 0.9975260\ttest: 0.9803063\tbest: 0.9803063 (54)\ttotal: 2m 39s\tremaining: 2m 5s\n",
      "56:\tlearn: 0.9977317\ttest: 0.9803063\tbest: 0.9803063 (54)\ttotal: 2m 42s\tremaining: 2m 2s\n",
      "57:\tlearn: 0.9978963\ttest: 0.9799490\tbest: 0.9803063 (54)\ttotal: 2m 45s\tremaining: 1m 59s\n",
      "58:\tlearn: 0.9978963\ttest: 0.9806640\tbest: 0.9806640 (58)\ttotal: 2m 48s\tremaining: 1m 56s\n",
      "59:\tlearn: 0.9979786\ttest: 0.9803063\tbest: 0.9806640 (58)\ttotal: 2m 51s\tremaining: 1m 54s\n",
      "60:\tlearn: 0.9981845\ttest: 0.9803063\tbest: 0.9806640 (58)\ttotal: 2m 53s\tremaining: 1m 51s\n",
      "61:\tlearn: 0.9984729\ttest: 0.9803063\tbest: 0.9806640 (58)\ttotal: 2m 56s\tremaining: 1m 48s\n",
      "62:\tlearn: 0.9985141\ttest: 0.9795918\tbest: 0.9806640 (58)\ttotal: 2m 59s\tremaining: 1m 45s\n",
      "63:\tlearn: 0.9985141\ttest: 0.9792350\tbest: 0.9806640 (58)\ttotal: 3m 2s\tremaining: 1m 42s\n",
      "64:\tlearn: 0.9986790\ttest: 0.9792350\tbest: 0.9806640 (58)\ttotal: 3m 5s\tremaining: 1m 39s\n",
      "65:\tlearn: 0.9988027\ttest: 0.9792350\tbest: 0.9806640 (58)\ttotal: 3m 8s\tremaining: 1m 36s\n",
      "66:\tlearn: 0.9990089\ttest: 0.9803063\tbest: 0.9806640 (58)\ttotal: 3m 10s\tremaining: 1m 34s\n",
      "67:\tlearn: 0.9990502\ttest: 0.9806640\tbest: 0.9806640 (58)\ttotal: 3m 13s\tremaining: 1m 31s\n",
      "68:\tlearn: 0.9990914\ttest: 0.9813801\tbest: 0.9813801 (68)\ttotal: 3m 16s\tremaining: 1m 28s\n",
      "69:\tlearn: 0.9992152\ttest: 0.9820972\tbest: 0.9820972 (69)\ttotal: 3m 19s\tremaining: 1m 25s\n",
      "70:\tlearn: 0.9992565\ttest: 0.9824561\tbest: 0.9824561 (70)\ttotal: 3m 22s\tremaining: 1m 22s\n",
      "71:\tlearn: 0.9993803\ttest: 0.9817385\tbest: 0.9824561 (70)\ttotal: 3m 24s\tremaining: 1m 19s\n",
      "72:\tlearn: 0.9993803\ttest: 0.9824561\tbest: 0.9824561 (70)\ttotal: 3m 27s\tremaining: 1m 16s\n",
      "73:\tlearn: 0.9995455\ttest: 0.9824561\tbest: 0.9824561 (70)\ttotal: 3m 30s\tremaining: 1m 13s\n",
      "74:\tlearn: 0.9995455\ttest: 0.9824561\tbest: 0.9824561 (70)\ttotal: 3m 33s\tremaining: 1m 11s\n",
      "75:\tlearn: 0.9996281\ttest: 0.9828154\tbest: 0.9828154 (75)\ttotal: 3m 35s\tremaining: 1m 8s\n",
      "76:\tlearn: 0.9996281\ttest: 0.9831748\tbest: 0.9831748 (76)\ttotal: 3m 38s\tremaining: 1m 5s\n",
      "77:\tlearn: 0.9996694\ttest: 0.9828154\tbest: 0.9831748 (76)\ttotal: 3m 41s\tremaining: 1m 2s\n",
      "78:\tlearn: 0.9997107\ttest: 0.9831748\tbest: 0.9831748 (76)\ttotal: 3m 44s\tremaining: 59.6s\n",
      "79:\tlearn: 0.9997934\ttest: 0.9828154\tbest: 0.9831748 (76)\ttotal: 3m 47s\tremaining: 56.8s\n",
      "80:\tlearn: 0.9997520\ttest: 0.9835346\tbest: 0.9835346 (80)\ttotal: 3m 49s\tremaining: 53.9s\n",
      "81:\tlearn: 0.9998347\ttest: 0.9835346\tbest: 0.9835346 (80)\ttotal: 3m 52s\tremaining: 51.1s\n",
      "82:\tlearn: 0.9997934\ttest: 0.9835346\tbest: 0.9835346 (80)\ttotal: 3m 55s\tremaining: 48.2s\n",
      "83:\tlearn: 0.9998347\ttest: 0.9835346\tbest: 0.9835346 (80)\ttotal: 3m 58s\tremaining: 45.4s\n",
      "84:\tlearn: 0.9998760\ttest: 0.9831748\tbest: 0.9835346 (80)\ttotal: 4m 1s\tremaining: 42.5s\n",
      "85:\tlearn: 0.9998760\ttest: 0.9831748\tbest: 0.9835346 (80)\ttotal: 4m 3s\tremaining: 39.7s\n",
      "86:\tlearn: 0.9999173\ttest: 0.9828154\tbest: 0.9835346 (80)\ttotal: 4m 6s\tremaining: 36.9s\n",
      "87:\tlearn: 0.9999173\ttest: 0.9831748\tbest: 0.9835346 (80)\ttotal: 4m 9s\tremaining: 34.1s\n",
      "88:\tlearn: 0.9999587\ttest: 0.9831748\tbest: 0.9835346 (80)\ttotal: 4m 12s\tremaining: 31.2s\n",
      "89:\tlearn: 0.9999587\ttest: 0.9835346\tbest: 0.9835346 (80)\ttotal: 4m 15s\tremaining: 28.4s\n",
      "90:\tlearn: 0.9999587\ttest: 0.9838946\tbest: 0.9838946 (90)\ttotal: 4m 18s\tremaining: 25.5s\n",
      "91:\tlearn: 0.9999587\ttest: 0.9835346\tbest: 0.9838946 (90)\ttotal: 4m 21s\tremaining: 22.7s\n",
      "92:\tlearn: 0.9999587\ttest: 0.9842549\tbest: 0.9842549 (92)\ttotal: 4m 24s\tremaining: 19.9s\n",
      "93:\tlearn: 0.9999587\ttest: 0.9838946\tbest: 0.9842549 (92)\ttotal: 4m 27s\tremaining: 17s\n",
      "94:\tlearn: 1.0000000\ttest: 0.9838946\tbest: 0.9842549 (92)\ttotal: 4m 29s\tremaining: 14.2s\n",
      "95:\tlearn: 1.0000000\ttest: 0.9838946\tbest: 0.9842549 (92)\ttotal: 4m 32s\tremaining: 11.4s\n",
      "96:\tlearn: 1.0000000\ttest: 0.9838946\tbest: 0.9842549 (92)\ttotal: 4m 35s\tremaining: 8.51s\n",
      "97:\tlearn: 1.0000000\ttest: 0.9838946\tbest: 0.9842549 (92)\ttotal: 4m 37s\tremaining: 5.67s\n",
      "98:\tlearn: 1.0000000\ttest: 0.9842549\tbest: 0.9842549 (92)\ttotal: 4m 40s\tremaining: 2.84s\n",
      "99:\tlearn: 0.9999587\ttest: 0.9846154\tbest: 0.9846154 (99)\ttotal: 4m 43s\tremaining: 0us\n",
      "\n",
      "bestTest = 0.9846153846\n",
      "bestIteration = 99\n",
      "\n",
      "Training on fold [11/30]\n",
      "0:\tlearn: 0.8485510\ttest: 0.8218182\tbest: 0.8218182 (0)\ttotal: 2.86s\tremaining: 4m 42s\n",
      "1:\tlearn: 0.8858711\ttest: 0.8697234\tbest: 0.8697234 (1)\ttotal: 5.8s\tremaining: 4m 44s\n",
      "2:\tlearn: 0.9110867\ttest: 0.8933382\tbest: 0.8933382 (2)\ttotal: 8.77s\tremaining: 4m 43s\n",
      "3:\tlearn: 0.9224184\ttest: 0.9067735\tbest: 0.9067735 (3)\ttotal: 11.6s\tremaining: 4m 38s\n",
      "4:\tlearn: 0.9310106\ttest: 0.9136612\tbest: 0.9136612 (4)\ttotal: 14.4s\tremaining: 4m 33s\n",
      "5:\tlearn: 0.9392131\ttest: 0.9275046\tbest: 0.9275046 (5)\ttotal: 17.4s\tremaining: 4m 33s\n",
      "6:\tlearn: 0.9478205\ttest: 0.9356598\tbest: 0.9356598 (6)\ttotal: 20.3s\tremaining: 4m 30s\n",
      "7:\tlearn: 0.9537505\ttest: 0.9453097\tbest: 0.9453097 (7)\ttotal: 23.2s\tremaining: 4m 26s\n",
      "8:\tlearn: 0.9591375\ttest: 0.9493121\tbest: 0.9493121 (8)\ttotal: 26.1s\tremaining: 4m 24s\n",
      "9:\tlearn: 0.9603460\ttest: 0.9506173\tbest: 0.9506173 (9)\ttotal: 28.9s\tremaining: 4m 20s\n",
      "10:\tlearn: 0.9621307\ttest: 0.9558291\tbest: 0.9558291 (10)\ttotal: 31.8s\tremaining: 4m 17s\n",
      "11:\tlearn: 0.9675046\ttest: 0.9594203\tbest: 0.9594203 (11)\ttotal: 34.7s\tremaining: 4m 14s\n",
      "12:\tlearn: 0.9698561\ttest: 0.9645698\tbest: 0.9645698 (12)\ttotal: 37.7s\tremaining: 4m 12s\n",
      "13:\tlearn: 0.9713754\ttest: 0.9660159\tbest: 0.9660159 (13)\ttotal: 40.6s\tremaining: 4m 9s\n",
      "14:\tlearn: 0.9743548\ttest: 0.9671599\tbest: 0.9671599 (14)\ttotal: 43.5s\tremaining: 4m 6s\n",
      "15:\tlearn: 0.9758290\ttest: 0.9696093\tbest: 0.9696093 (15)\ttotal: 46.4s\tremaining: 4m 3s\n",
      "16:\tlearn: 0.9782300\ttest: 0.9678584\tbest: 0.9696093 (15)\ttotal: 49.3s\tremaining: 4m\n",
      "17:\tlearn: 0.9789166\ttest: 0.9682081\tbest: 0.9696093 (15)\ttotal: 52.1s\tremaining: 3m 57s\n",
      "18:\tlearn: 0.9803190\ttest: 0.9696093\tbest: 0.9696093 (15)\ttotal: 55s\tremaining: 3m 54s\n",
      "19:\tlearn: 0.9810448\ttest: 0.9710355\tbest: 0.9710355 (19)\ttotal: 57.8s\tremaining: 3m 51s\n",
      "20:\tlearn: 0.9823606\ttest: 0.9696312\tbest: 0.9710355 (19)\ttotal: 1m\tremaining: 3m 48s\n",
      "21:\tlearn: 0.9835679\ttest: 0.9707052\tbest: 0.9710355 (19)\ttotal: 1m 3s\tremaining: 3m 45s\n",
      "22:\tlearn: 0.9846893\ttest: 0.9717596\tbest: 0.9717596 (22)\ttotal: 1m 6s\tremaining: 3m 42s\n",
      "23:\tlearn: 0.9848096\ttest: 0.9717596\tbest: 0.9717596 (22)\ttotal: 1m 9s\tremaining: 3m 39s\n",
      "24:\tlearn: 0.9854577\ttest: 0.9732078\tbest: 0.9732078 (24)\ttotal: 1m 12s\tremaining: 3m 36s\n",
      "25:\tlearn: 0.9863014\ttest: 0.9746193\tbest: 0.9746193 (25)\ttotal: 1m 14s\tremaining: 3m 33s\n",
      "26:\tlearn: 0.9868244\ttest: 0.9749728\tbest: 0.9749728 (26)\ttotal: 1m 17s\tremaining: 3m 30s\n",
      "27:\tlearn: 0.9877511\ttest: 0.9756806\tbest: 0.9756806 (27)\ttotal: 1m 20s\tremaining: 3m 27s\n",
      "28:\tlearn: 0.9882757\ttest: 0.9735603\tbest: 0.9756806 (27)\ttotal: 1m 23s\tremaining: 3m 24s\n",
      "29:\tlearn: 0.9888008\ttest: 0.9742660\tbest: 0.9756806 (27)\ttotal: 1m 26s\tremaining: 3m 21s\n",
      "30:\tlearn: 0.9894883\ttest: 0.9746193\tbest: 0.9756806 (27)\ttotal: 1m 29s\tremaining: 3m 19s\n",
      "31:\tlearn: 0.9896098\ttest: 0.9742660\tbest: 0.9756806 (27)\ttotal: 1m 32s\tremaining: 3m 16s\n",
      "32:\tlearn: 0.9899742\ttest: 0.9742660\tbest: 0.9756806 (27)\ttotal: 1m 35s\tremaining: 3m 13s\n",
      "33:\tlearn: 0.9910692\ttest: 0.9732078\tbest: 0.9756806 (27)\ttotal: 1m 38s\tremaining: 3m 10s\n",
      "34:\tlearn: 0.9914754\ttest: 0.9746193\tbest: 0.9756806 (27)\ttotal: 1m 40s\tremaining: 3m 7s\n",
      "35:\tlearn: 0.9922481\ttest: 0.9742660\tbest: 0.9756806 (27)\ttotal: 1m 43s\tremaining: 3m 4s\n",
      "36:\tlearn: 0.9931034\ttest: 0.9735603\tbest: 0.9756806 (27)\ttotal: 1m 46s\tremaining: 3m 1s\n",
      "37:\tlearn: 0.9933073\ttest: 0.9742660\tbest: 0.9756806 (27)\ttotal: 1m 49s\tremaining: 2m 58s\n",
      "38:\tlearn: 0.9936337\ttest: 0.9756806\tbest: 0.9756806 (27)\ttotal: 1m 52s\tremaining: 2m 55s\n",
      "39:\tlearn: 0.9939603\ttest: 0.9760349\tbest: 0.9760349 (39)\ttotal: 1m 54s\tremaining: 2m 52s\n",
      "40:\tlearn: 0.9945324\ttest: 0.9763894\tbest: 0.9763894 (40)\ttotal: 1m 57s\tremaining: 2m 49s\n",
      "41:\tlearn: 0.9949823\ttest: 0.9767442\tbest: 0.9767442 (41)\ttotal: 2m\tremaining: 2m 46s\n",
      "42:\tlearn: 0.9950232\ttest: 0.9774545\tbest: 0.9774545 (42)\ttotal: 2m 3s\tremaining: 2m 43s\n",
      "43:\tlearn: 0.9956375\ttest: 0.9788784\tbest: 0.9788784 (43)\ttotal: 2m 6s\tremaining: 2m 40s\n",
      "44:\tlearn: 0.9959654\ttest: 0.9781659\tbest: 0.9788784 (43)\ttotal: 2m 8s\tremaining: 2m 37s\n",
      "45:\tlearn: 0.9962115\ttest: 0.9785220\tbest: 0.9788784 (43)\ttotal: 2m 11s\tremaining: 2m 34s\n",
      "46:\tlearn: 0.9964167\ttest: 0.9788784\tbest: 0.9788784 (43)\ttotal: 2m 14s\tremaining: 2m 31s\n",
      "47:\tlearn: 0.9968683\ttest: 0.9785220\tbest: 0.9788784 (43)\ttotal: 2m 17s\tremaining: 2m 29s\n",
      "48:\tlearn: 0.9970326\ttest: 0.9788784\tbest: 0.9788784 (43)\ttotal: 2m 20s\tremaining: 2m 26s\n",
      "49:\tlearn: 0.9971148\ttest: 0.9795918\tbest: 0.9795918 (49)\ttotal: 2m 23s\tremaining: 2m 23s\n",
      "50:\tlearn: 0.9972792\ttest: 0.9788784\tbest: 0.9795918 (49)\ttotal: 2m 25s\tremaining: 2m 20s\n",
      "51:\tlearn: 0.9975260\ttest: 0.9788784\tbest: 0.9795918 (49)\ttotal: 2m 28s\tremaining: 2m 17s\n",
      "52:\tlearn: 0.9976905\ttest: 0.9785220\tbest: 0.9795918 (49)\ttotal: 2m 31s\tremaining: 2m 14s\n",
      "53:\tlearn: 0.9978551\ttest: 0.9792350\tbest: 0.9795918 (49)\ttotal: 2m 34s\tremaining: 2m 11s\n",
      "54:\tlearn: 0.9981433\ttest: 0.9799490\tbest: 0.9799490 (54)\ttotal: 2m 37s\tremaining: 2m 8s\n",
      "55:\tlearn: 0.9981433\ttest: 0.9799490\tbest: 0.9799490 (54)\ttotal: 2m 40s\tremaining: 2m 5s\n",
      "56:\tlearn: 0.9983493\ttest: 0.9795918\tbest: 0.9799490 (54)\ttotal: 2m 42s\tremaining: 2m 2s\n",
      "57:\tlearn: 0.9985141\ttest: 0.9803063\tbest: 0.9803063 (57)\ttotal: 2m 45s\tremaining: 2m\n",
      "58:\tlearn: 0.9986790\ttest: 0.9803063\tbest: 0.9803063 (57)\ttotal: 2m 48s\tremaining: 1m 57s\n",
      "59:\tlearn: 0.9986790\ttest: 0.9810219\tbest: 0.9810219 (59)\ttotal: 2m 51s\tremaining: 1m 54s\n",
      "60:\tlearn: 0.9987202\ttest: 0.9813801\tbest: 0.9813801 (60)\ttotal: 2m 54s\tremaining: 1m 51s\n",
      "61:\tlearn: 0.9988852\ttest: 0.9806640\tbest: 0.9813801 (60)\ttotal: 2m 56s\tremaining: 1m 48s\n",
      "62:\tlearn: 0.9989264\ttest: 0.9803063\tbest: 0.9813801 (60)\ttotal: 2m 59s\tremaining: 1m 45s\n",
      "63:\tlearn: 0.9990914\ttest: 0.9810219\tbest: 0.9813801 (60)\ttotal: 3m 2s\tremaining: 1m 42s\n",
      "64:\tlearn: 0.9991327\ttest: 0.9806640\tbest: 0.9813801 (60)\ttotal: 3m 5s\tremaining: 1m 39s\n",
      "65:\tlearn: 0.9991740\ttest: 0.9810219\tbest: 0.9813801 (60)\ttotal: 3m 7s\tremaining: 1m 36s\n",
      "66:\tlearn: 0.9991740\ttest: 0.9817385\tbest: 0.9817385 (66)\ttotal: 3m 10s\tremaining: 1m 33s\n",
      "67:\tlearn: 0.9992565\ttest: 0.9820972\tbest: 0.9820972 (67)\ttotal: 3m 13s\tremaining: 1m 31s\n",
      "68:\tlearn: 0.9993391\ttest: 0.9824561\tbest: 0.9824561 (68)\ttotal: 3m 16s\tremaining: 1m 28s\n",
      "69:\tlearn: 0.9993391\ttest: 0.9820972\tbest: 0.9824561 (68)\ttotal: 3m 19s\tremaining: 1m 25s\n",
      "70:\tlearn: 0.9994216\ttest: 0.9831748\tbest: 0.9831748 (70)\ttotal: 3m 21s\tremaining: 1m 22s\n",
      "71:\tlearn: 0.9995042\ttest: 0.9831748\tbest: 0.9831748 (70)\ttotal: 3m 24s\tremaining: 1m 19s\n",
      "72:\tlearn: 0.9995455\ttest: 0.9831748\tbest: 0.9831748 (70)\ttotal: 3m 27s\tremaining: 1m 16s\n",
      "73:\tlearn: 0.9996281\ttest: 0.9831748\tbest: 0.9831748 (70)\ttotal: 3m 30s\tremaining: 1m 13s\n",
      "74:\tlearn: 0.9997107\ttest: 0.9828154\tbest: 0.9831748 (70)\ttotal: 3m 32s\tremaining: 1m 10s\n",
      "75:\tlearn: 0.9997520\ttest: 0.9835346\tbest: 0.9835346 (75)\ttotal: 3m 35s\tremaining: 1m 8s\n",
      "76:\tlearn: 0.9997934\ttest: 0.9831748\tbest: 0.9835346 (75)\ttotal: 3m 38s\tremaining: 1m 5s\n",
      "77:\tlearn: 0.9998347\ttest: 0.9831748\tbest: 0.9835346 (75)\ttotal: 3m 41s\tremaining: 1m 2s\n",
      "78:\tlearn: 0.9998347\ttest: 0.9828154\tbest: 0.9835346 (75)\ttotal: 3m 44s\tremaining: 59.7s\n",
      "79:\tlearn: 0.9998347\ttest: 0.9831748\tbest: 0.9835346 (75)\ttotal: 3m 47s\tremaining: 56.8s\n",
      "80:\tlearn: 0.9998760\ttest: 0.9838946\tbest: 0.9838946 (80)\ttotal: 3m 50s\tremaining: 54s\n",
      "81:\tlearn: 0.9999587\ttest: 0.9835346\tbest: 0.9838946 (80)\ttotal: 3m 52s\tremaining: 51.1s\n",
      "82:\tlearn: 0.9999587\ttest: 0.9838946\tbest: 0.9838946 (80)\ttotal: 3m 55s\tremaining: 48.3s\n",
      "83:\tlearn: 0.9999587\ttest: 0.9838946\tbest: 0.9838946 (80)\ttotal: 3m 58s\tremaining: 45.5s\n",
      "84:\tlearn: 0.9999587\ttest: 0.9838946\tbest: 0.9838946 (80)\ttotal: 4m 1s\tremaining: 42.6s\n",
      "85:\tlearn: 0.9999587\ttest: 0.9835346\tbest: 0.9838946 (80)\ttotal: 4m 4s\tremaining: 39.8s\n",
      "86:\tlearn: 0.9999587\ttest: 0.9835346\tbest: 0.9838946 (80)\ttotal: 4m 7s\tremaining: 36.9s\n",
      "87:\tlearn: 0.9999587\ttest: 0.9842549\tbest: 0.9842549 (87)\ttotal: 4m 9s\tremaining: 34.1s\n",
      "88:\tlearn: 0.9999587\ttest: 0.9838946\tbest: 0.9842549 (87)\ttotal: 4m 12s\tremaining: 31.2s\n",
      "89:\tlearn: 0.9999587\ttest: 0.9846154\tbest: 0.9846154 (89)\ttotal: 4m 15s\tremaining: 28.4s\n",
      "90:\tlearn: 0.9999587\ttest: 0.9842549\tbest: 0.9846154 (89)\ttotal: 4m 18s\tremaining: 25.5s\n",
      "91:\tlearn: 1.0000000\ttest: 0.9842549\tbest: 0.9846154 (89)\ttotal: 4m 20s\tremaining: 22.7s\n",
      "92:\tlearn: 1.0000000\ttest: 0.9838946\tbest: 0.9846154 (89)\ttotal: 4m 23s\tremaining: 19.8s\n",
      "93:\tlearn: 1.0000000\ttest: 0.9846154\tbest: 0.9846154 (89)\ttotal: 4m 26s\tremaining: 17s\n",
      "94:\tlearn: 1.0000000\ttest: 0.9846154\tbest: 0.9846154 (89)\ttotal: 4m 29s\tremaining: 14.2s\n",
      "95:\tlearn: 1.0000000\ttest: 0.9842549\tbest: 0.9846154 (89)\ttotal: 4m 32s\tremaining: 11.3s\n",
      "96:\tlearn: 1.0000000\ttest: 0.9846154\tbest: 0.9846154 (89)\ttotal: 4m 34s\tremaining: 8.5s\n",
      "97:\tlearn: 1.0000000\ttest: 0.9849762\tbest: 0.9849762 (97)\ttotal: 4m 37s\tremaining: 5.67s\n",
      "98:\tlearn: 1.0000000\ttest: 0.9846154\tbest: 0.9849762 (97)\ttotal: 4m 40s\tremaining: 2.83s\n",
      "99:\tlearn: 1.0000000\ttest: 0.9856986\tbest: 0.9856986 (99)\ttotal: 4m 43s\tremaining: 0us\n",
      "\n",
      "bestTest = 0.9856985699\n",
      "bestIteration = 99\n",
      "\n",
      "Training on fold [12/30]\n",
      "0:\tlearn: 0.8509138\ttest: 0.8389406\tbest: 0.8389406 (0)\ttotal: 2.89s\tremaining: 4m 46s\n",
      "1:\tlearn: 0.8904865\ttest: 0.8793605\tbest: 0.8793605 (1)\ttotal: 5.8s\tremaining: 4m 44s\n",
      "2:\tlearn: 0.9094030\ttest: 0.8966776\tbest: 0.8966776 (2)\ttotal: 8.73s\tremaining: 4m 42s\n",
      "3:\tlearn: 0.9169899\ttest: 0.9072920\tbest: 0.9072920 (3)\ttotal: 11.6s\tremaining: 4m 37s\n",
      "4:\tlearn: 0.9322806\ttest: 0.9158126\tbest: 0.9158126 (4)\ttotal: 14.5s\tremaining: 4m 35s\n",
      "5:\tlearn: 0.9404113\ttest: 0.9215615\tbest: 0.9215615 (5)\ttotal: 17.4s\tremaining: 4m 32s\n",
      "6:\tlearn: 0.9471720\ttest: 0.9267585\tbest: 0.9267585 (6)\ttotal: 20.2s\tremaining: 4m 28s\n",
      "7:\tlearn: 0.9534959\ttest: 0.9325598\tbest: 0.9325598 (7)\ttotal: 23.2s\tremaining: 4m 27s\n",
      "8:\tlearn: 0.9591448\ttest: 0.9410914\tbest: 0.9410914 (8)\ttotal: 26.1s\tremaining: 4m 24s\n",
      "9:\tlearn: 0.9638749\ttest: 0.9434234\tbest: 0.9434234 (9)\ttotal: 29s\tremaining: 4m 21s\n",
      "10:\tlearn: 0.9671959\ttest: 0.9434642\tbest: 0.9434642 (10)\ttotal: 31.9s\tremaining: 4m 17s\n",
      "11:\tlearn: 0.9709335\ttest: 0.9480100\tbest: 0.9480100 (11)\ttotal: 34.7s\tremaining: 4m 14s\n",
      "12:\tlearn: 0.9718915\ttest: 0.9477077\tbest: 0.9480100 (11)\ttotal: 37.7s\tremaining: 4m 12s\n",
      "13:\tlearn: 0.9747497\ttest: 0.9508079\tbest: 0.9508079 (13)\ttotal: 40.5s\tremaining: 4m 8s\n",
      "14:\tlearn: 0.9755208\ttest: 0.9516302\tbest: 0.9516302 (14)\ttotal: 43.3s\tremaining: 4m 5s\n",
      "15:\tlearn: 0.9774174\ttest: 0.9573935\tbest: 0.9573935 (15)\ttotal: 46.2s\tremaining: 4m 2s\n",
      "16:\tlearn: 0.9779310\ttest: 0.9558348\tbest: 0.9573935 (15)\ttotal: 49.1s\tremaining: 3m 59s\n",
      "17:\tlearn: 0.9787769\ttest: 0.9577666\tbest: 0.9577666 (17)\ttotal: 51.9s\tremaining: 3m 56s\n",
      "18:\tlearn: 0.9797426\ttest: 0.9591398\tbest: 0.9591398 (18)\ttotal: 54.7s\tremaining: 3m 53s\n",
      "19:\tlearn: 0.9803794\ttest: 0.9587961\tbest: 0.9591398 (18)\ttotal: 57.5s\tremaining: 3m 49s\n",
      "20:\tlearn: 0.9812640\ttest: 0.9629896\tbest: 0.9629896 (20)\ttotal: 1m\tremaining: 3m 46s\n",
      "21:\tlearn: 0.9819113\ttest: 0.9612903\tbest: 0.9629896 (20)\ttotal: 1m 3s\tremaining: 3m 43s\n",
      "22:\tlearn: 0.9830081\ttest: 0.9623521\tbest: 0.9629896 (20)\ttotal: 1m 6s\tremaining: 3m 41s\n",
      "23:\tlearn: 0.9838080\ttest: 0.9637343\tbest: 0.9637343 (23)\ttotal: 1m 8s\tremaining: 3m 37s\n",
      "24:\tlearn: 0.9848497\ttest: 0.9633884\tbest: 0.9637343 (23)\ttotal: 1m 11s\tremaining: 3m 35s\n",
      "25:\tlearn: 0.9855722\ttest: 0.9637343\tbest: 0.9637343 (23)\ttotal: 1m 14s\tremaining: 3m 32s\n",
      "26:\tlearn: 0.9863762\ttest: 0.9637343\tbest: 0.9637343 (23)\ttotal: 1m 17s\tremaining: 3m 29s\n",
      "27:\tlearn: 0.9869398\ttest: 0.9630427\tbest: 0.9637343 (23)\ttotal: 1m 20s\tremaining: 3m 26s\n",
      "28:\tlearn: 0.9875898\ttest: 0.9651706\tbest: 0.9651706 (28)\ttotal: 1m 22s\tremaining: 3m 23s\n",
      "29:\tlearn: 0.9882757\ttest: 0.9655172\tbest: 0.9655172 (29)\ttotal: 1m 25s\tremaining: 3m 20s\n",
      "30:\tlearn: 0.9890433\ttest: 0.9658642\tbest: 0.9658642 (30)\ttotal: 1m 28s\tremaining: 3m 17s\n",
      "31:\tlearn: 0.9895288\ttest: 0.9662114\tbest: 0.9662114 (31)\ttotal: 1m 31s\tremaining: 3m 14s\n",
      "32:\tlearn: 0.9901363\ttest: 0.9682997\tbest: 0.9682997 (32)\ttotal: 1m 34s\tremaining: 3m 11s\n",
      "33:\tlearn: 0.9905823\ttest: 0.9689978\tbest: 0.9689978 (33)\ttotal: 1m 37s\tremaining: 3m 8s\n",
      "34:\tlearn: 0.9906634\ttest: 0.9686486\tbest: 0.9689978 (33)\ttotal: 1m 40s\tremaining: 3m 5s\n",
      "35:\tlearn: 0.9909069\ttest: 0.9693473\tbest: 0.9693473 (35)\ttotal: 1m 43s\tremaining: 3m 3s\n",
      "36:\tlearn: 0.9916786\ttest: 0.9700469\tbest: 0.9700469 (36)\ttotal: 1m 45s\tremaining: 3m\n",
      "37:\tlearn: 0.9922481\ttest: 0.9707476\tbest: 0.9707476 (37)\ttotal: 1m 48s\tremaining: 2m 57s\n",
      "38:\tlearn: 0.9931850\ttest: 0.9710983\tbest: 0.9710983 (38)\ttotal: 1m 51s\tremaining: 2m 54s\n",
      "39:\tlearn: 0.9934705\ttest: 0.9714492\tbest: 0.9714492 (39)\ttotal: 1m 54s\tremaining: 2m 51s\n",
      "40:\tlearn: 0.9940012\ttest: 0.9721519\tbest: 0.9721519 (40)\ttotal: 1m 57s\tremaining: 2m 49s\n",
      "41:\tlearn: 0.9943689\ttest: 0.9735603\tbest: 0.9735603 (41)\ttotal: 2m\tremaining: 2m 46s\n",
      "42:\tlearn: 0.9944097\ttest: 0.9735603\tbest: 0.9735603 (41)\ttotal: 2m 3s\tremaining: 2m 43s\n",
      "43:\tlearn: 0.9948187\ttest: 0.9732078\tbest: 0.9735603 (41)\ttotal: 2m 5s\tremaining: 2m 40s\n",
      "44:\tlearn: 0.9951460\ttest: 0.9735603\tbest: 0.9735603 (41)\ttotal: 2m 8s\tremaining: 2m 37s\n",
      "45:\tlearn: 0.9954736\ttest: 0.9735603\tbest: 0.9735603 (41)\ttotal: 2m 11s\tremaining: 2m 34s\n",
      "46:\tlearn: 0.9958424\ttest: 0.9739130\tbest: 0.9739130 (46)\ttotal: 2m 14s\tremaining: 2m 31s\n",
      "47:\tlearn: 0.9960474\ttest: 0.9739130\tbest: 0.9739130 (46)\ttotal: 2m 17s\tremaining: 2m 28s\n",
      "48:\tlearn: 0.9962936\ttest: 0.9732078\tbest: 0.9739130 (46)\ttotal: 2m 19s\tremaining: 2m 25s\n",
      "49:\tlearn: 0.9965398\ttest: 0.9732078\tbest: 0.9739130 (46)\ttotal: 2m 22s\tremaining: 2m 22s\n",
      "50:\tlearn: 0.9967451\ttest: 0.9739130\tbest: 0.9739130 (46)\ttotal: 2m 25s\tremaining: 2m 20s\n",
      "51:\tlearn: 0.9968683\ttest: 0.9732078\tbest: 0.9739130 (46)\ttotal: 2m 28s\tremaining: 2m 17s\n",
      "52:\tlearn: 0.9969916\ttest: 0.9742660\tbest: 0.9742660 (52)\ttotal: 2m 31s\tremaining: 2m 14s\n",
      "53:\tlearn: 0.9972381\ttest: 0.9746193\tbest: 0.9746193 (53)\ttotal: 2m 34s\tremaining: 2m 11s\n",
      "54:\tlearn: 0.9972792\ttest: 0.9753266\tbest: 0.9753266 (54)\ttotal: 2m 36s\tremaining: 2m 8s\n",
      "55:\tlearn: 0.9974437\ttest: 0.9739130\tbest: 0.9753266 (54)\ttotal: 2m 39s\tremaining: 2m 5s\n",
      "56:\tlearn: 0.9977317\ttest: 0.9753266\tbest: 0.9753266 (54)\ttotal: 2m 42s\tremaining: 2m 2s\n",
      "57:\tlearn: 0.9978963\ttest: 0.9749728\tbest: 0.9753266 (54)\ttotal: 2m 45s\tremaining: 1m 59s\n",
      "58:\tlearn: 0.9980198\ttest: 0.9753266\tbest: 0.9753266 (54)\ttotal: 2m 48s\tremaining: 1m 56s\n",
      "59:\tlearn: 0.9981022\ttest: 0.9760349\tbest: 0.9760349 (59)\ttotal: 2m 50s\tremaining: 1m 53s\n",
      "60:\tlearn: 0.9981845\ttest: 0.9760349\tbest: 0.9760349 (59)\ttotal: 2m 53s\tremaining: 1m 51s\n",
      "61:\tlearn: 0.9983905\ttest: 0.9778101\tbest: 0.9778101 (61)\ttotal: 2m 56s\tremaining: 1m 48s\n",
      "62:\tlearn: 0.9985965\ttest: 0.9767442\tbest: 0.9778101 (61)\ttotal: 2m 59s\tremaining: 1m 45s\n",
      "63:\tlearn: 0.9987615\ttest: 0.9778101\tbest: 0.9778101 (61)\ttotal: 3m 2s\tremaining: 1m 42s\n",
      "64:\tlearn: 0.9988027\ttest: 0.9774545\tbest: 0.9778101 (61)\ttotal: 3m 5s\tremaining: 1m 39s\n",
      "65:\tlearn: 0.9989677\ttest: 0.9770992\tbest: 0.9778101 (61)\ttotal: 3m 7s\tremaining: 1m 36s\n",
      "66:\tlearn: 0.9991327\ttest: 0.9770992\tbest: 0.9778101 (61)\ttotal: 3m 10s\tremaining: 1m 33s\n",
      "67:\tlearn: 0.9992152\ttest: 0.9778101\tbest: 0.9778101 (61)\ttotal: 3m 13s\tremaining: 1m 31s\n",
      "68:\tlearn: 0.9993391\ttest: 0.9792350\tbest: 0.9792350 (68)\ttotal: 3m 16s\tremaining: 1m 28s\n",
      "69:\tlearn: 0.9995042\ttest: 0.9788784\tbest: 0.9792350 (68)\ttotal: 3m 19s\tremaining: 1m 25s\n",
      "70:\tlearn: 0.9995868\ttest: 0.9785220\tbest: 0.9792350 (68)\ttotal: 3m 21s\tremaining: 1m 22s\n",
      "71:\tlearn: 0.9996694\ttest: 0.9774545\tbest: 0.9792350 (68)\ttotal: 3m 24s\tremaining: 1m 19s\n",
      "72:\tlearn: 0.9997520\ttest: 0.9781659\tbest: 0.9792350 (68)\ttotal: 3m 27s\tremaining: 1m 16s\n",
      "73:\tlearn: 0.9997934\ttest: 0.9795918\tbest: 0.9795918 (73)\ttotal: 3m 30s\tremaining: 1m 13s\n",
      "74:\tlearn: 0.9997934\ttest: 0.9785220\tbest: 0.9795918 (73)\ttotal: 3m 33s\tremaining: 1m 11s\n",
      "75:\tlearn: 0.9997934\ttest: 0.9781659\tbest: 0.9795918 (73)\ttotal: 3m 36s\tremaining: 1m 8s\n",
      "76:\tlearn: 0.9998347\ttest: 0.9785220\tbest: 0.9795918 (73)\ttotal: 3m 38s\tremaining: 1m 5s\n",
      "77:\tlearn: 0.9998347\ttest: 0.9788784\tbest: 0.9795918 (73)\ttotal: 3m 41s\tremaining: 1m 2s\n",
      "78:\tlearn: 0.9998347\ttest: 0.9799490\tbest: 0.9799490 (78)\ttotal: 3m 44s\tremaining: 59.6s\n",
      "79:\tlearn: 0.9998760\ttest: 0.9792350\tbest: 0.9799490 (78)\ttotal: 3m 47s\tremaining: 56.8s\n",
      "80:\tlearn: 0.9999587\ttest: 0.9792350\tbest: 0.9799490 (78)\ttotal: 3m 50s\tremaining: 54s\n",
      "81:\tlearn: 0.9999173\ttest: 0.9788784\tbest: 0.9799490 (78)\ttotal: 3m 52s\tremaining: 51.1s\n",
      "82:\tlearn: 1.0000000\ttest: 0.9788784\tbest: 0.9799490 (78)\ttotal: 3m 55s\tremaining: 48.3s\n",
      "83:\tlearn: 1.0000000\ttest: 0.9795918\tbest: 0.9799490 (78)\ttotal: 3m 58s\tremaining: 45.5s\n",
      "84:\tlearn: 0.9999587\ttest: 0.9792350\tbest: 0.9799490 (78)\ttotal: 4m 1s\tremaining: 42.6s\n",
      "85:\tlearn: 0.9999587\ttest: 0.9792350\tbest: 0.9799490 (78)\ttotal: 4m 4s\tremaining: 39.8s\n",
      "86:\tlearn: 0.9999587\ttest: 0.9792350\tbest: 0.9799490 (78)\ttotal: 4m 7s\tremaining: 36.9s\n",
      "87:\tlearn: 0.9999587\ttest: 0.9792350\tbest: 0.9799490 (78)\ttotal: 4m 9s\tremaining: 34.1s\n",
      "88:\tlearn: 1.0000000\ttest: 0.9788784\tbest: 0.9799490 (78)\ttotal: 4m 12s\tremaining: 31.2s\n",
      "89:\tlearn: 1.0000000\ttest: 0.9785220\tbest: 0.9799490 (78)\ttotal: 4m 15s\tremaining: 28.4s\n",
      "90:\tlearn: 1.0000000\ttest: 0.9792350\tbest: 0.9799490 (78)\ttotal: 4m 18s\tremaining: 25.5s\n",
      "91:\tlearn: 1.0000000\ttest: 0.9792350\tbest: 0.9799490 (78)\ttotal: 4m 20s\tremaining: 22.7s\n",
      "92:\tlearn: 1.0000000\ttest: 0.9792350\tbest: 0.9799490 (78)\ttotal: 4m 23s\tremaining: 19.9s\n",
      "93:\tlearn: 1.0000000\ttest: 0.9803063\tbest: 0.9803063 (93)\ttotal: 4m 26s\tremaining: 17s\n",
      "94:\tlearn: 1.0000000\ttest: 0.9803063\tbest: 0.9803063 (93)\ttotal: 4m 29s\tremaining: 14.2s\n",
      "95:\tlearn: 1.0000000\ttest: 0.9799490\tbest: 0.9803063 (93)\ttotal: 4m 32s\tremaining: 11.3s\n",
      "96:\tlearn: 1.0000000\ttest: 0.9803063\tbest: 0.9803063 (93)\ttotal: 4m 34s\tremaining: 8.5s\n",
      "97:\tlearn: 1.0000000\ttest: 0.9803063\tbest: 0.9803063 (93)\ttotal: 4m 37s\tremaining: 5.67s\n",
      "98:\tlearn: 1.0000000\ttest: 0.9810219\tbest: 0.9810219 (98)\ttotal: 4m 40s\tremaining: 2.83s\n",
      "99:\tlearn: 1.0000000\ttest: 0.9806640\tbest: 0.9810219 (98)\ttotal: 4m 43s\tremaining: 0us\n",
      "\n",
      "bestTest = 0.9810218978\n",
      "bestIteration = 98\n",
      "\n",
      "Training on fold [13/30]\n",
      "0:\tlearn: 0.8460507\ttest: 0.8350365\tbest: 0.8350365 (0)\ttotal: 2.88s\tremaining: 4m 45s\n",
      "1:\tlearn: 0.8948732\ttest: 0.8827183\tbest: 0.8827183 (1)\ttotal: 5.83s\tremaining: 4m 45s\n",
      "2:\tlearn: 0.9069425\ttest: 0.8944835\tbest: 0.8944835 (2)\ttotal: 8.69s\tremaining: 4m 40s\n",
      "3:\tlearn: 0.9162485\ttest: 0.9039094\tbest: 0.9039094 (3)\ttotal: 11.7s\tremaining: 4m 40s\n",
      "4:\tlearn: 0.9295052\ttest: 0.9162418\tbest: 0.9162418 (4)\ttotal: 14.5s\tremaining: 4m 36s\n",
      "5:\tlearn: 0.9386232\ttest: 0.9283376\tbest: 0.9283376 (5)\ttotal: 17.5s\tremaining: 4m 33s\n",
      "6:\tlearn: 0.9455829\ttest: 0.9328520\tbest: 0.9328520 (6)\ttotal: 20.4s\tremaining: 4m 31s\n",
      "7:\tlearn: 0.9513233\ttest: 0.9392185\tbest: 0.9392185 (7)\ttotal: 23.3s\tremaining: 4m 27s\n",
      "8:\tlearn: 0.9544514\ttest: 0.9384504\tbest: 0.9392185 (7)\ttotal: 26.2s\tremaining: 4m 25s\n",
      "9:\tlearn: 0.9588386\ttest: 0.9448876\tbest: 0.9448876 (9)\ttotal: 29.1s\tremaining: 4m 21s\n",
      "10:\tlearn: 0.9644908\ttest: 0.9493854\tbest: 0.9493854 (10)\ttotal: 32.1s\tremaining: 4m 19s\n",
      "11:\tlearn: 0.9683002\ttest: 0.9523466\tbest: 0.9523466 (11)\ttotal: 34.9s\tremaining: 4m 16s\n",
      "12:\tlearn: 0.9713708\ttest: 0.9563019\tbest: 0.9563019 (12)\ttotal: 37.8s\tremaining: 4m 13s\n",
      "13:\tlearn: 0.9731609\ttest: 0.9606924\tbest: 0.9606924 (13)\ttotal: 40.7s\tremaining: 4m 9s\n",
      "14:\tlearn: 0.9754025\ttest: 0.9656668\tbest: 0.9656668 (14)\ttotal: 43.5s\tremaining: 4m 6s\n",
      "15:\tlearn: 0.9760998\ttest: 0.9649693\tbest: 0.9656668 (14)\ttotal: 46.4s\tremaining: 4m 3s\n",
      "16:\tlearn: 0.9769835\ttest: 0.9646209\tbest: 0.9656668 (14)\ttotal: 49.3s\tremaining: 4m\n",
      "17:\tlearn: 0.9784132\ttest: 0.9668110\tbest: 0.9668110 (17)\ttotal: 52.1s\tremaining: 3m 57s\n",
      "18:\tlearn: 0.9795240\ttest: 0.9668110\tbest: 0.9668110 (17)\ttotal: 55s\tremaining: 3m 54s\n",
      "19:\tlearn: 0.9801599\ttest: 0.9664623\tbest: 0.9668110 (17)\ttotal: 57.8s\tremaining: 3m 51s\n",
      "20:\tlearn: 0.9816041\ttest: 0.9682081\tbest: 0.9682081 (20)\ttotal: 1m\tremaining: 3m 48s\n",
      "21:\tlearn: 0.9815243\ttest: 0.9689082\tbest: 0.9689082 (21)\ttotal: 1m 3s\tremaining: 3m 45s\n",
      "22:\tlearn: 0.9834052\ttest: 0.9710983\tbest: 0.9710983 (22)\ttotal: 1m 6s\tremaining: 3m 42s\n",
      "23:\tlearn: 0.9842148\ttest: 0.9714492\tbest: 0.9714492 (23)\ttotal: 1m 9s\tremaining: 3m 39s\n",
      "24:\tlearn: 0.9850564\ttest: 0.9714492\tbest: 0.9714492 (23)\ttotal: 1m 12s\tremaining: 3m 36s\n",
      "25:\tlearn: 0.9860602\ttest: 0.9725036\tbest: 0.9725036 (25)\ttotal: 1m 15s\tremaining: 3m 33s\n",
      "26:\tlearn: 0.9869049\ttest: 0.9714492\tbest: 0.9725036 (25)\ttotal: 1m 17s\tremaining: 3m 30s\n",
      "27:\tlearn: 0.9870660\ttest: 0.9728556\tbest: 0.9728556 (27)\ttotal: 1m 20s\tremaining: 3m 27s\n",
      "28:\tlearn: 0.9878721\ttest: 0.9746193\tbest: 0.9746193 (28)\ttotal: 1m 23s\tremaining: 3m 24s\n",
      "29:\tlearn: 0.9881949\ttest: 0.9746193\tbest: 0.9746193 (28)\ttotal: 1m 26s\tremaining: 3m 21s\n",
      "30:\tlearn: 0.9890029\ttest: 0.9749728\tbest: 0.9749728 (30)\ttotal: 1m 29s\tremaining: 3m 18s\n",
      "31:\tlearn: 0.9898122\ttest: 0.9756806\tbest: 0.9756806 (31)\ttotal: 1m 32s\tremaining: 3m 15s\n",
      "32:\tlearn: 0.9905823\ttest: 0.9756806\tbest: 0.9756806 (31)\ttotal: 1m 34s\tremaining: 3m 12s\n",
      "33:\tlearn: 0.9911504\ttest: 0.9756806\tbest: 0.9756806 (31)\ttotal: 1m 37s\tremaining: 3m 9s\n",
      "34:\tlearn: 0.9915567\ttest: 0.9760349\tbest: 0.9760349 (34)\ttotal: 1m 40s\tremaining: 3m 6s\n",
      "35:\tlearn: 0.9920446\ttest: 0.9760349\tbest: 0.9760349 (34)\ttotal: 1m 43s\tremaining: 3m 4s\n",
      "36:\tlearn: 0.9924923\ttest: 0.9763894\tbest: 0.9763894 (36)\ttotal: 1m 46s\tremaining: 3m 1s\n",
      "37:\tlearn: 0.9929812\ttest: 0.9767442\tbest: 0.9767442 (37)\ttotal: 1m 49s\tremaining: 2m 58s\n",
      "38:\tlearn: 0.9933481\ttest: 0.9770992\tbest: 0.9770992 (38)\ttotal: 1m 51s\tremaining: 2m 55s\n",
      "39:\tlearn: 0.9935521\ttest: 0.9774545\tbest: 0.9774545 (39)\ttotal: 1m 54s\tremaining: 2m 52s\n",
      "40:\tlearn: 0.9939603\ttest: 0.9781659\tbest: 0.9781659 (40)\ttotal: 1m 57s\tremaining: 2m 49s\n",
      "41:\tlearn: 0.9944506\ttest: 0.9795918\tbest: 0.9795918 (41)\ttotal: 2m\tremaining: 2m 46s\n",
      "42:\tlearn: 0.9950232\ttest: 0.9795918\tbest: 0.9795918 (41)\ttotal: 2m 3s\tremaining: 2m 43s\n",
      "43:\tlearn: 0.9950232\ttest: 0.9792350\tbest: 0.9795918 (41)\ttotal: 2m 5s\tremaining: 2m 40s\n",
      "44:\tlearn: 0.9952279\ttest: 0.9803063\tbest: 0.9803063 (44)\ttotal: 2m 8s\tremaining: 2m 37s\n",
      "45:\tlearn: 0.9954327\ttest: 0.9795918\tbest: 0.9803063 (44)\ttotal: 2m 11s\tremaining: 2m 34s\n",
      "46:\tlearn: 0.9957604\ttest: 0.9806640\tbest: 0.9806640 (46)\ttotal: 2m 14s\tremaining: 2m 31s\n",
      "47:\tlearn: 0.9959654\ttest: 0.9806640\tbest: 0.9806640 (46)\ttotal: 2m 17s\tremaining: 2m 28s\n",
      "48:\tlearn: 0.9964987\ttest: 0.9803063\tbest: 0.9806640 (46)\ttotal: 2m 20s\tremaining: 2m 25s\n",
      "49:\tlearn: 0.9967451\ttest: 0.9799490\tbest: 0.9806640 (46)\ttotal: 2m 22s\tremaining: 2m 22s\n",
      "50:\tlearn: 0.9969505\ttest: 0.9795918\tbest: 0.9806640 (46)\ttotal: 2m 25s\tremaining: 2m 19s\n",
      "51:\tlearn: 0.9970737\ttest: 0.9806640\tbest: 0.9806640 (46)\ttotal: 2m 28s\tremaining: 2m 17s\n",
      "52:\tlearn: 0.9973204\ttest: 0.9803063\tbest: 0.9806640 (46)\ttotal: 2m 31s\tremaining: 2m 14s\n",
      "53:\tlearn: 0.9973615\ttest: 0.9799490\tbest: 0.9806640 (46)\ttotal: 2m 34s\tremaining: 2m 11s\n",
      "54:\tlearn: 0.9975260\ttest: 0.9799490\tbest: 0.9806640 (46)\ttotal: 2m 37s\tremaining: 2m 8s\n",
      "55:\tlearn: 0.9978140\ttest: 0.9806640\tbest: 0.9806640 (46)\ttotal: 2m 40s\tremaining: 2m 5s\n",
      "56:\tlearn: 0.9979786\ttest: 0.9810219\tbest: 0.9810219 (56)\ttotal: 2m 42s\tremaining: 2m 2s\n",
      "57:\tlearn: 0.9980610\ttest: 0.9810219\tbest: 0.9810219 (56)\ttotal: 2m 45s\tremaining: 1m 59s\n",
      "58:\tlearn: 0.9983905\ttest: 0.9810219\tbest: 0.9810219 (56)\ttotal: 2m 48s\tremaining: 1m 56s\n",
      "59:\tlearn: 0.9985141\ttest: 0.9810219\tbest: 0.9810219 (56)\ttotal: 2m 51s\tremaining: 1m 54s\n",
      "60:\tlearn: 0.9986790\ttest: 0.9817385\tbest: 0.9817385 (60)\ttotal: 2m 54s\tremaining: 1m 51s\n",
      "61:\tlearn: 0.9988027\ttest: 0.9824561\tbest: 0.9824561 (61)\ttotal: 2m 56s\tremaining: 1m 48s\n",
      "62:\tlearn: 0.9988027\ttest: 0.9824561\tbest: 0.9824561 (61)\ttotal: 2m 59s\tremaining: 1m 45s\n",
      "63:\tlearn: 0.9989264\ttest: 0.9820972\tbest: 0.9824561 (61)\ttotal: 3m 2s\tremaining: 1m 42s\n",
      "64:\tlearn: 0.9990502\ttest: 0.9828154\tbest: 0.9828154 (64)\ttotal: 3m 5s\tremaining: 1m 39s\n",
      "65:\tlearn: 0.9991740\ttest: 0.9831748\tbest: 0.9831748 (65)\ttotal: 3m 8s\tremaining: 1m 37s\n",
      "66:\tlearn: 0.9992152\ttest: 0.9831748\tbest: 0.9831748 (65)\ttotal: 3m 10s\tremaining: 1m 34s\n",
      "67:\tlearn: 0.9992565\ttest: 0.9842549\tbest: 0.9842549 (67)\ttotal: 3m 13s\tremaining: 1m 31s\n",
      "68:\tlearn: 0.9992565\ttest: 0.9842549\tbest: 0.9842549 (67)\ttotal: 3m 16s\tremaining: 1m 28s\n",
      "69:\tlearn: 0.9992978\ttest: 0.9835346\tbest: 0.9842549 (67)\ttotal: 3m 19s\tremaining: 1m 25s\n",
      "70:\tlearn: 0.9993391\ttest: 0.9831748\tbest: 0.9842549 (67)\ttotal: 3m 22s\tremaining: 1m 22s\n",
      "71:\tlearn: 0.9993391\ttest: 0.9828154\tbest: 0.9842549 (67)\ttotal: 3m 25s\tremaining: 1m 19s\n",
      "72:\tlearn: 0.9993803\ttest: 0.9828154\tbest: 0.9842549 (67)\ttotal: 3m 27s\tremaining: 1m 16s\n",
      "73:\tlearn: 0.9994629\ttest: 0.9835346\tbest: 0.9842549 (67)\ttotal: 3m 30s\tremaining: 1m 13s\n",
      "74:\tlearn: 0.9996281\ttest: 0.9831748\tbest: 0.9842549 (67)\ttotal: 3m 33s\tremaining: 1m 11s\n",
      "75:\tlearn: 0.9996281\ttest: 0.9831748\tbest: 0.9842549 (67)\ttotal: 3m 36s\tremaining: 1m 8s\n",
      "76:\tlearn: 0.9997520\ttest: 0.9828154\tbest: 0.9842549 (67)\ttotal: 3m 39s\tremaining: 1m 5s\n",
      "77:\tlearn: 0.9997520\ttest: 0.9831748\tbest: 0.9842549 (67)\ttotal: 3m 41s\tremaining: 1m 2s\n",
      "78:\tlearn: 0.9998347\ttest: 0.9831748\tbest: 0.9842549 (67)\ttotal: 3m 44s\tremaining: 59.7s\n",
      "79:\tlearn: 0.9998760\ttest: 0.9831748\tbest: 0.9842549 (67)\ttotal: 3m 47s\tremaining: 56.8s\n",
      "80:\tlearn: 0.9998760\ttest: 0.9835346\tbest: 0.9842549 (67)\ttotal: 3m 50s\tremaining: 54s\n",
      "81:\tlearn: 0.9999173\ttest: 0.9838946\tbest: 0.9842549 (67)\ttotal: 3m 52s\tremaining: 51.1s\n",
      "82:\tlearn: 0.9999587\ttest: 0.9842549\tbest: 0.9842549 (67)\ttotal: 3m 55s\tremaining: 48.3s\n",
      "83:\tlearn: 0.9999587\ttest: 0.9838946\tbest: 0.9842549 (67)\ttotal: 3m 58s\tremaining: 45.5s\n",
      "84:\tlearn: 0.9999587\ttest: 0.9838946\tbest: 0.9842549 (67)\ttotal: 4m 1s\tremaining: 42.6s\n",
      "85:\tlearn: 1.0000000\ttest: 0.9835346\tbest: 0.9842549 (67)\ttotal: 4m 4s\tremaining: 39.8s\n",
      "86:\tlearn: 1.0000000\ttest: 0.9831748\tbest: 0.9842549 (67)\ttotal: 4m 7s\tremaining: 36.9s\n",
      "87:\tlearn: 1.0000000\ttest: 0.9831748\tbest: 0.9842549 (67)\ttotal: 4m 10s\tremaining: 34.1s\n",
      "88:\tlearn: 1.0000000\ttest: 0.9831748\tbest: 0.9842549 (67)\ttotal: 4m 12s\tremaining: 31.2s\n",
      "89:\tlearn: 1.0000000\ttest: 0.9831748\tbest: 0.9842549 (67)\ttotal: 4m 15s\tremaining: 28.4s\n",
      "90:\tlearn: 1.0000000\ttest: 0.9835346\tbest: 0.9842549 (67)\ttotal: 4m 18s\tremaining: 25.6s\n",
      "91:\tlearn: 1.0000000\ttest: 0.9842549\tbest: 0.9842549 (67)\ttotal: 4m 21s\tremaining: 22.7s\n",
      "92:\tlearn: 1.0000000\ttest: 0.9835346\tbest: 0.9842549 (67)\ttotal: 4m 23s\tremaining: 19.9s\n",
      "93:\tlearn: 1.0000000\ttest: 0.9838946\tbest: 0.9842549 (67)\ttotal: 4m 26s\tremaining: 17s\n",
      "94:\tlearn: 1.0000000\ttest: 0.9838946\tbest: 0.9842549 (67)\ttotal: 4m 29s\tremaining: 14.2s\n",
      "95:\tlearn: 1.0000000\ttest: 0.9842549\tbest: 0.9842549 (67)\ttotal: 4m 32s\tremaining: 11.3s\n",
      "96:\tlearn: 1.0000000\ttest: 0.9846154\tbest: 0.9846154 (96)\ttotal: 4m 35s\tremaining: 8.51s\n",
      "97:\tlearn: 1.0000000\ttest: 0.9842549\tbest: 0.9846154 (96)\ttotal: 4m 38s\tremaining: 5.67s\n",
      "98:\tlearn: 1.0000000\ttest: 0.9846154\tbest: 0.9846154 (96)\ttotal: 4m 40s\tremaining: 2.84s\n",
      "99:\tlearn: 1.0000000\ttest: 0.9846154\tbest: 0.9846154 (96)\ttotal: 4m 43s\tremaining: 0us\n",
      "\n",
      "bestTest = 0.9846153846\n",
      "bestIteration = 96\n",
      "\n",
      "Training on fold [14/30]\n",
      "0:\tlearn: 0.8429691\ttest: 0.8328424\tbest: 0.8328424 (0)\ttotal: 2.97s\tremaining: 4m 54s\n",
      "1:\tlearn: 0.8955309\ttest: 0.8771155\tbest: 0.8771155 (1)\ttotal: 5.92s\tremaining: 4m 49s\n",
      "2:\tlearn: 0.9123438\ttest: 0.8929485\tbest: 0.8929485 (2)\ttotal: 8.79s\tremaining: 4m 44s\n",
      "3:\tlearn: 0.9205274\ttest: 0.9049541\tbest: 0.9049541 (3)\ttotal: 11.6s\tremaining: 4m 38s\n",
      "4:\tlearn: 0.9307586\ttest: 0.9153166\tbest: 0.9153166 (4)\ttotal: 14.6s\tremaining: 4m 38s\n",
      "5:\tlearn: 0.9419706\ttest: 0.9293598\tbest: 0.9293598 (5)\ttotal: 17.6s\tremaining: 4m 36s\n",
      "6:\tlearn: 0.9489585\ttest: 0.9304892\tbest: 0.9304892 (6)\ttotal: 20.6s\tremaining: 4m 33s\n",
      "7:\tlearn: 0.9552408\ttest: 0.9369304\tbest: 0.9369304 (7)\ttotal: 23.6s\tremaining: 4m 31s\n",
      "8:\tlearn: 0.9617912\ttest: 0.9419027\tbest: 0.9419027 (8)\ttotal: 26.5s\tremaining: 4m 28s\n",
      "9:\tlearn: 0.9614181\ttest: 0.9404070\tbest: 0.9419027 (8)\ttotal: 29.3s\tremaining: 4m 23s\n",
      "10:\tlearn: 0.9660797\ttest: 0.9475967\tbest: 0.9475967 (10)\ttotal: 32.1s\tremaining: 4m 19s\n",
      "11:\tlearn: 0.9682025\ttest: 0.9515195\tbest: 0.9515195 (11)\ttotal: 34.9s\tremaining: 4m 16s\n",
      "12:\tlearn: 0.9707896\ttest: 0.9549874\tbest: 0.9549874 (12)\ttotal: 37.9s\tremaining: 4m 13s\n",
      "13:\tlearn: 0.9717802\ttest: 0.9560519\tbest: 0.9560519 (13)\ttotal: 40.9s\tremaining: 4m 10s\n",
      "14:\tlearn: 0.9739891\ttest: 0.9571480\tbest: 0.9571480 (14)\ttotal: 43.7s\tremaining: 4m 7s\n",
      "15:\tlearn: 0.9758709\ttest: 0.9578985\tbest: 0.9578985 (15)\ttotal: 46.6s\tremaining: 4m 4s\n",
      "16:\tlearn: 0.9770782\ttest: 0.9607773\tbest: 0.9607773 (16)\ttotal: 49.3s\tremaining: 4m\n",
      "17:\tlearn: 0.9777273\ttest: 0.9610951\tbest: 0.9610951 (17)\ttotal: 52.2s\tremaining: 3m 57s\n",
      "18:\tlearn: 0.9787787\ttest: 0.9622166\tbest: 0.9622166 (18)\ttotal: 55.1s\tremaining: 3m 54s\n",
      "19:\tlearn: 0.9793747\ttest: 0.9639510\tbest: 0.9639510 (19)\ttotal: 58s\tremaining: 3m 52s\n",
      "20:\tlearn: 0.9801308\ttest: 0.9636036\tbest: 0.9639510 (19)\ttotal: 1m\tremaining: 3m 48s\n",
      "21:\tlearn: 0.9811443\ttest: 0.9650702\tbest: 0.9650702 (21)\ttotal: 1m 3s\tremaining: 3m 45s\n",
      "22:\tlearn: 0.9823419\ttest: 0.9650702\tbest: 0.9650702 (21)\ttotal: 1m 6s\tremaining: 3m 43s\n",
      "23:\tlearn: 0.9832716\ttest: 0.9657658\tbest: 0.9657658 (23)\ttotal: 1m 9s\tremaining: 3m 39s\n",
      "24:\tlearn: 0.9836720\ttest: 0.9668110\tbest: 0.9668110 (24)\ttotal: 1m 12s\tremaining: 3m 36s\n",
      "25:\tlearn: 0.9842330\ttest: 0.9668110\tbest: 0.9668110 (24)\ttotal: 1m 15s\tremaining: 3m 33s\n",
      "26:\tlearn: 0.9854860\ttest: 0.9685580\tbest: 0.9685580 (26)\ttotal: 1m 17s\tremaining: 3m 30s\n",
      "27:\tlearn: 0.9863762\ttest: 0.9693030\tbest: 0.9693030 (27)\ttotal: 1m 20s\tremaining: 3m 27s\n",
      "28:\tlearn: 0.9871868\ttest: 0.9696970\tbest: 0.9696970 (28)\ttotal: 1m 23s\tremaining: 3m 24s\n",
      "29:\tlearn: 0.9872674\ttest: 0.9700469\tbest: 0.9700469 (29)\ttotal: 1m 26s\tremaining: 3m 21s\n",
      "30:\tlearn: 0.9879931\ttest: 0.9700469\tbest: 0.9700469 (29)\ttotal: 1m 29s\tremaining: 3m 18s\n",
      "31:\tlearn: 0.9885180\ttest: 0.9707476\tbest: 0.9707476 (31)\ttotal: 1m 32s\tremaining: 3m 15s\n",
      "32:\tlearn: 0.9892051\ttest: 0.9710983\tbest: 0.9710983 (32)\ttotal: 1m 34s\tremaining: 3m 12s\n",
      "33:\tlearn: 0.9894883\ttest: 0.9703971\tbest: 0.9710983 (32)\ttotal: 1m 37s\tremaining: 3m 9s\n",
      "34:\tlearn: 0.9904200\ttest: 0.9710983\tbest: 0.9710983 (32)\ttotal: 1m 40s\tremaining: 3m 6s\n",
      "35:\tlearn: 0.9912317\ttest: 0.9707476\tbest: 0.9710983 (32)\ttotal: 1m 43s\tremaining: 3m 4s\n",
      "36:\tlearn: 0.9915160\ttest: 0.9718004\tbest: 0.9718004 (36)\ttotal: 1m 46s\tremaining: 3m 1s\n",
      "37:\tlearn: 0.9914348\ttest: 0.9725036\tbest: 0.9725036 (37)\ttotal: 1m 49s\tremaining: 2m 58s\n",
      "38:\tlearn: 0.9918413\ttest: 0.9728556\tbest: 0.9728556 (38)\ttotal: 1m 52s\tremaining: 2m 55s\n",
      "39:\tlearn: 0.9922074\ttest: 0.9732078\tbest: 0.9732078 (39)\ttotal: 1m 54s\tremaining: 2m 52s\n",
      "40:\tlearn: 0.9929404\ttest: 0.9735603\tbest: 0.9735603 (40)\ttotal: 1m 57s\tremaining: 2m 49s\n",
      "41:\tlearn: 0.9932665\ttest: 0.9742660\tbest: 0.9742660 (41)\ttotal: 2m\tremaining: 2m 46s\n",
      "42:\tlearn: 0.9936745\ttest: 0.9742660\tbest: 0.9742660 (41)\ttotal: 2m 3s\tremaining: 2m 43s\n",
      "43:\tlearn: 0.9940420\ttest: 0.9739130\tbest: 0.9742660 (41)\ttotal: 2m 6s\tremaining: 2m 40s\n",
      "44:\tlearn: 0.9944097\ttest: 0.9753266\tbest: 0.9753266 (44)\ttotal: 2m 9s\tremaining: 2m 37s\n",
      "45:\tlearn: 0.9946550\ttest: 0.9749728\tbest: 0.9753266 (44)\ttotal: 2m 11s\tremaining: 2m 34s\n",
      "46:\tlearn: 0.9949005\ttest: 0.9742660\tbest: 0.9753266 (44)\ttotal: 2m 14s\tremaining: 2m 32s\n",
      "47:\tlearn: 0.9951870\ttest: 0.9753266\tbest: 0.9753266 (44)\ttotal: 2m 17s\tremaining: 2m 29s\n",
      "48:\tlearn: 0.9955146\ttest: 0.9753266\tbest: 0.9753266 (44)\ttotal: 2m 20s\tremaining: 2m 26s\n",
      "49:\tlearn: 0.9957604\ttest: 0.9760349\tbest: 0.9760349 (49)\ttotal: 2m 23s\tremaining: 2m 23s\n",
      "50:\tlearn: 0.9958424\ttest: 0.9763894\tbest: 0.9763894 (50)\ttotal: 2m 26s\tremaining: 2m 20s\n",
      "51:\tlearn: 0.9960474\ttest: 0.9767442\tbest: 0.9767442 (51)\ttotal: 2m 29s\tremaining: 2m 17s\n",
      "52:\tlearn: 0.9964167\ttest: 0.9774545\tbest: 0.9774545 (52)\ttotal: 2m 31s\tremaining: 2m 14s\n",
      "53:\tlearn: 0.9965398\ttest: 0.9778101\tbest: 0.9778101 (53)\ttotal: 2m 34s\tremaining: 2m 11s\n",
      "54:\tlearn: 0.9970737\ttest: 0.9781659\tbest: 0.9781659 (54)\ttotal: 2m 37s\tremaining: 2m 8s\n",
      "55:\tlearn: 0.9974026\ttest: 0.9781659\tbest: 0.9781659 (54)\ttotal: 2m 40s\tremaining: 2m 6s\n",
      "56:\tlearn: 0.9975260\ttest: 0.9785220\tbest: 0.9785220 (56)\ttotal: 2m 43s\tremaining: 2m 2s\n",
      "57:\tlearn: 0.9976494\ttest: 0.9770992\tbest: 0.9785220 (56)\ttotal: 2m 45s\tremaining: 2m\n",
      "58:\tlearn: 0.9978551\ttest: 0.9778101\tbest: 0.9785220 (56)\ttotal: 2m 48s\tremaining: 1m 57s\n",
      "59:\tlearn: 0.9980198\ttest: 0.9781659\tbest: 0.9785220 (56)\ttotal: 2m 51s\tremaining: 1m 54s\n",
      "60:\tlearn: 0.9981022\ttest: 0.9785220\tbest: 0.9785220 (56)\ttotal: 2m 54s\tremaining: 1m 51s\n",
      "61:\tlearn: 0.9982669\ttest: 0.9788784\tbest: 0.9788784 (61)\ttotal: 2m 57s\tremaining: 1m 48s\n",
      "62:\tlearn: 0.9984317\ttest: 0.9788784\tbest: 0.9788784 (61)\ttotal: 3m\tremaining: 1m 45s\n",
      "63:\tlearn: 0.9985553\ttest: 0.9792350\tbest: 0.9792350 (63)\ttotal: 3m 2s\tremaining: 1m 42s\n",
      "64:\tlearn: 0.9985141\ttest: 0.9803063\tbest: 0.9803063 (64)\ttotal: 3m 5s\tremaining: 1m 39s\n",
      "65:\tlearn: 0.9986790\ttest: 0.9799490\tbest: 0.9803063 (64)\ttotal: 3m 8s\tremaining: 1m 37s\n",
      "66:\tlearn: 0.9989264\ttest: 0.9810219\tbest: 0.9810219 (66)\ttotal: 3m 11s\tremaining: 1m 34s\n",
      "67:\tlearn: 0.9991327\ttest: 0.9806640\tbest: 0.9810219 (66)\ttotal: 3m 13s\tremaining: 1m 31s\n",
      "68:\tlearn: 0.9992152\ttest: 0.9806640\tbest: 0.9810219 (66)\ttotal: 3m 16s\tremaining: 1m 28s\n",
      "69:\tlearn: 0.9992978\ttest: 0.9806640\tbest: 0.9810219 (66)\ttotal: 3m 19s\tremaining: 1m 25s\n",
      "70:\tlearn: 0.9994216\ttest: 0.9813801\tbest: 0.9813801 (70)\ttotal: 3m 22s\tremaining: 1m 22s\n",
      "71:\tlearn: 0.9994629\ttest: 0.9813801\tbest: 0.9813801 (70)\ttotal: 3m 25s\tremaining: 1m 19s\n",
      "72:\tlearn: 0.9995042\ttest: 0.9820972\tbest: 0.9820972 (72)\ttotal: 3m 28s\tremaining: 1m 16s\n",
      "73:\tlearn: 0.9995455\ttest: 0.9813801\tbest: 0.9820972 (72)\ttotal: 3m 30s\tremaining: 1m 14s\n",
      "74:\tlearn: 0.9995868\ttest: 0.9810219\tbest: 0.9820972 (72)\ttotal: 3m 33s\tremaining: 1m 11s\n",
      "75:\tlearn: 0.9995868\ttest: 0.9817385\tbest: 0.9820972 (72)\ttotal: 3m 36s\tremaining: 1m 8s\n",
      "76:\tlearn: 0.9995868\ttest: 0.9817385\tbest: 0.9820972 (72)\ttotal: 3m 39s\tremaining: 1m 5s\n",
      "77:\tlearn: 0.9996281\ttest: 0.9817385\tbest: 0.9820972 (72)\ttotal: 3m 42s\tremaining: 1m 2s\n",
      "78:\tlearn: 0.9996281\ttest: 0.9824561\tbest: 0.9824561 (78)\ttotal: 3m 44s\tremaining: 59.8s\n",
      "79:\tlearn: 0.9997107\ttest: 0.9817385\tbest: 0.9824561 (78)\ttotal: 3m 47s\tremaining: 56.9s\n",
      "80:\tlearn: 0.9997107\ttest: 0.9824561\tbest: 0.9824561 (78)\ttotal: 3m 50s\tremaining: 54s\n",
      "81:\tlearn: 0.9997520\ttest: 0.9817385\tbest: 0.9824561 (78)\ttotal: 3m 53s\tremaining: 51.2s\n",
      "82:\tlearn: 0.9997934\ttest: 0.9820972\tbest: 0.9824561 (78)\ttotal: 3m 55s\tremaining: 48.3s\n",
      "83:\tlearn: 0.9997934\ttest: 0.9820972\tbest: 0.9824561 (78)\ttotal: 3m 58s\tremaining: 45.5s\n",
      "84:\tlearn: 0.9998347\ttest: 0.9820972\tbest: 0.9824561 (78)\ttotal: 4m 1s\tremaining: 42.6s\n",
      "85:\tlearn: 0.9998347\ttest: 0.9820972\tbest: 0.9824561 (78)\ttotal: 4m 4s\tremaining: 39.8s\n",
      "86:\tlearn: 0.9998760\ttest: 0.9817385\tbest: 0.9824561 (78)\ttotal: 4m 7s\tremaining: 36.9s\n",
      "87:\tlearn: 0.9998760\ttest: 0.9813801\tbest: 0.9824561 (78)\ttotal: 4m 9s\tremaining: 34.1s\n",
      "88:\tlearn: 0.9998760\ttest: 0.9828154\tbest: 0.9828154 (88)\ttotal: 4m 12s\tremaining: 31.2s\n",
      "89:\tlearn: 0.9998760\ttest: 0.9828154\tbest: 0.9828154 (88)\ttotal: 4m 15s\tremaining: 28.4s\n",
      "90:\tlearn: 0.9998760\ttest: 0.9831748\tbest: 0.9831748 (90)\ttotal: 4m 18s\tremaining: 25.6s\n",
      "91:\tlearn: 0.9998760\ttest: 0.9828154\tbest: 0.9831748 (90)\ttotal: 4m 21s\tremaining: 22.7s\n",
      "92:\tlearn: 0.9998760\ttest: 0.9828154\tbest: 0.9831748 (90)\ttotal: 4m 24s\tremaining: 19.9s\n",
      "93:\tlearn: 0.9999173\ttest: 0.9838946\tbest: 0.9838946 (93)\ttotal: 4m 26s\tremaining: 17s\n",
      "94:\tlearn: 0.9999173\ttest: 0.9835346\tbest: 0.9838946 (93)\ttotal: 4m 29s\tremaining: 14.2s\n",
      "95:\tlearn: 0.9999173\ttest: 0.9842549\tbest: 0.9842549 (95)\ttotal: 4m 32s\tremaining: 11.4s\n",
      "96:\tlearn: 0.9999173\ttest: 0.9842549\tbest: 0.9842549 (95)\ttotal: 4m 35s\tremaining: 8.52s\n",
      "97:\tlearn: 0.9999587\ttest: 0.9838946\tbest: 0.9842549 (95)\ttotal: 4m 38s\tremaining: 5.68s\n",
      "98:\tlearn: 0.9999587\ttest: 0.9838946\tbest: 0.9842549 (95)\ttotal: 4m 40s\tremaining: 2.84s\n",
      "99:\tlearn: 0.9999587\ttest: 0.9842549\tbest: 0.9842549 (95)\ttotal: 4m 43s\tremaining: 0us\n",
      "\n",
      "bestTest = 0.9842548517\n",
      "bestIteration = 95\n",
      "\n",
      "Training on fold [15/30]\n",
      "0:\tlearn: 0.8423263\ttest: 0.8250186\tbest: 0.8250186 (0)\ttotal: 2.87s\tremaining: 4m 44s\n",
      "1:\tlearn: 0.8935963\ttest: 0.8776557\tbest: 0.8776557 (1)\ttotal: 5.77s\tremaining: 4m 42s\n",
      "2:\tlearn: 0.9087049\ttest: 0.8960705\tbest: 0.8960705 (2)\ttotal: 8.61s\tremaining: 4m 38s\n",
      "3:\tlearn: 0.9261280\ttest: 0.9106227\tbest: 0.9106227 (3)\ttotal: 11.6s\tremaining: 4m 38s\n",
      "4:\tlearn: 0.9354747\ttest: 0.9243144\tbest: 0.9243144 (4)\ttotal: 14.5s\tremaining: 4m 36s\n",
      "5:\tlearn: 0.9429720\ttest: 0.9304539\tbest: 0.9304539 (5)\ttotal: 17.4s\tremaining: 4m 31s\n",
      "6:\tlearn: 0.9476928\ttest: 0.9359068\tbest: 0.9359068 (6)\ttotal: 20.2s\tremaining: 4m 28s\n",
      "7:\tlearn: 0.9536992\ttest: 0.9428051\tbest: 0.9428051 (7)\ttotal: 23.1s\tremaining: 4m 25s\n",
      "8:\tlearn: 0.9589274\ttest: 0.9496718\tbest: 0.9496718 (8)\ttotal: 26.1s\tremaining: 4m 23s\n",
      "9:\tlearn: 0.9600845\ttest: 0.9499817\tbest: 0.9499817 (9)\ttotal: 29s\tremaining: 4m 21s\n",
      "10:\tlearn: 0.9626741\ttest: 0.9510592\tbest: 0.9510592 (10)\ttotal: 31.8s\tremaining: 4m 17s\n",
      "11:\tlearn: 0.9669438\ttest: 0.9562044\tbest: 0.9562044 (11)\ttotal: 34.8s\tremaining: 4m 14s\n",
      "12:\tlearn: 0.9698983\ttest: 0.9577875\tbest: 0.9577875 (12)\ttotal: 37.7s\tremaining: 4m 12s\n",
      "13:\tlearn: 0.9715815\ttest: 0.9592134\tbest: 0.9592134 (13)\ttotal: 40.5s\tremaining: 4m 9s\n",
      "14:\tlearn: 0.9738687\ttest: 0.9625318\tbest: 0.9625318 (14)\ttotal: 43.5s\tremaining: 4m 6s\n",
      "15:\tlearn: 0.9748015\ttest: 0.9622367\tbest: 0.9625318 (14)\ttotal: 46.3s\tremaining: 4m 2s\n",
      "16:\tlearn: 0.9750405\ttest: 0.9632594\tbest: 0.9632594 (16)\ttotal: 49.1s\tremaining: 3m 59s\n",
      "17:\tlearn: 0.9767649\ttest: 0.9636628\tbest: 0.9636628 (17)\ttotal: 52s\tremaining: 3m 56s\n",
      "18:\tlearn: 0.9780826\ttest: 0.9640653\tbest: 0.9640653 (18)\ttotal: 54.8s\tremaining: 3m 53s\n",
      "19:\tlearn: 0.9795935\ttest: 0.9661695\tbest: 0.9661695 (19)\ttotal: 57.7s\tremaining: 3m 50s\n",
      "20:\tlearn: 0.9805501\ttest: 0.9679300\tbest: 0.9679300 (20)\ttotal: 1m\tremaining: 3m 47s\n",
      "21:\tlearn: 0.9819262\ttest: 0.9693878\tbest: 0.9693878 (21)\ttotal: 1m 3s\tremaining: 3m 44s\n",
      "22:\tlearn: 0.9825733\ttest: 0.9694323\tbest: 0.9694323 (22)\ttotal: 1m 6s\tremaining: 3m 42s\n",
      "23:\tlearn: 0.9842032\ttest: 0.9731105\tbest: 0.9731105 (23)\ttotal: 1m 9s\tremaining: 3m 39s\n",
      "24:\tlearn: 0.9844437\ttest: 0.9734642\tbest: 0.9734642 (24)\ttotal: 1m 12s\tremaining: 3m 36s\n",
      "25:\tlearn: 0.9852402\ttest: 0.9730713\tbest: 0.9734642 (24)\ttotal: 1m 15s\tremaining: 3m 33s\n",
      "26:\tlearn: 0.9862165\ttest: 0.9742100\tbest: 0.9742100 (26)\ttotal: 1m 17s\tremaining: 3m 30s\n",
      "27:\tlearn: 0.9870257\ttest: 0.9753266\tbest: 0.9753266 (27)\ttotal: 1m 20s\tremaining: 3m 27s\n",
      "28:\tlearn: 0.9874689\ttest: 0.9756806\tbest: 0.9756806 (28)\ttotal: 1m 23s\tremaining: 3m 24s\n",
      "29:\tlearn: 0.9877511\ttest: 0.9753266\tbest: 0.9756806 (28)\ttotal: 1m 26s\tremaining: 3m 20s\n",
      "30:\tlearn: 0.9882353\ttest: 0.9756806\tbest: 0.9756806 (28)\ttotal: 1m 28s\tremaining: 3m 18s\n",
      "31:\tlearn: 0.9887604\ttest: 0.9760349\tbest: 0.9760349 (31)\ttotal: 1m 31s\tremaining: 3m 15s\n",
      "32:\tlearn: 0.9894074\ttest: 0.9770992\tbest: 0.9770992 (32)\ttotal: 1m 34s\tremaining: 3m 12s\n",
      "33:\tlearn: 0.9895288\ttest: 0.9781659\tbest: 0.9781659 (33)\ttotal: 1m 37s\tremaining: 3m 9s\n",
      "34:\tlearn: 0.9902984\ttest: 0.9781659\tbest: 0.9781659 (33)\ttotal: 1m 40s\tremaining: 3m 6s\n",
      "35:\tlearn: 0.9909880\ttest: 0.9781659\tbest: 0.9781659 (33)\ttotal: 1m 43s\tremaining: 3m 3s\n",
      "36:\tlearn: 0.9915567\ttest: 0.9785220\tbest: 0.9785220 (36)\ttotal: 1m 45s\tremaining: 3m\n",
      "37:\tlearn: 0.9920853\ttest: 0.9788784\tbest: 0.9788784 (37)\ttotal: 1m 48s\tremaining: 2m 57s\n",
      "38:\tlearn: 0.9923702\ttest: 0.9803063\tbest: 0.9803063 (38)\ttotal: 1m 51s\tremaining: 2m 54s\n",
      "39:\tlearn: 0.9926145\ttest: 0.9795918\tbest: 0.9803063 (38)\ttotal: 1m 54s\tremaining: 2m 51s\n",
      "40:\tlearn: 0.9929812\ttest: 0.9795918\tbest: 0.9803063 (38)\ttotal: 1m 57s\tremaining: 2m 48s\n",
      "41:\tlearn: 0.9937153\ttest: 0.9792350\tbest: 0.9803063 (38)\ttotal: 2m\tremaining: 2m 45s\n",
      "42:\tlearn: 0.9940012\ttest: 0.9799490\tbest: 0.9803063 (38)\ttotal: 2m 2s\tremaining: 2m 42s\n",
      "43:\tlearn: 0.9941645\ttest: 0.9803063\tbest: 0.9803063 (38)\ttotal: 2m 5s\tremaining: 2m 40s\n",
      "44:\tlearn: 0.9946959\ttest: 0.9803063\tbest: 0.9803063 (38)\ttotal: 2m 8s\tremaining: 2m 37s\n",
      "45:\tlearn: 0.9948187\ttest: 0.9795918\tbest: 0.9803063 (38)\ttotal: 2m 11s\tremaining: 2m 34s\n",
      "46:\tlearn: 0.9951051\ttest: 0.9799490\tbest: 0.9803063 (38)\ttotal: 2m 14s\tremaining: 2m 31s\n",
      "47:\tlearn: 0.9955146\ttest: 0.9813801\tbest: 0.9813801 (47)\ttotal: 2m 17s\tremaining: 2m 28s\n",
      "48:\tlearn: 0.9957604\ttest: 0.9813801\tbest: 0.9813801 (47)\ttotal: 2m 19s\tremaining: 2m 25s\n",
      "49:\tlearn: 0.9960474\ttest: 0.9813801\tbest: 0.9813801 (47)\ttotal: 2m 22s\tremaining: 2m 22s\n",
      "50:\tlearn: 0.9964167\ttest: 0.9817385\tbest: 0.9817385 (50)\ttotal: 2m 25s\tremaining: 2m 19s\n",
      "51:\tlearn: 0.9967451\ttest: 0.9828154\tbest: 0.9828154 (51)\ttotal: 2m 28s\tremaining: 2m 16s\n",
      "52:\tlearn: 0.9968683\ttest: 0.9828154\tbest: 0.9828154 (51)\ttotal: 2m 31s\tremaining: 2m 13s\n",
      "53:\tlearn: 0.9969916\ttest: 0.9838946\tbest: 0.9838946 (53)\ttotal: 2m 33s\tremaining: 2m 11s\n",
      "54:\tlearn: 0.9970737\ttest: 0.9846154\tbest: 0.9846154 (54)\ttotal: 2m 36s\tremaining: 2m 8s\n",
      "55:\tlearn: 0.9974026\ttest: 0.9846154\tbest: 0.9846154 (54)\ttotal: 2m 39s\tremaining: 2m 5s\n",
      "56:\tlearn: 0.9976082\ttest: 0.9842549\tbest: 0.9846154 (54)\ttotal: 2m 42s\tremaining: 2m 2s\n",
      "57:\tlearn: 0.9978140\ttest: 0.9842549\tbest: 0.9846154 (54)\ttotal: 2m 45s\tremaining: 1m 59s\n",
      "58:\tlearn: 0.9979375\ttest: 0.9838946\tbest: 0.9846154 (54)\ttotal: 2m 47s\tremaining: 1m 56s\n",
      "59:\tlearn: 0.9981022\ttest: 0.9838946\tbest: 0.9846154 (54)\ttotal: 2m 50s\tremaining: 1m 53s\n",
      "60:\tlearn: 0.9981022\ttest: 0.9838946\tbest: 0.9846154 (54)\ttotal: 2m 53s\tremaining: 1m 50s\n",
      "61:\tlearn: 0.9983493\ttest: 0.9842549\tbest: 0.9846154 (54)\ttotal: 2m 56s\tremaining: 1m 47s\n",
      "62:\tlearn: 0.9984317\ttest: 0.9842549\tbest: 0.9846154 (54)\ttotal: 2m 59s\tremaining: 1m 45s\n",
      "63:\tlearn: 0.9984729\ttest: 0.9842549\tbest: 0.9846154 (54)\ttotal: 3m 1s\tremaining: 1m 42s\n",
      "64:\tlearn: 0.9987202\ttest: 0.9853372\tbest: 0.9853372 (64)\ttotal: 3m 4s\tremaining: 1m 39s\n",
      "65:\tlearn: 0.9986790\ttest: 0.9853372\tbest: 0.9853372 (64)\ttotal: 3m 7s\tremaining: 1m 36s\n",
      "66:\tlearn: 0.9987615\ttest: 0.9853372\tbest: 0.9853372 (64)\ttotal: 3m 10s\tremaining: 1m 33s\n",
      "67:\tlearn: 0.9987202\ttest: 0.9849762\tbest: 0.9853372 (64)\ttotal: 3m 13s\tremaining: 1m 30s\n",
      "68:\tlearn: 0.9989677\ttest: 0.9849762\tbest: 0.9853372 (64)\ttotal: 3m 16s\tremaining: 1m 28s\n",
      "69:\tlearn: 0.9990502\ttest: 0.9853372\tbest: 0.9853372 (64)\ttotal: 3m 18s\tremaining: 1m 25s\n",
      "70:\tlearn: 0.9990914\ttest: 0.9849762\tbest: 0.9853372 (64)\ttotal: 3m 21s\tremaining: 1m 22s\n",
      "71:\tlearn: 0.9991740\ttest: 0.9853372\tbest: 0.9853372 (64)\ttotal: 3m 24s\tremaining: 1m 19s\n",
      "72:\tlearn: 0.9992565\ttest: 0.9856986\tbest: 0.9856986 (72)\ttotal: 3m 27s\tremaining: 1m 16s\n",
      "73:\tlearn: 0.9992978\ttest: 0.9853372\tbest: 0.9856986 (72)\ttotal: 3m 30s\tremaining: 1m 13s\n",
      "74:\tlearn: 0.9992978\ttest: 0.9860602\tbest: 0.9860602 (74)\ttotal: 3m 32s\tremaining: 1m 10s\n",
      "75:\tlearn: 0.9992978\ttest: 0.9849762\tbest: 0.9860602 (74)\ttotal: 3m 35s\tremaining: 1m 8s\n",
      "76:\tlearn: 0.9993803\ttest: 0.9849762\tbest: 0.9860602 (74)\ttotal: 3m 38s\tremaining: 1m 5s\n",
      "77:\tlearn: 0.9995042\ttest: 0.9853372\tbest: 0.9860602 (74)\ttotal: 3m 41s\tremaining: 1m 2s\n",
      "78:\tlearn: 0.9995455\ttest: 0.9846154\tbest: 0.9860602 (74)\ttotal: 3m 43s\tremaining: 59.5s\n",
      "79:\tlearn: 0.9996281\ttest: 0.9846154\tbest: 0.9860602 (74)\ttotal: 3m 46s\tremaining: 56.7s\n",
      "80:\tlearn: 0.9996694\ttest: 0.9853372\tbest: 0.9860602 (74)\ttotal: 3m 49s\tremaining: 53.8s\n",
      "81:\tlearn: 0.9997934\ttest: 0.9849762\tbest: 0.9860602 (74)\ttotal: 3m 52s\tremaining: 51s\n",
      "82:\tlearn: 0.9997934\ttest: 0.9853372\tbest: 0.9860602 (74)\ttotal: 3m 55s\tremaining: 48.2s\n",
      "83:\tlearn: 0.9997934\ttest: 0.9849762\tbest: 0.9860602 (74)\ttotal: 3m 58s\tremaining: 45.3s\n",
      "84:\tlearn: 0.9999173\ttest: 0.9846154\tbest: 0.9860602 (74)\ttotal: 4m\tremaining: 42.5s\n",
      "85:\tlearn: 0.9999173\ttest: 0.9849762\tbest: 0.9860602 (74)\ttotal: 4m 3s\tremaining: 39.7s\n",
      "86:\tlearn: 0.9999173\ttest: 0.9849762\tbest: 0.9860602 (74)\ttotal: 4m 6s\tremaining: 36.8s\n",
      "87:\tlearn: 0.9999173\ttest: 0.9849762\tbest: 0.9860602 (74)\ttotal: 4m 9s\tremaining: 34s\n",
      "88:\tlearn: 0.9999173\ttest: 0.9849762\tbest: 0.9860602 (74)\ttotal: 4m 12s\tremaining: 31.2s\n",
      "89:\tlearn: 0.9999173\ttest: 0.9849762\tbest: 0.9860602 (74)\ttotal: 4m 14s\tremaining: 28.3s\n",
      "90:\tlearn: 0.9999173\ttest: 0.9849762\tbest: 0.9860602 (74)\ttotal: 4m 17s\tremaining: 25.5s\n",
      "91:\tlearn: 0.9999173\ttest: 0.9849762\tbest: 0.9860602 (74)\ttotal: 4m 20s\tremaining: 22.7s\n",
      "92:\tlearn: 0.9999587\ttest: 0.9849762\tbest: 0.9860602 (74)\ttotal: 4m 23s\tremaining: 19.8s\n",
      "93:\tlearn: 0.9999587\ttest: 0.9856986\tbest: 0.9860602 (74)\ttotal: 4m 26s\tremaining: 17s\n",
      "94:\tlearn: 0.9999587\ttest: 0.9856986\tbest: 0.9860602 (74)\ttotal: 4m 29s\tremaining: 14.2s\n",
      "95:\tlearn: 0.9999587\ttest: 0.9860602\tbest: 0.9860602 (74)\ttotal: 4m 31s\tremaining: 11.3s\n",
      "96:\tlearn: 1.0000000\ttest: 0.9860602\tbest: 0.9860602 (74)\ttotal: 4m 34s\tremaining: 8.49s\n",
      "97:\tlearn: 1.0000000\ttest: 0.9860602\tbest: 0.9860602 (74)\ttotal: 4m 37s\tremaining: 5.66s\n",
      "98:\tlearn: 1.0000000\ttest: 0.9856986\tbest: 0.9860602 (74)\ttotal: 4m 40s\tremaining: 2.83s\n",
      "99:\tlearn: 1.0000000\ttest: 0.9856986\tbest: 0.9860602 (74)\ttotal: 4m 43s\tremaining: 0us\n",
      "\n",
      "bestTest = 0.9860601614\n",
      "bestIteration = 74\n",
      "\n",
      "Training on fold [16/30]\n",
      "0:\tlearn: 0.8479762\ttest: 0.8261343\tbest: 0.8261343 (0)\ttotal: 2.93s\tremaining: 4m 49s\n",
      "1:\tlearn: 0.8880570\ttest: 0.8639183\tbest: 0.8639183 (1)\ttotal: 5.79s\tremaining: 4m 43s\n",
      "2:\tlearn: 0.9117755\ttest: 0.8850659\tbest: 0.8850659 (2)\ttotal: 8.76s\tremaining: 4m 43s\n",
      "3:\tlearn: 0.9198063\ttest: 0.8944649\tbest: 0.8944649 (3)\ttotal: 11.6s\tremaining: 4m 38s\n",
      "4:\tlearn: 0.9282348\ttest: 0.9002201\tbest: 0.9002201 (4)\ttotal: 14.5s\tremaining: 4m 35s\n",
      "5:\tlearn: 0.9369053\ttest: 0.9094907\tbest: 0.9094907 (5)\ttotal: 17.4s\tremaining: 4m 32s\n",
      "6:\tlearn: 0.9424088\ttest: 0.9171230\tbest: 0.9171230 (6)\ttotal: 20.2s\tremaining: 4m 28s\n",
      "7:\tlearn: 0.9473984\ttest: 0.9205658\tbest: 0.9205658 (7)\ttotal: 23.2s\tremaining: 4m 26s\n",
      "8:\tlearn: 0.9522069\ttest: 0.9231884\tbest: 0.9231884 (8)\ttotal: 26.1s\tremaining: 4m 24s\n",
      "9:\tlearn: 0.9576185\ttest: 0.9328035\tbest: 0.9328035 (9)\ttotal: 29.1s\tremaining: 4m 21s\n",
      "10:\tlearn: 0.9612472\ttest: 0.9368459\tbest: 0.9368459 (10)\ttotal: 32s\tremaining: 4m 18s\n",
      "11:\tlearn: 0.9657293\ttest: 0.9401154\tbest: 0.9401154 (11)\ttotal: 34.9s\tremaining: 4m 15s\n",
      "12:\tlearn: 0.9673007\ttest: 0.9426614\tbest: 0.9426614 (12)\ttotal: 37.8s\tremaining: 4m 12s\n",
      "13:\tlearn: 0.9705215\ttest: 0.9474442\tbest: 0.9474442 (13)\ttotal: 40.8s\tremaining: 4m 10s\n",
      "14:\tlearn: 0.9727891\ttest: 0.9517986\tbest: 0.9517986 (14)\ttotal: 43.7s\tremaining: 4m 7s\n",
      "15:\tlearn: 0.9740891\ttest: 0.9529285\tbest: 0.9529285 (15)\ttotal: 46.5s\tremaining: 4m 4s\n",
      "16:\tlearn: 0.9762522\ttest: 0.9548387\tbest: 0.9548387 (16)\ttotal: 49.4s\tremaining: 4m 1s\n",
      "17:\tlearn: 0.9770930\ttest: 0.9566153\tbest: 0.9566153 (17)\ttotal: 52.4s\tremaining: 3m 58s\n",
      "18:\tlearn: 0.9786906\ttest: 0.9583632\tbest: 0.9583632 (18)\ttotal: 55.3s\tremaining: 3m 55s\n",
      "19:\tlearn: 0.9800130\ttest: 0.9618431\tbest: 0.9618431 (19)\ttotal: 58.2s\tremaining: 3m 52s\n",
      "20:\tlearn: 0.9803874\ttest: 0.9633357\tbest: 0.9633357 (20)\ttotal: 1m 1s\tremaining: 3m 49s\n",
      "21:\tlearn: 0.9813084\ttest: 0.9608336\tbest: 0.9633357 (20)\ttotal: 1m 3s\tremaining: 3m 46s\n",
      "22:\tlearn: 0.9825903\ttest: 0.9619799\tbest: 0.9633357 (20)\ttotal: 1m 6s\tremaining: 3m 43s\n",
      "23:\tlearn: 0.9838067\ttest: 0.9634146\tbest: 0.9634146 (23)\ttotal: 1m 9s\tremaining: 3m 40s\n",
      "24:\tlearn: 0.9848559\ttest: 0.9658642\tbest: 0.9658642 (24)\ttotal: 1m 12s\tremaining: 3m 38s\n",
      "25:\tlearn: 0.9854978\ttest: 0.9665588\tbest: 0.9665588 (25)\ttotal: 1m 15s\tremaining: 3m 34s\n",
      "26:\tlearn: 0.9866232\ttest: 0.9686486\tbest: 0.9686486 (26)\ttotal: 1m 18s\tremaining: 3m 32s\n",
      "27:\tlearn: 0.9873883\ttest: 0.9689978\tbest: 0.9689978 (27)\ttotal: 1m 21s\tremaining: 3m 28s\n",
      "28:\tlearn: 0.9875898\ttest: 0.9689978\tbest: 0.9689978 (27)\ttotal: 1m 24s\tremaining: 3m 25s\n",
      "29:\tlearn: 0.9879124\ttest: 0.9703971\tbest: 0.9703971 (29)\ttotal: 1m 26s\tremaining: 3m 22s\n",
      "30:\tlearn: 0.9888008\ttest: 0.9707476\tbest: 0.9707476 (30)\ttotal: 1m 29s\tremaining: 3m 19s\n",
      "31:\tlearn: 0.9890433\ttest: 0.9703971\tbest: 0.9707476 (30)\ttotal: 1m 32s\tremaining: 3m 16s\n",
      "32:\tlearn: 0.9899742\ttest: 0.9703971\tbest: 0.9707476 (30)\ttotal: 1m 35s\tremaining: 3m 13s\n",
      "33:\tlearn: 0.9901363\ttest: 0.9703971\tbest: 0.9707476 (30)\ttotal: 1m 38s\tremaining: 3m 11s\n",
      "34:\tlearn: 0.9908663\ttest: 0.9703971\tbest: 0.9707476 (30)\ttotal: 1m 41s\tremaining: 3m 7s\n",
      "35:\tlearn: 0.9911911\ttest: 0.9710983\tbest: 0.9710983 (35)\ttotal: 1m 44s\tremaining: 3m 4s\n",
      "36:\tlearn: 0.9920853\ttest: 0.9714492\tbest: 0.9714492 (36)\ttotal: 1m 46s\tremaining: 3m 1s\n",
      "37:\tlearn: 0.9922481\ttest: 0.9721519\tbest: 0.9721519 (37)\ttotal: 1m 49s\tremaining: 2m 58s\n",
      "38:\tlearn: 0.9924516\ttest: 0.9725036\tbest: 0.9725036 (38)\ttotal: 1m 52s\tremaining: 2m 55s\n",
      "39:\tlearn: 0.9932258\ttest: 0.9739130\tbest: 0.9739130 (39)\ttotal: 1m 55s\tremaining: 2m 52s\n",
      "40:\tlearn: 0.9933889\ttest: 0.9735603\tbest: 0.9739130 (39)\ttotal: 1m 58s\tremaining: 2m 50s\n",
      "41:\tlearn: 0.9937153\ttest: 0.9735603\tbest: 0.9739130 (39)\ttotal: 2m 1s\tremaining: 2m 47s\n",
      "42:\tlearn: 0.9944506\ttest: 0.9742660\tbest: 0.9742660 (42)\ttotal: 2m 3s\tremaining: 2m 44s\n",
      "43:\tlearn: 0.9944915\ttest: 0.9742660\tbest: 0.9742660 (42)\ttotal: 2m 6s\tremaining: 2m 41s\n",
      "44:\tlearn: 0.9947777\ttest: 0.9760349\tbest: 0.9760349 (44)\ttotal: 2m 9s\tremaining: 2m 38s\n",
      "45:\tlearn: 0.9950642\ttest: 0.9756806\tbest: 0.9760349 (44)\ttotal: 2m 12s\tremaining: 2m 35s\n",
      "46:\tlearn: 0.9954736\ttest: 0.9760349\tbest: 0.9760349 (44)\ttotal: 2m 15s\tremaining: 2m 32s\n",
      "47:\tlearn: 0.9957604\ttest: 0.9767442\tbest: 0.9767442 (47)\ttotal: 2m 18s\tremaining: 2m 29s\n",
      "48:\tlearn: 0.9960474\ttest: 0.9760349\tbest: 0.9767442 (47)\ttotal: 2m 20s\tremaining: 2m 26s\n",
      "49:\tlearn: 0.9963346\ttest: 0.9760349\tbest: 0.9767442 (47)\ttotal: 2m 23s\tremaining: 2m 23s\n",
      "50:\tlearn: 0.9966630\ttest: 0.9756806\tbest: 0.9767442 (47)\ttotal: 2m 26s\tremaining: 2m 20s\n",
      "51:\tlearn: 0.9969916\ttest: 0.9767442\tbest: 0.9767442 (47)\ttotal: 2m 29s\tremaining: 2m 17s\n",
      "52:\tlearn: 0.9971148\ttest: 0.9770992\tbest: 0.9770992 (52)\ttotal: 2m 32s\tremaining: 2m 14s\n",
      "53:\tlearn: 0.9973204\ttest: 0.9770992\tbest: 0.9770992 (52)\ttotal: 2m 35s\tremaining: 2m 12s\n",
      "54:\tlearn: 0.9972792\ttest: 0.9774545\tbest: 0.9774545 (54)\ttotal: 2m 37s\tremaining: 2m 9s\n",
      "55:\tlearn: 0.9974437\ttest: 0.9774545\tbest: 0.9774545 (54)\ttotal: 2m 40s\tremaining: 2m 6s\n",
      "56:\tlearn: 0.9976905\ttest: 0.9785220\tbest: 0.9785220 (56)\ttotal: 2m 43s\tremaining: 2m 3s\n",
      "57:\tlearn: 0.9979375\ttest: 0.9785220\tbest: 0.9785220 (56)\ttotal: 2m 46s\tremaining: 2m\n",
      "58:\tlearn: 0.9979375\ttest: 0.9785220\tbest: 0.9785220 (56)\ttotal: 2m 49s\tremaining: 1m 57s\n",
      "59:\tlearn: 0.9981433\ttest: 0.9785220\tbest: 0.9785220 (56)\ttotal: 2m 52s\tremaining: 1m 54s\n",
      "60:\tlearn: 0.9982257\ttest: 0.9781659\tbest: 0.9785220 (56)\ttotal: 2m 54s\tremaining: 1m 51s\n",
      "61:\tlearn: 0.9984729\ttest: 0.9785220\tbest: 0.9785220 (56)\ttotal: 2m 57s\tremaining: 1m 48s\n",
      "62:\tlearn: 0.9986378\ttest: 0.9785220\tbest: 0.9785220 (56)\ttotal: 3m\tremaining: 1m 46s\n",
      "63:\tlearn: 0.9987615\ttest: 0.9785220\tbest: 0.9785220 (56)\ttotal: 3m 3s\tremaining: 1m 43s\n",
      "64:\tlearn: 0.9988852\ttest: 0.9795918\tbest: 0.9795918 (64)\ttotal: 3m 6s\tremaining: 1m 40s\n",
      "65:\tlearn: 0.9989264\ttest: 0.9792350\tbest: 0.9795918 (64)\ttotal: 3m 8s\tremaining: 1m 37s\n",
      "66:\tlearn: 0.9989677\ttest: 0.9792350\tbest: 0.9795918 (64)\ttotal: 3m 11s\tremaining: 1m 34s\n",
      "67:\tlearn: 0.9991327\ttest: 0.9792350\tbest: 0.9795918 (64)\ttotal: 3m 14s\tremaining: 1m 31s\n",
      "68:\tlearn: 0.9992152\ttest: 0.9792350\tbest: 0.9795918 (64)\ttotal: 3m 17s\tremaining: 1m 28s\n",
      "69:\tlearn: 0.9992978\ttest: 0.9795918\tbest: 0.9795918 (64)\ttotal: 3m 20s\tremaining: 1m 25s\n",
      "70:\tlearn: 0.9994216\ttest: 0.9795918\tbest: 0.9795918 (64)\ttotal: 3m 23s\tremaining: 1m 23s\n",
      "71:\tlearn: 0.9994629\ttest: 0.9803063\tbest: 0.9803063 (71)\ttotal: 3m 26s\tremaining: 1m 20s\n",
      "72:\tlearn: 0.9995042\ttest: 0.9803063\tbest: 0.9803063 (71)\ttotal: 3m 29s\tremaining: 1m 17s\n",
      "73:\tlearn: 0.9995042\ttest: 0.9806640\tbest: 0.9806640 (73)\ttotal: 3m 31s\tremaining: 1m 14s\n",
      "74:\tlearn: 0.9995042\ttest: 0.9806640\tbest: 0.9806640 (73)\ttotal: 3m 34s\tremaining: 1m 11s\n",
      "75:\tlearn: 0.9995868\ttest: 0.9810219\tbest: 0.9810219 (75)\ttotal: 3m 37s\tremaining: 1m 8s\n",
      "76:\tlearn: 0.9995868\ttest: 0.9810219\tbest: 0.9810219 (75)\ttotal: 3m 40s\tremaining: 1m 5s\n",
      "77:\tlearn: 0.9996281\ttest: 0.9806640\tbest: 0.9810219 (75)\ttotal: 3m 42s\tremaining: 1m 2s\n",
      "78:\tlearn: 0.9996694\ttest: 0.9803063\tbest: 0.9810219 (75)\ttotal: 3m 45s\tremaining: 1m\n",
      "79:\tlearn: 0.9996281\ttest: 0.9810219\tbest: 0.9810219 (75)\ttotal: 3m 48s\tremaining: 57.2s\n",
      "80:\tlearn: 0.9996694\ttest: 0.9806640\tbest: 0.9810219 (75)\ttotal: 3m 51s\tremaining: 54.3s\n",
      "81:\tlearn: 0.9996694\ttest: 0.9799490\tbest: 0.9810219 (75)\ttotal: 3m 54s\tremaining: 51.4s\n",
      "82:\tlearn: 0.9997107\ttest: 0.9803063\tbest: 0.9810219 (75)\ttotal: 3m 57s\tremaining: 48.5s\n",
      "83:\tlearn: 0.9997520\ttest: 0.9806640\tbest: 0.9810219 (75)\ttotal: 3m 59s\tremaining: 45.7s\n",
      "84:\tlearn: 0.9997107\ttest: 0.9810219\tbest: 0.9810219 (75)\ttotal: 4m 2s\tremaining: 42.8s\n",
      "85:\tlearn: 0.9997520\ttest: 0.9810219\tbest: 0.9810219 (75)\ttotal: 4m 5s\tremaining: 40s\n",
      "86:\tlearn: 0.9998760\ttest: 0.9810219\tbest: 0.9810219 (75)\ttotal: 4m 8s\tremaining: 37.1s\n",
      "87:\tlearn: 0.9999587\ttest: 0.9810219\tbest: 0.9810219 (75)\ttotal: 4m 11s\tremaining: 34.3s\n",
      "88:\tlearn: 0.9999587\ttest: 0.9813801\tbest: 0.9813801 (88)\ttotal: 4m 13s\tremaining: 31.4s\n",
      "89:\tlearn: 0.9999587\ttest: 0.9810219\tbest: 0.9813801 (88)\ttotal: 4m 16s\tremaining: 28.5s\n",
      "90:\tlearn: 0.9999587\ttest: 0.9813801\tbest: 0.9813801 (88)\ttotal: 4m 19s\tremaining: 25.7s\n",
      "91:\tlearn: 0.9999587\ttest: 0.9810219\tbest: 0.9813801 (88)\ttotal: 4m 22s\tremaining: 22.8s\n",
      "92:\tlearn: 0.9999587\ttest: 0.9813801\tbest: 0.9813801 (88)\ttotal: 4m 25s\tremaining: 20s\n",
      "93:\tlearn: 0.9999173\ttest: 0.9813801\tbest: 0.9813801 (88)\ttotal: 4m 27s\tremaining: 17.1s\n",
      "94:\tlearn: 0.9999173\ttest: 0.9813801\tbest: 0.9813801 (88)\ttotal: 4m 30s\tremaining: 14.3s\n",
      "95:\tlearn: 0.9999587\ttest: 0.9813801\tbest: 0.9813801 (88)\ttotal: 4m 33s\tremaining: 11.4s\n",
      "96:\tlearn: 0.9999173\ttest: 0.9810219\tbest: 0.9813801 (88)\ttotal: 4m 36s\tremaining: 8.55s\n",
      "97:\tlearn: 0.9999173\ttest: 0.9817385\tbest: 0.9817385 (97)\ttotal: 4m 39s\tremaining: 5.7s\n",
      "98:\tlearn: 0.9999587\ttest: 0.9817385\tbest: 0.9817385 (97)\ttotal: 4m 41s\tremaining: 2.85s\n",
      "99:\tlearn: 0.9999587\ttest: 0.9817385\tbest: 0.9817385 (97)\ttotal: 4m 44s\tremaining: 0us\n",
      "\n",
      "bestTest = 0.9817384953\n",
      "bestIteration = 97\n",
      "\n",
      "Training on fold [17/30]\n",
      "0:\tlearn: 0.8426193\ttest: 0.8384980\tbest: 0.8384980 (0)\ttotal: 2.86s\tremaining: 4m 42s\n",
      "1:\tlearn: 0.8798800\ttest: 0.8616514\tbest: 0.8616514 (1)\ttotal: 5.66s\tremaining: 4m 37s\n",
      "2:\tlearn: 0.9065516\ttest: 0.8934607\tbest: 0.8934607 (2)\ttotal: 8.58s\tremaining: 4m 37s\n",
      "3:\tlearn: 0.9159889\ttest: 0.9053708\tbest: 0.9053708 (3)\ttotal: 11.5s\tremaining: 4m 36s\n",
      "4:\tlearn: 0.9237278\ttest: 0.9152666\tbest: 0.9152666 (4)\ttotal: 14.4s\tremaining: 4m 34s\n",
      "5:\tlearn: 0.9371930\ttest: 0.9269006\tbest: 0.9269006 (5)\ttotal: 17.3s\tremaining: 4m 30s\n",
      "6:\tlearn: 0.9422179\ttest: 0.9314869\tbest: 0.9314869 (6)\ttotal: 20.3s\tremaining: 4m 29s\n",
      "7:\tlearn: 0.9492733\ttest: 0.9384783\tbest: 0.9384783 (7)\ttotal: 23.2s\tremaining: 4m 27s\n",
      "8:\tlearn: 0.9539783\ttest: 0.9421608\tbest: 0.9421608 (8)\ttotal: 26.1s\tremaining: 4m 23s\n",
      "9:\tlearn: 0.9603271\ttest: 0.9467198\tbest: 0.9467198 (9)\ttotal: 28.9s\tremaining: 4m 19s\n",
      "10:\tlearn: 0.9641370\ttest: 0.9518290\tbest: 0.9518290 (10)\ttotal: 31.9s\tremaining: 4m 17s\n",
      "11:\tlearn: 0.9659908\ttest: 0.9555154\tbest: 0.9555154 (11)\ttotal: 34.8s\tremaining: 4m 14s\n",
      "12:\tlearn: 0.9688156\ttest: 0.9586657\tbest: 0.9586657 (12)\ttotal: 37.7s\tremaining: 4m 12s\n",
      "13:\tlearn: 0.9708699\ttest: 0.9588150\tbest: 0.9588150 (13)\ttotal: 40.4s\tremaining: 4m 8s\n",
      "14:\tlearn: 0.9734585\ttest: 0.9608696\tbest: 0.9608696 (14)\ttotal: 43.4s\tremaining: 4m 5s\n",
      "15:\tlearn: 0.9754636\ttest: 0.9634455\tbest: 0.9634455 (15)\ttotal: 46.4s\tremaining: 4m 3s\n",
      "16:\tlearn: 0.9771079\ttest: 0.9652426\tbest: 0.9652426 (16)\ttotal: 49.1s\tremaining: 3m 59s\n",
      "17:\tlearn: 0.9780785\ttest: 0.9649693\tbest: 0.9652426 (16)\ttotal: 51.9s\tremaining: 3m 56s\n",
      "18:\tlearn: 0.9795770\ttest: 0.9667870\tbest: 0.9667870 (18)\ttotal: 54.9s\tremaining: 3m 54s\n",
      "19:\tlearn: 0.9801249\ttest: 0.9667390\tbest: 0.9667870 (18)\ttotal: 57.9s\tremaining: 3m 51s\n",
      "20:\tlearn: 0.9813589\ttest: 0.9681390\tbest: 0.9681390 (20)\ttotal: 1m\tremaining: 3m 48s\n",
      "21:\tlearn: 0.9822764\ttest: 0.9688406\tbest: 0.9688406 (21)\ttotal: 1m 3s\tremaining: 3m 44s\n",
      "22:\tlearn: 0.9836492\ttest: 0.9699819\tbest: 0.9699819 (22)\ttotal: 1m 6s\tremaining: 3m 42s\n",
      "23:\tlearn: 0.9850114\ttest: 0.9710355\tbest: 0.9710355 (23)\ttotal: 1m 9s\tremaining: 3m 39s\n",
      "24:\tlearn: 0.9852522\ttest: 0.9717391\tbest: 0.9717391 (24)\ttotal: 1m 12s\tremaining: 3m 36s\n",
      "25:\tlearn: 0.9859350\ttest: 0.9703329\tbest: 0.9717391 (24)\ttotal: 1m 15s\tremaining: 3m 33s\n",
      "26:\tlearn: 0.9870618\ttest: 0.9710355\tbest: 0.9717391 (24)\ttotal: 1m 17s\tremaining: 3m 30s\n",
      "27:\tlearn: 0.9875454\ttest: 0.9713872\tbest: 0.9717391 (24)\ttotal: 1m 20s\tremaining: 3m 27s\n",
      "28:\tlearn: 0.9879085\ttest: 0.9720913\tbest: 0.9720913 (28)\ttotal: 1m 23s\tremaining: 3m 24s\n",
      "29:\tlearn: 0.9879931\ttest: 0.9725036\tbest: 0.9725036 (29)\ttotal: 1m 26s\tremaining: 3m 22s\n",
      "30:\tlearn: 0.9888816\ttest: 0.9728556\tbest: 0.9728556 (30)\ttotal: 1m 29s\tremaining: 3m 19s\n",
      "31:\tlearn: 0.9895288\ttest: 0.9735603\tbest: 0.9735603 (31)\ttotal: 1m 32s\tremaining: 3m 16s\n",
      "32:\tlearn: 0.9899337\ttest: 0.9742660\tbest: 0.9742660 (32)\ttotal: 1m 35s\tremaining: 3m 13s\n",
      "33:\tlearn: 0.9902173\ttest: 0.9753266\tbest: 0.9753266 (33)\ttotal: 1m 38s\tremaining: 3m 10s\n",
      "34:\tlearn: 0.9908257\ttest: 0.9746193\tbest: 0.9753266 (33)\ttotal: 1m 41s\tremaining: 3m 7s\n",
      "35:\tlearn: 0.9913535\ttest: 0.9746193\tbest: 0.9753266 (33)\ttotal: 1m 43s\tremaining: 3m 4s\n",
      "36:\tlearn: 0.9917599\ttest: 0.9760349\tbest: 0.9760349 (36)\ttotal: 1m 46s\tremaining: 3m 2s\n",
      "37:\tlearn: 0.9922074\ttest: 0.9774545\tbest: 0.9774545 (37)\ttotal: 1m 49s\tremaining: 2m 59s\n",
      "38:\tlearn: 0.9928182\ttest: 0.9774545\tbest: 0.9774545 (37)\ttotal: 1m 52s\tremaining: 2m 56s\n",
      "39:\tlearn: 0.9931850\ttest: 0.9763894\tbest: 0.9774545 (37)\ttotal: 1m 55s\tremaining: 2m 53s\n",
      "40:\tlearn: 0.9935521\ttest: 0.9778101\tbest: 0.9778101 (40)\ttotal: 1m 58s\tremaining: 2m 50s\n",
      "41:\tlearn: 0.9942054\ttest: 0.9781659\tbest: 0.9781659 (41)\ttotal: 2m 1s\tremaining: 2m 47s\n",
      "42:\tlearn: 0.9945324\ttest: 0.9778101\tbest: 0.9781659 (41)\ttotal: 2m 3s\tremaining: 2m 44s\n",
      "43:\tlearn: 0.9949414\ttest: 0.9767442\tbest: 0.9781659 (41)\ttotal: 2m 6s\tremaining: 2m 41s\n",
      "44:\tlearn: 0.9951460\ttest: 0.9770992\tbest: 0.9781659 (41)\ttotal: 2m 9s\tremaining: 2m 38s\n",
      "45:\tlearn: 0.9956375\ttest: 0.9781659\tbest: 0.9781659 (41)\ttotal: 2m 12s\tremaining: 2m 35s\n",
      "46:\tlearn: 0.9958424\ttest: 0.9792350\tbest: 0.9792350 (46)\ttotal: 2m 15s\tremaining: 2m 32s\n",
      "47:\tlearn: 0.9962115\ttest: 0.9785220\tbest: 0.9792350 (46)\ttotal: 2m 18s\tremaining: 2m 29s\n",
      "48:\tlearn: 0.9964577\ttest: 0.9788784\tbest: 0.9792350 (46)\ttotal: 2m 21s\tremaining: 2m 26s\n",
      "49:\tlearn: 0.9967040\ttest: 0.9792350\tbest: 0.9792350 (46)\ttotal: 2m 24s\tremaining: 2m 24s\n",
      "50:\tlearn: 0.9969094\ttest: 0.9788784\tbest: 0.9792350 (46)\ttotal: 2m 26s\tremaining: 2m 21s\n",
      "51:\tlearn: 0.9969505\ttest: 0.9792350\tbest: 0.9792350 (46)\ttotal: 2m 29s\tremaining: 2m 18s\n",
      "52:\tlearn: 0.9971559\ttest: 0.9795918\tbest: 0.9795918 (52)\ttotal: 2m 32s\tremaining: 2m 15s\n",
      "53:\tlearn: 0.9972792\ttest: 0.9795918\tbest: 0.9795918 (52)\ttotal: 2m 35s\tremaining: 2m 12s\n",
      "54:\tlearn: 0.9974437\ttest: 0.9799490\tbest: 0.9799490 (54)\ttotal: 2m 38s\tremaining: 2m 9s\n",
      "55:\tlearn: 0.9977728\ttest: 0.9799490\tbest: 0.9799490 (54)\ttotal: 2m 41s\tremaining: 2m 6s\n",
      "56:\tlearn: 0.9978963\ttest: 0.9803063\tbest: 0.9803063 (56)\ttotal: 2m 43s\tremaining: 2m 3s\n",
      "57:\tlearn: 0.9979375\ttest: 0.9803063\tbest: 0.9803063 (56)\ttotal: 2m 46s\tremaining: 2m\n",
      "58:\tlearn: 0.9981433\ttest: 0.9803063\tbest: 0.9803063 (56)\ttotal: 2m 49s\tremaining: 1m 57s\n",
      "59:\tlearn: 0.9983081\ttest: 0.9806640\tbest: 0.9806640 (59)\ttotal: 2m 52s\tremaining: 1m 54s\n",
      "60:\tlearn: 0.9984729\ttest: 0.9799490\tbest: 0.9806640 (59)\ttotal: 2m 55s\tremaining: 1m 51s\n",
      "61:\tlearn: 0.9986378\ttest: 0.9803063\tbest: 0.9806640 (59)\ttotal: 2m 57s\tremaining: 1m 49s\n",
      "62:\tlearn: 0.9986378\ttest: 0.9813801\tbest: 0.9813801 (62)\ttotal: 3m\tremaining: 1m 46s\n",
      "63:\tlearn: 0.9987202\ttest: 0.9803063\tbest: 0.9813801 (62)\ttotal: 3m 3s\tremaining: 1m 43s\n",
      "64:\tlearn: 0.9988027\ttest: 0.9803063\tbest: 0.9813801 (62)\ttotal: 3m 6s\tremaining: 1m 40s\n",
      "65:\tlearn: 0.9989264\ttest: 0.9813801\tbest: 0.9813801 (62)\ttotal: 3m 8s\tremaining: 1m 37s\n",
      "66:\tlearn: 0.9990914\ttest: 0.9813801\tbest: 0.9813801 (62)\ttotal: 3m 11s\tremaining: 1m 34s\n",
      "67:\tlearn: 0.9990914\ttest: 0.9813801\tbest: 0.9813801 (62)\ttotal: 3m 14s\tremaining: 1m 31s\n",
      "68:\tlearn: 0.9992152\ttest: 0.9813801\tbest: 0.9813801 (62)\ttotal: 3m 17s\tremaining: 1m 28s\n",
      "69:\tlearn: 0.9992565\ttest: 0.9820972\tbest: 0.9820972 (69)\ttotal: 3m 20s\tremaining: 1m 25s\n",
      "70:\tlearn: 0.9993803\ttest: 0.9824561\tbest: 0.9824561 (70)\ttotal: 3m 23s\tremaining: 1m 23s\n",
      "71:\tlearn: 0.9995042\ttest: 0.9828154\tbest: 0.9828154 (71)\ttotal: 3m 26s\tremaining: 1m 20s\n",
      "72:\tlearn: 0.9995455\ttest: 0.9828154\tbest: 0.9828154 (71)\ttotal: 3m 28s\tremaining: 1m 17s\n",
      "73:\tlearn: 0.9996281\ttest: 0.9828154\tbest: 0.9828154 (71)\ttotal: 3m 31s\tremaining: 1m 14s\n",
      "74:\tlearn: 0.9996281\ttest: 0.9831748\tbest: 0.9831748 (74)\ttotal: 3m 34s\tremaining: 1m 11s\n",
      "75:\tlearn: 0.9997107\ttest: 0.9824561\tbest: 0.9831748 (74)\ttotal: 3m 37s\tremaining: 1m 8s\n",
      "76:\tlearn: 0.9997107\ttest: 0.9828154\tbest: 0.9831748 (74)\ttotal: 3m 40s\tremaining: 1m 5s\n",
      "77:\tlearn: 0.9997107\ttest: 0.9828154\tbest: 0.9831748 (74)\ttotal: 3m 43s\tremaining: 1m 2s\n",
      "78:\tlearn: 0.9997520\ttest: 0.9824561\tbest: 0.9831748 (74)\ttotal: 3m 45s\tremaining: 1m\n",
      "79:\tlearn: 0.9997934\ttest: 0.9828154\tbest: 0.9831748 (74)\ttotal: 3m 48s\tremaining: 57.2s\n",
      "80:\tlearn: 0.9998347\ttest: 0.9824561\tbest: 0.9831748 (74)\ttotal: 3m 51s\tremaining: 54.3s\n",
      "81:\tlearn: 0.9998760\ttest: 0.9831748\tbest: 0.9831748 (74)\ttotal: 3m 54s\tremaining: 51.4s\n",
      "82:\tlearn: 0.9999173\ttest: 0.9831748\tbest: 0.9831748 (74)\ttotal: 3m 57s\tremaining: 48.6s\n",
      "83:\tlearn: 0.9999173\ttest: 0.9828154\tbest: 0.9831748 (74)\ttotal: 3m 59s\tremaining: 45.7s\n",
      "84:\tlearn: 0.9999173\ttest: 0.9828154\tbest: 0.9831748 (74)\ttotal: 4m 2s\tremaining: 42.9s\n",
      "85:\tlearn: 0.9999173\ttest: 0.9831748\tbest: 0.9831748 (74)\ttotal: 4m 5s\tremaining: 40s\n",
      "86:\tlearn: 0.9999587\ttest: 0.9838946\tbest: 0.9838946 (86)\ttotal: 4m 8s\tremaining: 37.1s\n",
      "87:\tlearn: 1.0000000\ttest: 0.9835346\tbest: 0.9838946 (86)\ttotal: 4m 11s\tremaining: 34.3s\n",
      "88:\tlearn: 1.0000000\ttest: 0.9835346\tbest: 0.9838946 (86)\ttotal: 4m 14s\tremaining: 31.4s\n",
      "89:\tlearn: 1.0000000\ttest: 0.9838946\tbest: 0.9838946 (86)\ttotal: 4m 17s\tremaining: 28.6s\n",
      "90:\tlearn: 1.0000000\ttest: 0.9831748\tbest: 0.9838946 (86)\ttotal: 4m 19s\tremaining: 25.7s\n",
      "91:\tlearn: 1.0000000\ttest: 0.9846154\tbest: 0.9846154 (91)\ttotal: 4m 22s\tremaining: 22.8s\n",
      "92:\tlearn: 1.0000000\ttest: 0.9846154\tbest: 0.9846154 (91)\ttotal: 4m 25s\tremaining: 20s\n",
      "93:\tlearn: 1.0000000\ttest: 0.9849762\tbest: 0.9849762 (93)\ttotal: 4m 28s\tremaining: 17.1s\n",
      "94:\tlearn: 1.0000000\ttest: 0.9842549\tbest: 0.9849762 (93)\ttotal: 4m 31s\tremaining: 14.3s\n",
      "95:\tlearn: 1.0000000\ttest: 0.9838946\tbest: 0.9849762 (93)\ttotal: 4m 33s\tremaining: 11.4s\n",
      "96:\tlearn: 1.0000000\ttest: 0.9838946\tbest: 0.9849762 (93)\ttotal: 4m 36s\tremaining: 8.56s\n",
      "97:\tlearn: 1.0000000\ttest: 0.9842549\tbest: 0.9849762 (93)\ttotal: 4m 39s\tremaining: 5.71s\n",
      "98:\tlearn: 1.0000000\ttest: 0.9842549\tbest: 0.9849762 (93)\ttotal: 4m 42s\tremaining: 2.85s\n",
      "99:\tlearn: 1.0000000\ttest: 0.9846154\tbest: 0.9849762 (93)\ttotal: 4m 45s\tremaining: 0us\n",
      "\n",
      "bestTest = 0.9849761818\n",
      "bestIteration = 93\n",
      "\n",
      "Training on fold [18/30]\n",
      "0:\tlearn: 0.8466185\ttest: 0.8209921\tbest: 0.8209921 (0)\ttotal: 2.9s\tremaining: 4m 47s\n",
      "1:\tlearn: 0.8834635\ttest: 0.8613246\tbest: 0.8613246 (1)\ttotal: 5.86s\tremaining: 4m 47s\n",
      "2:\tlearn: 0.9117299\ttest: 0.8877400\tbest: 0.8877400 (2)\ttotal: 8.82s\tremaining: 4m 45s\n",
      "3:\tlearn: 0.9227128\ttest: 0.8928833\tbest: 0.8928833 (3)\ttotal: 11.8s\tremaining: 4m 42s\n",
      "4:\tlearn: 0.9350185\ttest: 0.9111997\tbest: 0.9111997 (4)\ttotal: 14.7s\tremaining: 4m 38s\n",
      "5:\tlearn: 0.9431039\ttest: 0.9211288\tbest: 0.9211288 (5)\ttotal: 17.6s\tremaining: 4m 35s\n",
      "6:\tlearn: 0.9495482\ttest: 0.9283647\tbest: 0.9283647 (6)\ttotal: 20.5s\tremaining: 4m 32s\n",
      "7:\tlearn: 0.9551490\ttest: 0.9321789\tbest: 0.9321789 (7)\ttotal: 23.5s\tremaining: 4m 30s\n",
      "8:\tlearn: 0.9604762\ttest: 0.9383339\tbest: 0.9383339 (8)\ttotal: 26.4s\tremaining: 4m 27s\n",
      "9:\tlearn: 0.9651036\ttest: 0.9464607\tbest: 0.9464607 (9)\ttotal: 29.3s\tremaining: 4m 23s\n",
      "10:\tlearn: 0.9703821\ttest: 0.9515260\tbest: 0.9515260 (10)\ttotal: 32.1s\tremaining: 4m 19s\n",
      "11:\tlearn: 0.9718270\ttest: 0.9539899\tbest: 0.9539899 (11)\ttotal: 35s\tremaining: 4m 16s\n",
      "12:\tlearn: 0.9743611\ttest: 0.9587074\tbest: 0.9587074 (12)\ttotal: 37.9s\tremaining: 4m 13s\n",
      "13:\tlearn: 0.9765350\ttest: 0.9601150\tbest: 0.9601150 (13)\ttotal: 40.8s\tremaining: 4m 10s\n",
      "14:\tlearn: 0.9773851\ttest: 0.9640288\tbest: 0.9640288 (14)\ttotal: 43.7s\tremaining: 4m 7s\n",
      "15:\tlearn: 0.9790856\ttest: 0.9644013\tbest: 0.9644013 (15)\ttotal: 46.5s\tremaining: 4m 4s\n",
      "16:\tlearn: 0.9794826\ttest: 0.9644013\tbest: 0.9644013 (15)\ttotal: 49.4s\tremaining: 4m 1s\n",
      "17:\tlearn: 0.9801980\ttest: 0.9644013\tbest: 0.9644013 (15)\ttotal: 52.2s\tremaining: 3m 57s\n",
      "18:\tlearn: 0.9815627\ttest: 0.9664865\tbest: 0.9664865 (18)\ttotal: 55.1s\tremaining: 3m 54s\n",
      "19:\tlearn: 0.9826857\ttest: 0.9665588\tbest: 0.9665588 (19)\ttotal: 57.9s\tremaining: 3m 51s\n",
      "20:\tlearn: 0.9838854\ttest: 0.9665588\tbest: 0.9665588 (19)\ttotal: 1m\tremaining: 3m 48s\n",
      "21:\tlearn: 0.9846555\ttest: 0.9672544\tbest: 0.9672544 (21)\ttotal: 1m 3s\tremaining: 3m 46s\n",
      "22:\tlearn: 0.9854175\ttest: 0.9672544\tbest: 0.9672544 (21)\ttotal: 1m 6s\tremaining: 3m 43s\n",
      "23:\tlearn: 0.9861808\ttest: 0.9682997\tbest: 0.9682997 (23)\ttotal: 1m 9s\tremaining: 3m 40s\n",
      "24:\tlearn: 0.9865025\ttest: 0.9679510\tbest: 0.9682997 (23)\ttotal: 1m 12s\tremaining: 3m 37s\n",
      "25:\tlearn: 0.9871063\ttest: 0.9679510\tbest: 0.9682997 (23)\ttotal: 1m 15s\tremaining: 3m 34s\n",
      "26:\tlearn: 0.9877108\ttest: 0.9686486\tbest: 0.9686486 (26)\ttotal: 1m 18s\tremaining: 3m 31s\n",
      "27:\tlearn: 0.9883160\ttest: 0.9686486\tbest: 0.9686486 (26)\ttotal: 1m 21s\tremaining: 3m 28s\n",
      "28:\tlearn: 0.9887604\ttest: 0.9686486\tbest: 0.9686486 (26)\ttotal: 1m 23s\tremaining: 3m 25s\n",
      "29:\tlearn: 0.9890838\ttest: 0.9686486\tbest: 0.9686486 (26)\ttotal: 1m 26s\tremaining: 3m 22s\n",
      "30:\tlearn: 0.9898527\ttest: 0.9693473\tbest: 0.9693473 (30)\ttotal: 1m 29s\tremaining: 3m 19s\n",
      "31:\tlearn: 0.9902579\ttest: 0.9700469\tbest: 0.9700469 (31)\ttotal: 1m 32s\tremaining: 3m 16s\n",
      "32:\tlearn: 0.9909474\ttest: 0.9700469\tbest: 0.9700469 (31)\ttotal: 1m 35s\tremaining: 3m 13s\n",
      "33:\tlearn: 0.9913129\ttest: 0.9707476\tbest: 0.9707476 (33)\ttotal: 1m 38s\tremaining: 3m 10s\n",
      "34:\tlearn: 0.9921260\ttest: 0.9707476\tbest: 0.9707476 (33)\ttotal: 1m 40s\tremaining: 3m 7s\n",
      "35:\tlearn: 0.9923702\ttest: 0.9707476\tbest: 0.9707476 (33)\ttotal: 1m 43s\tremaining: 3m 4s\n",
      "36:\tlearn: 0.9927774\ttest: 0.9714492\tbest: 0.9714492 (36)\ttotal: 1m 46s\tremaining: 3m 1s\n",
      "37:\tlearn: 0.9931034\ttest: 0.9718004\tbest: 0.9718004 (37)\ttotal: 1m 49s\tremaining: 2m 58s\n",
      "38:\tlearn: 0.9935929\ttest: 0.9714492\tbest: 0.9718004 (37)\ttotal: 1m 52s\tremaining: 2m 56s\n",
      "39:\tlearn: 0.9937153\ttest: 0.9714492\tbest: 0.9718004 (37)\ttotal: 1m 55s\tremaining: 2m 53s\n",
      "40:\tlearn: 0.9942463\ttest: 0.9714492\tbest: 0.9718004 (37)\ttotal: 1m 58s\tremaining: 2m 50s\n",
      "41:\tlearn: 0.9946959\ttest: 0.9710983\tbest: 0.9718004 (37)\ttotal: 2m 1s\tremaining: 2m 47s\n",
      "42:\tlearn: 0.9951460\ttest: 0.9721519\tbest: 0.9721519 (42)\ttotal: 2m 4s\tremaining: 2m 44s\n",
      "43:\tlearn: 0.9951460\ttest: 0.9728556\tbest: 0.9728556 (43)\ttotal: 2m 6s\tremaining: 2m 41s\n",
      "44:\tlearn: 0.9953917\ttest: 0.9728556\tbest: 0.9728556 (43)\ttotal: 2m 9s\tremaining: 2m 38s\n",
      "45:\tlearn: 0.9957604\ttest: 0.9732078\tbest: 0.9732078 (45)\ttotal: 2m 12s\tremaining: 2m 35s\n",
      "46:\tlearn: 0.9959654\ttest: 0.9739130\tbest: 0.9739130 (46)\ttotal: 2m 15s\tremaining: 2m 32s\n",
      "47:\tlearn: 0.9961295\ttest: 0.9728556\tbest: 0.9739130 (46)\ttotal: 2m 18s\tremaining: 2m 29s\n",
      "48:\tlearn: 0.9962525\ttest: 0.9732078\tbest: 0.9739130 (46)\ttotal: 2m 20s\tremaining: 2m 26s\n",
      "49:\tlearn: 0.9967451\ttest: 0.9739130\tbest: 0.9739130 (46)\ttotal: 2m 23s\tremaining: 2m 23s\n",
      "50:\tlearn: 0.9970737\ttest: 0.9746193\tbest: 0.9746193 (50)\ttotal: 2m 26s\tremaining: 2m 20s\n",
      "51:\tlearn: 0.9970737\ttest: 0.9739130\tbest: 0.9746193 (50)\ttotal: 2m 29s\tremaining: 2m 17s\n",
      "52:\tlearn: 0.9972381\ttest: 0.9753266\tbest: 0.9753266 (52)\ttotal: 2m 32s\tremaining: 2m 14s\n",
      "53:\tlearn: 0.9974437\ttest: 0.9749728\tbest: 0.9753266 (52)\ttotal: 2m 35s\tremaining: 2m 12s\n",
      "54:\tlearn: 0.9975671\ttest: 0.9763894\tbest: 0.9763894 (54)\ttotal: 2m 37s\tremaining: 2m 9s\n",
      "55:\tlearn: 0.9978140\ttest: 0.9763894\tbest: 0.9763894 (54)\ttotal: 2m 40s\tremaining: 2m 6s\n",
      "56:\tlearn: 0.9979375\ttest: 0.9760349\tbest: 0.9763894 (54)\ttotal: 2m 43s\tremaining: 2m 3s\n",
      "57:\tlearn: 0.9980610\ttest: 0.9760349\tbest: 0.9763894 (54)\ttotal: 2m 46s\tremaining: 2m\n",
      "58:\tlearn: 0.9981433\ttest: 0.9756806\tbest: 0.9763894 (54)\ttotal: 2m 49s\tremaining: 1m 57s\n",
      "59:\tlearn: 0.9983081\ttest: 0.9756806\tbest: 0.9763894 (54)\ttotal: 2m 52s\tremaining: 1m 54s\n",
      "60:\tlearn: 0.9983493\ttest: 0.9763894\tbest: 0.9763894 (54)\ttotal: 2m 54s\tremaining: 1m 51s\n",
      "61:\tlearn: 0.9985553\ttest: 0.9763894\tbest: 0.9763894 (54)\ttotal: 2m 57s\tremaining: 1m 48s\n",
      "62:\tlearn: 0.9986378\ttest: 0.9763894\tbest: 0.9763894 (54)\ttotal: 3m\tremaining: 1m 46s\n",
      "63:\tlearn: 0.9987615\ttest: 0.9767442\tbest: 0.9767442 (63)\ttotal: 3m 3s\tremaining: 1m 43s\n",
      "64:\tlearn: 0.9989677\ttest: 0.9760349\tbest: 0.9767442 (63)\ttotal: 3m 6s\tremaining: 1m 40s\n",
      "65:\tlearn: 0.9991327\ttest: 0.9767442\tbest: 0.9767442 (63)\ttotal: 3m 9s\tremaining: 1m 37s\n",
      "66:\tlearn: 0.9991327\ttest: 0.9767442\tbest: 0.9767442 (63)\ttotal: 3m 11s\tremaining: 1m 34s\n",
      "67:\tlearn: 0.9992152\ttest: 0.9774545\tbest: 0.9774545 (67)\ttotal: 3m 14s\tremaining: 1m 31s\n",
      "68:\tlearn: 0.9992978\ttest: 0.9774545\tbest: 0.9774545 (67)\ttotal: 3m 17s\tremaining: 1m 28s\n",
      "69:\tlearn: 0.9992978\ttest: 0.9774545\tbest: 0.9774545 (67)\ttotal: 3m 20s\tremaining: 1m 25s\n",
      "70:\tlearn: 0.9994629\ttest: 0.9774545\tbest: 0.9774545 (67)\ttotal: 3m 22s\tremaining: 1m 22s\n",
      "71:\tlearn: 0.9995042\ttest: 0.9778101\tbest: 0.9778101 (71)\ttotal: 3m 25s\tremaining: 1m 20s\n",
      "72:\tlearn: 0.9995868\ttest: 0.9778101\tbest: 0.9778101 (71)\ttotal: 3m 28s\tremaining: 1m 17s\n",
      "73:\tlearn: 0.9995455\ttest: 0.9778101\tbest: 0.9778101 (71)\ttotal: 3m 31s\tremaining: 1m 14s\n",
      "74:\tlearn: 0.9995868\ttest: 0.9778101\tbest: 0.9778101 (71)\ttotal: 3m 34s\tremaining: 1m 11s\n",
      "75:\tlearn: 0.9995868\ttest: 0.9778101\tbest: 0.9778101 (71)\ttotal: 3m 37s\tremaining: 1m 8s\n",
      "76:\tlearn: 0.9996281\ttest: 0.9778101\tbest: 0.9778101 (71)\ttotal: 3m 40s\tremaining: 1m 5s\n",
      "77:\tlearn: 0.9997107\ttest: 0.9774545\tbest: 0.9778101 (71)\ttotal: 3m 42s\tremaining: 1m 2s\n",
      "78:\tlearn: 0.9997934\ttest: 0.9778101\tbest: 0.9778101 (71)\ttotal: 3m 45s\tremaining: 1m\n",
      "79:\tlearn: 0.9998347\ttest: 0.9785220\tbest: 0.9785220 (79)\ttotal: 3m 48s\tremaining: 57.2s\n",
      "80:\tlearn: 0.9998760\ttest: 0.9785220\tbest: 0.9785220 (79)\ttotal: 3m 51s\tremaining: 54.3s\n",
      "81:\tlearn: 0.9998760\ttest: 0.9785220\tbest: 0.9785220 (79)\ttotal: 3m 54s\tremaining: 51.4s\n",
      "82:\tlearn: 0.9998760\ttest: 0.9785220\tbest: 0.9785220 (79)\ttotal: 3m 56s\tremaining: 48.5s\n",
      "83:\tlearn: 0.9998760\ttest: 0.9785220\tbest: 0.9785220 (79)\ttotal: 3m 59s\tremaining: 45.7s\n",
      "84:\tlearn: 0.9999587\ttest: 0.9792350\tbest: 0.9792350 (84)\ttotal: 4m 2s\tremaining: 42.8s\n",
      "85:\tlearn: 0.9999587\ttest: 0.9792350\tbest: 0.9792350 (84)\ttotal: 4m 5s\tremaining: 39.9s\n",
      "86:\tlearn: 0.9999587\ttest: 0.9785220\tbest: 0.9792350 (84)\ttotal: 4m 8s\tremaining: 37.1s\n",
      "87:\tlearn: 0.9999587\ttest: 0.9799490\tbest: 0.9799490 (87)\ttotal: 4m 11s\tremaining: 34.2s\n",
      "88:\tlearn: 0.9999587\ttest: 0.9788784\tbest: 0.9799490 (87)\ttotal: 4m 14s\tremaining: 31.4s\n",
      "89:\tlearn: 0.9999587\ttest: 0.9795918\tbest: 0.9799490 (87)\ttotal: 4m 16s\tremaining: 28.6s\n",
      "90:\tlearn: 0.9999587\ttest: 0.9795918\tbest: 0.9799490 (87)\ttotal: 4m 19s\tremaining: 25.7s\n",
      "91:\tlearn: 0.9999587\ttest: 0.9799490\tbest: 0.9799490 (87)\ttotal: 4m 22s\tremaining: 22.8s\n",
      "92:\tlearn: 0.9999587\ttest: 0.9792350\tbest: 0.9799490 (87)\ttotal: 4m 25s\tremaining: 20s\n",
      "93:\tlearn: 0.9999587\ttest: 0.9795918\tbest: 0.9799490 (87)\ttotal: 4m 28s\tremaining: 17.1s\n",
      "94:\tlearn: 0.9999587\ttest: 0.9799490\tbest: 0.9799490 (87)\ttotal: 4m 30s\tremaining: 14.3s\n",
      "95:\tlearn: 0.9999587\ttest: 0.9806640\tbest: 0.9806640 (95)\ttotal: 4m 33s\tremaining: 11.4s\n",
      "96:\tlearn: 0.9999587\ttest: 0.9806640\tbest: 0.9806640 (95)\ttotal: 4m 36s\tremaining: 8.56s\n",
      "97:\tlearn: 0.9999587\ttest: 0.9810219\tbest: 0.9810219 (97)\ttotal: 4m 39s\tremaining: 5.7s\n",
      "98:\tlearn: 0.9999587\ttest: 0.9813801\tbest: 0.9813801 (98)\ttotal: 4m 42s\tremaining: 2.85s\n",
      "99:\tlearn: 1.0000000\ttest: 0.9813801\tbest: 0.9813801 (98)\ttotal: 4m 44s\tremaining: 0us\n",
      "\n",
      "bestTest = 0.9813800657\n",
      "bestIteration = 98\n",
      "\n",
      "Training on fold [19/30]\n",
      "0:\tlearn: 0.8481461\ttest: 0.8440101\tbest: 0.8440101 (0)\ttotal: 3s\tremaining: 4m 56s\n",
      "1:\tlearn: 0.8907269\ttest: 0.8733529\tbest: 0.8733529 (1)\ttotal: 5.9s\tremaining: 4m 49s\n",
      "2:\tlearn: 0.9126935\ttest: 0.8925681\tbest: 0.8925681 (2)\ttotal: 8.81s\tremaining: 4m 44s\n",
      "3:\tlearn: 0.9247958\ttest: 0.9067642\tbest: 0.9067642 (3)\ttotal: 11.7s\tremaining: 4m 39s\n",
      "4:\tlearn: 0.9347491\ttest: 0.9166062\tbest: 0.9166062 (4)\ttotal: 14.6s\tremaining: 4m 37s\n",
      "5:\tlearn: 0.9438257\ttest: 0.9212254\tbest: 0.9212254 (5)\ttotal: 17.6s\tremaining: 4m 36s\n",
      "6:\tlearn: 0.9502105\ttest: 0.9344440\tbest: 0.9344440 (6)\ttotal: 20.6s\tremaining: 4m 34s\n",
      "7:\tlearn: 0.9546391\ttest: 0.9417300\tbest: 0.9417300 (7)\ttotal: 23.5s\tremaining: 4m 30s\n",
      "8:\tlearn: 0.9588620\ttest: 0.9435192\tbest: 0.9435192 (8)\ttotal: 26.5s\tremaining: 4m 27s\n",
      "9:\tlearn: 0.9621709\ttest: 0.9472162\tbest: 0.9472162 (9)\ttotal: 29.3s\tremaining: 4m 23s\n",
      "10:\tlearn: 0.9657964\ttest: 0.9527587\tbest: 0.9527587 (10)\ttotal: 32.2s\tremaining: 4m 20s\n",
      "11:\tlearn: 0.9695548\ttest: 0.9563019\tbest: 0.9563019 (11)\ttotal: 35.2s\tremaining: 4m 18s\n",
      "12:\tlearn: 0.9717587\ttest: 0.9599423\tbest: 0.9599423 (12)\ttotal: 38.2s\tremaining: 4m 15s\n",
      "13:\tlearn: 0.9726476\ttest: 0.9593379\tbest: 0.9599423 (12)\ttotal: 41.1s\tremaining: 4m 12s\n",
      "14:\tlearn: 0.9738279\ttest: 0.9610671\tbest: 0.9610671 (14)\ttotal: 44s\tremaining: 4m 9s\n",
      "15:\tlearn: 0.9747471\ttest: 0.9610951\tbest: 0.9610951 (15)\ttotal: 46.8s\tremaining: 4m 5s\n",
      "16:\tlearn: 0.9763072\ttest: 0.9625899\tbest: 0.9625899 (16)\ttotal: 49.6s\tremaining: 4m 2s\n",
      "17:\tlearn: 0.9777057\ttest: 0.9636298\tbest: 0.9636298 (17)\ttotal: 52.5s\tremaining: 3m 58s\n",
      "18:\tlearn: 0.9781472\ttest: 0.9651205\tbest: 0.9651205 (18)\ttotal: 55.2s\tremaining: 3m 55s\n",
      "19:\tlearn: 0.9799676\ttest: 0.9689755\tbest: 0.9689755 (19)\ttotal: 58.1s\tremaining: 3m 52s\n",
      "20:\tlearn: 0.9812117\ttest: 0.9682769\tbest: 0.9689755 (19)\ttotal: 1m 1s\tremaining: 3m 49s\n",
      "21:\tlearn: 0.9824077\ttest: 0.9686260\tbest: 0.9689755 (19)\ttotal: 1m 3s\tremaining: 3m 46s\n",
      "22:\tlearn: 0.9832466\ttest: 0.9672308\tbest: 0.9689755 (19)\ttotal: 1m 6s\tremaining: 3m 43s\n",
      "23:\tlearn: 0.9844475\ttest: 0.9672308\tbest: 0.9689755 (19)\ttotal: 1m 9s\tremaining: 3m 40s\n",
      "24:\tlearn: 0.9852498\ttest: 0.9686260\tbest: 0.9689755 (19)\ttotal: 1m 12s\tremaining: 3m 37s\n",
      "25:\tlearn: 0.9855710\ttest: 0.9689755\tbest: 0.9689755 (19)\ttotal: 1m 15s\tremaining: 3m 34s\n",
      "26:\tlearn: 0.9864154\ttest: 0.9693252\tbest: 0.9693252 (26)\ttotal: 1m 17s\tremaining: 3m 30s\n",
      "27:\tlearn: 0.9865361\ttest: 0.9700253\tbest: 0.9700253 (27)\ttotal: 1m 20s\tremaining: 3m 27s\n",
      "28:\tlearn: 0.9872611\ttest: 0.9714286\tbest: 0.9714286 (28)\ttotal: 1m 23s\tremaining: 3m 25s\n",
      "29:\tlearn: 0.9876241\ttest: 0.9714286\tbest: 0.9714286 (28)\ttotal: 1m 26s\tremaining: 3m 21s\n",
      "30:\tlearn: 0.9879124\ttest: 0.9707476\tbest: 0.9714286 (28)\ttotal: 1m 29s\tremaining: 3m 18s\n",
      "31:\tlearn: 0.9887200\ttest: 0.9703971\tbest: 0.9714286 (28)\ttotal: 1m 32s\tremaining: 3m 15s\n",
      "32:\tlearn: 0.9896098\ttest: 0.9700469\tbest: 0.9714286 (28)\ttotal: 1m 34s\tremaining: 3m 12s\n",
      "33:\tlearn: 0.9901768\ttest: 0.9721519\tbest: 0.9721519 (33)\ttotal: 1m 37s\tremaining: 3m 9s\n",
      "34:\tlearn: 0.9904606\ttest: 0.9725036\tbest: 0.9725036 (34)\ttotal: 1m 40s\tremaining: 3m 6s\n",
      "35:\tlearn: 0.9913941\ttest: 0.9721519\tbest: 0.9725036 (34)\ttotal: 1m 43s\tremaining: 3m 3s\n",
      "36:\tlearn: 0.9922481\ttest: 0.9728556\tbest: 0.9728556 (36)\ttotal: 1m 46s\tremaining: 3m\n",
      "37:\tlearn: 0.9926959\ttest: 0.9735603\tbest: 0.9735603 (37)\ttotal: 1m 49s\tremaining: 2m 58s\n",
      "38:\tlearn: 0.9928589\ttest: 0.9728556\tbest: 0.9735603 (37)\ttotal: 1m 51s\tremaining: 2m 55s\n",
      "39:\tlearn: 0.9931034\ttest: 0.9728556\tbest: 0.9735603 (37)\ttotal: 1m 54s\tremaining: 2m 52s\n",
      "40:\tlearn: 0.9934297\ttest: 0.9732078\tbest: 0.9735603 (37)\ttotal: 1m 57s\tremaining: 2m 49s\n",
      "41:\tlearn: 0.9941645\ttest: 0.9735603\tbest: 0.9735603 (37)\ttotal: 2m\tremaining: 2m 46s\n",
      "42:\tlearn: 0.9943280\ttest: 0.9739130\tbest: 0.9739130 (42)\ttotal: 2m 3s\tremaining: 2m 43s\n",
      "43:\tlearn: 0.9947368\ttest: 0.9732078\tbest: 0.9739130 (42)\ttotal: 2m 6s\tremaining: 2m 40s\n",
      "44:\tlearn: 0.9951460\ttest: 0.9739130\tbest: 0.9739130 (42)\ttotal: 2m 8s\tremaining: 2m 37s\n",
      "45:\tlearn: 0.9953098\ttest: 0.9739130\tbest: 0.9739130 (42)\ttotal: 2m 11s\tremaining: 2m 34s\n",
      "46:\tlearn: 0.9958014\ttest: 0.9742660\tbest: 0.9742660 (46)\ttotal: 2m 14s\tremaining: 2m 31s\n",
      "47:\tlearn: 0.9964987\ttest: 0.9746193\tbest: 0.9746193 (47)\ttotal: 2m 17s\tremaining: 2m 28s\n",
      "48:\tlearn: 0.9963756\ttest: 0.9739130\tbest: 0.9746193 (47)\ttotal: 2m 20s\tremaining: 2m 25s\n",
      "49:\tlearn: 0.9964987\ttest: 0.9753266\tbest: 0.9753266 (49)\ttotal: 2m 23s\tremaining: 2m 23s\n",
      "50:\tlearn: 0.9967040\ttest: 0.9746193\tbest: 0.9753266 (49)\ttotal: 2m 26s\tremaining: 2m 20s\n",
      "51:\tlearn: 0.9971148\ttest: 0.9756806\tbest: 0.9756806 (51)\ttotal: 2m 28s\tremaining: 2m 17s\n",
      "52:\tlearn: 0.9973204\ttest: 0.9756806\tbest: 0.9756806 (51)\ttotal: 2m 31s\tremaining: 2m 14s\n",
      "53:\tlearn: 0.9974437\ttest: 0.9760349\tbest: 0.9760349 (53)\ttotal: 2m 34s\tremaining: 2m 11s\n",
      "54:\tlearn: 0.9976082\ttest: 0.9763894\tbest: 0.9763894 (54)\ttotal: 2m 37s\tremaining: 2m 8s\n",
      "55:\tlearn: 0.9979786\ttest: 0.9763894\tbest: 0.9763894 (54)\ttotal: 2m 40s\tremaining: 2m 5s\n",
      "56:\tlearn: 0.9981022\ttest: 0.9763894\tbest: 0.9763894 (54)\ttotal: 2m 42s\tremaining: 2m 2s\n",
      "57:\tlearn: 0.9981022\ttest: 0.9763894\tbest: 0.9763894 (54)\ttotal: 2m 45s\tremaining: 1m 59s\n",
      "58:\tlearn: 0.9982257\ttest: 0.9770992\tbest: 0.9770992 (58)\ttotal: 2m 48s\tremaining: 1m 57s\n",
      "59:\tlearn: 0.9982257\ttest: 0.9774545\tbest: 0.9774545 (59)\ttotal: 2m 51s\tremaining: 1m 54s\n",
      "60:\tlearn: 0.9983081\ttest: 0.9778101\tbest: 0.9778101 (60)\ttotal: 2m 53s\tremaining: 1m 51s\n",
      "61:\tlearn: 0.9983493\ttest: 0.9774545\tbest: 0.9778101 (60)\ttotal: 2m 56s\tremaining: 1m 48s\n",
      "62:\tlearn: 0.9985553\ttest: 0.9774545\tbest: 0.9778101 (60)\ttotal: 2m 59s\tremaining: 1m 45s\n",
      "63:\tlearn: 0.9988852\ttest: 0.9774545\tbest: 0.9778101 (60)\ttotal: 3m 2s\tremaining: 1m 42s\n",
      "64:\tlearn: 0.9989264\ttest: 0.9770992\tbest: 0.9778101 (60)\ttotal: 3m 5s\tremaining: 1m 39s\n",
      "65:\tlearn: 0.9990914\ttest: 0.9778101\tbest: 0.9778101 (60)\ttotal: 3m 8s\tremaining: 1m 36s\n",
      "66:\tlearn: 0.9990914\ttest: 0.9781659\tbest: 0.9781659 (66)\ttotal: 3m 10s\tremaining: 1m 34s\n",
      "67:\tlearn: 0.9990914\ttest: 0.9788784\tbest: 0.9788784 (67)\ttotal: 3m 13s\tremaining: 1m 31s\n",
      "68:\tlearn: 0.9992152\ttest: 0.9792350\tbest: 0.9792350 (68)\ttotal: 3m 16s\tremaining: 1m 28s\n",
      "69:\tlearn: 0.9992978\ttest: 0.9792350\tbest: 0.9792350 (68)\ttotal: 3m 19s\tremaining: 1m 25s\n",
      "70:\tlearn: 0.9992152\ttest: 0.9788784\tbest: 0.9792350 (68)\ttotal: 3m 22s\tremaining: 1m 22s\n",
      "71:\tlearn: 0.9992978\ttest: 0.9788784\tbest: 0.9792350 (68)\ttotal: 3m 24s\tremaining: 1m 19s\n",
      "72:\tlearn: 0.9993391\ttest: 0.9788784\tbest: 0.9792350 (68)\ttotal: 3m 27s\tremaining: 1m 16s\n",
      "73:\tlearn: 0.9993391\ttest: 0.9788784\tbest: 0.9792350 (68)\ttotal: 3m 30s\tremaining: 1m 13s\n",
      "74:\tlearn: 0.9993391\ttest: 0.9792350\tbest: 0.9792350 (68)\ttotal: 3m 33s\tremaining: 1m 11s\n",
      "75:\tlearn: 0.9994216\ttest: 0.9792350\tbest: 0.9792350 (68)\ttotal: 3m 35s\tremaining: 1m 8s\n",
      "76:\tlearn: 0.9995042\ttest: 0.9792350\tbest: 0.9792350 (68)\ttotal: 3m 38s\tremaining: 1m 5s\n",
      "77:\tlearn: 0.9995042\ttest: 0.9795918\tbest: 0.9795918 (77)\ttotal: 3m 41s\tremaining: 1m 2s\n",
      "78:\tlearn: 0.9997107\ttest: 0.9799490\tbest: 0.9799490 (78)\ttotal: 3m 44s\tremaining: 59.7s\n",
      "79:\tlearn: 0.9998347\ttest: 0.9803063\tbest: 0.9803063 (79)\ttotal: 3m 47s\tremaining: 56.9s\n",
      "80:\tlearn: 0.9997934\ttest: 0.9799490\tbest: 0.9803063 (79)\ttotal: 3m 50s\tremaining: 54s\n",
      "81:\tlearn: 0.9997934\ttest: 0.9799490\tbest: 0.9803063 (79)\ttotal: 3m 52s\tremaining: 51.1s\n",
      "82:\tlearn: 0.9997934\ttest: 0.9799490\tbest: 0.9803063 (79)\ttotal: 3m 55s\tremaining: 48.3s\n",
      "83:\tlearn: 0.9998760\ttest: 0.9806640\tbest: 0.9806640 (83)\ttotal: 3m 58s\tremaining: 45.5s\n",
      "84:\tlearn: 1.0000000\ttest: 0.9803063\tbest: 0.9806640 (83)\ttotal: 4m 1s\tremaining: 42.6s\n",
      "85:\tlearn: 1.0000000\ttest: 0.9806640\tbest: 0.9806640 (83)\ttotal: 4m 4s\tremaining: 39.7s\n",
      "86:\tlearn: 1.0000000\ttest: 0.9813801\tbest: 0.9813801 (86)\ttotal: 4m 6s\tremaining: 36.9s\n",
      "87:\tlearn: 1.0000000\ttest: 0.9806640\tbest: 0.9813801 (86)\ttotal: 4m 9s\tremaining: 34.1s\n",
      "88:\tlearn: 1.0000000\ttest: 0.9806640\tbest: 0.9813801 (86)\ttotal: 4m 12s\tremaining: 31.2s\n",
      "89:\tlearn: 1.0000000\ttest: 0.9803063\tbest: 0.9813801 (86)\ttotal: 4m 15s\tremaining: 28.4s\n",
      "90:\tlearn: 1.0000000\ttest: 0.9806640\tbest: 0.9813801 (86)\ttotal: 4m 18s\tremaining: 25.6s\n",
      "91:\tlearn: 1.0000000\ttest: 0.9810219\tbest: 0.9813801 (86)\ttotal: 4m 21s\tremaining: 22.7s\n",
      "92:\tlearn: 1.0000000\ttest: 0.9813801\tbest: 0.9813801 (86)\ttotal: 4m 24s\tremaining: 19.9s\n",
      "93:\tlearn: 1.0000000\ttest: 0.9810219\tbest: 0.9813801 (86)\ttotal: 4m 26s\tremaining: 17s\n",
      "94:\tlearn: 1.0000000\ttest: 0.9817385\tbest: 0.9817385 (94)\ttotal: 4m 29s\tremaining: 14.2s\n",
      "95:\tlearn: 1.0000000\ttest: 0.9820972\tbest: 0.9820972 (95)\ttotal: 4m 32s\tremaining: 11.4s\n",
      "96:\tlearn: 1.0000000\ttest: 0.9820972\tbest: 0.9820972 (95)\ttotal: 4m 35s\tremaining: 8.52s\n",
      "97:\tlearn: 1.0000000\ttest: 0.9820972\tbest: 0.9820972 (95)\ttotal: 4m 38s\tremaining: 5.68s\n",
      "98:\tlearn: 1.0000000\ttest: 0.9820972\tbest: 0.9820972 (95)\ttotal: 4m 41s\tremaining: 2.84s\n",
      "99:\tlearn: 1.0000000\ttest: 0.9820972\tbest: 0.9820972 (95)\ttotal: 4m 43s\tremaining: 0us\n",
      "\n",
      "bestTest = 0.9820971867\n",
      "bestIteration = 95\n",
      "\n",
      "Training on fold [20/30]\n",
      "0:\tlearn: 0.8501849\ttest: 0.8348590\tbest: 0.8348590 (0)\ttotal: 2.87s\tremaining: 4m 44s\n",
      "1:\tlearn: 0.8907188\ttest: 0.8744084\tbest: 0.8744084 (1)\ttotal: 5.75s\tremaining: 4m 41s\n",
      "2:\tlearn: 0.9158757\ttest: 0.8955442\tbest: 0.8955442 (2)\ttotal: 8.7s\tremaining: 4m 41s\n",
      "3:\tlearn: 0.9230832\ttest: 0.9068826\tbest: 0.9068826 (3)\ttotal: 11.6s\tremaining: 4m 37s\n",
      "4:\tlearn: 0.9345802\ttest: 0.9204254\tbest: 0.9204254 (4)\ttotal: 14.5s\tremaining: 4m 35s\n",
      "5:\tlearn: 0.9435113\ttest: 0.9336235\tbest: 0.9336235 (5)\ttotal: 17.4s\tremaining: 4m 33s\n",
      "6:\tlearn: 0.9505666\ttest: 0.9409206\tbest: 0.9409206 (6)\ttotal: 20.4s\tremaining: 4m 30s\n",
      "7:\tlearn: 0.9564229\ttest: 0.9461121\tbest: 0.9461121 (7)\ttotal: 23.3s\tremaining: 4m 27s\n",
      "8:\tlearn: 0.9628429\ttest: 0.9524153\tbest: 0.9524153 (8)\ttotal: 26.2s\tremaining: 4m 24s\n",
      "9:\tlearn: 0.9648298\ttest: 0.9535470\tbest: 0.9535470 (9)\ttotal: 29.1s\tremaining: 4m 21s\n",
      "10:\tlearn: 0.9684791\ttest: 0.9563964\tbest: 0.9563964 (10)\ttotal: 31.9s\tremaining: 4m 18s\n",
      "11:\tlearn: 0.9709675\ttest: 0.9588150\tbest: 0.9588150 (11)\ttotal: 34.8s\tremaining: 4m 15s\n",
      "12:\tlearn: 0.9723269\ttest: 0.9599133\tbest: 0.9599133 (12)\ttotal: 37.6s\tremaining: 4m 11s\n",
      "13:\tlearn: 0.9745502\ttest: 0.9610390\tbest: 0.9610390 (13)\ttotal: 40.5s\tremaining: 4m 8s\n",
      "14:\tlearn: 0.9754832\ttest: 0.9617880\tbest: 0.9617880 (14)\ttotal: 43.4s\tremaining: 4m 5s\n",
      "15:\tlearn: 0.9769611\ttest: 0.9621349\tbest: 0.9621349 (15)\ttotal: 46.3s\tremaining: 4m 2s\n",
      "16:\tlearn: 0.9796548\ttest: 0.9625360\tbest: 0.9625360 (16)\ttotal: 49.2s\tremaining: 4m\n",
      "17:\tlearn: 0.9800625\ttest: 0.9636036\tbest: 0.9636036 (17)\ttotal: 52.2s\tremaining: 3m 57s\n",
      "18:\tlearn: 0.9815552\ttest: 0.9646974\tbest: 0.9646974 (18)\ttotal: 54.9s\tremaining: 3m 54s\n",
      "19:\tlearn: 0.9821937\ttest: 0.9633094\tbest: 0.9646974 (18)\ttotal: 57.8s\tremaining: 3m 51s\n",
      "20:\tlearn: 0.9835999\ttest: 0.9661383\tbest: 0.9661383 (20)\ttotal: 1m\tremaining: 3m 48s\n",
      "21:\tlearn: 0.9846492\ttest: 0.9665106\tbest: 0.9665106 (21)\ttotal: 1m 3s\tremaining: 3m 45s\n",
      "22:\tlearn: 0.9847695\ttest: 0.9672072\tbest: 0.9672072 (22)\ttotal: 1m 6s\tremaining: 3m 42s\n",
      "23:\tlearn: 0.9853714\ttest: 0.9686034\tbest: 0.9686034 (23)\ttotal: 1m 9s\tremaining: 3m 39s\n",
      "24:\tlearn: 0.9858535\ttest: 0.9686034\tbest: 0.9686034 (23)\ttotal: 1m 12s\tremaining: 3m 36s\n",
      "25:\tlearn: 0.9861349\ttest: 0.9689531\tbest: 0.9689531 (25)\ttotal: 1m 14s\tremaining: 3m 33s\n",
      "26:\tlearn: 0.9868593\ttest: 0.9689531\tbest: 0.9689531 (25)\ttotal: 1m 17s\tremaining: 3m 30s\n",
      "27:\tlearn: 0.9871816\ttest: 0.9700036\tbest: 0.9700036 (27)\ttotal: 1m 20s\tremaining: 3m 27s\n",
      "28:\tlearn: 0.9876251\ttest: 0.9703543\tbest: 0.9703543 (28)\ttotal: 1m 23s\tremaining: 3m 24s\n",
      "29:\tlearn: 0.9878268\ttest: 0.9707052\tbest: 0.9707052 (29)\ttotal: 1m 26s\tremaining: 3m 21s\n",
      "30:\tlearn: 0.9886391\ttest: 0.9739130\tbest: 0.9739130 (30)\ttotal: 1m 29s\tremaining: 3m 18s\n",
      "31:\tlearn: 0.9888816\ttest: 0.9735603\tbest: 0.9739130 (30)\ttotal: 1m 31s\tremaining: 3m 15s\n",
      "32:\tlearn: 0.9896907\ttest: 0.9742660\tbest: 0.9742660 (32)\ttotal: 1m 34s\tremaining: 3m 12s\n",
      "33:\tlearn: 0.9900552\ttest: 0.9742660\tbest: 0.9742660 (32)\ttotal: 1m 37s\tremaining: 3m 9s\n",
      "34:\tlearn: 0.9903390\ttest: 0.9753266\tbest: 0.9753266 (34)\ttotal: 1m 40s\tremaining: 3m 6s\n",
      "35:\tlearn: 0.9908257\ttest: 0.9753266\tbest: 0.9753266 (34)\ttotal: 1m 43s\tremaining: 3m 3s\n",
      "36:\tlearn: 0.9913535\ttest: 0.9756806\tbest: 0.9756806 (36)\ttotal: 1m 45s\tremaining: 3m\n",
      "37:\tlearn: 0.9917599\ttest: 0.9756806\tbest: 0.9756806 (36)\ttotal: 1m 48s\tremaining: 2m 57s\n",
      "38:\tlearn: 0.9918006\ttest: 0.9753266\tbest: 0.9756806 (36)\ttotal: 1m 51s\tremaining: 2m 54s\n",
      "39:\tlearn: 0.9922074\ttest: 0.9763894\tbest: 0.9763894 (39)\ttotal: 1m 54s\tremaining: 2m 51s\n",
      "40:\tlearn: 0.9929404\ttest: 0.9756806\tbest: 0.9763894 (39)\ttotal: 1m 57s\tremaining: 2m 49s\n",
      "41:\tlearn: 0.9937562\ttest: 0.9760349\tbest: 0.9763894 (39)\ttotal: 2m\tremaining: 2m 46s\n",
      "42:\tlearn: 0.9937562\ttest: 0.9760349\tbest: 0.9763894 (39)\ttotal: 2m 3s\tremaining: 2m 43s\n",
      "43:\tlearn: 0.9941237\ttest: 0.9760349\tbest: 0.9763894 (39)\ttotal: 2m 6s\tremaining: 2m 40s\n",
      "44:\tlearn: 0.9946550\ttest: 0.9767442\tbest: 0.9767442 (44)\ttotal: 2m 9s\tremaining: 2m 37s\n",
      "45:\tlearn: 0.9951051\ttest: 0.9778101\tbest: 0.9778101 (45)\ttotal: 2m 12s\tremaining: 2m 34s\n",
      "46:\tlearn: 0.9957195\ttest: 0.9781659\tbest: 0.9781659 (46)\ttotal: 2m 15s\tremaining: 2m 32s\n",
      "47:\tlearn: 0.9961705\ttest: 0.9781659\tbest: 0.9781659 (46)\ttotal: 2m 17s\tremaining: 2m 29s\n",
      "48:\tlearn: 0.9964987\ttest: 0.9788784\tbest: 0.9788784 (48)\ttotal: 2m 20s\tremaining: 2m 26s\n",
      "49:\tlearn: 0.9970326\ttest: 0.9788784\tbest: 0.9788784 (48)\ttotal: 2m 23s\tremaining: 2m 23s\n",
      "50:\tlearn: 0.9971559\ttest: 0.9788784\tbest: 0.9788784 (48)\ttotal: 2m 26s\tremaining: 2m 20s\n",
      "51:\tlearn: 0.9974848\ttest: 0.9792350\tbest: 0.9792350 (51)\ttotal: 2m 29s\tremaining: 2m 18s\n",
      "52:\tlearn: 0.9976494\ttest: 0.9788784\tbest: 0.9792350 (51)\ttotal: 2m 32s\tremaining: 2m 15s\n",
      "53:\tlearn: 0.9977728\ttest: 0.9788784\tbest: 0.9792350 (51)\ttotal: 2m 35s\tremaining: 2m 12s\n",
      "54:\tlearn: 0.9979786\ttest: 0.9795918\tbest: 0.9795918 (54)\ttotal: 2m 38s\tremaining: 2m 9s\n",
      "55:\tlearn: 0.9981022\ttest: 0.9795918\tbest: 0.9795918 (54)\ttotal: 2m 41s\tremaining: 2m 6s\n",
      "56:\tlearn: 0.9983905\ttest: 0.9795918\tbest: 0.9795918 (54)\ttotal: 2m 44s\tremaining: 2m 3s\n",
      "57:\tlearn: 0.9984317\ttest: 0.9803063\tbest: 0.9803063 (57)\ttotal: 2m 46s\tremaining: 2m\n",
      "58:\tlearn: 0.9986378\ttest: 0.9799490\tbest: 0.9803063 (57)\ttotal: 2m 50s\tremaining: 1m 58s\n",
      "59:\tlearn: 0.9988439\ttest: 0.9803063\tbest: 0.9803063 (57)\ttotal: 2m 53s\tremaining: 1m 55s\n",
      "60:\tlearn: 0.9988439\ttest: 0.9795918\tbest: 0.9803063 (57)\ttotal: 2m 56s\tremaining: 1m 53s\n",
      "61:\tlearn: 0.9990089\ttest: 0.9795918\tbest: 0.9803063 (57)\ttotal: 2m 59s\tremaining: 1m 50s\n",
      "62:\tlearn: 0.9990502\ttest: 0.9795918\tbest: 0.9803063 (57)\ttotal: 3m 2s\tremaining: 1m 47s\n",
      "63:\tlearn: 0.9991327\ttest: 0.9810219\tbest: 0.9810219 (63)\ttotal: 3m 5s\tremaining: 1m 44s\n",
      "64:\tlearn: 0.9992152\ttest: 0.9810219\tbest: 0.9810219 (63)\ttotal: 3m 8s\tremaining: 1m 41s\n",
      "65:\tlearn: 0.9992565\ttest: 0.9806640\tbest: 0.9810219 (63)\ttotal: 3m 11s\tremaining: 1m 38s\n",
      "66:\tlearn: 0.9992565\ttest: 0.9806640\tbest: 0.9810219 (63)\ttotal: 3m 14s\tremaining: 1m 35s\n",
      "67:\tlearn: 0.9993391\ttest: 0.9817385\tbest: 0.9817385 (67)\ttotal: 3m 17s\tremaining: 1m 32s\n",
      "68:\tlearn: 0.9993803\ttest: 0.9813801\tbest: 0.9817385 (67)\ttotal: 3m 20s\tremaining: 1m 29s\n",
      "69:\tlearn: 0.9993803\ttest: 0.9817385\tbest: 0.9817385 (67)\ttotal: 3m 23s\tremaining: 1m 27s\n",
      "70:\tlearn: 0.9993803\ttest: 0.9817385\tbest: 0.9817385 (67)\ttotal: 3m 25s\tremaining: 1m 24s\n",
      "71:\tlearn: 0.9994216\ttest: 0.9817385\tbest: 0.9817385 (67)\ttotal: 3m 28s\tremaining: 1m 21s\n",
      "72:\tlearn: 0.9994216\ttest: 0.9820972\tbest: 0.9820972 (72)\ttotal: 3m 31s\tremaining: 1m 18s\n",
      "73:\tlearn: 0.9994629\ttest: 0.9820972\tbest: 0.9820972 (72)\ttotal: 3m 34s\tremaining: 1m 15s\n",
      "74:\tlearn: 0.9995455\ttest: 0.9820972\tbest: 0.9820972 (72)\ttotal: 3m 37s\tremaining: 1m 12s\n",
      "75:\tlearn: 0.9996694\ttest: 0.9820972\tbest: 0.9820972 (72)\ttotal: 3m 40s\tremaining: 1m 9s\n",
      "76:\tlearn: 0.9996281\ttest: 0.9820972\tbest: 0.9820972 (72)\ttotal: 3m 43s\tremaining: 1m 6s\n",
      "77:\tlearn: 0.9997107\ttest: 0.9820972\tbest: 0.9820972 (72)\ttotal: 3m 46s\tremaining: 1m 3s\n",
      "78:\tlearn: 0.9997107\ttest: 0.9817385\tbest: 0.9820972 (72)\ttotal: 3m 49s\tremaining: 1m\n",
      "79:\tlearn: 0.9997934\ttest: 0.9820972\tbest: 0.9820972 (72)\ttotal: 3m 52s\tremaining: 58s\n",
      "80:\tlearn: 0.9997934\ttest: 0.9824561\tbest: 0.9824561 (80)\ttotal: 3m 55s\tremaining: 55.1s\n",
      "81:\tlearn: 0.9998347\ttest: 0.9828154\tbest: 0.9828154 (81)\ttotal: 3m 57s\tremaining: 52.2s\n",
      "82:\tlearn: 0.9998347\ttest: 0.9824561\tbest: 0.9828154 (81)\ttotal: 4m\tremaining: 49.3s\n",
      "83:\tlearn: 0.9998347\ttest: 0.9828154\tbest: 0.9828154 (81)\ttotal: 4m 3s\tremaining: 46.4s\n",
      "84:\tlearn: 0.9998347\ttest: 0.9828154\tbest: 0.9828154 (81)\ttotal: 4m 6s\tremaining: 43.5s\n",
      "85:\tlearn: 0.9998347\ttest: 0.9828154\tbest: 0.9828154 (81)\ttotal: 4m 9s\tremaining: 40.6s\n",
      "86:\tlearn: 0.9998347\ttest: 0.9828154\tbest: 0.9828154 (81)\ttotal: 4m 12s\tremaining: 37.7s\n",
      "87:\tlearn: 0.9998347\ttest: 0.9831748\tbest: 0.9831748 (87)\ttotal: 4m 15s\tremaining: 34.8s\n",
      "88:\tlearn: 0.9998347\ttest: 0.9828154\tbest: 0.9831748 (87)\ttotal: 4m 17s\tremaining: 31.9s\n",
      "89:\tlearn: 0.9998760\ttest: 0.9828154\tbest: 0.9831748 (87)\ttotal: 4m 20s\tremaining: 29s\n",
      "90:\tlearn: 0.9998760\ttest: 0.9831748\tbest: 0.9831748 (87)\ttotal: 4m 23s\tremaining: 26.1s\n",
      "91:\tlearn: 1.0000000\ttest: 0.9831748\tbest: 0.9831748 (87)\ttotal: 4m 26s\tremaining: 23.2s\n",
      "92:\tlearn: 1.0000000\ttest: 0.9831748\tbest: 0.9831748 (87)\ttotal: 4m 29s\tremaining: 20.3s\n",
      "93:\tlearn: 1.0000000\ttest: 0.9828154\tbest: 0.9831748 (87)\ttotal: 4m 32s\tremaining: 17.4s\n",
      "94:\tlearn: 1.0000000\ttest: 0.9828154\tbest: 0.9831748 (87)\ttotal: 4m 35s\tremaining: 14.5s\n",
      "95:\tlearn: 1.0000000\ttest: 0.9828154\tbest: 0.9831748 (87)\ttotal: 4m 38s\tremaining: 11.6s\n",
      "96:\tlearn: 1.0000000\ttest: 0.9828154\tbest: 0.9831748 (87)\ttotal: 4m 41s\tremaining: 8.7s\n",
      "97:\tlearn: 1.0000000\ttest: 0.9824561\tbest: 0.9831748 (87)\ttotal: 4m 44s\tremaining: 5.8s\n",
      "98:\tlearn: 1.0000000\ttest: 0.9824561\tbest: 0.9831748 (87)\ttotal: 4m 47s\tremaining: 2.9s\n",
      "99:\tlearn: 1.0000000\ttest: 0.9831748\tbest: 0.9831748 (87)\ttotal: 4m 49s\tremaining: 0us\n",
      "\n",
      "bestTest = 0.9831748354\n",
      "bestIteration = 87\n",
      "\n",
      "Training on fold [21/30]\n",
      "0:\tlearn: 0.8461415\ttest: 0.8385683\tbest: 0.8385683 (0)\ttotal: 3.06s\tremaining: 5m 3s\n",
      "1:\tlearn: 0.8931107\ttest: 0.8876772\tbest: 0.8876772 (1)\ttotal: 6.06s\tremaining: 4m 56s\n",
      "2:\tlearn: 0.9085875\ttest: 0.8984976\tbest: 0.8984976 (2)\ttotal: 8.98s\tremaining: 4m 50s\n",
      "3:\tlearn: 0.9218027\ttest: 0.9160584\tbest: 0.9160584 (3)\ttotal: 12s\tremaining: 4m 47s\n",
      "4:\tlearn: 0.9315636\ttest: 0.9216758\tbest: 0.9216758 (4)\ttotal: 15s\tremaining: 4m 44s\n",
      "5:\tlearn: 0.9405032\ttest: 0.9281284\tbest: 0.9281284 (5)\ttotal: 18s\tremaining: 4m 42s\n",
      "6:\tlearn: 0.9470317\ttest: 0.9365889\tbest: 0.9365889 (6)\ttotal: 21.1s\tremaining: 4m 39s\n",
      "7:\tlearn: 0.9545216\ttest: 0.9412618\tbest: 0.9412618 (7)\ttotal: 24s\tremaining: 4m 36s\n",
      "8:\tlearn: 0.9587967\ttest: 0.9445853\tbest: 0.9445853 (8)\ttotal: 27s\tremaining: 4m 33s\n",
      "9:\tlearn: 0.9624388\ttest: 0.9467584\tbest: 0.9467584 (9)\ttotal: 30s\tremaining: 4m 29s\n",
      "10:\tlearn: 0.9657875\ttest: 0.9515896\tbest: 0.9515896 (10)\ttotal: 32.9s\tremaining: 4m 26s\n",
      "11:\tlearn: 0.9687184\ttest: 0.9536568\tbest: 0.9536568 (11)\ttotal: 35.9s\tremaining: 4m 23s\n",
      "12:\tlearn: 0.9694245\ttest: 0.9536568\tbest: 0.9536568 (11)\ttotal: 38.8s\tremaining: 4m 19s\n",
      "13:\tlearn: 0.9718567\ttest: 0.9565532\tbest: 0.9565532 (13)\ttotal: 41.8s\tremaining: 4m 16s\n",
      "14:\tlearn: 0.9739729\ttest: 0.9591024\tbest: 0.9591024 (14)\ttotal: 44.8s\tremaining: 4m 13s\n",
      "15:\tlearn: 0.9759650\ttest: 0.9630970\tbest: 0.9630970 (15)\ttotal: 47.7s\tremaining: 4m 10s\n",
      "16:\tlearn: 0.9772377\ttest: 0.9642212\tbest: 0.9642212 (16)\ttotal: 50.6s\tremaining: 4m 7s\n",
      "17:\tlearn: 0.9780768\ttest: 0.9649946\tbest: 0.9649946 (17)\ttotal: 53.5s\tremaining: 4m 3s\n",
      "18:\tlearn: 0.9792561\ttest: 0.9675325\tbest: 0.9675325 (18)\ttotal: 56.3s\tremaining: 4m\n",
      "19:\tlearn: 0.9796133\ttest: 0.9692808\tbest: 0.9692808 (19)\ttotal: 59.2s\tremaining: 3m 56s\n",
      "20:\tlearn: 0.9798516\ttest: 0.9682310\tbest: 0.9692808 (19)\ttotal: 1m 2s\tremaining: 3m 53s\n",
      "21:\tlearn: 0.9808059\ttest: 0.9689306\tbest: 0.9692808 (19)\ttotal: 1m 4s\tremaining: 3m 50s\n",
      "22:\tlearn: 0.9816823\ttest: 0.9692808\tbest: 0.9692808 (19)\ttotal: 1m 7s\tremaining: 3m 47s\n",
      "23:\tlearn: 0.9828399\ttest: 0.9703329\tbest: 0.9703329 (23)\ttotal: 1m 10s\tremaining: 3m 44s\n",
      "24:\tlearn: 0.9833598\ttest: 0.9710355\tbest: 0.9710355 (24)\ttotal: 1m 13s\tremaining: 3m 41s\n",
      "25:\tlearn: 0.9842808\ttest: 0.9710355\tbest: 0.9710355 (24)\ttotal: 1m 16s\tremaining: 3m 37s\n",
      "26:\tlearn: 0.9848824\ttest: 0.9713872\tbest: 0.9713872 (26)\ttotal: 1m 19s\tremaining: 3m 34s\n",
      "27:\tlearn: 0.9857661\ttest: 0.9713872\tbest: 0.9713872 (26)\ttotal: 1m 22s\tremaining: 3m 31s\n",
      "28:\tlearn: 0.9868244\ttest: 0.9732078\tbest: 0.9732078 (28)\ttotal: 1m 25s\tremaining: 3m 28s\n",
      "29:\tlearn: 0.9875444\ttest: 0.9731690\tbest: 0.9732078 (28)\ttotal: 1m 28s\tremaining: 3m 25s\n",
      "30:\tlearn: 0.9886391\ttest: 0.9739130\tbest: 0.9739130 (30)\ttotal: 1m 31s\tremaining: 3m 22s\n",
      "31:\tlearn: 0.9892860\ttest: 0.9753266\tbest: 0.9753266 (31)\ttotal: 1m 34s\tremaining: 3m 19s\n",
      "32:\tlearn: 0.9898122\ttest: 0.9756806\tbest: 0.9756806 (32)\ttotal: 1m 36s\tremaining: 3m 16s\n",
      "33:\tlearn: 0.9900958\ttest: 0.9767442\tbest: 0.9767442 (33)\ttotal: 1m 39s\tremaining: 3m 13s\n",
      "34:\tlearn: 0.9903795\ttest: 0.9774545\tbest: 0.9774545 (34)\ttotal: 1m 42s\tremaining: 3m 10s\n",
      "35:\tlearn: 0.9907445\ttest: 0.9774545\tbest: 0.9774545 (34)\ttotal: 1m 45s\tremaining: 3m 7s\n",
      "36:\tlearn: 0.9911911\ttest: 0.9774545\tbest: 0.9774545 (34)\ttotal: 1m 48s\tremaining: 3m 4s\n",
      "37:\tlearn: 0.9919226\ttest: 0.9781659\tbest: 0.9781659 (37)\ttotal: 1m 51s\tremaining: 3m 1s\n",
      "38:\tlearn: 0.9926145\ttest: 0.9781659\tbest: 0.9781659 (37)\ttotal: 1m 54s\tremaining: 2m 58s\n",
      "39:\tlearn: 0.9930219\ttest: 0.9785220\tbest: 0.9785220 (39)\ttotal: 1m 56s\tremaining: 2m 55s\n",
      "40:\tlearn: 0.9935113\ttest: 0.9792350\tbest: 0.9792350 (40)\ttotal: 1m 59s\tremaining: 2m 52s\n",
      "41:\tlearn: 0.9937562\ttest: 0.9795918\tbest: 0.9795918 (41)\ttotal: 2m 2s\tremaining: 2m 49s\n",
      "42:\tlearn: 0.9940420\ttest: 0.9795918\tbest: 0.9795918 (41)\ttotal: 2m 5s\tremaining: 2m 46s\n",
      "43:\tlearn: 0.9941237\ttest: 0.9792350\tbest: 0.9795918 (41)\ttotal: 2m 8s\tremaining: 2m 43s\n",
      "44:\tlearn: 0.9944097\ttest: 0.9799490\tbest: 0.9799490 (44)\ttotal: 2m 11s\tremaining: 2m 40s\n",
      "45:\tlearn: 0.9945733\ttest: 0.9803063\tbest: 0.9803063 (45)\ttotal: 2m 14s\tremaining: 2m 37s\n",
      "46:\tlearn: 0.9949414\ttest: 0.9803063\tbest: 0.9803063 (45)\ttotal: 2m 16s\tremaining: 2m 34s\n",
      "47:\tlearn: 0.9951460\ttest: 0.9806640\tbest: 0.9806640 (47)\ttotal: 2m 19s\tremaining: 2m 31s\n",
      "48:\tlearn: 0.9956375\ttest: 0.9813801\tbest: 0.9813801 (48)\ttotal: 2m 22s\tremaining: 2m 28s\n",
      "49:\tlearn: 0.9958424\ttest: 0.9810219\tbest: 0.9813801 (48)\ttotal: 2m 25s\tremaining: 2m 25s\n",
      "50:\tlearn: 0.9960884\ttest: 0.9813801\tbest: 0.9813801 (48)\ttotal: 2m 28s\tremaining: 2m 22s\n",
      "51:\tlearn: 0.9962936\ttest: 0.9813801\tbest: 0.9813801 (48)\ttotal: 2m 31s\tremaining: 2m 19s\n",
      "52:\tlearn: 0.9967040\ttest: 0.9817385\tbest: 0.9817385 (52)\ttotal: 2m 33s\tremaining: 2m 16s\n",
      "53:\tlearn: 0.9969916\ttest: 0.9824561\tbest: 0.9824561 (53)\ttotal: 2m 36s\tremaining: 2m 13s\n",
      "54:\tlearn: 0.9972381\ttest: 0.9831748\tbest: 0.9831748 (54)\ttotal: 2m 39s\tremaining: 2m 10s\n",
      "55:\tlearn: 0.9976082\ttest: 0.9828154\tbest: 0.9831748 (54)\ttotal: 2m 42s\tremaining: 2m 7s\n",
      "56:\tlearn: 0.9974026\ttest: 0.9824561\tbest: 0.9831748 (54)\ttotal: 2m 45s\tremaining: 2m 4s\n",
      "57:\tlearn: 0.9977728\ttest: 0.9828154\tbest: 0.9831748 (54)\ttotal: 2m 48s\tremaining: 2m 1s\n",
      "58:\tlearn: 0.9978963\ttest: 0.9820972\tbest: 0.9831748 (54)\ttotal: 2m 51s\tremaining: 1m 58s\n",
      "59:\tlearn: 0.9982257\ttest: 0.9820972\tbest: 0.9831748 (54)\ttotal: 2m 53s\tremaining: 1m 55s\n",
      "60:\tlearn: 0.9985141\ttest: 0.9828154\tbest: 0.9831748 (54)\ttotal: 2m 56s\tremaining: 1m 53s\n",
      "61:\tlearn: 0.9986790\ttest: 0.9828154\tbest: 0.9831748 (54)\ttotal: 2m 59s\tremaining: 1m 50s\n",
      "62:\tlearn: 0.9988439\ttest: 0.9820972\tbest: 0.9831748 (54)\ttotal: 3m 2s\tremaining: 1m 47s\n",
      "63:\tlearn: 0.9988852\ttest: 0.9828154\tbest: 0.9831748 (54)\ttotal: 3m 5s\tremaining: 1m 44s\n",
      "64:\tlearn: 0.9989677\ttest: 0.9820972\tbest: 0.9831748 (54)\ttotal: 3m 8s\tremaining: 1m 41s\n",
      "65:\tlearn: 0.9990502\ttest: 0.9824561\tbest: 0.9831748 (54)\ttotal: 3m 11s\tremaining: 1m 38s\n",
      "66:\tlearn: 0.9990914\ttest: 0.9828154\tbest: 0.9831748 (54)\ttotal: 3m 14s\tremaining: 1m 35s\n",
      "67:\tlearn: 0.9991327\ttest: 0.9828154\tbest: 0.9831748 (54)\ttotal: 3m 16s\tremaining: 1m 32s\n",
      "68:\tlearn: 0.9992152\ttest: 0.9820972\tbest: 0.9831748 (54)\ttotal: 3m 19s\tremaining: 1m 29s\n",
      "69:\tlearn: 0.9991740\ttest: 0.9824561\tbest: 0.9831748 (54)\ttotal: 3m 22s\tremaining: 1m 26s\n",
      "70:\tlearn: 0.9993803\ttest: 0.9824561\tbest: 0.9831748 (54)\ttotal: 3m 25s\tremaining: 1m 23s\n",
      "71:\tlearn: 0.9995868\ttest: 0.9828154\tbest: 0.9831748 (54)\ttotal: 3m 28s\tremaining: 1m 20s\n",
      "72:\tlearn: 0.9995455\ttest: 0.9831748\tbest: 0.9831748 (54)\ttotal: 3m 31s\tremaining: 1m 18s\n",
      "73:\tlearn: 0.9995868\ttest: 0.9831748\tbest: 0.9831748 (54)\ttotal: 3m 33s\tremaining: 1m 15s\n",
      "74:\tlearn: 0.9996281\ttest: 0.9838946\tbest: 0.9838946 (74)\ttotal: 3m 36s\tremaining: 1m 12s\n",
      "75:\tlearn: 0.9996281\ttest: 0.9846154\tbest: 0.9846154 (75)\ttotal: 3m 40s\tremaining: 1m 9s\n",
      "76:\tlearn: 0.9996694\ttest: 0.9838946\tbest: 0.9846154 (75)\ttotal: 3m 43s\tremaining: 1m 6s\n",
      "77:\tlearn: 0.9997107\ttest: 0.9842549\tbest: 0.9846154 (75)\ttotal: 3m 45s\tremaining: 1m 3s\n",
      "78:\tlearn: 0.9997107\ttest: 0.9838946\tbest: 0.9846154 (75)\ttotal: 3m 48s\tremaining: 1m\n",
      "79:\tlearn: 0.9997107\ttest: 0.9842549\tbest: 0.9846154 (75)\ttotal: 3m 51s\tremaining: 57.9s\n",
      "80:\tlearn: 0.9997520\ttest: 0.9849762\tbest: 0.9849762 (80)\ttotal: 3m 54s\tremaining: 55s\n",
      "81:\tlearn: 0.9997934\ttest: 0.9849762\tbest: 0.9849762 (80)\ttotal: 3m 57s\tremaining: 52.1s\n",
      "82:\tlearn: 0.9998347\ttest: 0.9849762\tbest: 0.9849762 (80)\ttotal: 4m\tremaining: 49.2s\n",
      "83:\tlearn: 0.9999173\ttest: 0.9846154\tbest: 0.9849762 (80)\ttotal: 4m 2s\tremaining: 46.3s\n",
      "84:\tlearn: 0.9999173\ttest: 0.9846154\tbest: 0.9849762 (80)\ttotal: 4m 5s\tremaining: 43.4s\n",
      "85:\tlearn: 0.9999173\ttest: 0.9846154\tbest: 0.9849762 (80)\ttotal: 4m 8s\tremaining: 40.5s\n",
      "86:\tlearn: 0.9999173\ttest: 0.9846154\tbest: 0.9849762 (80)\ttotal: 4m 11s\tremaining: 37.6s\n",
      "87:\tlearn: 0.9999173\ttest: 0.9849762\tbest: 0.9849762 (80)\ttotal: 4m 14s\tremaining: 34.7s\n",
      "88:\tlearn: 0.9999587\ttest: 0.9849762\tbest: 0.9849762 (80)\ttotal: 4m 17s\tremaining: 31.8s\n",
      "89:\tlearn: 0.9999587\ttest: 0.9849762\tbest: 0.9849762 (80)\ttotal: 4m 20s\tremaining: 28.9s\n",
      "90:\tlearn: 1.0000000\ttest: 0.9853372\tbest: 0.9853372 (90)\ttotal: 4m 23s\tremaining: 26s\n",
      "91:\tlearn: 1.0000000\ttest: 0.9856986\tbest: 0.9856986 (91)\ttotal: 4m 25s\tremaining: 23.1s\n",
      "92:\tlearn: 1.0000000\ttest: 0.9856986\tbest: 0.9856986 (91)\ttotal: 4m 28s\tremaining: 20.2s\n",
      "93:\tlearn: 1.0000000\ttest: 0.9864220\tbest: 0.9864220 (93)\ttotal: 4m 31s\tremaining: 17.3s\n",
      "94:\tlearn: 1.0000000\ttest: 0.9860602\tbest: 0.9864220 (93)\ttotal: 4m 34s\tremaining: 14.4s\n",
      "95:\tlearn: 1.0000000\ttest: 0.9860602\tbest: 0.9864220 (93)\ttotal: 4m 37s\tremaining: 11.5s\n",
      "96:\tlearn: 1.0000000\ttest: 0.9860602\tbest: 0.9864220 (93)\ttotal: 4m 39s\tremaining: 8.65s\n",
      "97:\tlearn: 1.0000000\ttest: 0.9860602\tbest: 0.9864220 (93)\ttotal: 4m 42s\tremaining: 5.77s\n",
      "98:\tlearn: 1.0000000\ttest: 0.9860602\tbest: 0.9864220 (93)\ttotal: 4m 45s\tremaining: 2.88s\n",
      "99:\tlearn: 1.0000000\ttest: 0.9864220\tbest: 0.9864220 (93)\ttotal: 4m 48s\tremaining: 0us\n",
      "\n",
      "bestTest = 0.9864220183\n",
      "bestIteration = 93\n",
      "\n",
      "Training on fold [22/30]\n",
      "0:\tlearn: 0.8458546\ttest: 0.8374312\tbest: 0.8374312 (0)\ttotal: 2.99s\tremaining: 4m 55s\n",
      "1:\tlearn: 0.8912441\ttest: 0.8842730\tbest: 0.8842730 (1)\ttotal: 5.92s\tremaining: 4m 50s\n",
      "2:\tlearn: 0.9074886\ttest: 0.9036817\tbest: 0.9036817 (2)\ttotal: 8.87s\tremaining: 4m 46s\n",
      "3:\tlearn: 0.9205052\ttest: 0.9123845\tbest: 0.9123845 (3)\ttotal: 11.8s\tremaining: 4m 43s\n",
      "4:\tlearn: 0.9319692\ttest: 0.9209268\tbest: 0.9209268 (4)\ttotal: 14.8s\tremaining: 4m 41s\n",
      "5:\tlearn: 0.9410618\ttest: 0.9330406\tbest: 0.9330406 (5)\ttotal: 17.8s\tremaining: 4m 38s\n",
      "6:\tlearn: 0.9473599\ttest: 0.9372721\tbest: 0.9372721 (6)\ttotal: 20.7s\tremaining: 4m 34s\n",
      "7:\tlearn: 0.9533406\ttest: 0.9453353\tbest: 0.9453353 (7)\ttotal: 23.6s\tremaining: 4m 31s\n",
      "8:\tlearn: 0.9582997\ttest: 0.9502722\tbest: 0.9502722 (8)\ttotal: 26.4s\tremaining: 4m 27s\n",
      "9:\tlearn: 0.9617575\ttest: 0.9567115\tbest: 0.9567115 (9)\ttotal: 29.4s\tremaining: 4m 24s\n",
      "10:\tlearn: 0.9649130\ttest: 0.9588342\tbest: 0.9588342 (10)\ttotal: 32.3s\tremaining: 4m 21s\n",
      "11:\tlearn: 0.9675881\ttest: 0.9625046\tbest: 0.9625046 (11)\ttotal: 35.2s\tremaining: 4m 18s\n",
      "12:\tlearn: 0.9698194\ttest: 0.9636628\tbest: 0.9636628 (12)\ttotal: 38.1s\tremaining: 4m 15s\n",
      "13:\tlearn: 0.9712739\ttest: 0.9640914\tbest: 0.9640914 (13)\ttotal: 41s\tremaining: 4m 11s\n",
      "14:\tlearn: 0.9727828\ttest: 0.9633925\tbest: 0.9640914 (13)\ttotal: 43.9s\tremaining: 4m 8s\n",
      "15:\tlearn: 0.9739876\ttest: 0.9669691\tbest: 0.9669691 (15)\ttotal: 46.7s\tremaining: 4m 5s\n",
      "16:\tlearn: 0.9748300\ttest: 0.9673203\tbest: 0.9673203 (16)\ttotal: 49.6s\tremaining: 4m 2s\n",
      "17:\tlearn: 0.9756315\ttest: 0.9669931\tbest: 0.9673203 (16)\ttotal: 52.4s\tremaining: 3m 58s\n",
      "18:\tlearn: 0.9762223\ttest: 0.9673677\tbest: 0.9673677 (18)\ttotal: 55.3s\tremaining: 3m 55s\n",
      "19:\tlearn: 0.9776210\ttest: 0.9691246\tbest: 0.9691246 (19)\ttotal: 58.2s\tremaining: 3m 52s\n",
      "20:\tlearn: 0.9792891\ttest: 0.9709724\tbest: 0.9709724 (20)\ttotal: 1m 1s\tremaining: 3m 49s\n",
      "21:\tlearn: 0.9799229\ttest: 0.9695873\tbest: 0.9709724 (20)\ttotal: 1m 3s\tremaining: 3m 46s\n",
      "22:\tlearn: 0.9809775\ttest: 0.9710145\tbest: 0.9710145 (22)\ttotal: 1m 6s\tremaining: 3m 43s\n",
      "23:\tlearn: 0.9817340\ttest: 0.9727768\tbest: 0.9727768 (23)\ttotal: 1m 9s\tremaining: 3m 40s\n",
      "24:\tlearn: 0.9827712\ttest: 0.9734835\tbest: 0.9734835 (24)\ttotal: 1m 12s\tremaining: 3m 37s\n",
      "25:\tlearn: 0.9832906\ttest: 0.9738372\tbest: 0.9738372 (25)\ttotal: 1m 15s\tremaining: 3m 34s\n",
      "26:\tlearn: 0.9836506\ttest: 0.9741912\tbest: 0.9741912 (26)\ttotal: 1m 18s\tremaining: 3m 31s\n",
      "27:\tlearn: 0.9839307\ttest: 0.9745455\tbest: 0.9745455 (27)\ttotal: 1m 21s\tremaining: 3m 28s\n",
      "28:\tlearn: 0.9851330\ttest: 0.9745455\tbest: 0.9745455 (27)\ttotal: 1m 23s\tremaining: 3m 25s\n",
      "29:\tlearn: 0.9855344\ttest: 0.9749000\tbest: 0.9749000 (29)\ttotal: 1m 26s\tremaining: 3m 22s\n",
      "30:\tlearn: 0.9869822\ttest: 0.9766764\tbest: 0.9766764 (30)\ttotal: 1m 29s\tremaining: 3m 19s\n",
      "31:\tlearn: 0.9875061\ttest: 0.9773888\tbest: 0.9773888 (31)\ttotal: 1m 32s\tremaining: 3m 16s\n",
      "32:\tlearn: 0.9881517\ttest: 0.9766764\tbest: 0.9773888 (31)\ttotal: 1m 35s\tremaining: 3m 13s\n",
      "33:\tlearn: 0.9889193\ttest: 0.9763206\tbest: 0.9773888 (31)\ttotal: 1m 38s\tremaining: 3m 11s\n",
      "34:\tlearn: 0.9896477\ttest: 0.9770324\tbest: 0.9773888 (31)\ttotal: 1m 41s\tremaining: 3m 8s\n",
      "35:\tlearn: 0.9902555\ttest: 0.9766764\tbest: 0.9773888 (31)\ttotal: 1m 44s\tremaining: 3m 5s\n",
      "36:\tlearn: 0.9905394\ttest: 0.9759650\tbest: 0.9773888 (31)\ttotal: 1m 47s\tremaining: 3m 2s\n",
      "37:\tlearn: 0.9911098\ttest: 0.9788784\tbest: 0.9788784 (37)\ttotal: 1m 49s\tremaining: 2m 59s\n",
      "38:\tlearn: 0.9914348\ttest: 0.9803063\tbest: 0.9803063 (38)\ttotal: 1m 52s\tremaining: 2m 56s\n",
      "39:\tlearn: 0.9920039\ttest: 0.9799490\tbest: 0.9803063 (38)\ttotal: 1m 55s\tremaining: 2m 53s\n",
      "40:\tlearn: 0.9925737\ttest: 0.9817385\tbest: 0.9817385 (40)\ttotal: 1m 58s\tremaining: 2m 50s\n",
      "41:\tlearn: 0.9931442\ttest: 0.9828154\tbest: 0.9828154 (41)\ttotal: 2m 1s\tremaining: 2m 47s\n",
      "42:\tlearn: 0.9933481\ttest: 0.9831748\tbest: 0.9831748 (42)\ttotal: 2m 4s\tremaining: 2m 44s\n",
      "43:\tlearn: 0.9939195\ttest: 0.9831748\tbest: 0.9831748 (42)\ttotal: 2m 7s\tremaining: 2m 41s\n",
      "44:\tlearn: 0.9942463\ttest: 0.9835346\tbest: 0.9835346 (44)\ttotal: 2m 9s\tremaining: 2m 38s\n",
      "45:\tlearn: 0.9942871\ttest: 0.9835346\tbest: 0.9835346 (44)\ttotal: 2m 12s\tremaining: 2m 35s\n",
      "46:\tlearn: 0.9949823\ttest: 0.9838946\tbest: 0.9838946 (46)\ttotal: 2m 15s\tremaining: 2m 32s\n",
      "47:\tlearn: 0.9954327\ttest: 0.9831748\tbest: 0.9838946 (46)\ttotal: 2m 18s\tremaining: 2m 29s\n",
      "48:\tlearn: 0.9957195\ttest: 0.9842549\tbest: 0.9842549 (48)\ttotal: 2m 21s\tremaining: 2m 27s\n",
      "49:\tlearn: 0.9959654\ttest: 0.9835346\tbest: 0.9842549 (48)\ttotal: 2m 24s\tremaining: 2m 24s\n",
      "50:\tlearn: 0.9960064\ttest: 0.9842549\tbest: 0.9842549 (48)\ttotal: 2m 27s\tremaining: 2m 21s\n",
      "51:\tlearn: 0.9962115\ttest: 0.9842549\tbest: 0.9842549 (48)\ttotal: 2m 29s\tremaining: 2m 18s\n",
      "52:\tlearn: 0.9963756\ttest: 0.9838946\tbest: 0.9842549 (48)\ttotal: 2m 32s\tremaining: 2m 15s\n",
      "53:\tlearn: 0.9969094\ttest: 0.9846154\tbest: 0.9846154 (53)\ttotal: 2m 35s\tremaining: 2m 12s\n",
      "54:\tlearn: 0.9970326\ttest: 0.9842549\tbest: 0.9846154 (53)\ttotal: 2m 38s\tremaining: 2m 9s\n",
      "55:\tlearn: 0.9973615\ttest: 0.9856986\tbest: 0.9856986 (55)\ttotal: 2m 41s\tremaining: 2m 6s\n",
      "56:\tlearn: 0.9974848\ttest: 0.9856986\tbest: 0.9856986 (55)\ttotal: 2m 43s\tremaining: 2m 3s\n",
      "57:\tlearn: 0.9978140\ttest: 0.9867841\tbest: 0.9867841 (57)\ttotal: 2m 46s\tremaining: 2m\n",
      "58:\tlearn: 0.9981433\ttest: 0.9871465\tbest: 0.9871465 (58)\ttotal: 2m 49s\tremaining: 1m 57s\n",
      "59:\tlearn: 0.9983081\ttest: 0.9871465\tbest: 0.9871465 (58)\ttotal: 2m 52s\tremaining: 1m 55s\n",
      "60:\tlearn: 0.9983905\ttest: 0.9867841\tbest: 0.9871465 (58)\ttotal: 2m 55s\tremaining: 1m 52s\n",
      "61:\tlearn: 0.9985965\ttest: 0.9878721\tbest: 0.9878721 (61)\ttotal: 2m 58s\tremaining: 1m 49s\n",
      "62:\tlearn: 0.9987615\ttest: 0.9882353\tbest: 0.9882353 (62)\ttotal: 3m 1s\tremaining: 1m 46s\n",
      "63:\tlearn: 0.9989264\ttest: 0.9882353\tbest: 0.9882353 (62)\ttotal: 3m 3s\tremaining: 1m 43s\n",
      "64:\tlearn: 0.9990089\ttest: 0.9885987\tbest: 0.9885987 (64)\ttotal: 3m 6s\tremaining: 1m 40s\n",
      "65:\tlearn: 0.9989677\ttest: 0.9885987\tbest: 0.9885987 (64)\ttotal: 3m 9s\tremaining: 1m 37s\n",
      "66:\tlearn: 0.9990914\ttest: 0.9882353\tbest: 0.9885987 (64)\ttotal: 3m 12s\tremaining: 1m 34s\n",
      "67:\tlearn: 0.9991740\ttest: 0.9882353\tbest: 0.9885987 (64)\ttotal: 3m 15s\tremaining: 1m 31s\n",
      "68:\tlearn: 0.9992565\ttest: 0.9885987\tbest: 0.9885987 (64)\ttotal: 3m 18s\tremaining: 1m 28s\n",
      "69:\tlearn: 0.9993391\ttest: 0.9882353\tbest: 0.9885987 (64)\ttotal: 3m 20s\tremaining: 1m 26s\n",
      "70:\tlearn: 0.9996694\ttest: 0.9885987\tbest: 0.9885987 (64)\ttotal: 3m 23s\tremaining: 1m 23s\n",
      "71:\tlearn: 0.9997107\ttest: 0.9882353\tbest: 0.9885987 (64)\ttotal: 3m 26s\tremaining: 1m 20s\n",
      "72:\tlearn: 0.9997520\ttest: 0.9882353\tbest: 0.9885987 (64)\ttotal: 3m 29s\tremaining: 1m 17s\n",
      "73:\tlearn: 0.9997107\ttest: 0.9889625\tbest: 0.9889625 (73)\ttotal: 3m 32s\tremaining: 1m 14s\n",
      "74:\tlearn: 0.9997520\ttest: 0.9889625\tbest: 0.9889625 (73)\ttotal: 3m 35s\tremaining: 1m 11s\n",
      "75:\tlearn: 0.9997934\ttest: 0.9889625\tbest: 0.9889625 (73)\ttotal: 3m 38s\tremaining: 1m 8s\n",
      "76:\tlearn: 0.9997934\ttest: 0.9893265\tbest: 0.9893265 (76)\ttotal: 3m 40s\tremaining: 1m 5s\n",
      "77:\tlearn: 0.9997934\ttest: 0.9889625\tbest: 0.9893265 (76)\ttotal: 3m 43s\tremaining: 1m 3s\n",
      "78:\tlearn: 0.9998760\ttest: 0.9889625\tbest: 0.9893265 (76)\ttotal: 3m 46s\tremaining: 1m\n",
      "79:\tlearn: 0.9998760\ttest: 0.9889625\tbest: 0.9893265 (76)\ttotal: 3m 49s\tremaining: 57.3s\n",
      "80:\tlearn: 0.9998760\ttest: 0.9889625\tbest: 0.9893265 (76)\ttotal: 3m 52s\tremaining: 54.4s\n",
      "81:\tlearn: 0.9998760\ttest: 0.9885987\tbest: 0.9893265 (76)\ttotal: 3m 54s\tremaining: 51.6s\n",
      "82:\tlearn: 0.9998760\ttest: 0.9893265\tbest: 0.9893265 (76)\ttotal: 3m 57s\tremaining: 48.7s\n",
      "83:\tlearn: 0.9998760\ttest: 0.9889625\tbest: 0.9893265 (76)\ttotal: 4m\tremaining: 45.8s\n",
      "84:\tlearn: 0.9999173\ttest: 0.9889625\tbest: 0.9893265 (76)\ttotal: 4m 3s\tremaining: 43s\n",
      "85:\tlearn: 0.9999173\ttest: 0.9889625\tbest: 0.9893265 (76)\ttotal: 4m 6s\tremaining: 40.1s\n",
      "86:\tlearn: 0.9999173\ttest: 0.9889625\tbest: 0.9893265 (76)\ttotal: 4m 9s\tremaining: 37.2s\n",
      "87:\tlearn: 0.9999587\ttest: 0.9889625\tbest: 0.9893265 (76)\ttotal: 4m 11s\tremaining: 34.4s\n",
      "88:\tlearn: 0.9999587\ttest: 0.9889625\tbest: 0.9893265 (76)\ttotal: 4m 14s\tremaining: 31.5s\n",
      "89:\tlearn: 1.0000000\ttest: 0.9889625\tbest: 0.9893265 (76)\ttotal: 4m 17s\tremaining: 28.6s\n",
      "90:\tlearn: 1.0000000\ttest: 0.9889625\tbest: 0.9893265 (76)\ttotal: 4m 20s\tremaining: 25.8s\n",
      "91:\tlearn: 1.0000000\ttest: 0.9893265\tbest: 0.9893265 (76)\ttotal: 4m 23s\tremaining: 22.9s\n",
      "92:\tlearn: 1.0000000\ttest: 0.9893265\tbest: 0.9893265 (76)\ttotal: 4m 26s\tremaining: 20s\n",
      "93:\tlearn: 1.0000000\ttest: 0.9893265\tbest: 0.9893265 (76)\ttotal: 4m 28s\tremaining: 17.2s\n",
      "94:\tlearn: 1.0000000\ttest: 0.9893265\tbest: 0.9893265 (76)\ttotal: 4m 31s\tremaining: 14.3s\n",
      "95:\tlearn: 1.0000000\ttest: 0.9885987\tbest: 0.9893265 (76)\ttotal: 4m 34s\tremaining: 11.4s\n",
      "96:\tlearn: 1.0000000\ttest: 0.9889625\tbest: 0.9893265 (76)\ttotal: 4m 37s\tremaining: 8.58s\n",
      "97:\tlearn: 1.0000000\ttest: 0.9896907\tbest: 0.9896907 (97)\ttotal: 4m 40s\tremaining: 5.71s\n",
      "98:\tlearn: 1.0000000\ttest: 0.9893265\tbest: 0.9896907 (97)\ttotal: 4m 42s\tremaining: 2.86s\n",
      "99:\tlearn: 1.0000000\ttest: 0.9900552\tbest: 0.9900552 (99)\ttotal: 4m 45s\tremaining: 0us\n",
      "\n",
      "bestTest = 0.9900552486\n",
      "bestIteration = 99\n",
      "\n",
      "Training on fold [23/30]\n",
      "0:\tlearn: 0.8407886\ttest: 0.8200505\tbest: 0.8200505 (0)\ttotal: 3.01s\tremaining: 4m 58s\n",
      "1:\tlearn: 0.8881558\ttest: 0.8695015\tbest: 0.8695015 (1)\ttotal: 5.98s\tremaining: 4m 53s\n",
      "2:\tlearn: 0.9101894\ttest: 0.9008023\tbest: 0.9008023 (2)\ttotal: 8.94s\tremaining: 4m 48s\n",
      "3:\tlearn: 0.9225941\ttest: 0.9151559\tbest: 0.9151559 (3)\ttotal: 11.9s\tremaining: 4m 45s\n",
      "4:\tlearn: 0.9337197\ttest: 0.9231327\tbest: 0.9231327 (4)\ttotal: 14.9s\tremaining: 4m 42s\n",
      "5:\tlearn: 0.9433763\ttest: 0.9334303\tbest: 0.9334303 (5)\ttotal: 17.9s\tremaining: 4m 39s\n",
      "6:\tlearn: 0.9498254\ttest: 0.9372961\tbest: 0.9372961 (6)\ttotal: 20.8s\tremaining: 4m 36s\n",
      "7:\tlearn: 0.9551331\ttest: 0.9464156\tbest: 0.9464156 (7)\ttotal: 23.7s\tremaining: 4m 32s\n",
      "8:\tlearn: 0.9598543\ttest: 0.9518639\tbest: 0.9518639 (8)\ttotal: 26.6s\tremaining: 4m 29s\n",
      "9:\tlearn: 0.9617708\ttest: 0.9510692\tbest: 0.9518639 (8)\ttotal: 29.6s\tremaining: 4m 26s\n",
      "10:\tlearn: 0.9645298\ttest: 0.9565217\tbest: 0.9565217 (10)\ttotal: 32.5s\tremaining: 4m 22s\n",
      "11:\tlearn: 0.9672621\ttest: 0.9584688\tbest: 0.9584688 (11)\ttotal: 35.3s\tremaining: 4m 19s\n",
      "12:\tlearn: 0.9697827\ttest: 0.9600000\tbest: 0.9600000 (12)\ttotal: 38.3s\tremaining: 4m 16s\n",
      "13:\tlearn: 0.9708950\ttest: 0.9624549\tbest: 0.9624549 (13)\ttotal: 41.1s\tremaining: 4m 12s\n",
      "14:\tlearn: 0.9724288\ttest: 0.9621894\tbest: 0.9624549 (13)\ttotal: 44s\tremaining: 4m 9s\n",
      "15:\tlearn: 0.9743237\ttest: 0.9625360\tbest: 0.9625360 (15)\ttotal: 46.9s\tremaining: 4m 6s\n",
      "16:\tlearn: 0.9763996\ttest: 0.9632829\tbest: 0.9632829 (16)\ttotal: 49.7s\tremaining: 4m 2s\n",
      "17:\tlearn: 0.9774284\ttest: 0.9639769\tbest: 0.9639769 (17)\ttotal: 52.5s\tremaining: 3m 59s\n",
      "18:\tlearn: 0.9780714\ttest: 0.9654179\tbest: 0.9654179 (18)\ttotal: 55.4s\tremaining: 3m 56s\n",
      "19:\tlearn: 0.9786268\ttest: 0.9650702\tbest: 0.9654179 (18)\ttotal: 58.2s\tremaining: 3m 52s\n",
      "20:\tlearn: 0.9807442\ttest: 0.9657904\tbest: 0.9657904 (20)\ttotal: 1m 1s\tremaining: 3m 50s\n",
      "21:\tlearn: 0.9813821\ttest: 0.9668349\tbest: 0.9668349 (21)\ttotal: 1m 4s\tremaining: 3m 47s\n",
      "22:\tlearn: 0.9833266\ttest: 0.9703757\tbest: 0.9703757 (22)\ttotal: 1m 7s\tremaining: 3m 44s\n",
      "23:\tlearn: 0.9842808\ttest: 0.9699819\tbest: 0.9703757 (22)\ttotal: 1m 9s\tremaining: 3m 41s\n",
      "24:\tlearn: 0.9852096\ttest: 0.9710774\tbest: 0.9710774 (24)\ttotal: 1m 12s\tremaining: 3m 38s\n",
      "25:\tlearn: 0.9857318\ttest: 0.9721317\tbest: 0.9721317 (25)\ttotal: 1m 15s\tremaining: 3m 35s\n",
      "26:\tlearn: 0.9867841\ttest: 0.9725036\tbest: 0.9725036 (26)\ttotal: 1m 18s\tremaining: 3m 32s\n",
      "27:\tlearn: 0.9875495\ttest: 0.9735603\tbest: 0.9735603 (27)\ttotal: 1m 21s\tremaining: 3m 29s\n",
      "28:\tlearn: 0.9885584\ttest: 0.9732078\tbest: 0.9735603 (27)\ttotal: 1m 24s\tremaining: 3m 27s\n",
      "29:\tlearn: 0.9889220\ttest: 0.9735603\tbest: 0.9735603 (27)\ttotal: 1m 27s\tremaining: 3m 24s\n",
      "30:\tlearn: 0.9898122\ttest: 0.9728556\tbest: 0.9735603 (27)\ttotal: 1m 30s\tremaining: 3m 21s\n",
      "31:\tlearn: 0.9900958\ttest: 0.9721519\tbest: 0.9735603 (27)\ttotal: 1m 33s\tremaining: 3m 17s\n",
      "32:\tlearn: 0.9909474\ttest: 0.9735603\tbest: 0.9735603 (27)\ttotal: 1m 36s\tremaining: 3m 15s\n",
      "33:\tlearn: 0.9910286\ttest: 0.9735603\tbest: 0.9735603 (27)\ttotal: 1m 38s\tremaining: 3m 11s\n",
      "34:\tlearn: 0.9914754\ttest: 0.9728556\tbest: 0.9735603 (27)\ttotal: 1m 41s\tremaining: 3m 8s\n",
      "35:\tlearn: 0.9915567\ttest: 0.9739130\tbest: 0.9739130 (35)\ttotal: 1m 44s\tremaining: 3m 5s\n",
      "36:\tlearn: 0.9923702\ttest: 0.9728556\tbest: 0.9739130 (35)\ttotal: 1m 47s\tremaining: 3m 2s\n",
      "37:\tlearn: 0.9926959\ttest: 0.9735603\tbest: 0.9739130 (35)\ttotal: 1m 50s\tremaining: 2m 59s\n",
      "38:\tlearn: 0.9930627\ttest: 0.9732078\tbest: 0.9739130 (35)\ttotal: 1m 53s\tremaining: 2m 57s\n",
      "39:\tlearn: 0.9936337\ttest: 0.9732078\tbest: 0.9739130 (35)\ttotal: 1m 56s\tremaining: 2m 54s\n",
      "40:\tlearn: 0.9942463\ttest: 0.9718004\tbest: 0.9739130 (35)\ttotal: 1m 59s\tremaining: 2m 51s\n",
      "41:\tlearn: 0.9950642\ttest: 0.9739130\tbest: 0.9739130 (35)\ttotal: 2m 1s\tremaining: 2m 48s\n",
      "42:\tlearn: 0.9952689\ttest: 0.9735603\tbest: 0.9739130 (35)\ttotal: 2m 4s\tremaining: 2m 45s\n",
      "43:\tlearn: 0.9956375\ttest: 0.9742660\tbest: 0.9742660 (43)\ttotal: 2m 7s\tremaining: 2m 42s\n",
      "44:\tlearn: 0.9959654\ttest: 0.9753266\tbest: 0.9753266 (44)\ttotal: 2m 10s\tremaining: 2m 39s\n",
      "45:\tlearn: 0.9963346\ttest: 0.9746193\tbest: 0.9753266 (44)\ttotal: 2m 13s\tremaining: 2m 36s\n",
      "46:\tlearn: 0.9964987\ttest: 0.9746193\tbest: 0.9753266 (44)\ttotal: 2m 16s\tremaining: 2m 33s\n",
      "47:\tlearn: 0.9967862\ttest: 0.9742660\tbest: 0.9753266 (44)\ttotal: 2m 18s\tremaining: 2m 30s\n",
      "48:\tlearn: 0.9969505\ttest: 0.9746193\tbest: 0.9753266 (44)\ttotal: 2m 21s\tremaining: 2m 27s\n",
      "49:\tlearn: 0.9970737\ttest: 0.9753266\tbest: 0.9753266 (44)\ttotal: 2m 24s\tremaining: 2m 24s\n",
      "50:\tlearn: 0.9973204\ttest: 0.9763894\tbest: 0.9763894 (50)\ttotal: 2m 27s\tremaining: 2m 21s\n",
      "51:\tlearn: 0.9975260\ttest: 0.9756806\tbest: 0.9763894 (50)\ttotal: 2m 30s\tremaining: 2m 19s\n",
      "52:\tlearn: 0.9977728\ttest: 0.9767442\tbest: 0.9767442 (52)\ttotal: 2m 33s\tremaining: 2m 16s\n",
      "53:\tlearn: 0.9979375\ttest: 0.9778101\tbest: 0.9778101 (53)\ttotal: 2m 36s\tremaining: 2m 13s\n",
      "54:\tlearn: 0.9979786\ttest: 0.9770992\tbest: 0.9778101 (53)\ttotal: 2m 39s\tremaining: 2m 10s\n",
      "55:\tlearn: 0.9981433\ttest: 0.9774545\tbest: 0.9778101 (53)\ttotal: 2m 41s\tremaining: 2m 7s\n",
      "56:\tlearn: 0.9983905\ttest: 0.9770992\tbest: 0.9778101 (53)\ttotal: 2m 44s\tremaining: 2m 4s\n",
      "57:\tlearn: 0.9984729\ttest: 0.9774545\tbest: 0.9778101 (53)\ttotal: 2m 47s\tremaining: 2m 1s\n",
      "58:\tlearn: 0.9985965\ttest: 0.9774545\tbest: 0.9778101 (53)\ttotal: 2m 50s\tremaining: 1m 58s\n",
      "59:\tlearn: 0.9986790\ttest: 0.9770992\tbest: 0.9778101 (53)\ttotal: 2m 53s\tremaining: 1m 55s\n",
      "60:\tlearn: 0.9986790\ttest: 0.9763894\tbest: 0.9778101 (53)\ttotal: 2m 56s\tremaining: 1m 52s\n",
      "61:\tlearn: 0.9987202\ttest: 0.9763894\tbest: 0.9778101 (53)\ttotal: 2m 58s\tremaining: 1m 49s\n",
      "62:\tlearn: 0.9988439\ttest: 0.9774545\tbest: 0.9778101 (53)\ttotal: 3m 1s\tremaining: 1m 46s\n",
      "63:\tlearn: 0.9989677\ttest: 0.9778101\tbest: 0.9778101 (53)\ttotal: 3m 4s\tremaining: 1m 43s\n",
      "64:\tlearn: 0.9989677\ttest: 0.9778101\tbest: 0.9778101 (53)\ttotal: 3m 7s\tremaining: 1m 40s\n",
      "65:\tlearn: 0.9990502\ttest: 0.9774545\tbest: 0.9778101 (53)\ttotal: 3m 10s\tremaining: 1m 37s\n",
      "66:\tlearn: 0.9990914\ttest: 0.9770992\tbest: 0.9778101 (53)\ttotal: 3m 13s\tremaining: 1m 35s\n",
      "67:\tlearn: 0.9991740\ttest: 0.9770992\tbest: 0.9778101 (53)\ttotal: 3m 15s\tremaining: 1m 32s\n",
      "68:\tlearn: 0.9993803\ttest: 0.9770992\tbest: 0.9778101 (53)\ttotal: 3m 18s\tremaining: 1m 29s\n",
      "69:\tlearn: 0.9993391\ttest: 0.9778101\tbest: 0.9778101 (53)\ttotal: 3m 21s\tremaining: 1m 26s\n",
      "70:\tlearn: 0.9995868\ttest: 0.9785220\tbest: 0.9785220 (70)\ttotal: 3m 24s\tremaining: 1m 23s\n",
      "71:\tlearn: 0.9996281\ttest: 0.9792350\tbest: 0.9792350 (71)\ttotal: 3m 27s\tremaining: 1m 20s\n",
      "72:\tlearn: 0.9996694\ttest: 0.9792350\tbest: 0.9792350 (71)\ttotal: 3m 30s\tremaining: 1m 17s\n",
      "73:\tlearn: 0.9996694\ttest: 0.9795918\tbest: 0.9795918 (73)\ttotal: 3m 32s\tremaining: 1m 14s\n",
      "74:\tlearn: 0.9997107\ttest: 0.9788784\tbest: 0.9795918 (73)\ttotal: 3m 35s\tremaining: 1m 11s\n",
      "75:\tlearn: 0.9997107\ttest: 0.9799490\tbest: 0.9799490 (75)\ttotal: 3m 38s\tremaining: 1m 9s\n",
      "76:\tlearn: 0.9997520\ttest: 0.9810219\tbest: 0.9810219 (76)\ttotal: 3m 41s\tremaining: 1m 6s\n",
      "77:\tlearn: 0.9997520\ttest: 0.9806640\tbest: 0.9810219 (76)\ttotal: 3m 44s\tremaining: 1m 3s\n",
      "78:\tlearn: 0.9998347\ttest: 0.9824561\tbest: 0.9824561 (78)\ttotal: 3m 47s\tremaining: 1m\n",
      "79:\tlearn: 0.9998760\ttest: 0.9813801\tbest: 0.9824561 (78)\ttotal: 3m 50s\tremaining: 57.5s\n",
      "80:\tlearn: 0.9998760\ttest: 0.9817385\tbest: 0.9824561 (78)\ttotal: 3m 52s\tremaining: 54.6s\n",
      "81:\tlearn: 0.9999173\ttest: 0.9820972\tbest: 0.9824561 (78)\ttotal: 3m 55s\tremaining: 51.7s\n",
      "82:\tlearn: 0.9999173\ttest: 0.9820972\tbest: 0.9824561 (78)\ttotal: 3m 58s\tremaining: 48.8s\n",
      "83:\tlearn: 0.9999173\ttest: 0.9813801\tbest: 0.9824561 (78)\ttotal: 4m 1s\tremaining: 46s\n",
      "84:\tlearn: 0.9999173\ttest: 0.9813801\tbest: 0.9824561 (78)\ttotal: 4m 4s\tremaining: 43.1s\n",
      "85:\tlearn: 0.9999173\ttest: 0.9810219\tbest: 0.9824561 (78)\ttotal: 4m 6s\tremaining: 40.2s\n",
      "86:\tlearn: 0.9999173\ttest: 0.9817385\tbest: 0.9824561 (78)\ttotal: 4m 9s\tremaining: 37.3s\n",
      "87:\tlearn: 0.9999173\ttest: 0.9813801\tbest: 0.9824561 (78)\ttotal: 4m 12s\tremaining: 34.4s\n",
      "88:\tlearn: 0.9999173\ttest: 0.9813801\tbest: 0.9824561 (78)\ttotal: 4m 15s\tremaining: 31.6s\n",
      "89:\tlearn: 0.9999173\ttest: 0.9810219\tbest: 0.9824561 (78)\ttotal: 4m 18s\tremaining: 28.7s\n",
      "90:\tlearn: 0.9999173\ttest: 0.9810219\tbest: 0.9824561 (78)\ttotal: 4m 21s\tremaining: 25.8s\n",
      "91:\tlearn: 0.9999173\ttest: 0.9817385\tbest: 0.9824561 (78)\ttotal: 4m 24s\tremaining: 23s\n",
      "92:\tlearn: 0.9999173\ttest: 0.9820972\tbest: 0.9824561 (78)\ttotal: 4m 26s\tremaining: 20.1s\n",
      "93:\tlearn: 0.9999173\ttest: 0.9820972\tbest: 0.9824561 (78)\ttotal: 4m 29s\tremaining: 17.2s\n",
      "94:\tlearn: 0.9999173\ttest: 0.9817385\tbest: 0.9824561 (78)\ttotal: 4m 32s\tremaining: 14.3s\n",
      "95:\tlearn: 0.9999173\ttest: 0.9820972\tbest: 0.9824561 (78)\ttotal: 4m 35s\tremaining: 11.5s\n",
      "96:\tlearn: 0.9999173\ttest: 0.9817385\tbest: 0.9824561 (78)\ttotal: 4m 38s\tremaining: 8.61s\n",
      "97:\tlearn: 0.9999173\ttest: 0.9817385\tbest: 0.9824561 (78)\ttotal: 4m 41s\tremaining: 5.74s\n",
      "98:\tlearn: 0.9999173\ttest: 0.9817385\tbest: 0.9824561 (78)\ttotal: 4m 44s\tremaining: 2.87s\n",
      "99:\tlearn: 0.9999173\ttest: 0.9824561\tbest: 0.9824561 (78)\ttotal: 4m 47s\tremaining: 0us\n",
      "\n",
      "bestTest = 0.9824561404\n",
      "bestIteration = 78\n",
      "\n",
      "Training on fold [24/30]\n",
      "0:\tlearn: 0.8434221\ttest: 0.8167577\tbest: 0.8167577 (0)\ttotal: 2.92s\tremaining: 4m 49s\n",
      "1:\tlearn: 0.8831549\ttest: 0.8525312\tbest: 0.8525312 (1)\ttotal: 5.88s\tremaining: 4m 48s\n",
      "2:\tlearn: 0.9063612\ttest: 0.8778514\tbest: 0.8778514 (2)\ttotal: 8.79s\tremaining: 4m 44s\n",
      "3:\tlearn: 0.9216895\ttest: 0.8979442\tbest: 0.8979442 (3)\ttotal: 11.8s\tremaining: 4m 42s\n",
      "4:\tlearn: 0.9323161\ttest: 0.9052323\tbest: 0.9052323 (4)\ttotal: 14.7s\tremaining: 4m 39s\n",
      "5:\tlearn: 0.9382666\ttest: 0.9157242\tbest: 0.9157242 (5)\ttotal: 17.6s\tremaining: 4m 36s\n",
      "6:\tlearn: 0.9452906\ttest: 0.9229646\tbest: 0.9229646 (6)\ttotal: 20.6s\tremaining: 4m 33s\n",
      "7:\tlearn: 0.9521150\ttest: 0.9305707\tbest: 0.9305707 (7)\ttotal: 23.5s\tremaining: 4m 30s\n",
      "8:\tlearn: 0.9582777\ttest: 0.9379310\tbest: 0.9379310 (8)\ttotal: 26.4s\tremaining: 4m 26s\n",
      "9:\tlearn: 0.9607780\ttest: 0.9401957\tbest: 0.9401957 (9)\ttotal: 29.3s\tremaining: 4m 23s\n",
      "10:\tlearn: 0.9634966\ttest: 0.9446254\tbest: 0.9446254 (10)\ttotal: 32.1s\tremaining: 4m 19s\n",
      "11:\tlearn: 0.9658268\ttest: 0.9482447\tbest: 0.9482447 (11)\ttotal: 35s\tremaining: 4m 16s\n",
      "12:\tlearn: 0.9676246\ttest: 0.9518987\tbest: 0.9518987 (12)\ttotal: 38s\tremaining: 4m 14s\n",
      "13:\tlearn: 0.9701136\ttest: 0.9523810\tbest: 0.9523810 (13)\ttotal: 41s\tremaining: 4m 11s\n",
      "14:\tlearn: 0.9720458\ttest: 0.9567723\tbest: 0.9567723 (14)\ttotal: 43.9s\tremaining: 4m 9s\n",
      "15:\tlearn: 0.9739771\ttest: 0.9589041\tbest: 0.9589041 (15)\ttotal: 46.8s\tremaining: 4m 5s\n",
      "16:\tlearn: 0.9751611\ttest: 0.9599423\tbest: 0.9599423 (16)\ttotal: 49.8s\tremaining: 4m 2s\n",
      "17:\tlearn: 0.9760843\ttest: 0.9595960\tbest: 0.9599423 (16)\ttotal: 52.6s\tremaining: 3m 59s\n",
      "18:\tlearn: 0.9772515\ttest: 0.9600576\tbest: 0.9600576 (18)\ttotal: 55.5s\tremaining: 3m 56s\n",
      "19:\tlearn: 0.9785526\ttest: 0.9636036\tbest: 0.9636036 (19)\ttotal: 58.3s\tremaining: 3m 53s\n",
      "20:\tlearn: 0.9799083\ttest: 0.9650954\tbest: 0.9650954 (20)\ttotal: 1m 1s\tremaining: 3m 49s\n",
      "21:\tlearn: 0.9806357\ttest: 0.9637082\tbest: 0.9650954 (20)\ttotal: 1m 3s\tremaining: 3m 46s\n",
      "22:\tlearn: 0.9820710\ttest: 0.9633621\tbest: 0.9650954 (20)\ttotal: 1m 6s\tremaining: 3m 43s\n",
      "23:\tlearn: 0.9823505\ttest: 0.9657904\tbest: 0.9657904 (23)\ttotal: 1m 9s\tremaining: 3m 40s\n",
      "24:\tlearn: 0.9826604\ttest: 0.9671836\tbest: 0.9671836 (24)\ttotal: 1m 12s\tremaining: 3m 37s\n",
      "25:\tlearn: 0.9832702\ttest: 0.9664865\tbest: 0.9671836 (24)\ttotal: 1m 15s\tremaining: 3m 34s\n",
      "26:\tlearn: 0.9845214\ttest: 0.9678816\tbest: 0.9678816 (26)\ttotal: 1m 18s\tremaining: 3m 31s\n",
      "27:\tlearn: 0.9858868\ttest: 0.9689306\tbest: 0.9689306 (27)\ttotal: 1m 21s\tremaining: 3m 28s\n",
      "28:\tlearn: 0.9862969\ttest: 0.9710355\tbest: 0.9710355 (28)\ttotal: 1m 24s\tremaining: 3m 25s\n",
      "29:\tlearn: 0.9869409\ttest: 0.9710355\tbest: 0.9710355 (28)\ttotal: 1m 26s\tremaining: 3m 22s\n",
      "30:\tlearn: 0.9879931\ttest: 0.9721519\tbest: 0.9721519 (30)\ttotal: 1m 29s\tremaining: 3m 19s\n",
      "31:\tlearn: 0.9881949\ttest: 0.9725036\tbest: 0.9725036 (31)\ttotal: 1m 32s\tremaining: 3m 16s\n",
      "32:\tlearn: 0.9890838\ttest: 0.9739130\tbest: 0.9739130 (32)\ttotal: 1m 35s\tremaining: 3m 13s\n",
      "33:\tlearn: 0.9890029\ttest: 0.9739130\tbest: 0.9739130 (32)\ttotal: 1m 38s\tremaining: 3m 10s\n",
      "34:\tlearn: 0.9892860\ttest: 0.9739130\tbest: 0.9739130 (32)\ttotal: 1m 41s\tremaining: 3m 7s\n",
      "35:\tlearn: 0.9900552\ttest: 0.9739130\tbest: 0.9739130 (32)\ttotal: 1m 43s\tremaining: 3m 4s\n",
      "36:\tlearn: 0.9902579\ttest: 0.9746193\tbest: 0.9746193 (36)\ttotal: 1m 46s\tremaining: 3m 1s\n",
      "37:\tlearn: 0.9908257\ttest: 0.9753266\tbest: 0.9753266 (37)\ttotal: 1m 49s\tremaining: 2m 58s\n",
      "38:\tlearn: 0.9913129\ttest: 0.9756806\tbest: 0.9756806 (38)\ttotal: 1m 52s\tremaining: 2m 55s\n",
      "39:\tlearn: 0.9917193\ttest: 0.9760349\tbest: 0.9760349 (39)\ttotal: 1m 55s\tremaining: 2m 52s\n",
      "40:\tlearn: 0.9921667\ttest: 0.9767442\tbest: 0.9767442 (40)\ttotal: 1m 58s\tremaining: 2m 49s\n",
      "41:\tlearn: 0.9926959\ttest: 0.9763894\tbest: 0.9767442 (40)\ttotal: 2m\tremaining: 2m 46s\n",
      "42:\tlearn: 0.9931034\ttest: 0.9760349\tbest: 0.9767442 (40)\ttotal: 2m 3s\tremaining: 2m 44s\n",
      "43:\tlearn: 0.9935929\ttest: 0.9770992\tbest: 0.9770992 (43)\ttotal: 2m 6s\tremaining: 2m 41s\n",
      "44:\tlearn: 0.9937970\ttest: 0.9774545\tbest: 0.9774545 (44)\ttotal: 2m 9s\tremaining: 2m 38s\n",
      "45:\tlearn: 0.9944915\ttest: 0.9770992\tbest: 0.9774545 (44)\ttotal: 2m 12s\tremaining: 2m 35s\n",
      "46:\tlearn: 0.9950642\ttest: 0.9767442\tbest: 0.9774545 (44)\ttotal: 2m 15s\tremaining: 2m 32s\n",
      "47:\tlearn: 0.9955556\ttest: 0.9781659\tbest: 0.9781659 (47)\ttotal: 2m 18s\tremaining: 2m 29s\n",
      "48:\tlearn: 0.9960064\ttest: 0.9792350\tbest: 0.9792350 (48)\ttotal: 2m 21s\tremaining: 2m 26s\n",
      "49:\tlearn: 0.9962525\ttest: 0.9785220\tbest: 0.9792350 (48)\ttotal: 2m 23s\tremaining: 2m 23s\n",
      "50:\tlearn: 0.9962936\ttest: 0.9781659\tbest: 0.9792350 (48)\ttotal: 2m 26s\tremaining: 2m 20s\n",
      "51:\tlearn: 0.9964577\ttest: 0.9778101\tbest: 0.9792350 (48)\ttotal: 2m 29s\tremaining: 2m 18s\n",
      "52:\tlearn: 0.9967451\ttest: 0.9795918\tbest: 0.9795918 (52)\ttotal: 2m 32s\tremaining: 2m 15s\n",
      "53:\tlearn: 0.9969505\ttest: 0.9788784\tbest: 0.9795918 (52)\ttotal: 2m 35s\tremaining: 2m 12s\n",
      "54:\tlearn: 0.9972792\ttest: 0.9792350\tbest: 0.9795918 (52)\ttotal: 2m 38s\tremaining: 2m 9s\n",
      "55:\tlearn: 0.9974848\ttest: 0.9792350\tbest: 0.9795918 (52)\ttotal: 2m 41s\tremaining: 2m 6s\n",
      "56:\tlearn: 0.9978963\ttest: 0.9799490\tbest: 0.9799490 (56)\ttotal: 2m 43s\tremaining: 2m 3s\n",
      "57:\tlearn: 0.9981022\ttest: 0.9795918\tbest: 0.9799490 (56)\ttotal: 2m 46s\tremaining: 2m\n",
      "58:\tlearn: 0.9982257\ttest: 0.9792350\tbest: 0.9799490 (56)\ttotal: 2m 49s\tremaining: 1m 57s\n",
      "59:\tlearn: 0.9982669\ttest: 0.9795918\tbest: 0.9799490 (56)\ttotal: 2m 52s\tremaining: 1m 54s\n",
      "60:\tlearn: 0.9982669\ttest: 0.9799490\tbest: 0.9799490 (56)\ttotal: 2m 55s\tremaining: 1m 51s\n",
      "61:\tlearn: 0.9985553\ttest: 0.9795918\tbest: 0.9799490 (56)\ttotal: 2m 58s\tremaining: 1m 49s\n",
      "62:\tlearn: 0.9987202\ttest: 0.9795918\tbest: 0.9799490 (56)\ttotal: 3m\tremaining: 1m 46s\n",
      "63:\tlearn: 0.9988027\ttest: 0.9803063\tbest: 0.9803063 (63)\ttotal: 3m 3s\tremaining: 1m 43s\n",
      "64:\tlearn: 0.9990089\ttest: 0.9799490\tbest: 0.9803063 (63)\ttotal: 3m 6s\tremaining: 1m 40s\n",
      "65:\tlearn: 0.9989677\ttest: 0.9799490\tbest: 0.9803063 (63)\ttotal: 3m 9s\tremaining: 1m 37s\n",
      "66:\tlearn: 0.9990502\ttest: 0.9799490\tbest: 0.9803063 (63)\ttotal: 3m 11s\tremaining: 1m 34s\n",
      "67:\tlearn: 0.9990914\ttest: 0.9799490\tbest: 0.9803063 (63)\ttotal: 3m 14s\tremaining: 1m 31s\n",
      "68:\tlearn: 0.9992978\ttest: 0.9806640\tbest: 0.9806640 (68)\ttotal: 3m 17s\tremaining: 1m 28s\n",
      "69:\tlearn: 0.9992978\ttest: 0.9817385\tbest: 0.9817385 (69)\ttotal: 3m 20s\tremaining: 1m 25s\n",
      "70:\tlearn: 0.9993803\ttest: 0.9813801\tbest: 0.9817385 (69)\ttotal: 3m 23s\tremaining: 1m 23s\n",
      "71:\tlearn: 0.9995455\ttest: 0.9813801\tbest: 0.9817385 (69)\ttotal: 3m 26s\tremaining: 1m 20s\n",
      "72:\tlearn: 0.9997107\ttest: 0.9817385\tbest: 0.9817385 (69)\ttotal: 3m 29s\tremaining: 1m 17s\n",
      "73:\tlearn: 0.9997107\ttest: 0.9810219\tbest: 0.9817385 (69)\ttotal: 3m 31s\tremaining: 1m 14s\n",
      "74:\tlearn: 0.9997520\ttest: 0.9813801\tbest: 0.9817385 (69)\ttotal: 3m 34s\tremaining: 1m 11s\n",
      "75:\tlearn: 0.9997520\ttest: 0.9813801\tbest: 0.9817385 (69)\ttotal: 3m 37s\tremaining: 1m 8s\n",
      "76:\tlearn: 0.9998760\ttest: 0.9806640\tbest: 0.9817385 (69)\ttotal: 3m 40s\tremaining: 1m 5s\n",
      "77:\tlearn: 0.9998347\ttest: 0.9810219\tbest: 0.9817385 (69)\ttotal: 3m 43s\tremaining: 1m 2s\n",
      "78:\tlearn: 0.9998760\ttest: 0.9810219\tbest: 0.9817385 (69)\ttotal: 3m 45s\tremaining: 1m\n",
      "79:\tlearn: 0.9998760\ttest: 0.9817385\tbest: 0.9817385 (69)\ttotal: 3m 48s\tremaining: 57.2s\n",
      "80:\tlearn: 0.9998760\ttest: 0.9810219\tbest: 0.9817385 (69)\ttotal: 3m 51s\tremaining: 54.4s\n",
      "81:\tlearn: 0.9999173\ttest: 0.9806640\tbest: 0.9817385 (69)\ttotal: 3m 54s\tremaining: 51.5s\n",
      "82:\tlearn: 0.9999173\ttest: 0.9806640\tbest: 0.9817385 (69)\ttotal: 3m 57s\tremaining: 48.6s\n",
      "83:\tlearn: 0.9999587\ttest: 0.9803063\tbest: 0.9817385 (69)\ttotal: 4m\tremaining: 45.8s\n",
      "84:\tlearn: 0.9999587\ttest: 0.9813801\tbest: 0.9817385 (69)\ttotal: 4m 3s\tremaining: 42.9s\n",
      "85:\tlearn: 0.9999587\ttest: 0.9810219\tbest: 0.9817385 (69)\ttotal: 4m 5s\tremaining: 40s\n",
      "86:\tlearn: 0.9999587\ttest: 0.9813801\tbest: 0.9817385 (69)\ttotal: 4m 8s\tremaining: 37.2s\n",
      "87:\tlearn: 0.9999587\ttest: 0.9817385\tbest: 0.9817385 (69)\ttotal: 4m 11s\tremaining: 34.3s\n",
      "88:\tlearn: 0.9999587\ttest: 0.9817385\tbest: 0.9817385 (69)\ttotal: 4m 14s\tremaining: 31.4s\n",
      "89:\tlearn: 0.9999587\ttest: 0.9817385\tbest: 0.9817385 (69)\ttotal: 4m 17s\tremaining: 28.6s\n",
      "90:\tlearn: 0.9999587\ttest: 0.9810219\tbest: 0.9817385 (69)\ttotal: 4m 20s\tremaining: 25.7s\n",
      "91:\tlearn: 1.0000000\ttest: 0.9817385\tbest: 0.9817385 (69)\ttotal: 4m 23s\tremaining: 22.9s\n",
      "92:\tlearn: 1.0000000\ttest: 0.9810219\tbest: 0.9817385 (69)\ttotal: 4m 25s\tremaining: 20s\n",
      "93:\tlearn: 1.0000000\ttest: 0.9817385\tbest: 0.9817385 (69)\ttotal: 4m 28s\tremaining: 17.2s\n",
      "94:\tlearn: 1.0000000\ttest: 0.9820972\tbest: 0.9820972 (94)\ttotal: 4m 31s\tremaining: 14.3s\n",
      "95:\tlearn: 1.0000000\ttest: 0.9824561\tbest: 0.9824561 (95)\ttotal: 4m 34s\tremaining: 11.4s\n",
      "96:\tlearn: 1.0000000\ttest: 0.9828154\tbest: 0.9828154 (96)\ttotal: 4m 37s\tremaining: 8.59s\n",
      "97:\tlearn: 1.0000000\ttest: 0.9828154\tbest: 0.9828154 (96)\ttotal: 4m 40s\tremaining: 5.72s\n",
      "98:\tlearn: 1.0000000\ttest: 0.9831748\tbest: 0.9831748 (98)\ttotal: 4m 43s\tremaining: 2.86s\n",
      "99:\tlearn: 1.0000000\ttest: 0.9828154\tbest: 0.9831748 (98)\ttotal: 4m 46s\tremaining: 0us\n",
      "\n",
      "bestTest = 0.9831748354\n",
      "bestIteration = 98\n",
      "\n",
      "Training on fold [25/30]\n",
      "0:\tlearn: 0.8446449\ttest: 0.8332125\tbest: 0.8332125 (0)\ttotal: 3.02s\tremaining: 4m 58s\n",
      "1:\tlearn: 0.8899397\ttest: 0.8775881\tbest: 0.8775881 (1)\ttotal: 5.94s\tremaining: 4m 51s\n",
      "2:\tlearn: 0.9065815\ttest: 0.8939724\tbest: 0.8939724 (2)\ttotal: 8.89s\tremaining: 4m 47s\n",
      "3:\tlearn: 0.9228195\ttest: 0.9071715\tbest: 0.9071715 (3)\ttotal: 11.8s\tremaining: 4m 44s\n",
      "4:\tlearn: 0.9324583\ttest: 0.9217897\tbest: 0.9217897 (4)\ttotal: 14.8s\tremaining: 4m 42s\n",
      "5:\tlearn: 0.9399675\ttest: 0.9346954\tbest: 0.9346954 (5)\ttotal: 17.9s\tremaining: 4m 40s\n",
      "6:\tlearn: 0.9462907\ttest: 0.9358133\tbest: 0.9358133 (6)\ttotal: 20.9s\tremaining: 4m 37s\n",
      "7:\tlearn: 0.9520451\ttest: 0.9398986\tbest: 0.9398986 (7)\ttotal: 23.9s\tremaining: 4m 34s\n",
      "8:\tlearn: 0.9567889\ttest: 0.9449275\tbest: 0.9449275 (8)\ttotal: 26.8s\tremaining: 4m 30s\n",
      "9:\tlearn: 0.9603014\ttest: 0.9450470\tbest: 0.9450470 (9)\ttotal: 29.7s\tremaining: 4m 27s\n",
      "10:\tlearn: 0.9653361\ttest: 0.9475198\tbest: 0.9475198 (10)\ttotal: 32.8s\tremaining: 4m 25s\n",
      "11:\tlearn: 0.9690189\ttest: 0.9525862\tbest: 0.9525862 (11)\ttotal: 35.7s\tremaining: 4m 22s\n",
      "12:\tlearn: 0.9707938\ttest: 0.9543001\tbest: 0.9543001 (12)\ttotal: 38.7s\tremaining: 4m 18s\n",
      "13:\tlearn: 0.9723918\ttest: 0.9571171\tbest: 0.9571171 (13)\ttotal: 41.6s\tremaining: 4m 15s\n",
      "14:\tlearn: 0.9726670\ttest: 0.9564278\tbest: 0.9571171 (13)\ttotal: 44.4s\tremaining: 4m 11s\n",
      "15:\tlearn: 0.9744648\ttest: 0.9558031\tbest: 0.9571171 (13)\ttotal: 47.3s\tremaining: 4m 8s\n",
      "16:\tlearn: 0.9756177\ttest: 0.9589928\tbest: 0.9589928 (16)\ttotal: 50.2s\tremaining: 4m 5s\n",
      "17:\tlearn: 0.9767084\ttest: 0.9597412\tbest: 0.9597412 (17)\ttotal: 53.2s\tremaining: 4m 2s\n",
      "18:\tlearn: 0.9780282\ttest: 0.9583632\tbest: 0.9597412 (17)\ttotal: 56.1s\tremaining: 3m 59s\n",
      "19:\tlearn: 0.9793865\ttest: 0.9611790\tbest: 0.9611790 (19)\ttotal: 59.1s\tremaining: 3m 56s\n",
      "20:\tlearn: 0.9802616\ttest: 0.9636036\tbest: 0.9636036 (20)\ttotal: 1m 2s\tremaining: 3m 53s\n",
      "21:\tlearn: 0.9810186\ttest: 0.9642986\tbest: 0.9642986 (21)\ttotal: 1m 4s\tremaining: 3m 50s\n",
      "22:\tlearn: 0.9824433\ttest: 0.9650450\tbest: 0.9650450 (22)\ttotal: 1m 7s\tremaining: 3m 47s\n",
      "23:\tlearn: 0.9830826\ttest: 0.9664381\tbest: 0.9664381 (23)\ttotal: 1m 11s\tremaining: 3m 45s\n",
      "24:\tlearn: 0.9844112\ttest: 0.9668110\tbest: 0.9668110 (24)\ttotal: 1m 14s\tremaining: 3m 42s\n",
      "25:\tlearn: 0.9850929\ttest: 0.9678584\tbest: 0.9678584 (25)\ttotal: 1m 17s\tremaining: 3m 39s\n",
      "26:\tlearn: 0.9858156\ttest: 0.9689082\tbest: 0.9689082 (26)\ttotal: 1m 20s\tremaining: 3m 36s\n",
      "27:\tlearn: 0.9862176\ttest: 0.9682081\tbest: 0.9689082 (26)\ttotal: 1m 22s\tremaining: 3m 33s\n",
      "28:\tlearn: 0.9869049\ttest: 0.9689978\tbest: 0.9689978 (28)\ttotal: 1m 25s\tremaining: 3m 30s\n",
      "29:\tlearn: 0.9874689\ttest: 0.9696970\tbest: 0.9696970 (29)\ttotal: 1m 28s\tremaining: 3m 27s\n",
      "30:\tlearn: 0.9885987\ttest: 0.9707476\tbest: 0.9707476 (30)\ttotal: 1m 32s\tremaining: 3m 24s\n",
      "31:\tlearn: 0.9894479\ttest: 0.9710983\tbest: 0.9710983 (31)\ttotal: 1m 34s\tremaining: 3m 21s\n",
      "32:\tlearn: 0.9900528\ttest: 0.9717186\tbest: 0.9717186 (32)\ttotal: 1m 37s\tremaining: 3m 18s\n",
      "33:\tlearn: 0.9904177\ttest: 0.9706628\tbest: 0.9717186 (32)\ttotal: 1m 40s\tremaining: 3m 15s\n",
      "34:\tlearn: 0.9910286\ttest: 0.9725036\tbest: 0.9725036 (34)\ttotal: 1m 43s\tremaining: 3m 12s\n",
      "35:\tlearn: 0.9915160\ttest: 0.9732078\tbest: 0.9732078 (35)\ttotal: 1m 46s\tremaining: 3m 9s\n",
      "36:\tlearn: 0.9918006\ttest: 0.9725036\tbest: 0.9732078 (35)\ttotal: 1m 49s\tremaining: 3m 6s\n",
      "37:\tlearn: 0.9923295\ttest: 0.9728556\tbest: 0.9732078 (35)\ttotal: 1m 52s\tremaining: 3m 3s\n",
      "38:\tlearn: 0.9927367\ttest: 0.9739130\tbest: 0.9739130 (38)\ttotal: 1m 55s\tremaining: 3m\n",
      "39:\tlearn: 0.9933481\ttest: 0.9739130\tbest: 0.9739130 (38)\ttotal: 1m 58s\tremaining: 2m 57s\n",
      "40:\tlearn: 0.9936337\ttest: 0.9746193\tbest: 0.9746193 (40)\ttotal: 2m 1s\tremaining: 2m 54s\n",
      "41:\tlearn: 0.9941237\ttest: 0.9749728\tbest: 0.9749728 (41)\ttotal: 2m 4s\tremaining: 2m 51s\n",
      "42:\tlearn: 0.9944915\ttest: 0.9756806\tbest: 0.9756806 (42)\ttotal: 2m 7s\tremaining: 2m 48s\n",
      "43:\tlearn: 0.9946550\ttest: 0.9763894\tbest: 0.9763894 (43)\ttotal: 2m 9s\tremaining: 2m 45s\n",
      "44:\tlearn: 0.9950642\ttest: 0.9756806\tbest: 0.9763894 (43)\ttotal: 2m 12s\tremaining: 2m 42s\n",
      "45:\tlearn: 0.9954327\ttest: 0.9756806\tbest: 0.9763894 (43)\ttotal: 2m 15s\tremaining: 2m 39s\n",
      "46:\tlearn: 0.9958424\ttest: 0.9760349\tbest: 0.9763894 (43)\ttotal: 2m 18s\tremaining: 2m 36s\n",
      "47:\tlearn: 0.9962115\ttest: 0.9763894\tbest: 0.9763894 (43)\ttotal: 2m 21s\tremaining: 2m 33s\n",
      "48:\tlearn: 0.9966630\ttest: 0.9760349\tbest: 0.9763894 (43)\ttotal: 2m 24s\tremaining: 2m 30s\n",
      "49:\tlearn: 0.9969505\ttest: 0.9760349\tbest: 0.9763894 (43)\ttotal: 2m 27s\tremaining: 2m 27s\n",
      "50:\tlearn: 0.9970737\ttest: 0.9753266\tbest: 0.9763894 (43)\ttotal: 2m 30s\tremaining: 2m 24s\n",
      "51:\tlearn: 0.9972792\ttest: 0.9756806\tbest: 0.9763894 (43)\ttotal: 2m 33s\tremaining: 2m 21s\n",
      "52:\tlearn: 0.9976082\ttest: 0.9756806\tbest: 0.9763894 (43)\ttotal: 2m 36s\tremaining: 2m 18s\n",
      "53:\tlearn: 0.9978551\ttest: 0.9767442\tbest: 0.9767442 (53)\ttotal: 2m 39s\tremaining: 2m 15s\n",
      "54:\tlearn: 0.9979786\ttest: 0.9763894\tbest: 0.9767442 (53)\ttotal: 2m 42s\tremaining: 2m 12s\n",
      "55:\tlearn: 0.9981845\ttest: 0.9770992\tbest: 0.9770992 (55)\ttotal: 2m 45s\tremaining: 2m 9s\n",
      "56:\tlearn: 0.9983081\ttest: 0.9770992\tbest: 0.9770992 (55)\ttotal: 2m 47s\tremaining: 2m 6s\n",
      "57:\tlearn: 0.9984729\ttest: 0.9778101\tbest: 0.9778101 (57)\ttotal: 2m 50s\tremaining: 2m 3s\n",
      "58:\tlearn: 0.9985553\ttest: 0.9778101\tbest: 0.9778101 (57)\ttotal: 2m 53s\tremaining: 2m\n",
      "59:\tlearn: 0.9985553\ttest: 0.9781659\tbest: 0.9781659 (59)\ttotal: 2m 56s\tremaining: 1m 57s\n",
      "60:\tlearn: 0.9986790\ttest: 0.9778101\tbest: 0.9781659 (59)\ttotal: 2m 59s\tremaining: 1m 54s\n",
      "61:\tlearn: 0.9987615\ttest: 0.9785220\tbest: 0.9785220 (61)\ttotal: 3m 2s\tremaining: 1m 51s\n",
      "62:\tlearn: 0.9989677\ttest: 0.9781659\tbest: 0.9785220 (61)\ttotal: 3m 5s\tremaining: 1m 48s\n",
      "63:\tlearn: 0.9990502\ttest: 0.9781659\tbest: 0.9785220 (61)\ttotal: 3m 8s\tremaining: 1m 45s\n",
      "64:\tlearn: 0.9990502\ttest: 0.9781659\tbest: 0.9785220 (61)\ttotal: 3m 11s\tremaining: 1m 42s\n",
      "65:\tlearn: 0.9991327\ttest: 0.9792350\tbest: 0.9792350 (65)\ttotal: 3m 13s\tremaining: 1m 39s\n",
      "66:\tlearn: 0.9992565\ttest: 0.9803063\tbest: 0.9803063 (66)\ttotal: 3m 16s\tremaining: 1m 36s\n",
      "67:\tlearn: 0.9993391\ttest: 0.9799490\tbest: 0.9803063 (66)\ttotal: 3m 19s\tremaining: 1m 33s\n",
      "68:\tlearn: 0.9993803\ttest: 0.9792350\tbest: 0.9803063 (66)\ttotal: 3m 22s\tremaining: 1m 30s\n",
      "69:\tlearn: 0.9994216\ttest: 0.9792350\tbest: 0.9803063 (66)\ttotal: 3m 25s\tremaining: 1m 27s\n",
      "70:\tlearn: 0.9995042\ttest: 0.9799490\tbest: 0.9803063 (66)\ttotal: 3m 27s\tremaining: 1m 24s\n",
      "71:\tlearn: 0.9995868\ttest: 0.9799490\tbest: 0.9803063 (66)\ttotal: 3m 30s\tremaining: 1m 21s\n",
      "72:\tlearn: 0.9996281\ttest: 0.9803063\tbest: 0.9803063 (66)\ttotal: 3m 33s\tremaining: 1m 18s\n",
      "73:\tlearn: 0.9997107\ttest: 0.9813801\tbest: 0.9813801 (73)\ttotal: 3m 36s\tremaining: 1m 15s\n",
      "74:\tlearn: 0.9997520\ttest: 0.9817385\tbest: 0.9817385 (74)\ttotal: 3m 38s\tremaining: 1m 12s\n",
      "75:\tlearn: 0.9997520\ttest: 0.9817385\tbest: 0.9817385 (74)\ttotal: 3m 41s\tremaining: 1m 9s\n",
      "76:\tlearn: 0.9997520\ttest: 0.9813801\tbest: 0.9817385 (74)\ttotal: 3m 44s\tremaining: 1m 6s\n",
      "77:\tlearn: 0.9998760\ttest: 0.9813801\tbest: 0.9817385 (74)\ttotal: 3m 46s\tremaining: 1m 4s\n",
      "78:\tlearn: 0.9998760\ttest: 0.9817385\tbest: 0.9817385 (74)\ttotal: 3m 49s\tremaining: 1m 1s\n",
      "79:\tlearn: 0.9998760\ttest: 0.9817385\tbest: 0.9817385 (74)\ttotal: 3m 52s\tremaining: 58.2s\n",
      "80:\tlearn: 0.9999173\ttest: 0.9817385\tbest: 0.9817385 (74)\ttotal: 3m 55s\tremaining: 55.2s\n",
      "81:\tlearn: 0.9999587\ttest: 0.9813801\tbest: 0.9817385 (74)\ttotal: 3m 58s\tremaining: 52.3s\n",
      "82:\tlearn: 0.9999173\ttest: 0.9810219\tbest: 0.9817385 (74)\ttotal: 4m\tremaining: 49.3s\n",
      "83:\tlearn: 0.9998760\ttest: 0.9820972\tbest: 0.9820972 (83)\ttotal: 4m 3s\tremaining: 46.4s\n",
      "84:\tlearn: 0.9999587\ttest: 0.9817385\tbest: 0.9820972 (83)\ttotal: 4m 6s\tremaining: 43.5s\n",
      "85:\tlearn: 0.9999587\ttest: 0.9817385\tbest: 0.9820972 (83)\ttotal: 4m 8s\tremaining: 40.5s\n",
      "86:\tlearn: 0.9999587\ttest: 0.9817385\tbest: 0.9820972 (83)\ttotal: 4m 11s\tremaining: 37.6s\n",
      "87:\tlearn: 0.9999587\ttest: 0.9824561\tbest: 0.9824561 (87)\ttotal: 4m 14s\tremaining: 34.7s\n",
      "88:\tlearn: 0.9999587\ttest: 0.9820972\tbest: 0.9824561 (87)\ttotal: 4m 17s\tremaining: 31.8s\n",
      "89:\tlearn: 1.0000000\ttest: 0.9824561\tbest: 0.9824561 (87)\ttotal: 4m 20s\tremaining: 28.9s\n",
      "90:\tlearn: 1.0000000\ttest: 0.9828154\tbest: 0.9828154 (90)\ttotal: 4m 22s\tremaining: 26s\n",
      "91:\tlearn: 1.0000000\ttest: 0.9838946\tbest: 0.9838946 (91)\ttotal: 4m 25s\tremaining: 23.1s\n",
      "92:\tlearn: 1.0000000\ttest: 0.9828154\tbest: 0.9838946 (91)\ttotal: 4m 28s\tremaining: 20.2s\n",
      "93:\tlearn: 1.0000000\ttest: 0.9820972\tbest: 0.9838946 (91)\ttotal: 4m 31s\tremaining: 17.3s\n",
      "94:\tlearn: 1.0000000\ttest: 0.9835346\tbest: 0.9838946 (91)\ttotal: 4m 33s\tremaining: 14.4s\n",
      "95:\tlearn: 1.0000000\ttest: 0.9831748\tbest: 0.9838946 (91)\ttotal: 4m 36s\tremaining: 11.5s\n",
      "96:\tlearn: 1.0000000\ttest: 0.9828154\tbest: 0.9838946 (91)\ttotal: 4m 39s\tremaining: 8.64s\n",
      "97:\tlearn: 1.0000000\ttest: 0.9835346\tbest: 0.9838946 (91)\ttotal: 4m 42s\tremaining: 5.76s\n",
      "98:\tlearn: 1.0000000\ttest: 0.9838946\tbest: 0.9838946 (91)\ttotal: 4m 44s\tremaining: 2.88s\n",
      "99:\tlearn: 1.0000000\ttest: 0.9838946\tbest: 0.9838946 (91)\ttotal: 4m 47s\tremaining: 0us\n",
      "\n",
      "bestTest = 0.9838945827\n",
      "bestIteration = 91\n",
      "\n",
      "Training on fold [26/30]\n",
      "0:\tlearn: 0.8498277\ttest: 0.8391010\tbest: 0.8391010 (0)\ttotal: 2.83s\tremaining: 4m 39s\n",
      "1:\tlearn: 0.8899720\ttest: 0.8730159\tbest: 0.8730159 (1)\ttotal: 5.76s\tremaining: 4m 42s\n",
      "2:\tlearn: 0.9112102\ttest: 0.8954463\tbest: 0.8954463 (2)\ttotal: 8.58s\tremaining: 4m 37s\n",
      "3:\tlearn: 0.9190782\ttest: 0.9023052\tbest: 0.9023052 (3)\ttotal: 11.4s\tremaining: 4m 32s\n",
      "4:\tlearn: 0.9325248\ttest: 0.9157242\tbest: 0.9157242 (4)\ttotal: 14.3s\tremaining: 4m 30s\n",
      "5:\tlearn: 0.9418873\ttest: 0.9275887\tbest: 0.9275887 (5)\ttotal: 17.1s\tremaining: 4m 28s\n",
      "6:\tlearn: 0.9480420\ttest: 0.9363242\tbest: 0.9363242 (6)\ttotal: 20s\tremaining: 4m 25s\n",
      "7:\tlearn: 0.9523848\ttest: 0.9398986\tbest: 0.9398986 (7)\ttotal: 22.8s\tremaining: 4m 22s\n",
      "8:\tlearn: 0.9565534\ttest: 0.9418982\tbest: 0.9418982 (8)\ttotal: 25.7s\tremaining: 4m 19s\n",
      "9:\tlearn: 0.9599741\ttest: 0.9447853\tbest: 0.9447853 (9)\ttotal: 28.5s\tremaining: 4m 16s\n",
      "10:\tlearn: 0.9634205\ttest: 0.9499820\tbest: 0.9499820 (10)\ttotal: 31.4s\tremaining: 4m 13s\n",
      "11:\tlearn: 0.9663530\ttest: 0.9521755\tbest: 0.9521755 (11)\ttotal: 34.3s\tremaining: 4m 11s\n",
      "12:\tlearn: 0.9686667\ttest: 0.9536138\tbest: 0.9536138 (12)\ttotal: 37.1s\tremaining: 4m 8s\n",
      "13:\tlearn: 0.9714701\ttest: 0.9561151\tbest: 0.9561151 (13)\ttotal: 39.9s\tremaining: 4m 5s\n",
      "14:\tlearn: 0.9736619\ttest: 0.9578682\tbest: 0.9578682 (14)\ttotal: 42.8s\tremaining: 4m 2s\n",
      "15:\tlearn: 0.9755130\ttest: 0.9607207\tbest: 0.9607207 (15)\ttotal: 45.8s\tremaining: 4m\n",
      "16:\tlearn: 0.9761452\ttest: 0.9614136\tbest: 0.9614136 (16)\ttotal: 48.8s\tremaining: 3m 58s\n",
      "17:\tlearn: 0.9764615\ttest: 0.9610671\tbest: 0.9614136 (16)\ttotal: 51.6s\tremaining: 3m 55s\n",
      "18:\tlearn: 0.9776050\ttest: 0.9621622\tbest: 0.9621622 (18)\ttotal: 54.6s\tremaining: 3m 52s\n",
      "19:\tlearn: 0.9785439\ttest: 0.9614692\tbest: 0.9621622 (18)\ttotal: 57.4s\tremaining: 3m 49s\n",
      "20:\tlearn: 0.9798271\ttest: 0.9611231\tbest: 0.9621622 (18)\ttotal: 1m\tremaining: 3m 46s\n",
      "21:\tlearn: 0.9811642\ttest: 0.9637082\tbest: 0.9637082 (21)\ttotal: 1m 3s\tremaining: 3m 43s\n",
      "22:\tlearn: 0.9820014\ttest: 0.9647482\tbest: 0.9647482 (22)\ttotal: 1m 5s\tremaining: 3m 40s\n",
      "23:\tlearn: 0.9830495\ttest: 0.9661383\tbest: 0.9661383 (23)\ttotal: 1m 8s\tremaining: 3m 37s\n",
      "24:\tlearn: 0.9845352\ttest: 0.9676026\tbest: 0.9676026 (24)\ttotal: 1m 11s\tremaining: 3m 35s\n",
      "25:\tlearn: 0.9848559\ttest: 0.9682997\tbest: 0.9682997 (25)\ttotal: 1m 14s\tremaining: 3m 32s\n",
      "26:\tlearn: 0.9860200\ttest: 0.9693473\tbest: 0.9693473 (26)\ttotal: 1m 17s\tremaining: 3m 29s\n",
      "27:\tlearn: 0.9866634\ttest: 0.9700469\tbest: 0.9700469 (27)\ttotal: 1m 20s\tremaining: 3m 26s\n",
      "28:\tlearn: 0.9870257\ttest: 0.9693473\tbest: 0.9700469 (27)\ttotal: 1m 23s\tremaining: 3m 23s\n",
      "29:\tlearn: 0.9878721\ttest: 0.9700469\tbest: 0.9700469 (27)\ttotal: 1m 25s\tremaining: 3m 20s\n",
      "30:\tlearn: 0.9881949\ttest: 0.9710983\tbest: 0.9710983 (30)\ttotal: 1m 28s\tremaining: 3m 17s\n",
      "31:\tlearn: 0.9888412\ttest: 0.9710983\tbest: 0.9710983 (30)\ttotal: 1m 31s\tremaining: 3m 14s\n",
      "32:\tlearn: 0.9900147\ttest: 0.9707476\tbest: 0.9710983 (30)\ttotal: 1m 34s\tremaining: 3m 11s\n",
      "33:\tlearn: 0.9907040\ttest: 0.9718004\tbest: 0.9718004 (33)\ttotal: 1m 37s\tremaining: 3m 8s\n",
      "34:\tlearn: 0.9912723\ttest: 0.9721519\tbest: 0.9721519 (34)\ttotal: 1m 39s\tremaining: 3m 5s\n",
      "35:\tlearn: 0.9919633\ttest: 0.9703971\tbest: 0.9721519 (34)\ttotal: 1m 42s\tremaining: 3m 2s\n",
      "36:\tlearn: 0.9927774\ttest: 0.9714492\tbest: 0.9721519 (34)\ttotal: 1m 45s\tremaining: 2m 59s\n",
      "37:\tlearn: 0.9929812\ttest: 0.9725036\tbest: 0.9725036 (37)\ttotal: 1m 48s\tremaining: 2m 56s\n",
      "38:\tlearn: 0.9935929\ttest: 0.9739130\tbest: 0.9739130 (38)\ttotal: 1m 51s\tremaining: 2m 53s\n",
      "39:\tlearn: 0.9939195\ttest: 0.9742660\tbest: 0.9742660 (39)\ttotal: 1m 54s\tremaining: 2m 51s\n",
      "40:\tlearn: 0.9940012\ttest: 0.9746193\tbest: 0.9746193 (40)\ttotal: 1m 56s\tremaining: 2m 48s\n",
      "41:\tlearn: 0.9943689\ttest: 0.9753266\tbest: 0.9753266 (41)\ttotal: 1m 59s\tremaining: 2m 45s\n",
      "42:\tlearn: 0.9946550\ttest: 0.9746193\tbest: 0.9753266 (41)\ttotal: 2m 2s\tremaining: 2m 42s\n",
      "43:\tlearn: 0.9949823\ttest: 0.9749728\tbest: 0.9753266 (41)\ttotal: 2m 5s\tremaining: 2m 39s\n",
      "44:\tlearn: 0.9953098\ttest: 0.9763894\tbest: 0.9763894 (44)\ttotal: 2m 8s\tremaining: 2m 36s\n",
      "45:\tlearn: 0.9953098\ttest: 0.9760349\tbest: 0.9763894 (44)\ttotal: 2m 10s\tremaining: 2m 33s\n",
      "46:\tlearn: 0.9955146\ttest: 0.9763894\tbest: 0.9763894 (44)\ttotal: 2m 13s\tremaining: 2m 30s\n",
      "47:\tlearn: 0.9956785\ttest: 0.9763894\tbest: 0.9763894 (44)\ttotal: 2m 16s\tremaining: 2m 27s\n",
      "48:\tlearn: 0.9958014\ttest: 0.9763894\tbest: 0.9763894 (44)\ttotal: 2m 19s\tremaining: 2m 24s\n",
      "49:\tlearn: 0.9960884\ttest: 0.9767442\tbest: 0.9767442 (49)\ttotal: 2m 21s\tremaining: 2m 21s\n",
      "50:\tlearn: 0.9964167\ttest: 0.9770992\tbest: 0.9770992 (50)\ttotal: 2m 24s\tremaining: 2m 18s\n",
      "51:\tlearn: 0.9967451\ttest: 0.9763894\tbest: 0.9770992 (50)\ttotal: 2m 27s\tremaining: 2m 16s\n",
      "52:\tlearn: 0.9967451\ttest: 0.9756806\tbest: 0.9770992 (50)\ttotal: 2m 30s\tremaining: 2m 13s\n",
      "53:\tlearn: 0.9972381\ttest: 0.9767442\tbest: 0.9770992 (50)\ttotal: 2m 33s\tremaining: 2m 10s\n",
      "54:\tlearn: 0.9973615\ttest: 0.9774545\tbest: 0.9774545 (54)\ttotal: 2m 35s\tremaining: 2m 7s\n",
      "55:\tlearn: 0.9974437\ttest: 0.9781659\tbest: 0.9781659 (55)\ttotal: 2m 38s\tremaining: 2m 4s\n",
      "56:\tlearn: 0.9978551\ttest: 0.9770992\tbest: 0.9781659 (55)\ttotal: 2m 41s\tremaining: 2m 1s\n",
      "57:\tlearn: 0.9979375\ttest: 0.9770992\tbest: 0.9781659 (55)\ttotal: 2m 44s\tremaining: 1m 58s\n",
      "58:\tlearn: 0.9982669\ttest: 0.9781659\tbest: 0.9781659 (55)\ttotal: 2m 47s\tremaining: 1m 56s\n",
      "59:\tlearn: 0.9982669\ttest: 0.9788784\tbest: 0.9788784 (59)\ttotal: 2m 49s\tremaining: 1m 53s\n",
      "60:\tlearn: 0.9984317\ttest: 0.9781659\tbest: 0.9788784 (59)\ttotal: 2m 52s\tremaining: 1m 50s\n",
      "61:\tlearn: 0.9985553\ttest: 0.9785220\tbest: 0.9788784 (59)\ttotal: 2m 55s\tremaining: 1m 47s\n",
      "62:\tlearn: 0.9986378\ttest: 0.9792350\tbest: 0.9792350 (62)\ttotal: 2m 58s\tremaining: 1m 44s\n",
      "63:\tlearn: 0.9988027\ttest: 0.9803063\tbest: 0.9803063 (63)\ttotal: 3m 1s\tremaining: 1m 41s\n",
      "64:\tlearn: 0.9988852\ttest: 0.9799490\tbest: 0.9803063 (63)\ttotal: 3m 3s\tremaining: 1m 39s\n",
      "65:\tlearn: 0.9988852\ttest: 0.9799490\tbest: 0.9803063 (63)\ttotal: 3m 6s\tremaining: 1m 36s\n",
      "66:\tlearn: 0.9990089\ttest: 0.9792350\tbest: 0.9803063 (63)\ttotal: 3m 9s\tremaining: 1m 33s\n",
      "67:\tlearn: 0.9990502\ttest: 0.9795918\tbest: 0.9803063 (63)\ttotal: 3m 12s\tremaining: 1m 30s\n",
      "68:\tlearn: 0.9991327\ttest: 0.9799490\tbest: 0.9803063 (63)\ttotal: 3m 15s\tremaining: 1m 27s\n",
      "69:\tlearn: 0.9992978\ttest: 0.9799490\tbest: 0.9803063 (63)\ttotal: 3m 18s\tremaining: 1m 24s\n",
      "70:\tlearn: 0.9992978\ttest: 0.9803063\tbest: 0.9803063 (63)\ttotal: 3m 20s\tremaining: 1m 22s\n",
      "71:\tlearn: 0.9993803\ttest: 0.9806640\tbest: 0.9806640 (71)\ttotal: 3m 23s\tremaining: 1m 19s\n",
      "72:\tlearn: 0.9994629\ttest: 0.9803063\tbest: 0.9806640 (71)\ttotal: 3m 26s\tremaining: 1m 16s\n",
      "73:\tlearn: 0.9994216\ttest: 0.9803063\tbest: 0.9806640 (71)\ttotal: 3m 29s\tremaining: 1m 13s\n",
      "74:\tlearn: 0.9995042\ttest: 0.9803063\tbest: 0.9806640 (71)\ttotal: 3m 32s\tremaining: 1m 10s\n",
      "75:\tlearn: 0.9995455\ttest: 0.9806640\tbest: 0.9806640 (71)\ttotal: 3m 34s\tremaining: 1m 7s\n",
      "76:\tlearn: 0.9995455\ttest: 0.9806640\tbest: 0.9806640 (71)\ttotal: 3m 37s\tremaining: 1m 5s\n",
      "77:\tlearn: 0.9995455\ttest: 0.9806640\tbest: 0.9806640 (71)\ttotal: 3m 40s\tremaining: 1m 2s\n",
      "78:\tlearn: 0.9996281\ttest: 0.9810219\tbest: 0.9810219 (78)\ttotal: 3m 43s\tremaining: 59.4s\n",
      "79:\tlearn: 0.9996694\ttest: 0.9803063\tbest: 0.9810219 (78)\ttotal: 3m 46s\tremaining: 56.6s\n",
      "80:\tlearn: 0.9997107\ttest: 0.9810219\tbest: 0.9810219 (78)\ttotal: 3m 49s\tremaining: 53.7s\n",
      "81:\tlearn: 0.9997520\ttest: 0.9810219\tbest: 0.9810219 (78)\ttotal: 3m 51s\tremaining: 50.9s\n",
      "82:\tlearn: 0.9997520\ttest: 0.9806640\tbest: 0.9810219 (78)\ttotal: 3m 54s\tremaining: 48s\n",
      "83:\tlearn: 0.9997520\ttest: 0.9806640\tbest: 0.9810219 (78)\ttotal: 3m 57s\tremaining: 45.2s\n",
      "84:\tlearn: 0.9997520\ttest: 0.9806640\tbest: 0.9810219 (78)\ttotal: 3m 59s\tremaining: 42.3s\n",
      "85:\tlearn: 0.9997934\ttest: 0.9810219\tbest: 0.9810219 (78)\ttotal: 4m 2s\tremaining: 39.5s\n",
      "86:\tlearn: 0.9997934\ttest: 0.9810219\tbest: 0.9810219 (78)\ttotal: 4m 5s\tremaining: 36.7s\n",
      "87:\tlearn: 0.9997934\ttest: 0.9806640\tbest: 0.9810219 (78)\ttotal: 4m 8s\tremaining: 33.9s\n",
      "88:\tlearn: 0.9998347\ttest: 0.9810219\tbest: 0.9810219 (78)\ttotal: 4m 11s\tremaining: 31s\n",
      "89:\tlearn: 0.9997934\ttest: 0.9806640\tbest: 0.9810219 (78)\ttotal: 4m 14s\tremaining: 28.2s\n",
      "90:\tlearn: 0.9998760\ttest: 0.9810219\tbest: 0.9810219 (78)\ttotal: 4m 16s\tremaining: 25.4s\n",
      "91:\tlearn: 0.9999173\ttest: 0.9810219\tbest: 0.9810219 (78)\ttotal: 4m 19s\tremaining: 22.6s\n",
      "92:\tlearn: 0.9999173\ttest: 0.9810219\tbest: 0.9810219 (78)\ttotal: 4m 22s\tremaining: 19.8s\n",
      "93:\tlearn: 1.0000000\ttest: 0.9803063\tbest: 0.9810219 (78)\ttotal: 4m 25s\tremaining: 16.9s\n",
      "94:\tlearn: 1.0000000\ttest: 0.9803063\tbest: 0.9810219 (78)\ttotal: 4m 28s\tremaining: 14.1s\n",
      "95:\tlearn: 1.0000000\ttest: 0.9803063\tbest: 0.9810219 (78)\ttotal: 4m 31s\tremaining: 11.3s\n",
      "96:\tlearn: 1.0000000\ttest: 0.9803063\tbest: 0.9810219 (78)\ttotal: 4m 33s\tremaining: 8.47s\n",
      "97:\tlearn: 1.0000000\ttest: 0.9803063\tbest: 0.9810219 (78)\ttotal: 4m 36s\tremaining: 5.64s\n",
      "98:\tlearn: 1.0000000\ttest: 0.9803063\tbest: 0.9810219 (78)\ttotal: 4m 39s\tremaining: 2.82s\n",
      "99:\tlearn: 1.0000000\ttest: 0.9806640\tbest: 0.9810219 (78)\ttotal: 4m 42s\tremaining: 0us\n",
      "\n",
      "bestTest = 0.9810218978\n",
      "bestIteration = 78\n",
      "\n",
      "Training on fold [27/30]\n",
      "0:\tlearn: 0.8471978\ttest: 0.8282828\tbest: 0.8282828 (0)\ttotal: 2.95s\tremaining: 4m 51s\n",
      "1:\tlearn: 0.8917130\ttest: 0.8783883\tbest: 0.8783883 (1)\ttotal: 5.85s\tremaining: 4m 46s\n",
      "2:\tlearn: 0.9141315\ttest: 0.8974454\tbest: 0.8974454 (2)\ttotal: 8.69s\tremaining: 4m 41s\n",
      "3:\tlearn: 0.9199200\ttest: 0.9086892\tbest: 0.9086892 (3)\ttotal: 11.5s\tremaining: 4m 36s\n",
      "4:\tlearn: 0.9314968\ttest: 0.9196758\tbest: 0.9196758 (4)\ttotal: 14.4s\tremaining: 4m 32s\n",
      "5:\tlearn: 0.9423616\ttest: 0.9301984\tbest: 0.9301984 (5)\ttotal: 17.4s\tremaining: 4m 32s\n",
      "6:\tlearn: 0.9509621\ttest: 0.9376833\tbest: 0.9376833 (6)\ttotal: 20.5s\tremaining: 4m 31s\n",
      "7:\tlearn: 0.9568564\ttest: 0.9428051\tbest: 0.9428051 (7)\ttotal: 23.4s\tremaining: 4m 29s\n",
      "8:\tlearn: 0.9609644\ttest: 0.9490168\tbest: 0.9490168 (8)\ttotal: 26.3s\tremaining: 4m 25s\n",
      "9:\tlearn: 0.9638700\ttest: 0.9534884\tbest: 0.9534884 (9)\ttotal: 29.1s\tremaining: 4m 21s\n",
      "10:\tlearn: 0.9674054\ttest: 0.9557650\tbest: 0.9557650 (10)\ttotal: 31.9s\tremaining: 4m 18s\n",
      "11:\tlearn: 0.9688335\ttest: 0.9564586\tbest: 0.9564586 (11)\ttotal: 34.8s\tremaining: 4m 15s\n",
      "12:\tlearn: 0.9704658\ttest: 0.9587554\tbest: 0.9587554 (12)\ttotal: 37.7s\tremaining: 4m 12s\n",
      "13:\tlearn: 0.9725878\ttest: 0.9584087\tbest: 0.9587554 (12)\ttotal: 40.7s\tremaining: 4m 9s\n",
      "14:\tlearn: 0.9739398\ttest: 0.9616498\tbest: 0.9616498 (14)\ttotal: 43.5s\tremaining: 4m 6s\n",
      "15:\tlearn: 0.9756354\ttest: 0.9620528\tbest: 0.9620528 (15)\ttotal: 46.3s\tremaining: 4m 3s\n",
      "16:\tlearn: 0.9773206\ttest: 0.9634720\tbest: 0.9634720 (16)\ttotal: 49.1s\tremaining: 3m 59s\n",
      "17:\tlearn: 0.9790340\ttest: 0.9638728\tbest: 0.9638728 (17)\ttotal: 52.1s\tremaining: 3m 57s\n",
      "18:\tlearn: 0.9799578\ttest: 0.9635511\tbest: 0.9638728 (17)\ttotal: 55s\tremaining: 3m 54s\n",
      "19:\tlearn: 0.9811520\ttest: 0.9645954\tbest: 0.9645954 (19)\ttotal: 58s\tremaining: 3m 51s\n",
      "20:\tlearn: 0.9821537\ttest: 0.9674855\tbest: 0.9674855 (20)\ttotal: 1m\tremaining: 3m 48s\n",
      "21:\tlearn: 0.9827600\ttest: 0.9678816\tbest: 0.9678816 (21)\ttotal: 1m 3s\tremaining: 3m 44s\n",
      "22:\tlearn: 0.9832466\ttest: 0.9693252\tbest: 0.9693252 (22)\ttotal: 1m 6s\tremaining: 3m 41s\n",
      "23:\tlearn: 0.9840947\ttest: 0.9696970\tbest: 0.9696970 (23)\ttotal: 1m 9s\tremaining: 3m 39s\n",
      "24:\tlearn: 0.9849361\ttest: 0.9700469\tbest: 0.9700469 (24)\ttotal: 1m 12s\tremaining: 3m 36s\n",
      "25:\tlearn: 0.9853774\ttest: 0.9703971\tbest: 0.9703971 (25)\ttotal: 1m 14s\tremaining: 3m 33s\n",
      "26:\tlearn: 0.9857789\ttest: 0.9693473\tbest: 0.9703971 (25)\ttotal: 1m 17s\tremaining: 3m 29s\n",
      "27:\tlearn: 0.9867439\ttest: 0.9700469\tbest: 0.9703971 (25)\ttotal: 1m 20s\tremaining: 3m 27s\n",
      "28:\tlearn: 0.9878721\ttest: 0.9700469\tbest: 0.9703971 (25)\ttotal: 1m 23s\tremaining: 3m 24s\n",
      "29:\tlearn: 0.9883160\ttest: 0.9714492\tbest: 0.9714492 (29)\ttotal: 1m 26s\tremaining: 3m 21s\n",
      "30:\tlearn: 0.9892860\ttest: 0.9728556\tbest: 0.9728556 (30)\ttotal: 1m 28s\tremaining: 3m 18s\n",
      "31:\tlearn: 0.9899742\ttest: 0.9735603\tbest: 0.9735603 (31)\ttotal: 1m 31s\tremaining: 3m 15s\n",
      "32:\tlearn: 0.9903390\ttest: 0.9735603\tbest: 0.9735603 (31)\ttotal: 1m 34s\tremaining: 3m 12s\n",
      "33:\tlearn: 0.9906228\ttest: 0.9732078\tbest: 0.9735603 (31)\ttotal: 1m 37s\tremaining: 3m 9s\n",
      "34:\tlearn: 0.9910692\ttest: 0.9739130\tbest: 0.9739130 (34)\ttotal: 1m 40s\tremaining: 3m 6s\n",
      "35:\tlearn: 0.9916380\ttest: 0.9746193\tbest: 0.9746193 (35)\ttotal: 1m 43s\tremaining: 3m 3s\n",
      "36:\tlearn: 0.9919226\ttest: 0.9742660\tbest: 0.9746193 (35)\ttotal: 1m 45s\tremaining: 3m\n",
      "37:\tlearn: 0.9922481\ttest: 0.9742660\tbest: 0.9746193 (35)\ttotal: 1m 48s\tremaining: 2m 57s\n",
      "38:\tlearn: 0.9926145\ttest: 0.9753266\tbest: 0.9753266 (38)\ttotal: 1m 51s\tremaining: 2m 54s\n",
      "39:\tlearn: 0.9927774\ttest: 0.9760349\tbest: 0.9760349 (39)\ttotal: 1m 54s\tremaining: 2m 51s\n",
      "40:\tlearn: 0.9932258\ttest: 0.9756806\tbest: 0.9760349 (39)\ttotal: 1m 57s\tremaining: 2m 48s\n",
      "41:\tlearn: 0.9938378\ttest: 0.9770992\tbest: 0.9770992 (41)\ttotal: 1m 59s\tremaining: 2m 45s\n",
      "42:\tlearn: 0.9937970\ttest: 0.9774545\tbest: 0.9774545 (42)\ttotal: 2m 2s\tremaining: 2m 42s\n",
      "43:\tlearn: 0.9942463\ttest: 0.9778101\tbest: 0.9778101 (43)\ttotal: 2m 5s\tremaining: 2m 39s\n",
      "44:\tlearn: 0.9944097\ttest: 0.9767442\tbest: 0.9778101 (43)\ttotal: 2m 8s\tremaining: 2m 36s\n",
      "45:\tlearn: 0.9945733\ttest: 0.9778101\tbest: 0.9778101 (43)\ttotal: 2m 11s\tremaining: 2m 33s\n",
      "46:\tlearn: 0.9947777\ttest: 0.9778101\tbest: 0.9778101 (43)\ttotal: 2m 13s\tremaining: 2m 30s\n",
      "47:\tlearn: 0.9953098\ttest: 0.9774545\tbest: 0.9778101 (43)\ttotal: 2m 16s\tremaining: 2m 28s\n",
      "48:\tlearn: 0.9955146\ttest: 0.9774545\tbest: 0.9778101 (43)\ttotal: 2m 19s\tremaining: 2m 25s\n",
      "49:\tlearn: 0.9960064\ttest: 0.9781659\tbest: 0.9781659 (49)\ttotal: 2m 22s\tremaining: 2m 22s\n",
      "50:\tlearn: 0.9963756\ttest: 0.9785220\tbest: 0.9785220 (50)\ttotal: 2m 25s\tremaining: 2m 19s\n",
      "51:\tlearn: 0.9964577\ttest: 0.9785220\tbest: 0.9785220 (50)\ttotal: 2m 28s\tremaining: 2m 16s\n",
      "52:\tlearn: 0.9967040\ttest: 0.9781659\tbest: 0.9785220 (50)\ttotal: 2m 30s\tremaining: 2m 13s\n",
      "53:\tlearn: 0.9968683\ttest: 0.9785220\tbest: 0.9785220 (50)\ttotal: 2m 33s\tremaining: 2m 10s\n",
      "54:\tlearn: 0.9970737\ttest: 0.9788784\tbest: 0.9788784 (54)\ttotal: 2m 36s\tremaining: 2m 8s\n",
      "55:\tlearn: 0.9972381\ttest: 0.9785220\tbest: 0.9788784 (54)\ttotal: 2m 39s\tremaining: 2m 5s\n",
      "56:\tlearn: 0.9976082\ttest: 0.9785220\tbest: 0.9788784 (54)\ttotal: 2m 42s\tremaining: 2m 2s\n",
      "57:\tlearn: 0.9976905\ttest: 0.9792350\tbest: 0.9792350 (57)\ttotal: 2m 44s\tremaining: 1m 59s\n",
      "58:\tlearn: 0.9977317\ttest: 0.9792350\tbest: 0.9792350 (57)\ttotal: 2m 47s\tremaining: 1m 56s\n",
      "59:\tlearn: 0.9978963\ttest: 0.9792350\tbest: 0.9792350 (57)\ttotal: 2m 50s\tremaining: 1m 53s\n",
      "60:\tlearn: 0.9981845\ttest: 0.9792350\tbest: 0.9792350 (57)\ttotal: 2m 53s\tremaining: 1m 50s\n",
      "61:\tlearn: 0.9982669\ttest: 0.9792350\tbest: 0.9792350 (57)\ttotal: 2m 56s\tremaining: 1m 47s\n",
      "62:\tlearn: 0.9984317\ttest: 0.9799490\tbest: 0.9799490 (62)\ttotal: 2m 58s\tremaining: 1m 45s\n",
      "63:\tlearn: 0.9987615\ttest: 0.9799490\tbest: 0.9799490 (62)\ttotal: 3m 1s\tremaining: 1m 42s\n",
      "64:\tlearn: 0.9988852\ttest: 0.9799490\tbest: 0.9799490 (62)\ttotal: 3m 4s\tremaining: 1m 39s\n",
      "65:\tlearn: 0.9990914\ttest: 0.9799490\tbest: 0.9799490 (62)\ttotal: 3m 7s\tremaining: 1m 36s\n",
      "66:\tlearn: 0.9991327\ttest: 0.9806640\tbest: 0.9806640 (66)\ttotal: 3m 10s\tremaining: 1m 33s\n",
      "67:\tlearn: 0.9992152\ttest: 0.9810219\tbest: 0.9810219 (67)\ttotal: 3m 13s\tremaining: 1m 30s\n",
      "68:\tlearn: 0.9992978\ttest: 0.9810219\tbest: 0.9810219 (67)\ttotal: 3m 15s\tremaining: 1m 27s\n",
      "69:\tlearn: 0.9993803\ttest: 0.9810219\tbest: 0.9810219 (67)\ttotal: 3m 18s\tremaining: 1m 25s\n",
      "70:\tlearn: 0.9995042\ttest: 0.9810219\tbest: 0.9810219 (67)\ttotal: 3m 21s\tremaining: 1m 22s\n",
      "71:\tlearn: 0.9994216\ttest: 0.9810219\tbest: 0.9810219 (67)\ttotal: 3m 24s\tremaining: 1m 19s\n",
      "72:\tlearn: 0.9995042\ttest: 0.9810219\tbest: 0.9810219 (67)\ttotal: 3m 26s\tremaining: 1m 16s\n",
      "73:\tlearn: 0.9995455\ttest: 0.9806640\tbest: 0.9810219 (67)\ttotal: 3m 29s\tremaining: 1m 13s\n",
      "74:\tlearn: 0.9995868\ttest: 0.9806640\tbest: 0.9810219 (67)\ttotal: 3m 32s\tremaining: 1m 10s\n",
      "75:\tlearn: 0.9995868\ttest: 0.9806640\tbest: 0.9810219 (67)\ttotal: 3m 35s\tremaining: 1m 8s\n",
      "76:\tlearn: 0.9995868\ttest: 0.9806640\tbest: 0.9810219 (67)\ttotal: 3m 38s\tremaining: 1m 5s\n",
      "77:\tlearn: 0.9996694\ttest: 0.9813801\tbest: 0.9813801 (77)\ttotal: 3m 41s\tremaining: 1m 2s\n",
      "78:\tlearn: 0.9997107\ttest: 0.9810219\tbest: 0.9813801 (77)\ttotal: 3m 43s\tremaining: 59.5s\n",
      "79:\tlearn: 0.9997520\ttest: 0.9810219\tbest: 0.9813801 (77)\ttotal: 3m 46s\tremaining: 56.6s\n",
      "80:\tlearn: 0.9997934\ttest: 0.9810219\tbest: 0.9813801 (77)\ttotal: 3m 49s\tremaining: 53.8s\n",
      "81:\tlearn: 0.9997934\ttest: 0.9813801\tbest: 0.9813801 (77)\ttotal: 3m 52s\tremaining: 51s\n",
      "82:\tlearn: 0.9997520\ttest: 0.9817385\tbest: 0.9817385 (82)\ttotal: 3m 55s\tremaining: 48.1s\n",
      "83:\tlearn: 0.9997520\ttest: 0.9820972\tbest: 0.9820972 (83)\ttotal: 3m 57s\tremaining: 45.3s\n",
      "84:\tlearn: 0.9998760\ttest: 0.9820972\tbest: 0.9820972 (83)\ttotal: 4m\tremaining: 42.5s\n",
      "85:\tlearn: 0.9999587\ttest: 0.9820972\tbest: 0.9820972 (83)\ttotal: 4m 3s\tremaining: 39.6s\n",
      "86:\tlearn: 0.9999587\ttest: 0.9820972\tbest: 0.9820972 (83)\ttotal: 4m 6s\tremaining: 36.8s\n",
      "87:\tlearn: 0.9999173\ttest: 0.9820972\tbest: 0.9820972 (83)\ttotal: 4m 9s\tremaining: 34s\n",
      "88:\tlearn: 0.9999587\ttest: 0.9820972\tbest: 0.9820972 (83)\ttotal: 4m 11s\tremaining: 31.1s\n",
      "89:\tlearn: 0.9999587\ttest: 0.9817385\tbest: 0.9820972 (83)\ttotal: 4m 14s\tremaining: 28.3s\n",
      "90:\tlearn: 0.9999587\ttest: 0.9824561\tbest: 0.9824561 (90)\ttotal: 4m 17s\tremaining: 25.4s\n",
      "91:\tlearn: 1.0000000\ttest: 0.9824561\tbest: 0.9824561 (90)\ttotal: 4m 19s\tremaining: 22.6s\n",
      "92:\tlearn: 1.0000000\ttest: 0.9824561\tbest: 0.9824561 (90)\ttotal: 4m 22s\tremaining: 19.8s\n",
      "93:\tlearn: 1.0000000\ttest: 0.9824561\tbest: 0.9824561 (90)\ttotal: 4m 25s\tremaining: 16.9s\n",
      "94:\tlearn: 1.0000000\ttest: 0.9824561\tbest: 0.9824561 (90)\ttotal: 4m 28s\tremaining: 14.1s\n",
      "95:\tlearn: 1.0000000\ttest: 0.9824561\tbest: 0.9824561 (90)\ttotal: 4m 31s\tremaining: 11.3s\n",
      "96:\tlearn: 1.0000000\ttest: 0.9824561\tbest: 0.9824561 (90)\ttotal: 4m 33s\tremaining: 8.47s\n",
      "97:\tlearn: 1.0000000\ttest: 0.9820972\tbest: 0.9824561 (90)\ttotal: 4m 36s\tremaining: 5.65s\n",
      "98:\tlearn: 1.0000000\ttest: 0.9820972\tbest: 0.9824561 (90)\ttotal: 4m 39s\tremaining: 2.82s\n",
      "99:\tlearn: 1.0000000\ttest: 0.9820972\tbest: 0.9824561 (90)\ttotal: 4m 42s\tremaining: 0us\n",
      "\n",
      "bestTest = 0.9824561404\n",
      "bestIteration = 90\n",
      "\n",
      "Training on fold [28/30]\n",
      "0:\tlearn: 0.8435763\ttest: 0.8245931\tbest: 0.8245931 (0)\ttotal: 2.99s\tremaining: 4m 55s\n",
      "1:\tlearn: 0.8872695\ttest: 0.8690869\tbest: 0.8690869 (1)\ttotal: 5.85s\tremaining: 4m 46s\n",
      "2:\tlearn: 0.9131003\ttest: 0.8938671\tbest: 0.8938671 (2)\ttotal: 8.83s\tremaining: 4m 45s\n",
      "3:\tlearn: 0.9226636\ttest: 0.9021620\tbest: 0.9021620 (3)\ttotal: 11.7s\tremaining: 4m 41s\n",
      "4:\tlearn: 0.9348375\ttest: 0.9113462\tbest: 0.9113462 (4)\ttotal: 14.6s\tremaining: 4m 37s\n",
      "5:\tlearn: 0.9421716\ttest: 0.9194313\tbest: 0.9194313 (5)\ttotal: 17.6s\tremaining: 4m 35s\n",
      "6:\tlearn: 0.9470784\ttest: 0.9236919\tbest: 0.9236919 (6)\ttotal: 20.4s\tremaining: 4m 31s\n",
      "7:\tlearn: 0.9563495\ttest: 0.9369824\tbest: 0.9369824 (7)\ttotal: 23.4s\tremaining: 4m 28s\n",
      "8:\tlearn: 0.9604437\ttest: 0.9439827\tbest: 0.9439827 (8)\ttotal: 26.3s\tremaining: 4m 25s\n",
      "9:\tlearn: 0.9624438\ttest: 0.9428365\tbest: 0.9439827 (8)\ttotal: 29.3s\tremaining: 4m 23s\n",
      "10:\tlearn: 0.9659082\ttest: 0.9430836\tbest: 0.9439827 (8)\ttotal: 32.2s\tremaining: 4m 20s\n",
      "11:\tlearn: 0.9690280\ttest: 0.9461207\tbest: 0.9461207 (11)\ttotal: 35.2s\tremaining: 4m 17s\n",
      "12:\tlearn: 0.9713639\ttest: 0.9479354\tbest: 0.9479354 (12)\ttotal: 37.9s\tremaining: 4m 13s\n",
      "13:\tlearn: 0.9722526\ttest: 0.9496403\tbest: 0.9496403 (13)\ttotal: 40.8s\tremaining: 4m 10s\n",
      "14:\tlearn: 0.9741054\ttest: 0.9490674\tbest: 0.9496403 (13)\ttotal: 43.6s\tremaining: 4m 7s\n",
      "15:\tlearn: 0.9774089\ttest: 0.9555874\tbest: 0.9555874 (15)\ttotal: 46.6s\tremaining: 4m 4s\n",
      "16:\tlearn: 0.9780353\ttest: 0.9554917\tbest: 0.9555874 (15)\ttotal: 49.5s\tremaining: 4m 1s\n",
      "17:\tlearn: 0.9791633\ttest: 0.9580194\tbest: 0.9580194 (17)\ttotal: 52.4s\tremaining: 3m 58s\n",
      "18:\tlearn: 0.9797193\ttest: 0.9583632\tbest: 0.9583632 (18)\ttotal: 55.2s\tremaining: 3m 55s\n",
      "19:\tlearn: 0.9813912\ttest: 0.9590517\tbest: 0.9590517 (19)\ttotal: 58.1s\tremaining: 3m 52s\n",
      "20:\tlearn: 0.9825089\ttest: 0.9587074\tbest: 0.9590517 (19)\ttotal: 1m\tremaining: 3m 49s\n",
      "21:\tlearn: 0.9829088\ttest: 0.9597412\tbest: 0.9597412 (21)\ttotal: 1m 3s\tremaining: 3m 45s\n",
      "22:\tlearn: 0.9838027\ttest: 0.9619253\tbest: 0.9619253 (22)\ttotal: 1m 6s\tremaining: 3m 43s\n",
      "23:\tlearn: 0.9844901\ttest: 0.9623251\tbest: 0.9623251 (23)\ttotal: 1m 9s\tremaining: 3m 39s\n",
      "24:\tlearn: 0.9853726\ttest: 0.9633621\tbest: 0.9633621 (24)\ttotal: 1m 12s\tremaining: 3m 36s\n",
      "25:\tlearn: 0.9858948\ttest: 0.9640546\tbest: 0.9640546 (25)\ttotal: 1m 15s\tremaining: 3m 33s\n",
      "26:\tlearn: 0.9866591\ttest: 0.9633621\tbest: 0.9640546 (25)\ttotal: 1m 18s\tremaining: 3m 30s\n",
      "27:\tlearn: 0.9867798\ttest: 0.9640546\tbest: 0.9640546 (25)\ttotal: 1m 20s\tremaining: 3m 27s\n",
      "28:\tlearn: 0.9875858\ttest: 0.9647482\tbest: 0.9647482 (28)\ttotal: 1m 23s\tremaining: 3m 24s\n",
      "29:\tlearn: 0.9881911\ttest: 0.9647482\tbest: 0.9647482 (28)\ttotal: 1m 26s\tremaining: 3m 21s\n",
      "30:\tlearn: 0.9892016\ttest: 0.9647482\tbest: 0.9647482 (28)\ttotal: 1m 29s\tremaining: 3m 18s\n",
      "31:\tlearn: 0.9892825\ttest: 0.9647482\tbest: 0.9647482 (28)\ttotal: 1m 32s\tremaining: 3m 15s\n",
      "32:\tlearn: 0.9899304\ttest: 0.9657904\tbest: 0.9657904 (32)\ttotal: 1m 34s\tremaining: 3m 12s\n",
      "33:\tlearn: 0.9902547\ttest: 0.9664865\tbest: 0.9664865 (33)\ttotal: 1m 37s\tremaining: 3m 9s\n",
      "34:\tlearn: 0.9911504\ttest: 0.9679510\tbest: 0.9679510 (34)\ttotal: 1m 40s\tremaining: 3m 7s\n",
      "35:\tlearn: 0.9915160\ttest: 0.9682997\tbest: 0.9682997 (35)\ttotal: 1m 43s\tremaining: 3m 4s\n",
      "36:\tlearn: 0.9919633\ttest: 0.9686486\tbest: 0.9686486 (36)\ttotal: 1m 46s\tremaining: 3m 1s\n",
      "37:\tlearn: 0.9920853\ttest: 0.9686486\tbest: 0.9686486 (36)\ttotal: 1m 49s\tremaining: 2m 57s\n",
      "38:\tlearn: 0.9928997\ttest: 0.9693473\tbest: 0.9693473 (38)\ttotal: 1m 52s\tremaining: 2m 55s\n",
      "39:\tlearn: 0.9936337\ttest: 0.9700469\tbest: 0.9700469 (39)\ttotal: 1m 54s\tremaining: 2m 52s\n",
      "40:\tlearn: 0.9940012\ttest: 0.9700469\tbest: 0.9700469 (39)\ttotal: 1m 57s\tremaining: 2m 49s\n",
      "41:\tlearn: 0.9946959\ttest: 0.9703971\tbest: 0.9703971 (41)\ttotal: 2m\tremaining: 2m 46s\n",
      "42:\tlearn: 0.9950232\ttest: 0.9703971\tbest: 0.9703971 (41)\ttotal: 2m 3s\tremaining: 2m 43s\n",
      "43:\tlearn: 0.9953508\ttest: 0.9693473\tbest: 0.9703971 (41)\ttotal: 2m 6s\tremaining: 2m 40s\n",
      "44:\tlearn: 0.9957195\ttest: 0.9696970\tbest: 0.9703971 (41)\ttotal: 2m 8s\tremaining: 2m 37s\n",
      "45:\tlearn: 0.9958834\ttest: 0.9693473\tbest: 0.9703971 (41)\ttotal: 2m 11s\tremaining: 2m 34s\n",
      "46:\tlearn: 0.9960064\ttest: 0.9696970\tbest: 0.9703971 (41)\ttotal: 2m 14s\tremaining: 2m 31s\n",
      "47:\tlearn: 0.9963346\ttest: 0.9696970\tbest: 0.9703971 (41)\ttotal: 2m 17s\tremaining: 2m 28s\n",
      "48:\tlearn: 0.9966630\ttest: 0.9700469\tbest: 0.9703971 (41)\ttotal: 2m 20s\tremaining: 2m 25s\n",
      "49:\tlearn: 0.9967040\ttest: 0.9703971\tbest: 0.9703971 (41)\ttotal: 2m 22s\tremaining: 2m 22s\n",
      "50:\tlearn: 0.9969505\ttest: 0.9718004\tbest: 0.9718004 (50)\ttotal: 2m 25s\tremaining: 2m 19s\n",
      "51:\tlearn: 0.9969916\ttest: 0.9725036\tbest: 0.9725036 (51)\ttotal: 2m 28s\tremaining: 2m 17s\n",
      "52:\tlearn: 0.9972792\ttest: 0.9728556\tbest: 0.9728556 (52)\ttotal: 2m 31s\tremaining: 2m 14s\n",
      "53:\tlearn: 0.9975671\ttest: 0.9735603\tbest: 0.9735603 (53)\ttotal: 2m 34s\tremaining: 2m 11s\n",
      "54:\tlearn: 0.9976082\ttest: 0.9735603\tbest: 0.9735603 (53)\ttotal: 2m 36s\tremaining: 2m 8s\n",
      "55:\tlearn: 0.9979786\ttest: 0.9735603\tbest: 0.9735603 (53)\ttotal: 2m 39s\tremaining: 2m 5s\n",
      "56:\tlearn: 0.9981845\ttest: 0.9728556\tbest: 0.9735603 (53)\ttotal: 2m 42s\tremaining: 2m 2s\n",
      "57:\tlearn: 0.9984317\ttest: 0.9728556\tbest: 0.9735603 (53)\ttotal: 2m 45s\tremaining: 1m 59s\n",
      "58:\tlearn: 0.9986378\ttest: 0.9732078\tbest: 0.9735603 (53)\ttotal: 2m 48s\tremaining: 1m 56s\n",
      "59:\tlearn: 0.9986790\ttest: 0.9728556\tbest: 0.9735603 (53)\ttotal: 2m 51s\tremaining: 1m 54s\n",
      "60:\tlearn: 0.9986790\ttest: 0.9728556\tbest: 0.9735603 (53)\ttotal: 2m 53s\tremaining: 1m 51s\n",
      "61:\tlearn: 0.9988439\ttest: 0.9732078\tbest: 0.9735603 (53)\ttotal: 2m 56s\tremaining: 1m 48s\n",
      "62:\tlearn: 0.9988439\ttest: 0.9732078\tbest: 0.9735603 (53)\ttotal: 2m 59s\tremaining: 1m 45s\n",
      "63:\tlearn: 0.9988439\ttest: 0.9728556\tbest: 0.9735603 (53)\ttotal: 3m 2s\tremaining: 1m 42s\n",
      "64:\tlearn: 0.9989264\ttest: 0.9735603\tbest: 0.9735603 (53)\ttotal: 3m 4s\tremaining: 1m 39s\n",
      "65:\tlearn: 0.9990089\ttest: 0.9739130\tbest: 0.9739130 (65)\ttotal: 3m 7s\tremaining: 1m 36s\n",
      "66:\tlearn: 0.9990502\ttest: 0.9742660\tbest: 0.9742660 (66)\ttotal: 3m 10s\tremaining: 1m 33s\n",
      "67:\tlearn: 0.9991327\ttest: 0.9742660\tbest: 0.9742660 (66)\ttotal: 3m 13s\tremaining: 1m 31s\n",
      "68:\tlearn: 0.9991740\ttest: 0.9739130\tbest: 0.9742660 (66)\ttotal: 3m 16s\tremaining: 1m 28s\n",
      "69:\tlearn: 0.9991740\ttest: 0.9739130\tbest: 0.9742660 (66)\ttotal: 3m 18s\tremaining: 1m 25s\n",
      "70:\tlearn: 0.9992978\ttest: 0.9742660\tbest: 0.9742660 (66)\ttotal: 3m 21s\tremaining: 1m 22s\n",
      "71:\tlearn: 0.9993803\ttest: 0.9746193\tbest: 0.9746193 (71)\ttotal: 3m 24s\tremaining: 1m 19s\n",
      "72:\tlearn: 0.9994216\ttest: 0.9746193\tbest: 0.9746193 (71)\ttotal: 3m 27s\tremaining: 1m 16s\n",
      "73:\tlearn: 0.9994629\ttest: 0.9742660\tbest: 0.9746193 (71)\ttotal: 3m 29s\tremaining: 1m 13s\n",
      "74:\tlearn: 0.9995042\ttest: 0.9742660\tbest: 0.9746193 (71)\ttotal: 3m 32s\tremaining: 1m 10s\n",
      "75:\tlearn: 0.9995868\ttest: 0.9746193\tbest: 0.9746193 (71)\ttotal: 3m 35s\tremaining: 1m 8s\n",
      "76:\tlearn: 0.9995868\ttest: 0.9749728\tbest: 0.9749728 (76)\ttotal: 3m 38s\tremaining: 1m 5s\n",
      "77:\tlearn: 0.9995868\ttest: 0.9746193\tbest: 0.9749728 (76)\ttotal: 3m 41s\tremaining: 1m 2s\n",
      "78:\tlearn: 0.9995868\ttest: 0.9742660\tbest: 0.9749728 (76)\ttotal: 3m 43s\tremaining: 59.5s\n",
      "79:\tlearn: 0.9997107\ttest: 0.9746193\tbest: 0.9749728 (76)\ttotal: 3m 46s\tremaining: 56.6s\n",
      "80:\tlearn: 0.9998347\ttest: 0.9753266\tbest: 0.9753266 (80)\ttotal: 3m 49s\tremaining: 53.8s\n",
      "81:\tlearn: 0.9998760\ttest: 0.9749728\tbest: 0.9753266 (80)\ttotal: 3m 52s\tremaining: 50.9s\n",
      "82:\tlearn: 0.9998760\ttest: 0.9760349\tbest: 0.9760349 (82)\ttotal: 3m 54s\tremaining: 48.1s\n",
      "83:\tlearn: 0.9998760\ttest: 0.9760349\tbest: 0.9760349 (82)\ttotal: 3m 57s\tremaining: 45.3s\n",
      "84:\tlearn: 0.9998760\ttest: 0.9767442\tbest: 0.9767442 (84)\ttotal: 4m\tremaining: 42.4s\n",
      "85:\tlearn: 0.9999173\ttest: 0.9760349\tbest: 0.9767442 (84)\ttotal: 4m 3s\tremaining: 39.6s\n",
      "86:\tlearn: 0.9999587\ttest: 0.9760349\tbest: 0.9767442 (84)\ttotal: 4m 5s\tremaining: 36.7s\n",
      "87:\tlearn: 0.9999587\ttest: 0.9767442\tbest: 0.9767442 (84)\ttotal: 4m 8s\tremaining: 33.9s\n",
      "88:\tlearn: 0.9999587\ttest: 0.9767442\tbest: 0.9767442 (84)\ttotal: 4m 11s\tremaining: 31.1s\n",
      "89:\tlearn: 0.9999587\ttest: 0.9767442\tbest: 0.9767442 (84)\ttotal: 4m 14s\tremaining: 28.3s\n",
      "90:\tlearn: 0.9999587\ttest: 0.9774545\tbest: 0.9774545 (90)\ttotal: 4m 17s\tremaining: 25.5s\n",
      "91:\tlearn: 0.9999587\ttest: 0.9774545\tbest: 0.9774545 (90)\ttotal: 4m 20s\tremaining: 22.6s\n",
      "92:\tlearn: 0.9999587\ttest: 0.9785220\tbest: 0.9785220 (92)\ttotal: 4m 22s\tremaining: 19.8s\n",
      "93:\tlearn: 0.9999587\ttest: 0.9781659\tbest: 0.9785220 (92)\ttotal: 4m 25s\tremaining: 17s\n",
      "94:\tlearn: 1.0000000\ttest: 0.9781659\tbest: 0.9785220 (92)\ttotal: 4m 28s\tremaining: 14.1s\n",
      "95:\tlearn: 1.0000000\ttest: 0.9785220\tbest: 0.9785220 (92)\ttotal: 4m 31s\tremaining: 11.3s\n",
      "96:\tlearn: 1.0000000\ttest: 0.9785220\tbest: 0.9785220 (92)\ttotal: 4m 34s\tremaining: 8.48s\n",
      "97:\tlearn: 1.0000000\ttest: 0.9785220\tbest: 0.9785220 (92)\ttotal: 4m 37s\tremaining: 5.66s\n",
      "98:\tlearn: 1.0000000\ttest: 0.9785220\tbest: 0.9785220 (92)\ttotal: 4m 40s\tremaining: 2.83s\n",
      "99:\tlearn: 1.0000000\ttest: 0.9792350\tbest: 0.9792350 (99)\ttotal: 4m 42s\tremaining: 0us\n",
      "\n",
      "bestTest = 0.9792349727\n",
      "bestIteration = 99\n",
      "\n",
      "Training on fold [29/30]\n",
      "0:\tlearn: 0.8437862\ttest: 0.8353068\tbest: 0.8353068 (0)\ttotal: 2.85s\tremaining: 4m 41s\n",
      "1:\tlearn: 0.8922098\ttest: 0.8850325\tbest: 0.8850325 (1)\ttotal: 5.66s\tremaining: 4m 37s\n",
      "2:\tlearn: 0.9089062\ttest: 0.8986880\tbest: 0.8986880 (2)\ttotal: 8.64s\tremaining: 4m 39s\n",
      "3:\tlearn: 0.9214029\ttest: 0.9102797\tbest: 0.9102797 (3)\ttotal: 11.5s\tremaining: 4m 36s\n",
      "4:\tlearn: 0.9328734\ttest: 0.9248724\tbest: 0.9248724 (4)\ttotal: 14.5s\tremaining: 4m 35s\n",
      "5:\tlearn: 0.9429429\ttest: 0.9317357\tbest: 0.9317357 (5)\ttotal: 17.4s\tremaining: 4m 32s\n",
      "6:\tlearn: 0.9491732\ttest: 0.9398907\tbest: 0.9398907 (6)\ttotal: 20.3s\tremaining: 4m 29s\n",
      "7:\tlearn: 0.9534761\ttest: 0.9404503\tbest: 0.9404503 (7)\ttotal: 23.2s\tremaining: 4m 26s\n",
      "8:\tlearn: 0.9584059\ttest: 0.9471767\tbest: 0.9471767 (8)\ttotal: 26.2s\tremaining: 4m 24s\n",
      "9:\tlearn: 0.9612535\ttest: 0.9500547\tbest: 0.9500547 (9)\ttotal: 29s\tremaining: 4m 21s\n",
      "10:\tlearn: 0.9638935\ttest: 0.9530397\tbest: 0.9530397 (10)\ttotal: 31.9s\tremaining: 4m 18s\n",
      "11:\tlearn: 0.9660112\ttest: 0.9579405\tbest: 0.9579405 (11)\ttotal: 34.7s\tremaining: 4m 14s\n",
      "12:\tlearn: 0.9684995\ttest: 0.9615664\tbest: 0.9615664 (12)\ttotal: 37.7s\tremaining: 4m 12s\n",
      "13:\tlearn: 0.9698688\ttest: 0.9605216\tbest: 0.9615664 (12)\ttotal: 40.5s\tremaining: 4m 9s\n",
      "14:\tlearn: 0.9735403\ttest: 0.9633925\tbest: 0.9633925 (14)\ttotal: 43.4s\tremaining: 4m 6s\n",
      "15:\tlearn: 0.9741159\ttest: 0.9662677\tbest: 0.9662677 (15)\ttotal: 46.3s\tremaining: 4m 3s\n",
      "16:\tlearn: 0.9755900\ttest: 0.9669931\tbest: 0.9669931 (16)\ttotal: 49.2s\tremaining: 4m\n",
      "17:\tlearn: 0.9770819\ttest: 0.9673440\tbest: 0.9673440 (17)\ttotal: 52.1s\tremaining: 3m 57s\n",
      "18:\tlearn: 0.9782520\ttest: 0.9691694\tbest: 0.9691694 (18)\ttotal: 54.9s\tremaining: 3m 54s\n",
      "19:\tlearn: 0.9794426\ttest: 0.9695431\tbest: 0.9695431 (19)\ttotal: 57.8s\tremaining: 3m 51s\n",
      "20:\tlearn: 0.9808881\ttest: 0.9695431\tbest: 0.9695431 (19)\ttotal: 1m\tremaining: 3m 47s\n",
      "21:\tlearn: 0.9825217\ttest: 0.9713664\tbest: 0.9713664 (21)\ttotal: 1m 3s\tremaining: 3m 44s\n",
      "22:\tlearn: 0.9829213\ttest: 0.9724238\tbest: 0.9724238 (22)\ttotal: 1m 6s\tremaining: 3m 41s\n",
      "23:\tlearn: 0.9842898\ttest: 0.9731495\tbest: 0.9731495 (23)\ttotal: 1m 9s\tremaining: 3m 39s\n",
      "24:\tlearn: 0.9850916\ttest: 0.9742100\tbest: 0.9742100 (24)\ttotal: 1m 12s\tremaining: 3m 36s\n",
      "25:\tlearn: 0.9854529\ttest: 0.9742100\tbest: 0.9742100 (24)\ttotal: 1m 14s\tremaining: 3m 33s\n",
      "26:\tlearn: 0.9860958\ttest: 0.9745640\tbest: 0.9745640 (26)\ttotal: 1m 17s\tremaining: 3m 30s\n",
      "27:\tlearn: 0.9874689\ttest: 0.9753266\tbest: 0.9753266 (27)\ttotal: 1m 20s\tremaining: 3m 27s\n",
      "28:\tlearn: 0.9876704\ttest: 0.9760349\tbest: 0.9760349 (28)\ttotal: 1m 23s\tremaining: 3m 24s\n",
      "29:\tlearn: 0.9883564\ttest: 0.9760349\tbest: 0.9760349 (28)\ttotal: 1m 26s\tremaining: 3m 21s\n",
      "30:\tlearn: 0.9891647\ttest: 0.9753266\tbest: 0.9760349 (28)\ttotal: 1m 29s\tremaining: 3m 18s\n",
      "31:\tlearn: 0.9892456\ttest: 0.9746193\tbest: 0.9760349 (28)\ttotal: 1m 31s\tremaining: 3m 15s\n",
      "32:\tlearn: 0.9897717\ttest: 0.9760349\tbest: 0.9760349 (28)\ttotal: 1m 34s\tremaining: 3m 12s\n",
      "33:\tlearn: 0.9903390\ttest: 0.9760349\tbest: 0.9760349 (28)\ttotal: 1m 37s\tremaining: 3m 9s\n",
      "34:\tlearn: 0.9907445\ttest: 0.9767442\tbest: 0.9767442 (34)\ttotal: 1m 40s\tremaining: 3m 5s\n",
      "35:\tlearn: 0.9913535\ttest: 0.9774545\tbest: 0.9774545 (35)\ttotal: 1m 42s\tremaining: 3m 3s\n",
      "36:\tlearn: 0.9918006\ttest: 0.9774545\tbest: 0.9774545 (35)\ttotal: 1m 45s\tremaining: 3m\n",
      "37:\tlearn: 0.9924923\ttest: 0.9778101\tbest: 0.9778101 (37)\ttotal: 1m 48s\tremaining: 2m 57s\n",
      "38:\tlearn: 0.9928997\ttest: 0.9785220\tbest: 0.9785220 (38)\ttotal: 1m 51s\tremaining: 2m 54s\n",
      "39:\tlearn: 0.9932258\ttest: 0.9785220\tbest: 0.9785220 (38)\ttotal: 1m 54s\tremaining: 2m 51s\n",
      "40:\tlearn: 0.9937562\ttest: 0.9781659\tbest: 0.9785220 (38)\ttotal: 1m 57s\tremaining: 2m 48s\n",
      "41:\tlearn: 0.9942054\ttest: 0.9781659\tbest: 0.9785220 (38)\ttotal: 1m 59s\tremaining: 2m 45s\n",
      "42:\tlearn: 0.9946550\ttest: 0.9781659\tbest: 0.9785220 (38)\ttotal: 2m 2s\tremaining: 2m 42s\n",
      "43:\tlearn: 0.9947777\ttest: 0.9781659\tbest: 0.9785220 (38)\ttotal: 2m 5s\tremaining: 2m 39s\n",
      "44:\tlearn: 0.9950642\ttest: 0.9785220\tbest: 0.9785220 (38)\ttotal: 2m 8s\tremaining: 2m 37s\n",
      "45:\tlearn: 0.9952689\ttest: 0.9785220\tbest: 0.9785220 (38)\ttotal: 2m 11s\tremaining: 2m 34s\n",
      "46:\tlearn: 0.9957195\ttest: 0.9781659\tbest: 0.9785220 (38)\ttotal: 2m 13s\tremaining: 2m 30s\n",
      "47:\tlearn: 0.9958834\ttest: 0.9788784\tbest: 0.9788784 (47)\ttotal: 2m 16s\tremaining: 2m 28s\n",
      "48:\tlearn: 0.9959654\ttest: 0.9792350\tbest: 0.9792350 (48)\ttotal: 2m 19s\tremaining: 2m 25s\n",
      "49:\tlearn: 0.9964167\ttest: 0.9799490\tbest: 0.9799490 (49)\ttotal: 2m 22s\tremaining: 2m 22s\n",
      "50:\tlearn: 0.9964167\ttest: 0.9803063\tbest: 0.9803063 (50)\ttotal: 2m 25s\tremaining: 2m 19s\n",
      "51:\tlearn: 0.9966630\ttest: 0.9806640\tbest: 0.9806640 (51)\ttotal: 2m 27s\tremaining: 2m 16s\n",
      "52:\tlearn: 0.9970737\ttest: 0.9806640\tbest: 0.9806640 (51)\ttotal: 2m 30s\tremaining: 2m 13s\n",
      "53:\tlearn: 0.9973204\ttest: 0.9806640\tbest: 0.9806640 (51)\ttotal: 2m 33s\tremaining: 2m 10s\n",
      "54:\tlearn: 0.9974848\ttest: 0.9806640\tbest: 0.9806640 (51)\ttotal: 2m 36s\tremaining: 2m 7s\n",
      "55:\tlearn: 0.9974026\ttest: 0.9813801\tbest: 0.9813801 (55)\ttotal: 2m 38s\tremaining: 2m 4s\n",
      "56:\tlearn: 0.9976082\ttest: 0.9817385\tbest: 0.9817385 (56)\ttotal: 2m 41s\tremaining: 2m 2s\n",
      "57:\tlearn: 0.9978551\ttest: 0.9817385\tbest: 0.9817385 (56)\ttotal: 2m 44s\tremaining: 1m 59s\n",
      "58:\tlearn: 0.9981022\ttest: 0.9810219\tbest: 0.9817385 (56)\ttotal: 2m 47s\tremaining: 1m 56s\n",
      "59:\tlearn: 0.9982257\ttest: 0.9817385\tbest: 0.9817385 (56)\ttotal: 2m 50s\tremaining: 1m 53s\n",
      "60:\tlearn: 0.9984729\ttest: 0.9820972\tbest: 0.9820972 (60)\ttotal: 2m 53s\tremaining: 1m 50s\n",
      "61:\tlearn: 0.9986790\ttest: 0.9828154\tbest: 0.9828154 (61)\ttotal: 2m 55s\tremaining: 1m 47s\n",
      "62:\tlearn: 0.9987202\ttest: 0.9820972\tbest: 0.9828154 (61)\ttotal: 2m 58s\tremaining: 1m 44s\n",
      "63:\tlearn: 0.9988439\ttest: 0.9824561\tbest: 0.9828154 (61)\ttotal: 3m 1s\tremaining: 1m 42s\n",
      "64:\tlearn: 0.9988852\ttest: 0.9828154\tbest: 0.9828154 (61)\ttotal: 3m 4s\tremaining: 1m 39s\n",
      "65:\tlearn: 0.9988439\ttest: 0.9828154\tbest: 0.9828154 (61)\ttotal: 3m 7s\tremaining: 1m 36s\n",
      "66:\tlearn: 0.9988852\ttest: 0.9828154\tbest: 0.9828154 (61)\ttotal: 3m 9s\tremaining: 1m 33s\n",
      "67:\tlearn: 0.9991327\ttest: 0.9820972\tbest: 0.9828154 (61)\ttotal: 3m 12s\tremaining: 1m 30s\n",
      "68:\tlearn: 0.9993391\ttest: 0.9824561\tbest: 0.9828154 (61)\ttotal: 3m 15s\tremaining: 1m 27s\n",
      "69:\tlearn: 0.9993391\ttest: 0.9820972\tbest: 0.9828154 (61)\ttotal: 3m 18s\tremaining: 1m 24s\n",
      "70:\tlearn: 0.9993803\ttest: 0.9828154\tbest: 0.9828154 (61)\ttotal: 3m 21s\tremaining: 1m 22s\n",
      "71:\tlearn: 0.9993803\ttest: 0.9831748\tbest: 0.9831748 (71)\ttotal: 3m 23s\tremaining: 1m 19s\n",
      "72:\tlearn: 0.9994629\ttest: 0.9828154\tbest: 0.9831748 (71)\ttotal: 3m 26s\tremaining: 1m 16s\n",
      "73:\tlearn: 0.9995042\ttest: 0.9831748\tbest: 0.9831748 (71)\ttotal: 3m 29s\tremaining: 1m 13s\n",
      "74:\tlearn: 0.9996281\ttest: 0.9838946\tbest: 0.9838946 (74)\ttotal: 3m 32s\tremaining: 1m 10s\n",
      "75:\tlearn: 0.9995868\ttest: 0.9842549\tbest: 0.9842549 (75)\ttotal: 3m 35s\tremaining: 1m 7s\n",
      "76:\tlearn: 0.9995868\ttest: 0.9835346\tbest: 0.9842549 (75)\ttotal: 3m 38s\tremaining: 1m 5s\n",
      "77:\tlearn: 0.9996694\ttest: 0.9831748\tbest: 0.9842549 (75)\ttotal: 3m 40s\tremaining: 1m 2s\n",
      "78:\tlearn: 0.9997520\ttest: 0.9835346\tbest: 0.9842549 (75)\ttotal: 3m 43s\tremaining: 59.5s\n",
      "79:\tlearn: 0.9997520\ttest: 0.9835346\tbest: 0.9842549 (75)\ttotal: 3m 46s\tremaining: 56.6s\n",
      "80:\tlearn: 0.9997934\ttest: 0.9835346\tbest: 0.9842549 (75)\ttotal: 3m 49s\tremaining: 53.8s\n",
      "81:\tlearn: 0.9998347\ttest: 0.9831748\tbest: 0.9842549 (75)\ttotal: 3m 52s\tremaining: 51s\n",
      "82:\tlearn: 0.9998760\ttest: 0.9831748\tbest: 0.9842549 (75)\ttotal: 3m 54s\tremaining: 48.1s\n",
      "83:\tlearn: 0.9998760\ttest: 0.9835346\tbest: 0.9842549 (75)\ttotal: 3m 57s\tremaining: 45.3s\n",
      "84:\tlearn: 0.9999173\ttest: 0.9835346\tbest: 0.9842549 (75)\ttotal: 4m\tremaining: 42.5s\n",
      "85:\tlearn: 0.9999173\ttest: 0.9835346\tbest: 0.9842549 (75)\ttotal: 4m 3s\tremaining: 39.6s\n",
      "86:\tlearn: 0.9999173\ttest: 0.9838946\tbest: 0.9842549 (75)\ttotal: 4m 6s\tremaining: 36.8s\n",
      "87:\tlearn: 0.9999173\ttest: 0.9838946\tbest: 0.9842549 (75)\ttotal: 4m 9s\tremaining: 34s\n",
      "88:\tlearn: 0.9999173\ttest: 0.9838946\tbest: 0.9842549 (75)\ttotal: 4m 12s\tremaining: 31.1s\n",
      "89:\tlearn: 0.9999587\ttest: 0.9838946\tbest: 0.9842549 (75)\ttotal: 4m 14s\tremaining: 28.3s\n",
      "90:\tlearn: 0.9999587\ttest: 0.9838946\tbest: 0.9842549 (75)\ttotal: 4m 17s\tremaining: 25.5s\n",
      "91:\tlearn: 0.9999587\ttest: 0.9838946\tbest: 0.9842549 (75)\ttotal: 4m 20s\tremaining: 22.7s\n",
      "92:\tlearn: 1.0000000\ttest: 0.9831748\tbest: 0.9842549 (75)\ttotal: 4m 23s\tremaining: 19.8s\n",
      "93:\tlearn: 1.0000000\ttest: 0.9828154\tbest: 0.9842549 (75)\ttotal: 4m 26s\tremaining: 17s\n",
      "94:\tlearn: 1.0000000\ttest: 0.9842549\tbest: 0.9842549 (75)\ttotal: 4m 29s\tremaining: 14.2s\n",
      "95:\tlearn: 1.0000000\ttest: 0.9838946\tbest: 0.9842549 (75)\ttotal: 4m 32s\tremaining: 11.3s\n",
      "96:\tlearn: 1.0000000\ttest: 0.9846154\tbest: 0.9846154 (96)\ttotal: 4m 35s\tremaining: 8.51s\n",
      "97:\tlearn: 1.0000000\ttest: 0.9846154\tbest: 0.9846154 (96)\ttotal: 4m 38s\tremaining: 5.68s\n",
      "98:\tlearn: 1.0000000\ttest: 0.9846154\tbest: 0.9846154 (96)\ttotal: 4m 40s\tremaining: 2.84s\n",
      "99:\tlearn: 1.0000000\ttest: 0.9846154\tbest: 0.9846154 (96)\ttotal: 4m 43s\tremaining: 0us\n",
      "\n",
      "bestTest = 0.9846153846\n",
      "bestIteration = 96\n",
      "\n",
      "CPU times: total: 21h 17min 55s\n",
      "Wall time: 2h 47min 17s\n"
     ]
    },
    {
     "data": {
      "text/plain": [
       "(0.7086844998167826,\n",
       " {'learn': {'Logloss': 0.01984652255978822, 'F1': 1.0}},\n",
       " {'loss_function': 'Logloss',\n",
       "  'eval_metric': 'F1',\n",
       "  'depth': 10,\n",
       "  'l2_leaf_reg': 1,\n",
       "  'iterations': 100,\n",
       "  'learning_rate': 0.1})"
      ]
     },
     "execution_count": 34,
     "metadata": {},
     "output_type": "execute_result"
    }
   ],
   "source": [
    "%%time\n",
    "train_dataset = cb.Pool(X_train,y_train)                                                      \n",
    "test_dataset = cb.Pool(X_test,y_test)\n",
    "\n",
    "ctbff = cb.CatBoostClassifier(loss_function='Logloss',  \n",
    "                              eval_metric='F1')\n",
    "\n",
    "\n",
    "grid = {'learning_rate': [0.03, 0.1],\n",
    "        'depth': [4, 10],\n",
    "        'l2_leaf_reg': [1, 5,],\n",
    "        'iterations': [100]}\n",
    "\n",
    "cv = RepeatedStratifiedKFold(n_splits=10, n_repeats=3, random_state=12345)\n",
    "\n",
    "ctbff.grid_search(grid,train_dataset, cv = cv)\n",
    "\n",
    "y_pred = ctbff.predict(X_valid)\n",
    "f1_ctbff = f1_score(y_valid, y_pred)\n",
    "f1_ctbff, ctbff.best_score_, ctbff.get_params()"
   ]
  },
  {
   "cell_type": "markdown",
   "metadata": {},
   "source": [
    "## Анализ моделей"
   ]
  },
  {
   "cell_type": "markdown",
   "metadata": {},
   "source": [
    "<font size=\"3\"><b>Создаем константную модель, для проверки адекватности модели.</b></font>"
   ]
  },
  {
   "cell_type": "code",
   "execution_count": 35,
   "metadata": {},
   "outputs": [
    {
     "data": {
      "text/plain": [
       "0.690009243013776"
      ]
     },
     "execution_count": 35,
     "metadata": {},
     "output_type": "execute_result"
    }
   ],
   "source": [
    "clf = DummyClassifier()\n",
    "\n",
    "scores_clf = cross_val_score(clf, X_train, y_train, scoring='f1', n_jobs=-1)\n",
    "\n",
    "scores_clf.mean()"
   ]
  },
  {
   "cell_type": "markdown",
   "metadata": {},
   "source": [
    "<font size=\"3\"><b>Объединяем полученные результаты в одну таблицу для нагялдности</b></font>"
   ]
  },
  {
   "cell_type": "code",
   "execution_count": 43,
   "metadata": {},
   "outputs": [
    {
     "data": {
      "text/html": [
       "<div>\n",
       "<style scoped>\n",
       "    .dataframe tbody tr th:only-of-type {\n",
       "        vertical-align: middle;\n",
       "    }\n",
       "\n",
       "    .dataframe tbody tr th {\n",
       "        vertical-align: top;\n",
       "    }\n",
       "\n",
       "    .dataframe thead th {\n",
       "        text-align: right;\n",
       "    }\n",
       "</style>\n",
       "<table border=\"1\" class=\"dataframe\">\n",
       "  <thead>\n",
       "    <tr style=\"text-align: right;\">\n",
       "      <th></th>\n",
       "      <th>F1</th>\n",
       "    </tr>\n",
       "  </thead>\n",
       "  <tbody>\n",
       "    <tr>\n",
       "      <th>LogisticRegression_default</th>\n",
       "      <td>0.923</td>\n",
       "    </tr>\n",
       "    <tr>\n",
       "      <th>LogisticRegression_weight</th>\n",
       "      <td>0.921</td>\n",
       "    </tr>\n",
       "    <tr>\n",
       "      <th>LogisticRegression_grid_search</th>\n",
       "      <td>0.921</td>\n",
       "    </tr>\n",
       "    <tr>\n",
       "      <th>RandomForestClassifier_default</th>\n",
       "      <td>0.994</td>\n",
       "    </tr>\n",
       "    <tr>\n",
       "      <th>LGBMClassifier_default</th>\n",
       "      <td>0.976</td>\n",
       "    </tr>\n",
       "    <tr>\n",
       "      <th>LGBMClassifier_cross_val</th>\n",
       "      <td>0.989</td>\n",
       "    </tr>\n",
       "    <tr>\n",
       "      <th>CatBoostClassifier</th>\n",
       "      <td>0.918</td>\n",
       "    </tr>\n",
       "    <tr>\n",
       "      <th>CatBoostClassifier_grid_search</th>\n",
       "      <td>0.982</td>\n",
       "    </tr>\n",
       "    <tr>\n",
       "      <th>DummyRegressor</th>\n",
       "      <td>0.690</td>\n",
       "    </tr>\n",
       "  </tbody>\n",
       "</table>\n",
       "</div>"
      ],
      "text/plain": [
       "                                   F1\n",
       "LogisticRegression_default      0.923\n",
       "LogisticRegression_weight       0.921\n",
       "LogisticRegression_grid_search  0.921\n",
       "RandomForestClassifier_default  0.994\n",
       "LGBMClassifier_default          0.976\n",
       "LGBMClassifier_cross_val        0.989\n",
       "CatBoostClassifier              0.918\n",
       "CatBoostClassifier_grid_search  0.982\n",
       "DummyRegressor                  0.690"
      ]
     },
     "execution_count": 43,
     "metadata": {},
     "output_type": "execute_result"
    }
   ],
   "source": [
    "data = {'F1' :[round(scores.mean(), 3), round(scores_weight.mean(), 3),\n",
    "               round(gri, 3),\n",
    "               round(scores_rfr.mean(), 3), round(scores_lgbm.mean(), 3),\n",
    "               round(n_scores.mean(), 3), round(f1_ctbf, 3),\n",
    "               0.982, round(scores_clf.mean(), 3)]}\n",
    "\n",
    "total = pd.DataFrame(data, index=['LogisticRegression_default', 'LogisticRegression_weight',\n",
    "                                  'LogisticRegression_grid_search', 'RandomForestClassifier_default',\n",
    "                                  'LGBMClassifier_default',\n",
    "                                  'LGBMClassifier_cross_val', 'CatBoostClassifier',\n",
    "                                  'CatBoostClassifier_grid_search', 'DummyRegressor'])\n",
    "\n",
    "total"
   ]
  },
  {
   "cell_type": "markdown",
   "metadata": {},
   "source": [
    "<font size=\"3\"><b>Проверяем выбранную модель на тестовой выборке.</b></font>"
   ]
  },
  {
   "cell_type": "code",
   "execution_count": 44,
   "metadata": {},
   "outputs": [
    {
     "data": {
      "text/plain": [
       "0.7426970788315327"
      ]
     },
     "execution_count": 44,
     "metadata": {},
     "output_type": "execute_result"
    }
   ],
   "source": [
    "X_train = pd.DataFrame(X_train)\n",
    "X_valid = pd.DataFrame(X_valid)\n",
    "\n",
    "y_train = pd.Series(y_train)\n",
    "y_valid = pd.Series(y_valid)\n",
    "\n",
    "X_valid = pd.concat([X_train] + [X_valid])\n",
    "y_valid = pd.concat([y_train] + [y_valid])\n",
    "\n",
    "model.fit(X_valid, y_valid)\n",
    "y_predict = model.predict(X_test)\n",
    "\n",
    "f1 = f1_score(y_test, y_predict)\n",
    "f1"
   ]
  },
  {
   "cell_type": "markdown",
   "metadata": {},
   "source": [
    "# Выводы\n",
    "На основе проведенного эксперимента с различными моделями машинного обучения для классификации токсичных комментариев, можно сделать следующие выводы:\n",
    "\n",
    "Лучшая производительность: Модель LGBMClassifier с использованием кросс-валидации показала наилучший результат с F1-метрикой равной 0.989. Это указывает на высокую эффективность данной модели в задаче классификации токсичных комментариев.\n",
    "Другие модели: Модели RandomForestClassifier и CatBoostClassifier с использованием настройки гиперпараметров через поиск по сетке также показали высокие результаты с F1-метрикой 0.94 и 0.982 соответственно.\n",
    "Базовая модель: DummyRegressor, используемый в качестве базовой модели, продемонстрировал значительно ниже результат, что подчеркивает эффективность выбранных моделей машинного обучения.\n",
    "Влияние настройки гиперпараметров: Настройка гиперпараметров значительно улучшила результаты для моделей CatBoostClassifier и LogisticRegression, подтверждая необходимость тщательной оптимизации моделей."
   ]
  },
  {
   "cell_type": "markdown",
   "metadata": {},
   "source": [
    "## Рекомендации для улучшения модели\n",
    "Глубокая настройка гиперпараметров: Продолжить оптимизацию гиперпараметров для моделей, показавших высокую эффективность, особенно для LGBMClassifier и CatBoostClassifier, для дальнейшего повышения точности модели.\n",
    "Ансамбли моделей: Исследовать возможность комбинирования нескольких моделей в ансамбль для улучшения точности и устойчивости предсказаний.\n",
    "Расширенная предобработка данных: Уделить внимание дополнительной очистке и подготовке данных, возможно, введение дополнительных признаков, которые могут помочь улучшить классификацию комментариев.\n",
    "Использование большего количества данных: Если возможно, использовать больший объем данных для обучения, чтобы модель могла обучаться на более разнообразных примерах.\n",
    "Эксперименты с глубоким обучением: Рассмотреть использование более сложных архитектур нейронных сетей, которые могут уловить более тонкие нюансы в данных и улучшить результаты классификации."
   ]
  }
 ],
 "metadata": {
  "ExecuteTimeLog": [
   {
    "duration": 1664,
    "start_time": "2022-11-24T14:30:17.367Z"
   },
   {
    "duration": 1250,
    "start_time": "2022-11-24T14:31:26.048Z"
   },
   {
    "duration": 133,
    "start_time": "2022-11-24T14:32:10.818Z"
   },
   {
    "duration": 16,
    "start_time": "2022-11-24T14:35:30.700Z"
   },
   {
    "duration": 80,
    "start_time": "2022-11-24T14:39:10.058Z"
   },
   {
    "duration": 106,
    "start_time": "2022-11-24T14:40:34.461Z"
   },
   {
    "duration": 9,
    "start_time": "2022-11-24T14:40:42.846Z"
   },
   {
    "duration": 10,
    "start_time": "2022-11-24T14:40:50.256Z"
   },
   {
    "duration": 133,
    "start_time": "2022-11-24T14:41:01.153Z"
   },
   {
    "duration": 931,
    "start_time": "2022-11-24T14:41:25.646Z"
   },
   {
    "duration": 9,
    "start_time": "2022-11-24T14:44:50.143Z"
   },
   {
    "duration": 9,
    "start_time": "2022-11-24T14:45:01.722Z"
   },
   {
    "duration": 9,
    "start_time": "2022-11-24T14:45:10.049Z"
   },
   {
    "duration": 10,
    "start_time": "2022-11-24T14:46:17.969Z"
   },
   {
    "duration": 9,
    "start_time": "2022-11-24T14:48:34.997Z"
   },
   {
    "duration": 9,
    "start_time": "2022-11-24T14:48:43.897Z"
   },
   {
    "duration": 10,
    "start_time": "2022-11-24T14:49:02.467Z"
   },
   {
    "duration": 4,
    "start_time": "2022-11-24T14:49:25.954Z"
   },
   {
    "duration": 9,
    "start_time": "2022-11-24T14:50:24.583Z"
   },
   {
    "duration": 10,
    "start_time": "2022-11-24T14:53:20.276Z"
   },
   {
    "duration": 9,
    "start_time": "2022-11-24T14:53:28.238Z"
   },
   {
    "duration": 9,
    "start_time": "2022-11-24T14:53:33.772Z"
   },
   {
    "duration": 4,
    "start_time": "2022-11-24T14:55:38.062Z"
   },
   {
    "duration": 14,
    "start_time": "2022-11-24T14:55:46.657Z"
   },
   {
    "duration": 1935,
    "start_time": "2022-11-24T15:02:36.937Z"
   },
   {
    "duration": 28,
    "start_time": "2022-11-24T15:02:54.947Z"
   },
   {
    "duration": 1454,
    "start_time": "2022-11-24T16:30:41.862Z"
   },
   {
    "duration": 778,
    "start_time": "2022-11-24T16:30:43.318Z"
   },
   {
    "duration": 128,
    "start_time": "2022-11-24T16:30:44.098Z"
   },
   {
    "duration": 7,
    "start_time": "2022-11-24T16:30:44.236Z"
   },
   {
    "duration": 25,
    "start_time": "2022-11-24T16:30:44.245Z"
   },
   {
    "duration": 913,
    "start_time": "2022-11-24T16:30:44.272Z"
   },
   {
    "duration": 0,
    "start_time": "2022-11-24T16:30:45.187Z"
   },
   {
    "duration": 16,
    "start_time": "2022-11-24T16:34:03.053Z"
   },
   {
    "duration": 123,
    "start_time": "2022-11-24T16:34:26.187Z"
   },
   {
    "duration": 5,
    "start_time": "2022-11-24T16:34:46.815Z"
   },
   {
    "duration": 803,
    "start_time": "2022-11-24T16:35:04.626Z"
   },
   {
    "duration": 23,
    "start_time": "2022-11-24T16:44:23.507Z"
   },
   {
    "duration": 103,
    "start_time": "2022-11-24T16:44:27.256Z"
   },
   {
    "duration": 26,
    "start_time": "2022-11-24T16:45:20.724Z"
   },
   {
    "duration": 1425,
    "start_time": "2022-11-24T16:45:38.194Z"
   },
   {
    "duration": 871,
    "start_time": "2022-11-24T16:45:39.621Z"
   },
   {
    "duration": 132,
    "start_time": "2022-11-24T16:45:40.493Z"
   },
   {
    "duration": 9,
    "start_time": "2022-11-24T16:45:40.636Z"
   },
   {
    "duration": 41,
    "start_time": "2022-11-24T16:45:40.647Z"
   },
   {
    "duration": 27,
    "start_time": "2022-11-24T16:45:40.690Z"
   },
   {
    "duration": 147,
    "start_time": "2022-11-24T16:47:00.688Z"
   },
   {
    "duration": 1399,
    "start_time": "2022-11-24T16:49:50.825Z"
   },
   {
    "duration": 900,
    "start_time": "2022-11-24T16:49:52.226Z"
   },
   {
    "duration": 134,
    "start_time": "2022-11-24T16:49:53.128Z"
   },
   {
    "duration": 7,
    "start_time": "2022-11-24T16:49:53.264Z"
   },
   {
    "duration": 25,
    "start_time": "2022-11-24T16:49:53.273Z"
   },
   {
    "duration": 35,
    "start_time": "2022-11-24T16:49:53.300Z"
   },
   {
    "duration": 134,
    "start_time": "2022-11-24T16:49:53.337Z"
   },
   {
    "duration": 45,
    "start_time": "2022-11-24T16:53:42.114Z"
   },
   {
    "duration": 50,
    "start_time": "2022-11-24T16:54:16.619Z"
   },
   {
    "duration": 207,
    "start_time": "2022-11-24T17:01:54.959Z"
   },
   {
    "duration": 212,
    "start_time": "2022-11-24T17:02:14.418Z"
   },
   {
    "duration": 32,
    "start_time": "2022-11-24T17:04:13.560Z"
   },
   {
    "duration": 125,
    "start_time": "2022-11-24T17:04:21.886Z"
   },
   {
    "duration": 4,
    "start_time": "2022-11-24T17:04:35.492Z"
   },
   {
    "duration": 3,
    "start_time": "2022-11-24T17:04:47.390Z"
   },
   {
    "duration": 4,
    "start_time": "2022-11-24T17:04:52.688Z"
   },
   {
    "duration": 85,
    "start_time": "2022-11-24T17:05:15.881Z"
   },
   {
    "duration": 7,
    "start_time": "2022-11-24T17:05:17.382Z"
   },
   {
    "duration": 935,
    "start_time": "2022-11-24T17:05:43.864Z"
   },
   {
    "duration": 5,
    "start_time": "2022-11-24T17:05:54.088Z"
   },
   {
    "duration": 16,
    "start_time": "2022-11-24T17:06:02.257Z"
   },
   {
    "duration": 8,
    "start_time": "2022-11-24T17:06:06.631Z"
   },
   {
    "duration": 85,
    "start_time": "2022-11-24T17:06:24.567Z"
   },
   {
    "duration": 93,
    "start_time": "2022-11-24T17:06:45.613Z"
   },
   {
    "duration": 8,
    "start_time": "2022-11-24T17:06:46.951Z"
   },
   {
    "duration": 12,
    "start_time": "2022-11-24T17:07:08.546Z"
   },
   {
    "duration": 6,
    "start_time": "2022-11-24T17:07:23.859Z"
   },
   {
    "duration": 179,
    "start_time": "2022-11-24T17:08:02.576Z"
   },
   {
    "duration": 148,
    "start_time": "2022-11-24T17:08:19.546Z"
   },
   {
    "duration": 145,
    "start_time": "2022-11-24T17:08:26.329Z"
   },
   {
    "duration": 135,
    "start_time": "2022-11-24T17:09:07.432Z"
   },
   {
    "duration": 216,
    "start_time": "2022-11-24T17:09:10.694Z"
   },
   {
    "duration": 11,
    "start_time": "2022-11-24T17:09:26.000Z"
   },
   {
    "duration": 126,
    "start_time": "2022-11-24T17:09:33.241Z"
   },
   {
    "duration": 128,
    "start_time": "2022-11-24T17:09:38.327Z"
   },
   {
    "duration": 128,
    "start_time": "2022-11-24T17:09:43.868Z"
   },
   {
    "duration": 119,
    "start_time": "2022-11-24T17:09:49.464Z"
   },
   {
    "duration": 163,
    "start_time": "2022-11-24T17:09:57.118Z"
   },
   {
    "duration": 9,
    "start_time": "2022-11-24T17:10:21.985Z"
   },
   {
    "duration": 36,
    "start_time": "2022-11-24T17:10:46.954Z"
   },
   {
    "duration": 10,
    "start_time": "2022-11-24T17:11:03.168Z"
   },
   {
    "duration": 9,
    "start_time": "2022-11-24T17:11:10.307Z"
   },
   {
    "duration": 39,
    "start_time": "2022-11-24T17:12:48.417Z"
   },
   {
    "duration": 35,
    "start_time": "2022-11-24T17:13:04.175Z"
   },
   {
    "duration": 9,
    "start_time": "2022-11-24T17:13:40.437Z"
   },
   {
    "duration": 9,
    "start_time": "2022-11-24T17:14:04.147Z"
   },
   {
    "duration": 11,
    "start_time": "2022-11-24T17:18:22.537Z"
   },
   {
    "duration": 12,
    "start_time": "2022-11-24T17:18:30.870Z"
   },
   {
    "duration": 41,
    "start_time": "2022-11-24T17:18:38.723Z"
   },
   {
    "duration": 40,
    "start_time": "2022-11-24T17:26:31.268Z"
   },
   {
    "duration": 41,
    "start_time": "2022-11-24T17:26:53.721Z"
   },
   {
    "duration": 40,
    "start_time": "2022-11-24T17:27:37.532Z"
   },
   {
    "duration": 40,
    "start_time": "2022-11-24T17:27:53.112Z"
   },
   {
    "duration": 40,
    "start_time": "2022-11-24T17:29:22.911Z"
   },
   {
    "duration": 2882,
    "start_time": "2022-11-24T17:29:32.277Z"
   },
   {
    "duration": 2831,
    "start_time": "2022-11-24T17:29:57.968Z"
   },
   {
    "duration": 2761,
    "start_time": "2022-11-24T17:30:10.934Z"
   },
   {
    "duration": 50,
    "start_time": "2022-11-24T22:12:31.459Z"
   },
   {
    "duration": 7,
    "start_time": "2022-11-24T22:12:40.414Z"
   },
   {
    "duration": 1646,
    "start_time": "2022-11-24T22:12:52.911Z"
   },
   {
    "duration": 2808,
    "start_time": "2022-11-24T22:12:54.559Z"
   },
   {
    "duration": 136,
    "start_time": "2022-11-24T22:12:57.369Z"
   },
   {
    "duration": 8,
    "start_time": "2022-11-24T22:12:57.508Z"
   },
   {
    "duration": 18,
    "start_time": "2022-11-24T22:12:57.517Z"
   },
   {
    "duration": 28,
    "start_time": "2022-11-24T22:12:57.550Z"
   },
   {
    "duration": 142,
    "start_time": "2022-11-24T22:12:57.579Z"
   },
   {
    "duration": 122,
    "start_time": "2022-11-24T22:12:57.722Z"
   },
   {
    "duration": 0,
    "start_time": "2022-11-24T22:12:57.846Z"
   },
   {
    "duration": 0,
    "start_time": "2022-11-24T22:12:57.851Z"
   },
   {
    "duration": 0,
    "start_time": "2022-11-24T22:12:57.852Z"
   },
   {
    "duration": 0,
    "start_time": "2022-11-24T22:12:57.853Z"
   },
   {
    "duration": 1047,
    "start_time": "2022-11-24T22:13:44.525Z"
   },
   {
    "duration": 864,
    "start_time": "2022-11-24T22:15:06.395Z"
   },
   {
    "duration": 917,
    "start_time": "2022-11-24T22:15:12.460Z"
   },
   {
    "duration": 948,
    "start_time": "2022-11-24T22:15:21.966Z"
   },
   {
    "duration": 2899,
    "start_time": "2022-11-24T22:16:44.631Z"
   },
   {
    "duration": 2871,
    "start_time": "2022-11-24T22:16:59.664Z"
   },
   {
    "duration": 2873,
    "start_time": "2022-11-24T22:17:13.689Z"
   },
   {
    "duration": 2832,
    "start_time": "2022-11-24T22:17:39.989Z"
   },
   {
    "duration": 1430,
    "start_time": "2022-11-24T22:17:52.545Z"
   },
   {
    "duration": 1654,
    "start_time": "2022-11-24T22:18:01.684Z"
   },
   {
    "duration": 1545,
    "start_time": "2022-11-24T22:18:14.520Z"
   },
   {
    "duration": 1609,
    "start_time": "2022-11-24T22:18:21.227Z"
   },
   {
    "duration": 2108,
    "start_time": "2022-11-24T22:18:31.416Z"
   },
   {
    "duration": 2849,
    "start_time": "2022-11-24T22:18:40.626Z"
   },
   {
    "duration": 13902,
    "start_time": "2022-11-24T22:18:49.689Z"
   },
   {
    "duration": 3723,
    "start_time": "2022-11-24T22:20:01.702Z"
   },
   {
    "duration": 7751,
    "start_time": "2022-11-24T22:20:21.559Z"
   },
   {
    "duration": 14826,
    "start_time": "2022-11-24T22:20:58.661Z"
   },
   {
    "duration": 14482,
    "start_time": "2022-11-24T22:21:39.679Z"
   },
   {
    "duration": 77,
    "start_time": "2022-11-24T22:30:56.124Z"
   },
   {
    "duration": 47,
    "start_time": "2022-11-29T14:05:50.591Z"
   },
   {
    "duration": 1623,
    "start_time": "2022-11-29T14:05:56.545Z"
   },
   {
    "duration": 1017,
    "start_time": "2022-11-29T14:05:58.170Z"
   },
   {
    "duration": 120,
    "start_time": "2022-11-29T14:05:59.188Z"
   },
   {
    "duration": 6,
    "start_time": "2022-11-29T14:05:59.967Z"
   },
   {
    "duration": 16,
    "start_time": "2022-11-29T14:06:01.610Z"
   },
   {
    "duration": 27,
    "start_time": "2022-11-29T14:06:03.379Z"
   },
   {
    "duration": 129,
    "start_time": "2022-11-29T14:06:05.413Z"
   },
   {
    "duration": 33,
    "start_time": "2022-11-29T14:06:06.603Z"
   },
   {
    "duration": 29,
    "start_time": "2022-11-29T14:08:36.391Z"
   },
   {
    "duration": 34,
    "start_time": "2022-11-29T14:09:04.678Z"
   },
   {
    "duration": 24,
    "start_time": "2022-11-29T14:09:33.327Z"
   },
   {
    "duration": 73,
    "start_time": "2022-11-29T14:12:16.394Z"
   },
   {
    "duration": 24,
    "start_time": "2022-11-29T14:12:24.978Z"
   },
   {
    "duration": 10,
    "start_time": "2022-11-29T14:12:35.275Z"
   },
   {
    "duration": 10,
    "start_time": "2022-11-29T14:13:47.708Z"
   },
   {
    "duration": 8,
    "start_time": "2022-11-29T14:13:59.125Z"
   },
   {
    "duration": 9,
    "start_time": "2022-11-29T14:14:10.665Z"
   },
   {
    "duration": 38,
    "start_time": "2022-11-29T14:14:46.770Z"
   },
   {
    "duration": 21,
    "start_time": "2022-11-29T14:14:53.604Z"
   },
   {
    "duration": 25,
    "start_time": "2022-11-29T14:15:22.595Z"
   },
   {
    "duration": 17,
    "start_time": "2022-11-29T14:15:32.730Z"
   },
   {
    "duration": 25,
    "start_time": "2022-11-29T14:16:09.299Z"
   },
   {
    "duration": 39,
    "start_time": "2022-11-29T14:16:14.186Z"
   },
   {
    "duration": 92,
    "start_time": "2022-11-29T14:22:35.532Z"
   },
   {
    "duration": 411,
    "start_time": "2022-11-29T14:33:46.834Z"
   },
   {
    "duration": 461,
    "start_time": "2022-11-29T14:35:20.542Z"
   },
   {
    "duration": 1945,
    "start_time": "2022-11-29T14:35:35.660Z"
   },
   {
    "duration": 1938,
    "start_time": "2022-11-29T14:36:12.530Z"
   },
   {
    "duration": 1900,
    "start_time": "2022-11-29T14:36:25.784Z"
   },
   {
    "duration": 9,
    "start_time": "2022-11-29T14:40:48.986Z"
   },
   {
    "duration": 23,
    "start_time": "2022-11-29T14:40:54.077Z"
   },
   {
    "duration": 22,
    "start_time": "2022-11-29T14:45:23.435Z"
   },
   {
    "duration": 22,
    "start_time": "2022-11-29T14:45:45.092Z"
   },
   {
    "duration": 21,
    "start_time": "2022-11-29T14:46:33.707Z"
   },
   {
    "duration": 22,
    "start_time": "2022-11-29T14:46:42.666Z"
   },
   {
    "duration": 23,
    "start_time": "2022-11-29T14:46:58.930Z"
   },
   {
    "duration": 11,
    "start_time": "2022-11-29T14:48:20.278Z"
   },
   {
    "duration": 30,
    "start_time": "2022-11-29T14:48:25.122Z"
   },
   {
    "duration": 143,
    "start_time": "2022-11-29T14:49:46.892Z"
   },
   {
    "duration": 23,
    "start_time": "2022-11-29T14:50:41.645Z"
   },
   {
    "duration": 25,
    "start_time": "2022-11-29T14:51:38.913Z"
   },
   {
    "duration": 25,
    "start_time": "2022-11-29T14:52:24.557Z"
   },
   {
    "duration": 23,
    "start_time": "2022-11-29T14:52:35.031Z"
   },
   {
    "duration": 24,
    "start_time": "2022-11-29T14:52:42.271Z"
   },
   {
    "duration": 1908,
    "start_time": "2022-11-29T14:54:05.563Z"
   },
   {
    "duration": 1858,
    "start_time": "2022-11-29T14:54:57.671Z"
   },
   {
    "duration": 1844,
    "start_time": "2022-11-29T14:55:49.592Z"
   },
   {
    "duration": 2055,
    "start_time": "2022-11-29T14:56:04.730Z"
   },
   {
    "duration": 1948,
    "start_time": "2022-11-29T14:56:17.866Z"
   },
   {
    "duration": 382,
    "start_time": "2022-11-29T14:56:48.937Z"
   },
   {
    "duration": 1175,
    "start_time": "2022-11-29T14:57:03.017Z"
   },
   {
    "duration": 285,
    "start_time": "2022-11-29T14:57:07.018Z"
   },
   {
    "duration": 292,
    "start_time": "2022-11-29T14:57:57.140Z"
   },
   {
    "duration": 27,
    "start_time": "2022-11-29T15:00:15.618Z"
   },
   {
    "duration": 1898,
    "start_time": "2022-11-29T15:02:05.915Z"
   },
   {
    "duration": 1964,
    "start_time": "2022-11-29T15:02:19.698Z"
   },
   {
    "duration": 211,
    "start_time": "2022-11-29T15:04:05.048Z"
   },
   {
    "duration": 44,
    "start_time": "2022-11-29T15:04:20.745Z"
   },
   {
    "duration": 61,
    "start_time": "2022-11-29T15:04:34.305Z"
   },
   {
    "duration": 47,
    "start_time": "2022-11-29T15:08:06.606Z"
   },
   {
    "duration": 46,
    "start_time": "2022-11-29T15:08:19.268Z"
   },
   {
    "duration": 56,
    "start_time": "2022-11-29T15:08:29.999Z"
   },
   {
    "duration": 89,
    "start_time": "2022-11-29T15:11:51.292Z"
   },
   {
    "duration": 319,
    "start_time": "2022-11-29T15:13:13.836Z"
   },
   {
    "duration": 1940,
    "start_time": "2022-11-29T15:13:24.678Z"
   },
   {
    "duration": 1884,
    "start_time": "2022-11-29T15:13:42.598Z"
   },
   {
    "duration": 72,
    "start_time": "2022-11-29T15:14:33.567Z"
   },
   {
    "duration": 61,
    "start_time": "2022-11-29T15:15:04.116Z"
   },
   {
    "duration": 1770,
    "start_time": "2022-11-30T14:55:48.375Z"
   },
   {
    "duration": 2846,
    "start_time": "2022-11-30T14:55:50.147Z"
   },
   {
    "duration": 136,
    "start_time": "2022-11-30T14:55:52.995Z"
   },
   {
    "duration": 8,
    "start_time": "2022-11-30T14:55:53.133Z"
   },
   {
    "duration": 25,
    "start_time": "2022-11-30T14:55:53.142Z"
   },
   {
    "duration": 28,
    "start_time": "2022-11-30T14:55:53.169Z"
   },
   {
    "duration": 154,
    "start_time": "2022-11-30T14:55:53.198Z"
   },
   {
    "duration": 98,
    "start_time": "2022-11-30T14:55:53.353Z"
   },
   {
    "duration": 126,
    "start_time": "2022-11-30T14:55:53.453Z"
   },
   {
    "duration": 0,
    "start_time": "2022-11-30T14:55:53.581Z"
   },
   {
    "duration": 0,
    "start_time": "2022-11-30T14:55:53.583Z"
   },
   {
    "duration": 0,
    "start_time": "2022-11-30T14:55:53.584Z"
   },
   {
    "duration": 0,
    "start_time": "2022-11-30T14:55:53.585Z"
   },
   {
    "duration": 0,
    "start_time": "2022-11-30T14:55:53.586Z"
   },
   {
    "duration": 0,
    "start_time": "2022-11-30T14:55:53.587Z"
   },
   {
    "duration": 0,
    "start_time": "2022-11-30T14:55:53.588Z"
   },
   {
    "duration": 0,
    "start_time": "2022-11-30T14:55:53.588Z"
   },
   {
    "duration": 0,
    "start_time": "2022-11-30T14:55:53.589Z"
   },
   {
    "duration": 0,
    "start_time": "2022-11-30T14:55:53.590Z"
   },
   {
    "duration": 0,
    "start_time": "2022-11-30T14:55:53.591Z"
   },
   {
    "duration": 0,
    "start_time": "2022-11-30T14:55:53.593Z"
   },
   {
    "duration": 440,
    "start_time": "2022-11-30T15:04:04.347Z"
   },
   {
    "duration": 476,
    "start_time": "2022-11-30T15:04:21.272Z"
   },
   {
    "duration": 1588,
    "start_time": "2022-12-01T14:07:46.913Z"
   },
   {
    "duration": 2762,
    "start_time": "2022-12-01T14:07:49.757Z"
   },
   {
    "duration": 120,
    "start_time": "2022-12-01T14:07:52.521Z"
   },
   {
    "duration": 7,
    "start_time": "2022-12-01T14:07:54.512Z"
   },
   {
    "duration": 16,
    "start_time": "2022-12-01T14:08:00.229Z"
   },
   {
    "duration": 153,
    "start_time": "2022-12-01T14:08:10.107Z"
   },
   {
    "duration": 61,
    "start_time": "2022-12-01T14:10:23.586Z"
   },
   {
    "duration": 54,
    "start_time": "2022-12-01T14:11:11.531Z"
   },
   {
    "duration": 249,
    "start_time": "2022-12-01T14:13:30.802Z"
   },
   {
    "duration": 1321,
    "start_time": "2022-12-01T14:17:28.849Z"
   },
   {
    "duration": 1163,
    "start_time": "2022-12-01T14:17:48.512Z"
   },
   {
    "duration": 147,
    "start_time": "2022-12-01T14:17:54.036Z"
   },
   {
    "duration": 23,
    "start_time": "2022-12-01T14:18:12.524Z"
   },
   {
    "duration": 159,
    "start_time": "2022-12-01T14:18:21.181Z"
   },
   {
    "duration": 146,
    "start_time": "2022-12-01T14:19:13.350Z"
   },
   {
    "duration": 12,
    "start_time": "2022-12-01T14:19:41.932Z"
   },
   {
    "duration": 9,
    "start_time": "2022-12-01T14:19:46.070Z"
   },
   {
    "duration": 11,
    "start_time": "2022-12-01T14:19:50.601Z"
   },
   {
    "duration": 36,
    "start_time": "2022-12-01T14:20:00.450Z"
   },
   {
    "duration": 210,
    "start_time": "2022-12-01T14:20:56.227Z"
   },
   {
    "duration": 73,
    "start_time": "2022-12-01T14:21:36.072Z"
   },
   {
    "duration": 76,
    "start_time": "2022-12-01T14:21:45.765Z"
   },
   {
    "duration": 76,
    "start_time": "2022-12-01T14:23:30.238Z"
   },
   {
    "duration": 72,
    "start_time": "2022-12-01T14:23:54.285Z"
   },
   {
    "duration": 74,
    "start_time": "2022-12-01T14:24:00.138Z"
   },
   {
    "duration": 71,
    "start_time": "2022-12-01T14:24:07.570Z"
   },
   {
    "duration": 76,
    "start_time": "2022-12-01T14:24:14.529Z"
   },
   {
    "duration": 74,
    "start_time": "2022-12-01T14:24:21.281Z"
   },
   {
    "duration": 83,
    "start_time": "2022-12-01T14:24:26.905Z"
   },
   {
    "duration": 72,
    "start_time": "2022-12-01T14:24:36.466Z"
   },
   {
    "duration": 78,
    "start_time": "2022-12-01T14:24:42.946Z"
   },
   {
    "duration": 81,
    "start_time": "2022-12-01T14:24:48.353Z"
   },
   {
    "duration": 74,
    "start_time": "2022-12-01T14:24:57.268Z"
   },
   {
    "duration": 72,
    "start_time": "2022-12-01T14:25:04.244Z"
   },
   {
    "duration": 74,
    "start_time": "2022-12-01T14:25:09.912Z"
   },
   {
    "duration": 74,
    "start_time": "2022-12-01T14:25:13.392Z"
   },
   {
    "duration": 75,
    "start_time": "2022-12-01T14:26:19.185Z"
   },
   {
    "duration": 72,
    "start_time": "2022-12-01T14:26:28.691Z"
   },
   {
    "duration": 75,
    "start_time": "2022-12-01T14:26:33.500Z"
   },
   {
    "duration": 77,
    "start_time": "2022-12-01T14:26:38.828Z"
   },
   {
    "duration": 74,
    "start_time": "2022-12-01T14:26:43.280Z"
   },
   {
    "duration": 74,
    "start_time": "2022-12-01T14:26:49.420Z"
   },
   {
    "duration": 251,
    "start_time": "2022-12-01T14:34:48.158Z"
   },
   {
    "duration": 38,
    "start_time": "2022-12-01T14:34:49.006Z"
   },
   {
    "duration": 253,
    "start_time": "2022-12-01T14:36:55.100Z"
   },
   {
    "duration": 221,
    "start_time": "2022-12-01T14:41:01.158Z"
   },
   {
    "duration": 200,
    "start_time": "2022-12-01T14:41:24.151Z"
   },
   {
    "duration": 215,
    "start_time": "2022-12-01T14:41:48.662Z"
   },
   {
    "duration": 219,
    "start_time": "2022-12-01T14:48:47.315Z"
   },
   {
    "duration": 222,
    "start_time": "2022-12-01T14:49:54.843Z"
   },
   {
    "duration": 221,
    "start_time": "2022-12-01T14:58:14.685Z"
   },
   {
    "duration": 208,
    "start_time": "2022-12-01T14:58:32.256Z"
   },
   {
    "duration": 192,
    "start_time": "2022-12-01T14:59:55.340Z"
   },
   {
    "duration": 1191,
    "start_time": "2022-12-01T15:00:52.365Z"
   },
   {
    "duration": 187,
    "start_time": "2022-12-01T15:04:03.052Z"
   },
   {
    "duration": 254,
    "start_time": "2022-12-01T15:04:26.742Z"
   },
   {
    "duration": 238,
    "start_time": "2022-12-01T15:05:23.038Z"
   },
   {
    "duration": 212,
    "start_time": "2022-12-01T15:05:52.655Z"
   },
   {
    "duration": 212,
    "start_time": "2022-12-01T15:06:24.130Z"
   },
   {
    "duration": 218,
    "start_time": "2022-12-01T15:08:14.555Z"
   },
   {
    "duration": 77,
    "start_time": "2022-12-01T15:13:37.992Z"
   },
   {
    "duration": 86,
    "start_time": "2022-12-01T15:13:44.842Z"
   },
   {
    "duration": 5,
    "start_time": "2022-12-01T15:13:54.633Z"
   },
   {
    "duration": 28,
    "start_time": "2022-12-01T15:13:55.432Z"
   },
   {
    "duration": 10,
    "start_time": "2022-12-01T15:15:07.484Z"
   },
   {
    "duration": 10,
    "start_time": "2022-12-01T15:15:35.324Z"
   },
   {
    "duration": 8,
    "start_time": "2022-12-01T15:15:42.100Z"
   },
   {
    "duration": 196,
    "start_time": "2022-12-01T15:15:49.629Z"
   },
   {
    "duration": 81,
    "start_time": "2022-12-01T15:15:56.990Z"
   },
   {
    "duration": 21,
    "start_time": "2022-12-01T15:16:01.050Z"
   },
   {
    "duration": 97,
    "start_time": "2022-12-01T15:16:58.049Z"
   },
   {
    "duration": 391,
    "start_time": "2022-12-01T15:18:32.554Z"
   },
   {
    "duration": 144,
    "start_time": "2022-12-01T15:18:59.663Z"
   },
   {
    "duration": 95,
    "start_time": "2022-12-01T15:19:49.608Z"
   },
   {
    "duration": 169,
    "start_time": "2022-12-01T15:21:06.045Z"
   },
   {
    "duration": 1722,
    "start_time": "2022-12-01T15:52:21.809Z"
   },
   {
    "duration": 3376,
    "start_time": "2022-12-01T15:52:23.533Z"
   },
   {
    "duration": 129,
    "start_time": "2022-12-01T15:52:26.910Z"
   },
   {
    "duration": 6,
    "start_time": "2022-12-01T15:52:29.131Z"
   },
   {
    "duration": 19,
    "start_time": "2022-12-01T15:52:30.566Z"
   },
   {
    "duration": 25,
    "start_time": "2022-12-01T15:52:33.019Z"
   },
   {
    "duration": 118,
    "start_time": "2022-12-01T15:52:34.515Z"
   },
   {
    "duration": 125,
    "start_time": "2022-12-01T15:53:01.779Z"
   },
   {
    "duration": 34,
    "start_time": "2022-12-01T15:54:13.187Z"
   },
   {
    "duration": 745,
    "start_time": "2022-12-01T15:54:28.941Z"
   },
   {
    "duration": 124,
    "start_time": "2022-12-01T15:54:30.621Z"
   },
   {
    "duration": 4,
    "start_time": "2022-12-01T15:54:37.114Z"
   },
   {
    "duration": 12,
    "start_time": "2022-12-01T15:54:39.528Z"
   },
   {
    "duration": 127,
    "start_time": "2022-12-01T15:54:46.911Z"
   },
   {
    "duration": 43,
    "start_time": "2022-12-01T15:54:55.172Z"
   },
   {
    "duration": 34,
    "start_time": "2022-12-01T15:55:01.118Z"
   },
   {
    "duration": 195,
    "start_time": "2022-12-01T15:55:25.418Z"
   },
   {
    "duration": 86,
    "start_time": "2022-12-01T15:55:31.176Z"
   },
   {
    "duration": 8,
    "start_time": "2022-12-01T15:56:20.605Z"
   },
   {
    "duration": 289,
    "start_time": "2022-12-01T15:56:41.708Z"
   },
   {
    "duration": 152,
    "start_time": "2022-12-01T15:56:59.604Z"
   },
   {
    "duration": 239,
    "start_time": "2022-12-01T15:57:11.628Z"
   },
   {
    "duration": 167,
    "start_time": "2022-12-01T15:57:24.921Z"
   },
   {
    "duration": 165,
    "start_time": "2022-12-01T19:55:28.164Z"
   },
   {
    "duration": 14,
    "start_time": "2022-12-01T19:55:48.390Z"
   },
   {
    "duration": 289,
    "start_time": "2022-12-01T19:55:58.778Z"
   },
   {
    "duration": 12,
    "start_time": "2022-12-01T19:56:08.966Z"
   },
   {
    "duration": 742,
    "start_time": "2022-12-01T19:56:15.109Z"
   },
   {
    "duration": 179,
    "start_time": "2022-12-01T19:57:09.073Z"
   },
   {
    "duration": 822,
    "start_time": "2022-12-01T20:02:09.023Z"
   },
   {
    "duration": 190,
    "start_time": "2022-12-01T20:08:57.023Z"
   },
   {
    "duration": 173,
    "start_time": "2022-12-01T20:09:17.145Z"
   },
   {
    "duration": 238,
    "start_time": "2022-12-01T20:09:23.378Z"
   },
   {
    "duration": 181,
    "start_time": "2022-12-01T20:09:30.483Z"
   },
   {
    "duration": 192,
    "start_time": "2022-12-01T20:18:13.510Z"
   },
   {
    "duration": 218,
    "start_time": "2022-12-01T20:18:26.962Z"
   },
   {
    "duration": 226,
    "start_time": "2022-12-01T20:19:12.266Z"
   },
   {
    "duration": 228,
    "start_time": "2022-12-01T20:20:00.459Z"
   },
   {
    "duration": 120,
    "start_time": "2022-12-01T20:20:54.222Z"
   },
   {
    "duration": 185,
    "start_time": "2022-12-01T20:21:50.748Z"
   },
   {
    "duration": 80,
    "start_time": "2022-12-01T20:22:05.023Z"
   },
   {
    "duration": 25,
    "start_time": "2022-12-01T20:22:20.604Z"
   },
   {
    "duration": 38,
    "start_time": "2022-12-01T20:22:47.460Z"
   },
   {
    "duration": 39,
    "start_time": "2022-12-01T20:23:17.162Z"
   },
   {
    "duration": 5,
    "start_time": "2022-12-01T20:23:32.960Z"
   },
   {
    "duration": 824,
    "start_time": "2022-12-01T20:23:35.134Z"
   },
   {
    "duration": 127,
    "start_time": "2022-12-01T20:23:37.113Z"
   },
   {
    "duration": 5,
    "start_time": "2022-12-01T20:23:39.595Z"
   },
   {
    "duration": 13,
    "start_time": "2022-12-01T20:23:42.860Z"
   },
   {
    "duration": 125,
    "start_time": "2022-12-01T20:23:48.730Z"
   },
   {
    "duration": 219,
    "start_time": "2022-12-01T20:25:05.431Z"
   },
   {
    "duration": 86,
    "start_time": "2022-12-01T20:25:23.610Z"
   },
   {
    "duration": 658,
    "start_time": "2022-12-01T20:25:24.851Z"
   },
   {
    "duration": 249,
    "start_time": "2022-12-01T20:28:07.267Z"
   },
   {
    "duration": 9,
    "start_time": "2022-12-01T21:34:06.145Z"
   },
   {
    "duration": 3,
    "start_time": "2022-12-01T21:34:30.845Z"
   },
   {
    "duration": 178,
    "start_time": "2022-12-01T21:35:39.248Z"
   },
   {
    "duration": 3,
    "start_time": "2022-12-01T21:35:47.650Z"
   },
   {
    "duration": 172,
    "start_time": "2022-12-01T21:36:20.037Z"
   },
   {
    "duration": 3,
    "start_time": "2022-12-01T21:36:25.398Z"
   },
   {
    "duration": 225,
    "start_time": "2022-12-01T21:41:42.682Z"
   },
   {
    "duration": 5,
    "start_time": "2022-12-01T21:50:40.430Z"
   },
   {
    "duration": 12,
    "start_time": "2022-12-01T21:52:33.720Z"
   },
   {
    "duration": 9,
    "start_time": "2022-12-01T21:52:51.274Z"
   },
   {
    "duration": 8,
    "start_time": "2022-12-01T21:54:27.578Z"
   },
   {
    "duration": 4,
    "start_time": "2022-12-01T21:54:42.847Z"
   },
   {
    "duration": 9,
    "start_time": "2022-12-01T21:55:29.718Z"
   },
   {
    "duration": 93,
    "start_time": "2022-12-01T21:58:48.925Z"
   },
   {
    "duration": 66,
    "start_time": "2022-12-01T22:08:40.429Z"
   },
   {
    "duration": 70,
    "start_time": "2022-12-01T22:09:43.872Z"
   },
   {
    "duration": 68,
    "start_time": "2022-12-01T22:10:08.266Z"
   },
   {
    "duration": 81,
    "start_time": "2022-12-01T22:10:18.316Z"
   },
   {
    "duration": 62,
    "start_time": "2022-12-01T22:10:27.993Z"
   },
   {
    "duration": 64,
    "start_time": "2022-12-01T22:10:33.150Z"
   },
   {
    "duration": 77,
    "start_time": "2022-12-01T22:10:42.012Z"
   },
   {
    "duration": 827,
    "start_time": "2022-12-01T22:11:19.143Z"
   },
   {
    "duration": 76,
    "start_time": "2022-12-01T22:12:40.202Z"
   },
   {
    "duration": 987,
    "start_time": "2022-12-01T22:12:55.850Z"
   },
   {
    "duration": 1058,
    "start_time": "2022-12-01T22:13:26.379Z"
   },
   {
    "duration": 71,
    "start_time": "2022-12-01T22:13:36.283Z"
   },
   {
    "duration": 1108,
    "start_time": "2022-12-01T22:14:01.782Z"
   },
   {
    "duration": 4,
    "start_time": "2022-12-01T22:14:47.694Z"
   },
   {
    "duration": 3,
    "start_time": "2022-12-01T22:14:53.750Z"
   },
   {
    "duration": 4,
    "start_time": "2022-12-01T22:15:00.120Z"
   },
   {
    "duration": 222,
    "start_time": "2022-12-01T22:15:25.590Z"
   },
   {
    "duration": 87,
    "start_time": "2022-12-01T22:15:29.942Z"
   },
   {
    "duration": 889,
    "start_time": "2022-12-01T22:15:33.700Z"
   },
   {
    "duration": 3,
    "start_time": "2022-12-01T22:15:40.039Z"
   },
   {
    "duration": 5,
    "start_time": "2022-12-01T22:16:01.684Z"
   },
   {
    "duration": 5,
    "start_time": "2022-12-01T22:16:07.405Z"
   },
   {
    "duration": 6,
    "start_time": "2022-12-01T22:16:22.986Z"
   },
   {
    "duration": 6,
    "start_time": "2022-12-01T22:16:27.061Z"
   },
   {
    "duration": 4,
    "start_time": "2022-12-01T22:16:32.518Z"
   },
   {
    "duration": 5,
    "start_time": "2022-12-01T22:16:36.418Z"
   },
   {
    "duration": 5,
    "start_time": "2022-12-01T22:17:48.968Z"
   },
   {
    "duration": 5,
    "start_time": "2022-12-01T22:17:54.279Z"
   },
   {
    "duration": 6,
    "start_time": "2022-12-01T22:18:03.047Z"
   },
   {
    "duration": 4,
    "start_time": "2022-12-01T22:18:12.265Z"
   },
   {
    "duration": 4,
    "start_time": "2022-12-01T22:18:29.116Z"
   },
   {
    "duration": 890,
    "start_time": "2022-12-01T22:19:00.062Z"
   },
   {
    "duration": 42578,
    "start_time": "2022-12-01T22:20:23.331Z"
   },
   {
    "duration": 8760,
    "start_time": "2022-12-01T22:22:19.019Z"
   },
   {
    "duration": 8763,
    "start_time": "2022-12-01T22:23:05.475Z"
   },
   {
    "duration": 10,
    "start_time": "2022-12-01T22:24:21.191Z"
   },
   {
    "duration": 10,
    "start_time": "2022-12-01T22:24:45.710Z"
   },
   {
    "duration": 9,
    "start_time": "2022-12-01T22:25:07.256Z"
   },
   {
    "duration": 90,
    "start_time": "2022-12-01T22:25:47.322Z"
   },
   {
    "duration": 14,
    "start_time": "2022-12-01T22:25:53.399Z"
   },
   {
    "duration": 4,
    "start_time": "2022-12-01T22:26:06.993Z"
   },
   {
    "duration": 836,
    "start_time": "2022-12-01T22:26:57.005Z"
   },
   {
    "duration": 826,
    "start_time": "2022-12-01T22:27:15.540Z"
   },
   {
    "duration": 6,
    "start_time": "2022-12-01T22:28:03.295Z"
   },
   {
    "duration": 5,
    "start_time": "2022-12-01T22:28:38.227Z"
   },
   {
    "duration": 6,
    "start_time": "2022-12-01T22:28:44.081Z"
   },
   {
    "duration": 7,
    "start_time": "2022-12-01T22:28:51.989Z"
   },
   {
    "duration": 10,
    "start_time": "2022-12-01T22:29:02.914Z"
   },
   {
    "duration": 5,
    "start_time": "2022-12-01T22:29:24.038Z"
   },
   {
    "duration": 6,
    "start_time": "2022-12-01T22:29:42.688Z"
   },
   {
    "duration": 5,
    "start_time": "2022-12-01T22:30:00.723Z"
   },
   {
    "duration": 4,
    "start_time": "2022-12-01T22:30:26.261Z"
   },
   {
    "duration": 4,
    "start_time": "2022-12-01T22:30:30.578Z"
   },
   {
    "duration": 3,
    "start_time": "2022-12-01T22:30:56.928Z"
   },
   {
    "duration": 9067,
    "start_time": "2022-12-01T22:31:32.868Z"
   },
   {
    "duration": 97,
    "start_time": "2022-12-01T22:34:41.126Z"
   },
   {
    "duration": 10,
    "start_time": "2022-12-01T22:37:03.920Z"
   },
   {
    "duration": 296206,
    "start_time": "2022-12-01T22:37:30.151Z"
   },
   {
    "duration": 10,
    "start_time": "2022-12-01T22:42:35.919Z"
   },
   {
    "duration": 78,
    "start_time": "2022-12-01T22:44:09.704Z"
   },
   {
    "duration": 12,
    "start_time": "2022-12-01T22:44:26.367Z"
   },
   {
    "duration": 12,
    "start_time": "2022-12-01T22:44:58.222Z"
   },
   {
    "duration": 49,
    "start_time": "2022-12-01T22:45:16.042Z"
   },
   {
    "duration": 54,
    "start_time": "2022-12-01T22:45:27.813Z"
   },
   {
    "duration": 9,
    "start_time": "2022-12-01T22:52:51.297Z"
   },
   {
    "duration": 10,
    "start_time": "2022-12-01T22:53:18.474Z"
   },
   {
    "duration": 3,
    "start_time": "2022-12-01T23:02:13.341Z"
   },
   {
    "duration": 5,
    "start_time": "2022-12-01T23:02:17.331Z"
   },
   {
    "duration": 4,
    "start_time": "2022-12-01T23:02:29.744Z"
   },
   {
    "duration": 4,
    "start_time": "2022-12-01T23:02:48.567Z"
   },
   {
    "duration": 7,
    "start_time": "2022-12-01T23:03:04.283Z"
   },
   {
    "duration": 85,
    "start_time": "2022-12-01T23:03:30.344Z"
   },
   {
    "duration": 10,
    "start_time": "2022-12-01T23:03:35.261Z"
   },
   {
    "duration": 10,
    "start_time": "2022-12-01T23:06:56.679Z"
   },
   {
    "duration": 0,
    "start_time": "2022-12-01T23:11:30.520Z"
   },
   {
    "duration": 41303,
    "start_time": "2022-12-01T23:11:40.233Z"
   },
   {
    "duration": 32809,
    "start_time": "2022-12-01T23:12:35.774Z"
   },
   {
    "duration": 15882,
    "start_time": "2022-12-01T23:14:35.424Z"
   },
   {
    "duration": 201,
    "start_time": "2022-12-01T23:16:38.580Z"
   },
   {
    "duration": 4,
    "start_time": "2022-12-01T23:17:40.526Z"
   },
   {
    "duration": 68,
    "start_time": "2022-12-01T23:18:46.264Z"
   },
   {
    "duration": 24,
    "start_time": "2022-12-01T23:19:28.196Z"
   },
   {
    "duration": 39,
    "start_time": "2022-12-01T23:19:44.334Z"
   },
   {
    "duration": 41907,
    "start_time": "2022-12-01T23:22:34.298Z"
   },
   {
    "duration": 101,
    "start_time": "2022-12-01T23:28:55.889Z"
   },
   {
    "duration": 1633,
    "start_time": "2022-12-06T14:07:48.498Z"
   },
   {
    "duration": 2911,
    "start_time": "2022-12-06T14:07:50.133Z"
   },
   {
    "duration": 109,
    "start_time": "2022-12-06T14:07:53.046Z"
   },
   {
    "duration": 8,
    "start_time": "2022-12-06T14:07:53.156Z"
   },
   {
    "duration": 16,
    "start_time": "2022-12-06T14:07:54.826Z"
   },
   {
    "duration": 30,
    "start_time": "2022-12-06T14:07:56.936Z"
   },
   {
    "duration": 107,
    "start_time": "2022-12-06T14:07:59.276Z"
   },
   {
    "duration": 138,
    "start_time": "2022-12-06T14:08:09.372Z"
   },
   {
    "duration": 93,
    "start_time": "2022-12-06T14:08:39.456Z"
   },
   {
    "duration": 72,
    "start_time": "2022-12-06T14:08:42.080Z"
   },
   {
    "duration": 73,
    "start_time": "2022-12-06T14:09:02.747Z"
   },
   {
    "duration": 59623,
    "start_time": "2022-12-06T14:09:22.201Z"
   },
   {
    "duration": 73,
    "start_time": "2022-12-06T14:10:49.824Z"
   },
   {
    "duration": 48005,
    "start_time": "2022-12-06T14:25:02.062Z"
   },
   {
    "duration": 47,
    "start_time": "2022-12-06T14:26:37.387Z"
   },
   {
    "duration": 59,
    "start_time": "2022-12-06T14:29:41.663Z"
   },
   {
    "duration": 176,
    "start_time": "2022-12-06T14:29:49.084Z"
   },
   {
    "duration": 79,
    "start_time": "2022-12-06T14:30:17.207Z"
   },
   {
    "duration": 222,
    "start_time": "2022-12-06T14:40:48.306Z"
   },
   {
    "duration": 197,
    "start_time": "2022-12-06T14:41:08.868Z"
   },
   {
    "duration": 4,
    "start_time": "2022-12-06T17:29:02.598Z"
   },
   {
    "duration": 354,
    "start_time": "2022-12-06T17:30:03.463Z"
   },
   {
    "duration": 390,
    "start_time": "2022-12-06T17:30:21.299Z"
   },
   {
    "duration": 1708,
    "start_time": "2022-12-06T17:30:57.832Z"
   },
   {
    "duration": 57,
    "start_time": "2022-12-06T17:32:35.871Z"
   },
   {
    "duration": 2852,
    "start_time": "2022-12-06T17:54:57.336Z"
   },
   {
    "duration": 2874,
    "start_time": "2022-12-06T17:57:20.950Z"
   },
   {
    "duration": 1647,
    "start_time": "2022-12-06T17:58:19.258Z"
   },
   {
    "duration": 2191,
    "start_time": "2022-12-06T17:58:29.575Z"
   },
   {
    "duration": 1950,
    "start_time": "2022-12-06T17:58:52.673Z"
   },
   {
    "duration": 2095,
    "start_time": "2022-12-06T17:59:41.667Z"
   },
   {
    "duration": 1993,
    "start_time": "2022-12-06T18:00:15.165Z"
   },
   {
    "duration": 2140,
    "start_time": "2022-12-06T18:00:34.397Z"
   },
   {
    "duration": 2376,
    "start_time": "2022-12-06T18:00:41.574Z"
   },
   {
    "duration": 1866,
    "start_time": "2022-12-06T18:02:13.235Z"
   },
   {
    "duration": 1969,
    "start_time": "2022-12-06T18:02:44.826Z"
   },
   {
    "duration": 2721,
    "start_time": "2022-12-06T18:03:02.464Z"
   },
   {
    "duration": 15021,
    "start_time": "2022-12-06T18:03:09.284Z"
   },
   {
    "duration": 16152,
    "start_time": "2022-12-06T18:04:09.185Z"
   },
   {
    "duration": 1927,
    "start_time": "2022-12-07T14:25:48.662Z"
   },
   {
    "duration": 3617,
    "start_time": "2022-12-07T14:25:50.592Z"
   },
   {
    "duration": 214,
    "start_time": "2022-12-07T14:25:54.213Z"
   },
   {
    "duration": 13,
    "start_time": "2022-12-07T14:25:54.432Z"
   },
   {
    "duration": 61,
    "start_time": "2022-12-07T14:25:54.447Z"
   },
   {
    "duration": 32,
    "start_time": "2022-12-07T14:26:00.548Z"
   },
   {
    "duration": 190,
    "start_time": "2022-12-07T14:26:02.643Z"
   },
   {
    "duration": 251,
    "start_time": "2022-12-07T14:26:06.645Z"
   },
   {
    "duration": 87,
    "start_time": "2022-12-07T14:26:12.168Z"
   },
   {
    "duration": 293,
    "start_time": "2022-12-07T14:27:28.148Z"
   },
   {
    "duration": 457,
    "start_time": "2022-12-07T14:29:11.517Z"
   },
   {
    "duration": 523,
    "start_time": "2022-12-07T14:58:07.788Z"
   },
   {
    "duration": 658,
    "start_time": "2022-12-07T14:58:51.146Z"
   },
   {
    "duration": 69,
    "start_time": "2022-12-07T14:59:00.913Z"
   },
   {
    "duration": 376,
    "start_time": "2022-12-07T14:59:03.009Z"
   },
   {
    "duration": 486,
    "start_time": "2022-12-07T15:00:08.550Z"
   },
   {
    "duration": 471,
    "start_time": "2022-12-07T15:00:20.230Z"
   },
   {
    "duration": 278,
    "start_time": "2022-12-07T15:00:32.746Z"
   },
   {
    "duration": 320,
    "start_time": "2022-12-07T15:00:42.134Z"
   },
   {
    "duration": 215,
    "start_time": "2022-12-07T15:01:07.399Z"
   },
   {
    "duration": 527,
    "start_time": "2022-12-07T15:01:32.611Z"
   },
   {
    "duration": 80,
    "start_time": "2022-12-07T15:02:23.794Z"
   },
   {
    "duration": 2661,
    "start_time": "2022-12-07T15:02:53.679Z"
   },
   {
    "duration": 0,
    "start_time": "2022-12-07T15:02:56.342Z"
   },
   {
    "duration": 22595,
    "start_time": "2022-12-07T15:03:14.592Z"
   },
   {
    "duration": 24016,
    "start_time": "2022-12-07T15:03:37.192Z"
   },
   {
    "duration": 5478,
    "start_time": "2022-12-07T15:04:36.168Z"
   },
   {
    "duration": 4169,
    "start_time": "2022-12-07T15:04:56.469Z"
   },
   {
    "duration": 4528,
    "start_time": "2022-12-07T15:06:28.161Z"
   },
   {
    "duration": 2282,
    "start_time": "2022-12-07T15:06:50.449Z"
   },
   {
    "duration": 22959,
    "start_time": "2022-12-07T15:07:03.883Z"
   },
   {
    "duration": 4169,
    "start_time": "2022-12-07T15:08:08.283Z"
   },
   {
    "duration": 4513,
    "start_time": "2022-12-07T15:08:44.199Z"
   },
   {
    "duration": 3967,
    "start_time": "2022-12-07T15:09:06.219Z"
   },
   {
    "duration": 8661,
    "start_time": "2022-12-07T15:09:14.848Z"
   },
   {
    "duration": 6153,
    "start_time": "2022-12-07T15:12:34.577Z"
   },
   {
    "duration": 6515,
    "start_time": "2022-12-07T15:13:05.352Z"
   },
   {
    "duration": 2407,
    "start_time": "2022-12-07T15:13:26.074Z"
   },
   {
    "duration": 3186,
    "start_time": "2022-12-07T15:18:36.680Z"
   },
   {
    "duration": 2928,
    "start_time": "2022-12-07T15:19:16.321Z"
   },
   {
    "duration": 2624,
    "start_time": "2022-12-07T15:22:38.508Z"
   },
   {
    "duration": 2980,
    "start_time": "2022-12-07T15:22:47.656Z"
   },
   {
    "duration": 2621,
    "start_time": "2022-12-07T15:23:08.081Z"
   },
   {
    "duration": 6768,
    "start_time": "2022-12-07T15:23:24.769Z"
   },
   {
    "duration": 7343,
    "start_time": "2022-12-07T15:23:59.702Z"
   },
   {
    "duration": 7471,
    "start_time": "2022-12-07T15:24:11.807Z"
   },
   {
    "duration": 7223,
    "start_time": "2022-12-07T15:24:29.362Z"
   },
   {
    "duration": 7551,
    "start_time": "2022-12-07T15:24:44.351Z"
   },
   {
    "duration": 6454,
    "start_time": "2022-12-07T15:25:32.847Z"
   },
   {
    "duration": 824,
    "start_time": "2022-12-07T15:26:25.537Z"
   },
   {
    "duration": 1423,
    "start_time": "2022-12-07T15:26:48.716Z"
   },
   {
    "duration": 1046,
    "start_time": "2022-12-07T15:27:16.142Z"
   },
   {
    "duration": 1206,
    "start_time": "2022-12-07T15:28:32.222Z"
   },
   {
    "duration": 1716,
    "start_time": "2022-12-07T15:28:53.199Z"
   },
   {
    "duration": 983,
    "start_time": "2022-12-07T15:30:18.280Z"
   },
   {
    "duration": 3876,
    "start_time": "2022-12-07T15:30:29.695Z"
   },
   {
    "duration": 771,
    "start_time": "2022-12-07T15:30:42.262Z"
   },
   {
    "duration": 662,
    "start_time": "2022-12-07T15:30:49.015Z"
   },
   {
    "duration": 644,
    "start_time": "2022-12-07T15:31:16.951Z"
   },
   {
    "duration": 6,
    "start_time": "2022-12-07T15:31:42.642Z"
   },
   {
    "duration": 984,
    "start_time": "2022-12-07T15:31:44.641Z"
   },
   {
    "duration": 2028,
    "start_time": "2022-12-07T15:31:53.615Z"
   },
   {
    "duration": 1199,
    "start_time": "2022-12-07T15:31:56.028Z"
   },
   {
    "duration": 181,
    "start_time": "2022-12-07T15:31:58.628Z"
   },
   {
    "duration": 15,
    "start_time": "2022-12-07T15:31:59.869Z"
   },
   {
    "duration": 23,
    "start_time": "2022-12-07T15:32:01.936Z"
   },
   {
    "duration": 37,
    "start_time": "2022-12-07T15:32:03.874Z"
   },
   {
    "duration": 189,
    "start_time": "2022-12-07T15:32:05.369Z"
   },
   {
    "duration": 220,
    "start_time": "2022-12-07T15:32:06.373Z"
   },
   {
    "duration": 259,
    "start_time": "2022-12-07T15:32:20.677Z"
   },
   {
    "duration": 89,
    "start_time": "2022-12-07T15:32:24.443Z"
   },
   {
    "duration": 1315,
    "start_time": "2022-12-07T15:32:28.741Z"
   },
   {
    "duration": 7656,
    "start_time": "2022-12-07T15:32:32.271Z"
   },
   {
    "duration": 7268,
    "start_time": "2022-12-07T15:32:39.929Z"
   },
   {
    "duration": 706,
    "start_time": "2022-12-07T15:32:47.200Z"
   },
   {
    "duration": 294,
    "start_time": "2022-12-07T15:33:05.765Z"
   },
   {
    "duration": 78868,
    "start_time": "2022-12-07T15:33:59.040Z"
   },
   {
    "duration": 67,
    "start_time": "2022-12-07T15:35:51.207Z"
   },
   {
    "duration": 85,
    "start_time": "2022-12-07T15:36:19.697Z"
   },
   {
    "duration": 1895,
    "start_time": "2022-12-07T15:37:51.793Z"
   },
   {
    "duration": 1358,
    "start_time": "2022-12-07T15:37:53.691Z"
   },
   {
    "duration": 206,
    "start_time": "2022-12-07T15:37:55.052Z"
   },
   {
    "duration": 9,
    "start_time": "2022-12-07T15:37:55.261Z"
   },
   {
    "duration": 7,
    "start_time": "2022-12-07T15:38:00.653Z"
   },
   {
    "duration": 27,
    "start_time": "2022-12-07T15:38:02.005Z"
   },
   {
    "duration": 39,
    "start_time": "2022-12-07T15:38:03.173Z"
   },
   {
    "duration": 202,
    "start_time": "2022-12-07T15:38:04.205Z"
   },
   {
    "duration": 229,
    "start_time": "2022-12-07T15:38:04.703Z"
   },
   {
    "duration": 86,
    "start_time": "2022-12-07T15:38:05.196Z"
   },
   {
    "duration": 1195,
    "start_time": "2022-12-07T15:38:06.036Z"
   },
   {
    "duration": 7513,
    "start_time": "2022-12-07T15:38:07.233Z"
   },
   {
    "duration": 7416,
    "start_time": "2022-12-07T15:38:14.752Z"
   },
   {
    "duration": 551,
    "start_time": "2022-12-07T15:38:22.170Z"
   },
   {
    "duration": 233,
    "start_time": "2022-12-07T15:38:22.728Z"
   },
   {
    "duration": 77118,
    "start_time": "2022-12-07T15:38:22.963Z"
   },
   {
    "duration": 4,
    "start_time": "2022-12-07T15:39:40.083Z"
   },
   {
    "duration": 98,
    "start_time": "2022-12-07T15:40:58.058Z"
   },
   {
    "duration": 54,
    "start_time": "2022-12-07T15:41:29.966Z"
   },
   {
    "duration": 17054,
    "start_time": "2022-12-07T16:07:51.810Z"
   },
   {
    "duration": 185,
    "start_time": "2022-12-07T16:11:35.803Z"
   },
   {
    "duration": 168,
    "start_time": "2022-12-07T16:12:16.918Z"
   },
   {
    "duration": 161,
    "start_time": "2022-12-07T16:12:27.147Z"
   },
   {
    "duration": 355,
    "start_time": "2022-12-07T16:12:56.240Z"
   },
   {
    "duration": 328,
    "start_time": "2022-12-07T16:13:18.641Z"
   },
   {
    "duration": 302,
    "start_time": "2022-12-07T16:13:36.164Z"
   },
   {
    "duration": 409,
    "start_time": "2022-12-07T16:20:29.692Z"
   },
   {
    "duration": 388,
    "start_time": "2022-12-07T16:20:35.492Z"
   },
   {
    "duration": 336,
    "start_time": "2022-12-07T16:20:49.260Z"
   },
   {
    "duration": 1532,
    "start_time": "2022-12-09T23:07:40.629Z"
   },
   {
    "duration": 1095,
    "start_time": "2022-12-09T23:07:42.164Z"
   },
   {
    "duration": 133,
    "start_time": "2022-12-09T23:07:44.745Z"
   },
   {
    "duration": 6,
    "start_time": "2022-12-09T23:07:45.561Z"
   },
   {
    "duration": 16,
    "start_time": "2022-12-09T23:07:46.382Z"
   },
   {
    "duration": 26,
    "start_time": "2022-12-09T23:07:47.147Z"
   },
   {
    "duration": 132,
    "start_time": "2022-12-09T23:07:47.973Z"
   },
   {
    "duration": 137,
    "start_time": "2022-12-09T23:07:48.420Z"
   },
   {
    "duration": 52,
    "start_time": "2022-12-09T23:07:48.853Z"
   },
   {
    "duration": 721,
    "start_time": "2022-12-09T23:07:49.363Z"
   },
   {
    "duration": 4473,
    "start_time": "2022-12-09T23:07:50.086Z"
   },
   {
    "duration": 4787,
    "start_time": "2022-12-09T23:07:54.560Z"
   },
   {
    "duration": 440,
    "start_time": "2022-12-09T23:07:59.349Z"
   },
   {
    "duration": 206,
    "start_time": "2022-12-09T23:07:59.791Z"
   },
   {
    "duration": 53345,
    "start_time": "2022-12-09T23:07:59.998Z"
   },
   {
    "duration": 47,
    "start_time": "2022-12-09T23:08:53.345Z"
   },
   {
    "duration": 65,
    "start_time": "2022-12-09T23:08:53.393Z"
   },
   {
    "duration": 152,
    "start_time": "2022-12-09T23:08:53.460Z"
   },
   {
    "duration": 271,
    "start_time": "2022-12-09T23:08:53.616Z"
   },
   {
    "duration": 188,
    "start_time": "2022-12-09T23:09:12.400Z"
   },
   {
    "duration": 12,
    "start_time": "2022-12-09T23:09:36.261Z"
   },
   {
    "duration": 9,
    "start_time": "2022-12-09T23:10:29.754Z"
   },
   {
    "duration": 10,
    "start_time": "2022-12-09T23:11:59.805Z"
   },
   {
    "duration": 9,
    "start_time": "2022-12-09T23:12:25.645Z"
   },
   {
    "duration": 794,
    "start_time": "2022-12-09T23:12:55.660Z"
   },
   {
    "duration": 125,
    "start_time": "2022-12-09T23:12:58.058Z"
   },
   {
    "duration": 5,
    "start_time": "2022-12-09T23:13:01.107Z"
   },
   {
    "duration": 15,
    "start_time": "2022-12-09T23:13:03.606Z"
   },
   {
    "duration": 18,
    "start_time": "2022-12-09T23:13:05.059Z"
   },
   {
    "duration": 95,
    "start_time": "2022-12-09T23:13:06.349Z"
   },
   {
    "duration": 109,
    "start_time": "2022-12-09T23:13:07.252Z"
   },
   {
    "duration": 46,
    "start_time": "2022-12-09T23:13:08.347Z"
   },
   {
    "duration": 783,
    "start_time": "2022-12-09T23:13:09.298Z"
   },
   {
    "duration": 4590,
    "start_time": "2022-12-09T23:13:10.229Z"
   },
   {
    "duration": 4838,
    "start_time": "2022-12-09T23:13:14.821Z"
   },
   {
    "duration": 482,
    "start_time": "2022-12-09T23:13:19.660Z"
   },
   {
    "duration": 220,
    "start_time": "2022-12-09T23:13:34.655Z"
   },
   {
    "duration": 90,
    "start_time": "2022-12-09T23:13:42.762Z"
   },
   {
    "duration": 53716,
    "start_time": "2022-12-09T23:13:52.058Z"
   },
   {
    "duration": 73,
    "start_time": "2022-12-09T23:14:45.777Z"
   },
   {
    "duration": 71,
    "start_time": "2022-12-09T23:14:45.852Z"
   },
   {
    "duration": 95,
    "start_time": "2022-12-09T23:14:51.020Z"
   },
   {
    "duration": 132,
    "start_time": "2022-12-09T23:15:09.538Z"
   },
   {
    "duration": 263,
    "start_time": "2022-12-09T23:15:11.117Z"
   },
   {
    "duration": 83,
    "start_time": "2022-12-09T23:15:17.408Z"
   },
   {
    "duration": 72,
    "start_time": "2022-12-09T23:15:54.900Z"
   },
   {
    "duration": 15,
    "start_time": "2022-12-09T23:16:04.428Z"
   },
   {
    "duration": 3,
    "start_time": "2022-12-09T23:17:06.619Z"
   },
   {
    "duration": 9,
    "start_time": "2022-12-09T23:17:15.167Z"
   },
   {
    "duration": 2,
    "start_time": "2022-12-09T23:17:34.742Z"
   },
   {
    "duration": 1770,
    "start_time": "2022-12-12T15:23:47.325Z"
   },
   {
    "duration": 1172,
    "start_time": "2022-12-12T15:23:49.098Z"
   },
   {
    "duration": 140,
    "start_time": "2022-12-12T15:23:50.272Z"
   },
   {
    "duration": 8,
    "start_time": "2022-12-12T15:23:50.414Z"
   },
   {
    "duration": 17,
    "start_time": "2022-12-12T15:23:50.434Z"
   },
   {
    "duration": 33,
    "start_time": "2022-12-12T15:23:50.453Z"
   },
   {
    "duration": 153,
    "start_time": "2022-12-12T15:23:50.488Z"
   },
   {
    "duration": 158,
    "start_time": "2022-12-12T15:23:50.643Z"
   },
   {
    "duration": 60,
    "start_time": "2022-12-12T15:23:50.803Z"
   },
   {
    "duration": 823,
    "start_time": "2022-12-12T15:23:50.865Z"
   },
   {
    "duration": 5170,
    "start_time": "2022-12-12T15:23:51.691Z"
   },
   {
    "duration": 5438,
    "start_time": "2022-12-12T15:23:56.864Z"
   },
   {
    "duration": 587,
    "start_time": "2022-12-12T15:24:02.304Z"
   },
   {
    "duration": 225,
    "start_time": "2022-12-12T15:24:02.893Z"
   },
   {
    "duration": 56721,
    "start_time": "2022-12-12T15:24:03.120Z"
   },
   {
    "duration": 53,
    "start_time": "2022-12-12T15:24:59.843Z"
   },
   {
    "duration": 75,
    "start_time": "2022-12-12T15:24:59.898Z"
   },
   {
    "duration": 164,
    "start_time": "2022-12-12T15:24:59.975Z"
   },
   {
    "duration": 308,
    "start_time": "2022-12-12T15:25:00.140Z"
   },
   {
    "duration": 88,
    "start_time": "2022-12-12T15:25:00.450Z"
   },
   {
    "duration": 14,
    "start_time": "2022-12-12T15:36:14.916Z"
   },
   {
    "duration": 119,
    "start_time": "2022-12-12T15:36:35.261Z"
   },
   {
    "duration": 6,
    "start_time": "2022-12-12T15:36:39.058Z"
   },
   {
    "duration": 5,
    "start_time": "2022-12-12T15:36:51.010Z"
   },
   {
    "duration": 37,
    "start_time": "2022-12-12T15:37:08.023Z"
   },
   {
    "duration": 36,
    "start_time": "2022-12-12T15:37:42.657Z"
   },
   {
    "duration": 65,
    "start_time": "2022-12-12T15:40:49.619Z"
   },
   {
    "duration": 43071,
    "start_time": "2022-12-12T15:41:59.153Z"
   },
   {
    "duration": 0,
    "start_time": "2022-12-12T15:42:42.225Z"
   },
   {
    "duration": 67,
    "start_time": "2022-12-12T15:43:13.225Z"
   },
   {
    "duration": 47315,
    "start_time": "2022-12-12T15:43:15.361Z"
   },
   {
    "duration": 65,
    "start_time": "2022-12-12T15:46:21.611Z"
   },
   {
    "duration": 6,
    "start_time": "2022-12-12T15:46:22.540Z"
   },
   {
    "duration": 9,
    "start_time": "2022-12-12T15:46:48.839Z"
   },
   {
    "duration": 10,
    "start_time": "2022-12-12T15:47:06.188Z"
   },
   {
    "duration": 65,
    "start_time": "2022-12-12T15:47:16.620Z"
   },
   {
    "duration": 64,
    "start_time": "2022-12-12T15:47:40.084Z"
   },
   {
    "duration": 89,
    "start_time": "2022-12-12T15:47:51.219Z"
   },
   {
    "duration": 58,
    "start_time": "2022-12-12T15:49:45.275Z"
   },
   {
    "duration": 5,
    "start_time": "2022-12-12T15:49:46.079Z"
   },
   {
    "duration": 5,
    "start_time": "2022-12-12T15:49:51.487Z"
   },
   {
    "duration": 3,
    "start_time": "2022-12-12T15:52:04.021Z"
   },
   {
    "duration": 10,
    "start_time": "2022-12-12T15:52:07.489Z"
   },
   {
    "duration": 3378,
    "start_time": "2022-12-12T15:52:44.053Z"
   },
   {
    "duration": 113,
    "start_time": "2022-12-12T15:52:51.115Z"
   },
   {
    "duration": 2049,
    "start_time": "2022-12-12T15:53:27.319Z"
   },
   {
    "duration": 20,
    "start_time": "2022-12-12T15:53:44.913Z"
   },
   {
    "duration": 25,
    "start_time": "2022-12-12T15:54:43.689Z"
   },
   {
    "duration": 9,
    "start_time": "2022-12-13T13:17:26.279Z"
   },
   {
    "duration": 4603,
    "start_time": "2022-12-13T15:44:41.155Z"
   },
   {
    "duration": 2904,
    "start_time": "2022-12-13T15:44:45.759Z"
   },
   {
    "duration": 114,
    "start_time": "2022-12-13T15:44:48.665Z"
   },
   {
    "duration": 7,
    "start_time": "2022-12-13T15:44:48.781Z"
   },
   {
    "duration": 32,
    "start_time": "2022-12-13T15:44:48.790Z"
   },
   {
    "duration": 24,
    "start_time": "2022-12-13T15:44:48.824Z"
   },
   {
    "duration": 172,
    "start_time": "2022-12-13T15:44:48.850Z"
   },
   {
    "duration": 155,
    "start_time": "2022-12-13T15:44:49.024Z"
   },
   {
    "duration": 78,
    "start_time": "2022-12-13T15:44:49.181Z"
   },
   {
    "duration": 847,
    "start_time": "2022-12-13T15:44:49.263Z"
   },
   {
    "duration": 5117,
    "start_time": "2022-12-13T15:44:50.112Z"
   },
   {
    "duration": 5139,
    "start_time": "2022-12-13T15:44:55.231Z"
   },
   {
    "duration": 520,
    "start_time": "2022-12-13T15:45:00.372Z"
   },
   {
    "duration": 198,
    "start_time": "2022-12-13T15:45:00.893Z"
   },
   {
    "duration": 57111,
    "start_time": "2022-12-13T15:45:01.093Z"
   },
   {
    "duration": 52,
    "start_time": "2022-12-13T15:45:58.206Z"
   },
   {
    "duration": 69,
    "start_time": "2022-12-13T15:45:58.260Z"
   },
   {
    "duration": 150,
    "start_time": "2022-12-13T15:45:58.331Z"
   },
   {
    "duration": 278,
    "start_time": "2022-12-13T15:45:58.483Z"
   },
   {
    "duration": 86,
    "start_time": "2022-12-13T15:45:58.763Z"
   },
   {
    "duration": 192,
    "start_time": "2022-12-13T15:45:58.851Z"
   },
   {
    "duration": 6,
    "start_time": "2022-12-13T15:45:59.046Z"
   },
   {
    "duration": 27,
    "start_time": "2022-12-13T15:45:59.054Z"
   },
   {
    "duration": 99,
    "start_time": "2022-12-13T15:45:59.083Z"
   },
   {
    "duration": 5,
    "start_time": "2022-12-13T15:45:59.183Z"
   },
   {
    "duration": 2144,
    "start_time": "2022-12-13T15:45:59.190Z"
   },
   {
    "duration": 227,
    "start_time": "2022-12-13T15:46:01.336Z"
   },
   {
    "duration": 23,
    "start_time": "2022-12-13T15:46:01.567Z"
   },
   {
    "duration": 45,
    "start_time": "2022-12-13T15:46:01.592Z"
   },
   {
    "duration": 160,
    "start_time": "2022-12-13T15:46:01.639Z"
   },
   {
    "duration": 0,
    "start_time": "2022-12-13T15:46:01.800Z"
   },
   {
    "duration": 3627,
    "start_time": "2022-12-13T15:48:27.656Z"
   },
   {
    "duration": 869,
    "start_time": "2022-12-13T15:48:31.285Z"
   },
   {
    "duration": 141,
    "start_time": "2022-12-13T15:48:32.156Z"
   },
   {
    "duration": 8,
    "start_time": "2022-12-13T15:48:32.299Z"
   },
   {
    "duration": 17,
    "start_time": "2022-12-13T15:48:32.321Z"
   },
   {
    "duration": 30,
    "start_time": "2022-12-13T15:48:32.340Z"
   },
   {
    "duration": 153,
    "start_time": "2022-12-13T15:48:32.372Z"
   },
   {
    "duration": 144,
    "start_time": "2022-12-13T15:48:32.527Z"
   },
   {
    "duration": 67,
    "start_time": "2022-12-13T15:48:32.673Z"
   },
   {
    "duration": 924,
    "start_time": "2022-12-13T15:48:32.743Z"
   },
   {
    "duration": 5136,
    "start_time": "2022-12-13T15:48:33.669Z"
   },
   {
    "duration": 5077,
    "start_time": "2022-12-13T15:48:38.807Z"
   },
   {
    "duration": 570,
    "start_time": "2022-12-13T15:48:43.885Z"
   },
   {
    "duration": 195,
    "start_time": "2022-12-13T15:48:44.457Z"
   },
   {
    "duration": 56,
    "start_time": "2022-12-13T15:49:41.679Z"
   },
   {
    "duration": 54,
    "start_time": "2022-12-13T15:49:41.737Z"
   },
   {
    "duration": 168,
    "start_time": "2022-12-13T15:49:41.793Z"
   },
   {
    "duration": 367,
    "start_time": "2022-12-13T15:49:41.964Z"
   },
   {
    "duration": 116,
    "start_time": "2022-12-13T15:49:42.333Z"
   },
   {
    "duration": 2,
    "start_time": "2022-12-13T15:49:42.451Z"
   },
   {
    "duration": 18,
    "start_time": "2022-12-13T15:49:42.455Z"
   },
   {
    "duration": 4,
    "start_time": "2022-12-13T15:49:42.475Z"
   },
   {
    "duration": 95,
    "start_time": "2022-12-13T15:49:42.481Z"
   },
   {
    "duration": 5,
    "start_time": "2022-12-13T15:49:42.578Z"
   },
   {
    "duration": 2294,
    "start_time": "2022-12-13T15:49:42.585Z"
   },
   {
    "duration": 1667,
    "start_time": "2022-12-13T15:49:44.882Z"
   },
   {
    "duration": 19,
    "start_time": "2022-12-13T15:49:46.553Z"
   },
   {
    "duration": 5,
    "start_time": "2022-12-13T15:49:46.574Z"
   },
   {
    "duration": 143,
    "start_time": "2022-12-13T15:49:46.580Z"
   },
   {
    "duration": 0,
    "start_time": "2022-12-13T15:49:46.725Z"
   },
   {
    "duration": 0,
    "start_time": "2022-12-13T15:49:46.726Z"
   },
   {
    "duration": 31417,
    "start_time": "2022-12-13T15:50:47.388Z"
   },
   {
    "duration": 35,
    "start_time": "2022-12-13T15:51:25.484Z"
   },
   {
    "duration": 51,
    "start_time": "2022-12-13T15:51:26.559Z"
   },
   {
    "duration": 3599,
    "start_time": "2022-12-13T15:52:13.839Z"
   },
   {
    "duration": 794,
    "start_time": "2022-12-13T15:52:17.440Z"
   },
   {
    "duration": 126,
    "start_time": "2022-12-13T15:52:18.236Z"
   },
   {
    "duration": 6,
    "start_time": "2022-12-13T15:52:18.364Z"
   },
   {
    "duration": 21,
    "start_time": "2022-12-13T15:52:18.372Z"
   },
   {
    "duration": 38,
    "start_time": "2022-12-13T15:52:18.394Z"
   },
   {
    "duration": 127,
    "start_time": "2022-12-13T15:52:18.434Z"
   },
   {
    "duration": 163,
    "start_time": "2022-12-13T15:52:18.562Z"
   },
   {
    "duration": 52,
    "start_time": "2022-12-13T15:52:18.727Z"
   },
   {
    "duration": 827,
    "start_time": "2022-12-13T15:52:18.781Z"
   },
   {
    "duration": 5165,
    "start_time": "2022-12-13T15:52:19.609Z"
   },
   {
    "duration": 5098,
    "start_time": "2022-12-13T15:52:24.776Z"
   },
   {
    "duration": 514,
    "start_time": "2022-12-13T15:52:29.876Z"
   },
   {
    "duration": 206,
    "start_time": "2022-12-13T15:52:30.393Z"
   },
   {
    "duration": 60771,
    "start_time": "2022-12-13T15:52:30.601Z"
   },
   {
    "duration": 72,
    "start_time": "2022-12-13T15:53:31.374Z"
   },
   {
    "duration": 64,
    "start_time": "2022-12-13T15:53:31.448Z"
   },
   {
    "duration": 162,
    "start_time": "2022-12-13T15:53:31.514Z"
   },
   {
    "duration": 299,
    "start_time": "2022-12-13T15:53:31.677Z"
   },
   {
    "duration": 89,
    "start_time": "2022-12-13T15:53:31.978Z"
   },
   {
    "duration": 3,
    "start_time": "2022-12-13T15:53:32.069Z"
   },
   {
    "duration": 18,
    "start_time": "2022-12-13T15:53:32.074Z"
   },
   {
    "duration": 5,
    "start_time": "2022-12-13T15:53:32.094Z"
   },
   {
    "duration": 98,
    "start_time": "2022-12-13T15:53:32.101Z"
   },
   {
    "duration": 5,
    "start_time": "2022-12-13T15:53:32.201Z"
   },
   {
    "duration": 2140,
    "start_time": "2022-12-13T15:53:32.222Z"
   },
   {
    "duration": 1619,
    "start_time": "2022-12-13T15:53:34.364Z"
   },
   {
    "duration": 19,
    "start_time": "2022-12-13T15:53:35.987Z"
   },
   {
    "duration": 16,
    "start_time": "2022-12-13T15:53:36.008Z"
   },
   {
    "duration": 202,
    "start_time": "2022-12-13T15:53:36.025Z"
   },
   {
    "duration": 18,
    "start_time": "2022-12-13T15:53:36.229Z"
   },
   {
    "duration": 147676,
    "start_time": "2022-12-13T15:59:37.547Z"
   },
   {
    "duration": 5,
    "start_time": "2022-12-13T16:06:34.118Z"
   },
   {
    "duration": 4,
    "start_time": "2022-12-13T16:06:46.195Z"
   },
   {
    "duration": 4,
    "start_time": "2022-12-13T16:07:14.016Z"
   },
   {
    "duration": 17,
    "start_time": "2022-12-13T16:07:23.587Z"
   },
   {
    "duration": 6,
    "start_time": "2022-12-13T16:07:47.582Z"
   },
   {
    "duration": 4,
    "start_time": "2022-12-13T16:08:44.948Z"
   },
   {
    "duration": 83,
    "start_time": "2022-12-13T16:10:34.285Z"
   },
   {
    "duration": 84,
    "start_time": "2022-12-13T16:11:21.488Z"
   },
   {
    "duration": 5,
    "start_time": "2022-12-13T16:12:27.110Z"
   },
   {
    "duration": 19,
    "start_time": "2022-12-13T16:12:40.176Z"
   },
   {
    "duration": 19,
    "start_time": "2022-12-13T16:13:18.356Z"
   },
   {
    "duration": 91,
    "start_time": "2022-12-13T16:14:13.507Z"
   },
   {
    "duration": 83,
    "start_time": "2022-12-13T16:14:18.125Z"
   },
   {
    "duration": 5,
    "start_time": "2022-12-13T16:14:20.583Z"
   },
   {
    "duration": 86,
    "start_time": "2022-12-13T16:14:26.843Z"
   },
   {
    "duration": 7,
    "start_time": "2022-12-13T16:16:17.323Z"
   },
   {
    "duration": 5,
    "start_time": "2022-12-13T16:16:30.306Z"
   },
   {
    "duration": 3572,
    "start_time": "2022-12-13T16:23:07.655Z"
   },
   {
    "duration": 790,
    "start_time": "2022-12-13T16:23:11.229Z"
   },
   {
    "duration": 123,
    "start_time": "2022-12-13T16:23:12.022Z"
   },
   {
    "duration": 7,
    "start_time": "2022-12-13T16:23:12.148Z"
   },
   {
    "duration": 22,
    "start_time": "2022-12-13T16:23:12.157Z"
   },
   {
    "duration": 48,
    "start_time": "2022-12-13T16:23:12.181Z"
   },
   {
    "duration": 163,
    "start_time": "2022-12-13T16:23:12.231Z"
   },
   {
    "duration": 137,
    "start_time": "2022-12-13T16:23:12.396Z"
   },
   {
    "duration": 52,
    "start_time": "2022-12-13T16:23:12.535Z"
   },
   {
    "duration": 789,
    "start_time": "2022-12-13T16:23:12.590Z"
   },
   {
    "duration": 4977,
    "start_time": "2022-12-13T16:23:13.380Z"
   },
   {
    "duration": 5082,
    "start_time": "2022-12-13T16:23:18.359Z"
   },
   {
    "duration": 515,
    "start_time": "2022-12-13T16:23:23.443Z"
   },
   {
    "duration": 228,
    "start_time": "2022-12-13T16:23:23.960Z"
   },
   {
    "duration": 59294,
    "start_time": "2022-12-13T16:23:24.190Z"
   },
   {
    "duration": 59,
    "start_time": "2022-12-13T16:24:23.485Z"
   },
   {
    "duration": 45,
    "start_time": "2022-12-13T16:24:23.546Z"
   },
   {
    "duration": 158,
    "start_time": "2022-12-13T16:24:23.592Z"
   },
   {
    "duration": 285,
    "start_time": "2022-12-13T16:24:23.751Z"
   },
   {
    "duration": 102,
    "start_time": "2022-12-13T16:24:24.038Z"
   },
   {
    "duration": 4,
    "start_time": "2022-12-13T16:24:24.142Z"
   },
   {
    "duration": 28,
    "start_time": "2022-12-13T16:24:24.147Z"
   },
   {
    "duration": 12,
    "start_time": "2022-12-13T16:24:24.177Z"
   },
   {
    "duration": 81,
    "start_time": "2022-12-13T16:24:24.191Z"
   },
   {
    "duration": 5,
    "start_time": "2022-12-13T16:24:24.275Z"
   },
   {
    "duration": 1554,
    "start_time": "2022-12-13T16:24:24.282Z"
   },
   {
    "duration": 23,
    "start_time": "2022-12-13T16:24:25.837Z"
   },
   {
    "duration": 392,
    "start_time": "2022-12-13T16:24:25.864Z"
   },
   {
    "duration": 196,
    "start_time": "2022-12-13T16:24:26.257Z"
   },
   {
    "duration": 53,
    "start_time": "2022-12-13T16:25:40.817Z"
   },
   {
    "duration": 119,
    "start_time": "2022-12-13T16:25:47.028Z"
   },
   {
    "duration": 105,
    "start_time": "2022-12-13T16:26:01.319Z"
   },
   {
    "duration": 143,
    "start_time": "2022-12-13T16:26:12.583Z"
   },
   {
    "duration": 46,
    "start_time": "2022-12-13T16:43:41.461Z"
   },
   {
    "duration": 72,
    "start_time": "2022-12-13T16:44:36.789Z"
   },
   {
    "duration": 49,
    "start_time": "2022-12-13T16:44:42.624Z"
   },
   {
    "duration": 57,
    "start_time": "2022-12-13T16:44:46.865Z"
   },
   {
    "duration": 5,
    "start_time": "2022-12-13T16:50:05.036Z"
   },
   {
    "duration": 239,
    "start_time": "2022-12-13T16:50:44.911Z"
   },
   {
    "duration": 1978,
    "start_time": "2022-12-13T16:50:58.065Z"
   },
   {
    "duration": 198,
    "start_time": "2022-12-13T16:51:07.010Z"
   },
   {
    "duration": 5,
    "start_time": "2022-12-13T17:01:27.496Z"
   },
   {
    "duration": 216,
    "start_time": "2022-12-13T17:01:33.053Z"
   },
   {
    "duration": 5,
    "start_time": "2022-12-13T17:02:06.536Z"
   },
   {
    "duration": 242,
    "start_time": "2022-12-13T17:02:10.811Z"
   },
   {
    "duration": 5,
    "start_time": "2022-12-13T17:03:52.091Z"
   },
   {
    "duration": 306,
    "start_time": "2022-12-13T17:03:53.907Z"
   },
   {
    "duration": 5,
    "start_time": "2022-12-13T17:04:38.552Z"
   },
   {
    "duration": 292,
    "start_time": "2022-12-13T17:04:40.007Z"
   },
   {
    "duration": 43,
    "start_time": "2022-12-13T17:04:47.800Z"
   },
   {
    "duration": 5,
    "start_time": "2022-12-13T17:04:58.863Z"
   },
   {
    "duration": 299,
    "start_time": "2022-12-13T17:04:59.645Z"
   },
   {
    "duration": 5,
    "start_time": "2022-12-13T17:05:20.873Z"
   },
   {
    "duration": 3208673,
    "start_time": "2022-12-13T17:05:21.852Z"
   },
   {
    "duration": 1116,
    "start_time": "2022-12-13T17:58:50.531Z"
   },
   {
    "duration": 1930,
    "start_time": "2022-12-13T18:02:18.420Z"
   },
   {
    "duration": 2885,
    "start_time": "2022-12-13T18:02:30.340Z"
   },
   {
    "duration": 3009,
    "start_time": "2022-12-13T18:02:47.015Z"
   },
   {
    "duration": 3089,
    "start_time": "2022-12-13T18:03:23.444Z"
   },
   {
    "duration": 14,
    "start_time": "2022-12-13T18:06:31.882Z"
   },
   {
    "duration": 13,
    "start_time": "2022-12-13T18:06:43.979Z"
   },
   {
    "duration": 14,
    "start_time": "2022-12-13T18:07:39.910Z"
   },
   {
    "duration": 61,
    "start_time": "2022-12-13T18:08:56.079Z"
   },
   {
    "duration": 418,
    "start_time": "2022-12-13T18:09:04.020Z"
   },
   {
    "duration": 53,
    "start_time": "2022-12-13T18:09:41.797Z"
   },
   {
    "duration": 52,
    "start_time": "2022-12-13T18:10:14.260Z"
   },
   {
    "duration": 80,
    "start_time": "2022-12-13T18:11:35.844Z"
   },
   {
    "duration": 18,
    "start_time": "2022-12-13T18:11:54.281Z"
   },
   {
    "duration": 15,
    "start_time": "2022-12-13T18:12:06.540Z"
   },
   {
    "duration": 4,
    "start_time": "2022-12-13T18:12:10.771Z"
   },
   {
    "duration": 3703,
    "start_time": "2022-12-13T18:14:05.078Z"
   },
   {
    "duration": 837,
    "start_time": "2022-12-13T18:14:08.783Z"
   },
   {
    "duration": 122,
    "start_time": "2022-12-13T18:14:09.622Z"
   },
   {
    "duration": 6,
    "start_time": "2022-12-13T18:14:09.746Z"
   },
   {
    "duration": 16,
    "start_time": "2022-12-13T18:14:10.734Z"
   },
   {
    "duration": 25,
    "start_time": "2022-12-13T18:14:33.588Z"
   },
   {
    "duration": 128,
    "start_time": "2022-12-13T18:14:36.290Z"
   },
   {
    "duration": 133,
    "start_time": "2022-12-13T18:14:37.699Z"
   },
   {
    "duration": 64,
    "start_time": "2022-12-13T18:14:44.143Z"
   },
   {
    "duration": 799,
    "start_time": "2022-12-13T18:14:47.688Z"
   },
   {
    "duration": 5183,
    "start_time": "2022-12-13T18:14:48.611Z"
   },
   {
    "duration": 5516,
    "start_time": "2022-12-13T18:14:53.797Z"
   },
   {
    "duration": 550,
    "start_time": "2022-12-13T18:14:59.315Z"
   },
   {
    "duration": 193,
    "start_time": "2022-12-13T18:15:08.253Z"
   },
   {
    "duration": 61553,
    "start_time": "2022-12-13T18:15:10.996Z"
   },
   {
    "duration": 55,
    "start_time": "2022-12-13T18:19:04.709Z"
   },
   {
    "duration": 62,
    "start_time": "2022-12-13T18:19:26.868Z"
   },
   {
    "duration": 146,
    "start_time": "2022-12-13T18:19:27.970Z"
   },
   {
    "duration": 303,
    "start_time": "2022-12-13T18:19:29.180Z"
   },
   {
    "duration": 98,
    "start_time": "2022-12-13T18:19:30.373Z"
   },
   {
    "duration": 3,
    "start_time": "2022-12-13T18:19:31.994Z"
   },
   {
    "duration": 17,
    "start_time": "2022-12-13T18:19:37.181Z"
   },
   {
    "duration": 7,
    "start_time": "2022-12-13T18:19:37.940Z"
   },
   {
    "duration": 89,
    "start_time": "2022-12-13T18:19:38.686Z"
   },
   {
    "duration": 6,
    "start_time": "2022-12-13T18:19:41.344Z"
   },
   {
    "duration": 2026,
    "start_time": "2022-12-13T18:19:44.250Z"
   },
   {
    "duration": 25,
    "start_time": "2022-12-13T18:19:58.417Z"
   },
   {
    "duration": 28,
    "start_time": "2022-12-13T18:20:07.718Z"
   },
   {
    "duration": 20,
    "start_time": "2022-12-13T18:24:42.817Z"
   },
   {
    "duration": 5,
    "start_time": "2022-12-13T18:24:43.642Z"
   },
   {
    "duration": 68,
    "start_time": "2022-12-13T18:24:44.500Z"
   },
   {
    "duration": 6,
    "start_time": "2022-12-13T18:24:50.374Z"
   },
   {
    "duration": 17,
    "start_time": "2022-12-13T18:25:02.035Z"
   },
   {
    "duration": 1930,
    "start_time": "2022-12-13T18:25:10.768Z"
   },
   {
    "duration": 20,
    "start_time": "2022-12-13T18:25:18.281Z"
   },
   {
    "duration": 61,
    "start_time": "2022-12-13T18:25:32.334Z"
   },
   {
    "duration": 4,
    "start_time": "2022-12-13T18:25:33.137Z"
   },
   {
    "duration": 21,
    "start_time": "2022-12-13T18:25:35.515Z"
   },
   {
    "duration": 1707,
    "start_time": "2022-12-13T18:25:58.333Z"
   },
   {
    "duration": 19,
    "start_time": "2022-12-13T18:26:19.000Z"
   },
   {
    "duration": 23,
    "start_time": "2022-12-13T18:26:21.811Z"
   },
   {
    "duration": 3530,
    "start_time": "2022-12-13T18:26:44.081Z"
   },
   {
    "duration": 838,
    "start_time": "2022-12-13T18:26:47.613Z"
   },
   {
    "duration": 113,
    "start_time": "2022-12-13T18:26:48.453Z"
   },
   {
    "duration": 12,
    "start_time": "2022-12-13T18:26:48.567Z"
   },
   {
    "duration": 22,
    "start_time": "2022-12-13T18:26:48.981Z"
   },
   {
    "duration": 25,
    "start_time": "2022-12-13T18:26:50.650Z"
   },
   {
    "duration": 120,
    "start_time": "2022-12-13T18:26:57.438Z"
   },
   {
    "duration": 146,
    "start_time": "2022-12-13T18:26:58.302Z"
   },
   {
    "duration": 74,
    "start_time": "2022-12-13T18:27:02.162Z"
   },
   {
    "duration": 758,
    "start_time": "2022-12-13T18:27:10.920Z"
   },
   {
    "duration": 4940,
    "start_time": "2022-12-13T18:27:17.673Z"
   },
   {
    "duration": 5727,
    "start_time": "2022-12-13T18:27:31.900Z"
   },
   {
    "duration": 5375,
    "start_time": "2022-12-13T18:27:37.630Z"
   },
   {
    "duration": 510,
    "start_time": "2022-12-13T18:27:43.007Z"
   },
   {
    "duration": 609,
    "start_time": "2022-12-13T18:28:03.235Z"
   },
   {
    "duration": 180,
    "start_time": "2022-12-13T18:28:27.334Z"
   },
   {
    "duration": 119,
    "start_time": "2022-12-13T18:28:58.348Z"
   },
   {
    "duration": 59991,
    "start_time": "2022-12-13T18:29:12.460Z"
   },
   {
    "duration": 47,
    "start_time": "2022-12-13T18:30:17.071Z"
   },
   {
    "duration": 53,
    "start_time": "2022-12-13T18:30:21.183Z"
   },
   {
    "duration": 571,
    "start_time": "2022-12-13T18:30:27.378Z"
   },
   {
    "duration": 141,
    "start_time": "2022-12-13T18:30:55.954Z"
   },
   {
    "duration": 273,
    "start_time": "2022-12-13T18:30:58.496Z"
   },
   {
    "duration": 82,
    "start_time": "2022-12-13T18:31:01.465Z"
   },
   {
    "duration": 3,
    "start_time": "2022-12-13T18:31:05.605Z"
   },
   {
    "duration": 14,
    "start_time": "2022-12-13T18:31:08.534Z"
   },
   {
    "duration": 5,
    "start_time": "2022-12-13T18:31:10.088Z"
   },
   {
    "duration": 65,
    "start_time": "2022-12-13T18:31:16.788Z"
   },
   {
    "duration": 5,
    "start_time": "2022-12-13T18:31:17.792Z"
   },
   {
    "duration": 20,
    "start_time": "2022-12-13T18:31:23.038Z"
   },
   {
    "duration": 1609,
    "start_time": "2022-12-13T18:32:56.747Z"
   },
   {
    "duration": 15,
    "start_time": "2022-12-13T18:33:01.665Z"
   },
   {
    "duration": 17,
    "start_time": "2022-12-13T18:33:09.543Z"
   },
   {
    "duration": 1380,
    "start_time": "2022-12-13T18:33:45.870Z"
   },
   {
    "duration": 25,
    "start_time": "2022-12-13T18:34:20.674Z"
   },
   {
    "duration": 4,
    "start_time": "2022-12-13T18:34:39.749Z"
   },
   {
    "duration": 16,
    "start_time": "2022-12-13T18:34:48.745Z"
   },
   {
    "duration": 5,
    "start_time": "2022-12-13T18:35:05.850Z"
   },
   {
    "duration": 2046,
    "start_time": "2022-12-13T18:35:41.167Z"
   },
   {
    "duration": 20,
    "start_time": "2022-12-13T18:35:47.244Z"
   },
   {
    "duration": 26,
    "start_time": "2022-12-13T18:36:16.839Z"
   },
   {
    "duration": 20,
    "start_time": "2022-12-13T18:36:23.556Z"
   },
   {
    "duration": 20,
    "start_time": "2022-12-13T18:36:29.239Z"
   },
   {
    "duration": 15,
    "start_time": "2022-12-13T18:36:37.968Z"
   },
   {
    "duration": 5,
    "start_time": "2022-12-13T18:36:38.903Z"
   },
   {
    "duration": 62,
    "start_time": "2022-12-13T18:36:39.487Z"
   },
   {
    "duration": 5,
    "start_time": "2022-12-13T18:36:40.439Z"
   },
   {
    "duration": 18,
    "start_time": "2022-12-13T18:36:41.644Z"
   },
   {
    "duration": 3,
    "start_time": "2022-12-13T18:36:48.644Z"
   },
   {
    "duration": 21,
    "start_time": "2022-12-13T18:36:52.528Z"
   },
   {
    "duration": 1986,
    "start_time": "2022-12-13T18:37:09.463Z"
   },
   {
    "duration": 24,
    "start_time": "2022-12-13T18:37:15.586Z"
   },
   {
    "duration": 15,
    "start_time": "2022-12-13T18:38:22.597Z"
   },
   {
    "duration": 6,
    "start_time": "2022-12-13T18:38:23.087Z"
   },
   {
    "duration": 85,
    "start_time": "2022-12-13T18:38:23.644Z"
   },
   {
    "duration": 5,
    "start_time": "2022-12-13T18:38:24.170Z"
   },
   {
    "duration": 28,
    "start_time": "2022-12-13T18:38:26.996Z"
   },
   {
    "duration": 4,
    "start_time": "2022-12-13T18:38:28.576Z"
   },
   {
    "duration": 44,
    "start_time": "2022-12-13T18:38:32.188Z"
   },
   {
    "duration": 27,
    "start_time": "2022-12-13T18:38:33.108Z"
   },
   {
    "duration": 26,
    "start_time": "2022-12-13T18:40:05.644Z"
   },
   {
    "duration": 16,
    "start_time": "2022-12-13T18:40:27.965Z"
   },
   {
    "duration": 5,
    "start_time": "2022-12-13T18:40:28.274Z"
   },
   {
    "duration": 60,
    "start_time": "2022-12-13T18:40:28.556Z"
   },
   {
    "duration": 6,
    "start_time": "2022-12-13T18:40:29.362Z"
   },
   {
    "duration": 27,
    "start_time": "2022-12-13T18:40:31.044Z"
   },
   {
    "duration": 3,
    "start_time": "2022-12-13T18:40:32.114Z"
   },
   {
    "duration": 44,
    "start_time": "2022-12-13T18:40:34.149Z"
   },
   {
    "duration": 27,
    "start_time": "2022-12-13T18:40:35.604Z"
   },
   {
    "duration": 16,
    "start_time": "2022-12-13T18:41:07.185Z"
   },
   {
    "duration": 5,
    "start_time": "2022-12-13T18:41:07.690Z"
   },
   {
    "duration": 60,
    "start_time": "2022-12-13T18:41:08.139Z"
   },
   {
    "duration": 5,
    "start_time": "2022-12-13T18:41:08.638Z"
   },
   {
    "duration": 17,
    "start_time": "2022-12-13T18:41:10.365Z"
   },
   {
    "duration": 3,
    "start_time": "2022-12-13T18:41:38.507Z"
   },
   {
    "duration": 2111,
    "start_time": "2022-12-13T18:41:47.740Z"
   },
   {
    "duration": 39,
    "start_time": "2022-12-13T18:41:49.853Z"
   },
   {
    "duration": 19,
    "start_time": "2022-12-13T18:42:28.723Z"
   },
   {
    "duration": 6,
    "start_time": "2022-12-13T18:42:29.304Z"
   },
   {
    "duration": 67,
    "start_time": "2022-12-13T18:42:29.880Z"
   },
   {
    "duration": 6,
    "start_time": "2022-12-13T18:42:30.448Z"
   },
   {
    "duration": 25,
    "start_time": "2022-12-13T18:42:31.073Z"
   },
   {
    "duration": 3,
    "start_time": "2022-12-13T18:42:31.968Z"
   },
   {
    "duration": 1694,
    "start_time": "2022-12-13T18:42:35.569Z"
   },
   {
    "duration": 22,
    "start_time": "2022-12-13T18:42:50.905Z"
   },
   {
    "duration": 18,
    "start_time": "2022-12-13T18:43:17.467Z"
   },
   {
    "duration": 22,
    "start_time": "2022-12-13T18:49:51.913Z"
   },
   {
    "duration": 6,
    "start_time": "2022-12-13T18:49:52.605Z"
   },
   {
    "duration": 59,
    "start_time": "2022-12-13T18:49:53.210Z"
   },
   {
    "duration": 5,
    "start_time": "2022-12-13T18:49:53.717Z"
   },
   {
    "duration": 134,
    "start_time": "2022-12-13T18:49:55.109Z"
   },
   {
    "duration": 15,
    "start_time": "2022-12-13T18:51:28.958Z"
   },
   {
    "duration": 111,
    "start_time": "2022-12-13T18:51:59.470Z"
   },
   {
    "duration": 1560,
    "start_time": "2022-12-13T18:52:24.332Z"
   },
   {
    "duration": 19,
    "start_time": "2022-12-13T18:52:30.272Z"
   },
   {
    "duration": 18,
    "start_time": "2022-12-13T18:53:06.505Z"
   },
   {
    "duration": 43,
    "start_time": "2022-12-13T18:53:59.765Z"
   },
   {
    "duration": 18,
    "start_time": "2022-12-13T18:54:03.859Z"
   },
   {
    "duration": 175,
    "start_time": "2022-12-13T18:54:54.646Z"
   },
   {
    "duration": 1995,
    "start_time": "2022-12-13T18:55:54.164Z"
   },
   {
    "duration": 71,
    "start_time": "2022-12-13T18:56:30.364Z"
   },
   {
    "duration": 16,
    "start_time": "2022-12-13T18:56:41.019Z"
   },
   {
    "duration": 333,
    "start_time": "2022-12-13T18:57:19.880Z"
   },
   {
    "duration": 29,
    "start_time": "2022-12-13T19:05:57.049Z"
   },
   {
    "duration": 63,
    "start_time": "2022-12-13T19:06:45.754Z"
   },
   {
    "duration": 18,
    "start_time": "2022-12-13T19:08:53.858Z"
   },
   {
    "duration": 901,
    "start_time": "2022-12-13T19:09:04.826Z"
   },
   {
    "duration": 6,
    "start_time": "2022-12-13T19:09:42.385Z"
   },
   {
    "duration": 3,
    "start_time": "2022-12-13T19:10:11.507Z"
   },
   {
    "duration": 5,
    "start_time": "2022-12-13T19:10:20.640Z"
   },
   {
    "duration": 56,
    "start_time": "2022-12-13T19:10:38.797Z"
   },
   {
    "duration": 4,
    "start_time": "2022-12-13T19:10:43.420Z"
   },
   {
    "duration": 8,
    "start_time": "2022-12-13T19:10:43.941Z"
   },
   {
    "duration": 22,
    "start_time": "2022-12-13T19:11:11.656Z"
   },
   {
    "duration": 16,
    "start_time": "2022-12-13T19:11:27.767Z"
   },
   {
    "duration": 4,
    "start_time": "2022-12-13T19:11:28.180Z"
   },
   {
    "duration": 58,
    "start_time": "2022-12-13T19:11:28.562Z"
   },
   {
    "duration": 4,
    "start_time": "2022-12-13T19:11:28.997Z"
   },
   {
    "duration": 68,
    "start_time": "2022-12-13T19:11:29.961Z"
   },
   {
    "duration": 5,
    "start_time": "2022-12-13T19:11:34.177Z"
   },
   {
    "duration": 19,
    "start_time": "2022-12-13T19:11:36.738Z"
   },
   {
    "duration": 86,
    "start_time": "2022-12-13T19:11:48.686Z"
   },
   {
    "duration": 4,
    "start_time": "2022-12-13T19:18:47.748Z"
   },
   {
    "duration": 5064,
    "start_time": "2022-12-13T19:19:54.098Z"
   },
   {
    "duration": 17,
    "start_time": "2022-12-13T19:20:09.796Z"
   },
   {
    "duration": 29,
    "start_time": "2022-12-13T19:21:39.932Z"
   },
   {
    "duration": 14,
    "start_time": "2022-12-13T19:22:47.900Z"
   },
   {
    "duration": 4,
    "start_time": "2022-12-13T19:22:48.468Z"
   },
   {
    "duration": 64,
    "start_time": "2022-12-13T19:22:49.080Z"
   },
   {
    "duration": 5,
    "start_time": "2022-12-13T19:22:49.648Z"
   },
   {
    "duration": 1610,
    "start_time": "2022-12-13T19:23:01.755Z"
   },
   {
    "duration": 54,
    "start_time": "2022-12-13T19:26:05.030Z"
   },
   {
    "duration": 3498,
    "start_time": "2022-12-13T19:26:33.843Z"
   },
   {
    "duration": 782,
    "start_time": "2022-12-13T19:26:37.343Z"
   },
   {
    "duration": 121,
    "start_time": "2022-12-13T19:26:38.127Z"
   },
   {
    "duration": 6,
    "start_time": "2022-12-13T19:26:38.498Z"
   },
   {
    "duration": 14,
    "start_time": "2022-12-13T19:27:08.818Z"
   },
   {
    "duration": 27,
    "start_time": "2022-12-13T19:27:30.612Z"
   },
   {
    "duration": 116,
    "start_time": "2022-12-13T19:27:32.198Z"
   },
   {
    "duration": 142,
    "start_time": "2022-12-13T19:27:43.602Z"
   },
   {
    "duration": 55,
    "start_time": "2022-12-13T19:27:47.906Z"
   },
   {
    "duration": 750,
    "start_time": "2022-12-13T19:27:55.797Z"
   },
   {
    "duration": 4675,
    "start_time": "2022-12-13T19:27:56.796Z"
   },
   {
    "duration": 4925,
    "start_time": "2022-12-13T19:28:01.473Z"
   },
   {
    "duration": 499,
    "start_time": "2022-12-13T19:28:06.400Z"
   },
   {
    "duration": 181,
    "start_time": "2022-12-13T19:28:21.753Z"
   },
   {
    "duration": 193,
    "start_time": "2022-12-13T19:29:17.116Z"
   },
   {
    "duration": 88,
    "start_time": "2022-12-13T19:30:15.867Z"
   },
   {
    "duration": 79,
    "start_time": "2022-12-13T19:30:32.856Z"
   },
   {
    "duration": 95,
    "start_time": "2022-12-13T19:33:13.868Z"
   },
   {
    "duration": 57808,
    "start_time": "2022-12-13T19:34:24.363Z"
   },
   {
    "duration": 48,
    "start_time": "2022-12-13T19:35:53.107Z"
   },
   {
    "duration": 52,
    "start_time": "2022-12-13T19:35:55.315Z"
   },
   {
    "duration": 607,
    "start_time": "2022-12-13T19:35:57.733Z"
   },
   {
    "duration": 127,
    "start_time": "2022-12-13T19:36:06.561Z"
   },
   {
    "duration": 263,
    "start_time": "2022-12-13T19:36:09.678Z"
   },
   {
    "duration": 75,
    "start_time": "2022-12-13T19:37:14.630Z"
   },
   {
    "duration": 4,
    "start_time": "2022-12-13T19:37:34.431Z"
   },
   {
    "duration": 14,
    "start_time": "2022-12-13T19:37:40.738Z"
   },
   {
    "duration": 4,
    "start_time": "2022-12-13T19:37:47.435Z"
   },
   {
    "duration": 58,
    "start_time": "2022-12-13T19:37:48.527Z"
   },
   {
    "duration": 5,
    "start_time": "2022-12-13T19:38:11.659Z"
   },
   {
    "duration": 1550,
    "start_time": "2022-12-13T19:40:22.766Z"
   },
   {
    "duration": 76,
    "start_time": "2022-12-13T19:42:57.636Z"
   },
   {
    "duration": 42,
    "start_time": "2022-12-13T19:43:02.639Z"
   },
   {
    "duration": 1990,
    "start_time": "2022-12-13T20:39:55.839Z"
   },
   {
    "duration": 92,
    "start_time": "2022-12-13T20:50:30.758Z"
   },
   {
    "duration": 30143,
    "start_time": "2022-12-13T20:50:43.885Z"
   },
   {
    "duration": 30919,
    "start_time": "2022-12-13T20:51:48.800Z"
   },
   {
    "duration": 2088,
    "start_time": "2022-12-13T21:07:54.902Z"
   },
   {
    "duration": 84,
    "start_time": "2022-12-13T21:16:33.912Z"
   },
   {
    "duration": 76,
    "start_time": "2022-12-13T21:16:50.997Z"
   },
   {
    "duration": 3394,
    "start_time": "2022-12-13T21:26:16.729Z"
   },
   {
    "duration": 774,
    "start_time": "2022-12-13T21:26:20.125Z"
   },
   {
    "duration": 108,
    "start_time": "2022-12-13T21:26:20.900Z"
   },
   {
    "duration": 14,
    "start_time": "2022-12-13T21:26:21.010Z"
   },
   {
    "duration": 20,
    "start_time": "2022-12-13T21:26:21.026Z"
   },
   {
    "duration": 29,
    "start_time": "2022-12-13T21:26:21.048Z"
   },
   {
    "duration": 123,
    "start_time": "2022-12-13T21:26:21.079Z"
   },
   {
    "duration": 132,
    "start_time": "2022-12-13T21:26:21.204Z"
   },
   {
    "duration": 50,
    "start_time": "2022-12-13T21:26:21.337Z"
   },
   {
    "duration": 774,
    "start_time": "2022-12-13T21:26:21.390Z"
   },
   {
    "duration": 4573,
    "start_time": "2022-12-13T21:26:22.166Z"
   },
   {
    "duration": 4753,
    "start_time": "2022-12-13T21:26:26.741Z"
   },
   {
    "duration": 499,
    "start_time": "2022-12-13T21:26:31.496Z"
   },
   {
    "duration": 200,
    "start_time": "2022-12-13T21:26:31.997Z"
   },
   {
    "duration": 55523,
    "start_time": "2022-12-13T21:26:32.199Z"
   },
   {
    "duration": 44,
    "start_time": "2022-12-13T21:27:27.724Z"
   },
   {
    "duration": 71,
    "start_time": "2022-12-13T21:27:27.770Z"
   },
   {
    "duration": 569,
    "start_time": "2022-12-13T21:27:27.843Z"
   },
   {
    "duration": 141,
    "start_time": "2022-12-13T21:27:28.414Z"
   },
   {
    "duration": 271,
    "start_time": "2022-12-13T21:27:28.556Z"
   },
   {
    "duration": 75,
    "start_time": "2022-12-13T21:27:28.828Z"
   },
   {
    "duration": 3,
    "start_time": "2022-12-13T21:27:28.905Z"
   },
   {
    "duration": 26,
    "start_time": "2022-12-13T21:27:28.909Z"
   },
   {
    "duration": 4,
    "start_time": "2022-12-13T21:27:28.936Z"
   },
   {
    "duration": 62,
    "start_time": "2022-12-13T21:27:28.942Z"
   },
   {
    "duration": 6,
    "start_time": "2022-12-13T21:27:29.022Z"
   },
   {
    "duration": 1569,
    "start_time": "2022-12-13T21:27:29.030Z"
   },
   {
    "duration": 433,
    "start_time": "2022-12-13T21:27:30.602Z"
   },
   {
    "duration": 1908,
    "start_time": "2022-12-13T21:27:31.037Z"
   },
   {
    "duration": 32582,
    "start_time": "2022-12-13T21:27:32.946Z"
   },
   {
    "duration": 80,
    "start_time": "2022-12-13T21:38:46.369Z"
   },
   {
    "duration": 6,
    "start_time": "2022-12-13T21:38:46.452Z"
   },
   {
    "duration": 5,
    "start_time": "2022-12-13T21:38:56.790Z"
   },
   {
    "duration": 6,
    "start_time": "2022-12-13T21:39:30.438Z"
   },
   {
    "duration": 4,
    "start_time": "2022-12-13T21:40:36.316Z"
   },
   {
    "duration": 5,
    "start_time": "2022-12-13T21:42:43.435Z"
   },
   {
    "duration": 526820,
    "start_time": "2022-12-13T21:42:52.686Z"
   },
   {
    "duration": 45,
    "start_time": "2022-12-13T21:51:44.842Z"
   },
   {
    "duration": 5679,
    "start_time": "2022-12-13T21:56:02.806Z"
   },
   {
    "duration": 28383,
    "start_time": "2022-12-13T21:56:12.482Z"
   },
   {
    "duration": 95,
    "start_time": "2022-12-13T21:56:46.774Z"
   },
   {
    "duration": 92,
    "start_time": "2022-12-13T21:56:51.724Z"
   },
   {
    "duration": 94,
    "start_time": "2022-12-13T21:57:05.878Z"
   },
   {
    "duration": 90894,
    "start_time": "2022-12-13T21:57:12.023Z"
   },
   {
    "duration": 738546,
    "start_time": "2022-12-13T21:58:49.177Z"
   },
   {
    "duration": 4626,
    "start_time": "2022-12-14T13:01:14.592Z"
   },
   {
    "duration": 2773,
    "start_time": "2022-12-14T13:01:27.140Z"
   },
   {
    "duration": 115,
    "start_time": "2022-12-14T13:01:30.513Z"
   },
   {
    "duration": 7,
    "start_time": "2022-12-14T13:01:33.656Z"
   },
   {
    "duration": 14,
    "start_time": "2022-12-14T13:01:35.058Z"
   },
   {
    "duration": 21,
    "start_time": "2022-12-14T13:01:36.403Z"
   },
   {
    "duration": 115,
    "start_time": "2022-12-14T13:01:37.821Z"
   },
   {
    "duration": 120,
    "start_time": "2022-12-14T13:01:38.513Z"
   },
   {
    "duration": 47,
    "start_time": "2022-12-14T13:01:39.422Z"
   },
   {
    "duration": 700,
    "start_time": "2022-12-14T13:01:40.215Z"
   },
   {
    "duration": 4467,
    "start_time": "2022-12-14T13:01:41.149Z"
   },
   {
    "duration": 4735,
    "start_time": "2022-12-14T13:01:45.618Z"
   },
   {
    "duration": 459,
    "start_time": "2022-12-14T13:01:50.355Z"
   },
   {
    "duration": 178,
    "start_time": "2022-12-14T13:01:50.816Z"
   },
   {
    "duration": 57240,
    "start_time": "2022-12-14T13:04:12.779Z"
   },
   {
    "duration": 39,
    "start_time": "2022-12-14T13:08:08.715Z"
   },
   {
    "duration": 115,
    "start_time": "2022-12-14T13:08:25.701Z"
   },
   {
    "duration": 9563,
    "start_time": "2022-12-14T13:08:41.389Z"
   },
   {
    "duration": 82,
    "start_time": "2022-12-14T13:09:39.534Z"
   },
   {
    "duration": 98,
    "start_time": "2022-12-14T13:09:55.289Z"
   },
   {
    "duration": 6350,
    "start_time": "2022-12-14T13:10:08.667Z"
   },
   {
    "duration": 64689,
    "start_time": "2022-12-14T13:10:20.139Z"
   },
   {
    "duration": 36514,
    "start_time": "2022-12-14T13:11:58.494Z"
   },
   {
    "duration": 38286,
    "start_time": "2022-12-14T13:12:38.431Z"
   },
   {
    "duration": 39698,
    "start_time": "2022-12-14T13:14:01.677Z"
   },
   {
    "duration": 83,
    "start_time": "2022-12-14T13:15:41.699Z"
   },
   {
    "duration": 21124,
    "start_time": "2022-12-14T13:48:00.398Z"
   },
   {
    "duration": 76,
    "start_time": "2022-12-14T13:50:08.367Z"
   },
   {
    "duration": 2079,
    "start_time": "2022-12-14T13:58:16.889Z"
   },
   {
    "duration": 1053,
    "start_time": "2022-12-14T13:58:32.204Z"
   },
   {
    "duration": 25,
    "start_time": "2022-12-14T14:02:14.896Z"
   },
   {
    "duration": 13,
    "start_time": "2022-12-14T14:04:18.209Z"
   },
   {
    "duration": 3221,
    "start_time": "2022-12-14T14:10:37.489Z"
   },
   {
    "duration": 705,
    "start_time": "2022-12-14T14:10:58.360Z"
   },
   {
    "duration": 98,
    "start_time": "2022-12-14T14:10:59.173Z"
   },
   {
    "duration": 6,
    "start_time": "2022-12-14T14:11:00.561Z"
   },
   {
    "duration": 20,
    "start_time": "2022-12-14T14:11:01.600Z"
   },
   {
    "duration": 24,
    "start_time": "2022-12-14T14:11:03.489Z"
   },
   {
    "duration": 105,
    "start_time": "2022-12-14T14:11:04.754Z"
   },
   {
    "duration": 56,
    "start_time": "2022-12-14T14:11:08.986Z"
   },
   {
    "duration": 147,
    "start_time": "2022-12-14T14:11:17.781Z"
   },
   {
    "duration": 50,
    "start_time": "2022-12-14T14:11:25.727Z"
   },
   {
    "duration": 686,
    "start_time": "2022-12-14T14:11:27.266Z"
   },
   {
    "duration": 4391,
    "start_time": "2022-12-14T14:11:28.791Z"
   },
   {
    "duration": 4612,
    "start_time": "2022-12-14T14:11:33.184Z"
   },
   {
    "duration": 469,
    "start_time": "2022-12-14T14:11:37.797Z"
   },
   {
    "duration": 290,
    "start_time": "2022-12-14T14:12:41.496Z"
   },
   {
    "duration": 107,
    "start_time": "2022-12-14T14:13:02.821Z"
   },
   {
    "duration": 145,
    "start_time": "2022-12-14T14:13:59.151Z"
   },
   {
    "duration": 47,
    "start_time": "2022-12-14T14:14:52.238Z"
   },
   {
    "duration": 3160,
    "start_time": "2022-12-14T14:17:34.627Z"
   },
   {
    "duration": 1072,
    "start_time": "2022-12-14T14:17:51.449Z"
   },
   {
    "duration": 1063,
    "start_time": "2022-12-14T14:18:13.907Z"
   },
   {
    "duration": 92,
    "start_time": "2022-12-14T14:20:21.710Z"
   },
   {
    "duration": 96,
    "start_time": "2022-12-14T14:20:30.893Z"
   },
   {
    "duration": 1065,
    "start_time": "2022-12-14T14:20:55.022Z"
   },
   {
    "duration": 12473,
    "start_time": "2022-12-14T14:21:17.909Z"
   },
   {
    "duration": 2974,
    "start_time": "2022-12-14T14:22:02.688Z"
   },
   {
    "duration": 129630,
    "start_time": "2022-12-14T14:22:08.980Z"
   },
   {
    "duration": 0,
    "start_time": "2022-12-14T14:24:51.235Z"
   },
   {
    "duration": 126,
    "start_time": "2022-12-14T14:24:53.644Z"
   },
   {
    "duration": 29065,
    "start_time": "2022-12-14T14:25:04.054Z"
   },
   {
    "duration": 46,
    "start_time": "2022-12-14T14:26:16.945Z"
   },
   {
    "duration": 482248,
    "start_time": "2022-12-14T14:26:56.135Z"
   },
   {
    "duration": 29222,
    "start_time": "2022-12-14T14:37:16.514Z"
   },
   {
    "duration": 5208,
    "start_time": "2022-12-14T14:38:34.238Z"
   },
   {
    "duration": 3856,
    "start_time": "2022-12-14T14:38:41.822Z"
   },
   {
    "duration": 5819,
    "start_time": "2022-12-14T14:38:57.390Z"
   },
   {
    "duration": 18024,
    "start_time": "2022-12-14T14:39:26.334Z"
   },
   {
    "duration": 78,
    "start_time": "2022-12-14T14:40:34.503Z"
   },
   {
    "duration": 7311,
    "start_time": "2022-12-14T14:41:42.192Z"
   },
   {
    "duration": 47972,
    "start_time": "2022-12-14T14:41:53.054Z"
   },
   {
    "duration": 21906,
    "start_time": "2022-12-14T14:43:11.301Z"
   },
   {
    "duration": 7837,
    "start_time": "2022-12-14T14:43:35.049Z"
   },
   {
    "duration": 23040,
    "start_time": "2022-12-14T14:44:00.225Z"
   },
   {
    "duration": 29236,
    "start_time": "2022-12-14T14:44:40.296Z"
   },
   {
    "duration": 25332,
    "start_time": "2022-12-14T14:45:11.167Z"
   },
   {
    "duration": 110,
    "start_time": "2022-12-14T14:46:03.018Z"
   },
   {
    "duration": 98,
    "start_time": "2022-12-14T14:46:10.475Z"
   },
   {
    "duration": 101,
    "start_time": "2022-12-14T14:46:18.528Z"
   },
   {
    "duration": 98,
    "start_time": "2022-12-14T14:46:31.272Z"
   },
   {
    "duration": 37,
    "start_time": "2022-12-14T14:46:44.961Z"
   },
   {
    "duration": 104,
    "start_time": "2022-12-14T14:47:21.026Z"
   },
   {
    "duration": 29,
    "start_time": "2022-12-14T14:47:44.028Z"
   },
   {
    "duration": 3297,
    "start_time": "2022-12-14T14:51:44.499Z"
   },
   {
    "duration": 688,
    "start_time": "2022-12-14T14:51:47.798Z"
   },
   {
    "duration": 100,
    "start_time": "2022-12-14T14:51:49.431Z"
   },
   {
    "duration": 6,
    "start_time": "2022-12-14T14:51:50.826Z"
   },
   {
    "duration": 15,
    "start_time": "2022-12-14T14:51:51.985Z"
   },
   {
    "duration": 22,
    "start_time": "2022-12-14T14:51:53.040Z"
   },
   {
    "duration": 111,
    "start_time": "2022-12-14T14:51:54.338Z"
   },
   {
    "duration": 119,
    "start_time": "2022-12-14T14:51:55.151Z"
   },
   {
    "duration": 47,
    "start_time": "2022-12-14T14:51:55.900Z"
   },
   {
    "duration": 723,
    "start_time": "2022-12-14T14:51:57.104Z"
   },
   {
    "duration": 4473,
    "start_time": "2022-12-14T14:51:58.005Z"
   },
   {
    "duration": 4541,
    "start_time": "2022-12-14T14:52:02.480Z"
   },
   {
    "duration": 455,
    "start_time": "2022-12-14T14:52:07.026Z"
   },
   {
    "duration": 183,
    "start_time": "2022-12-14T14:52:07.482Z"
   },
   {
    "duration": 126,
    "start_time": "2022-12-14T14:52:21.308Z"
   },
   {
    "duration": 114,
    "start_time": "2022-12-14T14:53:06.725Z"
   },
   {
    "duration": 8039,
    "start_time": "2022-12-14T14:54:24.568Z"
   },
   {
    "duration": 838,
    "start_time": "2022-12-14T14:54:41.706Z"
   },
   {
    "duration": 833,
    "start_time": "2022-12-14T14:54:52.529Z"
   },
   {
    "duration": 95085,
    "start_time": "2022-12-14T14:59:57.957Z"
   },
   {
    "duration": 105,
    "start_time": "2022-12-14T15:02:19.529Z"
   },
   {
    "duration": 79,
    "start_time": "2022-12-14T15:03:09.797Z"
   },
   {
    "duration": 11450,
    "start_time": "2022-12-14T15:03:44.516Z"
   },
   {
    "duration": 54408,
    "start_time": "2022-12-14T15:04:23.107Z"
   },
   {
    "duration": 29589,
    "start_time": "2022-12-14T15:05:21.864Z"
   },
   {
    "duration": 123940,
    "start_time": "2022-12-14T15:05:52.893Z"
   },
   {
    "duration": 11290,
    "start_time": "2022-12-14T15:08:17.342Z"
   },
   {
    "duration": 5962,
    "start_time": "2022-12-14T15:08:37.965Z"
   },
   {
    "duration": 60483,
    "start_time": "2022-12-14T15:08:53.205Z"
   },
   {
    "duration": 6415,
    "start_time": "2022-12-14T15:10:05.588Z"
   },
   {
    "duration": 28480,
    "start_time": "2022-12-14T15:10:14.020Z"
   },
   {
    "duration": 49671,
    "start_time": "2022-12-14T15:10:44.309Z"
   },
   {
    "duration": 34861,
    "start_time": "2022-12-14T15:11:38.881Z"
   },
   {
    "duration": 43339,
    "start_time": "2022-12-14T15:12:15.721Z"
   },
   {
    "duration": 47,
    "start_time": "2022-12-14T15:14:25.592Z"
   },
   {
    "duration": 47,
    "start_time": "2022-12-14T15:14:28.582Z"
   },
   {
    "duration": 561,
    "start_time": "2022-12-14T15:14:30.680Z"
   },
   {
    "duration": 157,
    "start_time": "2022-12-14T15:14:32.299Z"
   },
   {
    "duration": 327,
    "start_time": "2022-12-14T15:14:33.714Z"
   },
   {
    "duration": 90,
    "start_time": "2022-12-14T15:14:35.305Z"
   },
   {
    "duration": 3,
    "start_time": "2022-12-14T15:14:37.816Z"
   },
   {
    "duration": 14,
    "start_time": "2022-12-14T15:14:56.659Z"
   },
   {
    "duration": 68,
    "start_time": "2022-12-14T15:14:57.914Z"
   },
   {
    "duration": 5,
    "start_time": "2022-12-14T15:15:00.240Z"
   },
   {
    "duration": 1688,
    "start_time": "2022-12-14T15:15:04.421Z"
   },
   {
    "duration": 419,
    "start_time": "2022-12-14T15:15:16.943Z"
   },
   {
    "duration": 1967,
    "start_time": "2022-12-14T15:17:36.500Z"
   },
   {
    "duration": 1974,
    "start_time": "2022-12-14T15:18:15.154Z"
   },
   {
    "duration": 40015,
    "start_time": "2022-12-14T15:18:45.251Z"
   },
   {
    "duration": 167,
    "start_time": "2022-12-14T15:24:11.167Z"
   },
   {
    "duration": 123,
    "start_time": "2022-12-14T15:24:35.014Z"
   },
   {
    "duration": 1802,
    "start_time": "2022-12-14T15:56:27.953Z"
   },
   {
    "duration": 4670,
    "start_time": "2022-12-16T15:43:16.789Z"
   },
   {
    "duration": 1071,
    "start_time": "2022-12-16T15:43:21.461Z"
   },
   {
    "duration": 116,
    "start_time": "2022-12-16T15:43:22.534Z"
   },
   {
    "duration": 7,
    "start_time": "2022-12-16T15:43:22.652Z"
   },
   {
    "duration": 18,
    "start_time": "2022-12-16T15:43:22.661Z"
   },
   {
    "duration": 39,
    "start_time": "2022-12-16T15:43:22.681Z"
   },
   {
    "duration": 122,
    "start_time": "2022-12-16T15:43:22.967Z"
   },
   {
    "duration": 136,
    "start_time": "2022-12-16T15:43:23.480Z"
   },
   {
    "duration": 50,
    "start_time": "2022-12-16T15:43:23.991Z"
   },
   {
    "duration": 795,
    "start_time": "2022-12-16T15:43:24.463Z"
   },
   {
    "duration": 5353,
    "start_time": "2022-12-16T15:43:25.260Z"
   },
   {
    "duration": 5339,
    "start_time": "2022-12-16T15:43:30.616Z"
   },
   {
    "duration": 501,
    "start_time": "2022-12-16T15:43:35.957Z"
   },
   {
    "duration": 219,
    "start_time": "2022-12-16T15:43:36.460Z"
   },
   {
    "duration": 62112,
    "start_time": "2022-12-16T15:43:36.681Z"
   },
   {
    "duration": 65,
    "start_time": "2022-12-16T15:44:38.795Z"
   },
   {
    "duration": 67,
    "start_time": "2022-12-16T15:44:38.861Z"
   },
   {
    "duration": 617,
    "start_time": "2022-12-16T15:44:38.931Z"
   },
   {
    "duration": 150,
    "start_time": "2022-12-16T15:44:39.550Z"
   },
   {
    "duration": 304,
    "start_time": "2022-12-16T15:44:39.702Z"
   },
   {
    "duration": 85,
    "start_time": "2022-12-16T15:44:40.007Z"
   },
   {
    "duration": 3,
    "start_time": "2022-12-16T15:44:40.094Z"
   },
   {
    "duration": 27,
    "start_time": "2022-12-16T15:44:40.099Z"
   },
   {
    "duration": 71,
    "start_time": "2022-12-16T15:44:40.128Z"
   },
   {
    "duration": 8,
    "start_time": "2022-12-16T15:44:40.212Z"
   },
   {
    "duration": 1682,
    "start_time": "2022-12-16T15:44:40.222Z"
   },
   {
    "duration": 389,
    "start_time": "2022-12-16T15:44:41.906Z"
   },
   {
    "duration": 1931,
    "start_time": "2022-12-16T15:44:45.816Z"
   },
   {
    "duration": 343408,
    "start_time": "2022-12-16T15:45:37.163Z"
   },
   {
    "duration": 164,
    "start_time": "2022-12-16T15:51:20.573Z"
   },
   {
    "duration": 176710,
    "start_time": "2022-12-16T15:52:25.282Z"
   },
   {
    "duration": 56,
    "start_time": "2022-12-16T15:55:21.995Z"
   },
   {
    "duration": 17597,
    "start_time": "2022-12-16T15:59:43.893Z"
   },
   {
    "duration": 14,
    "start_time": "2022-12-16T16:01:55.669Z"
   },
   {
    "duration": 14,
    "start_time": "2022-12-16T16:02:03.552Z"
   },
   {
    "duration": 4532,
    "start_time": "2022-12-16T19:32:01.247Z"
   },
   {
    "duration": 1218,
    "start_time": "2022-12-16T19:32:05.781Z"
   },
   {
    "duration": 146,
    "start_time": "2022-12-16T19:32:07.000Z"
   },
   {
    "duration": 7,
    "start_time": "2022-12-16T19:32:07.149Z"
   },
   {
    "duration": 16,
    "start_time": "2022-12-16T19:32:07.158Z"
   },
   {
    "duration": 43,
    "start_time": "2022-12-16T19:32:07.176Z"
   },
   {
    "duration": 142,
    "start_time": "2022-12-16T19:32:07.996Z"
   },
   {
    "duration": 142,
    "start_time": "2022-12-16T19:32:08.495Z"
   },
   {
    "duration": 57,
    "start_time": "2022-12-16T19:32:09.013Z"
   },
   {
    "duration": 811,
    "start_time": "2022-12-16T19:32:09.542Z"
   },
   {
    "duration": 5126,
    "start_time": "2022-12-16T19:32:10.355Z"
   },
   {
    "duration": 5304,
    "start_time": "2022-12-16T19:32:15.483Z"
   },
   {
    "duration": 504,
    "start_time": "2022-12-16T19:32:20.789Z"
   },
   {
    "duration": 238,
    "start_time": "2022-12-16T19:32:21.295Z"
   },
   {
    "duration": 60802,
    "start_time": "2022-12-16T19:32:21.534Z"
   },
   {
    "duration": 46,
    "start_time": "2022-12-16T19:33:22.338Z"
   },
   {
    "duration": 88,
    "start_time": "2022-12-16T19:33:22.386Z"
   },
   {
    "duration": 603,
    "start_time": "2022-12-16T19:33:22.477Z"
   },
   {
    "duration": 172,
    "start_time": "2022-12-16T19:33:23.081Z"
   },
   {
    "duration": 301,
    "start_time": "2022-12-16T19:33:23.256Z"
   },
   {
    "duration": 88,
    "start_time": "2022-12-16T19:33:23.558Z"
   },
   {
    "duration": 2,
    "start_time": "2022-12-16T19:33:23.648Z"
   },
   {
    "duration": 21,
    "start_time": "2022-12-16T19:33:23.652Z"
   },
   {
    "duration": 75,
    "start_time": "2022-12-16T19:33:23.675Z"
   },
   {
    "duration": 6,
    "start_time": "2022-12-16T19:33:23.752Z"
   },
   {
    "duration": 1776,
    "start_time": "2022-12-16T19:33:23.760Z"
   },
   {
    "duration": 461,
    "start_time": "2022-12-16T19:33:25.537Z"
   },
   {
    "duration": 2030,
    "start_time": "2022-12-16T19:33:25.999Z"
   },
   {
    "duration": 292203,
    "start_time": "2022-12-16T19:35:00.676Z"
   },
   {
    "duration": 13491,
    "start_time": "2022-12-16T20:04:46.448Z"
   },
   {
    "duration": 66422,
    "start_time": "2022-12-16T20:05:55.807Z"
   },
   {
    "duration": 1546833,
    "start_time": "2022-12-16T20:07:29.821Z"
   },
   {
    "duration": 2000489,
    "start_time": "2022-12-16T20:33:16.656Z"
   },
   {
    "duration": 53,
    "start_time": "2022-12-16T21:06:37.147Z"
   },
   {
    "duration": 91,
    "start_time": "2022-12-16T21:06:37.202Z"
   },
   {
    "duration": 5,
    "start_time": "2022-12-16T21:12:47.990Z"
   },
   {
    "duration": 4,
    "start_time": "2022-12-16T21:13:18.159Z"
   },
   {
    "duration": 4,
    "start_time": "2022-12-16T21:14:11.923Z"
   },
   {
    "duration": 4,
    "start_time": "2022-12-16T21:16:23.020Z"
   },
   {
    "duration": 82,
    "start_time": "2022-12-16T21:17:17.049Z"
   },
   {
    "duration": 54,
    "start_time": "2022-12-16T21:20:33.965Z"
   },
   {
    "duration": 2136,
    "start_time": "2022-12-16T21:20:40.768Z"
   },
   {
    "duration": 62,
    "start_time": "2022-12-16T21:20:46.940Z"
   },
   {
    "duration": 19,
    "start_time": "2022-12-16T21:21:17.609Z"
   },
   {
    "duration": 76,
    "start_time": "2022-12-16T21:21:18.611Z"
   },
   {
    "duration": 5,
    "start_time": "2022-12-16T21:21:19.745Z"
   },
   {
    "duration": 1724,
    "start_time": "2022-12-16T21:22:49.368Z"
   },
   {
    "duration": 17,
    "start_time": "2022-12-16T21:23:00.189Z"
   },
   {
    "duration": 17,
    "start_time": "2022-12-16T21:23:09.492Z"
   },
   {
    "duration": 66,
    "start_time": "2022-12-16T21:24:01.173Z"
   },
   {
    "duration": 184,
    "start_time": "2022-12-16T21:26:33.666Z"
   },
   {
    "duration": 68,
    "start_time": "2022-12-16T21:31:34.792Z"
   },
   {
    "duration": 68,
    "start_time": "2022-12-16T21:32:03.132Z"
   },
   {
    "duration": 24,
    "start_time": "2022-12-16T21:32:15.288Z"
   },
   {
    "duration": 124,
    "start_time": "2022-12-16T21:32:47.909Z"
   },
   {
    "duration": 2311,
    "start_time": "2022-12-16T21:34:05.699Z"
   },
   {
    "duration": 159,
    "start_time": "2022-12-16T21:34:32.639Z"
   },
   {
    "duration": 149,
    "start_time": "2022-12-16T21:34:45.887Z"
   },
   {
    "duration": 3,
    "start_time": "2022-12-16T21:37:27.452Z"
   },
   {
    "duration": 146,
    "start_time": "2022-12-16T21:37:28.630Z"
   },
   {
    "duration": 3,
    "start_time": "2022-12-16T21:38:06.220Z"
   },
   {
    "duration": 53,
    "start_time": "2022-12-16T21:38:23.021Z"
   },
   {
    "duration": 51,
    "start_time": "2022-12-16T21:38:48.757Z"
   },
   {
    "duration": 49,
    "start_time": "2022-12-16T21:39:20.899Z"
   },
   {
    "duration": 49,
    "start_time": "2022-12-16T21:39:37.841Z"
   },
   {
    "duration": 53,
    "start_time": "2022-12-16T21:39:46.768Z"
   },
   {
    "duration": 27,
    "start_time": "2022-12-16T21:39:51.376Z"
   },
   {
    "duration": 54,
    "start_time": "2022-12-16T21:40:19.818Z"
   },
   {
    "duration": 52,
    "start_time": "2022-12-16T21:40:27.150Z"
   },
   {
    "duration": 4,
    "start_time": "2022-12-16T21:40:31.896Z"
   },
   {
    "duration": 59,
    "start_time": "2022-12-16T21:40:37.913Z"
   },
   {
    "duration": 40,
    "start_time": "2022-12-16T21:41:30.092Z"
   },
   {
    "duration": 45,
    "start_time": "2022-12-16T21:41:47.266Z"
   },
   {
    "duration": 2,
    "start_time": "2022-12-16T21:42:04.096Z"
   },
   {
    "duration": 60,
    "start_time": "2022-12-16T21:42:15.292Z"
   },
   {
    "duration": 56910,
    "start_time": "2022-12-16T21:42:24.545Z"
   },
   {
    "duration": 56968,
    "start_time": "2022-12-16T21:46:26.594Z"
   },
   {
    "duration": 762121,
    "start_time": "2022-12-16T21:47:25.214Z"
   },
   {
    "duration": 23229,
    "start_time": "2022-12-16T22:00:07.338Z"
   },
   {
    "duration": 13,
    "start_time": "2022-12-16T22:02:36.664Z"
   },
   {
    "duration": 53,
    "start_time": "2022-12-16T22:07:57.476Z"
   },
   {
    "duration": 388,
    "start_time": "2022-12-16T22:08:02.201Z"
   },
   {
    "duration": 830,
    "start_time": "2022-12-16T22:09:39.201Z"
   },
   {
    "duration": 13,
    "start_time": "2022-12-16T22:13:19.514Z"
   },
   {
    "duration": 782,
    "start_time": "2022-12-16T22:13:23.084Z"
   },
   {
    "duration": 139397,
    "start_time": "2022-12-16T22:19:14.546Z"
   },
   {
    "duration": 8362,
    "start_time": "2022-12-16T22:22:01.209Z"
   },
   {
    "duration": 180635,
    "start_time": "2022-12-16T22:22:14.865Z"
   },
   {
    "duration": 1262,
    "start_time": "2022-12-16T22:25:15.501Z"
   },
   {
    "duration": 751,
    "start_time": "2022-12-16T22:27:24.272Z"
   },
   {
    "duration": 11,
    "start_time": "2022-12-16T22:34:10.329Z"
   },
   {
    "duration": 789,
    "start_time": "2022-12-16T22:34:22.176Z"
   },
   {
    "duration": 899,
    "start_time": "2022-12-16T22:34:52.137Z"
   },
   {
    "duration": 479,
    "start_time": "2022-12-16T22:35:42.254Z"
   },
   {
    "duration": 14,
    "start_time": "2022-12-16T22:41:42.434Z"
   },
   {
    "duration": 677,
    "start_time": "2022-12-16T22:42:01.464Z"
   },
   {
    "duration": 449,
    "start_time": "2022-12-16T22:42:15.792Z"
   },
   {
    "duration": 479,
    "start_time": "2022-12-16T22:42:25.393Z"
   },
   {
    "duration": 656,
    "start_time": "2022-12-16T22:42:35.320Z"
   },
   {
    "duration": 817,
    "start_time": "2022-12-16T22:44:54.195Z"
   },
   {
    "duration": 676,
    "start_time": "2022-12-16T22:45:14.083Z"
   },
   {
    "duration": 1021,
    "start_time": "2022-12-16T22:45:49.996Z"
   },
   {
    "duration": 747,
    "start_time": "2022-12-16T22:46:31.212Z"
   },
   {
    "duration": 694,
    "start_time": "2022-12-16T22:46:48.825Z"
   },
   {
    "duration": 9,
    "start_time": "2022-12-16T22:48:12.192Z"
   },
   {
    "duration": 10,
    "start_time": "2022-12-16T22:49:12.819Z"
   },
   {
    "duration": 840,
    "start_time": "2022-12-16T22:49:19.889Z"
   },
   {
    "duration": 695,
    "start_time": "2022-12-16T22:49:26.420Z"
   },
   {
    "duration": 848,
    "start_time": "2022-12-16T22:49:33.077Z"
   },
   {
    "duration": 713,
    "start_time": "2022-12-16T22:49:51.724Z"
   },
   {
    "duration": 664,
    "start_time": "2022-12-16T22:50:04.093Z"
   },
   {
    "duration": 65,
    "start_time": "2022-12-16T22:52:30.941Z"
   },
   {
    "duration": 1691,
    "start_time": "2022-12-16T22:53:11.650Z"
   },
   {
    "duration": 407,
    "start_time": "2022-12-16T22:53:29.025Z"
   },
   {
    "duration": 53,
    "start_time": "2022-12-16T22:53:54.107Z"
   },
   {
    "duration": 1702,
    "start_time": "2022-12-16T22:53:59.330Z"
   },
   {
    "duration": 945,
    "start_time": "2022-12-16T22:54:14.942Z"
   },
   {
    "duration": 48,
    "start_time": "2022-12-16T22:54:55.493Z"
   },
   {
    "duration": 702,
    "start_time": "2022-12-16T22:55:19.522Z"
   },
   {
    "duration": 2524,
    "start_time": "2022-12-16T22:55:26.019Z"
   },
   {
    "duration": 289,
    "start_time": "2022-12-16T22:55:59.376Z"
   },
   {
    "duration": 409,
    "start_time": "2022-12-16T22:56:43.311Z"
   },
   {
    "duration": 939,
    "start_time": "2022-12-16T22:57:02.967Z"
   },
   {
    "duration": 2109,
    "start_time": "2022-12-16T22:57:23.016Z"
   },
   {
    "duration": 2341,
    "start_time": "2022-12-16T22:57:54.795Z"
   },
   {
    "duration": 2063,
    "start_time": "2022-12-16T22:58:08.780Z"
   },
   {
    "duration": 2085,
    "start_time": "2022-12-16T22:58:33.346Z"
   },
   {
    "duration": 2138,
    "start_time": "2022-12-16T22:58:42.660Z"
   },
   {
    "duration": 2099,
    "start_time": "2022-12-16T22:59:57.524Z"
   },
   {
    "duration": 2253,
    "start_time": "2022-12-16T23:01:40.081Z"
   },
   {
    "duration": 2135,
    "start_time": "2022-12-16T23:02:51.499Z"
   },
   {
    "duration": 1466,
    "start_time": "2022-12-16T23:03:16.787Z"
   },
   {
    "duration": 1382,
    "start_time": "2022-12-16T23:03:35.610Z"
   },
   {
    "duration": 1242,
    "start_time": "2022-12-16T23:03:49.639Z"
   },
   {
    "duration": 1468,
    "start_time": "2022-12-16T23:04:00.112Z"
   },
   {
    "duration": 1335,
    "start_time": "2022-12-16T23:04:12.448Z"
   },
   {
    "duration": 1348,
    "start_time": "2022-12-16T23:04:45.920Z"
   },
   {
    "duration": 1314,
    "start_time": "2022-12-16T23:05:17.534Z"
   },
   {
    "duration": 1268,
    "start_time": "2022-12-16T23:05:24.618Z"
   },
   {
    "duration": 1358,
    "start_time": "2022-12-16T23:05:39.253Z"
   },
   {
    "duration": 1605,
    "start_time": "2022-12-16T23:06:00.091Z"
   },
   {
    "duration": 1525,
    "start_time": "2022-12-16T23:06:09.921Z"
   },
   {
    "duration": 1307,
    "start_time": "2022-12-16T23:06:51.255Z"
   },
   {
    "duration": 1276,
    "start_time": "2022-12-16T23:07:08.925Z"
   },
   {
    "duration": 1305,
    "start_time": "2022-12-16T23:07:29.752Z"
   },
   {
    "duration": 1543,
    "start_time": "2022-12-16T23:08:30.565Z"
   },
   {
    "duration": 4,
    "start_time": "2022-12-16T23:14:53.887Z"
   },
   {
    "duration": 4402,
    "start_time": "2022-12-20T15:04:44.635Z"
   },
   {
    "duration": 2729,
    "start_time": "2022-12-20T15:04:49.038Z"
   },
   {
    "duration": 99,
    "start_time": "2022-12-20T15:04:51.769Z"
   },
   {
    "duration": 5,
    "start_time": "2022-12-20T15:04:51.870Z"
   },
   {
    "duration": 19,
    "start_time": "2022-12-20T15:04:51.876Z"
   },
   {
    "duration": 30,
    "start_time": "2022-12-20T15:04:51.896Z"
   },
   {
    "duration": 116,
    "start_time": "2022-12-20T15:04:51.928Z"
   },
   {
    "duration": 121,
    "start_time": "2022-12-20T15:04:52.046Z"
   },
   {
    "duration": 53,
    "start_time": "2022-12-20T15:04:52.169Z"
   },
   {
    "duration": 708,
    "start_time": "2022-12-20T15:04:52.224Z"
   },
   {
    "duration": 4466,
    "start_time": "2022-12-20T15:04:52.933Z"
   },
   {
    "duration": 4502,
    "start_time": "2022-12-20T15:04:57.400Z"
   },
   {
    "duration": 470,
    "start_time": "2022-12-20T15:05:01.904Z"
   },
   {
    "duration": 182,
    "start_time": "2022-12-20T15:05:02.375Z"
   },
   {
    "duration": 54176,
    "start_time": "2022-12-20T15:05:02.560Z"
   },
   {
    "duration": 42,
    "start_time": "2022-12-20T15:05:56.737Z"
   },
   {
    "duration": 53,
    "start_time": "2022-12-20T15:05:56.780Z"
   },
   {
    "duration": 537,
    "start_time": "2022-12-20T15:05:56.835Z"
   },
   {
    "duration": 123,
    "start_time": "2022-12-20T15:05:57.374Z"
   },
   {
    "duration": 246,
    "start_time": "2022-12-20T15:05:57.498Z"
   },
   {
    "duration": 76,
    "start_time": "2022-12-20T15:05:57.746Z"
   },
   {
    "duration": 2,
    "start_time": "2022-12-20T15:05:57.823Z"
   },
   {
    "duration": 20,
    "start_time": "2022-12-20T15:05:57.827Z"
   },
   {
    "duration": 60,
    "start_time": "2022-12-20T15:05:57.849Z"
   },
   {
    "duration": 5,
    "start_time": "2022-12-20T15:05:57.911Z"
   },
   {
    "duration": 1473,
    "start_time": "2022-12-20T15:05:57.917Z"
   },
   {
    "duration": 377,
    "start_time": "2022-12-20T15:07:17.416Z"
   },
   {
    "duration": 2237,
    "start_time": "2022-12-20T15:07:23.178Z"
   },
   {
    "duration": 115,
    "start_time": "2022-12-20T15:07:25.418Z"
   },
   {
    "duration": 0,
    "start_time": "2022-12-20T15:07:25.536Z"
   },
   {
    "duration": 0,
    "start_time": "2022-12-20T15:07:25.537Z"
   },
   {
    "duration": 0,
    "start_time": "2022-12-20T15:07:25.538Z"
   },
   {
    "duration": 52943,
    "start_time": "2022-12-20T15:08:09.801Z"
   },
   {
    "duration": 12607,
    "start_time": "2022-12-20T15:09:02.746Z"
   },
   {
    "duration": 21498,
    "start_time": "2022-12-20T15:09:15.355Z"
   },
   {
    "duration": 1930,
    "start_time": "2022-12-20T15:17:37.675Z"
   },
   {
    "duration": 138,
    "start_time": "2022-12-20T15:46:07.758Z"
   },
   {
    "duration": 10338,
    "start_time": "2022-12-20T15:46:18.292Z"
   },
   {
    "duration": 7964,
    "start_time": "2022-12-20T15:47:27.433Z"
   },
   {
    "duration": 30,
    "start_time": "2022-12-20T15:50:20.382Z"
   },
   {
    "duration": 20,
    "start_time": "2022-12-20T15:50:27.460Z"
   },
   {
    "duration": 18,
    "start_time": "2022-12-20T15:50:49.173Z"
   },
   {
    "duration": 445,
    "start_time": "2022-12-20T16:03:14.684Z"
   },
   {
    "duration": 4481,
    "start_time": "2022-12-20T16:03:59.233Z"
   },
   {
    "duration": 7347,
    "start_time": "2022-12-20T16:04:37.653Z"
   },
   {
    "duration": 9404,
    "start_time": "2022-12-20T16:12:44.200Z"
   },
   {
    "duration": 34,
    "start_time": "2022-12-20T16:13:34.718Z"
   },
   {
    "duration": 33,
    "start_time": "2022-12-20T16:13:50.580Z"
   },
   {
    "duration": 6577,
    "start_time": "2022-12-20T16:14:11.020Z"
   },
   {
    "duration": 8637,
    "start_time": "2022-12-20T16:14:37.269Z"
   },
   {
    "duration": 6875,
    "start_time": "2022-12-20T16:14:58.717Z"
   },
   {
    "duration": 6252,
    "start_time": "2022-12-20T16:15:14.375Z"
   },
   {
    "duration": 41,
    "start_time": "2022-12-20T16:15:51.040Z"
   },
   {
    "duration": 6625,
    "start_time": "2022-12-20T16:15:57.597Z"
   },
   {
    "duration": 7188,
    "start_time": "2022-12-20T16:23:02.537Z"
   },
   {
    "duration": 8597,
    "start_time": "2022-12-20T16:23:33.225Z"
   },
   {
    "duration": 6581,
    "start_time": "2022-12-20T16:26:58.142Z"
   },
   {
    "duration": 5,
    "start_time": "2022-12-20T16:28:15.535Z"
   },
   {
    "duration": 22144,
    "start_time": "2022-12-20T16:28:39.283Z"
   },
   {
    "duration": 11984,
    "start_time": "2022-12-20T16:29:23.437Z"
   },
   {
    "duration": 416,
    "start_time": "2022-12-20T16:38:17.700Z"
   },
   {
    "duration": 11860,
    "start_time": "2022-12-20T16:39:25.374Z"
   },
   {
    "duration": 5,
    "start_time": "2022-12-20T16:57:20.025Z"
   },
   {
    "duration": 6,
    "start_time": "2022-12-20T16:58:21.734Z"
   },
   {
    "duration": 4,
    "start_time": "2022-12-20T16:59:08.660Z"
   },
   {
    "duration": 5,
    "start_time": "2022-12-20T16:59:27.744Z"
   },
   {
    "duration": 6,
    "start_time": "2022-12-20T16:59:45.411Z"
   },
   {
    "duration": 97,
    "start_time": "2022-12-20T17:00:32.463Z"
   },
   {
    "duration": 101,
    "start_time": "2022-12-20T17:00:54.889Z"
   },
   {
    "duration": 92,
    "start_time": "2022-12-20T17:01:25.168Z"
   },
   {
    "duration": 75839,
    "start_time": "2022-12-20T17:19:03.718Z"
   },
   {
    "duration": 120603,
    "start_time": "2022-12-20T17:20:52.910Z"
   },
   {
    "duration": 4,
    "start_time": "2022-12-20T17:27:37.217Z"
   },
   {
    "duration": 135,
    "start_time": "2022-12-20T17:31:16.657Z"
   },
   {
    "duration": 4,
    "start_time": "2022-12-20T17:31:31.410Z"
   },
   {
    "duration": 4,
    "start_time": "2022-12-20T17:31:48.102Z"
   },
   {
    "duration": 5,
    "start_time": "2022-12-20T17:32:15.542Z"
   },
   {
    "duration": 1868444,
    "start_time": "2022-12-20T17:35:58.199Z"
   },
   {
    "duration": 3247,
    "start_time": "2022-12-20T18:28:03.074Z"
   },
   {
    "duration": 733,
    "start_time": "2022-12-20T18:28:06.323Z"
   },
   {
    "duration": 100,
    "start_time": "2022-12-20T18:28:07.058Z"
   },
   {
    "duration": 15,
    "start_time": "2022-12-20T18:28:07.160Z"
   },
   {
    "duration": 31,
    "start_time": "2022-12-20T18:28:07.176Z"
   },
   {
    "duration": 28,
    "start_time": "2022-12-20T18:28:07.208Z"
   },
   {
    "duration": 127,
    "start_time": "2022-12-20T18:28:07.238Z"
   },
   {
    "duration": 136,
    "start_time": "2022-12-20T18:28:07.366Z"
   },
   {
    "duration": 55,
    "start_time": "2022-12-20T18:28:07.503Z"
   },
   {
    "duration": 710,
    "start_time": "2022-12-20T18:28:07.561Z"
   },
   {
    "duration": 4506,
    "start_time": "2022-12-20T18:28:08.272Z"
   },
   {
    "duration": 4576,
    "start_time": "2022-12-20T18:28:12.780Z"
   },
   {
    "duration": 438,
    "start_time": "2022-12-20T18:28:17.358Z"
   },
   {
    "duration": 196,
    "start_time": "2022-12-20T18:28:17.797Z"
   },
   {
    "duration": 53429,
    "start_time": "2022-12-20T18:28:17.995Z"
   },
   {
    "duration": 45,
    "start_time": "2022-12-20T18:29:11.425Z"
   },
   {
    "duration": 70,
    "start_time": "2022-12-20T18:29:11.471Z"
   },
   {
    "duration": 548,
    "start_time": "2022-12-20T18:29:11.542Z"
   },
   {
    "duration": 135,
    "start_time": "2022-12-20T18:29:12.092Z"
   },
   {
    "duration": 281,
    "start_time": "2022-12-20T18:29:12.229Z"
   },
   {
    "duration": 75,
    "start_time": "2022-12-20T18:29:12.513Z"
   },
   {
    "duration": 3,
    "start_time": "2022-12-20T18:29:12.589Z"
   },
   {
    "duration": 29,
    "start_time": "2022-12-20T18:29:12.594Z"
   },
   {
    "duration": 56,
    "start_time": "2022-12-20T18:29:12.625Z"
   },
   {
    "duration": 5,
    "start_time": "2022-12-20T18:29:12.683Z"
   },
   {
    "duration": 1500,
    "start_time": "2022-12-20T18:29:12.689Z"
   },
   {
    "duration": 360,
    "start_time": "2022-12-20T18:29:14.191Z"
   },
   {
    "duration": 1894,
    "start_time": "2022-12-20T18:29:14.554Z"
   },
   {
    "duration": 54200,
    "start_time": "2022-12-20T18:29:16.450Z"
   },
   {
    "duration": 2639780,
    "start_time": "2022-12-20T18:30:10.651Z"
   },
   {
    "duration": 16,
    "start_time": "2022-12-20T19:14:10.435Z"
   },
   {
    "duration": 1265,
    "start_time": "2022-12-20T19:14:10.453Z"
   },
   {
    "duration": 3762175,
    "start_time": "2022-12-20T19:14:11.720Z"
   },
   {
    "duration": 143,
    "start_time": "2022-12-20T20:16:53.897Z"
   },
   {
    "duration": 89,
    "start_time": "2022-12-20T20:16:54.041Z"
   },
   {
    "duration": 54005,
    "start_time": "2022-12-20T20:16:54.131Z"
   },
   {
    "duration": 4813,
    "start_time": "2022-12-21T07:49:53.962Z"
   },
   {
    "duration": 1087,
    "start_time": "2022-12-21T07:49:58.778Z"
   },
   {
    "duration": 116,
    "start_time": "2022-12-21T07:49:59.867Z"
   },
   {
    "duration": 7,
    "start_time": "2022-12-21T07:49:59.985Z"
   },
   {
    "duration": 41,
    "start_time": "2022-12-21T07:49:59.994Z"
   },
   {
    "duration": 30,
    "start_time": "2022-12-21T07:50:00.037Z"
   },
   {
    "duration": 152,
    "start_time": "2022-12-21T07:50:00.069Z"
   },
   {
    "duration": 157,
    "start_time": "2022-12-21T07:50:00.223Z"
   },
   {
    "duration": 54,
    "start_time": "2022-12-21T07:50:00.382Z"
   },
   {
    "duration": 846,
    "start_time": "2022-12-21T07:50:00.440Z"
   },
   {
    "duration": 5259,
    "start_time": "2022-12-21T07:50:01.288Z"
   },
   {
    "duration": 5490,
    "start_time": "2022-12-21T07:50:06.549Z"
   },
   {
    "duration": 530,
    "start_time": "2022-12-21T07:50:12.042Z"
   },
   {
    "duration": 220,
    "start_time": "2022-12-21T07:50:12.574Z"
   },
   {
    "duration": 63819,
    "start_time": "2022-12-21T07:50:12.796Z"
   },
   {
    "duration": 71,
    "start_time": "2022-12-21T07:51:16.617Z"
   },
   {
    "duration": 63,
    "start_time": "2022-12-21T07:51:16.690Z"
   },
   {
    "duration": 665,
    "start_time": "2022-12-21T07:51:16.755Z"
   },
   {
    "duration": 189,
    "start_time": "2022-12-21T07:51:17.422Z"
   },
   {
    "duration": 397,
    "start_time": "2022-12-21T07:51:17.613Z"
   },
   {
    "duration": 97,
    "start_time": "2022-12-21T07:51:18.012Z"
   },
   {
    "duration": 4,
    "start_time": "2022-12-21T07:51:18.111Z"
   },
   {
    "duration": 23,
    "start_time": "2022-12-21T07:51:18.117Z"
   },
   {
    "duration": 92,
    "start_time": "2022-12-21T07:51:18.142Z"
   },
   {
    "duration": 8,
    "start_time": "2022-12-21T07:51:18.236Z"
   },
   {
    "duration": 2064,
    "start_time": "2022-12-21T07:51:18.247Z"
   },
   {
    "duration": 477,
    "start_time": "2022-12-21T07:51:20.313Z"
   },
   {
    "duration": 2193,
    "start_time": "2022-12-21T07:51:20.796Z"
   },
   {
    "duration": 70219,
    "start_time": "2022-12-21T07:51:22.991Z"
   },
   {
    "duration": 3171404,
    "start_time": "2022-12-21T07:52:33.212Z"
   },
   {
    "duration": 14,
    "start_time": "2022-12-21T08:45:24.618Z"
   },
   {
    "duration": 1473,
    "start_time": "2022-12-21T08:45:24.634Z"
   },
   {
    "duration": 375402,
    "start_time": "2022-12-21T08:45:26.108Z"
   },
   {
    "duration": 206288,
    "start_time": "2022-12-21T08:51:41.512Z"
   },
   {
    "duration": 181,
    "start_time": "2022-12-21T08:55:07.801Z"
   },
   {
    "duration": 62,
    "start_time": "2022-12-21T08:55:07.984Z"
   },
   {
    "duration": 97895,
    "start_time": "2022-12-21T08:55:08.048Z"
   },
   {
    "duration": 6905,
    "start_time": "2022-12-21T08:56:45.944Z"
   },
   {
    "duration": 32,
    "start_time": "2022-12-21T08:56:52.851Z"
   },
   {
    "duration": 15,
    "start_time": "2022-12-21T08:56:52.884Z"
   },
   {
    "duration": 1504,
    "start_time": "2022-12-21T08:58:45.124Z"
   },
   {
    "duration": 1456,
    "start_time": "2022-12-21T08:59:04.951Z"
   },
   {
    "duration": 1458,
    "start_time": "2022-12-21T08:59:20.085Z"
   },
   {
    "duration": 1920,
    "start_time": "2022-12-21T08:59:33.824Z"
   },
   {
    "duration": 1544,
    "start_time": "2022-12-21T09:00:18.852Z"
   },
   {
    "duration": 1652,
    "start_time": "2022-12-21T09:00:27.055Z"
   },
   {
    "duration": 1618,
    "start_time": "2022-12-21T09:01:17.614Z"
   },
   {
    "duration": 1804,
    "start_time": "2022-12-21T09:01:29.953Z"
   },
   {
    "duration": 1559,
    "start_time": "2022-12-21T09:03:10.482Z"
   },
   {
    "duration": 206147,
    "start_time": "2022-12-21T09:04:05.791Z"
   },
   {
    "duration": 4575997,
    "start_time": "2022-12-21T09:11:37.050Z"
   },
   {
    "duration": 8332,
    "start_time": "2022-12-21T10:27:53.048Z"
   },
   {
    "duration": 9014903,
    "start_time": "2022-12-21T10:28:01.382Z"
   },
   {
    "duration": 17,
    "start_time": "2022-12-21T12:58:16.286Z"
   },
   {
    "duration": 16,
    "start_time": "2022-12-21T13:11:28.285Z"
   },
   {
    "duration": 50,
    "start_time": "2022-12-21T13:12:00.386Z"
   },
   {
    "duration": 18,
    "start_time": "2022-12-21T13:12:34.178Z"
   },
   {
    "duration": 18,
    "start_time": "2022-12-21T13:14:23.353Z"
   },
   {
    "duration": 19,
    "start_time": "2022-12-21T13:14:50.009Z"
   },
   {
    "duration": 19,
    "start_time": "2022-12-21T13:15:06.949Z"
   },
   {
    "duration": 16,
    "start_time": "2022-12-21T13:18:55.914Z"
   },
   {
    "duration": 20,
    "start_time": "2022-12-21T13:20:09.685Z"
   },
   {
    "duration": 9,
    "start_time": "2022-12-21T13:21:56.190Z"
   },
   {
    "duration": 15,
    "start_time": "2022-12-21T13:22:14.241Z"
   },
   {
    "duration": 8,
    "start_time": "2022-12-21T13:22:36.856Z"
   },
   {
    "duration": 18,
    "start_time": "2022-12-21T13:23:45.175Z"
   },
   {
    "duration": 47,
    "start_time": "2022-12-21T13:24:27.016Z"
   },
   {
    "duration": 7,
    "start_time": "2022-12-21T13:24:33.756Z"
   },
   {
    "duration": 15,
    "start_time": "2022-12-21T13:25:41.894Z"
   },
   {
    "duration": 16,
    "start_time": "2022-12-21T13:25:48.883Z"
   },
   {
    "duration": 16,
    "start_time": "2022-12-21T13:25:54.242Z"
   },
   {
    "duration": 16,
    "start_time": "2022-12-21T13:26:05.181Z"
   },
   {
    "duration": 16,
    "start_time": "2022-12-21T13:26:17.136Z"
   },
   {
    "duration": 8,
    "start_time": "2022-12-21T13:27:17.483Z"
   },
   {
    "duration": 11,
    "start_time": "2022-12-21T13:28:46.848Z"
   },
   {
    "duration": 6,
    "start_time": "2022-12-21T13:29:09.088Z"
   },
   {
    "duration": 8,
    "start_time": "2022-12-21T13:29:27.227Z"
   },
   {
    "duration": 21,
    "start_time": "2022-12-21T13:29:35.546Z"
   },
   {
    "duration": 6,
    "start_time": "2022-12-21T13:29:42.443Z"
   },
   {
    "duration": 47,
    "start_time": "2022-12-21T13:29:56.585Z"
   },
   {
    "duration": 12,
    "start_time": "2022-12-21T13:30:05.579Z"
   },
   {
    "duration": 12,
    "start_time": "2022-12-21T13:30:12.321Z"
   },
   {
    "duration": 50,
    "start_time": "2022-12-21T13:36:34.808Z"
   },
   {
    "duration": 10,
    "start_time": "2022-12-21T13:36:45.626Z"
   },
   {
    "duration": 10,
    "start_time": "2022-12-21T13:37:04.122Z"
   },
   {
    "duration": 471,
    "start_time": "2022-12-21T14:24:04.691Z"
   },
   {
    "duration": 5331,
    "start_time": "2022-12-22T12:14:59.890Z"
   },
   {
    "duration": 2862,
    "start_time": "2022-12-22T12:15:05.223Z"
   },
   {
    "duration": 158,
    "start_time": "2022-12-22T12:15:08.087Z"
   },
   {
    "duration": 6,
    "start_time": "2022-12-22T12:15:08.247Z"
   },
   {
    "duration": 56,
    "start_time": "2022-12-22T12:15:08.256Z"
   },
   {
    "duration": 43,
    "start_time": "2022-12-22T12:15:08.314Z"
   },
   {
    "duration": 172,
    "start_time": "2022-12-22T12:15:08.358Z"
   },
   {
    "duration": 161,
    "start_time": "2022-12-22T12:15:08.531Z"
   },
   {
    "duration": 72,
    "start_time": "2022-12-22T12:15:08.694Z"
   },
   {
    "duration": 895,
    "start_time": "2022-12-22T12:15:08.768Z"
   },
   {
    "duration": 5206,
    "start_time": "2022-12-22T12:15:09.666Z"
   },
   {
    "duration": 5565,
    "start_time": "2022-12-22T12:15:14.874Z"
   },
   {
    "duration": 520,
    "start_time": "2022-12-22T12:15:20.441Z"
   },
   {
    "duration": 223,
    "start_time": "2022-12-22T12:15:20.964Z"
   },
   {
    "duration": 62780,
    "start_time": "2022-12-22T12:15:21.189Z"
   },
   {
    "duration": 103,
    "start_time": "2022-12-22T12:16:23.971Z"
   },
   {
    "duration": 607,
    "start_time": "2022-12-22T12:16:24.075Z"
   },
   {
    "duration": 150,
    "start_time": "2022-12-22T12:16:24.684Z"
   },
   {
    "duration": 296,
    "start_time": "2022-12-22T12:16:24.837Z"
   },
   {
    "duration": 87,
    "start_time": "2022-12-22T12:16:25.136Z"
   },
   {
    "duration": 3,
    "start_time": "2022-12-22T12:16:25.225Z"
   },
   {
    "duration": 33,
    "start_time": "2022-12-22T12:16:25.230Z"
   },
   {
    "duration": 59,
    "start_time": "2022-12-22T12:16:25.265Z"
   },
   {
    "duration": 5,
    "start_time": "2022-12-22T12:16:25.326Z"
   },
   {
    "duration": 1794,
    "start_time": "2022-12-22T12:16:25.351Z"
   },
   {
    "duration": 432,
    "start_time": "2022-12-22T12:16:27.147Z"
   },
   {
    "duration": 1973,
    "start_time": "2022-12-22T12:16:27.582Z"
   },
   {
    "duration": 66724,
    "start_time": "2022-12-22T12:16:29.557Z"
   },
   {
    "duration": 206,
    "start_time": "2022-12-22T12:17:36.283Z"
   },
   {
    "duration": 11,
    "start_time": "2022-12-22T12:17:36.491Z"
   },
   {
    "duration": 0,
    "start_time": "2022-12-22T12:17:36.504Z"
   },
   {
    "duration": 0,
    "start_time": "2022-12-22T12:17:36.505Z"
   },
   {
    "duration": 0,
    "start_time": "2022-12-22T12:17:36.506Z"
   },
   {
    "duration": 0,
    "start_time": "2022-12-22T12:17:36.507Z"
   },
   {
    "duration": 0,
    "start_time": "2022-12-22T12:17:36.509Z"
   },
   {
    "duration": 0,
    "start_time": "2022-12-22T12:17:36.509Z"
   },
   {
    "duration": 0,
    "start_time": "2022-12-22T12:17:36.511Z"
   },
   {
    "duration": 0,
    "start_time": "2022-12-22T12:17:36.512Z"
   },
   {
    "duration": 59,
    "start_time": "2022-12-23T13:10:06.096Z"
   },
   {
    "duration": 8656,
    "start_time": "2022-12-23T13:10:20.599Z"
   },
   {
    "duration": 1075,
    "start_time": "2022-12-23T13:10:29.257Z"
   },
   {
    "duration": 122,
    "start_time": "2022-12-23T13:10:30.334Z"
   },
   {
    "duration": 7,
    "start_time": "2022-12-23T13:10:30.458Z"
   },
   {
    "duration": 107,
    "start_time": "2022-12-23T13:10:30.467Z"
   },
   {
    "duration": 125,
    "start_time": "2022-12-23T13:10:30.576Z"
   },
   {
    "duration": 125,
    "start_time": "2022-12-23T13:10:33.130Z"
   },
   {
    "duration": 169,
    "start_time": "2022-12-23T13:10:34.898Z"
   },
   {
    "duration": 58,
    "start_time": "2022-12-23T13:26:52.387Z"
   },
   {
    "duration": 877,
    "start_time": "2022-12-23T13:26:55.124Z"
   },
   {
    "duration": 5152,
    "start_time": "2022-12-23T13:26:57.009Z"
   },
   {
    "duration": 5494,
    "start_time": "2022-12-23T13:27:02.163Z"
   },
   {
    "duration": 5840,
    "start_time": "2022-12-23T13:28:05.188Z"
   },
   {
    "duration": 5695,
    "start_time": "2022-12-23T13:30:35.326Z"
   },
   {
    "duration": 538,
    "start_time": "2022-12-23T13:33:28.651Z"
   },
   {
    "duration": 738,
    "start_time": "2022-12-23T13:33:35.047Z"
   },
   {
    "duration": 2395,
    "start_time": "2022-12-23T13:34:11.197Z"
   },
   {
    "duration": 660,
    "start_time": "2022-12-23T13:34:34.455Z"
   },
   {
    "duration": 221,
    "start_time": "2022-12-23T13:46:48.205Z"
   },
   {
    "duration": 159,
    "start_time": "2022-12-23T13:58:59.250Z"
   },
   {
    "duration": 139,
    "start_time": "2022-12-23T13:59:26.911Z"
   },
   {
    "duration": 162,
    "start_time": "2022-12-23T14:01:26.653Z"
   },
   {
    "duration": 160,
    "start_time": "2022-12-23T14:02:06.618Z"
   },
   {
    "duration": 157,
    "start_time": "2022-12-23T14:02:24.153Z"
   },
   {
    "duration": 169,
    "start_time": "2022-12-23T14:02:41.754Z"
   },
   {
    "duration": 207,
    "start_time": "2022-12-23T14:06:43.083Z"
   },
   {
    "duration": 189,
    "start_time": "2022-12-23T14:07:37.082Z"
   },
   {
    "duration": 156,
    "start_time": "2022-12-23T14:16:11.654Z"
   },
   {
    "duration": 728,
    "start_time": "2022-12-23T14:21:41.646Z"
   },
   {
    "duration": 25,
    "start_time": "2022-12-23T14:22:32.975Z"
   },
   {
    "duration": 3041,
    "start_time": "2022-12-23T14:26:37.524Z"
   },
   {
    "duration": 23,
    "start_time": "2022-12-23T14:26:43.039Z"
   },
   {
    "duration": 2964,
    "start_time": "2022-12-23T14:27:23.103Z"
   },
   {
    "duration": 21,
    "start_time": "2022-12-23T14:27:29.756Z"
   },
   {
    "duration": 102,
    "start_time": "2022-12-23T14:33:24.018Z"
   },
   {
    "duration": 45,
    "start_time": "2022-12-23T15:01:03.213Z"
   },
   {
    "duration": 2908,
    "start_time": "2022-12-23T15:01:26.315Z"
   },
   {
    "duration": 4,
    "start_time": "2022-12-23T15:01:56.937Z"
   },
   {
    "duration": 4,
    "start_time": "2022-12-23T15:02:49.834Z"
   },
   {
    "duration": 6,
    "start_time": "2022-12-23T15:03:07.618Z"
   },
   {
    "duration": 6,
    "start_time": "2022-12-23T15:05:32.477Z"
   },
   {
    "duration": 22,
    "start_time": "2022-12-23T15:05:55.379Z"
   },
   {
    "duration": 4955,
    "start_time": "2022-12-23T15:14:35.144Z"
   },
   {
    "duration": 3127,
    "start_time": "2022-12-23T15:14:40.103Z"
   },
   {
    "duration": 115,
    "start_time": "2022-12-23T15:14:43.232Z"
   },
   {
    "duration": 6,
    "start_time": "2022-12-23T15:14:43.349Z"
   },
   {
    "duration": 35,
    "start_time": "2022-12-23T15:14:43.357Z"
   },
   {
    "duration": 29,
    "start_time": "2022-12-23T15:14:43.395Z"
   },
   {
    "duration": 118,
    "start_time": "2022-12-23T15:14:43.426Z"
   },
   {
    "duration": 161,
    "start_time": "2022-12-23T15:14:44.547Z"
   },
   {
    "duration": 62,
    "start_time": "2022-12-23T15:14:46.766Z"
   },
   {
    "duration": 49,
    "start_time": "2022-12-23T15:14:55.418Z"
   },
   {
    "duration": 962,
    "start_time": "2022-12-23T15:14:59.250Z"
   },
   {
    "duration": 4884,
    "start_time": "2022-12-23T15:15:07.103Z"
   },
   {
    "duration": 5357,
    "start_time": "2022-12-23T15:15:18.060Z"
   },
   {
    "duration": 574,
    "start_time": "2022-12-23T15:15:23.420Z"
   },
   {
    "duration": 882,
    "start_time": "2022-12-23T15:18:32.413Z"
   },
   {
    "duration": 95,
    "start_time": "2022-12-23T15:23:29.001Z"
   },
   {
    "duration": 195,
    "start_time": "2022-12-23T15:24:20.420Z"
   },
   {
    "duration": 22,
    "start_time": "2022-12-23T15:24:42.221Z"
   },
   {
    "duration": 5,
    "start_time": "2022-12-23T15:26:07.634Z"
   },
   {
    "duration": 7,
    "start_time": "2022-12-23T15:26:23.922Z"
   },
   {
    "duration": 6,
    "start_time": "2022-12-23T15:26:33.363Z"
   },
   {
    "duration": 6,
    "start_time": "2022-12-23T15:26:58.199Z"
   },
   {
    "duration": 7,
    "start_time": "2022-12-23T15:34:04.645Z"
   },
   {
    "duration": 176,
    "start_time": "2022-12-23T15:34:27.484Z"
   },
   {
    "duration": 18,
    "start_time": "2022-12-23T15:34:49.726Z"
   },
   {
    "duration": 3083,
    "start_time": "2022-12-23T15:45:41.029Z"
   },
   {
    "duration": 25,
    "start_time": "2022-12-23T15:45:56.258Z"
   },
   {
    "duration": 16,
    "start_time": "2022-12-23T15:48:13.509Z"
   },
   {
    "duration": 11,
    "start_time": "2022-12-23T15:48:22.207Z"
   },
   {
    "duration": 11,
    "start_time": "2022-12-23T15:48:35.149Z"
   },
   {
    "duration": 10,
    "start_time": "2022-12-23T15:49:26.861Z"
   },
   {
    "duration": 17,
    "start_time": "2022-12-23T15:52:17.060Z"
   },
   {
    "duration": 3598,
    "start_time": "2022-12-23T15:52:46.451Z"
   },
   {
    "duration": 16,
    "start_time": "2022-12-23T15:52:55.349Z"
   },
   {
    "duration": 14,
    "start_time": "2022-12-23T15:53:10.317Z"
   },
   {
    "duration": 4,
    "start_time": "2022-12-23T16:01:32.014Z"
   },
   {
    "duration": 14,
    "start_time": "2022-12-23T16:01:52.827Z"
   },
   {
    "duration": 12,
    "start_time": "2022-12-23T16:36:23.830Z"
   },
   {
    "duration": 11,
    "start_time": "2022-12-23T16:41:08.042Z"
   },
   {
    "duration": 4,
    "start_time": "2022-12-23T16:41:31.025Z"
   },
   {
    "duration": 2260,
    "start_time": "2022-12-23T16:41:50.367Z"
   },
   {
    "duration": 910,
    "start_time": "2022-12-23T16:41:52.865Z"
   },
   {
    "duration": 143,
    "start_time": "2022-12-23T16:41:56.117Z"
   },
   {
    "duration": 6,
    "start_time": "2022-12-23T16:41:57.914Z"
   },
   {
    "duration": 16,
    "start_time": "2022-12-23T16:41:59.622Z"
   },
   {
    "duration": 24,
    "start_time": "2022-12-23T16:42:01.324Z"
   },
   {
    "duration": 92,
    "start_time": "2022-12-23T16:42:03.517Z"
   },
   {
    "duration": 186,
    "start_time": "2022-12-23T16:42:04.982Z"
   },
   {
    "duration": 53,
    "start_time": "2022-12-23T16:42:06.510Z"
   },
   {
    "duration": 831,
    "start_time": "2022-12-23T16:42:08.016Z"
   },
   {
    "duration": 6154,
    "start_time": "2022-12-23T16:42:09.406Z"
   },
   {
    "duration": 6234,
    "start_time": "2022-12-23T16:42:15.563Z"
   },
   {
    "duration": 466,
    "start_time": "2022-12-23T16:42:21.806Z"
   },
   {
    "duration": 89,
    "start_time": "2022-12-23T16:42:22.275Z"
   },
   {
    "duration": 175,
    "start_time": "2022-12-23T16:42:22.366Z"
   },
   {
    "duration": 22,
    "start_time": "2022-12-23T16:42:24.555Z"
   },
   {
    "duration": 15,
    "start_time": "2022-12-23T16:42:30.340Z"
   },
   {
    "duration": 23050,
    "start_time": "2022-12-23T16:43:08.043Z"
   },
   {
    "duration": 27,
    "start_time": "2022-12-23T16:43:46.635Z"
   },
   {
    "duration": 59,
    "start_time": "2022-12-23T16:46:04.413Z"
   },
   {
    "duration": 12,
    "start_time": "2022-12-23T16:49:34.215Z"
   },
   {
    "duration": 12,
    "start_time": "2022-12-23T16:49:44.626Z"
   },
   {
    "duration": 5,
    "start_time": "2022-12-23T16:50:03.012Z"
   },
   {
    "duration": 24,
    "start_time": "2022-12-23T16:50:14.162Z"
   },
   {
    "duration": 98,
    "start_time": "2022-12-23T16:51:48.429Z"
   },
   {
    "duration": 16,
    "start_time": "2022-12-23T16:51:56.875Z"
   },
   {
    "duration": 19,
    "start_time": "2022-12-23T16:51:58.115Z"
   },
   {
    "duration": 23,
    "start_time": "2022-12-23T16:52:35.411Z"
   },
   {
    "duration": 92,
    "start_time": "2022-12-23T16:52:36.941Z"
   },
   {
    "duration": 5,
    "start_time": "2022-12-23T16:52:38.056Z"
   },
   {
    "duration": 18,
    "start_time": "2022-12-23T16:52:39.111Z"
   },
   {
    "duration": 245,
    "start_time": "2022-12-23T16:59:00.441Z"
   },
   {
    "duration": 87,
    "start_time": "2022-12-23T17:02:49.673Z"
   },
   {
    "duration": 59424,
    "start_time": "2022-12-23T17:03:36.809Z"
   },
   {
    "duration": 170,
    "start_time": "2022-12-23T17:19:44.640Z"
   },
   {
    "duration": 598,
    "start_time": "2022-12-23T17:22:12.222Z"
   },
   {
    "duration": 212,
    "start_time": "2022-12-23T17:22:16.568Z"
   },
   {
    "duration": 369,
    "start_time": "2022-12-23T17:22:18.809Z"
   },
   {
    "duration": 111,
    "start_time": "2022-12-23T17:22:28.541Z"
   },
   {
    "duration": 22,
    "start_time": "2022-12-23T17:24:35.945Z"
   },
   {
    "duration": 99,
    "start_time": "2022-12-23T17:24:58.859Z"
   },
   {
    "duration": 341,
    "start_time": "2022-12-23T17:25:59.253Z"
   },
   {
    "duration": 63,
    "start_time": "2022-12-23T17:26:12.110Z"
   },
   {
    "duration": 6,
    "start_time": "2022-12-23T17:26:44.771Z"
   },
   {
    "duration": 77,
    "start_time": "2022-12-23T17:26:52.656Z"
   },
   {
    "duration": 37,
    "start_time": "2022-12-23T17:27:53.710Z"
   },
   {
    "duration": 59,
    "start_time": "2022-12-23T17:28:30.451Z"
   },
   {
    "duration": 56,
    "start_time": "2022-12-23T17:28:31.713Z"
   },
   {
    "duration": 7,
    "start_time": "2022-12-23T17:28:33.406Z"
   },
   {
    "duration": 38,
    "start_time": "2022-12-23T17:28:40.408Z"
   },
   {
    "duration": 3,
    "start_time": "2022-12-23T17:28:48.998Z"
   },
   {
    "duration": 3,
    "start_time": "2022-12-23T17:29:36.153Z"
   },
   {
    "duration": 1860,
    "start_time": "2022-12-23T17:29:43.169Z"
   },
   {
    "duration": 126,
    "start_time": "2022-12-23T17:32:42.567Z"
   },
   {
    "duration": 2076,
    "start_time": "2022-12-23T18:14:50.013Z"
   },
   {
    "duration": 2342,
    "start_time": "2022-12-23T18:20:32.618Z"
   },
   {
    "duration": 28,
    "start_time": "2022-12-23T18:22:22.238Z"
   },
   {
    "duration": 43,
    "start_time": "2022-12-23T18:23:53.671Z"
   },
   {
    "duration": 206,
    "start_time": "2022-12-23T18:25:14.661Z"
   },
   {
    "duration": 218,
    "start_time": "2022-12-23T18:25:24.514Z"
   },
   {
    "duration": 719,
    "start_time": "2022-12-23T18:25:44.646Z"
   },
   {
    "duration": 715,
    "start_time": "2022-12-23T18:26:21.800Z"
   },
   {
    "duration": 816,
    "start_time": "2022-12-23T18:28:12.125Z"
   },
   {
    "duration": 703,
    "start_time": "2022-12-23T18:28:39.514Z"
   },
   {
    "duration": 27,
    "start_time": "2022-12-23T18:31:44.232Z"
   },
   {
    "duration": 654,
    "start_time": "2022-12-23T18:35:37.939Z"
   },
   {
    "duration": 39,
    "start_time": "2022-12-23T18:35:45.230Z"
   },
   {
    "duration": 180,
    "start_time": "2022-12-23T18:43:25.249Z"
   },
   {
    "duration": 1013,
    "start_time": "2022-12-23T18:47:27.733Z"
   },
   {
    "duration": 124358,
    "start_time": "2022-12-23T18:54:11.102Z"
   },
   {
    "duration": 79366,
    "start_time": "2022-12-23T18:56:27.719Z"
   },
   {
    "duration": 12,
    "start_time": "2022-12-23T18:58:51.105Z"
   },
   {
    "duration": 136,
    "start_time": "2022-12-23T18:59:00.211Z"
   },
   {
    "duration": 16,
    "start_time": "2022-12-23T19:08:27.274Z"
   },
   {
    "duration": 4163,
    "start_time": "2022-12-23T19:17:31.606Z"
   },
   {
    "duration": 3475,
    "start_time": "2022-12-23T19:17:35.773Z"
   },
   {
    "duration": 116,
    "start_time": "2022-12-23T19:17:39.251Z"
   },
   {
    "duration": 13,
    "start_time": "2022-12-23T19:17:39.369Z"
   },
   {
    "duration": 46,
    "start_time": "2022-12-23T19:17:39.384Z"
   },
   {
    "duration": 24,
    "start_time": "2022-12-23T19:17:39.432Z"
   },
   {
    "duration": 139,
    "start_time": "2022-12-23T19:17:39.458Z"
   },
   {
    "duration": 161,
    "start_time": "2022-12-23T19:17:39.603Z"
   },
   {
    "duration": 66,
    "start_time": "2022-12-23T19:17:39.765Z"
   },
   {
    "duration": 811,
    "start_time": "2022-12-23T19:17:39.834Z"
   },
   {
    "duration": 5262,
    "start_time": "2022-12-23T19:17:40.647Z"
   },
   {
    "duration": 5827,
    "start_time": "2022-12-23T19:17:45.913Z"
   },
   {
    "duration": 519,
    "start_time": "2022-12-23T19:17:51.742Z"
   },
   {
    "duration": 85,
    "start_time": "2022-12-23T19:17:52.263Z"
   },
   {
    "duration": 352,
    "start_time": "2022-12-23T19:17:52.350Z"
   },
   {
    "duration": 56941,
    "start_time": "2022-12-23T19:17:52.703Z"
   },
   {
    "duration": 152,
    "start_time": "2022-12-23T19:18:49.646Z"
   },
   {
    "duration": 653,
    "start_time": "2022-12-23T19:18:49.806Z"
   },
   {
    "duration": 178,
    "start_time": "2022-12-23T19:18:50.461Z"
   },
   {
    "duration": 321,
    "start_time": "2022-12-23T19:18:50.640Z"
   },
   {
    "duration": 102,
    "start_time": "2022-12-23T19:18:50.962Z"
   },
   {
    "duration": 3,
    "start_time": "2022-12-23T19:18:51.065Z"
   },
   {
    "duration": 67,
    "start_time": "2022-12-23T19:18:51.069Z"
   },
   {
    "duration": 14,
    "start_time": "2022-12-23T19:18:51.137Z"
   },
   {
    "duration": 81,
    "start_time": "2022-12-23T19:18:51.152Z"
   },
   {
    "duration": 6,
    "start_time": "2022-12-23T19:18:51.235Z"
   },
   {
    "duration": 1963,
    "start_time": "2022-12-23T19:18:51.243Z"
   },
   {
    "duration": 110,
    "start_time": "2022-12-23T19:18:53.211Z"
   },
   {
    "duration": 133,
    "start_time": "2022-12-23T19:18:53.323Z"
   },
   {
    "duration": 0,
    "start_time": "2022-12-23T19:18:53.457Z"
   },
   {
    "duration": 0,
    "start_time": "2022-12-23T19:18:53.459Z"
   },
   {
    "duration": 0,
    "start_time": "2022-12-23T19:18:53.460Z"
   },
   {
    "duration": 0,
    "start_time": "2022-12-23T19:18:53.461Z"
   },
   {
    "duration": 0,
    "start_time": "2022-12-23T19:18:53.462Z"
   },
   {
    "duration": 0,
    "start_time": "2022-12-23T19:18:53.478Z"
   },
   {
    "duration": 0,
    "start_time": "2022-12-23T19:18:53.478Z"
   },
   {
    "duration": 0,
    "start_time": "2022-12-23T19:18:53.484Z"
   },
   {
    "duration": 0,
    "start_time": "2022-12-23T19:18:53.485Z"
   },
   {
    "duration": 0,
    "start_time": "2022-12-23T19:18:53.486Z"
   },
   {
    "duration": 0,
    "start_time": "2022-12-23T19:18:53.486Z"
   },
   {
    "duration": 0,
    "start_time": "2022-12-23T19:18:53.487Z"
   },
   {
    "duration": 0,
    "start_time": "2022-12-23T19:18:53.487Z"
   },
   {
    "duration": 0,
    "start_time": "2022-12-23T19:18:53.488Z"
   },
   {
    "duration": 0,
    "start_time": "2022-12-23T19:18:53.490Z"
   },
   {
    "duration": 0,
    "start_time": "2022-12-23T19:18:53.491Z"
   },
   {
    "duration": 0,
    "start_time": "2022-12-23T19:18:53.491Z"
   },
   {
    "duration": 0,
    "start_time": "2022-12-23T19:18:53.492Z"
   },
   {
    "duration": 0,
    "start_time": "2022-12-23T19:18:53.492Z"
   },
   {
    "duration": 0,
    "start_time": "2022-12-23T19:18:53.493Z"
   },
   {
    "duration": 0,
    "start_time": "2022-12-23T19:18:53.493Z"
   },
   {
    "duration": 0,
    "start_time": "2022-12-23T19:18:53.494Z"
   },
   {
    "duration": 0,
    "start_time": "2022-12-23T19:18:53.495Z"
   },
   {
    "duration": 0,
    "start_time": "2022-12-23T19:18:53.495Z"
   },
   {
    "duration": 0,
    "start_time": "2022-12-23T19:18:53.498Z"
   },
   {
    "duration": 0,
    "start_time": "2022-12-23T19:18:53.498Z"
   },
   {
    "duration": 0,
    "start_time": "2022-12-23T19:18:53.499Z"
   },
   {
    "duration": 0,
    "start_time": "2022-12-23T19:18:53.499Z"
   },
   {
    "duration": 1067,
    "start_time": "2022-12-23T19:20:48.873Z"
   },
   {
    "duration": 118,
    "start_time": "2022-12-23T19:20:59.109Z"
   },
   {
    "duration": 145,
    "start_time": "2022-12-23T19:21:34.713Z"
   },
   {
    "duration": 6,
    "start_time": "2022-12-23T19:22:24.423Z"
   },
   {
    "duration": 33,
    "start_time": "2022-12-23T19:22:35.872Z"
   },
   {
    "duration": 868,
    "start_time": "2022-12-23T19:23:06.047Z"
   },
   {
    "duration": 149613,
    "start_time": "2022-12-23T19:23:22.673Z"
   },
   {
    "duration": 73439,
    "start_time": "2022-12-23T19:25:52.288Z"
   },
   {
    "duration": 5,
    "start_time": "2022-12-23T19:27:05.728Z"
   },
   {
    "duration": 0,
    "start_time": "2022-12-23T19:27:05.736Z"
   },
   {
    "duration": 0,
    "start_time": "2022-12-23T19:27:05.741Z"
   },
   {
    "duration": 0,
    "start_time": "2022-12-23T19:27:05.742Z"
   },
   {
    "duration": 0,
    "start_time": "2022-12-23T19:27:05.744Z"
   },
   {
    "duration": 0,
    "start_time": "2022-12-23T19:27:05.746Z"
   },
   {
    "duration": 0,
    "start_time": "2022-12-23T19:27:05.747Z"
   },
   {
    "duration": 0,
    "start_time": "2022-12-23T19:27:05.748Z"
   },
   {
    "duration": 0,
    "start_time": "2022-12-23T19:27:05.780Z"
   },
   {
    "duration": 0,
    "start_time": "2022-12-23T19:27:05.781Z"
   },
   {
    "duration": 0,
    "start_time": "2022-12-23T19:27:05.782Z"
   },
   {
    "duration": 0,
    "start_time": "2022-12-23T19:27:05.782Z"
   },
   {
    "duration": 0,
    "start_time": "2022-12-23T19:27:05.783Z"
   },
   {
    "duration": 0,
    "start_time": "2022-12-23T19:27:05.784Z"
   },
   {
    "duration": 0,
    "start_time": "2022-12-23T19:27:05.785Z"
   },
   {
    "duration": 0,
    "start_time": "2022-12-23T19:27:05.785Z"
   },
   {
    "duration": 0,
    "start_time": "2022-12-23T19:27:05.786Z"
   },
   {
    "duration": 0,
    "start_time": "2022-12-23T19:27:05.787Z"
   },
   {
    "duration": 0,
    "start_time": "2022-12-23T19:27:05.791Z"
   },
   {
    "duration": 0,
    "start_time": "2022-12-23T19:27:05.792Z"
   },
   {
    "duration": 0,
    "start_time": "2022-12-23T19:27:05.793Z"
   },
   {
    "duration": 0,
    "start_time": "2022-12-23T19:27:05.795Z"
   },
   {
    "duration": 0,
    "start_time": "2022-12-23T19:27:05.796Z"
   },
   {
    "duration": 0,
    "start_time": "2022-12-23T19:27:05.798Z"
   },
   {
    "duration": 0,
    "start_time": "2022-12-23T19:27:05.799Z"
   },
   {
    "duration": 0,
    "start_time": "2022-12-23T19:27:05.800Z"
   },
   {
    "duration": 5,
    "start_time": "2022-12-23T19:29:54.970Z"
   },
   {
    "duration": 369,
    "start_time": "2022-12-23T19:30:27.839Z"
   },
   {
    "duration": 209377,
    "start_time": "2022-12-23T19:30:38.849Z"
   },
   {
    "duration": 132,
    "start_time": "2022-12-23T19:34:08.229Z"
   },
   {
    "duration": 142,
    "start_time": "2022-12-23T19:34:08.362Z"
   },
   {
    "duration": 5,
    "start_time": "2022-12-23T19:34:08.507Z"
   },
   {
    "duration": 264756,
    "start_time": "2022-12-23T19:34:08.513Z"
   },
   {
    "duration": 105,
    "start_time": "2022-12-23T19:38:33.271Z"
   },
   {
    "duration": 17,
    "start_time": "2022-12-23T19:38:33.378Z"
   },
   {
    "duration": 0,
    "start_time": "2022-12-23T19:38:33.406Z"
   },
   {
    "duration": 0,
    "start_time": "2022-12-23T19:38:33.408Z"
   },
   {
    "duration": 0,
    "start_time": "2022-12-23T19:38:33.409Z"
   },
   {
    "duration": 0,
    "start_time": "2022-12-23T19:38:33.410Z"
   },
   {
    "duration": 0,
    "start_time": "2022-12-23T19:38:33.411Z"
   },
   {
    "duration": 0,
    "start_time": "2022-12-23T19:38:33.413Z"
   },
   {
    "duration": 0,
    "start_time": "2022-12-23T19:38:33.416Z"
   },
   {
    "duration": 0,
    "start_time": "2022-12-23T19:38:33.419Z"
   },
   {
    "duration": 0,
    "start_time": "2022-12-23T19:38:33.420Z"
   },
   {
    "duration": 0,
    "start_time": "2022-12-23T19:38:33.422Z"
   },
   {
    "duration": 0,
    "start_time": "2022-12-23T19:38:33.423Z"
   },
   {
    "duration": 0,
    "start_time": "2022-12-23T19:38:33.424Z"
   },
   {
    "duration": 0,
    "start_time": "2022-12-23T19:38:33.425Z"
   },
   {
    "duration": 0,
    "start_time": "2022-12-23T19:38:33.427Z"
   },
   {
    "duration": 0,
    "start_time": "2022-12-23T19:38:33.428Z"
   },
   {
    "duration": 0,
    "start_time": "2022-12-23T19:38:33.430Z"
   },
   {
    "duration": 0,
    "start_time": "2022-12-23T19:38:33.432Z"
   },
   {
    "duration": 0,
    "start_time": "2022-12-23T19:38:33.435Z"
   },
   {
    "duration": 0,
    "start_time": "2022-12-23T19:38:33.439Z"
   },
   {
    "duration": 0,
    "start_time": "2022-12-23T19:38:33.440Z"
   },
   {
    "duration": 0,
    "start_time": "2022-12-23T19:38:33.442Z"
   },
   {
    "duration": 127582,
    "start_time": "2022-12-23T19:39:03.469Z"
   },
   {
    "duration": 116,
    "start_time": "2022-12-23T19:41:11.053Z"
   },
   {
    "duration": 97,
    "start_time": "2022-12-23T19:41:11.171Z"
   },
   {
    "duration": 5,
    "start_time": "2022-12-23T19:41:11.270Z"
   },
   {
    "duration": 2886783,
    "start_time": "2022-12-23T19:41:11.276Z"
   },
   {
    "duration": 4441,
    "start_time": "2022-12-23T20:29:18.061Z"
   },
   {
    "duration": 24,
    "start_time": "2022-12-23T20:29:22.504Z"
   },
   {
    "duration": 0,
    "start_time": "2022-12-23T20:29:22.531Z"
   },
   {
    "duration": 0,
    "start_time": "2022-12-23T20:29:22.532Z"
   },
   {
    "duration": 0,
    "start_time": "2022-12-23T20:29:22.534Z"
   },
   {
    "duration": 0,
    "start_time": "2022-12-23T20:29:22.535Z"
   },
   {
    "duration": 0,
    "start_time": "2022-12-23T20:29:22.536Z"
   },
   {
    "duration": 0,
    "start_time": "2022-12-23T20:29:22.537Z"
   },
   {
    "duration": 0,
    "start_time": "2022-12-23T20:29:22.538Z"
   },
   {
    "duration": 0,
    "start_time": "2022-12-23T20:29:22.540Z"
   },
   {
    "duration": 0,
    "start_time": "2022-12-23T20:29:22.542Z"
   },
   {
    "duration": 0,
    "start_time": "2022-12-23T20:29:22.546Z"
   },
   {
    "duration": 0,
    "start_time": "2022-12-23T20:29:22.577Z"
   },
   {
    "duration": 0,
    "start_time": "2022-12-23T20:29:22.578Z"
   },
   {
    "duration": 0,
    "start_time": "2022-12-23T20:29:22.579Z"
   },
   {
    "duration": 0,
    "start_time": "2022-12-23T20:29:22.580Z"
   },
   {
    "duration": 0,
    "start_time": "2022-12-23T20:29:22.582Z"
   },
   {
    "duration": 0,
    "start_time": "2022-12-23T20:29:22.584Z"
   },
   {
    "duration": 0,
    "start_time": "2022-12-23T20:29:22.585Z"
   },
   {
    "duration": 68637,
    "start_time": "2022-12-23T20:32:30.526Z"
   },
   {
    "duration": 11343,
    "start_time": "2022-12-23T20:33:39.166Z"
   },
   {
    "duration": 24,
    "start_time": "2022-12-23T20:34:24.329Z"
   },
   {
    "duration": 20,
    "start_time": "2022-12-23T20:35:46.754Z"
   },
   {
    "duration": 2192,
    "start_time": "2022-12-23T20:36:07.624Z"
   },
   {
    "duration": 6,
    "start_time": "2022-12-23T20:36:09.818Z"
   },
   {
    "duration": 233442,
    "start_time": "2022-12-23T20:36:10.023Z"
   },
   {
    "duration": 4,
    "start_time": "2022-12-23T20:40:03.467Z"
   },
   {
    "duration": 0,
    "start_time": "2022-12-23T20:40:03.473Z"
   },
   {
    "duration": 0,
    "start_time": "2022-12-23T20:40:03.474Z"
   },
   {
    "duration": 0,
    "start_time": "2022-12-23T20:40:03.476Z"
   },
   {
    "duration": 0,
    "start_time": "2022-12-23T20:40:03.477Z"
   },
   {
    "duration": 0,
    "start_time": "2022-12-23T20:40:03.478Z"
   },
   {
    "duration": 0,
    "start_time": "2022-12-23T20:40:03.479Z"
   },
   {
    "duration": 0,
    "start_time": "2022-12-23T20:40:03.479Z"
   },
   {
    "duration": 0,
    "start_time": "2022-12-23T20:40:03.480Z"
   },
   {
    "duration": 0,
    "start_time": "2022-12-23T20:40:03.482Z"
   },
   {
    "duration": 0,
    "start_time": "2022-12-23T20:40:03.483Z"
   },
   {
    "duration": 0,
    "start_time": "2022-12-23T20:40:03.483Z"
   },
   {
    "duration": 0,
    "start_time": "2022-12-23T20:40:03.484Z"
   },
   {
    "duration": 0,
    "start_time": "2022-12-23T20:40:03.484Z"
   },
   {
    "duration": 0,
    "start_time": "2022-12-23T20:40:03.485Z"
   },
   {
    "duration": 173,
    "start_time": "2022-12-23T20:40:09.451Z"
   },
   {
    "duration": 36,
    "start_time": "2022-12-23T20:40:14.014Z"
   },
   {
    "duration": 180,
    "start_time": "2022-12-23T20:40:19.224Z"
   },
   {
    "duration": 8937,
    "start_time": "2022-12-23T20:40:38.918Z"
   },
   {
    "duration": 4021,
    "start_time": "2022-12-23T23:15:51.153Z"
   },
   {
    "duration": 769,
    "start_time": "2022-12-23T23:15:55.176Z"
   },
   {
    "duration": 128,
    "start_time": "2022-12-23T23:15:55.947Z"
   },
   {
    "duration": 6,
    "start_time": "2022-12-23T23:15:56.077Z"
   },
   {
    "duration": 17,
    "start_time": "2022-12-23T23:15:56.084Z"
   },
   {
    "duration": 17,
    "start_time": "2022-12-23T23:15:56.115Z"
   },
   {
    "duration": 144,
    "start_time": "2022-12-23T23:15:56.134Z"
   },
   {
    "duration": 157,
    "start_time": "2022-12-23T23:15:56.280Z"
   },
   {
    "duration": 46,
    "start_time": "2022-12-23T23:15:56.439Z"
   },
   {
    "duration": 752,
    "start_time": "2022-12-23T23:15:56.488Z"
   },
   {
    "duration": 4515,
    "start_time": "2022-12-23T23:15:57.242Z"
   },
   {
    "duration": 4821,
    "start_time": "2022-12-23T23:16:01.758Z"
   },
   {
    "duration": 475,
    "start_time": "2022-12-23T23:16:06.580Z"
   },
   {
    "duration": 92,
    "start_time": "2022-12-23T23:16:07.056Z"
   },
   {
    "duration": 359,
    "start_time": "2022-12-23T23:16:07.149Z"
   },
   {
    "duration": 52110,
    "start_time": "2022-12-23T23:16:07.510Z"
   },
   {
    "duration": 103,
    "start_time": "2022-12-23T23:16:59.621Z"
   },
   {
    "duration": 603,
    "start_time": "2022-12-23T23:16:59.726Z"
   },
   {
    "duration": 158,
    "start_time": "2022-12-23T23:17:00.331Z"
   },
   {
    "duration": 277,
    "start_time": "2022-12-23T23:17:00.491Z"
   },
   {
    "duration": 91,
    "start_time": "2022-12-23T23:17:00.769Z"
   },
   {
    "duration": 3,
    "start_time": "2022-12-23T23:17:00.862Z"
   },
   {
    "duration": 63,
    "start_time": "2022-12-23T23:17:00.866Z"
   },
   {
    "duration": 16,
    "start_time": "2022-12-23T23:17:00.931Z"
   },
   {
    "duration": 67,
    "start_time": "2022-12-23T23:17:00.949Z"
   },
   {
    "duration": 5,
    "start_time": "2022-12-23T23:17:01.017Z"
   },
   {
    "duration": 1672,
    "start_time": "2022-12-23T23:17:01.024Z"
   },
   {
    "duration": 107,
    "start_time": "2022-12-23T23:17:02.700Z"
   },
   {
    "duration": 700,
    "start_time": "2022-12-23T23:17:02.809Z"
   },
   {
    "duration": 39208,
    "start_time": "2022-12-23T23:17:03.511Z"
   },
   {
    "duration": 20096,
    "start_time": "2022-12-23T23:17:42.721Z"
   },
   {
    "duration": 398,
    "start_time": "2022-12-23T23:18:02.820Z"
   },
   {
    "duration": 114061,
    "start_time": "2022-12-23T23:18:03.220Z"
   },
   {
    "duration": 53373,
    "start_time": "2022-12-23T23:19:57.284Z"
   },
   {
    "duration": 8795,
    "start_time": "2022-12-23T23:20:50.659Z"
   },
   {
    "duration": 5,
    "start_time": "2022-12-23T23:20:59.455Z"
   },
   {
    "duration": 2622051,
    "start_time": "2022-12-23T23:20:59.461Z"
   },
   {
    "duration": 60,
    "start_time": "2022-12-24T00:04:41.514Z"
   },
   {
    "duration": 12,
    "start_time": "2022-12-24T00:04:41.575Z"
   },
   {
    "duration": 0,
    "start_time": "2022-12-24T00:04:41.589Z"
   },
   {
    "duration": 0,
    "start_time": "2022-12-24T00:04:41.591Z"
   },
   {
    "duration": 0,
    "start_time": "2022-12-24T00:04:41.592Z"
   },
   {
    "duration": 0,
    "start_time": "2022-12-24T00:04:41.594Z"
   },
   {
    "duration": 0,
    "start_time": "2022-12-24T00:04:41.595Z"
   },
   {
    "duration": 0,
    "start_time": "2022-12-24T00:04:41.596Z"
   },
   {
    "duration": 0,
    "start_time": "2022-12-24T00:04:41.597Z"
   },
   {
    "duration": 0,
    "start_time": "2022-12-24T00:04:41.599Z"
   },
   {
    "duration": 0,
    "start_time": "2022-12-24T00:04:41.600Z"
   },
   {
    "duration": 0,
    "start_time": "2022-12-24T00:04:41.602Z"
   },
   {
    "duration": 0,
    "start_time": "2022-12-24T00:04:41.603Z"
   },
   {
    "duration": 0,
    "start_time": "2022-12-24T00:04:41.604Z"
   },
   {
    "duration": 0,
    "start_time": "2022-12-24T00:04:41.605Z"
   },
   {
    "duration": 0,
    "start_time": "2022-12-24T00:04:41.606Z"
   },
   {
    "duration": 0,
    "start_time": "2022-12-24T00:04:41.607Z"
   },
   {
    "duration": 0,
    "start_time": "2022-12-24T00:04:41.608Z"
   },
   {
    "duration": 0,
    "start_time": "2022-12-24T00:04:41.609Z"
   },
   {
    "duration": 0,
    "start_time": "2022-12-24T00:04:41.609Z"
   },
   {
    "duration": 4260,
    "start_time": "2022-12-24T07:53:37.714Z"
   },
   {
    "duration": 1012,
    "start_time": "2022-12-24T07:53:41.976Z"
   },
   {
    "duration": 135,
    "start_time": "2022-12-24T07:53:44.336Z"
   },
   {
    "duration": 7,
    "start_time": "2022-12-24T07:53:45.989Z"
   },
   {
    "duration": 17,
    "start_time": "2022-12-24T07:53:47.323Z"
   },
   {
    "duration": 42,
    "start_time": "2022-12-24T07:53:48.808Z"
   },
   {
    "duration": 130,
    "start_time": "2022-12-24T07:53:50.975Z"
   },
   {
    "duration": 161,
    "start_time": "2022-12-24T07:53:52.501Z"
   },
   {
    "duration": 50,
    "start_time": "2022-12-24T07:53:54.157Z"
   },
   {
    "duration": 782,
    "start_time": "2022-12-24T07:53:55.789Z"
   },
   {
    "duration": 4851,
    "start_time": "2022-12-24T07:53:58.791Z"
   },
   {
    "duration": 5039,
    "start_time": "2022-12-24T07:54:03.644Z"
   },
   {
    "duration": 547,
    "start_time": "2022-12-24T07:54:08.685Z"
   },
   {
    "duration": 102,
    "start_time": "2022-12-24T07:54:09.234Z"
   },
   {
    "duration": 365,
    "start_time": "2022-12-24T07:54:09.338Z"
   },
   {
    "duration": 51275,
    "start_time": "2022-12-24T07:54:09.705Z"
   },
   {
    "duration": 105,
    "start_time": "2022-12-24T07:55:00.983Z"
   },
   {
    "duration": 612,
    "start_time": "2022-12-24T07:55:01.089Z"
   },
   {
    "duration": 166,
    "start_time": "2022-12-24T07:55:01.702Z"
   },
   {
    "duration": 301,
    "start_time": "2022-12-24T07:55:01.870Z"
   },
   {
    "duration": 97,
    "start_time": "2022-12-24T07:55:02.172Z"
   },
   {
    "duration": 2,
    "start_time": "2022-12-24T07:55:02.271Z"
   },
   {
    "duration": 38,
    "start_time": "2022-12-24T07:55:02.275Z"
   },
   {
    "duration": 32,
    "start_time": "2022-12-24T08:38:55.903Z"
   },
   {
    "duration": 56,
    "start_time": "2022-12-24T08:39:29.979Z"
   },
   {
    "duration": 920,
    "start_time": "2022-12-24T08:41:55.415Z"
   },
   {
    "duration": 2084,
    "start_time": "2022-12-24T08:46:05.332Z"
   },
   {
    "duration": 787,
    "start_time": "2022-12-24T08:46:08.204Z"
   },
   {
    "duration": 148,
    "start_time": "2022-12-24T08:46:10.616Z"
   },
   {
    "duration": 7,
    "start_time": "2022-12-24T08:46:11.628Z"
   },
   {
    "duration": 13,
    "start_time": "2022-12-24T08:46:12.652Z"
   },
   {
    "duration": 27,
    "start_time": "2022-12-24T08:46:13.641Z"
   },
   {
    "duration": 102,
    "start_time": "2022-12-24T08:46:15.097Z"
   },
   {
    "duration": 52,
    "start_time": "2022-12-24T08:46:16.165Z"
   },
   {
    "duration": 663,
    "start_time": "2022-12-24T08:46:17.193Z"
   },
   {
    "duration": 5455,
    "start_time": "2022-12-24T08:46:20.786Z"
   },
   {
    "duration": 5634,
    "start_time": "2022-12-24T08:46:26.244Z"
   },
   {
    "duration": 510,
    "start_time": "2022-12-24T08:46:31.879Z"
   },
   {
    "duration": 85,
    "start_time": "2022-12-24T08:46:32.391Z"
   },
   {
    "duration": 441,
    "start_time": "2022-12-24T08:46:32.478Z"
   },
   {
    "duration": 834,
    "start_time": "2022-12-24T08:47:34.862Z"
   },
   {
    "duration": 1785,
    "start_time": "2022-12-24T08:47:50.387Z"
   },
   {
    "duration": 237,
    "start_time": "2022-12-24T08:48:58.110Z"
   },
   {
    "duration": 2161,
    "start_time": "2022-12-24T08:49:02.162Z"
   },
   {
    "duration": 1727,
    "start_time": "2022-12-24T08:49:19.470Z"
   },
   {
    "duration": 1791,
    "start_time": "2022-12-24T08:49:36.796Z"
   },
   {
    "duration": 130,
    "start_time": "2022-12-24T08:50:42.147Z"
   },
   {
    "duration": 8,
    "start_time": "2022-12-24T08:51:22.117Z"
   },
   {
    "duration": 7,
    "start_time": "2022-12-24T08:51:41.640Z"
   },
   {
    "duration": 8,
    "start_time": "2022-12-24T08:52:02.402Z"
   },
   {
    "duration": 200,
    "start_time": "2022-12-24T08:58:05.697Z"
   },
   {
    "duration": 54573,
    "start_time": "2022-12-24T08:58:10.941Z"
   },
   {
    "duration": 87,
    "start_time": "2022-12-24T08:59:05.527Z"
   },
   {
    "duration": 623,
    "start_time": "2022-12-24T08:59:05.616Z"
   },
   {
    "duration": 155,
    "start_time": "2022-12-24T08:59:06.240Z"
   },
   {
    "duration": 301,
    "start_time": "2022-12-24T08:59:06.397Z"
   },
   {
    "duration": 98,
    "start_time": "2022-12-24T08:59:06.700Z"
   },
   {
    "duration": 3,
    "start_time": "2022-12-24T08:59:06.800Z"
   },
   {
    "duration": 46,
    "start_time": "2022-12-24T08:59:06.804Z"
   },
   {
    "duration": 13,
    "start_time": "2022-12-24T08:59:06.851Z"
   },
   {
    "duration": 72,
    "start_time": "2022-12-24T08:59:06.867Z"
   },
   {
    "duration": 8,
    "start_time": "2022-12-24T08:59:06.941Z"
   },
   {
    "duration": 1735,
    "start_time": "2022-12-24T08:59:06.950Z"
   },
   {
    "duration": 115,
    "start_time": "2022-12-24T08:59:08.687Z"
   },
   {
    "duration": 723,
    "start_time": "2022-12-24T08:59:44.252Z"
   },
   {
    "duration": 861,
    "start_time": "2022-12-24T09:00:00.416Z"
   },
   {
    "duration": 790,
    "start_time": "2022-12-24T09:00:49.743Z"
   },
   {
    "duration": 38,
    "start_time": "2022-12-24T09:01:04.199Z"
   },
   {
    "duration": 1007,
    "start_time": "2022-12-24T09:06:53.439Z"
   },
   {
    "duration": 9,
    "start_time": "2022-12-24T09:08:46.036Z"
   },
   {
    "duration": 19,
    "start_time": "2022-12-24T09:09:00.302Z"
   },
   {
    "duration": 5,
    "start_time": "2022-12-24T09:09:44.382Z"
   },
   {
    "duration": 1118,
    "start_time": "2022-12-24T09:09:52.137Z"
   },
   {
    "duration": 774,
    "start_time": "2022-12-24T09:11:04.296Z"
   },
   {
    "duration": 106,
    "start_time": "2022-12-24T09:11:39.284Z"
   },
   {
    "duration": 807,
    "start_time": "2022-12-24T09:12:19.133Z"
   },
   {
    "duration": 1077,
    "start_time": "2022-12-24T09:13:07.874Z"
   },
   {
    "duration": 1024,
    "start_time": "2022-12-24T09:13:30.680Z"
   },
   {
    "duration": 851,
    "start_time": "2022-12-24T09:13:34.567Z"
   },
   {
    "duration": 287,
    "start_time": "2022-12-24T09:14:04.472Z"
   },
   {
    "duration": 3768,
    "start_time": "2022-12-24T09:15:01.410Z"
   },
   {
    "duration": 874,
    "start_time": "2022-12-24T09:15:05.180Z"
   },
   {
    "duration": 133,
    "start_time": "2022-12-24T09:15:06.056Z"
   },
   {
    "duration": 5,
    "start_time": "2022-12-24T09:15:06.192Z"
   },
   {
    "duration": 44,
    "start_time": "2022-12-24T09:15:06.199Z"
   },
   {
    "duration": 25,
    "start_time": "2022-12-24T09:15:06.244Z"
   },
   {
    "duration": 141,
    "start_time": "2022-12-24T09:15:06.270Z"
   },
   {
    "duration": 69,
    "start_time": "2022-12-24T09:15:06.413Z"
   },
   {
    "duration": 806,
    "start_time": "2022-12-24T09:15:06.484Z"
   },
   {
    "duration": 4707,
    "start_time": "2022-12-24T09:15:07.293Z"
   },
   {
    "duration": 5098,
    "start_time": "2022-12-24T09:15:12.002Z"
   },
   {
    "duration": 489,
    "start_time": "2022-12-24T09:15:17.102Z"
   },
   {
    "duration": 96,
    "start_time": "2022-12-24T09:15:17.593Z"
   },
   {
    "duration": 385,
    "start_time": "2022-12-24T09:15:17.691Z"
   },
   {
    "duration": 227,
    "start_time": "2022-12-24T09:15:18.077Z"
   },
   {
    "duration": 1708,
    "start_time": "2022-12-24T09:15:18.306Z"
   },
   {
    "duration": 189,
    "start_time": "2022-12-24T09:15:20.017Z"
   },
   {
    "duration": 53337,
    "start_time": "2022-12-24T09:15:20.208Z"
   },
   {
    "duration": 108,
    "start_time": "2022-12-24T09:16:13.546Z"
   },
   {
    "duration": 611,
    "start_time": "2022-12-24T09:16:13.656Z"
   },
   {
    "duration": 166,
    "start_time": "2022-12-24T09:16:14.270Z"
   },
   {
    "duration": 331,
    "start_time": "2022-12-24T09:16:14.438Z"
   },
   {
    "duration": 88,
    "start_time": "2022-12-24T09:16:14.771Z"
   },
   {
    "duration": 3,
    "start_time": "2022-12-24T09:16:14.861Z"
   },
   {
    "duration": 31,
    "start_time": "2022-12-24T09:16:14.865Z"
   },
   {
    "duration": 25,
    "start_time": "2022-12-24T09:16:14.898Z"
   },
   {
    "duration": 59,
    "start_time": "2022-12-24T09:16:14.933Z"
   },
   {
    "duration": 7,
    "start_time": "2022-12-24T09:16:14.997Z"
   },
   {
    "duration": 1826,
    "start_time": "2022-12-24T09:16:15.006Z"
   },
   {
    "duration": 110,
    "start_time": "2022-12-24T09:16:16.835Z"
   },
   {
    "duration": 1005,
    "start_time": "2022-12-24T09:16:16.947Z"
   },
   {
    "duration": 875,
    "start_time": "2022-12-24T09:16:17.953Z"
   },
   {
    "duration": 414,
    "start_time": "2022-12-24T09:16:18.830Z"
   },
   {
    "duration": 64,
    "start_time": "2022-12-24T09:16:19.245Z"
   },
   {
    "duration": 70,
    "start_time": "2022-12-24T09:16:19.311Z"
   },
   {
    "duration": 74,
    "start_time": "2022-12-24T09:16:19.383Z"
   },
   {
    "duration": 50,
    "start_time": "2022-12-24T09:16:19.458Z"
   },
   {
    "duration": 4,
    "start_time": "2022-12-24T09:16:19.510Z"
   },
   {
    "duration": 2566,
    "start_time": "2022-12-24T09:16:19.516Z"
   },
   {
    "duration": 59,
    "start_time": "2022-12-24T09:16:22.084Z"
   },
   {
    "duration": 11,
    "start_time": "2022-12-24T09:16:22.144Z"
   },
   {
    "duration": 0,
    "start_time": "2022-12-24T09:16:22.156Z"
   },
   {
    "duration": 0,
    "start_time": "2022-12-24T09:16:22.157Z"
   },
   {
    "duration": 0,
    "start_time": "2022-12-24T09:16:22.158Z"
   },
   {
    "duration": 0,
    "start_time": "2022-12-24T09:16:22.160Z"
   },
   {
    "duration": 0,
    "start_time": "2022-12-24T09:16:22.161Z"
   },
   {
    "duration": 0,
    "start_time": "2022-12-24T09:16:22.162Z"
   },
   {
    "duration": 0,
    "start_time": "2022-12-24T09:16:22.163Z"
   },
   {
    "duration": 0,
    "start_time": "2022-12-24T09:16:22.165Z"
   },
   {
    "duration": 0,
    "start_time": "2022-12-24T09:16:22.166Z"
   },
   {
    "duration": 0,
    "start_time": "2022-12-24T09:16:22.167Z"
   },
   {
    "duration": 0,
    "start_time": "2022-12-24T09:16:22.168Z"
   },
   {
    "duration": 0,
    "start_time": "2022-12-24T09:16:22.170Z"
   },
   {
    "duration": 0,
    "start_time": "2022-12-24T09:16:22.171Z"
   },
   {
    "duration": 0,
    "start_time": "2022-12-24T09:16:22.172Z"
   },
   {
    "duration": 0,
    "start_time": "2022-12-24T09:16:22.174Z"
   },
   {
    "duration": 0,
    "start_time": "2022-12-24T09:16:22.175Z"
   },
   {
    "duration": 0,
    "start_time": "2022-12-24T09:16:22.176Z"
   },
   {
    "duration": 0,
    "start_time": "2022-12-24T09:16:22.177Z"
   },
   {
    "duration": 139,
    "start_time": "2022-12-24T09:20:05.854Z"
   },
   {
    "duration": 1845,
    "start_time": "2022-12-24T09:20:07.985Z"
   },
   {
    "duration": 155,
    "start_time": "2022-12-24T09:20:14.756Z"
   },
   {
    "duration": 26681,
    "start_time": "2022-12-24T09:20:15.804Z"
   },
   {
    "duration": 101,
    "start_time": "2022-12-24T09:20:42.487Z"
   },
   {
    "duration": 582,
    "start_time": "2022-12-24T09:20:42.590Z"
   },
   {
    "duration": 139,
    "start_time": "2022-12-24T09:20:43.174Z"
   },
   {
    "duration": 302,
    "start_time": "2022-12-24T09:20:43.315Z"
   },
   {
    "duration": 77,
    "start_time": "2022-12-24T09:20:43.618Z"
   },
   {
    "duration": 3,
    "start_time": "2022-12-24T09:20:43.697Z"
   },
   {
    "duration": 52,
    "start_time": "2022-12-24T09:20:43.702Z"
   },
   {
    "duration": 17,
    "start_time": "2022-12-24T09:20:43.755Z"
   },
   {
    "duration": 83,
    "start_time": "2022-12-24T09:20:43.774Z"
   },
   {
    "duration": 6,
    "start_time": "2022-12-24T09:20:43.858Z"
   },
   {
    "duration": 1801,
    "start_time": "2022-12-24T09:20:43.865Z"
   },
   {
    "duration": 112,
    "start_time": "2022-12-24T09:20:45.667Z"
   },
   {
    "duration": 1016,
    "start_time": "2022-12-24T09:20:45.781Z"
   },
   {
    "duration": 102538,
    "start_time": "2022-12-24T09:20:46.799Z"
   },
   {
    "duration": 71727,
    "start_time": "2022-12-24T09:22:29.422Z"
   },
   {
    "duration": 471,
    "start_time": "2022-12-24T09:23:41.151Z"
   },
   {
    "duration": 4053,
    "start_time": "2022-12-24T09:25:24.553Z"
   },
   {
    "duration": 1005,
    "start_time": "2022-12-24T09:25:28.608Z"
   },
   {
    "duration": 166,
    "start_time": "2022-12-24T09:25:29.615Z"
   },
   {
    "duration": 6,
    "start_time": "2022-12-24T09:25:29.783Z"
   },
   {
    "duration": 18,
    "start_time": "2022-12-24T09:25:29.790Z"
   },
   {
    "duration": 56,
    "start_time": "2022-12-24T09:25:29.809Z"
   },
   {
    "duration": 141,
    "start_time": "2022-12-24T09:25:29.866Z"
   },
   {
    "duration": 73,
    "start_time": "2022-12-24T09:25:30.008Z"
   },
   {
    "duration": 907,
    "start_time": "2022-12-24T09:25:30.083Z"
   },
   {
    "duration": 5428,
    "start_time": "2022-12-24T09:25:30.992Z"
   },
   {
    "duration": 5408,
    "start_time": "2022-12-24T09:25:36.422Z"
   },
   {
    "duration": 507,
    "start_time": "2022-12-24T09:25:41.832Z"
   },
   {
    "duration": 92,
    "start_time": "2022-12-24T09:25:42.340Z"
   },
   {
    "duration": 436,
    "start_time": "2022-12-24T09:25:42.434Z"
   },
   {
    "duration": 275,
    "start_time": "2022-12-24T09:25:42.873Z"
   },
   {
    "duration": 1792,
    "start_time": "2022-12-24T09:25:43.153Z"
   },
   {
    "duration": 183,
    "start_time": "2022-12-24T09:25:44.950Z"
   },
   {
    "duration": 3207,
    "start_time": "2022-12-24T09:25:45.134Z"
   },
   {
    "duration": 87,
    "start_time": "2022-12-24T09:25:48.343Z"
   },
   {
    "duration": 652,
    "start_time": "2022-12-24T09:25:48.431Z"
   },
   {
    "duration": 185,
    "start_time": "2022-12-24T09:25:49.085Z"
   },
   {
    "duration": 311,
    "start_time": "2022-12-24T09:25:49.272Z"
   },
   {
    "duration": 91,
    "start_time": "2022-12-24T09:25:49.584Z"
   },
   {
    "duration": 3,
    "start_time": "2022-12-24T09:25:49.676Z"
   },
   {
    "duration": 41,
    "start_time": "2022-12-24T09:25:49.681Z"
   },
   {
    "duration": 20,
    "start_time": "2022-12-24T09:25:49.725Z"
   },
   {
    "duration": 68,
    "start_time": "2022-12-24T09:25:49.747Z"
   },
   {
    "duration": 14,
    "start_time": "2022-12-24T09:25:49.820Z"
   },
   {
    "duration": 1898,
    "start_time": "2022-12-24T09:25:49.837Z"
   },
   {
    "duration": 117,
    "start_time": "2022-12-24T09:25:51.742Z"
   },
   {
    "duration": 1084,
    "start_time": "2022-12-24T09:25:51.860Z"
   },
   {
    "duration": 4902,
    "start_time": "2022-12-24T17:43:00.904Z"
   },
   {
    "duration": 1244,
    "start_time": "2022-12-24T17:43:05.808Z"
   },
   {
    "duration": 205,
    "start_time": "2022-12-24T17:43:07.054Z"
   },
   {
    "duration": 21,
    "start_time": "2022-12-24T17:43:07.260Z"
   },
   {
    "duration": 35,
    "start_time": "2022-12-24T17:43:07.283Z"
   },
   {
    "duration": 43,
    "start_time": "2022-12-24T17:43:07.319Z"
   },
   {
    "duration": 143,
    "start_time": "2022-12-24T17:43:07.364Z"
   },
   {
    "duration": 66,
    "start_time": "2022-12-24T17:43:07.509Z"
   },
   {
    "duration": 784,
    "start_time": "2022-12-24T17:43:07.577Z"
   },
   {
    "duration": 4897,
    "start_time": "2022-12-24T17:43:08.362Z"
   },
   {
    "duration": 5108,
    "start_time": "2022-12-24T17:43:13.261Z"
   },
   {
    "duration": 503,
    "start_time": "2022-12-24T17:43:18.371Z"
   },
   {
    "duration": 96,
    "start_time": "2022-12-24T17:43:18.876Z"
   },
   {
    "duration": 406,
    "start_time": "2022-12-24T17:43:18.976Z"
   },
   {
    "duration": 255,
    "start_time": "2022-12-24T17:43:19.384Z"
   },
   {
    "duration": 1637,
    "start_time": "2022-12-24T17:43:19.641Z"
   },
   {
    "duration": 166,
    "start_time": "2022-12-24T17:43:21.279Z"
   },
   {
    "duration": 52629,
    "start_time": "2022-12-24T17:43:21.447Z"
   },
   {
    "duration": 94,
    "start_time": "2022-12-24T17:44:14.078Z"
   },
   {
    "duration": 615,
    "start_time": "2022-12-24T17:44:14.174Z"
   },
   {
    "duration": 167,
    "start_time": "2022-12-24T17:44:14.791Z"
   },
   {
    "duration": 312,
    "start_time": "2022-12-24T17:44:14.959Z"
   },
   {
    "duration": 89,
    "start_time": "2022-12-24T17:44:15.273Z"
   },
   {
    "duration": 3,
    "start_time": "2022-12-24T17:44:15.365Z"
   },
   {
    "duration": 37,
    "start_time": "2022-12-24T17:44:15.370Z"
   },
   {
    "duration": 17,
    "start_time": "2022-12-24T17:44:15.423Z"
   },
   {
    "duration": 58,
    "start_time": "2022-12-24T17:44:15.442Z"
   },
   {
    "duration": 30,
    "start_time": "2022-12-24T17:44:15.502Z"
   },
   {
    "duration": 1914,
    "start_time": "2022-12-24T17:44:15.536Z"
   },
   {
    "duration": 118,
    "start_time": "2022-12-24T17:44:17.453Z"
   },
   {
    "duration": 1158,
    "start_time": "2022-12-24T17:44:17.573Z"
   },
   {
    "duration": 102599,
    "start_time": "2022-12-24T17:44:18.737Z"
   },
   {
    "duration": 52603,
    "start_time": "2022-12-24T17:46:01.421Z"
   },
   {
    "duration": 398,
    "start_time": "2022-12-24T17:46:54.025Z"
   },
   {
    "duration": 113705,
    "start_time": "2022-12-24T17:46:54.424Z"
   },
   {
    "duration": 54332,
    "start_time": "2022-12-24T17:48:48.131Z"
   },
   {
    "duration": 9047,
    "start_time": "2022-12-24T17:49:42.465Z"
   },
   {
    "duration": 9,
    "start_time": "2022-12-24T17:49:51.515Z"
   },
   {
    "duration": 2841032,
    "start_time": "2022-12-24T17:49:51.525Z"
   },
   {
    "duration": 4175,
    "start_time": "2022-12-24T18:37:12.559Z"
   },
   {
    "duration": 17,
    "start_time": "2022-12-24T18:37:16.740Z"
   },
   {
    "duration": 1341,
    "start_time": "2022-12-24T18:37:16.758Z"
   },
   {
    "duration": 4,
    "start_time": "2022-12-24T18:37:18.100Z"
   },
   {
    "duration": 674099,
    "start_time": "2022-12-24T18:37:18.106Z"
   },
   {
    "duration": 3,
    "start_time": "2022-12-24T18:48:32.206Z"
   },
   {
    "duration": 0,
    "start_time": "2022-12-24T18:48:32.211Z"
   },
   {
    "duration": 0,
    "start_time": "2022-12-24T18:48:32.213Z"
   },
   {
    "duration": 0,
    "start_time": "2022-12-24T18:48:32.214Z"
   },
   {
    "duration": 0,
    "start_time": "2022-12-24T18:48:32.215Z"
   },
   {
    "duration": 0,
    "start_time": "2022-12-24T18:48:32.217Z"
   },
   {
    "duration": 0,
    "start_time": "2022-12-24T18:48:32.218Z"
   },
   {
    "duration": 0,
    "start_time": "2022-12-24T18:48:32.220Z"
   },
   {
    "duration": 0,
    "start_time": "2022-12-24T18:48:32.221Z"
   },
   {
    "duration": 0,
    "start_time": "2022-12-24T18:48:32.223Z"
   },
   {
    "duration": 0,
    "start_time": "2022-12-24T18:48:32.224Z"
   },
   {
    "duration": 0,
    "start_time": "2022-12-24T18:48:32.226Z"
   },
   {
    "duration": 0,
    "start_time": "2022-12-24T18:48:32.230Z"
   },
   {
    "duration": 0,
    "start_time": "2022-12-24T18:48:32.232Z"
   },
   {
    "duration": 0,
    "start_time": "2022-12-24T18:48:32.235Z"
   },
   {
    "duration": 173,
    "start_time": "2022-12-24T19:22:31.943Z"
   },
   {
    "duration": 103,
    "start_time": "2022-12-24T19:22:38.300Z"
   },
   {
    "duration": 6529,
    "start_time": "2023-01-15T18:15:29.368Z"
   },
   {
    "duration": 456,
    "start_time": "2023-01-15T18:15:35.900Z"
   },
   {
    "duration": 0,
    "start_time": "2023-01-15T18:15:36.359Z"
   },
   {
    "duration": 0,
    "start_time": "2023-01-15T18:15:36.360Z"
   },
   {
    "duration": 25,
    "start_time": "2023-01-15T18:15:36.977Z"
   },
   {
    "duration": 25,
    "start_time": "2023-01-15T18:19:48.356Z"
   },
   {
    "duration": 86,
    "start_time": "2023-01-15T18:20:14.404Z"
   },
   {
    "duration": 73,
    "start_time": "2023-01-15T18:20:25.653Z"
   },
   {
    "duration": 58,
    "start_time": "2023-01-15T18:23:06.881Z"
   },
   {
    "duration": 2492,
    "start_time": "2023-01-15T18:23:57.559Z"
   },
   {
    "duration": 35,
    "start_time": "2023-01-15T18:24:06.442Z"
   },
   {
    "duration": 12,
    "start_time": "2023-01-15T18:24:07.550Z"
   },
   {
    "duration": 23,
    "start_time": "2023-01-15T18:24:08.502Z"
   },
   {
    "duration": 75,
    "start_time": "2023-01-15T18:24:09.466Z"
   },
   {
    "duration": 1928,
    "start_time": "2023-01-15T18:24:10.468Z"
   },
   {
    "duration": 113,
    "start_time": "2023-01-15T18:24:12.399Z"
   },
   {
    "duration": 123,
    "start_time": "2023-01-15T18:24:12.725Z"
   },
   {
    "duration": 48,
    "start_time": "2023-01-15T18:24:14.455Z"
   },
   {
    "duration": 10,
    "start_time": "2023-01-15T18:24:15.756Z"
   },
   {
    "duration": 15,
    "start_time": "2023-01-15T18:24:17.654Z"
   },
   {
    "duration": 4,
    "start_time": "2023-01-15T18:24:19.556Z"
   },
   {
    "duration": 5,
    "start_time": "2023-01-15T18:24:20.976Z"
   },
   {
    "duration": 12,
    "start_time": "2023-01-15T18:24:22.638Z"
   },
   {
    "duration": 33,
    "start_time": "2023-01-15T18:24:36.611Z"
   },
   {
    "duration": 45,
    "start_time": "2023-01-15T18:26:14.982Z"
   },
   {
    "duration": 5355,
    "start_time": "2023-01-15T18:26:21.948Z"
   },
   {
    "duration": 1134,
    "start_time": "2023-01-15T18:26:32.351Z"
   },
   {
    "duration": 58,
    "start_time": "2023-01-15T18:27:26.299Z"
   },
   {
    "duration": 166907,
    "start_time": "2023-01-15T18:29:34.088Z"
   },
   {
    "duration": 500,
    "start_time": "2023-01-15T18:32:54.886Z"
   },
   {
    "duration": 15,
    "start_time": "2023-01-15T18:33:00.250Z"
   },
   {
    "duration": 4928,
    "start_time": "2023-01-15T18:33:11.783Z"
   },
   {
    "duration": 8299,
    "start_time": "2023-01-15T18:33:23.867Z"
   },
   {
    "duration": 3,
    "start_time": "2023-01-15T18:33:39.982Z"
   },
   {
    "duration": 8738,
    "start_time": "2023-01-15T18:33:41.703Z"
   },
   {
    "duration": 263,
    "start_time": "2023-01-15T18:33:55.139Z"
   },
   {
    "duration": 5,
    "start_time": "2023-01-15T18:36:23.608Z"
   },
   {
    "duration": 12,
    "start_time": "2023-01-15T18:46:36.936Z"
   },
   {
    "duration": 194,
    "start_time": "2023-01-15T18:52:16.582Z"
   },
   {
    "duration": 140,
    "start_time": "2023-01-15T19:01:09.159Z"
   },
   {
    "duration": 47,
    "start_time": "2023-01-15T19:02:47.823Z"
   },
   {
    "duration": 5935,
    "start_time": "2023-01-15T19:03:13.436Z"
   },
   {
    "duration": 1551,
    "start_time": "2023-01-15T19:03:19.374Z"
   },
   {
    "duration": 46,
    "start_time": "2023-01-15T19:03:24.930Z"
   },
   {
    "duration": 15,
    "start_time": "2023-01-15T19:03:25.963Z"
   },
   {
    "duration": 19,
    "start_time": "2023-01-15T19:03:27.382Z"
   },
   {
    "duration": 86,
    "start_time": "2023-01-15T19:03:28.331Z"
   },
   {
    "duration": 1681,
    "start_time": "2023-01-15T19:03:29.409Z"
   },
   {
    "duration": 73,
    "start_time": "2023-01-15T19:03:31.093Z"
   },
   {
    "duration": 62,
    "start_time": "2023-01-15T19:03:31.636Z"
   },
   {
    "duration": 49,
    "start_time": "2023-01-15T19:03:32.762Z"
   },
   {
    "duration": 10,
    "start_time": "2023-01-15T19:03:34.024Z"
   },
   {
    "duration": 15,
    "start_time": "2023-01-15T19:03:35.681Z"
   },
   {
    "duration": 4,
    "start_time": "2023-01-15T19:03:36.713Z"
   },
   {
    "duration": 4,
    "start_time": "2023-01-15T19:03:38.621Z"
   },
   {
    "duration": 4,
    "start_time": "2023-01-15T19:03:39.764Z"
   },
   {
    "duration": 178043,
    "start_time": "2023-01-15T19:03:41.825Z"
   },
   {
    "duration": 16,
    "start_time": "2023-01-15T19:06:39.870Z"
   },
   {
    "duration": 5152,
    "start_time": "2023-01-15T19:06:39.888Z"
   },
   {
    "duration": 9092,
    "start_time": "2023-01-15T19:06:45.043Z"
   },
   {
    "duration": 4,
    "start_time": "2023-01-15T19:06:54.138Z"
   },
   {
    "duration": 3497,
    "start_time": "2023-01-15T19:06:54.143Z"
   },
   {
    "duration": 320,
    "start_time": "2023-01-15T19:06:57.642Z"
   },
   {
    "duration": 416,
    "start_time": "2023-01-15T19:06:57.964Z"
   },
   {
    "duration": 50,
    "start_time": "2023-01-15T19:08:06.173Z"
   },
   {
    "duration": 5308,
    "start_time": "2023-01-15T19:12:49.199Z"
   },
   {
    "duration": 881,
    "start_time": "2023-01-15T19:12:54.510Z"
   },
   {
    "duration": 43,
    "start_time": "2023-01-15T19:12:55.393Z"
   },
   {
    "duration": 12,
    "start_time": "2023-01-15T19:12:55.438Z"
   },
   {
    "duration": 17,
    "start_time": "2023-01-15T19:12:55.452Z"
   },
   {
    "duration": 83,
    "start_time": "2023-01-15T19:12:55.471Z"
   },
   {
    "duration": 1856,
    "start_time": "2023-01-15T19:12:55.555Z"
   },
   {
    "duration": 80,
    "start_time": "2023-01-15T19:12:57.413Z"
   },
   {
    "duration": 63,
    "start_time": "2023-01-15T19:12:57.494Z"
   },
   {
    "duration": 42,
    "start_time": "2023-01-15T19:12:57.559Z"
   },
   {
    "duration": 7,
    "start_time": "2023-01-15T19:12:57.602Z"
   },
   {
    "duration": 33,
    "start_time": "2023-01-15T19:12:57.610Z"
   },
   {
    "duration": 10,
    "start_time": "2023-01-15T19:12:57.645Z"
   },
   {
    "duration": 9,
    "start_time": "2023-01-15T19:12:57.658Z"
   },
   {
    "duration": 11,
    "start_time": "2023-01-15T19:12:57.669Z"
   },
   {
    "duration": 167269,
    "start_time": "2023-01-15T19:12:57.682Z"
   },
   {
    "duration": 14,
    "start_time": "2023-01-15T19:15:44.952Z"
   },
   {
    "duration": 4948,
    "start_time": "2023-01-15T19:15:44.968Z"
   },
   {
    "duration": 8421,
    "start_time": "2023-01-15T19:15:49.918Z"
   },
   {
    "duration": 3,
    "start_time": "2023-01-15T19:15:58.341Z"
   },
   {
    "duration": 2736,
    "start_time": "2023-01-15T19:15:58.345Z"
   },
   {
    "duration": 281,
    "start_time": "2023-01-15T19:16:01.083Z"
   },
   {
    "duration": 372,
    "start_time": "2023-01-15T19:16:01.366Z"
   },
   {
    "duration": 0,
    "start_time": "2023-01-15T19:16:01.739Z"
   },
   {
    "duration": 0,
    "start_time": "2023-01-15T19:16:01.741Z"
   },
   {
    "duration": 0,
    "start_time": "2023-01-15T19:16:01.742Z"
   },
   {
    "duration": 0,
    "start_time": "2023-01-15T19:16:01.743Z"
   },
   {
    "duration": 0,
    "start_time": "2023-01-15T19:16:01.744Z"
   },
   {
    "duration": 0,
    "start_time": "2023-01-15T19:16:01.745Z"
   },
   {
    "duration": 0,
    "start_time": "2023-01-15T19:16:01.746Z"
   },
   {
    "duration": 0,
    "start_time": "2023-01-15T19:16:01.747Z"
   },
   {
    "duration": 0,
    "start_time": "2023-01-15T19:16:01.747Z"
   },
   {
    "duration": 0,
    "start_time": "2023-01-15T19:16:01.748Z"
   },
   {
    "duration": 0,
    "start_time": "2023-01-15T19:16:01.749Z"
   },
   {
    "duration": 0,
    "start_time": "2023-01-15T19:16:01.750Z"
   },
   {
    "duration": 0,
    "start_time": "2023-01-15T19:16:01.751Z"
   },
   {
    "duration": 0,
    "start_time": "2023-01-15T19:16:01.752Z"
   },
   {
    "duration": 0,
    "start_time": "2023-01-15T19:16:01.753Z"
   },
   {
    "duration": 0,
    "start_time": "2023-01-15T19:16:01.754Z"
   },
   {
    "duration": 0,
    "start_time": "2023-01-15T19:16:01.755Z"
   },
   {
    "duration": 73,
    "start_time": "2023-01-15T19:16:47.557Z"
   },
   {
    "duration": 228,
    "start_time": "2023-01-15T19:17:21.140Z"
   },
   {
    "duration": 22,
    "start_time": "2023-01-15T19:36:33.195Z"
   },
   {
    "duration": 4797,
    "start_time": "2023-01-15T19:40:33.404Z"
   },
   {
    "duration": 918,
    "start_time": "2023-01-15T19:40:38.235Z"
   },
   {
    "duration": 33,
    "start_time": "2023-01-15T19:40:39.155Z"
   },
   {
    "duration": 11,
    "start_time": "2023-01-15T19:40:39.190Z"
   },
   {
    "duration": 34,
    "start_time": "2023-01-15T19:40:39.202Z"
   },
   {
    "duration": 65,
    "start_time": "2023-01-15T19:40:39.238Z"
   },
   {
    "duration": 1765,
    "start_time": "2023-01-15T19:40:39.305Z"
   },
   {
    "duration": 88,
    "start_time": "2023-01-15T19:40:41.071Z"
   },
   {
    "duration": 56,
    "start_time": "2023-01-15T19:40:41.161Z"
   },
   {
    "duration": 57,
    "start_time": "2023-01-15T19:40:41.219Z"
   },
   {
    "duration": 9,
    "start_time": "2023-01-15T19:40:41.278Z"
   },
   {
    "duration": 15,
    "start_time": "2023-01-15T19:40:41.288Z"
   },
   {
    "duration": 15,
    "start_time": "2023-01-15T19:40:41.305Z"
   },
   {
    "duration": 20,
    "start_time": "2023-01-15T19:40:41.322Z"
   },
   {
    "duration": 12,
    "start_time": "2023-01-15T19:40:41.343Z"
   },
   {
    "duration": 178483,
    "start_time": "2023-01-15T19:40:41.357Z"
   },
   {
    "duration": 16,
    "start_time": "2023-01-15T19:43:39.842Z"
   },
   {
    "duration": 4946,
    "start_time": "2023-01-15T19:43:39.860Z"
   },
   {
    "duration": 9237,
    "start_time": "2023-01-15T19:43:44.807Z"
   },
   {
    "duration": 4,
    "start_time": "2023-01-15T19:43:54.046Z"
   },
   {
    "duration": 2923,
    "start_time": "2023-01-15T19:43:54.052Z"
   },
   {
    "duration": 299,
    "start_time": "2023-01-15T19:43:56.977Z"
   },
   {
    "duration": 459,
    "start_time": "2023-01-15T19:43:57.278Z"
   },
   {
    "duration": 72,
    "start_time": "2023-01-15T19:43:57.739Z"
   },
   {
    "duration": 0,
    "start_time": "2023-01-15T19:43:57.813Z"
   },
   {
    "duration": 0,
    "start_time": "2023-01-15T19:43:57.816Z"
   },
   {
    "duration": 0,
    "start_time": "2023-01-15T19:43:57.817Z"
   },
   {
    "duration": 0,
    "start_time": "2023-01-15T19:43:57.819Z"
   },
   {
    "duration": 0,
    "start_time": "2023-01-15T19:43:57.821Z"
   },
   {
    "duration": 0,
    "start_time": "2023-01-15T19:43:57.823Z"
   },
   {
    "duration": 0,
    "start_time": "2023-01-15T19:43:57.824Z"
   },
   {
    "duration": 0,
    "start_time": "2023-01-15T19:43:57.826Z"
   },
   {
    "duration": 0,
    "start_time": "2023-01-15T19:43:57.827Z"
   },
   {
    "duration": 0,
    "start_time": "2023-01-15T19:43:57.829Z"
   },
   {
    "duration": 0,
    "start_time": "2023-01-15T19:43:57.830Z"
   },
   {
    "duration": 0,
    "start_time": "2023-01-15T19:43:57.832Z"
   },
   {
    "duration": 0,
    "start_time": "2023-01-15T19:43:57.835Z"
   },
   {
    "duration": 0,
    "start_time": "2023-01-15T19:43:57.836Z"
   },
   {
    "duration": 0,
    "start_time": "2023-01-15T19:43:57.837Z"
   },
   {
    "duration": 28,
    "start_time": "2023-01-15T19:45:07.483Z"
   },
   {
    "duration": 8,
    "start_time": "2023-01-15T19:45:19.143Z"
   },
   {
    "duration": 19,
    "start_time": "2023-01-15T19:45:32.052Z"
   },
   {
    "duration": 39,
    "start_time": "2023-01-15T19:46:46.482Z"
   },
   {
    "duration": 26,
    "start_time": "2023-01-15T19:47:00.988Z"
   },
   {
    "duration": 23,
    "start_time": "2023-01-15T19:51:07.193Z"
   },
   {
    "duration": 97,
    "start_time": "2023-01-15T19:53:59.896Z"
   },
   {
    "duration": 91,
    "start_time": "2023-01-15T19:54:15.085Z"
   },
   {
    "duration": 105,
    "start_time": "2023-01-15T20:29:50.101Z"
   },
   {
    "duration": 49,
    "start_time": "2023-01-15T20:30:11.324Z"
   },
   {
    "duration": 5,
    "start_time": "2023-01-15T20:30:32.494Z"
   },
   {
    "duration": 90,
    "start_time": "2023-01-15T20:30:41.187Z"
   },
   {
    "duration": 53,
    "start_time": "2023-01-15T20:32:37.519Z"
   },
   {
    "duration": 14,
    "start_time": "2023-01-15T20:35:28.273Z"
   },
   {
    "duration": 2421,
    "start_time": "2023-01-15T20:35:30.872Z"
   },
   {
    "duration": 5189,
    "start_time": "2023-01-15T20:37:50.165Z"
   },
   {
    "duration": 658,
    "start_time": "2023-01-15T20:38:01.613Z"
   },
   {
    "duration": 2492,
    "start_time": "2023-01-15T20:38:16.886Z"
   },
   {
    "duration": 895,
    "start_time": "2023-01-15T20:41:43.441Z"
   },
   {
    "duration": 39,
    "start_time": "2023-01-15T20:41:53.305Z"
   },
   {
    "duration": 13,
    "start_time": "2023-01-15T20:41:54.374Z"
   },
   {
    "duration": 14,
    "start_time": "2023-01-15T20:41:55.430Z"
   },
   {
    "duration": 73,
    "start_time": "2023-01-15T20:41:56.344Z"
   },
   {
    "duration": 1943,
    "start_time": "2023-01-15T20:41:57.178Z"
   },
   {
    "duration": 80,
    "start_time": "2023-01-15T20:41:59.124Z"
   },
   {
    "duration": 72,
    "start_time": "2023-01-15T20:41:59.206Z"
   },
   {
    "duration": 42,
    "start_time": "2023-01-15T20:41:59.905Z"
   },
   {
    "duration": 10,
    "start_time": "2023-01-15T20:42:00.835Z"
   },
   {
    "duration": 11,
    "start_time": "2023-01-15T20:42:02.260Z"
   },
   {
    "duration": 4,
    "start_time": "2023-01-15T20:42:03.475Z"
   },
   {
    "duration": 4,
    "start_time": "2023-01-15T20:42:11.695Z"
   },
   {
    "duration": 4,
    "start_time": "2023-01-15T20:42:13.678Z"
   },
   {
    "duration": 174340,
    "start_time": "2023-01-15T20:42:15.606Z"
   },
   {
    "duration": 15,
    "start_time": "2023-01-15T20:45:09.948Z"
   },
   {
    "duration": 5022,
    "start_time": "2023-01-15T20:45:09.966Z"
   },
   {
    "duration": 8769,
    "start_time": "2023-01-15T20:45:14.990Z"
   },
   {
    "duration": 15,
    "start_time": "2023-01-16T16:47:03.096Z"
   },
   {
    "duration": 31717,
    "start_time": "2023-01-16T16:47:06.731Z"
   },
   {
    "duration": 2497,
    "start_time": "2023-01-16T16:47:38.451Z"
   },
   {
    "duration": 33,
    "start_time": "2023-01-16T16:47:40.949Z"
   },
   {
    "duration": 21,
    "start_time": "2023-01-16T16:47:40.984Z"
   },
   {
    "duration": 26,
    "start_time": "2023-01-16T16:47:41.007Z"
   },
   {
    "duration": 91,
    "start_time": "2023-01-16T16:47:41.035Z"
   },
   {
    "duration": 1834,
    "start_time": "2023-01-16T16:47:41.128Z"
   },
   {
    "duration": 77,
    "start_time": "2023-01-16T16:47:42.964Z"
   },
   {
    "duration": 76,
    "start_time": "2023-01-16T16:47:43.042Z"
   },
   {
    "duration": 42,
    "start_time": "2023-01-16T16:47:43.121Z"
   },
   {
    "duration": 9,
    "start_time": "2023-01-16T16:47:43.165Z"
   },
   {
    "duration": 13,
    "start_time": "2023-01-16T16:47:43.196Z"
   },
   {
    "duration": 5,
    "start_time": "2023-01-16T16:47:43.211Z"
   },
   {
    "duration": 8,
    "start_time": "2023-01-16T16:47:43.218Z"
   },
   {
    "duration": 9,
    "start_time": "2023-01-16T16:47:43.228Z"
   },
   {
    "duration": 164018,
    "start_time": "2023-01-16T16:47:43.239Z"
   },
   {
    "duration": 13,
    "start_time": "2023-01-16T16:50:27.259Z"
   },
   {
    "duration": 5145,
    "start_time": "2023-01-16T16:50:27.274Z"
   },
   {
    "duration": 8315,
    "start_time": "2023-01-16T16:50:32.420Z"
   },
   {
    "duration": 9095,
    "start_time": "2023-01-16T16:50:40.736Z"
   },
   {
    "duration": 963,
    "start_time": "2023-01-16T16:50:49.833Z"
   },
   {
    "duration": 480,
    "start_time": "2023-01-16T16:50:50.798Z"
   },
   {
    "duration": 100,
    "start_time": "2023-01-16T16:50:51.280Z"
   },
   {
    "duration": 0,
    "start_time": "2023-01-16T16:50:51.381Z"
   },
   {
    "duration": 0,
    "start_time": "2023-01-16T16:50:51.383Z"
   },
   {
    "duration": 0,
    "start_time": "2023-01-16T16:50:51.384Z"
   },
   {
    "duration": 0,
    "start_time": "2023-01-16T16:50:51.385Z"
   },
   {
    "duration": 0,
    "start_time": "2023-01-16T16:50:51.386Z"
   },
   {
    "duration": 0,
    "start_time": "2023-01-16T16:50:51.387Z"
   },
   {
    "duration": 0,
    "start_time": "2023-01-16T16:50:51.389Z"
   },
   {
    "duration": 0,
    "start_time": "2023-01-16T16:50:51.389Z"
   },
   {
    "duration": 0,
    "start_time": "2023-01-16T16:50:51.391Z"
   },
   {
    "duration": 0,
    "start_time": "2023-01-16T16:50:51.392Z"
   },
   {
    "duration": 0,
    "start_time": "2023-01-16T16:50:51.393Z"
   },
   {
    "duration": 0,
    "start_time": "2023-01-16T16:50:51.394Z"
   },
   {
    "duration": 0,
    "start_time": "2023-01-16T16:50:51.395Z"
   },
   {
    "duration": 0,
    "start_time": "2023-01-16T16:50:51.396Z"
   },
   {
    "duration": 0,
    "start_time": "2023-01-16T16:50:51.397Z"
   },
   {
    "duration": 46,
    "start_time": "2023-01-16T20:54:24.601Z"
   },
   {
    "duration": 7847,
    "start_time": "2023-01-16T21:01:04.746Z"
   },
   {
    "duration": 2444,
    "start_time": "2023-01-16T21:01:12.595Z"
   },
   {
    "duration": 34,
    "start_time": "2023-01-16T21:01:15.041Z"
   },
   {
    "duration": 17,
    "start_time": "2023-01-16T21:01:15.076Z"
   },
   {
    "duration": 13,
    "start_time": "2023-01-16T21:01:17.195Z"
   },
   {
    "duration": 61,
    "start_time": "2023-01-16T21:01:19.095Z"
   },
   {
    "duration": 1689,
    "start_time": "2023-01-16T21:01:21.705Z"
   },
   {
    "duration": 69,
    "start_time": "2023-01-16T21:01:23.396Z"
   },
   {
    "duration": 52,
    "start_time": "2023-01-16T21:01:25.901Z"
   },
   {
    "duration": 54,
    "start_time": "2023-01-16T21:01:27.639Z"
   },
   {
    "duration": 22,
    "start_time": "2023-01-16T21:01:28.575Z"
   },
   {
    "duration": 14,
    "start_time": "2023-01-16T21:01:30.163Z"
   },
   {
    "duration": 3,
    "start_time": "2023-01-16T21:01:31.442Z"
   },
   {
    "duration": 4,
    "start_time": "2023-01-16T21:01:33.038Z"
   },
   {
    "duration": 3,
    "start_time": "2023-01-16T21:01:35.508Z"
   },
   {
    "duration": 158223,
    "start_time": "2023-01-16T21:01:37.194Z"
   },
   {
    "duration": 5173,
    "start_time": "2023-01-16T21:04:15.419Z"
   },
   {
    "duration": 16,
    "start_time": "2023-01-16T21:04:20.594Z"
   },
   {
    "duration": 9590,
    "start_time": "2023-01-16T21:13:29.001Z"
   },
   {
    "duration": 17,
    "start_time": "2023-01-16T21:13:53.126Z"
   },
   {
    "duration": 9360,
    "start_time": "2023-01-16T21:13:58.148Z"
   },
   {
    "duration": 43,
    "start_time": "2023-01-16T21:14:20.679Z"
   },
   {
    "duration": 5,
    "start_time": "2023-01-16T21:14:24.931Z"
   },
   {
    "duration": 10389,
    "start_time": "2023-01-16T21:14:52.711Z"
   },
   {
    "duration": 448,
    "start_time": "2023-01-16T21:15:37.932Z"
   },
   {
    "duration": 44,
    "start_time": "2023-01-16T21:15:53.480Z"
   },
   {
    "duration": 1509,
    "start_time": "2023-01-16T21:16:23.067Z"
   },
   {
    "duration": 93369,
    "start_time": "2023-01-16T21:16:29.791Z"
   },
   {
    "duration": 9222,
    "start_time": "2023-01-16T21:18:09.434Z"
   },
   {
    "duration": 71917,
    "start_time": "2023-01-16T21:18:29.257Z"
   },
   {
    "duration": 643867,
    "start_time": "2023-01-16T21:19:48.699Z"
   },
   {
    "duration": 163,
    "start_time": "2023-01-16T21:30:47.730Z"
   },
   {
    "duration": 5596,
    "start_time": "2023-01-16T21:37:04.305Z"
   },
   {
    "duration": 2170,
    "start_time": "2023-01-16T21:37:09.903Z"
   },
   {
    "duration": 24,
    "start_time": "2023-01-16T21:37:12.075Z"
   },
   {
    "duration": 16,
    "start_time": "2023-01-16T21:37:12.104Z"
   },
   {
    "duration": 11,
    "start_time": "2023-01-16T21:37:12.121Z"
   },
   {
    "duration": 8,
    "start_time": "2023-01-16T21:37:12.133Z"
   },
   {
    "duration": 40,
    "start_time": "2023-01-16T21:37:12.143Z"
   },
   {
    "duration": 1676,
    "start_time": "2023-01-16T21:37:12.185Z"
   },
   {
    "duration": 27,
    "start_time": "2023-01-16T21:37:13.863Z"
   },
   {
    "duration": 48,
    "start_time": "2023-01-16T21:37:13.893Z"
   },
   {
    "duration": 19,
    "start_time": "2023-01-16T21:37:13.943Z"
   },
   {
    "duration": 7,
    "start_time": "2023-01-16T21:37:13.981Z"
   },
   {
    "duration": 8,
    "start_time": "2023-01-16T21:37:13.990Z"
   },
   {
    "duration": 8,
    "start_time": "2023-01-16T21:37:14.000Z"
   },
   {
    "duration": 6,
    "start_time": "2023-01-16T21:37:14.009Z"
   },
   {
    "duration": 10,
    "start_time": "2023-01-16T21:37:14.017Z"
   },
   {
    "duration": 41205,
    "start_time": "2023-01-16T21:37:14.028Z"
   },
   {
    "duration": 7,
    "start_time": "2023-01-16T21:37:55.234Z"
   },
   {
    "duration": 5062,
    "start_time": "2023-01-16T21:37:55.242Z"
   },
   {
    "duration": 2119,
    "start_time": "2023-01-16T21:38:00.306Z"
   },
   {
    "duration": 166,
    "start_time": "2023-01-16T21:38:02.427Z"
   },
   {
    "duration": 3046,
    "start_time": "2023-01-16T21:38:02.597Z"
   },
   {
    "duration": 1669,
    "start_time": "2023-01-16T21:38:05.645Z"
   },
   {
    "duration": 266110,
    "start_time": "2023-01-16T21:38:07.316Z"
   },
   {
    "duration": 107,
    "start_time": "2023-01-16T21:42:33.428Z"
   },
   {
    "duration": 116,
    "start_time": "2023-01-16T21:42:33.536Z"
   },
   {
    "duration": 0,
    "start_time": "2023-01-16T21:42:33.654Z"
   },
   {
    "duration": 0,
    "start_time": "2023-01-16T21:42:33.655Z"
   },
   {
    "duration": 0,
    "start_time": "2023-01-16T21:42:33.656Z"
   },
   {
    "duration": 0,
    "start_time": "2023-01-16T21:42:33.657Z"
   },
   {
    "duration": 0,
    "start_time": "2023-01-16T21:42:33.658Z"
   },
   {
    "duration": 0,
    "start_time": "2023-01-16T21:42:33.659Z"
   },
   {
    "duration": 0,
    "start_time": "2023-01-16T21:42:33.660Z"
   },
   {
    "duration": 0,
    "start_time": "2023-01-16T21:42:33.661Z"
   },
   {
    "duration": 0,
    "start_time": "2023-01-16T21:42:33.663Z"
   },
   {
    "duration": 0,
    "start_time": "2023-01-16T21:42:33.664Z"
   },
   {
    "duration": 0,
    "start_time": "2023-01-16T21:42:33.665Z"
   },
   {
    "duration": 0,
    "start_time": "2023-01-16T21:42:33.666Z"
   },
   {
    "duration": 0,
    "start_time": "2023-01-16T21:42:33.667Z"
   },
   {
    "duration": 0,
    "start_time": "2023-01-16T21:42:33.668Z"
   },
   {
    "duration": 0,
    "start_time": "2023-01-16T21:42:33.669Z"
   },
   {
    "duration": 1281,
    "start_time": "2023-01-16T21:42:46.645Z"
   },
   {
    "duration": 0,
    "start_time": "2023-01-16T21:42:47.929Z"
   },
   {
    "duration": 0,
    "start_time": "2023-01-16T21:42:47.930Z"
   },
   {
    "duration": 0,
    "start_time": "2023-01-16T21:42:47.931Z"
   },
   {
    "duration": 0,
    "start_time": "2023-01-16T21:42:47.932Z"
   },
   {
    "duration": 0,
    "start_time": "2023-01-16T21:42:47.933Z"
   },
   {
    "duration": 0,
    "start_time": "2023-01-16T21:42:47.934Z"
   },
   {
    "duration": 0,
    "start_time": "2023-01-16T21:42:47.935Z"
   },
   {
    "duration": 0,
    "start_time": "2023-01-16T21:42:47.936Z"
   },
   {
    "duration": 0,
    "start_time": "2023-01-16T21:42:47.937Z"
   },
   {
    "duration": 0,
    "start_time": "2023-01-16T21:42:47.938Z"
   },
   {
    "duration": 0,
    "start_time": "2023-01-16T21:42:47.939Z"
   },
   {
    "duration": 0,
    "start_time": "2023-01-16T21:42:47.940Z"
   },
   {
    "duration": 0,
    "start_time": "2023-01-16T21:42:47.941Z"
   },
   {
    "duration": 0,
    "start_time": "2023-01-16T21:42:47.941Z"
   },
   {
    "duration": 0,
    "start_time": "2023-01-16T21:42:47.942Z"
   },
   {
    "duration": 0,
    "start_time": "2023-01-16T21:42:47.943Z"
   },
   {
    "duration": 0,
    "start_time": "2023-01-16T21:42:47.944Z"
   },
   {
    "duration": 0,
    "start_time": "2023-01-16T21:42:47.945Z"
   },
   {
    "duration": 0,
    "start_time": "2023-01-16T21:42:47.946Z"
   },
   {
    "duration": 0,
    "start_time": "2023-01-16T21:42:47.946Z"
   },
   {
    "duration": 0,
    "start_time": "2023-01-16T21:42:47.948Z"
   },
   {
    "duration": 0,
    "start_time": "2023-01-16T21:42:47.949Z"
   },
   {
    "duration": 0,
    "start_time": "2023-01-16T21:42:47.950Z"
   },
   {
    "duration": 0,
    "start_time": "2023-01-16T21:42:47.950Z"
   },
   {
    "duration": 0,
    "start_time": "2023-01-16T21:42:47.952Z"
   },
   {
    "duration": 0,
    "start_time": "2023-01-16T21:42:47.953Z"
   },
   {
    "duration": 0,
    "start_time": "2023-01-16T21:42:47.954Z"
   },
   {
    "duration": 0,
    "start_time": "2023-01-16T21:42:47.955Z"
   },
   {
    "duration": 0,
    "start_time": "2023-01-16T21:42:47.956Z"
   },
   {
    "duration": 0,
    "start_time": "2023-01-16T21:42:47.957Z"
   },
   {
    "duration": 0,
    "start_time": "2023-01-16T21:42:47.958Z"
   },
   {
    "duration": 0,
    "start_time": "2023-01-16T21:42:47.959Z"
   },
   {
    "duration": 0,
    "start_time": "2023-01-16T21:42:47.960Z"
   },
   {
    "duration": 0,
    "start_time": "2023-01-16T21:42:47.961Z"
   },
   {
    "duration": 0,
    "start_time": "2023-01-16T21:42:47.962Z"
   },
   {
    "duration": 0,
    "start_time": "2023-01-16T21:42:47.963Z"
   },
   {
    "duration": 0,
    "start_time": "2023-01-16T21:42:47.964Z"
   },
   {
    "duration": 0,
    "start_time": "2023-01-16T21:42:47.965Z"
   },
   {
    "duration": 0,
    "start_time": "2023-01-16T21:42:47.965Z"
   },
   {
    "duration": 12,
    "start_time": "2023-01-17T17:07:47.537Z"
   },
   {
    "duration": 29487,
    "start_time": "2023-01-17T17:07:57.907Z"
   },
   {
    "duration": 2495,
    "start_time": "2023-01-17T17:08:27.396Z"
   },
   {
    "duration": 24,
    "start_time": "2023-01-17T17:08:29.893Z"
   },
   {
    "duration": 20,
    "start_time": "2023-01-17T17:08:29.920Z"
   },
   {
    "duration": 10,
    "start_time": "2023-01-17T17:08:29.942Z"
   },
   {
    "duration": 8,
    "start_time": "2023-01-17T17:08:29.953Z"
   },
   {
    "duration": 42,
    "start_time": "2023-01-17T17:08:29.963Z"
   },
   {
    "duration": 1793,
    "start_time": "2023-01-17T17:08:30.007Z"
   },
   {
    "duration": 22,
    "start_time": "2023-01-17T17:08:31.802Z"
   },
   {
    "duration": 67,
    "start_time": "2023-01-17T17:08:31.826Z"
   },
   {
    "duration": 18,
    "start_time": "2023-01-17T17:08:31.894Z"
   },
   {
    "duration": 7,
    "start_time": "2023-01-17T17:08:31.914Z"
   },
   {
    "duration": 9,
    "start_time": "2023-01-17T17:08:31.923Z"
   },
   {
    "duration": 6,
    "start_time": "2023-01-17T17:08:31.934Z"
   },
   {
    "duration": 6,
    "start_time": "2023-01-17T17:08:31.941Z"
   },
   {
    "duration": 9,
    "start_time": "2023-01-17T17:08:31.948Z"
   },
   {
    "duration": 40844,
    "start_time": "2023-01-17T17:08:31.958Z"
   },
   {
    "duration": 8,
    "start_time": "2023-01-17T17:09:12.804Z"
   },
   {
    "duration": 5167,
    "start_time": "2023-01-17T17:09:12.813Z"
   },
   {
    "duration": 2010,
    "start_time": "2023-01-17T17:09:17.982Z"
   },
   {
    "duration": 161,
    "start_time": "2023-01-17T17:09:19.994Z"
   },
   {
    "duration": 9370,
    "start_time": "2023-01-17T17:09:20.158Z"
   },
   {
    "duration": 1487,
    "start_time": "2023-01-17T17:09:29.529Z"
   },
   {
    "duration": 29724,
    "start_time": "2023-01-17T17:28:28.475Z"
   },
   {
    "duration": 2298,
    "start_time": "2023-01-17T17:28:58.201Z"
   },
   {
    "duration": 24,
    "start_time": "2023-01-17T17:29:00.501Z"
   },
   {
    "duration": 38,
    "start_time": "2023-01-17T17:29:00.529Z"
   },
   {
    "duration": 39,
    "start_time": "2023-01-17T17:29:00.570Z"
   },
   {
    "duration": 33,
    "start_time": "2023-01-17T17:29:00.611Z"
   },
   {
    "duration": 54,
    "start_time": "2023-01-17T17:29:00.646Z"
   },
   {
    "duration": 30163,
    "start_time": "2023-01-17T17:29:07.210Z"
   },
   {
    "duration": 762,
    "start_time": "2023-01-17T17:29:37.375Z"
   },
   {
    "duration": 25,
    "start_time": "2023-01-17T17:29:38.139Z"
   },
   {
    "duration": 29,
    "start_time": "2023-01-17T17:29:38.169Z"
   },
   {
    "duration": 10,
    "start_time": "2023-01-17T17:29:38.200Z"
   },
   {
    "duration": 7,
    "start_time": "2023-01-17T17:29:38.212Z"
   },
   {
    "duration": 20,
    "start_time": "2023-01-17T17:29:38.221Z"
   },
   {
    "duration": 1700,
    "start_time": "2023-01-17T17:29:38.243Z"
   },
   {
    "duration": 22,
    "start_time": "2023-01-17T17:29:39.945Z"
   },
   {
    "duration": 67,
    "start_time": "2023-01-17T17:29:39.969Z"
   },
   {
    "duration": 17,
    "start_time": "2023-01-17T17:29:40.038Z"
   },
   {
    "duration": 7,
    "start_time": "2023-01-17T17:29:40.057Z"
   },
   {
    "duration": 31,
    "start_time": "2023-01-17T17:29:40.066Z"
   },
   {
    "duration": 7,
    "start_time": "2023-01-17T17:29:40.098Z"
   },
   {
    "duration": 5,
    "start_time": "2023-01-17T17:29:40.107Z"
   },
   {
    "duration": 7,
    "start_time": "2023-01-17T17:29:40.113Z"
   },
   {
    "duration": 42203,
    "start_time": "2023-01-17T17:29:40.121Z"
   },
   {
    "duration": 6,
    "start_time": "2023-01-17T17:30:22.326Z"
   },
   {
    "duration": 5118,
    "start_time": "2023-01-17T17:30:22.334Z"
   },
   {
    "duration": 1857,
    "start_time": "2023-01-17T17:30:27.454Z"
   },
   {
    "duration": 254,
    "start_time": "2023-01-17T17:30:29.313Z"
   },
   {
    "duration": 9470,
    "start_time": "2023-01-17T17:30:29.569Z"
   },
   {
    "duration": 1529,
    "start_time": "2023-01-17T17:30:39.041Z"
   },
   {
    "duration": 13,
    "start_time": "2023-01-17T18:11:35.826Z"
   },
   {
    "duration": 31604,
    "start_time": "2023-01-17T18:11:37.415Z"
   },
   {
    "duration": 2551,
    "start_time": "2023-01-17T18:12:09.022Z"
   },
   {
    "duration": 33,
    "start_time": "2023-01-17T18:12:11.575Z"
   },
   {
    "duration": 24,
    "start_time": "2023-01-17T18:12:11.613Z"
   },
   {
    "duration": 15,
    "start_time": "2023-01-17T18:12:11.639Z"
   },
   {
    "duration": 28,
    "start_time": "2023-01-17T18:12:11.656Z"
   },
   {
    "duration": 42,
    "start_time": "2023-01-17T18:12:11.693Z"
   },
   {
    "duration": 1786,
    "start_time": "2023-01-17T18:12:11.738Z"
   },
   {
    "duration": 24,
    "start_time": "2023-01-17T18:12:13.525Z"
   },
   {
    "duration": 73,
    "start_time": "2023-01-17T18:12:13.552Z"
   },
   {
    "duration": 19,
    "start_time": "2023-01-17T18:12:13.627Z"
   },
   {
    "duration": 7,
    "start_time": "2023-01-17T18:12:13.647Z"
   },
   {
    "duration": 8,
    "start_time": "2023-01-17T18:12:13.656Z"
   },
   {
    "duration": 31,
    "start_time": "2023-01-17T18:12:13.665Z"
   },
   {
    "duration": 13,
    "start_time": "2023-01-17T18:12:13.698Z"
   },
   {
    "duration": 8,
    "start_time": "2023-01-17T18:12:13.712Z"
   },
   {
    "duration": 43073,
    "start_time": "2023-01-17T18:12:13.721Z"
   },
   {
    "duration": 8,
    "start_time": "2023-01-17T18:12:56.795Z"
   },
   {
    "duration": 5181,
    "start_time": "2023-01-17T18:12:56.806Z"
   },
   {
    "duration": 2046,
    "start_time": "2023-01-17T18:13:01.988Z"
   },
   {
    "duration": 156,
    "start_time": "2023-01-17T18:13:04.036Z"
   },
   {
    "duration": 9565,
    "start_time": "2023-01-17T18:13:04.193Z"
   },
   {
    "duration": 1659,
    "start_time": "2023-01-17T18:13:13.760Z"
   }
  ],
  "kernelspec": {
   "display_name": "Python 3 (ipykernel)",
   "language": "python",
   "name": "python3"
  },
  "language_info": {
   "codemirror_mode": {
    "name": "ipython",
    "version": 3
   },
   "file_extension": ".py",
   "mimetype": "text/x-python",
   "name": "python",
   "nbconvert_exporter": "python",
   "pygments_lexer": "ipython3",
   "version": "3.10.2"
  },
  "toc": {
   "base_numbering": 1,
   "nav_menu": {},
   "number_sections": true,
   "sideBar": true,
   "skip_h1_title": true,
   "title_cell": "Table of Contents",
   "title_sidebar": "Contents",
   "toc_cell": false,
   "toc_position": {
    "height": "calc(100% - 180px)",
    "left": "10px",
    "top": "150px",
    "width": "323.556px"
   },
   "toc_section_display": true,
   "toc_window_display": false
  }
 },
 "nbformat": 4,
 "nbformat_minor": 2
}
